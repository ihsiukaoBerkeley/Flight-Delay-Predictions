{
 "cells": [
  {
   "cell_type": "markdown",
   "metadata": {
    "application/vnd.databricks.v1+cell": {
     "cellMetadata": {
      "byteLimit": 2048000,
      "rowLimit": 10000
     },
     "inputWidgets": {},
     "nuid": "8e5effc1-d7bc-4936-b9c4-3e89cbd104ba",
     "showTitle": false,
     "title": ""
    }
   },
   "source": [
    "# W261 Team 4_1 - Phase 3"
   ]
  },
  {
   "cell_type": "markdown",
   "metadata": {
    "application/vnd.databricks.v1+cell": {
     "cellMetadata": {
      "byteLimit": 2048000,
      "rowLimit": 10000
     },
     "inputWidgets": {},
     "nuid": "04d69960-4af0-4a49-b763-0b26ca7c7642",
     "showTitle": false,
     "title": ""
    }
   },
   "source": [
    "## Team\n",
    "\n",
    "- Maegan Kornexl: mkornexl@berkeley.edu\n",
    "- I-Hsiu Kao: ihsiukao@berkeley.edu\n",
    "- Nathan Arias: nathanarias@berkeley.edu\n",
    "- Thomas Dolan: tdolan@berkeley.edu"
   ]
  },
  {
   "cell_type": "markdown",
   "metadata": {
    "application/vnd.databricks.v1+cell": {
     "cellMetadata": {
      "byteLimit": 2048000,
      "rowLimit": 10000
     },
     "inputWidgets": {},
     "nuid": "ea304a41-15f2-4c0c-a55e-1c702d596100",
     "showTitle": false,
     "title": ""
    }
   },
   "source": [
    "## Phase Leader Plan \n",
    "\n",
    "| Phase   | Leader |\n",
    "|--------|-------|\n",
    "| Phase I - Project Plan: Describe Datasets, Tasks, and Metrics      | Thomas Dolan    |\n",
    "| Phase II EDA, Baseline Pipeline On All Data    | Nathan Arias     |\n",
    "| Phase III - Advanced Model Architectures and Loss Functions | I-Hsiu Kao    |\n",
    "| Phase IV - Final Project | Maegan Kornexl    |\n"
   ]
  },
  {
   "cell_type": "markdown",
   "metadata": {
    "application/vnd.databricks.v1+cell": {
     "cellMetadata": {
      "byteLimit": 2048000,
      "rowLimit": 10000
     },
     "inputWidgets": {},
     "nuid": "91b37af0-6dbe-4678-a1f3-54514e627598",
     "showTitle": false,
     "title": ""
    }
   },
   "source": [
    "## Credit Assignment \n",
    "\n",
    "| Responsibility   | Team Member(s) | Time Commitment (Hrs)| \n",
    "|--------|-------|-------|\n",
    "| Four Tables and OTPW EDA| I-Hsiu Kao, Nathan Arias        | 10, 5|\n",
    "| Model Building                                   |  Nathan Arias, I-Hsiu Kao, Maegan Kornexl  |  4, 5, 7|\n",
    "| Abstract, Project Description                                             | Maegan Kornexl| 3|\n",
    "| Map out pipelines for cleaning, preprocessing, modeling                                              | Thomas Dolan| 7 |\n",
    "| Presentation Preparation                    | All    |  5|\n",
    "| Blob Storage and Team Permissions| Thomas Dolan | 2|"
   ]
  },
  {
   "cell_type": "markdown",
   "metadata": {
    "application/vnd.databricks.v1+cell": {
     "cellMetadata": {
      "byteLimit": 2048000,
      "rowLimit": 10000
     },
     "inputWidgets": {},
     "nuid": "162cb8c5-0879-469a-a12f-853bc96dd1cb",
     "showTitle": false,
     "title": ""
    }
   },
   "source": [
    "#Project Description"
   ]
  },
  {
   "cell_type": "markdown",
   "metadata": {
    "application/vnd.databricks.v1+cell": {
     "cellMetadata": {
      "byteLimit": 2048000,
      "rowLimit": 10000
     },
     "inputWidgets": {},
     "nuid": "2d9e3092-422b-45c0-81e3-d974228497d3",
     "showTitle": false,
     "title": ""
    }
   },
   "source": [
    "## Abstract\n",
    "\n"
   ]
  },
  {
   "cell_type": "code",
   "execution_count": 0,
   "metadata": {
    "application/vnd.databricks.v1+cell": {
     "cellMetadata": {
      "byteLimit": 2048000,
      "rowLimit": 10000
     },
     "inputWidgets": {},
     "nuid": "ba4c4566-7d9f-4984-ac2b-324cd883349d",
     "showTitle": false,
     "title": ""
    },
    "jupyter": {
     "source_hidden": true
    }
   },
   "outputs": [],
   "source": [
    "import numpy as np\n",
    "import seaborn as sns\n",
    "import pandas as pd \n",
    "import plotly.express as px \n",
    "import matplotlib.pyplot as plt\n",
    "import pyspark.sql.functions as F\n",
    "from pyspark.sql.functions import col\n",
    "from pyspark.sql.functions import udf\n",
    "from pyspark.sql.types import ArrayType, StringType, DoubleType, FloatType, IntegerType\n",
    "import re\n",
    "from pyspark.sql.functions import array_contains\n",
    "from pyspark.ml.feature import StringIndexer, OneHotEncoder\n",
    "from pyspark.ml import Pipeline\n",
    "from pyspark.ml.feature import VectorAssembler\n",
    "from pyspark.ml.regression import LinearRegression\n",
    "from pyspark.ml.evaluation import RegressionEvaluator\n",
    "from pyspark.ml.classification import LogisticRegression\n",
    "from pyspark.ml.feature import VectorAssembler\n",
    "from pyspark.ml.feature import StandardScaler\n",
    "from pyspark.mllib.evaluation import MulticlassMetrics\n",
    "from pyspark.ml.evaluation import BinaryClassificationEvaluator, MulticlassClassificationEvaluator\n",
    "from pyspark.ml.tuning import CrossValidator, ParamGridBuilder"
   ]
  },
  {
   "cell_type": "code",
   "execution_count": 0,
   "metadata": {
    "application/vnd.databricks.v1+cell": {
     "cellMetadata": {
      "byteLimit": 2048000,
      "rowLimit": 10000
     },
     "inputWidgets": {},
     "nuid": "a0a7a5df-73e6-47ce-84a7-a62e83d3cbae",
     "showTitle": false,
     "title": ""
    }
   },
   "outputs": [],
   "source": [
    "## Place this cell in any team notebook that needs access to the team cloud storage.\n",
    "# The following blob storage is accessible to team members only (read and write)\n",
    "# access key is valid til TTL\n",
    "# after that you will need to create a new SAS key and authenticate access again via DataBrick command line\n",
    "blob_container  = \"blobstorage261\"       # The name of your container created in https://portal.azure.com\n",
    "storage_account = \"thdolan\"  # The name of your Storage account created in https://portal.azure.com\n",
    "secret_scope = \"group_4_1_scope\"          # The name of the scope created in your local computer using the Databricks CLI\n",
    "secret_key   = \"group_4_1_key\"             # The name of the secret key created in your local computer using the Databricks CLI\n",
    "team_blob_url   = f\"wasbs://{blob_container}@{storage_account}.blob.core.windows.net\"  #points to the root of your team storage bucket\n",
    "# the 261 course blob storage is mounted here.\n",
    "mids261_mount_path = \"/mnt/mids-w261\"\n",
    "# SAS Token: Grant the team limited access to Azure Storage resources\n",
    "spark.conf.set(\n",
    "  f\"fs.azure.sas.{blob_container}.{storage_account}.blob.core.windows.net\",\n",
    "  dbutils.secrets.get(scope = secret_scope, key = secret_key)\n",
    ")"
   ]
  },
  {
   "cell_type": "code",
   "execution_count": 0,
   "metadata": {
    "application/vnd.databricks.v1+cell": {
     "cellMetadata": {
      "byteLimit": 2048000,
      "rowLimit": 10000
     },
     "inputWidgets": {},
     "nuid": "1e0a6a10-22b1-44a0-ac1d-1a5bdfb9a299",
     "showTitle": false,
     "title": ""
    }
   },
   "outputs": [],
   "source": [
    "df_otpw_1yr = spark.read.parquet(f\"{team_blob_url}/2015_1yr_train\")\n",
    "\n",
    "otpw_null_dataframe_1yr =  df_otpw_1yr.select([F.count(F.when(F.col(c).isNull(),c)).alias(c) for c in df_otpw_1yr.columns])\n",
    "row_count_otpw_1yr = df_otpw_1yr.count()\n",
    "otpw_null_count_pandas_1yr = otpw_null_dataframe_1yr.toPandas().transpose().reset_index().rename(columns = {0:'nullCount'})\n",
    "otpw_null_count_pandas_1yr['percentNull'] = np.round(otpw_null_count_pandas_1yr['nullCount'] * 100 / row_count_otpw_1yr , 2)\n",
    "\n",
    "drop_df_1yr = otpw_null_count_pandas_1yr[otpw_null_count_pandas_1yr['percentNull'] >= 90]\n",
    "df_otpw_1yr = df_otpw_1yr.drop(*drop_df_1yr['index'].tolist())\n",
    "\n",
    "drop_list_1yr = [i for i in df_otpw_1yr.columns if 'Backup' in i]\n",
    "drop_list_1yr.append('WindEquipmentChangeDate')\n",
    "drop_list_1yr.append('_row_desc')\n",
    "df_otpw_1yr = df_otpw_1yr.drop(*drop_list_1yr)"
   ]
  },
  {
   "cell_type": "markdown",
   "metadata": {
    "application/vnd.databricks.v1+cell": {
     "cellMetadata": {},
     "inputWidgets": {},
     "nuid": "f2fe1f9b-bfb2-4ad2-aab7-4b23d95dcc09",
     "showTitle": false,
     "title": ""
    }
   },
   "source": [
    "#Feature Selection"
   ]
  },
  {
   "cell_type": "markdown",
   "metadata": {
    "application/vnd.databricks.v1+cell": {
     "cellMetadata": {
      "byteLimit": 2048000,
      "rowLimit": 10000
     },
     "inputWidgets": {},
     "nuid": "aa32371f-1bc6-49d5-8dbd-63f1e25cf7c5",
     "showTitle": false,
     "title": ""
    }
   },
   "source": [
    "###PageRank (weighted graph based on traffic)"
   ]
  },
  {
   "cell_type": "markdown",
   "metadata": {
    "application/vnd.databricks.v1+cell": {
     "cellMetadata": {
      "byteLimit": 2048000,
      "rowLimit": 10000
     },
     "inputWidgets": {},
     "nuid": "aa2e0b62-ee20-4513-abb3-082c2bd30923",
     "showTitle": false,
     "title": ""
    }
   },
   "source": [
    "####function to calculate pagerank and output dictionary (takes a pyspark dataframe as input)"
   ]
  },
  {
   "cell_type": "code",
   "execution_count": 0,
   "metadata": {
    "application/vnd.databricks.v1+cell": {
     "cellMetadata": {
      "byteLimit": 2048000,
      "rowLimit": 10000
     },
     "inputWidgets": {},
     "nuid": "cdfd6718-d9d7-41fd-9e0e-5efae1416f6a",
     "showTitle": false,
     "title": ""
    }
   },
   "outputs": [],
   "source": [
    "import networkx as nx\n",
    "\n",
    "def getPageRankDict(df, alpha_val = 0.85):\n",
    "    df_station = spark.read.parquet(f\"dbfs:/mnt/mids-w261/datasets_final_project_2022/stations_data/stations_with_neighbors.parquet/\")\n",
    "    station_list = df_station.select('neighbor_id').distinct().toPandas()['neighbor_id'].tolist()\n",
    "    traffic_df = df.groupBy(\"origin_station_id\", \"dest_station_id\").count().toPandas()\n",
    "    traffic_dict = dict(zip(tuple(zip(traffic_df.origin_station_id, traffic_df.dest_station_id)), traffic_df['count']))\n",
    "    for i in station_list:\n",
    "        for j in station_list:\n",
    "            if i == j:\n",
    "                continue\n",
    "            if traffic_dict.get((i, j), None) is None:\n",
    "                traffic_dict[(i, j)] = 0\n",
    "\n",
    "    station_graph = nx.DiGraph()\n",
    "\n",
    "    for key, value in traffic_dict.items():\n",
    "        station_graph.add_edge(key[0], key[1], weight = value)\n",
    "\n",
    "    pagerank_dict = nx.pagerank(station_graph, alpha = alpha_val, personalization=None, weight='weight')\n",
    "\n",
    "    return pagerank_dict"
   ]
  },
  {
   "cell_type": "markdown",
   "metadata": {
    "application/vnd.databricks.v1+cell": {
     "cellMetadata": {
      "byteLimit": 2048000,
      "rowLimit": 10000
     },
     "inputWidgets": {},
     "nuid": "18cf6cc1-d708-44d7-9d3b-64b09e9e78b0",
     "showTitle": false,
     "title": ""
    }
   },
   "source": [
    "####usage example - add a new column to the dataframe called pagerank based on original station id"
   ]
  },
  {
   "cell_type": "code",
   "execution_count": 0,
   "metadata": {
    "application/vnd.databricks.v1+cell": {
     "cellMetadata": {
      "byteLimit": 2048000,
      "rowLimit": 10000
     },
     "inputWidgets": {},
     "nuid": "931ce948-72a6-44ee-9eef-4dd697ded980",
     "showTitle": false,
     "title": ""
    }
   },
   "outputs": [
    {
     "output_type": "display_data",
     "data": {
      "text/html": [
       "<style scoped>\n",
       "  .table-result-container {\n",
       "    max-height: 300px;\n",
       "    overflow: auto;\n",
       "  }\n",
       "  table, th, td {\n",
       "    border: 1px solid black;\n",
       "    border-collapse: collapse;\n",
       "  }\n",
       "  th, td {\n",
       "    padding: 5px;\n",
       "  }\n",
       "  th {\n",
       "    text-align: left;\n",
       "  }\n",
       "</style><div class='table-result-container'><table class='table-result'><thead style='background-color: white'><tr><th>pagerank</th></tr></thead><tbody><tr><td>0.007669244039577444</td></tr><tr><td>0.01522773944258833</td></tr><tr><td>0.01522773944258833</td></tr><tr><td>0.02387840925887629</td></tr><tr><td>0.02387840925887629</td></tr><tr><td>0.02387840925887629</td></tr><tr><td>0.0014683392707141186</td></tr><tr><td>0.0014683392707141186</td></tr><tr><td>0.0017661098521892678</td></tr><tr><td>0.0017661098521892678</td></tr></tbody></table></div>"
      ]
     },
     "metadata": {
      "application/vnd.databricks.v1+output": {
       "addedWidgets": {},
       "aggData": [],
       "aggError": "",
       "aggOverflow": false,
       "aggSchema": [],
       "aggSeriesLimitReached": false,
       "aggType": "",
       "arguments": {},
       "columnCustomDisplayInfos": {},
       "data": [
        [
         0.007669244039577444
        ],
        [
         0.01522773944258833
        ],
        [
         0.01522773944258833
        ],
        [
         0.02387840925887629
        ],
        [
         0.02387840925887629
        ],
        [
         0.02387840925887629
        ],
        [
         0.0014683392707141186
        ],
        [
         0.0014683392707141186
        ],
        [
         0.0017661098521892678
        ],
        [
         0.0017661098521892678
        ]
       ],
       "datasetInfos": [],
       "dbfsResultPath": null,
       "isJsonSchema": true,
       "metadata": {},
       "overflow": false,
       "plotOptions": {
        "customPlotOptions": {},
        "displayType": "table",
        "pivotAggregation": null,
        "pivotColumns": null,
        "xColumns": null,
        "yColumns": null
       },
       "removedWidgets": [],
       "schema": [
        {
         "metadata": "{}",
         "name": "pagerank",
         "type": "\"double\""
        }
       ],
       "type": "table"
      }
     },
     "output_type": "display_data"
    }
   ],
   "source": [
    "pagerank_dict = getPageRankDict(df_otpw_1yr, 0.85)\n",
    "\n",
    "def parse_pagerank(value):\n",
    "    if value is None or value == \"\":\n",
    "        return None\n",
    "    if pagerank_dict.get(value, None) is None:\n",
    "        return None\n",
    "    else:\n",
    "        return pagerank_dict[value]\n",
    "        \n",
    "\n",
    "parse_pagerank_udf = udf(parse_pagerank, DoubleType())\n",
    "\n",
    "df_otpw_1yr = df_otpw_1yr.withColumn(\"pagerank\", parse_pagerank_udf(df_otpw_1yr.origin_station_id))\n",
    "display(df_otpw_1yr.select('pagerank').limit(10))"
   ]
  },
  {
   "cell_type": "code",
   "execution_count": 0,
   "metadata": {
    "application/vnd.databricks.v1+cell": {
     "cellMetadata": {
      "byteLimit": 2048000,
      "rowLimit": 10000
     },
     "inputWidgets": {},
     "nuid": "e47ff712-de78-4655-b790-7b86a3201505",
     "showTitle": false,
     "title": ""
    },
    "jupyter": {
     "source_hidden": true
    }
   },
   "outputs": [
    {
     "output_type": "stream",
     "name": "stderr",
     "output_type": "stream",
     "text": [
      "/root/.ipykernel/2479/command-3944613696800767-3413019930:9: SettingWithCopyWarning: \nA value is trying to be set on a copy of a slice from a DataFrame.\nTry using .loc[row_indexer,col_indexer] = value instead\n\nSee the caveats in the documentation: https://pandas.pydata.org/pandas-docs/stable/user_guide/indexing.html#returning-a-view-versus-a-copy\n  df[col] = pd.to_numeric(df[col], errors='coerce')\n"
     ]
    }
   ],
   "source": [
    "#1 year sampling at 0.01 - 1 percent\n",
    "df_otpw_1yr_sample = df_otpw_1yr.sample(0.01, 0).toPandas()\n",
    "\n",
    "zcale_cols = [\"CRS_ELAPSED_TIME\", \"DISTANCE\", \"ELEVATION\", \"HourlyAltimeterSetting\",\"HourlyDewPointTemperature\", \"HourlyDryBulbTemperature\",\"HourlyPrecipitation\", \"HourlyPressureChange\", \"HourlyRelativeHumidity\", \"HourlySeaLevelPressure\", \"HourlyStationPressure\", \"HourlyVisibility\", \"HourlyWetBulbTemperature\", \"HourlyWindSpeed\", \"DEP_DEL15\"]\n",
    "\n",
    "df = df_otpw_1yr_sample[df_otpw_1yr_sample.columns.intersection(zcale_cols)]\n",
    "\n",
    "for col in df.columns:\n",
    "    df[col] = pd.to_numeric(df[col], errors='coerce')\n"
   ]
  },
  {
   "cell_type": "markdown",
   "metadata": {
    "application/vnd.databricks.v1+cell": {
     "cellMetadata": {
      "byteLimit": 2048000,
      "rowLimit": 10000
     },
     "inputWidgets": {},
     "nuid": "ce3a38ae-1638-4f77-9d87-bb8fbc94c338",
     "showTitle": false,
     "title": ""
    }
   },
   "source": [
    "#### Numeric Feature Exploratory Data Analysis \n",
    "**Goal**: Identify meaningful differences between delayed and not delayed flights within weather numeric feature distributions\\\n",
    "**Approach**: Sample 1% of data within 1 year OTPW dataset. Determine frequency of various unique numeric features, we analyze the following:\n",
    "\n",
    "|             ||\n",
    "|------------------------------| ------------------------------|\n",
    "| CRS_ELAPSED_TIME             |HourlyPressureChange        |\n",
    "| DISTANCE                    | HourlyRelativeHumidity      |\n",
    "| ELEVATION                   | HourlyRelativeHumidity      |\n",
    "| HourlyAltimeterSetting      | HourlySeaLevelPressure      |\n",
    "| HourlyDewPointTemperature   | HourlyStationPressure       |\n",
    "| HourlyDryBulbTemperature    | HourlyStationPressure       |\n",
    "| HourlyPrecipitation         | HourlyVisibility            |\n",
    "| HourlyPressureChange        | HourlyWetBulbTemperature    |\n",
    "| HourlyRelativeHumidity      | HourlyWindSpeed             |\n",
    "\n",
    "**Observations:**\n",
    "Subtle difference in distributions, difficult to tell if they will contribute largely to our classification. **HourlyStationPressure** seems to have a shifted right distribution. Ultimately, we ran ridge regression then pick only top performing numeric variables related to the outcome variable of delays."
   ]
  },
  {
   "cell_type": "code",
   "execution_count": 0,
   "metadata": {
    "application/vnd.databricks.v1+cell": {
     "cellMetadata": {
      "byteLimit": 2048000,
      "rowLimit": 10000
     },
     "inputWidgets": {},
     "nuid": "f117634e-a3f3-47aa-a56c-f76deba94a36",
     "showTitle": false,
     "title": ""
    }
   },
   "outputs": [
    {
     "output_type": "display_data",
     "data": {
      "text/html": [
       "<html>\n",
       "<head><meta charset=\"utf-8\" /></head>\n",
       "<body>\n",
       "    <div>            <script src=\"https://cdnjs.cloudflare.com/ajax/libs/mathjax/2.7.5/MathJax.js?config=TeX-AMS-MML_SVG\"></script><script type=\"text/javascript\">if (window.MathJax && window.MathJax.Hub && window.MathJax.Hub.Config) {window.MathJax.Hub.Config({SVG: {font: \"STIX-Web\"}});}</script>                <script type=\"text/javascript\">window.PlotlyConfig = {MathJaxConfig: 'local'};</script>\n",
       "        <script src=\"https://cdn.plot.ly/plotly-2.12.1.min.js\"></script>                <div id=\"376107db-d7d7-4249-bf47-15f608f6ef71\" class=\"plotly-graph-div\" style=\"height:400px; width:100%;\"></div>            <script type=\"text/javascript\">                                    window.PLOTLYENV=window.PLOTLYENV || {};                                    if (document.getElementById(\"376107db-d7d7-4249-bf47-15f608f6ef71\")) {                    Plotly.newPlot(                        \"376107db-d7d7-4249-bf47-15f608f6ef71\",                        [{\"alignmentgroup\":\"True\",\"bingroup\":\"x\",\"histfunc\":\"sum\",\"histnorm\":\"percent\",\"hovertemplate\":\"Delayed=0.0<br>CRS_ELAPSED_TIME=%{x}<br>percent of sum of Count=%{y}<extra></extra>\",\"legendgroup\":\"0.0\",\"marker\":{\"color\":\"#636efa\",\"opacity\":0.5,\"pattern\":{\"shape\":\"\"},\"line\":{\"color\":\"white\",\"width\":1}},\"name\":\"0.0\",\"offsetgroup\":\"0.0\",\"orientation\":\"v\",\"showlegend\":true,\"x\":[20.0,23.0,24.0,29.0,30.0,31.0,32.0,33.0,34.0,35.0,36.0,37.0,38.0,39.0,40.0,41.0,42.0,43.0,44.0,45.0,46.0,47.0,48.0,49.0,50.0,51.0,52.0,53.0,54.0,55.0,56.0,57.0,58.0,59.0,60.0,61.0,62.0,63.0,64.0,65.0,66.0,67.0,68.0,69.0,70.0,71.0,72.0,73.0,74.0,75.0,76.0,77.0,78.0,79.0,80.0,81.0,82.0,83.0,84.0,85.0,86.0,87.0,88.0,89.0,90.0,91.0,92.0,93.0,94.0,95.0,96.0,97.0,98.0,99.0,100.0,101.0,102.0,103.0,104.0,105.0,106.0,107.0,108.0,109.0,110.0,111.0,112.0,113.0,114.0,115.0,116.0,117.0,118.0,119.0,120.0,121.0,122.0,123.0,124.0,125.0,126.0,127.0,128.0,129.0,130.0,131.0,132.0,133.0,134.0,135.0,136.0,137.0,138.0,139.0,140.0,141.0,142.0,143.0,144.0,145.0,146.0,147.0,148.0,149.0,150.0,151.0,152.0,153.0,154.0,155.0,156.0,157.0,158.0,159.0,160.0,161.0,162.0,163.0,164.0,165.0,166.0,167.0,168.0,169.0,170.0,171.0,172.0,173.0,174.0,175.0,176.0,177.0,178.0,179.0,180.0,181.0,182.0,183.0,184.0,185.0,186.0,187.0,188.0,189.0,190.0,191.0,192.0,193.0,194.0,195.0,196.0,197.0,198.0,199.0,200.0,201.0,202.0,203.0,204.0,205.0,206.0,207.0,208.0,209.0,210.0,211.0,212.0,213.0,214.0,215.0,216.0,217.0,218.0,219.0,220.0,221.0,222.0,223.0,224.0,225.0,226.0,227.0,228.0,229.0,230.0,231.0,232.0,233.0,234.0,235.0,236.0,237.0,238.0,239.0,240.0,241.0,242.0,243.0,244.0,245.0,246.0,247.0,248.0,249.0,250.0,251.0,252.0,253.0,254.0,255.0,256.0,257.0,258.0,259.0,260.0,261.0,262.0,263.0,264.0,265.0,266.0,267.0,268.0,269.0,270.0,271.0,272.0,273.0,274.0,275.0,276.0,277.0,278.0,279.0,280.0,281.0,282.0,283.0,284.0,285.0,286.0,287.0,288.0,289.0,290.0,291.0,292.0,293.0,294.0,295.0,296.0,297.0,298.0,299.0,300.0,301.0,302.0,303.0,304.0,305.0,306.0,307.0,308.0,309.0,310.0,311.0,312.0,313.0,314.0,315.0,316.0,317.0,318.0,319.0,320.0,321.0,322.0,323.0,324.0,325.0,326.0,327.0,328.0,329.0,330.0,331.0,332.0,333.0,334.0,335.0,336.0,337.0,338.0,339.0,340.0,341.0,342.0,343.0,344.0,345.0,346.0,347.0,348.0,349.0,350.0,351.0,352.0,353.0,354.0,355.0,356.0,357.0,358.0,359.0,360.0,361.0,362.0,363.0,364.0,365.0,366.0,367.0,368.0,369.0,370.0,371.0,372.0,373.0,374.0,375.0,376.0,377.0,378.0,379.0,380.0,381.0,382.0,383.0,384.0,385.0,386.0,387.0,388.0,389.0,390.0,391.0,392.0,393.0,394.0,395.0,396.0,397.0,398.0,399.0,400.0,401.0,402.0,403.0,404.0,405.0,406.0,407.0,408.0,409.0,410.0,415.0,418.0,421.0,436.0,443.0,457.0,459.0,460.0,461.0,470.0,494.0,496.0,497.0,498.0,500.0,508.0,513.0,514.0,516.0,520.0,541.0,543.0,544.0,556.0,561.0,562.0,575.0,585.0,614.0,640.0,647.0,655.0,665.0,675.0],\"xaxis\":\"x\",\"y\":[1,2,1,1,4,1,37,35,13,22,38,66,24,28,21,14,26,67,58,58,52,51,60,76,152,95,106,88,91,208,90,126,119,116,420,99,141,134,164,547,133,166,173,177,567,154,175,190,177,589,222,186,190,185,652,161,196,195,199,660,198,165,189,170,636,188,211,177,210,541,199,184,200,188,439,178,153,170,184,471,172,188,197,198,490,183,156,200,192,447,191,149,165,201,437,165,144,164,188,364,127,150,149,153,376,138,117,133,152,338,123,132,129,120,357,119,113,112,123,334,109,95,112,132,364,129,113,138,154,419,123,145,127,140,390,134,107,110,137,343,117,109,119,115,276,101,96,112,77,250,69,76,80,88,215,79,84,85,96,155,54,85,76,57,130,62,60,53,64,154,39,41,44,72,155,51,67,56,56,133,33,42,51,49,132,56,39,41,39,107,35,35,41,52,96,34,35,39,27,89,28,45,19,37,81,53,37,47,54,133,46,34,40,35,137,22,26,34,35,87,23,37,34,29,76,31,34,21,34,74,27,23,26,35,67,31,15,23,34,78,31,26,22,11,62,20,22,19,27,56,15,30,20,20,49,21,20,24,16,51,11,17,9,21,58,13,18,20,20,31,23,15,20,19,36,9,12,18,23,36,23,19,25,26,39,16,13,22,29,35,24,20,17,23,61,19,25,18,27,57,16,22,28,24,46,18,22,20,27,47,22,26,12,24,43,26,20,17,18,31,6,14,16,9,42,9,15,16,10,33,12,11,10,7,18,10,7,15,13,25,10,11,10,8,19,9,7,14,15,21,10,12,6,8,23,12,8,10,11,19,11,11,4,10,24,9,8,5,9,15,4,6,5,4,20,7,2,4,3,14,4,1,4,3,5,1,1,1,2,1,2,2,1,1,2,2,1,4,4,1,1,1,1,1,2,1,2,1,1,1,1,2,1,1,1,1,1,2,1],\"yaxis\":\"y\",\"type\":\"histogram\"},{\"alignmentgroup\":\"True\",\"hovertemplate\":\"Delayed=0.0<br>CRS_ELAPSED_TIME=%{x}<extra></extra>\",\"legendgroup\":\"0.0\",\"marker\":{\"color\":\"#636efa\",\"line\":{\"color\":\"white\",\"width\":1}},\"name\":\"0.0\",\"notched\":true,\"offsetgroup\":\"0.0\",\"showlegend\":false,\"x\":[20.0,23.0,24.0,29.0,30.0,31.0,32.0,33.0,34.0,35.0,36.0,37.0,38.0,39.0,40.0,41.0,42.0,43.0,44.0,45.0,46.0,47.0,48.0,49.0,50.0,51.0,52.0,53.0,54.0,55.0,56.0,57.0,58.0,59.0,60.0,61.0,62.0,63.0,64.0,65.0,66.0,67.0,68.0,69.0,70.0,71.0,72.0,73.0,74.0,75.0,76.0,77.0,78.0,79.0,80.0,81.0,82.0,83.0,84.0,85.0,86.0,87.0,88.0,89.0,90.0,91.0,92.0,93.0,94.0,95.0,96.0,97.0,98.0,99.0,100.0,101.0,102.0,103.0,104.0,105.0,106.0,107.0,108.0,109.0,110.0,111.0,112.0,113.0,114.0,115.0,116.0,117.0,118.0,119.0,120.0,121.0,122.0,123.0,124.0,125.0,126.0,127.0,128.0,129.0,130.0,131.0,132.0,133.0,134.0,135.0,136.0,137.0,138.0,139.0,140.0,141.0,142.0,143.0,144.0,145.0,146.0,147.0,148.0,149.0,150.0,151.0,152.0,153.0,154.0,155.0,156.0,157.0,158.0,159.0,160.0,161.0,162.0,163.0,164.0,165.0,166.0,167.0,168.0,169.0,170.0,171.0,172.0,173.0,174.0,175.0,176.0,177.0,178.0,179.0,180.0,181.0,182.0,183.0,184.0,185.0,186.0,187.0,188.0,189.0,190.0,191.0,192.0,193.0,194.0,195.0,196.0,197.0,198.0,199.0,200.0,201.0,202.0,203.0,204.0,205.0,206.0,207.0,208.0,209.0,210.0,211.0,212.0,213.0,214.0,215.0,216.0,217.0,218.0,219.0,220.0,221.0,222.0,223.0,224.0,225.0,226.0,227.0,228.0,229.0,230.0,231.0,232.0,233.0,234.0,235.0,236.0,237.0,238.0,239.0,240.0,241.0,242.0,243.0,244.0,245.0,246.0,247.0,248.0,249.0,250.0,251.0,252.0,253.0,254.0,255.0,256.0,257.0,258.0,259.0,260.0,261.0,262.0,263.0,264.0,265.0,266.0,267.0,268.0,269.0,270.0,271.0,272.0,273.0,274.0,275.0,276.0,277.0,278.0,279.0,280.0,281.0,282.0,283.0,284.0,285.0,286.0,287.0,288.0,289.0,290.0,291.0,292.0,293.0,294.0,295.0,296.0,297.0,298.0,299.0,300.0,301.0,302.0,303.0,304.0,305.0,306.0,307.0,308.0,309.0,310.0,311.0,312.0,313.0,314.0,315.0,316.0,317.0,318.0,319.0,320.0,321.0,322.0,323.0,324.0,325.0,326.0,327.0,328.0,329.0,330.0,331.0,332.0,333.0,334.0,335.0,336.0,337.0,338.0,339.0,340.0,341.0,342.0,343.0,344.0,345.0,346.0,347.0,348.0,349.0,350.0,351.0,352.0,353.0,354.0,355.0,356.0,357.0,358.0,359.0,360.0,361.0,362.0,363.0,364.0,365.0,366.0,367.0,368.0,369.0,370.0,371.0,372.0,373.0,374.0,375.0,376.0,377.0,378.0,379.0,380.0,381.0,382.0,383.0,384.0,385.0,386.0,387.0,388.0,389.0,390.0,391.0,392.0,393.0,394.0,395.0,396.0,397.0,398.0,399.0,400.0,401.0,402.0,403.0,404.0,405.0,406.0,407.0,408.0,409.0,410.0,415.0,418.0,421.0,436.0,443.0,457.0,459.0,460.0,461.0,470.0,494.0,496.0,497.0,498.0,500.0,508.0,513.0,514.0,516.0,520.0,541.0,543.0,544.0,556.0,561.0,562.0,575.0,585.0,614.0,640.0,647.0,655.0,665.0,675.0],\"xaxis\":\"x2\",\"yaxis\":\"y2\",\"type\":\"box\"},{\"alignmentgroup\":\"True\",\"bingroup\":\"x\",\"histfunc\":\"sum\",\"histnorm\":\"percent\",\"hovertemplate\":\"Delayed=1.0<br>CRS_ELAPSED_TIME=%{x}<br>percent of sum of Count=%{y}<extra></extra>\",\"legendgroup\":\"1.0\",\"marker\":{\"color\":\"#EF553B\",\"opacity\":0.5,\"pattern\":{\"shape\":\"\"},\"line\":{\"color\":\"white\",\"width\":1}},\"name\":\"1.0\",\"offsetgroup\":\"1.0\",\"orientation\":\"v\",\"showlegend\":true,\"x\":[20.0,21.0,24.0,30.0,33.0,34.0,35.0,36.0,37.0,38.0,39.0,40.0,41.0,42.0,43.0,44.0,45.0,46.0,47.0,48.0,49.0,50.0,51.0,52.0,53.0,54.0,55.0,56.0,57.0,58.0,59.0,60.0,61.0,62.0,63.0,64.0,65.0,66.0,67.0,68.0,69.0,70.0,71.0,72.0,73.0,74.0,75.0,76.0,77.0,78.0,79.0,80.0,81.0,82.0,83.0,84.0,85.0,86.0,87.0,88.0,89.0,90.0,91.0,92.0,93.0,94.0,95.0,96.0,97.0,98.0,99.0,100.0,101.0,102.0,103.0,104.0,105.0,106.0,107.0,108.0,109.0,110.0,111.0,112.0,113.0,114.0,115.0,116.0,117.0,118.0,119.0,120.0,121.0,122.0,123.0,124.0,125.0,126.0,127.0,128.0,129.0,130.0,131.0,132.0,133.0,134.0,135.0,136.0,137.0,138.0,139.0,140.0,141.0,142.0,143.0,144.0,145.0,146.0,147.0,148.0,149.0,150.0,151.0,152.0,153.0,154.0,155.0,156.0,157.0,158.0,159.0,160.0,161.0,162.0,163.0,164.0,165.0,166.0,167.0,168.0,169.0,170.0,171.0,172.0,173.0,174.0,175.0,176.0,177.0,178.0,179.0,180.0,181.0,182.0,183.0,184.0,185.0,186.0,187.0,188.0,189.0,190.0,191.0,192.0,193.0,194.0,195.0,196.0,197.0,198.0,199.0,200.0,201.0,202.0,203.0,204.0,205.0,206.0,207.0,208.0,209.0,210.0,211.0,212.0,213.0,214.0,215.0,216.0,217.0,218.0,219.0,220.0,221.0,222.0,223.0,224.0,225.0,226.0,227.0,228.0,229.0,230.0,231.0,232.0,233.0,234.0,235.0,236.0,237.0,238.0,239.0,240.0,241.0,242.0,243.0,244.0,245.0,246.0,247.0,248.0,249.0,250.0,251.0,252.0,253.0,254.0,255.0,256.0,257.0,258.0,259.0,260.0,261.0,262.0,263.0,264.0,265.0,266.0,267.0,268.0,269.0,270.0,271.0,272.0,273.0,274.0,275.0,276.0,277.0,278.0,279.0,280.0,281.0,282.0,283.0,284.0,285.0,286.0,287.0,288.0,289.0,290.0,291.0,292.0,293.0,294.0,295.0,296.0,297.0,298.0,299.0,300.0,301.0,302.0,303.0,304.0,305.0,306.0,307.0,308.0,309.0,310.0,311.0,312.0,313.0,314.0,315.0,316.0,317.0,318.0,319.0,320.0,321.0,322.0,323.0,324.0,325.0,326.0,327.0,328.0,329.0,330.0,331.0,332.0,333.0,334.0,335.0,336.0,337.0,338.0,339.0,340.0,341.0,342.0,343.0,344.0,345.0,346.0,347.0,349.0,350.0,351.0,352.0,353.0,354.0,355.0,356.0,357.0,358.0,359.0,360.0,361.0,362.0,363.0,364.0,365.0,366.0,367.0,368.0,369.0,370.0,371.0,372.0,373.0,374.0,375.0,376.0,377.0,378.0,379.0,380.0,381.0,383.0,384.0,385.0,386.0,387.0,389.0,390.0,391.0,392.0,393.0,394.0,395.0,396.0,397.0,398.0,399.0,400.0,401.0,402.0,403.0,405.0,407.0,408.0,413.0,428.0,470.0,485.0,494.0,505.0,543.0,583.0,587.0],\"xaxis\":\"x\",\"y\":[1,1,1,1,3,1,6,2,4,3,4,4,5,5,8,13,8,10,24,13,16,34,22,13,17,13,51,25,13,22,21,108,22,28,31,32,120,29,22,24,24,154,44,28,44,40,175,60,38,32,54,179,48,38,33,26,182,39,40,40,37,128,35,41,49,44,123,39,44,40,41,109,46,27,46,40,98,31,26,40,46,103,30,36,39,31,122,35,34,40,32,107,26,27,42,41,97,20,39,29,33,93,23,27,36,35,115,28,31,24,31,105,20,29,22,33,83,28,19,39,27,113,31,28,34,32,96,27,32,24,30,93,38,20,28,42,93,32,23,21,32,76,33,21,31,28,44,28,34,25,21,67,21,21,22,17,49,19,23,18,18,36,11,18,10,14,38,9,18,14,14,40,10,8,20,13,46,8,14,16,7,26,17,10,10,10,35,5,6,12,6,30,8,8,7,16,20,6,11,8,19,26,8,13,8,8,28,9,6,8,14,32,8,12,6,8,19,6,15,7,4,24,7,8,10,13,22,6,5,9,7,25,8,4,7,11,18,10,5,9,8,17,4,4,4,6,13,10,10,4,2,12,6,3,7,5,12,3,4,6,3,14,4,8,7,5,7,7,2,3,6,9,2,2,6,3,14,3,4,2,1,12,6,7,4,2,12,5,4,4,3,17,5,4,5,7,8,4,6,8,3,10,12,5,1,8,9,6,2,8,1,9,3,3,1,4,5,6,2,3,7,1,3,4,6,5,1,2,1,4,5,3,4,3,1,1,2,2,4,3,3,3,1,2,3,2,4,3,4,1,3,3,3,3,2,4,3,1,6,1,2,2,3,6,1,3,2,2,5,6,1,1,2,1,1,2,2,2,2,1,1,1,1,1],\"yaxis\":\"y\",\"type\":\"histogram\"},{\"alignmentgroup\":\"True\",\"hovertemplate\":\"Delayed=1.0<br>CRS_ELAPSED_TIME=%{x}<extra></extra>\",\"legendgroup\":\"1.0\",\"marker\":{\"color\":\"#EF553B\",\"line\":{\"color\":\"white\",\"width\":1}},\"name\":\"1.0\",\"notched\":true,\"offsetgroup\":\"1.0\",\"showlegend\":false,\"x\":[20.0,21.0,24.0,30.0,33.0,34.0,35.0,36.0,37.0,38.0,39.0,40.0,41.0,42.0,43.0,44.0,45.0,46.0,47.0,48.0,49.0,50.0,51.0,52.0,53.0,54.0,55.0,56.0,57.0,58.0,59.0,60.0,61.0,62.0,63.0,64.0,65.0,66.0,67.0,68.0,69.0,70.0,71.0,72.0,73.0,74.0,75.0,76.0,77.0,78.0,79.0,80.0,81.0,82.0,83.0,84.0,85.0,86.0,87.0,88.0,89.0,90.0,91.0,92.0,93.0,94.0,95.0,96.0,97.0,98.0,99.0,100.0,101.0,102.0,103.0,104.0,105.0,106.0,107.0,108.0,109.0,110.0,111.0,112.0,113.0,114.0,115.0,116.0,117.0,118.0,119.0,120.0,121.0,122.0,123.0,124.0,125.0,126.0,127.0,128.0,129.0,130.0,131.0,132.0,133.0,134.0,135.0,136.0,137.0,138.0,139.0,140.0,141.0,142.0,143.0,144.0,145.0,146.0,147.0,148.0,149.0,150.0,151.0,152.0,153.0,154.0,155.0,156.0,157.0,158.0,159.0,160.0,161.0,162.0,163.0,164.0,165.0,166.0,167.0,168.0,169.0,170.0,171.0,172.0,173.0,174.0,175.0,176.0,177.0,178.0,179.0,180.0,181.0,182.0,183.0,184.0,185.0,186.0,187.0,188.0,189.0,190.0,191.0,192.0,193.0,194.0,195.0,196.0,197.0,198.0,199.0,200.0,201.0,202.0,203.0,204.0,205.0,206.0,207.0,208.0,209.0,210.0,211.0,212.0,213.0,214.0,215.0,216.0,217.0,218.0,219.0,220.0,221.0,222.0,223.0,224.0,225.0,226.0,227.0,228.0,229.0,230.0,231.0,232.0,233.0,234.0,235.0,236.0,237.0,238.0,239.0,240.0,241.0,242.0,243.0,244.0,245.0,246.0,247.0,248.0,249.0,250.0,251.0,252.0,253.0,254.0,255.0,256.0,257.0,258.0,259.0,260.0,261.0,262.0,263.0,264.0,265.0,266.0,267.0,268.0,269.0,270.0,271.0,272.0,273.0,274.0,275.0,276.0,277.0,278.0,279.0,280.0,281.0,282.0,283.0,284.0,285.0,286.0,287.0,288.0,289.0,290.0,291.0,292.0,293.0,294.0,295.0,296.0,297.0,298.0,299.0,300.0,301.0,302.0,303.0,304.0,305.0,306.0,307.0,308.0,309.0,310.0,311.0,312.0,313.0,314.0,315.0,316.0,317.0,318.0,319.0,320.0,321.0,322.0,323.0,324.0,325.0,326.0,327.0,328.0,329.0,330.0,331.0,332.0,333.0,334.0,335.0,336.0,337.0,338.0,339.0,340.0,341.0,342.0,343.0,344.0,345.0,346.0,347.0,349.0,350.0,351.0,352.0,353.0,354.0,355.0,356.0,357.0,358.0,359.0,360.0,361.0,362.0,363.0,364.0,365.0,366.0,367.0,368.0,369.0,370.0,371.0,372.0,373.0,374.0,375.0,376.0,377.0,378.0,379.0,380.0,381.0,383.0,384.0,385.0,386.0,387.0,389.0,390.0,391.0,392.0,393.0,394.0,395.0,396.0,397.0,398.0,399.0,400.0,401.0,402.0,403.0,405.0,407.0,408.0,413.0,428.0,470.0,485.0,494.0,505.0,543.0,583.0,587.0],\"xaxis\":\"x2\",\"yaxis\":\"y2\",\"type\":\"box\"}],                        {\"template\":{\"data\":{\"histogram2dcontour\":[{\"type\":\"histogram2dcontour\",\"colorbar\":{\"outlinewidth\":0,\"ticks\":\"\"},\"colorscale\":[[0.0,\"#0d0887\"],[0.1111111111111111,\"#46039f\"],[0.2222222222222222,\"#7201a8\"],[0.3333333333333333,\"#9c179e\"],[0.4444444444444444,\"#bd3786\"],[0.5555555555555556,\"#d8576b\"],[0.6666666666666666,\"#ed7953\"],[0.7777777777777778,\"#fb9f3a\"],[0.8888888888888888,\"#fdca26\"],[1.0,\"#f0f921\"]]}],\"choropleth\":[{\"type\":\"choropleth\",\"colorbar\":{\"outlinewidth\":0,\"ticks\":\"\"}}],\"histogram2d\":[{\"type\":\"histogram2d\",\"colorbar\":{\"outlinewidth\":0,\"ticks\":\"\"},\"colorscale\":[[0.0,\"#0d0887\"],[0.1111111111111111,\"#46039f\"],[0.2222222222222222,\"#7201a8\"],[0.3333333333333333,\"#9c179e\"],[0.4444444444444444,\"#bd3786\"],[0.5555555555555556,\"#d8576b\"],[0.6666666666666666,\"#ed7953\"],[0.7777777777777778,\"#fb9f3a\"],[0.8888888888888888,\"#fdca26\"],[1.0,\"#f0f921\"]]}],\"heatmap\":[{\"type\":\"heatmap\",\"colorbar\":{\"outlinewidth\":0,\"ticks\":\"\"},\"colorscale\":[[0.0,\"#0d0887\"],[0.1111111111111111,\"#46039f\"],[0.2222222222222222,\"#7201a8\"],[0.3333333333333333,\"#9c179e\"],[0.4444444444444444,\"#bd3786\"],[0.5555555555555556,\"#d8576b\"],[0.6666666666666666,\"#ed7953\"],[0.7777777777777778,\"#fb9f3a\"],[0.8888888888888888,\"#fdca26\"],[1.0,\"#f0f921\"]]}],\"heatmapgl\":[{\"type\":\"heatmapgl\",\"colorbar\":{\"outlinewidth\":0,\"ticks\":\"\"},\"colorscale\":[[0.0,\"#0d0887\"],[0.1111111111111111,\"#46039f\"],[0.2222222222222222,\"#7201a8\"],[0.3333333333333333,\"#9c179e\"],[0.4444444444444444,\"#bd3786\"],[0.5555555555555556,\"#d8576b\"],[0.6666666666666666,\"#ed7953\"],[0.7777777777777778,\"#fb9f3a\"],[0.8888888888888888,\"#fdca26\"],[1.0,\"#f0f921\"]]}],\"contourcarpet\":[{\"type\":\"contourcarpet\",\"colorbar\":{\"outlinewidth\":0,\"ticks\":\"\"}}],\"contour\":[{\"type\":\"contour\",\"colorbar\":{\"outlinewidth\":0,\"ticks\":\"\"},\"colorscale\":[[0.0,\"#0d0887\"],[0.1111111111111111,\"#46039f\"],[0.2222222222222222,\"#7201a8\"],[0.3333333333333333,\"#9c179e\"],[0.4444444444444444,\"#bd3786\"],[0.5555555555555556,\"#d8576b\"],[0.6666666666666666,\"#ed7953\"],[0.7777777777777778,\"#fb9f3a\"],[0.8888888888888888,\"#fdca26\"],[1.0,\"#f0f921\"]]}],\"surface\":[{\"type\":\"surface\",\"colorbar\":{\"outlinewidth\":0,\"ticks\":\"\"},\"colorscale\":[[0.0,\"#0d0887\"],[0.1111111111111111,\"#46039f\"],[0.2222222222222222,\"#7201a8\"],[0.3333333333333333,\"#9c179e\"],[0.4444444444444444,\"#bd3786\"],[0.5555555555555556,\"#d8576b\"],[0.6666666666666666,\"#ed7953\"],[0.7777777777777778,\"#fb9f3a\"],[0.8888888888888888,\"#fdca26\"],[1.0,\"#f0f921\"]]}],\"mesh3d\":[{\"type\":\"mesh3d\",\"colorbar\":{\"outlinewidth\":0,\"ticks\":\"\"}}],\"scatter\":[{\"fillpattern\":{\"fillmode\":\"overlay\",\"size\":10,\"solidity\":0.2},\"type\":\"scatter\"}],\"parcoords\":[{\"type\":\"parcoords\",\"line\":{\"colorbar\":{\"outlinewidth\":0,\"ticks\":\"\"}}}],\"scatterpolargl\":[{\"type\":\"scatterpolargl\",\"marker\":{\"colorbar\":{\"outlinewidth\":0,\"ticks\":\"\"}}}],\"bar\":[{\"error_x\":{\"color\":\"#2a3f5f\"},\"error_y\":{\"color\":\"#2a3f5f\"},\"marker\":{\"line\":{\"color\":\"#E5ECF6\",\"width\":0.5},\"pattern\":{\"fillmode\":\"overlay\",\"size\":10,\"solidity\":0.2}},\"type\":\"bar\"}],\"scattergeo\":[{\"type\":\"scattergeo\",\"marker\":{\"colorbar\":{\"outlinewidth\":0,\"ticks\":\"\"}}}],\"scatterpolar\":[{\"type\":\"scatterpolar\",\"marker\":{\"colorbar\":{\"outlinewidth\":0,\"ticks\":\"\"}}}],\"histogram\":[{\"marker\":{\"pattern\":{\"fillmode\":\"overlay\",\"size\":10,\"solidity\":0.2}},\"type\":\"histogram\"}],\"scattergl\":[{\"type\":\"scattergl\",\"marker\":{\"colorbar\":{\"outlinewidth\":0,\"ticks\":\"\"}}}],\"scatter3d\":[{\"type\":\"scatter3d\",\"line\":{\"colorbar\":{\"outlinewidth\":0,\"ticks\":\"\"}},\"marker\":{\"colorbar\":{\"outlinewidth\":0,\"ticks\":\"\"}}}],\"scattermapbox\":[{\"type\":\"scattermapbox\",\"marker\":{\"colorbar\":{\"outlinewidth\":0,\"ticks\":\"\"}}}],\"scatterternary\":[{\"type\":\"scatterternary\",\"marker\":{\"colorbar\":{\"outlinewidth\":0,\"ticks\":\"\"}}}],\"scattercarpet\":[{\"type\":\"scattercarpet\",\"marker\":{\"colorbar\":{\"outlinewidth\":0,\"ticks\":\"\"}}}],\"carpet\":[{\"aaxis\":{\"endlinecolor\":\"#2a3f5f\",\"gridcolor\":\"white\",\"linecolor\":\"white\",\"minorgridcolor\":\"white\",\"startlinecolor\":\"#2a3f5f\"},\"baxis\":{\"endlinecolor\":\"#2a3f5f\",\"gridcolor\":\"white\",\"linecolor\":\"white\",\"minorgridcolor\":\"white\",\"startlinecolor\":\"#2a3f5f\"},\"type\":\"carpet\"}],\"table\":[{\"cells\":{\"fill\":{\"color\":\"#EBF0F8\"},\"line\":{\"color\":\"white\"}},\"header\":{\"fill\":{\"color\":\"#C8D4E3\"},\"line\":{\"color\":\"white\"}},\"type\":\"table\"}],\"barpolar\":[{\"marker\":{\"line\":{\"color\":\"#E5ECF6\",\"width\":0.5},\"pattern\":{\"fillmode\":\"overlay\",\"size\":10,\"solidity\":0.2}},\"type\":\"barpolar\"}],\"pie\":[{\"automargin\":true,\"type\":\"pie\"}]},\"layout\":{\"autotypenumbers\":\"strict\",\"colorway\":[\"#636efa\",\"#EF553B\",\"#00cc96\",\"#ab63fa\",\"#FFA15A\",\"#19d3f3\",\"#FF6692\",\"#B6E880\",\"#FF97FF\",\"#FECB52\"],\"font\":{\"color\":\"#2a3f5f\"},\"hovermode\":\"closest\",\"hoverlabel\":{\"align\":\"left\"},\"paper_bgcolor\":\"white\",\"plot_bgcolor\":\"#E5ECF6\",\"polar\":{\"bgcolor\":\"#E5ECF6\",\"angularaxis\":{\"gridcolor\":\"white\",\"linecolor\":\"white\",\"ticks\":\"\"},\"radialaxis\":{\"gridcolor\":\"white\",\"linecolor\":\"white\",\"ticks\":\"\"}},\"ternary\":{\"bgcolor\":\"#E5ECF6\",\"aaxis\":{\"gridcolor\":\"white\",\"linecolor\":\"white\",\"ticks\":\"\"},\"baxis\":{\"gridcolor\":\"white\",\"linecolor\":\"white\",\"ticks\":\"\"},\"caxis\":{\"gridcolor\":\"white\",\"linecolor\":\"white\",\"ticks\":\"\"}},\"coloraxis\":{\"colorbar\":{\"outlinewidth\":0,\"ticks\":\"\"}},\"colorscale\":{\"sequential\":[[0.0,\"#0d0887\"],[0.1111111111111111,\"#46039f\"],[0.2222222222222222,\"#7201a8\"],[0.3333333333333333,\"#9c179e\"],[0.4444444444444444,\"#bd3786\"],[0.5555555555555556,\"#d8576b\"],[0.6666666666666666,\"#ed7953\"],[0.7777777777777778,\"#fb9f3a\"],[0.8888888888888888,\"#fdca26\"],[1.0,\"#f0f921\"]],\"sequentialminus\":[[0.0,\"#0d0887\"],[0.1111111111111111,\"#46039f\"],[0.2222222222222222,\"#7201a8\"],[0.3333333333333333,\"#9c179e\"],[0.4444444444444444,\"#bd3786\"],[0.5555555555555556,\"#d8576b\"],[0.6666666666666666,\"#ed7953\"],[0.7777777777777778,\"#fb9f3a\"],[0.8888888888888888,\"#fdca26\"],[1.0,\"#f0f921\"]],\"diverging\":[[0,\"#8e0152\"],[0.1,\"#c51b7d\"],[0.2,\"#de77ae\"],[0.3,\"#f1b6da\"],[0.4,\"#fde0ef\"],[0.5,\"#f7f7f7\"],[0.6,\"#e6f5d0\"],[0.7,\"#b8e186\"],[0.8,\"#7fbc41\"],[0.9,\"#4d9221\"],[1,\"#276419\"]]},\"xaxis\":{\"gridcolor\":\"white\",\"linecolor\":\"white\",\"ticks\":\"\",\"title\":{\"standoff\":15},\"zerolinecolor\":\"white\",\"automargin\":true,\"zerolinewidth\":2},\"yaxis\":{\"gridcolor\":\"white\",\"linecolor\":\"white\",\"ticks\":\"\",\"title\":{\"standoff\":15},\"zerolinecolor\":\"white\",\"automargin\":true,\"zerolinewidth\":2},\"scene\":{\"xaxis\":{\"backgroundcolor\":\"#E5ECF6\",\"gridcolor\":\"white\",\"linecolor\":\"white\",\"showbackground\":true,\"ticks\":\"\",\"zerolinecolor\":\"white\",\"gridwidth\":2},\"yaxis\":{\"backgroundcolor\":\"#E5ECF6\",\"gridcolor\":\"white\",\"linecolor\":\"white\",\"showbackground\":true,\"ticks\":\"\",\"zerolinecolor\":\"white\",\"gridwidth\":2},\"zaxis\":{\"backgroundcolor\":\"#E5ECF6\",\"gridcolor\":\"white\",\"linecolor\":\"white\",\"showbackground\":true,\"ticks\":\"\",\"zerolinecolor\":\"white\",\"gridwidth\":2}},\"shapedefaults\":{\"line\":{\"color\":\"#2a3f5f\"}},\"annotationdefaults\":{\"arrowcolor\":\"#2a3f5f\",\"arrowhead\":0,\"arrowwidth\":1},\"geo\":{\"bgcolor\":\"white\",\"landcolor\":\"#E5ECF6\",\"subunitcolor\":\"white\",\"showland\":true,\"showlakes\":true,\"lakecolor\":\"white\"},\"title\":{\"x\":0.05},\"mapbox\":{\"style\":\"light\"}}},\"xaxis\":{\"anchor\":\"y\",\"domain\":[0.0,1.0],\"title\":{\"text\":\"CRS_ELAPSED_TIME\"}},\"yaxis\":{\"anchor\":\"x\",\"domain\":[0.0,0.7326],\"title\":{\"text\":\"percent of sum of Count\"}},\"xaxis2\":{\"anchor\":\"y2\",\"domain\":[0.0,1.0],\"matches\":\"x\",\"showticklabels\":false,\"showgrid\":true},\"yaxis2\":{\"anchor\":\"x2\",\"domain\":[0.7426,1.0],\"matches\":\"y2\",\"showticklabels\":false,\"showline\":false,\"ticks\":\"\",\"showgrid\":false},\"legend\":{\"title\":{\"text\":\"Delayed\"},\"tracegroupgap\":0},\"margin\":{\"t\":60},\"barmode\":\"overlay\",\"title\":{\"text\":\"<b>CRS_ELAPSED_TIME</b> Feature: No Delay/Delay\",\"x\":0.5},\"height\":400},                        {\"responsive\": true}                    )                };                            </script>        </div>\n",
       "</body>\n",
       "</html>"
      ]
     },
     "metadata": {},
     "output_type": "display_data"
    },
    {
     "output_type": "display_data",
     "data": {
      "text/html": [
       "<html>\n",
       "<head><meta charset=\"utf-8\" /></head>\n",
       "<body>\n",
       "    <div>            <script src=\"https://cdnjs.cloudflare.com/ajax/libs/mathjax/2.7.5/MathJax.js?config=TeX-AMS-MML_SVG\"></script><script type=\"text/javascript\">if (window.MathJax && window.MathJax.Hub && window.MathJax.Hub.Config) {window.MathJax.Hub.Config({SVG: {font: \"STIX-Web\"}});}</script>                <script type=\"text/javascript\">window.PlotlyConfig = {MathJaxConfig: 'local'};</script>\n",
       "        <script src=\"https://cdn.plot.ly/plotly-2.12.1.min.js\"></script>                <div id=\"d0d97e00-e60c-4c77-ad7d-686f6514beee\" class=\"plotly-graph-div\" style=\"height:400px; width:100%;\"></div>            <script type=\"text/javascript\">                                    window.PLOTLYENV=window.PLOTLYENV || {};                                    if (document.getElementById(\"d0d97e00-e60c-4c77-ad7d-686f6514beee\")) {                    Plotly.newPlot(                        \"d0d97e00-e60c-4c77-ad7d-686f6514beee\",                        [{\"alignmentgroup\":\"True\",\"bingroup\":\"x\",\"histfunc\":\"sum\",\"histnorm\":\"percent\",\"hovertemplate\":\"Delayed=0.0<br>DISTANCE=%{x}<br>percent of sum of Count=%{y}<extra></extra>\",\"legendgroup\":\"0.0\",\"marker\":{\"color\":\"#636efa\",\"opacity\":0.5,\"pattern\":{\"shape\":\"\"},\"line\":{\"color\":\"white\",\"width\":1}},\"name\":\"0.0\",\"offsetgroup\":\"0.0\",\"orientation\":\"v\",\"showlegend\":true,\"x\":[31.0,41.0,67.0,68.0,69.0,73.0,74.0,76.0,77.0,82.0,83.0,84.0,86.0,89.0,91.0,93.0,94.0,95.0,96.0,98.0,100.0,102.0,106.0,108.0,109.0,110.0,113.0,114.0,116.0,118.0,119.0,120.0,121.0,122.0,123.0,125.0,127.0,128.0,129.0,130.0,132.0,133.0,134.0,135.0,137.0,139.0,140.0,143.0,144.0,145.0,147.0,148.0,150.0,151.0,152.0,153.0,155.0,156.0,157.0,158.0,159.0,160.0,163.0,164.0,166.0,168.0,169.0,170.0,173.0,174.0,175.0,177.0,179.0,181.0,182.0,183.0,184.0,187.0,188.0,189.0,190.0,191.0,192.0,193.0,195.0,196.0,197.0,198.0,199.0,200.0,201.0,204.0,205.0,207.0,208.0,209.0,210.0,212.0,213.0,214.0,215.0,216.0,220.0,221.0,222.0,223.0,224.0,226.0,227.0,228.0,229.0,230.0,231.0,232.0,234.0,235.0,236.0,237.0,238.0,239.0,240.0,241.0,243.0,246.0,247.0,248.0,250.0,251.0,252.0,253.0,255.0,257.0,258.0,259.0,260.0,261.0,262.0,264.0,265.0,266.0,268.0,269.0,270.0,271.0,272.0,273.0,274.0,277.0,280.0,281.0,282.0,283.0,284.0,285.0,287.0,288.0,289.0,290.0,292.0,293.0,294.0,295.0,296.0,297.0,298.0,299.0,300.0,301.0,302.0,303.0,304.0,305.0,306.0,307.0,308.0,309.0,310.0,311.0,312.0,313.0,314.0,315.0,316.0,317.0,318.0,319.0,320.0,321.0,323.0,325.0,326.0,327.0,328.0,329.0,331.0,332.0,333.0,334.0,335.0,337.0,338.0,340.0,341.0,342.0,343.0,345.0,346.0,347.0,349.0,350.0,351.0,352.0,353.0,354.0,356.0,357.0,358.0,359.0,361.0,362.0,363.0,364.0,365.0,366.0,368.0,369.0,370.0,371.0,372.0,373.0,374.0,375.0,376.0,377.0,378.0,382.0,383.0,386.0,387.0,388.0,390.0,391.0,393.0,394.0,395.0,396.0,397.0,398.0,399.0,401.0,402.0,403.0,404.0,405.0,406.0,407.0,408.0,409.0,410.0,411.0,412.0,413.0,414.0,416.0,417.0,419.0,420.0,421.0,422.0,423.0,425.0,426.0,427.0,429.0,430.0,431.0,432.0,433.0,435.0,436.0,438.0,439.0,440.0,441.0,442.0,444.0,445.0,446.0,447.0,448.0,449.0,451.0,452.0,453.0,455.0,456.0,457.0,458.0,459.0,460.0,461.0,462.0,463.0,464.0,466.0,468.0,469.0,471.0,472.0,473.0,474.0,475.0,476.0,479.0,480.0,481.0,482.0,483.0,484.0,485.0,486.0,487.0,488.0,489.0,491.0,493.0,494.0,495.0,496.0,500.0,501.0,502.0,503.0,505.0,507.0,508.0,509.0,510.0,511.0,512.0,515.0,516.0,517.0,519.0,521.0,522.0,523.0,524.0,525.0,526.0,528.0,529.0,530.0,531.0,532.0,533.0,534.0,536.0,537.0,539.0,541.0,542.0,543.0,544.0,545.0,546.0,547.0,548.0,549.0,550.0,551.0,552.0,554.0,557.0,558.0,561.0,562.0,563.0,565.0,566.0,567.0,569.0,570.0,571.0,572.0,573.0,574.0,575.0,576.0,577.0,578.0,579.0,580.0,581.0,583.0,584.0,585.0,587.0,588.0,589.0,590.0,591.0,592.0,594.0,595.0,596.0,597.0,598.0,599.0,600.0,601.0,602.0,603.0,604.0,605.0,606.0,607.0,610.0,611.0,612.0,615.0,616.0,617.0,618.0,620.0,621.0,622.0,623.0,624.0,625.0,626.0,627.0,628.0,629.0,630.0,631.0,632.0,633.0,634.0,636.0,637.0,638.0,639.0,640.0,641.0,642.0,643.0,644.0,645.0,646.0,647.0,649.0,650.0,651.0,654.0,655.0,657.0,659.0,661.0,663.0,665.0,666.0,667.0,668.0,669.0,670.0,671.0,672.0,674.0,675.0,677.0,678.0,679.0,680.0,682.0,683.0,684.0,685.0,687.0,689.0,690.0,691.0,692.0,693.0,694.0,695.0,696.0,697.0,700.0,701.0,704.0,705.0,707.0,708.0,710.0,711.0,712.0,714.0,715.0,716.0,717.0,718.0,719.0,720.0,721.0,722.0,723.0,725.0,726.0,727.0,728.0,731.0,733.0,735.0,737.0,738.0,740.0,742.0,743.0,744.0,745.0,746.0,748.0,749.0,750.0,751.0,752.0,753.0,755.0,756.0,757.0,758.0,759.0,760.0,761.0,762.0,763.0,764.0,765.0,767.0,769.0,770.0,771.0,772.0,773.0,774.0,775.0,776.0,777.0,779.0,780.0,781.0,782.0,783.0,784.0,785.0,786.0,787.0,788.0,789.0,792.0,793.0,794.0,795.0,798.0,799.0,802.0,803.0,804.0,805.0,806.0,807.0,808.0,809.0,811.0,812.0,813.0,814.0,816.0,817.0,818.0,819.0,820.0,821.0,822.0,824.0,825.0,826.0,828.0,829.0,831.0,833.0,834.0,835.0,836.0,837.0,838.0,840.0,841.0,842.0,843.0,844.0,845.0,846.0,848.0,849.0,850.0,851.0,852.0,853.0,854.0,857.0,859.0,860.0,861.0,862.0,864.0,866.0,867.0,868.0,869.0,871.0,872.0,873.0,874.0,878.0,879.0,882.0,883.0,887.0,888.0,889.0,891.0,892.0,894.0,895.0,896.0,898.0,899.0,900.0,901.0,902.0,903.0,907.0,908.0,909.0,911.0,912.0,913.0,916.0,917.0,918.0,919.0,920.0,921.0,922.0,925.0,926.0,927.0,928.0,929.0,930.0,931.0,932.0,933.0,934.0,935.0,936.0,937.0,942.0,944.0,945.0,946.0,948.0,949.0,950.0,951.0,952.0,954.0,955.0,956.0,957.0,961.0,964.0,965.0,966.0,967.0,968.0,969.0,970.0,971.0,972.0,973.0,975.0,977.0,978.0,979.0,980.0,981.0,982.0,983.0,984.0,985.0,986.0,987.0,989.0,990.0,991.0,992.0,993.0,994.0,996.0,997.0,998.0,999.0,1005.0,1007.0,1008.0,1009.0,1010.0,1011.0,1012.0,1013.0,1014.0,1015.0,1017.0,1020.0,1021.0,1022.0,1023.0,1024.0,1025.0,1026.0,1027.0,1028.0,1029.0,1032.0,1033.0,1034.0,1035.0,1036.0,1037.0,1039.0,1041.0,1042.0,1044.0,1045.0,1046.0,1047.0,1048.0,1050.0,1052.0,1053.0,1055.0,1056.0,1057.0,1060.0,1061.0,1062.0,1065.0,1066.0,1067.0,1068.0,1069.0,1072.0,1073.0,1074.0,1075.0,1076.0,1079.0,1080.0,1081.0,1083.0,1084.0,1085.0,1086.0,1087.0,1089.0,1090.0,1091.0,1092.0,1095.0,1096.0,1097.0,1099.0,1101.0,1102.0,1103.0,1105.0,1107.0,1108.0,1109.0,1111.0,1117.0,1118.0,1119.0,1120.0,1121.0,1123.0,1124.0,1126.0,1127.0,1129.0,1130.0,1131.0,1133.0,1134.0,1136.0,1138.0,1139.0,1142.0,1143.0,1144.0,1145.0,1147.0,1148.0,1149.0,1154.0,1156.0,1157.0,1158.0,1162.0,1164.0,1165.0,1166.0,1167.0,1171.0,1172.0,1173.0,1174.0,1175.0,1176.0,1179.0,1180.0,1182.0,1183.0,1184.0,1185.0,1186.0,1187.0,1188.0,1189.0,1190.0,1192.0,1194.0,1195.0,1197.0,1199.0,1201.0,1204.0,1205.0,1208.0,1209.0,1211.0,1212.0,1214.0,1216.0,1217.0,1218.0,1220.0,1222.0,1224.0,1226.0,1235.0,1236.0,1237.0,1242.0,1243.0,1246.0,1249.0,1250.0,1251.0,1254.0,1256.0,1258.0,1259.0,1262.0,1265.0,1269.0,1276.0,1282.0,1290.0,1294.0,1295.0,1297.0,1298.0,1299.0,1300.0,1303.0,1304.0,1306.0,1310.0,1312.0,1313.0,1315.0,1325.0,1330.0,1334.0,1337.0,1340.0,1342.0,1345.0,1346.0,1352.0,1355.0,1357.0,1363.0,1368.0,1371.0,1372.0,1379.0,1381.0,1384.0,1385.0,1389.0,1390.0,1391.0,1399.0,1400.0,1404.0,1407.0,1411.0,1416.0,1426.0,1428.0,1430.0,1431.0,1436.0,1437.0,1438.0,1440.0,1442.0,1444.0,1447.0,1448.0,1449.0,1450.0,1452.0,1457.0,1460.0,1464.0,1468.0,1471.0,1475.0,1476.0,1481.0,1482.0,1487.0,1488.0,1489.0,1491.0,1496.0,1497.0,1499.0,1500.0,1501.0,1504.0,1506.0,1511.0,1514.0,1517.0,1519.0,1520.0,1521.0,1522.0,1524.0,1530.0,1532.0,1533.0,1535.0,1541.0,1542.0,1546.0,1547.0,1554.0,1557.0,1558.0,1562.0,1565.0,1569.0,1571.0,1572.0,1576.0,1585.0,1587.0,1589.0,1590.0,1592.0,1597.0,1598.0,1599.0,1605.0,1607.0,1608.0,1609.0,1616.0,1617.0,1618.0,1619.0,1620.0,1623.0,1624.0,1626.0,1628.0,1634.0,1635.0,1640.0,1642.0,1652.0,1660.0,1670.0,1671.0,1674.0,1678.0,1679.0,1680.0,1693.0,1694.0,1698.0,1703.0,1706.0,1708.0,1709.0,1721.0,1723.0,1726.0,1727.0,1728.0,1731.0,1733.0,1735.0,1737.0,1739.0,1744.0,1746.0,1747.0,1749.0,1750.0,1751.0,1754.0,1756.0,1770.0,1771.0,1773.0,1774.0,1781.0,1788.0,1790.0,1797.0,1810.0,1814.0,1824.0,1825.0,1826.0,1829.0,1836.0,1838.0,1843.0,1844.0,1845.0,1846.0,1849.0,1851.0,1855.0,1865.0,1874.0,1882.0,1891.0,1892.0,1894.0,1900.0,1903.0,1910.0,1912.0,1916.0,1919.0,1927.0,1931.0,1943.0,1947.0,1953.0,1954.0,1956.0,1959.0,1965.0,1969.0,1972.0,1978.0,1979.0,1984.0,1986.0,1990.0,1995.0,1999.0,2007.0,2018.0,2021.0,2026.0,2036.0,2039.0,2052.0,2065.0,2070.0,2072.0,2075.0,2077.0,2079.0,2086.0,2088.0,2089.0,2092.0,2105.0,2106.0,2116.0,2125.0,2133.0,2136.0,2139.0,2149.0,2153.0,2158.0,2161.0,2165.0,2172.0,2173.0,2174.0,2176.0,2182.0,2218.0,2227.0,2237.0,2239.0,2244.0,2248.0,2253.0,2254.0,2267.0,2279.0,2282.0,2288.0,2295.0,2296.0,2297.0,2300.0,2306.0,2311.0,2327.0,2329.0,2330.0,2335.0,2338.0,2342.0,2343.0,2345.0,2349.0,2350.0,2355.0,2358.0,2367.0,2370.0,2378.0,2381.0,2384.0,2398.0,2400.0,2402.0,2404.0,2405.0,2406.0,2409.0,2417.0,2419.0,2422.0,2425.0,2434.0,2442.0,2446.0,2447.0,2449.0,2454.0,2457.0,2458.0,2462.0,2465.0,2466.0,2475.0,2486.0,2496.0,2504.0,2519.0,2520.0,2521.0,2537.0,2541.0,2552.0,2554.0,2556.0,2562.0,2565.0,2569.0,2576.0,2583.0,2584.0,2585.0,2586.0,2588.0,2599.0,2602.0,2603.0,2607.0,2611.0,2614.0,2615.0,2636.0,2640.0,2676.0,2677.0,2688.0,2689.0,2694.0,2701.0,2704.0,2715.0,2717.0,2724.0,2762.0,2777.0,2845.0,2846.0,2860.0,2874.0,2917.0,2979.0,2994.0,3043.0,3302.0,3329.0,3365.0,3711.0,3784.0,3904.0,4184.0,4243.0,4502.0,4817.0,4962.0,4983.0],\"xaxis\":\"x\",\"y\":[4,1,78,5,7,32,14,9,9,6,19,22,39,31,1,2,5,10,1,12,131,105,38,45,79,25,21,8,19,6,32,24,9,18,7,23,14,14,22,41,2,4,81,25,37,21,52,29,8,11,56,10,9,22,27,25,1,24,37,41,10,54,117,49,8,1,2,25,34,25,47,42,13,21,4,5,89,82,30,60,118,30,141,1,8,56,39,6,48,58,93,34,14,8,9,49,7,35,27,134,11,105,30,5,28,120,137,109,49,75,36,20,28,4,12,52,134,94,23,79,67,29,6,7,71,34,46,41,12,33,106,34,107,47,14,32,34,19,46,39,34,1,111,41,32,26,9,47,99,20,32,54,32,16,36,8,11,27,23,31,14,31,102,25,16,51,37,50,71,14,94,46,57,23,91,13,19,16,10,28,15,54,26,24,5,39,10,43,35,89,16,47,100,12,59,48,26,79,4,249,61,1,30,62,14,39,6,43,50,13,60,14,17,30,66,17,38,17,44,30,60,31,13,57,48,70,86,41,47,108,31,1,24,62,3,2,41,57,35,3,31,136,29,2,48,16,54,5,170,11,42,32,159,62,118,46,48,78,4,16,3,51,105,52,30,52,7,30,12,42,90,4,59,59,37,57,80,13,15,65,47,1,16,17,29,40,16,38,178,105,65,73,18,58,37,47,17,26,7,66,17,57,23,3,19,75,20,13,38,29,22,20,6,46,48,59,6,38,65,5,15,2,71,60,41,18,3,41,19,92,52,46,35,6,106,52,16,3,8,4,70,58,21,11,10,38,8,11,10,37,141,58,13,16,25,48,59,12,8,13,61,19,22,49,68,98,86,4,28,96,66,21,42,27,12,8,58,85,10,15,9,61,11,28,4,7,24,13,19,89,6,9,16,96,48,42,30,51,120,81,102,60,17,171,12,15,10,12,121,20,70,97,10,41,52,83,27,13,19,115,23,25,5,11,14,42,53,5,19,5,41,23,114,26,49,54,103,8,33,14,10,3,15,14,101,34,27,24,35,86,50,23,34,112,2,12,20,5,2,23,2,92,68,31,48,14,15,47,56,19,37,69,96,95,3,17,6,14,20,106,6,21,59,20,21,24,44,62,17,13,6,4,14,5,11,26,28,5,12,5,18,13,72,1,42,6,21,35,5,5,43,87,113,15,20,60,17,10,16,13,5,67,58,18,5,8,10,1,1,7,11,24,48,32,51,101,48,35,7,6,5,24,18,22,17,4,29,12,7,13,23,38,14,18,8,15,7,62,8,4,2,26,56,7,1,3,127,6,13,6,7,4,24,6,13,24,88,54,6,21,7,21,17,42,8,4,8,6,19,28,4,16,62,6,22,39,21,7,3,31,26,18,10,54,3,24,20,6,54,84,29,9,69,8,121,135,2,26,158,50,9,16,53,18,50,2,25,26,46,7,88,5,1,10,5,54,47,9,36,8,6,3,13,59,15,43,8,72,16,11,4,12,64,53,6,14,111,47,14,13,38,38,41,9,18,4,9,84,88,8,46,12,84,40,6,46,15,5,111,4,20,67,7,37,21,19,82,6,11,2,14,30,20,3,35,73,8,46,4,6,32,19,54,62,16,50,41,75,17,10,34,10,45,5,11,96,1,28,79,31,20,27,53,29,10,14,66,29,1,25,99,4,8,13,28,8,7,10,22,39,17,18,5,27,14,32,41,28,22,6,80,6,9,58,12,1,1,21,30,26,14,38,30,74,34,9,20,38,81,4,15,3,2,16,37,18,4,42,21,17,12,2,71,15,9,1,16,5,20,105,9,1,14,8,7,51,21,90,30,19,12,47,16,5,4,9,7,14,1,30,21,2,4,23,10,3,8,10,6,5,9,8,13,6,6,32,38,16,8,5,13,3,3,16,52,13,34,16,4,5,30,59,19,38,8,23,77,77,13,8,41,29,10,26,10,7,21,18,19,2,26,2,5,115,4,27,43,4,38,24,33,4,5,14,34,6,47,1,10,51,10,9,4,1,1,1,31,4,59,1,10,21,4,19,2,21,11,17,27,2,9,8,24,2,2,6,9,12,19,35,48,23,5,1,60,16,7,41,37,8,13,7,34,26,24,5,15,5,17,18,61,3,19,5,111,10,10,36,5,23,55,8,10,9,39,22,16,7,13,6,19,4,3,4,6,16,21,27,1,55,9,3,4,47,14,12,2,9,21,42,8,14,42,19,5,5,28,47,12,2,1,4,32,2,56,29,49,11,16,47,18,30,5,17,24,32,3,6,4,44,9,5,12,4,4,26,4,9,5,57,51,46,10,10,2,3,1,4,7,14,6,1,21,52,32,30,8,16,1,17,9,4,23,98,1,58,45,24,12,36,4,8,10,34,5,6,15,8,34,7,28,18,15,2,9,9,8,1,8,1,92,17,10,10,12,20,1,4,36,6,6,1,9,1,23,12,23,20,4,67,6,4,15,4,1,6,17,2,47,11,12,16,10,24,6,1,3,7,5,14,9,12,2,9,36,14,14,4,1,6,6,11,17,5,33,23,5,49,12,27,10,3,3,12,11,18,30,39,22,29,1,7,4,59,15,2,5,12,1,34,6,22,3,21,11,16,2,19,1,11,10,47,14,8,12,5,17,4,7,9,15,10,2,21,6,36,6,4,2,9,9,50,34,9,15,9,31,7,3,71,6,3,3,10,5,176,30,24,32,13,1,32,11,7,4,8,69,9,55,9,6,4,6,10,121,10,3,4,9,5,68,4,21,1,17,4,25,9,2,2,10,44,2,7,6,12,10,10,4,2,1,17,3,3,2,1,1,5,4,10,6,2,7,4,4,2,6],\"yaxis\":\"y\",\"type\":\"histogram\"},{\"alignmentgroup\":\"True\",\"hovertemplate\":\"Delayed=0.0<br>DISTANCE=%{x}<extra></extra>\",\"legendgroup\":\"0.0\",\"marker\":{\"color\":\"#636efa\",\"line\":{\"color\":\"white\",\"width\":1}},\"name\":\"0.0\",\"notched\":true,\"offsetgroup\":\"0.0\",\"showlegend\":false,\"x\":[31.0,41.0,67.0,68.0,69.0,73.0,74.0,76.0,77.0,82.0,83.0,84.0,86.0,89.0,91.0,93.0,94.0,95.0,96.0,98.0,100.0,102.0,106.0,108.0,109.0,110.0,113.0,114.0,116.0,118.0,119.0,120.0,121.0,122.0,123.0,125.0,127.0,128.0,129.0,130.0,132.0,133.0,134.0,135.0,137.0,139.0,140.0,143.0,144.0,145.0,147.0,148.0,150.0,151.0,152.0,153.0,155.0,156.0,157.0,158.0,159.0,160.0,163.0,164.0,166.0,168.0,169.0,170.0,173.0,174.0,175.0,177.0,179.0,181.0,182.0,183.0,184.0,187.0,188.0,189.0,190.0,191.0,192.0,193.0,195.0,196.0,197.0,198.0,199.0,200.0,201.0,204.0,205.0,207.0,208.0,209.0,210.0,212.0,213.0,214.0,215.0,216.0,220.0,221.0,222.0,223.0,224.0,226.0,227.0,228.0,229.0,230.0,231.0,232.0,234.0,235.0,236.0,237.0,238.0,239.0,240.0,241.0,243.0,246.0,247.0,248.0,250.0,251.0,252.0,253.0,255.0,257.0,258.0,259.0,260.0,261.0,262.0,264.0,265.0,266.0,268.0,269.0,270.0,271.0,272.0,273.0,274.0,277.0,280.0,281.0,282.0,283.0,284.0,285.0,287.0,288.0,289.0,290.0,292.0,293.0,294.0,295.0,296.0,297.0,298.0,299.0,300.0,301.0,302.0,303.0,304.0,305.0,306.0,307.0,308.0,309.0,310.0,311.0,312.0,313.0,314.0,315.0,316.0,317.0,318.0,319.0,320.0,321.0,323.0,325.0,326.0,327.0,328.0,329.0,331.0,332.0,333.0,334.0,335.0,337.0,338.0,340.0,341.0,342.0,343.0,345.0,346.0,347.0,349.0,350.0,351.0,352.0,353.0,354.0,356.0,357.0,358.0,359.0,361.0,362.0,363.0,364.0,365.0,366.0,368.0,369.0,370.0,371.0,372.0,373.0,374.0,375.0,376.0,377.0,378.0,382.0,383.0,386.0,387.0,388.0,390.0,391.0,393.0,394.0,395.0,396.0,397.0,398.0,399.0,401.0,402.0,403.0,404.0,405.0,406.0,407.0,408.0,409.0,410.0,411.0,412.0,413.0,414.0,416.0,417.0,419.0,420.0,421.0,422.0,423.0,425.0,426.0,427.0,429.0,430.0,431.0,432.0,433.0,435.0,436.0,438.0,439.0,440.0,441.0,442.0,444.0,445.0,446.0,447.0,448.0,449.0,451.0,452.0,453.0,455.0,456.0,457.0,458.0,459.0,460.0,461.0,462.0,463.0,464.0,466.0,468.0,469.0,471.0,472.0,473.0,474.0,475.0,476.0,479.0,480.0,481.0,482.0,483.0,484.0,485.0,486.0,487.0,488.0,489.0,491.0,493.0,494.0,495.0,496.0,500.0,501.0,502.0,503.0,505.0,507.0,508.0,509.0,510.0,511.0,512.0,515.0,516.0,517.0,519.0,521.0,522.0,523.0,524.0,525.0,526.0,528.0,529.0,530.0,531.0,532.0,533.0,534.0,536.0,537.0,539.0,541.0,542.0,543.0,544.0,545.0,546.0,547.0,548.0,549.0,550.0,551.0,552.0,554.0,557.0,558.0,561.0,562.0,563.0,565.0,566.0,567.0,569.0,570.0,571.0,572.0,573.0,574.0,575.0,576.0,577.0,578.0,579.0,580.0,581.0,583.0,584.0,585.0,587.0,588.0,589.0,590.0,591.0,592.0,594.0,595.0,596.0,597.0,598.0,599.0,600.0,601.0,602.0,603.0,604.0,605.0,606.0,607.0,610.0,611.0,612.0,615.0,616.0,617.0,618.0,620.0,621.0,622.0,623.0,624.0,625.0,626.0,627.0,628.0,629.0,630.0,631.0,632.0,633.0,634.0,636.0,637.0,638.0,639.0,640.0,641.0,642.0,643.0,644.0,645.0,646.0,647.0,649.0,650.0,651.0,654.0,655.0,657.0,659.0,661.0,663.0,665.0,666.0,667.0,668.0,669.0,670.0,671.0,672.0,674.0,675.0,677.0,678.0,679.0,680.0,682.0,683.0,684.0,685.0,687.0,689.0,690.0,691.0,692.0,693.0,694.0,695.0,696.0,697.0,700.0,701.0,704.0,705.0,707.0,708.0,710.0,711.0,712.0,714.0,715.0,716.0,717.0,718.0,719.0,720.0,721.0,722.0,723.0,725.0,726.0,727.0,728.0,731.0,733.0,735.0,737.0,738.0,740.0,742.0,743.0,744.0,745.0,746.0,748.0,749.0,750.0,751.0,752.0,753.0,755.0,756.0,757.0,758.0,759.0,760.0,761.0,762.0,763.0,764.0,765.0,767.0,769.0,770.0,771.0,772.0,773.0,774.0,775.0,776.0,777.0,779.0,780.0,781.0,782.0,783.0,784.0,785.0,786.0,787.0,788.0,789.0,792.0,793.0,794.0,795.0,798.0,799.0,802.0,803.0,804.0,805.0,806.0,807.0,808.0,809.0,811.0,812.0,813.0,814.0,816.0,817.0,818.0,819.0,820.0,821.0,822.0,824.0,825.0,826.0,828.0,829.0,831.0,833.0,834.0,835.0,836.0,837.0,838.0,840.0,841.0,842.0,843.0,844.0,845.0,846.0,848.0,849.0,850.0,851.0,852.0,853.0,854.0,857.0,859.0,860.0,861.0,862.0,864.0,866.0,867.0,868.0,869.0,871.0,872.0,873.0,874.0,878.0,879.0,882.0,883.0,887.0,888.0,889.0,891.0,892.0,894.0,895.0,896.0,898.0,899.0,900.0,901.0,902.0,903.0,907.0,908.0,909.0,911.0,912.0,913.0,916.0,917.0,918.0,919.0,920.0,921.0,922.0,925.0,926.0,927.0,928.0,929.0,930.0,931.0,932.0,933.0,934.0,935.0,936.0,937.0,942.0,944.0,945.0,946.0,948.0,949.0,950.0,951.0,952.0,954.0,955.0,956.0,957.0,961.0,964.0,965.0,966.0,967.0,968.0,969.0,970.0,971.0,972.0,973.0,975.0,977.0,978.0,979.0,980.0,981.0,982.0,983.0,984.0,985.0,986.0,987.0,989.0,990.0,991.0,992.0,993.0,994.0,996.0,997.0,998.0,999.0,1005.0,1007.0,1008.0,1009.0,1010.0,1011.0,1012.0,1013.0,1014.0,1015.0,1017.0,1020.0,1021.0,1022.0,1023.0,1024.0,1025.0,1026.0,1027.0,1028.0,1029.0,1032.0,1033.0,1034.0,1035.0,1036.0,1037.0,1039.0,1041.0,1042.0,1044.0,1045.0,1046.0,1047.0,1048.0,1050.0,1052.0,1053.0,1055.0,1056.0,1057.0,1060.0,1061.0,1062.0,1065.0,1066.0,1067.0,1068.0,1069.0,1072.0,1073.0,1074.0,1075.0,1076.0,1079.0,1080.0,1081.0,1083.0,1084.0,1085.0,1086.0,1087.0,1089.0,1090.0,1091.0,1092.0,1095.0,1096.0,1097.0,1099.0,1101.0,1102.0,1103.0,1105.0,1107.0,1108.0,1109.0,1111.0,1117.0,1118.0,1119.0,1120.0,1121.0,1123.0,1124.0,1126.0,1127.0,1129.0,1130.0,1131.0,1133.0,1134.0,1136.0,1138.0,1139.0,1142.0,1143.0,1144.0,1145.0,1147.0,1148.0,1149.0,1154.0,1156.0,1157.0,1158.0,1162.0,1164.0,1165.0,1166.0,1167.0,1171.0,1172.0,1173.0,1174.0,1175.0,1176.0,1179.0,1180.0,1182.0,1183.0,1184.0,1185.0,1186.0,1187.0,1188.0,1189.0,1190.0,1192.0,1194.0,1195.0,1197.0,1199.0,1201.0,1204.0,1205.0,1208.0,1209.0,1211.0,1212.0,1214.0,1216.0,1217.0,1218.0,1220.0,1222.0,1224.0,1226.0,1235.0,1236.0,1237.0,1242.0,1243.0,1246.0,1249.0,1250.0,1251.0,1254.0,1256.0,1258.0,1259.0,1262.0,1265.0,1269.0,1276.0,1282.0,1290.0,1294.0,1295.0,1297.0,1298.0,1299.0,1300.0,1303.0,1304.0,1306.0,1310.0,1312.0,1313.0,1315.0,1325.0,1330.0,1334.0,1337.0,1340.0,1342.0,1345.0,1346.0,1352.0,1355.0,1357.0,1363.0,1368.0,1371.0,1372.0,1379.0,1381.0,1384.0,1385.0,1389.0,1390.0,1391.0,1399.0,1400.0,1404.0,1407.0,1411.0,1416.0,1426.0,1428.0,1430.0,1431.0,1436.0,1437.0,1438.0,1440.0,1442.0,1444.0,1447.0,1448.0,1449.0,1450.0,1452.0,1457.0,1460.0,1464.0,1468.0,1471.0,1475.0,1476.0,1481.0,1482.0,1487.0,1488.0,1489.0,1491.0,1496.0,1497.0,1499.0,1500.0,1501.0,1504.0,1506.0,1511.0,1514.0,1517.0,1519.0,1520.0,1521.0,1522.0,1524.0,1530.0,1532.0,1533.0,1535.0,1541.0,1542.0,1546.0,1547.0,1554.0,1557.0,1558.0,1562.0,1565.0,1569.0,1571.0,1572.0,1576.0,1585.0,1587.0,1589.0,1590.0,1592.0,1597.0,1598.0,1599.0,1605.0,1607.0,1608.0,1609.0,1616.0,1617.0,1618.0,1619.0,1620.0,1623.0,1624.0,1626.0,1628.0,1634.0,1635.0,1640.0,1642.0,1652.0,1660.0,1670.0,1671.0,1674.0,1678.0,1679.0,1680.0,1693.0,1694.0,1698.0,1703.0,1706.0,1708.0,1709.0,1721.0,1723.0,1726.0,1727.0,1728.0,1731.0,1733.0,1735.0,1737.0,1739.0,1744.0,1746.0,1747.0,1749.0,1750.0,1751.0,1754.0,1756.0,1770.0,1771.0,1773.0,1774.0,1781.0,1788.0,1790.0,1797.0,1810.0,1814.0,1824.0,1825.0,1826.0,1829.0,1836.0,1838.0,1843.0,1844.0,1845.0,1846.0,1849.0,1851.0,1855.0,1865.0,1874.0,1882.0,1891.0,1892.0,1894.0,1900.0,1903.0,1910.0,1912.0,1916.0,1919.0,1927.0,1931.0,1943.0,1947.0,1953.0,1954.0,1956.0,1959.0,1965.0,1969.0,1972.0,1978.0,1979.0,1984.0,1986.0,1990.0,1995.0,1999.0,2007.0,2018.0,2021.0,2026.0,2036.0,2039.0,2052.0,2065.0,2070.0,2072.0,2075.0,2077.0,2079.0,2086.0,2088.0,2089.0,2092.0,2105.0,2106.0,2116.0,2125.0,2133.0,2136.0,2139.0,2149.0,2153.0,2158.0,2161.0,2165.0,2172.0,2173.0,2174.0,2176.0,2182.0,2218.0,2227.0,2237.0,2239.0,2244.0,2248.0,2253.0,2254.0,2267.0,2279.0,2282.0,2288.0,2295.0,2296.0,2297.0,2300.0,2306.0,2311.0,2327.0,2329.0,2330.0,2335.0,2338.0,2342.0,2343.0,2345.0,2349.0,2350.0,2355.0,2358.0,2367.0,2370.0,2378.0,2381.0,2384.0,2398.0,2400.0,2402.0,2404.0,2405.0,2406.0,2409.0,2417.0,2419.0,2422.0,2425.0,2434.0,2442.0,2446.0,2447.0,2449.0,2454.0,2457.0,2458.0,2462.0,2465.0,2466.0,2475.0,2486.0,2496.0,2504.0,2519.0,2520.0,2521.0,2537.0,2541.0,2552.0,2554.0,2556.0,2562.0,2565.0,2569.0,2576.0,2583.0,2584.0,2585.0,2586.0,2588.0,2599.0,2602.0,2603.0,2607.0,2611.0,2614.0,2615.0,2636.0,2640.0,2676.0,2677.0,2688.0,2689.0,2694.0,2701.0,2704.0,2715.0,2717.0,2724.0,2762.0,2777.0,2845.0,2846.0,2860.0,2874.0,2917.0,2979.0,2994.0,3043.0,3302.0,3329.0,3365.0,3711.0,3784.0,3904.0,4184.0,4243.0,4502.0,4817.0,4962.0,4983.0],\"xaxis\":\"x2\",\"yaxis\":\"y2\",\"type\":\"box\"},{\"alignmentgroup\":\"True\",\"bingroup\":\"x\",\"histfunc\":\"sum\",\"histnorm\":\"percent\",\"hovertemplate\":\"Delayed=1.0<br>DISTANCE=%{x}<br>percent of sum of Count=%{y}<extra></extra>\",\"legendgroup\":\"1.0\",\"marker\":{\"color\":\"#EF553B\",\"opacity\":0.5,\"pattern\":{\"shape\":\"\"},\"line\":{\"color\":\"white\",\"width\":1}},\"name\":\"1.0\",\"offsetgroup\":\"1.0\",\"orientation\":\"v\",\"showlegend\":true,\"x\":[31.0,41.0,67.0,68.0,69.0,73.0,74.0,76.0,77.0,82.0,83.0,84.0,86.0,89.0,93.0,94.0,95.0,98.0,100.0,102.0,106.0,108.0,109.0,110.0,113.0,116.0,118.0,119.0,120.0,121.0,125.0,127.0,128.0,129.0,130.0,133.0,134.0,135.0,137.0,139.0,140.0,143.0,144.0,145.0,147.0,148.0,151.0,152.0,153.0,156.0,157.0,158.0,159.0,160.0,163.0,164.0,166.0,170.0,173.0,174.0,175.0,177.0,179.0,181.0,183.0,184.0,187.0,188.0,189.0,190.0,191.0,192.0,195.0,196.0,197.0,198.0,199.0,200.0,201.0,204.0,207.0,208.0,209.0,210.0,212.0,213.0,214.0,215.0,216.0,220.0,222.0,223.0,224.0,226.0,227.0,228.0,229.0,230.0,231.0,232.0,234.0,235.0,236.0,237.0,238.0,239.0,240.0,241.0,246.0,247.0,248.0,250.0,251.0,252.0,253.0,254.0,255.0,257.0,258.0,259.0,261.0,262.0,264.0,265.0,266.0,268.0,270.0,271.0,272.0,273.0,274.0,277.0,280.0,281.0,282.0,283.0,284.0,285.0,287.0,288.0,289.0,290.0,292.0,293.0,294.0,295.0,296.0,297.0,298.0,299.0,300.0,301.0,302.0,303.0,304.0,305.0,306.0,307.0,308.0,309.0,310.0,311.0,312.0,313.0,314.0,315.0,316.0,317.0,319.0,320.0,321.0,323.0,325.0,326.0,327.0,328.0,329.0,331.0,332.0,333.0,334.0,337.0,338.0,340.0,341.0,342.0,343.0,345.0,347.0,349.0,350.0,351.0,352.0,353.0,354.0,356.0,357.0,358.0,359.0,361.0,362.0,363.0,364.0,365.0,366.0,368.0,369.0,370.0,371.0,372.0,373.0,374.0,376.0,377.0,378.0,382.0,383.0,386.0,387.0,390.0,391.0,393.0,395.0,396.0,397.0,399.0,401.0,402.0,403.0,404.0,405.0,406.0,407.0,408.0,409.0,411.0,413.0,414.0,416.0,417.0,419.0,420.0,421.0,422.0,423.0,425.0,426.0,427.0,429.0,430.0,431.0,432.0,433.0,435.0,436.0,438.0,439.0,440.0,441.0,442.0,444.0,445.0,446.0,447.0,448.0,449.0,451.0,452.0,453.0,455.0,456.0,457.0,458.0,459.0,460.0,461.0,462.0,463.0,466.0,468.0,469.0,471.0,472.0,473.0,474.0,475.0,476.0,479.0,480.0,481.0,482.0,483.0,484.0,485.0,486.0,488.0,489.0,491.0,493.0,494.0,495.0,496.0,497.0,500.0,501.0,502.0,503.0,505.0,507.0,508.0,509.0,511.0,512.0,515.0,516.0,517.0,519.0,522.0,523.0,524.0,526.0,528.0,529.0,530.0,531.0,532.0,533.0,534.0,536.0,537.0,539.0,541.0,542.0,543.0,544.0,545.0,546.0,547.0,549.0,550.0,551.0,552.0,554.0,557.0,561.0,562.0,563.0,565.0,566.0,567.0,569.0,570.0,571.0,573.0,575.0,576.0,577.0,578.0,579.0,580.0,581.0,583.0,584.0,585.0,587.0,588.0,589.0,590.0,591.0,592.0,594.0,595.0,596.0,599.0,600.0,601.0,602.0,603.0,604.0,605.0,606.0,607.0,610.0,611.0,612.0,616.0,617.0,618.0,620.0,621.0,622.0,623.0,624.0,625.0,626.0,627.0,628.0,629.0,630.0,631.0,632.0,633.0,634.0,636.0,637.0,639.0,640.0,641.0,642.0,643.0,644.0,645.0,646.0,647.0,649.0,650.0,651.0,654.0,655.0,657.0,659.0,661.0,663.0,665.0,666.0,667.0,668.0,669.0,670.0,671.0,672.0,674.0,675.0,677.0,678.0,679.0,680.0,682.0,683.0,685.0,687.0,689.0,690.0,691.0,692.0,693.0,694.0,695.0,696.0,697.0,700.0,701.0,704.0,705.0,707.0,708.0,710.0,711.0,712.0,714.0,715.0,717.0,718.0,719.0,720.0,721.0,722.0,723.0,725.0,726.0,728.0,731.0,733.0,735.0,737.0,738.0,740.0,742.0,744.0,745.0,746.0,748.0,749.0,751.0,752.0,753.0,755.0,757.0,758.0,759.0,760.0,761.0,762.0,763.0,764.0,765.0,767.0,769.0,770.0,771.0,772.0,773.0,775.0,776.0,777.0,779.0,780.0,781.0,782.0,783.0,784.0,785.0,786.0,787.0,788.0,793.0,794.0,795.0,798.0,799.0,801.0,802.0,803.0,804.0,805.0,806.0,808.0,809.0,811.0,812.0,813.0,814.0,816.0,817.0,818.0,819.0,820.0,821.0,824.0,825.0,826.0,828.0,829.0,831.0,833.0,834.0,835.0,836.0,837.0,838.0,840.0,842.0,843.0,844.0,845.0,846.0,849.0,850.0,851.0,852.0,853.0,854.0,857.0,859.0,860.0,861.0,862.0,864.0,866.0,867.0,868.0,869.0,871.0,872.0,873.0,874.0,878.0,879.0,882.0,883.0,888.0,889.0,892.0,894.0,895.0,896.0,898.0,899.0,901.0,902.0,907.0,908.0,909.0,911.0,912.0,913.0,916.0,917.0,919.0,920.0,921.0,922.0,925.0,926.0,927.0,928.0,929.0,930.0,931.0,932.0,933.0,935.0,936.0,937.0,942.0,944.0,945.0,946.0,948.0,950.0,951.0,954.0,955.0,956.0,957.0,964.0,965.0,966.0,967.0,968.0,969.0,970.0,971.0,972.0,973.0,977.0,978.0,980.0,982.0,983.0,984.0,985.0,986.0,989.0,990.0,991.0,992.0,993.0,994.0,996.0,997.0,998.0,999.0,1005.0,1008.0,1009.0,1010.0,1011.0,1012.0,1013.0,1014.0,1015.0,1017.0,1020.0,1021.0,1022.0,1023.0,1024.0,1025.0,1026.0,1027.0,1028.0,1029.0,1034.0,1035.0,1036.0,1037.0,1039.0,1041.0,1042.0,1044.0,1045.0,1046.0,1047.0,1048.0,1050.0,1052.0,1053.0,1055.0,1056.0,1061.0,1062.0,1065.0,1066.0,1067.0,1068.0,1069.0,1072.0,1073.0,1074.0,1075.0,1076.0,1079.0,1080.0,1084.0,1085.0,1086.0,1089.0,1090.0,1091.0,1092.0,1095.0,1096.0,1097.0,1099.0,1102.0,1103.0,1105.0,1107.0,1108.0,1111.0,1117.0,1118.0,1119.0,1120.0,1121.0,1123.0,1124.0,1126.0,1127.0,1129.0,1130.0,1133.0,1134.0,1136.0,1138.0,1139.0,1142.0,1144.0,1145.0,1147.0,1154.0,1157.0,1158.0,1162.0,1166.0,1167.0,1168.0,1171.0,1172.0,1173.0,1174.0,1175.0,1179.0,1180.0,1182.0,1183.0,1184.0,1185.0,1187.0,1188.0,1189.0,1190.0,1192.0,1195.0,1197.0,1199.0,1201.0,1204.0,1205.0,1208.0,1209.0,1211.0,1212.0,1214.0,1216.0,1217.0,1218.0,1222.0,1226.0,1235.0,1237.0,1242.0,1246.0,1249.0,1250.0,1256.0,1258.0,1259.0,1262.0,1269.0,1276.0,1294.0,1298.0,1299.0,1300.0,1303.0,1304.0,1306.0,1310.0,1313.0,1315.0,1325.0,1330.0,1337.0,1342.0,1345.0,1346.0,1352.0,1357.0,1363.0,1368.0,1371.0,1372.0,1379.0,1381.0,1384.0,1389.0,1390.0,1391.0,1399.0,1400.0,1404.0,1407.0,1411.0,1416.0,1426.0,1428.0,1430.0,1431.0,1436.0,1437.0,1438.0,1440.0,1444.0,1448.0,1449.0,1450.0,1452.0,1457.0,1460.0,1464.0,1468.0,1471.0,1475.0,1476.0,1481.0,1482.0,1487.0,1488.0,1489.0,1491.0,1497.0,1500.0,1501.0,1504.0,1506.0,1514.0,1520.0,1521.0,1524.0,1532.0,1533.0,1535.0,1541.0,1542.0,1546.0,1547.0,1554.0,1558.0,1562.0,1565.0,1569.0,1576.0,1585.0,1587.0,1589.0,1590.0,1592.0,1597.0,1598.0,1605.0,1606.0,1607.0,1608.0,1609.0,1616.0,1617.0,1618.0,1619.0,1620.0,1623.0,1624.0,1626.0,1634.0,1635.0,1660.0,1666.0,1670.0,1671.0,1674.0,1678.0,1680.0,1694.0,1698.0,1703.0,1709.0,1715.0,1721.0,1723.0,1726.0,1727.0,1728.0,1733.0,1735.0,1737.0,1739.0,1744.0,1747.0,1749.0,1750.0,1751.0,1754.0,1771.0,1773.0,1781.0,1788.0,1790.0,1797.0,1814.0,1824.0,1825.0,1829.0,1836.0,1838.0,1842.0,1844.0,1846.0,1849.0,1855.0,1865.0,1874.0,1891.0,1892.0,1900.0,1910.0,1912.0,1916.0,1919.0,1927.0,1930.0,1931.0,1943.0,1947.0,1956.0,1965.0,1972.0,1978.0,1979.0,1984.0,1986.0,1990.0,1995.0,1997.0,1999.0,2007.0,2018.0,2026.0,2039.0,2052.0,2065.0,2072.0,2075.0,2077.0,2079.0,2086.0,2092.0,2106.0,2125.0,2133.0,2139.0,2149.0,2153.0,2161.0,2165.0,2172.0,2173.0,2174.0,2176.0,2182.0,2218.0,2227.0,2239.0,2248.0,2253.0,2267.0,2279.0,2288.0,2295.0,2296.0,2297.0,2300.0,2306.0,2311.0,2329.0,2338.0,2342.0,2343.0,2349.0,2358.0,2367.0,2370.0,2378.0,2381.0,2384.0,2398.0,2400.0,2402.0,2405.0,2409.0,2419.0,2422.0,2425.0,2434.0,2442.0,2446.0,2447.0,2454.0,2462.0,2465.0,2475.0,2486.0,2496.0,2504.0,2519.0,2520.0,2521.0,2552.0,2554.0,2556.0,2565.0,2576.0,2583.0,2584.0,2585.0,2586.0,2588.0,2599.0,2602.0,2603.0,2611.0,2614.0,2615.0,2636.0,2640.0,2676.0,2677.0,2688.0,2689.0,2701.0,2704.0,2724.0,2762.0,2785.0,2846.0,2917.0,3043.0,3365.0,3711.0,3784.0,3801.0,4243.0,4962.0],\"xaxis\":\"x\",\"y\":[2,1,19,1,1,8,1,1,1,1,5,4,11,10,1,2,2,2,13,11,7,12,20,3,2,2,4,5,4,1,13,1,4,3,12,1,13,7,6,4,13,7,4,1,9,5,3,6,4,4,11,8,8,9,11,7,3,6,9,7,3,9,1,8,2,22,27,2,17,29,9,29,2,13,17,2,8,11,15,8,4,3,12,3,8,12,28,2,5,9,2,17,26,28,10,12,9,3,4,2,4,22,31,17,2,16,12,1,3,16,10,6,8,4,3,1,24,8,20,5,6,4,4,11,11,9,11,12,9,6,1,19,23,4,6,13,9,2,8,2,6,3,4,9,1,7,26,3,3,15,10,6,17,2,36,10,14,5,21,3,4,6,8,1,4,13,3,6,10,1,10,10,25,8,10,21,6,24,9,4,33,74,8,1,9,6,1,11,5,21,3,17,4,1,11,21,3,7,3,12,7,13,14,5,11,17,19,25,11,18,24,7,6,10,1,2,16,14,6,5,26,5,11,3,17,25,3,5,9,29,8,20,8,8,17,1,9,33,14,14,16,2,6,3,11,24,1,10,12,6,14,11,1,2,14,8,2,4,2,5,6,2,15,37,15,15,15,2,10,9,13,4,8,2,20,9,13,6,4,18,7,3,11,4,7,9,1,8,15,16,4,11,14,3,3,15,10,9,3,1,8,7,2,18,7,22,8,2,16,12,4,1,1,4,17,4,1,24,3,5,8,21,18,1,2,2,18,10,1,1,9,18,4,5,8,10,11,25,7,15,21,2,7,11,3,14,23,3,5,2,17,6,6,4,3,5,17,4,2,7,20,6,6,8,11,20,31,18,14,1,31,1,1,28,4,6,19,3,13,5,25,6,2,9,15,4,3,2,2,5,22,5,2,2,2,7,29,3,7,3,12,2,2,2,3,9,4,21,9,3,2,10,28,9,9,5,27,1,2,5,1,2,4,1,22,7,13,4,5,3,14,15,1,13,16,24,23,3,2,10,6,21,2,6,15,7,4,6,11,10,1,2,5,3,1,3,2,5,6,2,1,5,6,27,2,10,1,7,15,2,9,14,36,1,8,18,7,1,1,3,10,14,2,2,3,1,1,2,10,16,6,5,45,6,13,4,2,1,7,4,13,5,4,1,4,2,6,9,3,3,5,2,4,20,2,9,7,2,1,3,1,43,3,7,2,5,1,1,3,8,14,10,1,1,2,3,2,4,5,1,4,7,3,3,5,14,4,3,11,1,1,12,6,7,4,10,11,3,2,17,20,15,2,9,8,28,48,3,4,38,16,5,4,20,6,12,1,6,3,12,37,2,3,1,15,10,3,4,1,1,17,2,15,5,14,3,1,2,21,11,1,5,39,12,1,3,7,4,8,1,4,1,21,36,3,20,7,25,3,14,1,14,1,3,17,20,6,2,26,3,4,2,1,10,5,12,12,13,2,4,3,13,11,5,10,10,8,2,6,2,19,3,6,26,7,12,4,4,10,10,4,2,3,16,4,1,16,22,3,1,2,10,2,7,9,2,2,1,8,4,4,10,11,5,2,20,2,3,14,9,8,10,13,6,9,10,20,13,2,1,8,21,3,2,7,18,1,20,3,5,5,2,25,2,1,3,6,7,18,6,7,6,1,8,7,29,6,1,1,7,3,2,2,1,1,1,6,8,1,2,1,2,1,1,1,2,6,1,7,2,3,1,3,1,4,17,2,3,5,1,11,8,2,10,7,18,21,6,4,2,7,7,10,3,1,5,4,4,18,2,30,7,14,15,8,4,2,3,6,6,4,14,2,1,7,2,19,1,2,3,7,1,10,2,4,3,2,6,1,1,5,8,3,8,23,6,3,19,3,3,3,23,1,5,6,14,1,8,1,6,3,5,3,14,12,11,4,2,8,1,4,19,2,3,2,11,2,7,1,4,2,15,2,2,4,12,8,20,1,19,6,1,1,14,3,1,11,3,1,5,9,5,1,8,1,14,7,10,1,10,15,9,2,1,5,3,5,1,2,1,10,2,1,3,4,10,12,1,6,15,4,3,1,3,4,5,5,1,11,12,5,3,6,6,2,3,8,32,10,3,8,3,9,1,4,1,2,1,7,1,7,7,1,1,2,1,7,36,2,5,3,10,1,4,2,2,2,1,3,6,1,4,3,11,1,1,4,1,16,4,1,8,2,1,5,2,1,4,3,10,4,3,6,2,1,1,1,7,12,11,9,2,9,4,4,3,5,1,4,5,10,7,1,12,5,1,4,11,2,3,3,5,3,2,2,5,14,8,2,2,4,1,5,4,1,6,3,6,3,1,7,3,5,4,3,9,1,20,2,3,42,4,6,6,2,1,9,2,1,15,13,2,3,4,8,34,1,1,1,1,11,1,2,2,3,2,3,1,1,1,13,1,1,1,2,5,1,2,2,1,2,2,2],\"yaxis\":\"y\",\"type\":\"histogram\"},{\"alignmentgroup\":\"True\",\"hovertemplate\":\"Delayed=1.0<br>DISTANCE=%{x}<extra></extra>\",\"legendgroup\":\"1.0\",\"marker\":{\"color\":\"#EF553B\",\"line\":{\"color\":\"white\",\"width\":1}},\"name\":\"1.0\",\"notched\":true,\"offsetgroup\":\"1.0\",\"showlegend\":false,\"x\":[31.0,41.0,67.0,68.0,69.0,73.0,74.0,76.0,77.0,82.0,83.0,84.0,86.0,89.0,93.0,94.0,95.0,98.0,100.0,102.0,106.0,108.0,109.0,110.0,113.0,116.0,118.0,119.0,120.0,121.0,125.0,127.0,128.0,129.0,130.0,133.0,134.0,135.0,137.0,139.0,140.0,143.0,144.0,145.0,147.0,148.0,151.0,152.0,153.0,156.0,157.0,158.0,159.0,160.0,163.0,164.0,166.0,170.0,173.0,174.0,175.0,177.0,179.0,181.0,183.0,184.0,187.0,188.0,189.0,190.0,191.0,192.0,195.0,196.0,197.0,198.0,199.0,200.0,201.0,204.0,207.0,208.0,209.0,210.0,212.0,213.0,214.0,215.0,216.0,220.0,222.0,223.0,224.0,226.0,227.0,228.0,229.0,230.0,231.0,232.0,234.0,235.0,236.0,237.0,238.0,239.0,240.0,241.0,246.0,247.0,248.0,250.0,251.0,252.0,253.0,254.0,255.0,257.0,258.0,259.0,261.0,262.0,264.0,265.0,266.0,268.0,270.0,271.0,272.0,273.0,274.0,277.0,280.0,281.0,282.0,283.0,284.0,285.0,287.0,288.0,289.0,290.0,292.0,293.0,294.0,295.0,296.0,297.0,298.0,299.0,300.0,301.0,302.0,303.0,304.0,305.0,306.0,307.0,308.0,309.0,310.0,311.0,312.0,313.0,314.0,315.0,316.0,317.0,319.0,320.0,321.0,323.0,325.0,326.0,327.0,328.0,329.0,331.0,332.0,333.0,334.0,337.0,338.0,340.0,341.0,342.0,343.0,345.0,347.0,349.0,350.0,351.0,352.0,353.0,354.0,356.0,357.0,358.0,359.0,361.0,362.0,363.0,364.0,365.0,366.0,368.0,369.0,370.0,371.0,372.0,373.0,374.0,376.0,377.0,378.0,382.0,383.0,386.0,387.0,390.0,391.0,393.0,395.0,396.0,397.0,399.0,401.0,402.0,403.0,404.0,405.0,406.0,407.0,408.0,409.0,411.0,413.0,414.0,416.0,417.0,419.0,420.0,421.0,422.0,423.0,425.0,426.0,427.0,429.0,430.0,431.0,432.0,433.0,435.0,436.0,438.0,439.0,440.0,441.0,442.0,444.0,445.0,446.0,447.0,448.0,449.0,451.0,452.0,453.0,455.0,456.0,457.0,458.0,459.0,460.0,461.0,462.0,463.0,466.0,468.0,469.0,471.0,472.0,473.0,474.0,475.0,476.0,479.0,480.0,481.0,482.0,483.0,484.0,485.0,486.0,488.0,489.0,491.0,493.0,494.0,495.0,496.0,497.0,500.0,501.0,502.0,503.0,505.0,507.0,508.0,509.0,511.0,512.0,515.0,516.0,517.0,519.0,522.0,523.0,524.0,526.0,528.0,529.0,530.0,531.0,532.0,533.0,534.0,536.0,537.0,539.0,541.0,542.0,543.0,544.0,545.0,546.0,547.0,549.0,550.0,551.0,552.0,554.0,557.0,561.0,562.0,563.0,565.0,566.0,567.0,569.0,570.0,571.0,573.0,575.0,576.0,577.0,578.0,579.0,580.0,581.0,583.0,584.0,585.0,587.0,588.0,589.0,590.0,591.0,592.0,594.0,595.0,596.0,599.0,600.0,601.0,602.0,603.0,604.0,605.0,606.0,607.0,610.0,611.0,612.0,616.0,617.0,618.0,620.0,621.0,622.0,623.0,624.0,625.0,626.0,627.0,628.0,629.0,630.0,631.0,632.0,633.0,634.0,636.0,637.0,639.0,640.0,641.0,642.0,643.0,644.0,645.0,646.0,647.0,649.0,650.0,651.0,654.0,655.0,657.0,659.0,661.0,663.0,665.0,666.0,667.0,668.0,669.0,670.0,671.0,672.0,674.0,675.0,677.0,678.0,679.0,680.0,682.0,683.0,685.0,687.0,689.0,690.0,691.0,692.0,693.0,694.0,695.0,696.0,697.0,700.0,701.0,704.0,705.0,707.0,708.0,710.0,711.0,712.0,714.0,715.0,717.0,718.0,719.0,720.0,721.0,722.0,723.0,725.0,726.0,728.0,731.0,733.0,735.0,737.0,738.0,740.0,742.0,744.0,745.0,746.0,748.0,749.0,751.0,752.0,753.0,755.0,757.0,758.0,759.0,760.0,761.0,762.0,763.0,764.0,765.0,767.0,769.0,770.0,771.0,772.0,773.0,775.0,776.0,777.0,779.0,780.0,781.0,782.0,783.0,784.0,785.0,786.0,787.0,788.0,793.0,794.0,795.0,798.0,799.0,801.0,802.0,803.0,804.0,805.0,806.0,808.0,809.0,811.0,812.0,813.0,814.0,816.0,817.0,818.0,819.0,820.0,821.0,824.0,825.0,826.0,828.0,829.0,831.0,833.0,834.0,835.0,836.0,837.0,838.0,840.0,842.0,843.0,844.0,845.0,846.0,849.0,850.0,851.0,852.0,853.0,854.0,857.0,859.0,860.0,861.0,862.0,864.0,866.0,867.0,868.0,869.0,871.0,872.0,873.0,874.0,878.0,879.0,882.0,883.0,888.0,889.0,892.0,894.0,895.0,896.0,898.0,899.0,901.0,902.0,907.0,908.0,909.0,911.0,912.0,913.0,916.0,917.0,919.0,920.0,921.0,922.0,925.0,926.0,927.0,928.0,929.0,930.0,931.0,932.0,933.0,935.0,936.0,937.0,942.0,944.0,945.0,946.0,948.0,950.0,951.0,954.0,955.0,956.0,957.0,964.0,965.0,966.0,967.0,968.0,969.0,970.0,971.0,972.0,973.0,977.0,978.0,980.0,982.0,983.0,984.0,985.0,986.0,989.0,990.0,991.0,992.0,993.0,994.0,996.0,997.0,998.0,999.0,1005.0,1008.0,1009.0,1010.0,1011.0,1012.0,1013.0,1014.0,1015.0,1017.0,1020.0,1021.0,1022.0,1023.0,1024.0,1025.0,1026.0,1027.0,1028.0,1029.0,1034.0,1035.0,1036.0,1037.0,1039.0,1041.0,1042.0,1044.0,1045.0,1046.0,1047.0,1048.0,1050.0,1052.0,1053.0,1055.0,1056.0,1061.0,1062.0,1065.0,1066.0,1067.0,1068.0,1069.0,1072.0,1073.0,1074.0,1075.0,1076.0,1079.0,1080.0,1084.0,1085.0,1086.0,1089.0,1090.0,1091.0,1092.0,1095.0,1096.0,1097.0,1099.0,1102.0,1103.0,1105.0,1107.0,1108.0,1111.0,1117.0,1118.0,1119.0,1120.0,1121.0,1123.0,1124.0,1126.0,1127.0,1129.0,1130.0,1133.0,1134.0,1136.0,1138.0,1139.0,1142.0,1144.0,1145.0,1147.0,1154.0,1157.0,1158.0,1162.0,1166.0,1167.0,1168.0,1171.0,1172.0,1173.0,1174.0,1175.0,1179.0,1180.0,1182.0,1183.0,1184.0,1185.0,1187.0,1188.0,1189.0,1190.0,1192.0,1195.0,1197.0,1199.0,1201.0,1204.0,1205.0,1208.0,1209.0,1211.0,1212.0,1214.0,1216.0,1217.0,1218.0,1222.0,1226.0,1235.0,1237.0,1242.0,1246.0,1249.0,1250.0,1256.0,1258.0,1259.0,1262.0,1269.0,1276.0,1294.0,1298.0,1299.0,1300.0,1303.0,1304.0,1306.0,1310.0,1313.0,1315.0,1325.0,1330.0,1337.0,1342.0,1345.0,1346.0,1352.0,1357.0,1363.0,1368.0,1371.0,1372.0,1379.0,1381.0,1384.0,1389.0,1390.0,1391.0,1399.0,1400.0,1404.0,1407.0,1411.0,1416.0,1426.0,1428.0,1430.0,1431.0,1436.0,1437.0,1438.0,1440.0,1444.0,1448.0,1449.0,1450.0,1452.0,1457.0,1460.0,1464.0,1468.0,1471.0,1475.0,1476.0,1481.0,1482.0,1487.0,1488.0,1489.0,1491.0,1497.0,1500.0,1501.0,1504.0,1506.0,1514.0,1520.0,1521.0,1524.0,1532.0,1533.0,1535.0,1541.0,1542.0,1546.0,1547.0,1554.0,1558.0,1562.0,1565.0,1569.0,1576.0,1585.0,1587.0,1589.0,1590.0,1592.0,1597.0,1598.0,1605.0,1606.0,1607.0,1608.0,1609.0,1616.0,1617.0,1618.0,1619.0,1620.0,1623.0,1624.0,1626.0,1634.0,1635.0,1660.0,1666.0,1670.0,1671.0,1674.0,1678.0,1680.0,1694.0,1698.0,1703.0,1709.0,1715.0,1721.0,1723.0,1726.0,1727.0,1728.0,1733.0,1735.0,1737.0,1739.0,1744.0,1747.0,1749.0,1750.0,1751.0,1754.0,1771.0,1773.0,1781.0,1788.0,1790.0,1797.0,1814.0,1824.0,1825.0,1829.0,1836.0,1838.0,1842.0,1844.0,1846.0,1849.0,1855.0,1865.0,1874.0,1891.0,1892.0,1900.0,1910.0,1912.0,1916.0,1919.0,1927.0,1930.0,1931.0,1943.0,1947.0,1956.0,1965.0,1972.0,1978.0,1979.0,1984.0,1986.0,1990.0,1995.0,1997.0,1999.0,2007.0,2018.0,2026.0,2039.0,2052.0,2065.0,2072.0,2075.0,2077.0,2079.0,2086.0,2092.0,2106.0,2125.0,2133.0,2139.0,2149.0,2153.0,2161.0,2165.0,2172.0,2173.0,2174.0,2176.0,2182.0,2218.0,2227.0,2239.0,2248.0,2253.0,2267.0,2279.0,2288.0,2295.0,2296.0,2297.0,2300.0,2306.0,2311.0,2329.0,2338.0,2342.0,2343.0,2349.0,2358.0,2367.0,2370.0,2378.0,2381.0,2384.0,2398.0,2400.0,2402.0,2405.0,2409.0,2419.0,2422.0,2425.0,2434.0,2442.0,2446.0,2447.0,2454.0,2462.0,2465.0,2475.0,2486.0,2496.0,2504.0,2519.0,2520.0,2521.0,2552.0,2554.0,2556.0,2565.0,2576.0,2583.0,2584.0,2585.0,2586.0,2588.0,2599.0,2602.0,2603.0,2611.0,2614.0,2615.0,2636.0,2640.0,2676.0,2677.0,2688.0,2689.0,2701.0,2704.0,2724.0,2762.0,2785.0,2846.0,2917.0,3043.0,3365.0,3711.0,3784.0,3801.0,4243.0,4962.0],\"xaxis\":\"x2\",\"yaxis\":\"y2\",\"type\":\"box\"}],                        {\"template\":{\"data\":{\"histogram2dcontour\":[{\"type\":\"histogram2dcontour\",\"colorbar\":{\"outlinewidth\":0,\"ticks\":\"\"},\"colorscale\":[[0.0,\"#0d0887\"],[0.1111111111111111,\"#46039f\"],[0.2222222222222222,\"#7201a8\"],[0.3333333333333333,\"#9c179e\"],[0.4444444444444444,\"#bd3786\"],[0.5555555555555556,\"#d8576b\"],[0.6666666666666666,\"#ed7953\"],[0.7777777777777778,\"#fb9f3a\"],[0.8888888888888888,\"#fdca26\"],[1.0,\"#f0f921\"]]}],\"choropleth\":[{\"type\":\"choropleth\",\"colorbar\":{\"outlinewidth\":0,\"ticks\":\"\"}}],\"histogram2d\":[{\"type\":\"histogram2d\",\"colorbar\":{\"outlinewidth\":0,\"ticks\":\"\"},\"colorscale\":[[0.0,\"#0d0887\"],[0.1111111111111111,\"#46039f\"],[0.2222222222222222,\"#7201a8\"],[0.3333333333333333,\"#9c179e\"],[0.4444444444444444,\"#bd3786\"],[0.5555555555555556,\"#d8576b\"],[0.6666666666666666,\"#ed7953\"],[0.7777777777777778,\"#fb9f3a\"],[0.8888888888888888,\"#fdca26\"],[1.0,\"#f0f921\"]]}],\"heatmap\":[{\"type\":\"heatmap\",\"colorbar\":{\"outlinewidth\":0,\"ticks\":\"\"},\"colorscale\":[[0.0,\"#0d0887\"],[0.1111111111111111,\"#46039f\"],[0.2222222222222222,\"#7201a8\"],[0.3333333333333333,\"#9c179e\"],[0.4444444444444444,\"#bd3786\"],[0.5555555555555556,\"#d8576b\"],[0.6666666666666666,\"#ed7953\"],[0.7777777777777778,\"#fb9f3a\"],[0.8888888888888888,\"#fdca26\"],[1.0,\"#f0f921\"]]}],\"heatmapgl\":[{\"type\":\"heatmapgl\",\"colorbar\":{\"outlinewidth\":0,\"ticks\":\"\"},\"colorscale\":[[0.0,\"#0d0887\"],[0.1111111111111111,\"#46039f\"],[0.2222222222222222,\"#7201a8\"],[0.3333333333333333,\"#9c179e\"],[0.4444444444444444,\"#bd3786\"],[0.5555555555555556,\"#d8576b\"],[0.6666666666666666,\"#ed7953\"],[0.7777777777777778,\"#fb9f3a\"],[0.8888888888888888,\"#fdca26\"],[1.0,\"#f0f921\"]]}],\"contourcarpet\":[{\"type\":\"contourcarpet\",\"colorbar\":{\"outlinewidth\":0,\"ticks\":\"\"}}],\"contour\":[{\"type\":\"contour\",\"colorbar\":{\"outlinewidth\":0,\"ticks\":\"\"},\"colorscale\":[[0.0,\"#0d0887\"],[0.1111111111111111,\"#46039f\"],[0.2222222222222222,\"#7201a8\"],[0.3333333333333333,\"#9c179e\"],[0.4444444444444444,\"#bd3786\"],[0.5555555555555556,\"#d8576b\"],[0.6666666666666666,\"#ed7953\"],[0.7777777777777778,\"#fb9f3a\"],[0.8888888888888888,\"#fdca26\"],[1.0,\"#f0f921\"]]}],\"surface\":[{\"type\":\"surface\",\"colorbar\":{\"outlinewidth\":0,\"ticks\":\"\"},\"colorscale\":[[0.0,\"#0d0887\"],[0.1111111111111111,\"#46039f\"],[0.2222222222222222,\"#7201a8\"],[0.3333333333333333,\"#9c179e\"],[0.4444444444444444,\"#bd3786\"],[0.5555555555555556,\"#d8576b\"],[0.6666666666666666,\"#ed7953\"],[0.7777777777777778,\"#fb9f3a\"],[0.8888888888888888,\"#fdca26\"],[1.0,\"#f0f921\"]]}],\"mesh3d\":[{\"type\":\"mesh3d\",\"colorbar\":{\"outlinewidth\":0,\"ticks\":\"\"}}],\"scatter\":[{\"fillpattern\":{\"fillmode\":\"overlay\",\"size\":10,\"solidity\":0.2},\"type\":\"scatter\"}],\"parcoords\":[{\"type\":\"parcoords\",\"line\":{\"colorbar\":{\"outlinewidth\":0,\"ticks\":\"\"}}}],\"scatterpolargl\":[{\"type\":\"scatterpolargl\",\"marker\":{\"colorbar\":{\"outlinewidth\":0,\"ticks\":\"\"}}}],\"bar\":[{\"error_x\":{\"color\":\"#2a3f5f\"},\"error_y\":{\"color\":\"#2a3f5f\"},\"marker\":{\"line\":{\"color\":\"#E5ECF6\",\"width\":0.5},\"pattern\":{\"fillmode\":\"overlay\",\"size\":10,\"solidity\":0.2}},\"type\":\"bar\"}],\"scattergeo\":[{\"type\":\"scattergeo\",\"marker\":{\"colorbar\":{\"outlinewidth\":0,\"ticks\":\"\"}}}],\"scatterpolar\":[{\"type\":\"scatterpolar\",\"marker\":{\"colorbar\":{\"outlinewidth\":0,\"ticks\":\"\"}}}],\"histogram\":[{\"marker\":{\"pattern\":{\"fillmode\":\"overlay\",\"size\":10,\"solidity\":0.2}},\"type\":\"histogram\"}],\"scattergl\":[{\"type\":\"scattergl\",\"marker\":{\"colorbar\":{\"outlinewidth\":0,\"ticks\":\"\"}}}],\"scatter3d\":[{\"type\":\"scatter3d\",\"line\":{\"colorbar\":{\"outlinewidth\":0,\"ticks\":\"\"}},\"marker\":{\"colorbar\":{\"outlinewidth\":0,\"ticks\":\"\"}}}],\"scattermapbox\":[{\"type\":\"scattermapbox\",\"marker\":{\"colorbar\":{\"outlinewidth\":0,\"ticks\":\"\"}}}],\"scatterternary\":[{\"type\":\"scatterternary\",\"marker\":{\"colorbar\":{\"outlinewidth\":0,\"ticks\":\"\"}}}],\"scattercarpet\":[{\"type\":\"scattercarpet\",\"marker\":{\"colorbar\":{\"outlinewidth\":0,\"ticks\":\"\"}}}],\"carpet\":[{\"aaxis\":{\"endlinecolor\":\"#2a3f5f\",\"gridcolor\":\"white\",\"linecolor\":\"white\",\"minorgridcolor\":\"white\",\"startlinecolor\":\"#2a3f5f\"},\"baxis\":{\"endlinecolor\":\"#2a3f5f\",\"gridcolor\":\"white\",\"linecolor\":\"white\",\"minorgridcolor\":\"white\",\"startlinecolor\":\"#2a3f5f\"},\"type\":\"carpet\"}],\"table\":[{\"cells\":{\"fill\":{\"color\":\"#EBF0F8\"},\"line\":{\"color\":\"white\"}},\"header\":{\"fill\":{\"color\":\"#C8D4E3\"},\"line\":{\"color\":\"white\"}},\"type\":\"table\"}],\"barpolar\":[{\"marker\":{\"line\":{\"color\":\"#E5ECF6\",\"width\":0.5},\"pattern\":{\"fillmode\":\"overlay\",\"size\":10,\"solidity\":0.2}},\"type\":\"barpolar\"}],\"pie\":[{\"automargin\":true,\"type\":\"pie\"}]},\"layout\":{\"autotypenumbers\":\"strict\",\"colorway\":[\"#636efa\",\"#EF553B\",\"#00cc96\",\"#ab63fa\",\"#FFA15A\",\"#19d3f3\",\"#FF6692\",\"#B6E880\",\"#FF97FF\",\"#FECB52\"],\"font\":{\"color\":\"#2a3f5f\"},\"hovermode\":\"closest\",\"hoverlabel\":{\"align\":\"left\"},\"paper_bgcolor\":\"white\",\"plot_bgcolor\":\"#E5ECF6\",\"polar\":{\"bgcolor\":\"#E5ECF6\",\"angularaxis\":{\"gridcolor\":\"white\",\"linecolor\":\"white\",\"ticks\":\"\"},\"radialaxis\":{\"gridcolor\":\"white\",\"linecolor\":\"white\",\"ticks\":\"\"}},\"ternary\":{\"bgcolor\":\"#E5ECF6\",\"aaxis\":{\"gridcolor\":\"white\",\"linecolor\":\"white\",\"ticks\":\"\"},\"baxis\":{\"gridcolor\":\"white\",\"linecolor\":\"white\",\"ticks\":\"\"},\"caxis\":{\"gridcolor\":\"white\",\"linecolor\":\"white\",\"ticks\":\"\"}},\"coloraxis\":{\"colorbar\":{\"outlinewidth\":0,\"ticks\":\"\"}},\"colorscale\":{\"sequential\":[[0.0,\"#0d0887\"],[0.1111111111111111,\"#46039f\"],[0.2222222222222222,\"#7201a8\"],[0.3333333333333333,\"#9c179e\"],[0.4444444444444444,\"#bd3786\"],[0.5555555555555556,\"#d8576b\"],[0.6666666666666666,\"#ed7953\"],[0.7777777777777778,\"#fb9f3a\"],[0.8888888888888888,\"#fdca26\"],[1.0,\"#f0f921\"]],\"sequentialminus\":[[0.0,\"#0d0887\"],[0.1111111111111111,\"#46039f\"],[0.2222222222222222,\"#7201a8\"],[0.3333333333333333,\"#9c179e\"],[0.4444444444444444,\"#bd3786\"],[0.5555555555555556,\"#d8576b\"],[0.6666666666666666,\"#ed7953\"],[0.7777777777777778,\"#fb9f3a\"],[0.8888888888888888,\"#fdca26\"],[1.0,\"#f0f921\"]],\"diverging\":[[0,\"#8e0152\"],[0.1,\"#c51b7d\"],[0.2,\"#de77ae\"],[0.3,\"#f1b6da\"],[0.4,\"#fde0ef\"],[0.5,\"#f7f7f7\"],[0.6,\"#e6f5d0\"],[0.7,\"#b8e186\"],[0.8,\"#7fbc41\"],[0.9,\"#4d9221\"],[1,\"#276419\"]]},\"xaxis\":{\"gridcolor\":\"white\",\"linecolor\":\"white\",\"ticks\":\"\",\"title\":{\"standoff\":15},\"zerolinecolor\":\"white\",\"automargin\":true,\"zerolinewidth\":2},\"yaxis\":{\"gridcolor\":\"white\",\"linecolor\":\"white\",\"ticks\":\"\",\"title\":{\"standoff\":15},\"zerolinecolor\":\"white\",\"automargin\":true,\"zerolinewidth\":2},\"scene\":{\"xaxis\":{\"backgroundcolor\":\"#E5ECF6\",\"gridcolor\":\"white\",\"linecolor\":\"white\",\"showbackground\":true,\"ticks\":\"\",\"zerolinecolor\":\"white\",\"gridwidth\":2},\"yaxis\":{\"backgroundcolor\":\"#E5ECF6\",\"gridcolor\":\"white\",\"linecolor\":\"white\",\"showbackground\":true,\"ticks\":\"\",\"zerolinecolor\":\"white\",\"gridwidth\":2},\"zaxis\":{\"backgroundcolor\":\"#E5ECF6\",\"gridcolor\":\"white\",\"linecolor\":\"white\",\"showbackground\":true,\"ticks\":\"\",\"zerolinecolor\":\"white\",\"gridwidth\":2}},\"shapedefaults\":{\"line\":{\"color\":\"#2a3f5f\"}},\"annotationdefaults\":{\"arrowcolor\":\"#2a3f5f\",\"arrowhead\":0,\"arrowwidth\":1},\"geo\":{\"bgcolor\":\"white\",\"landcolor\":\"#E5ECF6\",\"subunitcolor\":\"white\",\"showland\":true,\"showlakes\":true,\"lakecolor\":\"white\"},\"title\":{\"x\":0.05},\"mapbox\":{\"style\":\"light\"}}},\"xaxis\":{\"anchor\":\"y\",\"domain\":[0.0,1.0],\"title\":{\"text\":\"DISTANCE\"}},\"yaxis\":{\"anchor\":\"x\",\"domain\":[0.0,0.7326],\"title\":{\"text\":\"percent of sum of Count\"}},\"xaxis2\":{\"anchor\":\"y2\",\"domain\":[0.0,1.0],\"matches\":\"x\",\"showticklabels\":false,\"showgrid\":true},\"yaxis2\":{\"anchor\":\"x2\",\"domain\":[0.7426,1.0],\"matches\":\"y2\",\"showticklabels\":false,\"showline\":false,\"ticks\":\"\",\"showgrid\":false},\"legend\":{\"title\":{\"text\":\"Delayed\"},\"tracegroupgap\":0},\"margin\":{\"t\":60},\"barmode\":\"overlay\",\"title\":{\"text\":\"<b>DISTANCE</b> Feature: No Delay/Delay\",\"x\":0.5},\"height\":400},                        {\"responsive\": true}                    )                };                            </script>        </div>\n",
       "</body>\n",
       "</html>"
      ]
     },
     "metadata": {},
     "output_type": "display_data"
    },
    {
     "output_type": "display_data",
     "data": {
      "text/html": [
       "<html>\n",
       "<head><meta charset=\"utf-8\" /></head>\n",
       "<body>\n",
       "    <div>            <script src=\"https://cdnjs.cloudflare.com/ajax/libs/mathjax/2.7.5/MathJax.js?config=TeX-AMS-MML_SVG\"></script><script type=\"text/javascript\">if (window.MathJax && window.MathJax.Hub && window.MathJax.Hub.Config) {window.MathJax.Hub.Config({SVG: {font: \"STIX-Web\"}});}</script>                <script type=\"text/javascript\">window.PlotlyConfig = {MathJaxConfig: 'local'};</script>\n",
       "        <script src=\"https://cdn.plot.ly/plotly-2.12.1.min.js\"></script>                <div id=\"b4bee552-7c31-4b48-ae70-32776d672b5f\" class=\"plotly-graph-div\" style=\"height:400px; width:100%;\"></div>            <script type=\"text/javascript\">                                    window.PLOTLYENV=window.PLOTLYENV || {};                                    if (document.getElementById(\"b4bee552-7c31-4b48-ae70-32776d672b5f\")) {                    Plotly.newPlot(                        \"b4bee552-7c31-4b48-ae70-32776d672b5f\",                        [{\"alignmentgroup\":\"True\",\"bingroup\":\"x\",\"histfunc\":\"sum\",\"histnorm\":\"percent\",\"hovertemplate\":\"Delayed=0.0<br>ELEVATION=%{x}<br>percent of sum of Count=%{y}<extra></extra>\",\"legendgroup\":\"0.0\",\"marker\":{\"color\":\"#636efa\",\"opacity\":0.5,\"pattern\":{\"shape\":\"\"},\"line\":{\"color\":\"white\",\"width\":1}},\"name\":\"0.0\",\"offsetgroup\":\"0.0\",\"orientation\":\"v\",\"showlegend\":true,\"x\":[0.3,1.2,1.8,2.1,2.4,2.7,3.0,3.4,3.7,4.0,4.3,4.6,4.9,5.8,6.1,7.0,7.3,7.6,7.9,8.2,8.5,8.8,9.1,9.4,10.1,10.4,11.6,12.2,12.8,13.1,13.4,13.7,14.0,15.5,16.5,16.8,17.1,17.4,18.3,18.6,19.5,20.1,24.1,24.4,25.6,27.4,29.0,29.3,29.6,30.5,31.1,32.6,34.1,36.6,37.5,40.2,45.1,45.4,47.5,50.0,50.3,53.3,56.7,57.9,60.4,61.0,61.6,64.9,65.5,66.4,67.4,68.6,71.3,73.8,77.4,78.6,80.5,85.3,88.4,89.3,89.6,93.0,95.1,100.0,100.6,101.5,107.6,110.0,111.3,111.9,112.8,114.0,118.9,119.5,121.9,124.1,124.7,125.9,126.8,131.7,134.1,136.9,146.3,148.7,149.0,150.6,151.5,152.4,161.8,164.3,165.8,170.7,177.1,178.3,180.4,181.1,182.9,186.5,187.5,188.4,190.2,190.5,192.3,195.1,198.1,198.7,201.2,201.8,203.3,204.2,205.4,208.5,209.4,214.9,218.2,221.9,222.2,225.9,229.8,234.7,235.6,238.0,240.5,241.1,243.5,244.8,248.7,256.6,261.8,263.7,264.0,264.6,265.8,269.1,269.7,271.3,272.2,274.3,277.4,279.5,283.5,289.3,291.1,291.7,293.2,296.3,298.7,299.3,304.8,305.7,306.3,307.8,309.4,310.0,310.3,321.9,325.8,333.8,337.4,350.2,358.1,360.6,362.7,365.5,366.7,369.7,372.2,377.6,384.7,389.2,391.7,392.3,395.3,397.5,400.2,402.6,412.1,424.3,435.3,436.8,437.7,439.2,455.4,456.3,495.0,503.2,507.5,545.6,560.8,579.7,584.0,609.0,645.3,664.5,717.2,776.9,786.4,857.7,872.3,878.4,894.9,901.3,927.5,963.2,972.9,991.8,1091.5,1098.5,1112.2,1114.0,1116.8,1166.8,1194.2,1265.2,1287.8,1327.1,1344.2,1349.3,1357.0,1389.9,1442.6,1480.7,1533.1,1552.0,1606.3,1617.3,1618.5,1620.9,1650.2,1678.2,1702.6,1743.5,1884.0,1933.7,1956.5,1980.3,2011.7,2033.0,2055.0,2134.5,2172.6,2214.7,2336.6,2353.1],\"xaxis\":\"x\",\"y\":[15,252,283,865,874,52,1116,1687,750,7,5,494,43,920,27,243,9,33,137,9,26,437,49,274,18,26,79,62,37,100,357,45,51,415,270,104,8,26,21,11,44,45,22,18,54,698,927,7,1238,114,9,4,63,112,22,16,2,5,527,110,25,130,9,29,4,35,28,8,40,6,34,34,2,4,151,56,9,38,230,2,6,12,18,7,81,52,30,3,5,45,787,15,8,7,22,14,62,40,225,14,336,14,283,65,24,13,9,10,343,57,12,1529,3,3,19,21,305,468,84,22,18,3,709,15,144,9,14,1733,191,26,6,4,37,3,122,672,2,130,17,34,23,222,194,201,3,91,171,5,14,21,62,58,786,121,5,63,10,38,17,25,13,130,39,53,40,6,37,130,9,62,259,2303,20,10,1,22,10,6,939,1,10,6,23,8,162,36,7,5,38,9,101,48,5,14,13,52,3,8,38,10,2,5,7,15,9,21,10,15,4,29,9,5,18,881,67,117,5,76,53,4,13,8,18,26,21,30,34,27,11,4,14,9,85,8,726,7,74,36,8,2,21,18,3,6,1,8,117,12,1228,9,3,9,50,8,31,9,6,17,5,11,1,1,2,24],\"yaxis\":\"y\",\"type\":\"histogram\"},{\"alignmentgroup\":\"True\",\"hovertemplate\":\"Delayed=0.0<br>ELEVATION=%{x}<extra></extra>\",\"legendgroup\":\"0.0\",\"marker\":{\"color\":\"#636efa\",\"line\":{\"color\":\"white\",\"width\":1}},\"name\":\"0.0\",\"notched\":true,\"offsetgroup\":\"0.0\",\"showlegend\":false,\"x\":[0.3,1.2,1.8,2.1,2.4,2.7,3.0,3.4,3.7,4.0,4.3,4.6,4.9,5.8,6.1,7.0,7.3,7.6,7.9,8.2,8.5,8.8,9.1,9.4,10.1,10.4,11.6,12.2,12.8,13.1,13.4,13.7,14.0,15.5,16.5,16.8,17.1,17.4,18.3,18.6,19.5,20.1,24.1,24.4,25.6,27.4,29.0,29.3,29.6,30.5,31.1,32.6,34.1,36.6,37.5,40.2,45.1,45.4,47.5,50.0,50.3,53.3,56.7,57.9,60.4,61.0,61.6,64.9,65.5,66.4,67.4,68.6,71.3,73.8,77.4,78.6,80.5,85.3,88.4,89.3,89.6,93.0,95.1,100.0,100.6,101.5,107.6,110.0,111.3,111.9,112.8,114.0,118.9,119.5,121.9,124.1,124.7,125.9,126.8,131.7,134.1,136.9,146.3,148.7,149.0,150.6,151.5,152.4,161.8,164.3,165.8,170.7,177.1,178.3,180.4,181.1,182.9,186.5,187.5,188.4,190.2,190.5,192.3,195.1,198.1,198.7,201.2,201.8,203.3,204.2,205.4,208.5,209.4,214.9,218.2,221.9,222.2,225.9,229.8,234.7,235.6,238.0,240.5,241.1,243.5,244.8,248.7,256.6,261.8,263.7,264.0,264.6,265.8,269.1,269.7,271.3,272.2,274.3,277.4,279.5,283.5,289.3,291.1,291.7,293.2,296.3,298.7,299.3,304.8,305.7,306.3,307.8,309.4,310.0,310.3,321.9,325.8,333.8,337.4,350.2,358.1,360.6,362.7,365.5,366.7,369.7,372.2,377.6,384.7,389.2,391.7,392.3,395.3,397.5,400.2,402.6,412.1,424.3,435.3,436.8,437.7,439.2,455.4,456.3,495.0,503.2,507.5,545.6,560.8,579.7,584.0,609.0,645.3,664.5,717.2,776.9,786.4,857.7,872.3,878.4,894.9,901.3,927.5,963.2,972.9,991.8,1091.5,1098.5,1112.2,1114.0,1116.8,1166.8,1194.2,1265.2,1287.8,1327.1,1344.2,1349.3,1357.0,1389.9,1442.6,1480.7,1533.1,1552.0,1606.3,1617.3,1618.5,1620.9,1650.2,1678.2,1702.6,1743.5,1884.0,1933.7,1956.5,1980.3,2011.7,2033.0,2055.0,2134.5,2172.6,2214.7,2336.6,2353.1],\"xaxis\":\"x2\",\"yaxis\":\"y2\",\"type\":\"box\"},{\"alignmentgroup\":\"True\",\"bingroup\":\"x\",\"histfunc\":\"sum\",\"histnorm\":\"percent\",\"hovertemplate\":\"Delayed=1.0<br>ELEVATION=%{x}<br>percent of sum of Count=%{y}<extra></extra>\",\"legendgroup\":\"1.0\",\"marker\":{\"color\":\"#EF553B\",\"opacity\":0.5,\"pattern\":{\"shape\":\"\"},\"line\":{\"color\":\"white\",\"width\":1}},\"name\":\"1.0\",\"offsetgroup\":\"1.0\",\"orientation\":\"v\",\"showlegend\":true,\"x\":[0.3,1.2,1.8,2.1,2.4,2.7,3.0,3.4,3.7,4.0,4.3,4.6,4.9,5.8,6.1,7.0,7.3,7.6,7.9,8.2,8.5,8.8,9.1,9.4,10.1,10.4,11.6,12.2,12.8,13.1,13.4,13.7,14.0,15.5,16.5,16.8,17.1,17.4,18.3,18.6,19.5,20.1,20.4,20.7,24.1,24.4,25.6,27.4,29.0,29.3,29.6,30.5,32.6,34.1,36.6,37.5,40.2,45.4,47.5,50.0,50.3,53.3,56.7,57.9,60.4,61.0,61.6,64.9,65.5,66.4,67.4,68.6,71.3,77.4,78.6,85.3,88.4,89.6,93.0,95.1,100.0,100.6,101.5,107.6,111.3,111.9,112.8,114.0,118.9,119.5,121.9,124.7,125.9,126.8,131.7,134.1,136.9,146.3,148.7,149.0,150.6,151.5,152.4,161.8,164.3,165.8,170.7,180.4,181.1,182.9,186.5,187.5,188.4,190.2,190.5,192.3,195.1,198.1,201.2,201.8,203.3,204.2,205.4,208.5,209.4,218.2,221.9,225.9,229.8,234.7,235.6,238.0,240.5,241.1,243.5,244.8,248.7,263.7,264.0,264.6,265.8,269.1,271.3,272.2,274.3,277.4,279.5,283.5,289.3,291.1,291.7,293.2,296.3,298.7,299.3,304.8,305.7,306.3,307.8,309.4,310.0,321.9,325.8,333.8,337.4,358.1,360.6,362.7,365.5,366.7,369.7,372.2,377.6,384.7,389.2,391.7,392.3,397.5,400.2,402.6,435.3,436.8,455.4,456.3,495.0,503.2,507.5,560.8,579.7,584.0,609.0,645.3,664.5,717.2,776.9,786.4,857.7,872.3,878.4,901.3,927.5,963.2,972.9,991.8,1091.5,1098.5,1112.2,1194.2,1287.8,1344.2,1349.3,1442.6,1480.7,1552.0,1617.3,1618.5,1620.9,1650.2,1884.0,1933.7,1956.5,1980.3,2011.7,2033.0,2336.6,2353.1],\"xaxis\":\"x\",\"y\":[2,51,68,238,242,8,219,477,150,3,1,112,8,176,8,60,1,12,14,1,6,136,17,54,3,5,14,17,8,9,115,4,14,74,44,14,2,5,7,2,11,2,1,1,3,2,8,198,271,1,311,10,1,11,17,4,5,1,183,23,5,26,6,6,1,4,5,1,4,2,8,7,1,33,17,10,49,1,3,3,2,14,12,3,1,16,131,2,2,2,5,9,6,50,1,113,2,56,15,5,2,1,5,65,16,4,451,3,4,76,174,11,5,4,3,144,1,31,1,546,39,3,2,1,5,19,153,25,3,2,7,50,36,46,1,10,25,3,12,18,156,23,10,3,9,6,2,2,26,6,14,16,1,9,15,2,11,57,500,5,1,4,6,1,234,2,2,1,3,28,3,1,1,8,2,22,22,3,3,10,10,1,2,3,1,6,2,1,5,3,2,1,225,7,17,1,13,11,1,3,1,2,1,9,1,8,1,16,90,22,5,5,3,2,1,29,2,378,5,2,3,2,2,3,1,5],\"yaxis\":\"y\",\"type\":\"histogram\"},{\"alignmentgroup\":\"True\",\"hovertemplate\":\"Delayed=1.0<br>ELEVATION=%{x}<extra></extra>\",\"legendgroup\":\"1.0\",\"marker\":{\"color\":\"#EF553B\",\"line\":{\"color\":\"white\",\"width\":1}},\"name\":\"1.0\",\"notched\":true,\"offsetgroup\":\"1.0\",\"showlegend\":false,\"x\":[0.3,1.2,1.8,2.1,2.4,2.7,3.0,3.4,3.7,4.0,4.3,4.6,4.9,5.8,6.1,7.0,7.3,7.6,7.9,8.2,8.5,8.8,9.1,9.4,10.1,10.4,11.6,12.2,12.8,13.1,13.4,13.7,14.0,15.5,16.5,16.8,17.1,17.4,18.3,18.6,19.5,20.1,20.4,20.7,24.1,24.4,25.6,27.4,29.0,29.3,29.6,30.5,32.6,34.1,36.6,37.5,40.2,45.4,47.5,50.0,50.3,53.3,56.7,57.9,60.4,61.0,61.6,64.9,65.5,66.4,67.4,68.6,71.3,77.4,78.6,85.3,88.4,89.6,93.0,95.1,100.0,100.6,101.5,107.6,111.3,111.9,112.8,114.0,118.9,119.5,121.9,124.7,125.9,126.8,131.7,134.1,136.9,146.3,148.7,149.0,150.6,151.5,152.4,161.8,164.3,165.8,170.7,180.4,181.1,182.9,186.5,187.5,188.4,190.2,190.5,192.3,195.1,198.1,201.2,201.8,203.3,204.2,205.4,208.5,209.4,218.2,221.9,225.9,229.8,234.7,235.6,238.0,240.5,241.1,243.5,244.8,248.7,263.7,264.0,264.6,265.8,269.1,271.3,272.2,274.3,277.4,279.5,283.5,289.3,291.1,291.7,293.2,296.3,298.7,299.3,304.8,305.7,306.3,307.8,309.4,310.0,321.9,325.8,333.8,337.4,358.1,360.6,362.7,365.5,366.7,369.7,372.2,377.6,384.7,389.2,391.7,392.3,397.5,400.2,402.6,435.3,436.8,455.4,456.3,495.0,503.2,507.5,560.8,579.7,584.0,609.0,645.3,664.5,717.2,776.9,786.4,857.7,872.3,878.4,901.3,927.5,963.2,972.9,991.8,1091.5,1098.5,1112.2,1194.2,1287.8,1344.2,1349.3,1442.6,1480.7,1552.0,1617.3,1618.5,1620.9,1650.2,1884.0,1933.7,1956.5,1980.3,2011.7,2033.0,2336.6,2353.1],\"xaxis\":\"x2\",\"yaxis\":\"y2\",\"type\":\"box\"}],                        {\"template\":{\"data\":{\"histogram2dcontour\":[{\"type\":\"histogram2dcontour\",\"colorbar\":{\"outlinewidth\":0,\"ticks\":\"\"},\"colorscale\":[[0.0,\"#0d0887\"],[0.1111111111111111,\"#46039f\"],[0.2222222222222222,\"#7201a8\"],[0.3333333333333333,\"#9c179e\"],[0.4444444444444444,\"#bd3786\"],[0.5555555555555556,\"#d8576b\"],[0.6666666666666666,\"#ed7953\"],[0.7777777777777778,\"#fb9f3a\"],[0.8888888888888888,\"#fdca26\"],[1.0,\"#f0f921\"]]}],\"choropleth\":[{\"type\":\"choropleth\",\"colorbar\":{\"outlinewidth\":0,\"ticks\":\"\"}}],\"histogram2d\":[{\"type\":\"histogram2d\",\"colorbar\":{\"outlinewidth\":0,\"ticks\":\"\"},\"colorscale\":[[0.0,\"#0d0887\"],[0.1111111111111111,\"#46039f\"],[0.2222222222222222,\"#7201a8\"],[0.3333333333333333,\"#9c179e\"],[0.4444444444444444,\"#bd3786\"],[0.5555555555555556,\"#d8576b\"],[0.6666666666666666,\"#ed7953\"],[0.7777777777777778,\"#fb9f3a\"],[0.8888888888888888,\"#fdca26\"],[1.0,\"#f0f921\"]]}],\"heatmap\":[{\"type\":\"heatmap\",\"colorbar\":{\"outlinewidth\":0,\"ticks\":\"\"},\"colorscale\":[[0.0,\"#0d0887\"],[0.1111111111111111,\"#46039f\"],[0.2222222222222222,\"#7201a8\"],[0.3333333333333333,\"#9c179e\"],[0.4444444444444444,\"#bd3786\"],[0.5555555555555556,\"#d8576b\"],[0.6666666666666666,\"#ed7953\"],[0.7777777777777778,\"#fb9f3a\"],[0.8888888888888888,\"#fdca26\"],[1.0,\"#f0f921\"]]}],\"heatmapgl\":[{\"type\":\"heatmapgl\",\"colorbar\":{\"outlinewidth\":0,\"ticks\":\"\"},\"colorscale\":[[0.0,\"#0d0887\"],[0.1111111111111111,\"#46039f\"],[0.2222222222222222,\"#7201a8\"],[0.3333333333333333,\"#9c179e\"],[0.4444444444444444,\"#bd3786\"],[0.5555555555555556,\"#d8576b\"],[0.6666666666666666,\"#ed7953\"],[0.7777777777777778,\"#fb9f3a\"],[0.8888888888888888,\"#fdca26\"],[1.0,\"#f0f921\"]]}],\"contourcarpet\":[{\"type\":\"contourcarpet\",\"colorbar\":{\"outlinewidth\":0,\"ticks\":\"\"}}],\"contour\":[{\"type\":\"contour\",\"colorbar\":{\"outlinewidth\":0,\"ticks\":\"\"},\"colorscale\":[[0.0,\"#0d0887\"],[0.1111111111111111,\"#46039f\"],[0.2222222222222222,\"#7201a8\"],[0.3333333333333333,\"#9c179e\"],[0.4444444444444444,\"#bd3786\"],[0.5555555555555556,\"#d8576b\"],[0.6666666666666666,\"#ed7953\"],[0.7777777777777778,\"#fb9f3a\"],[0.8888888888888888,\"#fdca26\"],[1.0,\"#f0f921\"]]}],\"surface\":[{\"type\":\"surface\",\"colorbar\":{\"outlinewidth\":0,\"ticks\":\"\"},\"colorscale\":[[0.0,\"#0d0887\"],[0.1111111111111111,\"#46039f\"],[0.2222222222222222,\"#7201a8\"],[0.3333333333333333,\"#9c179e\"],[0.4444444444444444,\"#bd3786\"],[0.5555555555555556,\"#d8576b\"],[0.6666666666666666,\"#ed7953\"],[0.7777777777777778,\"#fb9f3a\"],[0.8888888888888888,\"#fdca26\"],[1.0,\"#f0f921\"]]}],\"mesh3d\":[{\"type\":\"mesh3d\",\"colorbar\":{\"outlinewidth\":0,\"ticks\":\"\"}}],\"scatter\":[{\"fillpattern\":{\"fillmode\":\"overlay\",\"size\":10,\"solidity\":0.2},\"type\":\"scatter\"}],\"parcoords\":[{\"type\":\"parcoords\",\"line\":{\"colorbar\":{\"outlinewidth\":0,\"ticks\":\"\"}}}],\"scatterpolargl\":[{\"type\":\"scatterpolargl\",\"marker\":{\"colorbar\":{\"outlinewidth\":0,\"ticks\":\"\"}}}],\"bar\":[{\"error_x\":{\"color\":\"#2a3f5f\"},\"error_y\":{\"color\":\"#2a3f5f\"},\"marker\":{\"line\":{\"color\":\"#E5ECF6\",\"width\":0.5},\"pattern\":{\"fillmode\":\"overlay\",\"size\":10,\"solidity\":0.2}},\"type\":\"bar\"}],\"scattergeo\":[{\"type\":\"scattergeo\",\"marker\":{\"colorbar\":{\"outlinewidth\":0,\"ticks\":\"\"}}}],\"scatterpolar\":[{\"type\":\"scatterpolar\",\"marker\":{\"colorbar\":{\"outlinewidth\":0,\"ticks\":\"\"}}}],\"histogram\":[{\"marker\":{\"pattern\":{\"fillmode\":\"overlay\",\"size\":10,\"solidity\":0.2}},\"type\":\"histogram\"}],\"scattergl\":[{\"type\":\"scattergl\",\"marker\":{\"colorbar\":{\"outlinewidth\":0,\"ticks\":\"\"}}}],\"scatter3d\":[{\"type\":\"scatter3d\",\"line\":{\"colorbar\":{\"outlinewidth\":0,\"ticks\":\"\"}},\"marker\":{\"colorbar\":{\"outlinewidth\":0,\"ticks\":\"\"}}}],\"scattermapbox\":[{\"type\":\"scattermapbox\",\"marker\":{\"colorbar\":{\"outlinewidth\":0,\"ticks\":\"\"}}}],\"scatterternary\":[{\"type\":\"scatterternary\",\"marker\":{\"colorbar\":{\"outlinewidth\":0,\"ticks\":\"\"}}}],\"scattercarpet\":[{\"type\":\"scattercarpet\",\"marker\":{\"colorbar\":{\"outlinewidth\":0,\"ticks\":\"\"}}}],\"carpet\":[{\"aaxis\":{\"endlinecolor\":\"#2a3f5f\",\"gridcolor\":\"white\",\"linecolor\":\"white\",\"minorgridcolor\":\"white\",\"startlinecolor\":\"#2a3f5f\"},\"baxis\":{\"endlinecolor\":\"#2a3f5f\",\"gridcolor\":\"white\",\"linecolor\":\"white\",\"minorgridcolor\":\"white\",\"startlinecolor\":\"#2a3f5f\"},\"type\":\"carpet\"}],\"table\":[{\"cells\":{\"fill\":{\"color\":\"#EBF0F8\"},\"line\":{\"color\":\"white\"}},\"header\":{\"fill\":{\"color\":\"#C8D4E3\"},\"line\":{\"color\":\"white\"}},\"type\":\"table\"}],\"barpolar\":[{\"marker\":{\"line\":{\"color\":\"#E5ECF6\",\"width\":0.5},\"pattern\":{\"fillmode\":\"overlay\",\"size\":10,\"solidity\":0.2}},\"type\":\"barpolar\"}],\"pie\":[{\"automargin\":true,\"type\":\"pie\"}]},\"layout\":{\"autotypenumbers\":\"strict\",\"colorway\":[\"#636efa\",\"#EF553B\",\"#00cc96\",\"#ab63fa\",\"#FFA15A\",\"#19d3f3\",\"#FF6692\",\"#B6E880\",\"#FF97FF\",\"#FECB52\"],\"font\":{\"color\":\"#2a3f5f\"},\"hovermode\":\"closest\",\"hoverlabel\":{\"align\":\"left\"},\"paper_bgcolor\":\"white\",\"plot_bgcolor\":\"#E5ECF6\",\"polar\":{\"bgcolor\":\"#E5ECF6\",\"angularaxis\":{\"gridcolor\":\"white\",\"linecolor\":\"white\",\"ticks\":\"\"},\"radialaxis\":{\"gridcolor\":\"white\",\"linecolor\":\"white\",\"ticks\":\"\"}},\"ternary\":{\"bgcolor\":\"#E5ECF6\",\"aaxis\":{\"gridcolor\":\"white\",\"linecolor\":\"white\",\"ticks\":\"\"},\"baxis\":{\"gridcolor\":\"white\",\"linecolor\":\"white\",\"ticks\":\"\"},\"caxis\":{\"gridcolor\":\"white\",\"linecolor\":\"white\",\"ticks\":\"\"}},\"coloraxis\":{\"colorbar\":{\"outlinewidth\":0,\"ticks\":\"\"}},\"colorscale\":{\"sequential\":[[0.0,\"#0d0887\"],[0.1111111111111111,\"#46039f\"],[0.2222222222222222,\"#7201a8\"],[0.3333333333333333,\"#9c179e\"],[0.4444444444444444,\"#bd3786\"],[0.5555555555555556,\"#d8576b\"],[0.6666666666666666,\"#ed7953\"],[0.7777777777777778,\"#fb9f3a\"],[0.8888888888888888,\"#fdca26\"],[1.0,\"#f0f921\"]],\"sequentialminus\":[[0.0,\"#0d0887\"],[0.1111111111111111,\"#46039f\"],[0.2222222222222222,\"#7201a8\"],[0.3333333333333333,\"#9c179e\"],[0.4444444444444444,\"#bd3786\"],[0.5555555555555556,\"#d8576b\"],[0.6666666666666666,\"#ed7953\"],[0.7777777777777778,\"#fb9f3a\"],[0.8888888888888888,\"#fdca26\"],[1.0,\"#f0f921\"]],\"diverging\":[[0,\"#8e0152\"],[0.1,\"#c51b7d\"],[0.2,\"#de77ae\"],[0.3,\"#f1b6da\"],[0.4,\"#fde0ef\"],[0.5,\"#f7f7f7\"],[0.6,\"#e6f5d0\"],[0.7,\"#b8e186\"],[0.8,\"#7fbc41\"],[0.9,\"#4d9221\"],[1,\"#276419\"]]},\"xaxis\":{\"gridcolor\":\"white\",\"linecolor\":\"white\",\"ticks\":\"\",\"title\":{\"standoff\":15},\"zerolinecolor\":\"white\",\"automargin\":true,\"zerolinewidth\":2},\"yaxis\":{\"gridcolor\":\"white\",\"linecolor\":\"white\",\"ticks\":\"\",\"title\":{\"standoff\":15},\"zerolinecolor\":\"white\",\"automargin\":true,\"zerolinewidth\":2},\"scene\":{\"xaxis\":{\"backgroundcolor\":\"#E5ECF6\",\"gridcolor\":\"white\",\"linecolor\":\"white\",\"showbackground\":true,\"ticks\":\"\",\"zerolinecolor\":\"white\",\"gridwidth\":2},\"yaxis\":{\"backgroundcolor\":\"#E5ECF6\",\"gridcolor\":\"white\",\"linecolor\":\"white\",\"showbackground\":true,\"ticks\":\"\",\"zerolinecolor\":\"white\",\"gridwidth\":2},\"zaxis\":{\"backgroundcolor\":\"#E5ECF6\",\"gridcolor\":\"white\",\"linecolor\":\"white\",\"showbackground\":true,\"ticks\":\"\",\"zerolinecolor\":\"white\",\"gridwidth\":2}},\"shapedefaults\":{\"line\":{\"color\":\"#2a3f5f\"}},\"annotationdefaults\":{\"arrowcolor\":\"#2a3f5f\",\"arrowhead\":0,\"arrowwidth\":1},\"geo\":{\"bgcolor\":\"white\",\"landcolor\":\"#E5ECF6\",\"subunitcolor\":\"white\",\"showland\":true,\"showlakes\":true,\"lakecolor\":\"white\"},\"title\":{\"x\":0.05},\"mapbox\":{\"style\":\"light\"}}},\"xaxis\":{\"anchor\":\"y\",\"domain\":[0.0,1.0],\"title\":{\"text\":\"ELEVATION\"}},\"yaxis\":{\"anchor\":\"x\",\"domain\":[0.0,0.7326],\"title\":{\"text\":\"percent of sum of Count\"}},\"xaxis2\":{\"anchor\":\"y2\",\"domain\":[0.0,1.0],\"matches\":\"x\",\"showticklabels\":false,\"showgrid\":true},\"yaxis2\":{\"anchor\":\"x2\",\"domain\":[0.7426,1.0],\"matches\":\"y2\",\"showticklabels\":false,\"showline\":false,\"ticks\":\"\",\"showgrid\":false},\"legend\":{\"title\":{\"text\":\"Delayed\"},\"tracegroupgap\":0},\"margin\":{\"t\":60},\"barmode\":\"overlay\",\"title\":{\"text\":\"<b>ELEVATION</b> Feature: No Delay/Delay\",\"x\":0.5},\"height\":400},                        {\"responsive\": true}                    )                };                            </script>        </div>\n",
       "</body>\n",
       "</html>"
      ]
     },
     "metadata": {},
     "output_type": "display_data"
    },
    {
     "output_type": "display_data",
     "data": {
      "text/html": [
       "<html>\n",
       "<head><meta charset=\"utf-8\" /></head>\n",
       "<body>\n",
       "    <div>            <script src=\"https://cdnjs.cloudflare.com/ajax/libs/mathjax/2.7.5/MathJax.js?config=TeX-AMS-MML_SVG\"></script><script type=\"text/javascript\">if (window.MathJax && window.MathJax.Hub && window.MathJax.Hub.Config) {window.MathJax.Hub.Config({SVG: {font: \"STIX-Web\"}});}</script>                <script type=\"text/javascript\">window.PlotlyConfig = {MathJaxConfig: 'local'};</script>\n",
       "        <script src=\"https://cdn.plot.ly/plotly-2.12.1.min.js\"></script>                <div id=\"19f28eba-590e-429d-ade4-d98e86aed993\" class=\"plotly-graph-div\" style=\"height:400px; width:100%;\"></div>            <script type=\"text/javascript\">                                    window.PLOTLYENV=window.PLOTLYENV || {};                                    if (document.getElementById(\"19f28eba-590e-429d-ade4-d98e86aed993\")) {                    Plotly.newPlot(                        \"19f28eba-590e-429d-ade4-d98e86aed993\",                        [{\"alignmentgroup\":\"True\",\"bingroup\":\"x\",\"histfunc\":\"sum\",\"histnorm\":\"percent\",\"hovertemplate\":\"Delayed=0.0<br>HourlyAltimeterSetting=%{x}<br>percent of sum of Count=%{y}<extra></extra>\",\"legendgroup\":\"0.0\",\"marker\":{\"color\":\"#636efa\",\"opacity\":0.5,\"pattern\":{\"shape\":\"\"},\"line\":{\"color\":\"white\",\"width\":1}},\"name\":\"0.0\",\"offsetgroup\":\"0.0\",\"orientation\":\"v\",\"showlegend\":true,\"x\":[28.92,28.97,29.1,29.23,29.25,29.26,29.27,29.29,29.31,29.32,29.34,29.36,29.38,29.39,29.41,29.42,29.43,29.44,29.45,29.46,29.47,29.48,29.49,29.5,29.51,29.52,29.53,29.54,29.55,29.56,29.57,29.58,29.59,29.6,29.61,29.62,29.63,29.64,29.65,29.66,29.67,29.68,29.69,29.7,29.71,29.72,29.73,29.74,29.75,29.76,29.77,29.78,29.79,29.8,29.81,29.82,29.83,29.84,29.85,29.86,29.87,29.88,29.89,29.9,29.91,29.92,29.93,29.94,29.95,29.96,29.97,29.98,29.99,30.0,30.01,30.02,30.03,30.04,30.05,30.06,30.07,30.08,30.09,30.1,30.11,30.12,30.13,30.14,30.15,30.16,30.17,30.18,30.19,30.2,30.21,30.22,30.23,30.24,30.25,30.26,30.27,30.28,30.29,30.3,30.31,30.32,30.33,30.34,30.35,30.36,30.37,30.38,30.39,30.4,30.41,30.42,30.43,30.44,30.45,30.46,30.47,30.48,30.49,30.5,30.51,30.52,30.53,30.54,30.55,30.56,30.57,30.58,30.59,30.6,30.61,30.62,30.63,30.64,30.65,30.66,30.67,30.68,30.69,30.7,30.71,30.72,30.73,30.74,30.75,30.77,30.78,30.8,30.81,30.83,30.84,30.85,30.86,30.89,30.9,30.91,30.96,30.97],\"xaxis\":\"x\",\"y\":[1,1,1,2,1,2,1,2,1,1,1,5,2,3,2,2,3,3,2,4,2,3,5,6,6,13,12,7,14,15,9,19,17,24,21,29,37,34,51,51,72,67,85,97,117,118,120,136,185,189,187,225,252,253,266,332,361,401,408,498,508,582,630,701,727,731,764,823,854,840,889,935,909,958,949,904,820,879,770,803,732,704,738,661,616,665,593,585,532,506,466,395,394,401,334,324,325,294,315,283,260,211,222,196,180,132,137,165,132,109,101,92,88,79,84,65,68,48,64,37,32,40,45,44,39,20,31,20,27,21,22,21,10,16,14,5,14,7,11,7,11,6,9,3,2,3,5,6,2,4,5,2,1,3,1,2,1,1,1,1,1,1],\"yaxis\":\"y\",\"type\":\"histogram\"},{\"alignmentgroup\":\"True\",\"hovertemplate\":\"Delayed=0.0<br>HourlyAltimeterSetting=%{x}<extra></extra>\",\"legendgroup\":\"0.0\",\"marker\":{\"color\":\"#636efa\",\"line\":{\"color\":\"white\",\"width\":1}},\"name\":\"0.0\",\"notched\":true,\"offsetgroup\":\"0.0\",\"showlegend\":false,\"x\":[28.92,28.97,29.1,29.23,29.25,29.26,29.27,29.29,29.31,29.32,29.34,29.36,29.38,29.39,29.41,29.42,29.43,29.44,29.45,29.46,29.47,29.48,29.49,29.5,29.51,29.52,29.53,29.54,29.55,29.56,29.57,29.58,29.59,29.6,29.61,29.62,29.63,29.64,29.65,29.66,29.67,29.68,29.69,29.7,29.71,29.72,29.73,29.74,29.75,29.76,29.77,29.78,29.79,29.8,29.81,29.82,29.83,29.84,29.85,29.86,29.87,29.88,29.89,29.9,29.91,29.92,29.93,29.94,29.95,29.96,29.97,29.98,29.99,30.0,30.01,30.02,30.03,30.04,30.05,30.06,30.07,30.08,30.09,30.1,30.11,30.12,30.13,30.14,30.15,30.16,30.17,30.18,30.19,30.2,30.21,30.22,30.23,30.24,30.25,30.26,30.27,30.28,30.29,30.3,30.31,30.32,30.33,30.34,30.35,30.36,30.37,30.38,30.39,30.4,30.41,30.42,30.43,30.44,30.45,30.46,30.47,30.48,30.49,30.5,30.51,30.52,30.53,30.54,30.55,30.56,30.57,30.58,30.59,30.6,30.61,30.62,30.63,30.64,30.65,30.66,30.67,30.68,30.69,30.7,30.71,30.72,30.73,30.74,30.75,30.77,30.78,30.8,30.81,30.83,30.84,30.85,30.86,30.89,30.9,30.91,30.96,30.97],\"xaxis\":\"x2\",\"yaxis\":\"y2\",\"type\":\"box\"},{\"alignmentgroup\":\"True\",\"bingroup\":\"x\",\"histfunc\":\"sum\",\"histnorm\":\"percent\",\"hovertemplate\":\"Delayed=1.0<br>HourlyAltimeterSetting=%{x}<br>percent of sum of Count=%{y}<extra></extra>\",\"legendgroup\":\"1.0\",\"marker\":{\"color\":\"#EF553B\",\"opacity\":0.5,\"pattern\":{\"shape\":\"\"},\"line\":{\"color\":\"white\",\"width\":1}},\"name\":\"1.0\",\"offsetgroup\":\"1.0\",\"orientation\":\"v\",\"showlegend\":true,\"x\":[29.0,29.25,29.32,29.35,29.36,29.45,29.46,29.48,29.5,29.51,29.52,29.53,29.54,29.55,29.56,29.57,29.58,29.59,29.6,29.61,29.62,29.63,29.64,29.65,29.66,29.67,29.68,29.69,29.7,29.71,29.72,29.73,29.74,29.75,29.76,29.77,29.78,29.79,29.8,29.81,29.82,29.83,29.84,29.85,29.86,29.87,29.88,29.89,29.9,29.91,29.92,29.93,29.94,29.95,29.96,29.97,29.98,29.99,30.0,30.01,30.02,30.03,30.04,30.05,30.06,30.07,30.08,30.09,30.1,30.11,30.12,30.13,30.14,30.15,30.16,30.17,30.18,30.19,30.2,30.21,30.22,30.23,30.24,30.25,30.26,30.27,30.28,30.29,30.3,30.31,30.32,30.33,30.34,30.35,30.36,30.37,30.38,30.39,30.4,30.41,30.42,30.43,30.44,30.45,30.46,30.47,30.48,30.49,30.5,30.51,30.52,30.53,30.54,30.55,30.56,30.57,30.58,30.59,30.6,30.61,30.62,30.64,30.65,30.66,30.67,30.68,30.69,30.7,30.71,30.72,30.74,30.75,30.76,30.78,30.81,30.83,30.86,30.9,30.94],\"xaxis\":\"x\",\"y\":[1,1,1,1,1,1,3,3,1,3,1,1,4,7,7,8,4,3,8,2,10,8,17,11,7,15,22,17,31,27,55,31,41,50,54,58,59,75,62,79,82,96,113,134,141,140,163,179,164,191,184,206,192,224,218,213,222,215,217,187,174,189,162,164,177,162,159,142,143,130,130,113,128,121,101,102,89,79,78,83,87,54,59,53,56,53,48,51,36,39,40,28,42,28,24,28,24,23,16,12,21,12,10,13,15,10,15,11,9,8,5,8,5,11,10,10,9,1,4,2,5,3,6,4,1,1,2,2,3,2,2,2,3,2,1,1,1,1,1],\"yaxis\":\"y\",\"type\":\"histogram\"},{\"alignmentgroup\":\"True\",\"hovertemplate\":\"Delayed=1.0<br>HourlyAltimeterSetting=%{x}<extra></extra>\",\"legendgroup\":\"1.0\",\"marker\":{\"color\":\"#EF553B\",\"line\":{\"color\":\"white\",\"width\":1}},\"name\":\"1.0\",\"notched\":true,\"offsetgroup\":\"1.0\",\"showlegend\":false,\"x\":[29.0,29.25,29.32,29.35,29.36,29.45,29.46,29.48,29.5,29.51,29.52,29.53,29.54,29.55,29.56,29.57,29.58,29.59,29.6,29.61,29.62,29.63,29.64,29.65,29.66,29.67,29.68,29.69,29.7,29.71,29.72,29.73,29.74,29.75,29.76,29.77,29.78,29.79,29.8,29.81,29.82,29.83,29.84,29.85,29.86,29.87,29.88,29.89,29.9,29.91,29.92,29.93,29.94,29.95,29.96,29.97,29.98,29.99,30.0,30.01,30.02,30.03,30.04,30.05,30.06,30.07,30.08,30.09,30.1,30.11,30.12,30.13,30.14,30.15,30.16,30.17,30.18,30.19,30.2,30.21,30.22,30.23,30.24,30.25,30.26,30.27,30.28,30.29,30.3,30.31,30.32,30.33,30.34,30.35,30.36,30.37,30.38,30.39,30.4,30.41,30.42,30.43,30.44,30.45,30.46,30.47,30.48,30.49,30.5,30.51,30.52,30.53,30.54,30.55,30.56,30.57,30.58,30.59,30.6,30.61,30.62,30.64,30.65,30.66,30.67,30.68,30.69,30.7,30.71,30.72,30.74,30.75,30.76,30.78,30.81,30.83,30.86,30.9,30.94],\"xaxis\":\"x2\",\"yaxis\":\"y2\",\"type\":\"box\"}],                        {\"template\":{\"data\":{\"histogram2dcontour\":[{\"type\":\"histogram2dcontour\",\"colorbar\":{\"outlinewidth\":0,\"ticks\":\"\"},\"colorscale\":[[0.0,\"#0d0887\"],[0.1111111111111111,\"#46039f\"],[0.2222222222222222,\"#7201a8\"],[0.3333333333333333,\"#9c179e\"],[0.4444444444444444,\"#bd3786\"],[0.5555555555555556,\"#d8576b\"],[0.6666666666666666,\"#ed7953\"],[0.7777777777777778,\"#fb9f3a\"],[0.8888888888888888,\"#fdca26\"],[1.0,\"#f0f921\"]]}],\"choropleth\":[{\"type\":\"choropleth\",\"colorbar\":{\"outlinewidth\":0,\"ticks\":\"\"}}],\"histogram2d\":[{\"type\":\"histogram2d\",\"colorbar\":{\"outlinewidth\":0,\"ticks\":\"\"},\"colorscale\":[[0.0,\"#0d0887\"],[0.1111111111111111,\"#46039f\"],[0.2222222222222222,\"#7201a8\"],[0.3333333333333333,\"#9c179e\"],[0.4444444444444444,\"#bd3786\"],[0.5555555555555556,\"#d8576b\"],[0.6666666666666666,\"#ed7953\"],[0.7777777777777778,\"#fb9f3a\"],[0.8888888888888888,\"#fdca26\"],[1.0,\"#f0f921\"]]}],\"heatmap\":[{\"type\":\"heatmap\",\"colorbar\":{\"outlinewidth\":0,\"ticks\":\"\"},\"colorscale\":[[0.0,\"#0d0887\"],[0.1111111111111111,\"#46039f\"],[0.2222222222222222,\"#7201a8\"],[0.3333333333333333,\"#9c179e\"],[0.4444444444444444,\"#bd3786\"],[0.5555555555555556,\"#d8576b\"],[0.6666666666666666,\"#ed7953\"],[0.7777777777777778,\"#fb9f3a\"],[0.8888888888888888,\"#fdca26\"],[1.0,\"#f0f921\"]]}],\"heatmapgl\":[{\"type\":\"heatmapgl\",\"colorbar\":{\"outlinewidth\":0,\"ticks\":\"\"},\"colorscale\":[[0.0,\"#0d0887\"],[0.1111111111111111,\"#46039f\"],[0.2222222222222222,\"#7201a8\"],[0.3333333333333333,\"#9c179e\"],[0.4444444444444444,\"#bd3786\"],[0.5555555555555556,\"#d8576b\"],[0.6666666666666666,\"#ed7953\"],[0.7777777777777778,\"#fb9f3a\"],[0.8888888888888888,\"#fdca26\"],[1.0,\"#f0f921\"]]}],\"contourcarpet\":[{\"type\":\"contourcarpet\",\"colorbar\":{\"outlinewidth\":0,\"ticks\":\"\"}}],\"contour\":[{\"type\":\"contour\",\"colorbar\":{\"outlinewidth\":0,\"ticks\":\"\"},\"colorscale\":[[0.0,\"#0d0887\"],[0.1111111111111111,\"#46039f\"],[0.2222222222222222,\"#7201a8\"],[0.3333333333333333,\"#9c179e\"],[0.4444444444444444,\"#bd3786\"],[0.5555555555555556,\"#d8576b\"],[0.6666666666666666,\"#ed7953\"],[0.7777777777777778,\"#fb9f3a\"],[0.8888888888888888,\"#fdca26\"],[1.0,\"#f0f921\"]]}],\"surface\":[{\"type\":\"surface\",\"colorbar\":{\"outlinewidth\":0,\"ticks\":\"\"},\"colorscale\":[[0.0,\"#0d0887\"],[0.1111111111111111,\"#46039f\"],[0.2222222222222222,\"#7201a8\"],[0.3333333333333333,\"#9c179e\"],[0.4444444444444444,\"#bd3786\"],[0.5555555555555556,\"#d8576b\"],[0.6666666666666666,\"#ed7953\"],[0.7777777777777778,\"#fb9f3a\"],[0.8888888888888888,\"#fdca26\"],[1.0,\"#f0f921\"]]}],\"mesh3d\":[{\"type\":\"mesh3d\",\"colorbar\":{\"outlinewidth\":0,\"ticks\":\"\"}}],\"scatter\":[{\"fillpattern\":{\"fillmode\":\"overlay\",\"size\":10,\"solidity\":0.2},\"type\":\"scatter\"}],\"parcoords\":[{\"type\":\"parcoords\",\"line\":{\"colorbar\":{\"outlinewidth\":0,\"ticks\":\"\"}}}],\"scatterpolargl\":[{\"type\":\"scatterpolargl\",\"marker\":{\"colorbar\":{\"outlinewidth\":0,\"ticks\":\"\"}}}],\"bar\":[{\"error_x\":{\"color\":\"#2a3f5f\"},\"error_y\":{\"color\":\"#2a3f5f\"},\"marker\":{\"line\":{\"color\":\"#E5ECF6\",\"width\":0.5},\"pattern\":{\"fillmode\":\"overlay\",\"size\":10,\"solidity\":0.2}},\"type\":\"bar\"}],\"scattergeo\":[{\"type\":\"scattergeo\",\"marker\":{\"colorbar\":{\"outlinewidth\":0,\"ticks\":\"\"}}}],\"scatterpolar\":[{\"type\":\"scatterpolar\",\"marker\":{\"colorbar\":{\"outlinewidth\":0,\"ticks\":\"\"}}}],\"histogram\":[{\"marker\":{\"pattern\":{\"fillmode\":\"overlay\",\"size\":10,\"solidity\":0.2}},\"type\":\"histogram\"}],\"scattergl\":[{\"type\":\"scattergl\",\"marker\":{\"colorbar\":{\"outlinewidth\":0,\"ticks\":\"\"}}}],\"scatter3d\":[{\"type\":\"scatter3d\",\"line\":{\"colorbar\":{\"outlinewidth\":0,\"ticks\":\"\"}},\"marker\":{\"colorbar\":{\"outlinewidth\":0,\"ticks\":\"\"}}}],\"scattermapbox\":[{\"type\":\"scattermapbox\",\"marker\":{\"colorbar\":{\"outlinewidth\":0,\"ticks\":\"\"}}}],\"scatterternary\":[{\"type\":\"scatterternary\",\"marker\":{\"colorbar\":{\"outlinewidth\":0,\"ticks\":\"\"}}}],\"scattercarpet\":[{\"type\":\"scattercarpet\",\"marker\":{\"colorbar\":{\"outlinewidth\":0,\"ticks\":\"\"}}}],\"carpet\":[{\"aaxis\":{\"endlinecolor\":\"#2a3f5f\",\"gridcolor\":\"white\",\"linecolor\":\"white\",\"minorgridcolor\":\"white\",\"startlinecolor\":\"#2a3f5f\"},\"baxis\":{\"endlinecolor\":\"#2a3f5f\",\"gridcolor\":\"white\",\"linecolor\":\"white\",\"minorgridcolor\":\"white\",\"startlinecolor\":\"#2a3f5f\"},\"type\":\"carpet\"}],\"table\":[{\"cells\":{\"fill\":{\"color\":\"#EBF0F8\"},\"line\":{\"color\":\"white\"}},\"header\":{\"fill\":{\"color\":\"#C8D4E3\"},\"line\":{\"color\":\"white\"}},\"type\":\"table\"}],\"barpolar\":[{\"marker\":{\"line\":{\"color\":\"#E5ECF6\",\"width\":0.5},\"pattern\":{\"fillmode\":\"overlay\",\"size\":10,\"solidity\":0.2}},\"type\":\"barpolar\"}],\"pie\":[{\"automargin\":true,\"type\":\"pie\"}]},\"layout\":{\"autotypenumbers\":\"strict\",\"colorway\":[\"#636efa\",\"#EF553B\",\"#00cc96\",\"#ab63fa\",\"#FFA15A\",\"#19d3f3\",\"#FF6692\",\"#B6E880\",\"#FF97FF\",\"#FECB52\"],\"font\":{\"color\":\"#2a3f5f\"},\"hovermode\":\"closest\",\"hoverlabel\":{\"align\":\"left\"},\"paper_bgcolor\":\"white\",\"plot_bgcolor\":\"#E5ECF6\",\"polar\":{\"bgcolor\":\"#E5ECF6\",\"angularaxis\":{\"gridcolor\":\"white\",\"linecolor\":\"white\",\"ticks\":\"\"},\"radialaxis\":{\"gridcolor\":\"white\",\"linecolor\":\"white\",\"ticks\":\"\"}},\"ternary\":{\"bgcolor\":\"#E5ECF6\",\"aaxis\":{\"gridcolor\":\"white\",\"linecolor\":\"white\",\"ticks\":\"\"},\"baxis\":{\"gridcolor\":\"white\",\"linecolor\":\"white\",\"ticks\":\"\"},\"caxis\":{\"gridcolor\":\"white\",\"linecolor\":\"white\",\"ticks\":\"\"}},\"coloraxis\":{\"colorbar\":{\"outlinewidth\":0,\"ticks\":\"\"}},\"colorscale\":{\"sequential\":[[0.0,\"#0d0887\"],[0.1111111111111111,\"#46039f\"],[0.2222222222222222,\"#7201a8\"],[0.3333333333333333,\"#9c179e\"],[0.4444444444444444,\"#bd3786\"],[0.5555555555555556,\"#d8576b\"],[0.6666666666666666,\"#ed7953\"],[0.7777777777777778,\"#fb9f3a\"],[0.8888888888888888,\"#fdca26\"],[1.0,\"#f0f921\"]],\"sequentialminus\":[[0.0,\"#0d0887\"],[0.1111111111111111,\"#46039f\"],[0.2222222222222222,\"#7201a8\"],[0.3333333333333333,\"#9c179e\"],[0.4444444444444444,\"#bd3786\"],[0.5555555555555556,\"#d8576b\"],[0.6666666666666666,\"#ed7953\"],[0.7777777777777778,\"#fb9f3a\"],[0.8888888888888888,\"#fdca26\"],[1.0,\"#f0f921\"]],\"diverging\":[[0,\"#8e0152\"],[0.1,\"#c51b7d\"],[0.2,\"#de77ae\"],[0.3,\"#f1b6da\"],[0.4,\"#fde0ef\"],[0.5,\"#f7f7f7\"],[0.6,\"#e6f5d0\"],[0.7,\"#b8e186\"],[0.8,\"#7fbc41\"],[0.9,\"#4d9221\"],[1,\"#276419\"]]},\"xaxis\":{\"gridcolor\":\"white\",\"linecolor\":\"white\",\"ticks\":\"\",\"title\":{\"standoff\":15},\"zerolinecolor\":\"white\",\"automargin\":true,\"zerolinewidth\":2},\"yaxis\":{\"gridcolor\":\"white\",\"linecolor\":\"white\",\"ticks\":\"\",\"title\":{\"standoff\":15},\"zerolinecolor\":\"white\",\"automargin\":true,\"zerolinewidth\":2},\"scene\":{\"xaxis\":{\"backgroundcolor\":\"#E5ECF6\",\"gridcolor\":\"white\",\"linecolor\":\"white\",\"showbackground\":true,\"ticks\":\"\",\"zerolinecolor\":\"white\",\"gridwidth\":2},\"yaxis\":{\"backgroundcolor\":\"#E5ECF6\",\"gridcolor\":\"white\",\"linecolor\":\"white\",\"showbackground\":true,\"ticks\":\"\",\"zerolinecolor\":\"white\",\"gridwidth\":2},\"zaxis\":{\"backgroundcolor\":\"#E5ECF6\",\"gridcolor\":\"white\",\"linecolor\":\"white\",\"showbackground\":true,\"ticks\":\"\",\"zerolinecolor\":\"white\",\"gridwidth\":2}},\"shapedefaults\":{\"line\":{\"color\":\"#2a3f5f\"}},\"annotationdefaults\":{\"arrowcolor\":\"#2a3f5f\",\"arrowhead\":0,\"arrowwidth\":1},\"geo\":{\"bgcolor\":\"white\",\"landcolor\":\"#E5ECF6\",\"subunitcolor\":\"white\",\"showland\":true,\"showlakes\":true,\"lakecolor\":\"white\"},\"title\":{\"x\":0.05},\"mapbox\":{\"style\":\"light\"}}},\"xaxis\":{\"anchor\":\"y\",\"domain\":[0.0,1.0],\"title\":{\"text\":\"HourlyAltimeterSetting\"}},\"yaxis\":{\"anchor\":\"x\",\"domain\":[0.0,0.7326],\"title\":{\"text\":\"percent of sum of Count\"}},\"xaxis2\":{\"anchor\":\"y2\",\"domain\":[0.0,1.0],\"matches\":\"x\",\"showticklabels\":false,\"showgrid\":true},\"yaxis2\":{\"anchor\":\"x2\",\"domain\":[0.7426,1.0],\"matches\":\"y2\",\"showticklabels\":false,\"showline\":false,\"ticks\":\"\",\"showgrid\":false},\"legend\":{\"title\":{\"text\":\"Delayed\"},\"tracegroupgap\":0},\"margin\":{\"t\":60},\"barmode\":\"overlay\",\"title\":{\"text\":\"<b>HourlyAltimeterSetting</b> Feature: No Delay/Delay\",\"x\":0.5},\"height\":400},                        {\"responsive\": true}                    )                };                            </script>        </div>\n",
       "</body>\n",
       "</html>"
      ]
     },
     "metadata": {},
     "output_type": "display_data"
    },
    {
     "output_type": "display_data",
     "data": {
      "text/html": [
       "<html>\n",
       "<head><meta charset=\"utf-8\" /></head>\n",
       "<body>\n",
       "    <div>            <script src=\"https://cdnjs.cloudflare.com/ajax/libs/mathjax/2.7.5/MathJax.js?config=TeX-AMS-MML_SVG\"></script><script type=\"text/javascript\">if (window.MathJax && window.MathJax.Hub && window.MathJax.Hub.Config) {window.MathJax.Hub.Config({SVG: {font: \"STIX-Web\"}});}</script>                <script type=\"text/javascript\">window.PlotlyConfig = {MathJaxConfig: 'local'};</script>\n",
       "        <script src=\"https://cdn.plot.ly/plotly-2.12.1.min.js\"></script>                <div id=\"d3265041-d902-44bd-86ab-1b6bf5690c70\" class=\"plotly-graph-div\" style=\"height:400px; width:100%;\"></div>            <script type=\"text/javascript\">                                    window.PLOTLYENV=window.PLOTLYENV || {};                                    if (document.getElementById(\"d3265041-d902-44bd-86ab-1b6bf5690c70\")) {                    Plotly.newPlot(                        \"d3265041-d902-44bd-86ab-1b6bf5690c70\",                        [{\"alignmentgroup\":\"True\",\"bingroup\":\"x\",\"histfunc\":\"sum\",\"histnorm\":\"percent\",\"hovertemplate\":\"Delayed=0.0<br>HourlyDewPointTemperature=%{x}<br>percent of sum of Count=%{y}<extra></extra>\",\"legendgroup\":\"0.0\",\"marker\":{\"color\":\"#636efa\",\"opacity\":0.5,\"pattern\":{\"shape\":\"\"},\"line\":{\"color\":\"white\",\"width\":1}},\"name\":\"0.0\",\"offsetgroup\":\"0.0\",\"orientation\":\"v\",\"showlegend\":true,\"x\":[-24.0,-22.0,-21.0,-19.0,-18.0,-17.0,-16.0,-15.0,-14.0,-13.0,-12.0,-11.0,-10.0,-9.0,-8.0,-7.0,-6.0,-5.0,-4.0,-3.0,-2.0,-1.0,0.0,1.0,2.0,3.0,4.0,5.0,6.0,7.0,8.0,9.0,10.0,11.0,12.0,13.0,14.0,15.0,16.0,17.0,18.0,19.0,20.0,21.0,22.0,23.0,24.0,25.0,26.0,27.0,28.0,29.0,30.0,31.0,32.0,33.0,34.0,35.0,36.0,37.0,38.0,39.0,40.0,41.0,42.0,43.0,44.0,45.0,46.0,47.0,48.0,49.0,50.0,51.0,52.0,53.0,54.0,55.0,56.0,57.0,58.0,59.0,60.0,61.0,62.0,63.0,64.0,65.0,66.0,67.0,68.0,69.0,70.0,71.0,72.0,73.0,74.0,75.0,76.0,77.0,78.0,79.0,80.0,81.0],\"xaxis\":\"x\",\"y\":[1,1,2,4,3,3,5,5,7,11,18,17,21,25,32,33,39,58,35,48,74,66,59,60,75,72,69,98,90,83,117,113,149,120,151,118,149,155,180,157,209,206,239,278,255,272,304,340,341,355,353,353,378,367,388,384,441,397,442,427,391,426,384,393,384,492,449,486,533,506,611,629,724,695,783,742,846,845,717,820,702,783,714,806,717,789,862,851,954,882,910,782,850,669,710,636,429,388,224,121,49,19,1,1],\"yaxis\":\"y\",\"type\":\"histogram\"},{\"alignmentgroup\":\"True\",\"hovertemplate\":\"Delayed=0.0<br>HourlyDewPointTemperature=%{x}<extra></extra>\",\"legendgroup\":\"0.0\",\"marker\":{\"color\":\"#636efa\",\"line\":{\"color\":\"white\",\"width\":1}},\"name\":\"0.0\",\"notched\":true,\"offsetgroup\":\"0.0\",\"showlegend\":false,\"x\":[-24.0,-22.0,-21.0,-19.0,-18.0,-17.0,-16.0,-15.0,-14.0,-13.0,-12.0,-11.0,-10.0,-9.0,-8.0,-7.0,-6.0,-5.0,-4.0,-3.0,-2.0,-1.0,0.0,1.0,2.0,3.0,4.0,5.0,6.0,7.0,8.0,9.0,10.0,11.0,12.0,13.0,14.0,15.0,16.0,17.0,18.0,19.0,20.0,21.0,22.0,23.0,24.0,25.0,26.0,27.0,28.0,29.0,30.0,31.0,32.0,33.0,34.0,35.0,36.0,37.0,38.0,39.0,40.0,41.0,42.0,43.0,44.0,45.0,46.0,47.0,48.0,49.0,50.0,51.0,52.0,53.0,54.0,55.0,56.0,57.0,58.0,59.0,60.0,61.0,62.0,63.0,64.0,65.0,66.0,67.0,68.0,69.0,70.0,71.0,72.0,73.0,74.0,75.0,76.0,77.0,78.0,79.0,80.0,81.0],\"xaxis\":\"x2\",\"yaxis\":\"y2\",\"type\":\"box\"},{\"alignmentgroup\":\"True\",\"bingroup\":\"x\",\"histfunc\":\"sum\",\"histnorm\":\"percent\",\"hovertemplate\":\"Delayed=1.0<br>HourlyDewPointTemperature=%{x}<br>percent of sum of Count=%{y}<extra></extra>\",\"legendgroup\":\"1.0\",\"marker\":{\"color\":\"#EF553B\",\"opacity\":0.5,\"pattern\":{\"shape\":\"\"},\"line\":{\"color\":\"white\",\"width\":1}},\"name\":\"1.0\",\"offsetgroup\":\"1.0\",\"orientation\":\"v\",\"showlegend\":true,\"x\":[-18.0,-17.0,-16.0,-15.0,-14.0,-13.0,-12.0,-11.0,-10.0,-9.0,-8.0,-7.0,-6.0,-5.0,-4.0,-3.0,-2.0,-1.0,0.0,1.0,2.0,3.0,4.0,5.0,6.0,7.0,8.0,9.0,10.0,11.0,12.0,13.0,14.0,15.0,16.0,17.0,18.0,19.0,20.0,21.0,22.0,23.0,24.0,25.0,26.0,27.0,28.0,29.0,30.0,31.0,32.0,33.0,34.0,35.0,36.0,37.0,38.0,39.0,40.0,41.0,42.0,43.0,44.0,45.0,46.0,47.0,48.0,49.0,50.0,51.0,52.0,53.0,54.0,55.0,56.0,57.0,58.0,59.0,60.0,61.0,62.0,63.0,64.0,65.0,66.0,67.0,68.0,69.0,70.0,71.0,72.0,73.0,74.0,75.0,76.0,77.0,78.0,79.0,80.0,81.0,82.0],\"xaxis\":\"x\",\"y\":[1,1,4,2,9,3,6,9,5,8,17,11,9,19,25,18,32,20,23,31,23,25,31,37,16,30,26,26,57,32,46,35,45,44,50,58,50,49,49,64,52,60,43,62,64,78,72,75,72,90,80,64,77,86,98,88,76,92,70,79,63,88,91,104,129,87,131,108,172,153,178,167,179,193,154,196,137,172,183,185,159,173,211,202,254,188,230,208,259,205,228,186,130,94,70,24,9,2,2,1,1],\"yaxis\":\"y\",\"type\":\"histogram\"},{\"alignmentgroup\":\"True\",\"hovertemplate\":\"Delayed=1.0<br>HourlyDewPointTemperature=%{x}<extra></extra>\",\"legendgroup\":\"1.0\",\"marker\":{\"color\":\"#EF553B\",\"line\":{\"color\":\"white\",\"width\":1}},\"name\":\"1.0\",\"notched\":true,\"offsetgroup\":\"1.0\",\"showlegend\":false,\"x\":[-18.0,-17.0,-16.0,-15.0,-14.0,-13.0,-12.0,-11.0,-10.0,-9.0,-8.0,-7.0,-6.0,-5.0,-4.0,-3.0,-2.0,-1.0,0.0,1.0,2.0,3.0,4.0,5.0,6.0,7.0,8.0,9.0,10.0,11.0,12.0,13.0,14.0,15.0,16.0,17.0,18.0,19.0,20.0,21.0,22.0,23.0,24.0,25.0,26.0,27.0,28.0,29.0,30.0,31.0,32.0,33.0,34.0,35.0,36.0,37.0,38.0,39.0,40.0,41.0,42.0,43.0,44.0,45.0,46.0,47.0,48.0,49.0,50.0,51.0,52.0,53.0,54.0,55.0,56.0,57.0,58.0,59.0,60.0,61.0,62.0,63.0,64.0,65.0,66.0,67.0,68.0,69.0,70.0,71.0,72.0,73.0,74.0,75.0,76.0,77.0,78.0,79.0,80.0,81.0,82.0],\"xaxis\":\"x2\",\"yaxis\":\"y2\",\"type\":\"box\"}],                        {\"template\":{\"data\":{\"histogram2dcontour\":[{\"type\":\"histogram2dcontour\",\"colorbar\":{\"outlinewidth\":0,\"ticks\":\"\"},\"colorscale\":[[0.0,\"#0d0887\"],[0.1111111111111111,\"#46039f\"],[0.2222222222222222,\"#7201a8\"],[0.3333333333333333,\"#9c179e\"],[0.4444444444444444,\"#bd3786\"],[0.5555555555555556,\"#d8576b\"],[0.6666666666666666,\"#ed7953\"],[0.7777777777777778,\"#fb9f3a\"],[0.8888888888888888,\"#fdca26\"],[1.0,\"#f0f921\"]]}],\"choropleth\":[{\"type\":\"choropleth\",\"colorbar\":{\"outlinewidth\":0,\"ticks\":\"\"}}],\"histogram2d\":[{\"type\":\"histogram2d\",\"colorbar\":{\"outlinewidth\":0,\"ticks\":\"\"},\"colorscale\":[[0.0,\"#0d0887\"],[0.1111111111111111,\"#46039f\"],[0.2222222222222222,\"#7201a8\"],[0.3333333333333333,\"#9c179e\"],[0.4444444444444444,\"#bd3786\"],[0.5555555555555556,\"#d8576b\"],[0.6666666666666666,\"#ed7953\"],[0.7777777777777778,\"#fb9f3a\"],[0.8888888888888888,\"#fdca26\"],[1.0,\"#f0f921\"]]}],\"heatmap\":[{\"type\":\"heatmap\",\"colorbar\":{\"outlinewidth\":0,\"ticks\":\"\"},\"colorscale\":[[0.0,\"#0d0887\"],[0.1111111111111111,\"#46039f\"],[0.2222222222222222,\"#7201a8\"],[0.3333333333333333,\"#9c179e\"],[0.4444444444444444,\"#bd3786\"],[0.5555555555555556,\"#d8576b\"],[0.6666666666666666,\"#ed7953\"],[0.7777777777777778,\"#fb9f3a\"],[0.8888888888888888,\"#fdca26\"],[1.0,\"#f0f921\"]]}],\"heatmapgl\":[{\"type\":\"heatmapgl\",\"colorbar\":{\"outlinewidth\":0,\"ticks\":\"\"},\"colorscale\":[[0.0,\"#0d0887\"],[0.1111111111111111,\"#46039f\"],[0.2222222222222222,\"#7201a8\"],[0.3333333333333333,\"#9c179e\"],[0.4444444444444444,\"#bd3786\"],[0.5555555555555556,\"#d8576b\"],[0.6666666666666666,\"#ed7953\"],[0.7777777777777778,\"#fb9f3a\"],[0.8888888888888888,\"#fdca26\"],[1.0,\"#f0f921\"]]}],\"contourcarpet\":[{\"type\":\"contourcarpet\",\"colorbar\":{\"outlinewidth\":0,\"ticks\":\"\"}}],\"contour\":[{\"type\":\"contour\",\"colorbar\":{\"outlinewidth\":0,\"ticks\":\"\"},\"colorscale\":[[0.0,\"#0d0887\"],[0.1111111111111111,\"#46039f\"],[0.2222222222222222,\"#7201a8\"],[0.3333333333333333,\"#9c179e\"],[0.4444444444444444,\"#bd3786\"],[0.5555555555555556,\"#d8576b\"],[0.6666666666666666,\"#ed7953\"],[0.7777777777777778,\"#fb9f3a\"],[0.8888888888888888,\"#fdca26\"],[1.0,\"#f0f921\"]]}],\"surface\":[{\"type\":\"surface\",\"colorbar\":{\"outlinewidth\":0,\"ticks\":\"\"},\"colorscale\":[[0.0,\"#0d0887\"],[0.1111111111111111,\"#46039f\"],[0.2222222222222222,\"#7201a8\"],[0.3333333333333333,\"#9c179e\"],[0.4444444444444444,\"#bd3786\"],[0.5555555555555556,\"#d8576b\"],[0.6666666666666666,\"#ed7953\"],[0.7777777777777778,\"#fb9f3a\"],[0.8888888888888888,\"#fdca26\"],[1.0,\"#f0f921\"]]}],\"mesh3d\":[{\"type\":\"mesh3d\",\"colorbar\":{\"outlinewidth\":0,\"ticks\":\"\"}}],\"scatter\":[{\"fillpattern\":{\"fillmode\":\"overlay\",\"size\":10,\"solidity\":0.2},\"type\":\"scatter\"}],\"parcoords\":[{\"type\":\"parcoords\",\"line\":{\"colorbar\":{\"outlinewidth\":0,\"ticks\":\"\"}}}],\"scatterpolargl\":[{\"type\":\"scatterpolargl\",\"marker\":{\"colorbar\":{\"outlinewidth\":0,\"ticks\":\"\"}}}],\"bar\":[{\"error_x\":{\"color\":\"#2a3f5f\"},\"error_y\":{\"color\":\"#2a3f5f\"},\"marker\":{\"line\":{\"color\":\"#E5ECF6\",\"width\":0.5},\"pattern\":{\"fillmode\":\"overlay\",\"size\":10,\"solidity\":0.2}},\"type\":\"bar\"}],\"scattergeo\":[{\"type\":\"scattergeo\",\"marker\":{\"colorbar\":{\"outlinewidth\":0,\"ticks\":\"\"}}}],\"scatterpolar\":[{\"type\":\"scatterpolar\",\"marker\":{\"colorbar\":{\"outlinewidth\":0,\"ticks\":\"\"}}}],\"histogram\":[{\"marker\":{\"pattern\":{\"fillmode\":\"overlay\",\"size\":10,\"solidity\":0.2}},\"type\":\"histogram\"}],\"scattergl\":[{\"type\":\"scattergl\",\"marker\":{\"colorbar\":{\"outlinewidth\":0,\"ticks\":\"\"}}}],\"scatter3d\":[{\"type\":\"scatter3d\",\"line\":{\"colorbar\":{\"outlinewidth\":0,\"ticks\":\"\"}},\"marker\":{\"colorbar\":{\"outlinewidth\":0,\"ticks\":\"\"}}}],\"scattermapbox\":[{\"type\":\"scattermapbox\",\"marker\":{\"colorbar\":{\"outlinewidth\":0,\"ticks\":\"\"}}}],\"scatterternary\":[{\"type\":\"scatterternary\",\"marker\":{\"colorbar\":{\"outlinewidth\":0,\"ticks\":\"\"}}}],\"scattercarpet\":[{\"type\":\"scattercarpet\",\"marker\":{\"colorbar\":{\"outlinewidth\":0,\"ticks\":\"\"}}}],\"carpet\":[{\"aaxis\":{\"endlinecolor\":\"#2a3f5f\",\"gridcolor\":\"white\",\"linecolor\":\"white\",\"minorgridcolor\":\"white\",\"startlinecolor\":\"#2a3f5f\"},\"baxis\":{\"endlinecolor\":\"#2a3f5f\",\"gridcolor\":\"white\",\"linecolor\":\"white\",\"minorgridcolor\":\"white\",\"startlinecolor\":\"#2a3f5f\"},\"type\":\"carpet\"}],\"table\":[{\"cells\":{\"fill\":{\"color\":\"#EBF0F8\"},\"line\":{\"color\":\"white\"}},\"header\":{\"fill\":{\"color\":\"#C8D4E3\"},\"line\":{\"color\":\"white\"}},\"type\":\"table\"}],\"barpolar\":[{\"marker\":{\"line\":{\"color\":\"#E5ECF6\",\"width\":0.5},\"pattern\":{\"fillmode\":\"overlay\",\"size\":10,\"solidity\":0.2}},\"type\":\"barpolar\"}],\"pie\":[{\"automargin\":true,\"type\":\"pie\"}]},\"layout\":{\"autotypenumbers\":\"strict\",\"colorway\":[\"#636efa\",\"#EF553B\",\"#00cc96\",\"#ab63fa\",\"#FFA15A\",\"#19d3f3\",\"#FF6692\",\"#B6E880\",\"#FF97FF\",\"#FECB52\"],\"font\":{\"color\":\"#2a3f5f\"},\"hovermode\":\"closest\",\"hoverlabel\":{\"align\":\"left\"},\"paper_bgcolor\":\"white\",\"plot_bgcolor\":\"#E5ECF6\",\"polar\":{\"bgcolor\":\"#E5ECF6\",\"angularaxis\":{\"gridcolor\":\"white\",\"linecolor\":\"white\",\"ticks\":\"\"},\"radialaxis\":{\"gridcolor\":\"white\",\"linecolor\":\"white\",\"ticks\":\"\"}},\"ternary\":{\"bgcolor\":\"#E5ECF6\",\"aaxis\":{\"gridcolor\":\"white\",\"linecolor\":\"white\",\"ticks\":\"\"},\"baxis\":{\"gridcolor\":\"white\",\"linecolor\":\"white\",\"ticks\":\"\"},\"caxis\":{\"gridcolor\":\"white\",\"linecolor\":\"white\",\"ticks\":\"\"}},\"coloraxis\":{\"colorbar\":{\"outlinewidth\":0,\"ticks\":\"\"}},\"colorscale\":{\"sequential\":[[0.0,\"#0d0887\"],[0.1111111111111111,\"#46039f\"],[0.2222222222222222,\"#7201a8\"],[0.3333333333333333,\"#9c179e\"],[0.4444444444444444,\"#bd3786\"],[0.5555555555555556,\"#d8576b\"],[0.6666666666666666,\"#ed7953\"],[0.7777777777777778,\"#fb9f3a\"],[0.8888888888888888,\"#fdca26\"],[1.0,\"#f0f921\"]],\"sequentialminus\":[[0.0,\"#0d0887\"],[0.1111111111111111,\"#46039f\"],[0.2222222222222222,\"#7201a8\"],[0.3333333333333333,\"#9c179e\"],[0.4444444444444444,\"#bd3786\"],[0.5555555555555556,\"#d8576b\"],[0.6666666666666666,\"#ed7953\"],[0.7777777777777778,\"#fb9f3a\"],[0.8888888888888888,\"#fdca26\"],[1.0,\"#f0f921\"]],\"diverging\":[[0,\"#8e0152\"],[0.1,\"#c51b7d\"],[0.2,\"#de77ae\"],[0.3,\"#f1b6da\"],[0.4,\"#fde0ef\"],[0.5,\"#f7f7f7\"],[0.6,\"#e6f5d0\"],[0.7,\"#b8e186\"],[0.8,\"#7fbc41\"],[0.9,\"#4d9221\"],[1,\"#276419\"]]},\"xaxis\":{\"gridcolor\":\"white\",\"linecolor\":\"white\",\"ticks\":\"\",\"title\":{\"standoff\":15},\"zerolinecolor\":\"white\",\"automargin\":true,\"zerolinewidth\":2},\"yaxis\":{\"gridcolor\":\"white\",\"linecolor\":\"white\",\"ticks\":\"\",\"title\":{\"standoff\":15},\"zerolinecolor\":\"white\",\"automargin\":true,\"zerolinewidth\":2},\"scene\":{\"xaxis\":{\"backgroundcolor\":\"#E5ECF6\",\"gridcolor\":\"white\",\"linecolor\":\"white\",\"showbackground\":true,\"ticks\":\"\",\"zerolinecolor\":\"white\",\"gridwidth\":2},\"yaxis\":{\"backgroundcolor\":\"#E5ECF6\",\"gridcolor\":\"white\",\"linecolor\":\"white\",\"showbackground\":true,\"ticks\":\"\",\"zerolinecolor\":\"white\",\"gridwidth\":2},\"zaxis\":{\"backgroundcolor\":\"#E5ECF6\",\"gridcolor\":\"white\",\"linecolor\":\"white\",\"showbackground\":true,\"ticks\":\"\",\"zerolinecolor\":\"white\",\"gridwidth\":2}},\"shapedefaults\":{\"line\":{\"color\":\"#2a3f5f\"}},\"annotationdefaults\":{\"arrowcolor\":\"#2a3f5f\",\"arrowhead\":0,\"arrowwidth\":1},\"geo\":{\"bgcolor\":\"white\",\"landcolor\":\"#E5ECF6\",\"subunitcolor\":\"white\",\"showland\":true,\"showlakes\":true,\"lakecolor\":\"white\"},\"title\":{\"x\":0.05},\"mapbox\":{\"style\":\"light\"}}},\"xaxis\":{\"anchor\":\"y\",\"domain\":[0.0,1.0],\"title\":{\"text\":\"HourlyDewPointTemperature\"}},\"yaxis\":{\"anchor\":\"x\",\"domain\":[0.0,0.7326],\"title\":{\"text\":\"percent of sum of Count\"}},\"xaxis2\":{\"anchor\":\"y2\",\"domain\":[0.0,1.0],\"matches\":\"x\",\"showticklabels\":false,\"showgrid\":true},\"yaxis2\":{\"anchor\":\"x2\",\"domain\":[0.7426,1.0],\"matches\":\"y2\",\"showticklabels\":false,\"showline\":false,\"ticks\":\"\",\"showgrid\":false},\"legend\":{\"title\":{\"text\":\"Delayed\"},\"tracegroupgap\":0},\"margin\":{\"t\":60},\"barmode\":\"overlay\",\"title\":{\"text\":\"<b>HourlyDewPointTemperature</b> Feature: No Delay/Delay\",\"x\":0.5},\"height\":400},                        {\"responsive\": true}                    )                };                            </script>        </div>\n",
       "</body>\n",
       "</html>"
      ]
     },
     "metadata": {},
     "output_type": "display_data"
    },
    {
     "output_type": "display_data",
     "data": {
      "text/html": [
       "<html>\n",
       "<head><meta charset=\"utf-8\" /></head>\n",
       "<body>\n",
       "    <div>            <script src=\"https://cdnjs.cloudflare.com/ajax/libs/mathjax/2.7.5/MathJax.js?config=TeX-AMS-MML_SVG\"></script><script type=\"text/javascript\">if (window.MathJax && window.MathJax.Hub && window.MathJax.Hub.Config) {window.MathJax.Hub.Config({SVG: {font: \"STIX-Web\"}});}</script>                <script type=\"text/javascript\">window.PlotlyConfig = {MathJaxConfig: 'local'};</script>\n",
       "        <script src=\"https://cdn.plot.ly/plotly-2.12.1.min.js\"></script>                <div id=\"69714485-75ae-42d9-8c08-870f86adadde\" class=\"plotly-graph-div\" style=\"height:400px; width:100%;\"></div>            <script type=\"text/javascript\">                                    window.PLOTLYENV=window.PLOTLYENV || {};                                    if (document.getElementById(\"69714485-75ae-42d9-8c08-870f86adadde\")) {                    Plotly.newPlot(                        \"69714485-75ae-42d9-8c08-870f86adadde\",                        [{\"alignmentgroup\":\"True\",\"bingroup\":\"x\",\"histfunc\":\"sum\",\"histnorm\":\"percent\",\"hovertemplate\":\"Delayed=0.0<br>HourlyDryBulbTemperature=%{x}<br>percent of sum of Count=%{y}<extra></extra>\",\"legendgroup\":\"0.0\",\"marker\":{\"color\":\"#636efa\",\"opacity\":0.5,\"pattern\":{\"shape\":\"\"},\"line\":{\"color\":\"white\",\"width\":1}},\"name\":\"0.0\",\"offsetgroup\":\"0.0\",\"orientation\":\"v\",\"showlegend\":true,\"x\":[-16.0,-15.0,-14.0,-12.0,-11.0,-9.0,-8.0,-7.0,-6.0,-5.0,-4.0,-3.0,-2.0,-1.0,0.0,1.0,2.0,3.0,4.0,5.0,6.0,7.0,8.0,9.0,10.0,11.0,12.0,13.0,14.0,15.0,16.0,17.0,18.0,19.0,20.0,21.0,22.0,23.0,24.0,25.0,26.0,27.0,28.0,29.0,30.0,31.0,32.0,33.0,34.0,35.0,36.0,37.0,38.0,39.0,40.0,41.0,42.0,43.0,44.0,45.0,46.0,47.0,48.0,49.0,50.0,51.0,52.0,53.0,54.0,55.0,56.0,57.0,58.0,59.0,60.0,61.0,62.0,63.0,64.0,65.0,66.0,67.0,68.0,69.0,70.0,71.0,72.0,73.0,74.0,75.0,76.0,77.0,78.0,79.0,80.0,81.0,82.0,83.0,84.0,85.0,86.0,87.0,88.0,89.0,90.0,91.0,92.0,93.0,94.0,95.0,96.0,97.0,98.0,99.0,100.0,101.0,102.0,103.0,104.0,105.0,106.0,107.0,108.0,109.0,110.0,111.0,112.0],\"xaxis\":\"x\",\"y\":[3,1,1,1,2,2,2,1,4,4,5,7,10,7,15,14,15,22,20,23,16,21,28,33,38,38,44,38,50,39,77,67,70,97,60,71,75,94,92,89,89,101,153,119,170,136,185,145,230,170,222,252,224,221,215,228,189,268,230,276,268,253,275,274,339,320,316,334,397,398,436,523,469,566,524,649,595,662,680,637,751,706,721,718,823,753,917,935,858,912,853,860,815,952,875,901,851,734,748,635,665,525,539,497,412,350,301,238,186,169,113,108,80,68,50,41,54,40,32,46,24,19,14,14,11,9,3],\"yaxis\":\"y\",\"type\":\"histogram\"},{\"alignmentgroup\":\"True\",\"hovertemplate\":\"Delayed=0.0<br>HourlyDryBulbTemperature=%{x}<extra></extra>\",\"legendgroup\":\"0.0\",\"marker\":{\"color\":\"#636efa\",\"line\":{\"color\":\"white\",\"width\":1}},\"name\":\"0.0\",\"notched\":true,\"offsetgroup\":\"0.0\",\"showlegend\":false,\"x\":[-16.0,-15.0,-14.0,-12.0,-11.0,-9.0,-8.0,-7.0,-6.0,-5.0,-4.0,-3.0,-2.0,-1.0,0.0,1.0,2.0,3.0,4.0,5.0,6.0,7.0,8.0,9.0,10.0,11.0,12.0,13.0,14.0,15.0,16.0,17.0,18.0,19.0,20.0,21.0,22.0,23.0,24.0,25.0,26.0,27.0,28.0,29.0,30.0,31.0,32.0,33.0,34.0,35.0,36.0,37.0,38.0,39.0,40.0,41.0,42.0,43.0,44.0,45.0,46.0,47.0,48.0,49.0,50.0,51.0,52.0,53.0,54.0,55.0,56.0,57.0,58.0,59.0,60.0,61.0,62.0,63.0,64.0,65.0,66.0,67.0,68.0,69.0,70.0,71.0,72.0,73.0,74.0,75.0,76.0,77.0,78.0,79.0,80.0,81.0,82.0,83.0,84.0,85.0,86.0,87.0,88.0,89.0,90.0,91.0,92.0,93.0,94.0,95.0,96.0,97.0,98.0,99.0,100.0,101.0,102.0,103.0,104.0,105.0,106.0,107.0,108.0,109.0,110.0,111.0,112.0],\"xaxis\":\"x2\",\"yaxis\":\"y2\",\"type\":\"box\"},{\"alignmentgroup\":\"True\",\"bingroup\":\"x\",\"histfunc\":\"sum\",\"histnorm\":\"percent\",\"hovertemplate\":\"Delayed=1.0<br>HourlyDryBulbTemperature=%{x}<br>percent of sum of Count=%{y}<extra></extra>\",\"legendgroup\":\"1.0\",\"marker\":{\"color\":\"#EF553B\",\"opacity\":0.5,\"pattern\":{\"shape\":\"\"},\"line\":{\"color\":\"white\",\"width\":1}},\"name\":\"1.0\",\"offsetgroup\":\"1.0\",\"orientation\":\"v\",\"showlegend\":true,\"x\":[-9.0,-8.0,-7.0,-6.0,-5.0,-4.0,-2.0,-1.0,0.0,1.0,2.0,3.0,4.0,5.0,6.0,7.0,8.0,9.0,10.0,11.0,12.0,13.0,14.0,15.0,16.0,17.0,18.0,19.0,20.0,21.0,22.0,23.0,24.0,25.0,26.0,27.0,28.0,29.0,30.0,31.0,32.0,33.0,34.0,35.0,36.0,37.0,38.0,39.0,40.0,41.0,42.0,43.0,44.0,45.0,46.0,47.0,48.0,49.0,50.0,51.0,52.0,53.0,54.0,55.0,56.0,57.0,58.0,59.0,60.0,61.0,62.0,63.0,64.0,65.0,66.0,67.0,68.0,69.0,70.0,71.0,72.0,73.0,74.0,75.0,76.0,77.0,78.0,79.0,80.0,81.0,82.0,83.0,84.0,85.0,86.0,87.0,88.0,89.0,90.0,91.0,92.0,93.0,94.0,95.0,96.0,97.0,98.0,99.0,100.0,101.0,102.0,103.0,104.0,105.0,106.0,107.0,108.0,109.0,110.0,111.0,113.0],\"xaxis\":\"x\",\"y\":[2,1,3,1,1,2,2,3,12,6,9,11,16,8,5,9,10,10,20,12,22,18,26,31,25,30,23,33,28,44,30,45,40,38,24,36,37,45,52,41,57,54,55,46,56,56,37,51,61,58,52,67,48,51,50,56,48,43,63,69,72,72,97,89,112,115,97,125,112,134,118,150,147,144,163,145,159,138,181,174,194,225,206,224,197,184,211,214,200,200,189,208,175,172,167,101,110,91,106,65,49,56,41,32,32,28,28,14,14,5,9,7,10,9,2,9,4,2,1,2,1],\"yaxis\":\"y\",\"type\":\"histogram\"},{\"alignmentgroup\":\"True\",\"hovertemplate\":\"Delayed=1.0<br>HourlyDryBulbTemperature=%{x}<extra></extra>\",\"legendgroup\":\"1.0\",\"marker\":{\"color\":\"#EF553B\",\"line\":{\"color\":\"white\",\"width\":1}},\"name\":\"1.0\",\"notched\":true,\"offsetgroup\":\"1.0\",\"showlegend\":false,\"x\":[-9.0,-8.0,-7.0,-6.0,-5.0,-4.0,-2.0,-1.0,0.0,1.0,2.0,3.0,4.0,5.0,6.0,7.0,8.0,9.0,10.0,11.0,12.0,13.0,14.0,15.0,16.0,17.0,18.0,19.0,20.0,21.0,22.0,23.0,24.0,25.0,26.0,27.0,28.0,29.0,30.0,31.0,32.0,33.0,34.0,35.0,36.0,37.0,38.0,39.0,40.0,41.0,42.0,43.0,44.0,45.0,46.0,47.0,48.0,49.0,50.0,51.0,52.0,53.0,54.0,55.0,56.0,57.0,58.0,59.0,60.0,61.0,62.0,63.0,64.0,65.0,66.0,67.0,68.0,69.0,70.0,71.0,72.0,73.0,74.0,75.0,76.0,77.0,78.0,79.0,80.0,81.0,82.0,83.0,84.0,85.0,86.0,87.0,88.0,89.0,90.0,91.0,92.0,93.0,94.0,95.0,96.0,97.0,98.0,99.0,100.0,101.0,102.0,103.0,104.0,105.0,106.0,107.0,108.0,109.0,110.0,111.0,113.0],\"xaxis\":\"x2\",\"yaxis\":\"y2\",\"type\":\"box\"}],                        {\"template\":{\"data\":{\"histogram2dcontour\":[{\"type\":\"histogram2dcontour\",\"colorbar\":{\"outlinewidth\":0,\"ticks\":\"\"},\"colorscale\":[[0.0,\"#0d0887\"],[0.1111111111111111,\"#46039f\"],[0.2222222222222222,\"#7201a8\"],[0.3333333333333333,\"#9c179e\"],[0.4444444444444444,\"#bd3786\"],[0.5555555555555556,\"#d8576b\"],[0.6666666666666666,\"#ed7953\"],[0.7777777777777778,\"#fb9f3a\"],[0.8888888888888888,\"#fdca26\"],[1.0,\"#f0f921\"]]}],\"choropleth\":[{\"type\":\"choropleth\",\"colorbar\":{\"outlinewidth\":0,\"ticks\":\"\"}}],\"histogram2d\":[{\"type\":\"histogram2d\",\"colorbar\":{\"outlinewidth\":0,\"ticks\":\"\"},\"colorscale\":[[0.0,\"#0d0887\"],[0.1111111111111111,\"#46039f\"],[0.2222222222222222,\"#7201a8\"],[0.3333333333333333,\"#9c179e\"],[0.4444444444444444,\"#bd3786\"],[0.5555555555555556,\"#d8576b\"],[0.6666666666666666,\"#ed7953\"],[0.7777777777777778,\"#fb9f3a\"],[0.8888888888888888,\"#fdca26\"],[1.0,\"#f0f921\"]]}],\"heatmap\":[{\"type\":\"heatmap\",\"colorbar\":{\"outlinewidth\":0,\"ticks\":\"\"},\"colorscale\":[[0.0,\"#0d0887\"],[0.1111111111111111,\"#46039f\"],[0.2222222222222222,\"#7201a8\"],[0.3333333333333333,\"#9c179e\"],[0.4444444444444444,\"#bd3786\"],[0.5555555555555556,\"#d8576b\"],[0.6666666666666666,\"#ed7953\"],[0.7777777777777778,\"#fb9f3a\"],[0.8888888888888888,\"#fdca26\"],[1.0,\"#f0f921\"]]}],\"heatmapgl\":[{\"type\":\"heatmapgl\",\"colorbar\":{\"outlinewidth\":0,\"ticks\":\"\"},\"colorscale\":[[0.0,\"#0d0887\"],[0.1111111111111111,\"#46039f\"],[0.2222222222222222,\"#7201a8\"],[0.3333333333333333,\"#9c179e\"],[0.4444444444444444,\"#bd3786\"],[0.5555555555555556,\"#d8576b\"],[0.6666666666666666,\"#ed7953\"],[0.7777777777777778,\"#fb9f3a\"],[0.8888888888888888,\"#fdca26\"],[1.0,\"#f0f921\"]]}],\"contourcarpet\":[{\"type\":\"contourcarpet\",\"colorbar\":{\"outlinewidth\":0,\"ticks\":\"\"}}],\"contour\":[{\"type\":\"contour\",\"colorbar\":{\"outlinewidth\":0,\"ticks\":\"\"},\"colorscale\":[[0.0,\"#0d0887\"],[0.1111111111111111,\"#46039f\"],[0.2222222222222222,\"#7201a8\"],[0.3333333333333333,\"#9c179e\"],[0.4444444444444444,\"#bd3786\"],[0.5555555555555556,\"#d8576b\"],[0.6666666666666666,\"#ed7953\"],[0.7777777777777778,\"#fb9f3a\"],[0.8888888888888888,\"#fdca26\"],[1.0,\"#f0f921\"]]}],\"surface\":[{\"type\":\"surface\",\"colorbar\":{\"outlinewidth\":0,\"ticks\":\"\"},\"colorscale\":[[0.0,\"#0d0887\"],[0.1111111111111111,\"#46039f\"],[0.2222222222222222,\"#7201a8\"],[0.3333333333333333,\"#9c179e\"],[0.4444444444444444,\"#bd3786\"],[0.5555555555555556,\"#d8576b\"],[0.6666666666666666,\"#ed7953\"],[0.7777777777777778,\"#fb9f3a\"],[0.8888888888888888,\"#fdca26\"],[1.0,\"#f0f921\"]]}],\"mesh3d\":[{\"type\":\"mesh3d\",\"colorbar\":{\"outlinewidth\":0,\"ticks\":\"\"}}],\"scatter\":[{\"fillpattern\":{\"fillmode\":\"overlay\",\"size\":10,\"solidity\":0.2},\"type\":\"scatter\"}],\"parcoords\":[{\"type\":\"parcoords\",\"line\":{\"colorbar\":{\"outlinewidth\":0,\"ticks\":\"\"}}}],\"scatterpolargl\":[{\"type\":\"scatterpolargl\",\"marker\":{\"colorbar\":{\"outlinewidth\":0,\"ticks\":\"\"}}}],\"bar\":[{\"error_x\":{\"color\":\"#2a3f5f\"},\"error_y\":{\"color\":\"#2a3f5f\"},\"marker\":{\"line\":{\"color\":\"#E5ECF6\",\"width\":0.5},\"pattern\":{\"fillmode\":\"overlay\",\"size\":10,\"solidity\":0.2}},\"type\":\"bar\"}],\"scattergeo\":[{\"type\":\"scattergeo\",\"marker\":{\"colorbar\":{\"outlinewidth\":0,\"ticks\":\"\"}}}],\"scatterpolar\":[{\"type\":\"scatterpolar\",\"marker\":{\"colorbar\":{\"outlinewidth\":0,\"ticks\":\"\"}}}],\"histogram\":[{\"marker\":{\"pattern\":{\"fillmode\":\"overlay\",\"size\":10,\"solidity\":0.2}},\"type\":\"histogram\"}],\"scattergl\":[{\"type\":\"scattergl\",\"marker\":{\"colorbar\":{\"outlinewidth\":0,\"ticks\":\"\"}}}],\"scatter3d\":[{\"type\":\"scatter3d\",\"line\":{\"colorbar\":{\"outlinewidth\":0,\"ticks\":\"\"}},\"marker\":{\"colorbar\":{\"outlinewidth\":0,\"ticks\":\"\"}}}],\"scattermapbox\":[{\"type\":\"scattermapbox\",\"marker\":{\"colorbar\":{\"outlinewidth\":0,\"ticks\":\"\"}}}],\"scatterternary\":[{\"type\":\"scatterternary\",\"marker\":{\"colorbar\":{\"outlinewidth\":0,\"ticks\":\"\"}}}],\"scattercarpet\":[{\"type\":\"scattercarpet\",\"marker\":{\"colorbar\":{\"outlinewidth\":0,\"ticks\":\"\"}}}],\"carpet\":[{\"aaxis\":{\"endlinecolor\":\"#2a3f5f\",\"gridcolor\":\"white\",\"linecolor\":\"white\",\"minorgridcolor\":\"white\",\"startlinecolor\":\"#2a3f5f\"},\"baxis\":{\"endlinecolor\":\"#2a3f5f\",\"gridcolor\":\"white\",\"linecolor\":\"white\",\"minorgridcolor\":\"white\",\"startlinecolor\":\"#2a3f5f\"},\"type\":\"carpet\"}],\"table\":[{\"cells\":{\"fill\":{\"color\":\"#EBF0F8\"},\"line\":{\"color\":\"white\"}},\"header\":{\"fill\":{\"color\":\"#C8D4E3\"},\"line\":{\"color\":\"white\"}},\"type\":\"table\"}],\"barpolar\":[{\"marker\":{\"line\":{\"color\":\"#E5ECF6\",\"width\":0.5},\"pattern\":{\"fillmode\":\"overlay\",\"size\":10,\"solidity\":0.2}},\"type\":\"barpolar\"}],\"pie\":[{\"automargin\":true,\"type\":\"pie\"}]},\"layout\":{\"autotypenumbers\":\"strict\",\"colorway\":[\"#636efa\",\"#EF553B\",\"#00cc96\",\"#ab63fa\",\"#FFA15A\",\"#19d3f3\",\"#FF6692\",\"#B6E880\",\"#FF97FF\",\"#FECB52\"],\"font\":{\"color\":\"#2a3f5f\"},\"hovermode\":\"closest\",\"hoverlabel\":{\"align\":\"left\"},\"paper_bgcolor\":\"white\",\"plot_bgcolor\":\"#E5ECF6\",\"polar\":{\"bgcolor\":\"#E5ECF6\",\"angularaxis\":{\"gridcolor\":\"white\",\"linecolor\":\"white\",\"ticks\":\"\"},\"radialaxis\":{\"gridcolor\":\"white\",\"linecolor\":\"white\",\"ticks\":\"\"}},\"ternary\":{\"bgcolor\":\"#E5ECF6\",\"aaxis\":{\"gridcolor\":\"white\",\"linecolor\":\"white\",\"ticks\":\"\"},\"baxis\":{\"gridcolor\":\"white\",\"linecolor\":\"white\",\"ticks\":\"\"},\"caxis\":{\"gridcolor\":\"white\",\"linecolor\":\"white\",\"ticks\":\"\"}},\"coloraxis\":{\"colorbar\":{\"outlinewidth\":0,\"ticks\":\"\"}},\"colorscale\":{\"sequential\":[[0.0,\"#0d0887\"],[0.1111111111111111,\"#46039f\"],[0.2222222222222222,\"#7201a8\"],[0.3333333333333333,\"#9c179e\"],[0.4444444444444444,\"#bd3786\"],[0.5555555555555556,\"#d8576b\"],[0.6666666666666666,\"#ed7953\"],[0.7777777777777778,\"#fb9f3a\"],[0.8888888888888888,\"#fdca26\"],[1.0,\"#f0f921\"]],\"sequentialminus\":[[0.0,\"#0d0887\"],[0.1111111111111111,\"#46039f\"],[0.2222222222222222,\"#7201a8\"],[0.3333333333333333,\"#9c179e\"],[0.4444444444444444,\"#bd3786\"],[0.5555555555555556,\"#d8576b\"],[0.6666666666666666,\"#ed7953\"],[0.7777777777777778,\"#fb9f3a\"],[0.8888888888888888,\"#fdca26\"],[1.0,\"#f0f921\"]],\"diverging\":[[0,\"#8e0152\"],[0.1,\"#c51b7d\"],[0.2,\"#de77ae\"],[0.3,\"#f1b6da\"],[0.4,\"#fde0ef\"],[0.5,\"#f7f7f7\"],[0.6,\"#e6f5d0\"],[0.7,\"#b8e186\"],[0.8,\"#7fbc41\"],[0.9,\"#4d9221\"],[1,\"#276419\"]]},\"xaxis\":{\"gridcolor\":\"white\",\"linecolor\":\"white\",\"ticks\":\"\",\"title\":{\"standoff\":15},\"zerolinecolor\":\"white\",\"automargin\":true,\"zerolinewidth\":2},\"yaxis\":{\"gridcolor\":\"white\",\"linecolor\":\"white\",\"ticks\":\"\",\"title\":{\"standoff\":15},\"zerolinecolor\":\"white\",\"automargin\":true,\"zerolinewidth\":2},\"scene\":{\"xaxis\":{\"backgroundcolor\":\"#E5ECF6\",\"gridcolor\":\"white\",\"linecolor\":\"white\",\"showbackground\":true,\"ticks\":\"\",\"zerolinecolor\":\"white\",\"gridwidth\":2},\"yaxis\":{\"backgroundcolor\":\"#E5ECF6\",\"gridcolor\":\"white\",\"linecolor\":\"white\",\"showbackground\":true,\"ticks\":\"\",\"zerolinecolor\":\"white\",\"gridwidth\":2},\"zaxis\":{\"backgroundcolor\":\"#E5ECF6\",\"gridcolor\":\"white\",\"linecolor\":\"white\",\"showbackground\":true,\"ticks\":\"\",\"zerolinecolor\":\"white\",\"gridwidth\":2}},\"shapedefaults\":{\"line\":{\"color\":\"#2a3f5f\"}},\"annotationdefaults\":{\"arrowcolor\":\"#2a3f5f\",\"arrowhead\":0,\"arrowwidth\":1},\"geo\":{\"bgcolor\":\"white\",\"landcolor\":\"#E5ECF6\",\"subunitcolor\":\"white\",\"showland\":true,\"showlakes\":true,\"lakecolor\":\"white\"},\"title\":{\"x\":0.05},\"mapbox\":{\"style\":\"light\"}}},\"xaxis\":{\"anchor\":\"y\",\"domain\":[0.0,1.0],\"title\":{\"text\":\"HourlyDryBulbTemperature\"}},\"yaxis\":{\"anchor\":\"x\",\"domain\":[0.0,0.7326],\"title\":{\"text\":\"percent of sum of Count\"}},\"xaxis2\":{\"anchor\":\"y2\",\"domain\":[0.0,1.0],\"matches\":\"x\",\"showticklabels\":false,\"showgrid\":true},\"yaxis2\":{\"anchor\":\"x2\",\"domain\":[0.7426,1.0],\"matches\":\"y2\",\"showticklabels\":false,\"showline\":false,\"ticks\":\"\",\"showgrid\":false},\"legend\":{\"title\":{\"text\":\"Delayed\"},\"tracegroupgap\":0},\"margin\":{\"t\":60},\"barmode\":\"overlay\",\"title\":{\"text\":\"<b>HourlyDryBulbTemperature</b> Feature: No Delay/Delay\",\"x\":0.5},\"height\":400},                        {\"responsive\": true}                    )                };                            </script>        </div>\n",
       "</body>\n",
       "</html>"
      ]
     },
     "metadata": {},
     "output_type": "display_data"
    },
    {
     "output_type": "display_data",
     "data": {
      "text/html": [
       "<html>\n",
       "<head><meta charset=\"utf-8\" /></head>\n",
       "<body>\n",
       "    <div>            <script src=\"https://cdnjs.cloudflare.com/ajax/libs/mathjax/2.7.5/MathJax.js?config=TeX-AMS-MML_SVG\"></script><script type=\"text/javascript\">if (window.MathJax && window.MathJax.Hub && window.MathJax.Hub.Config) {window.MathJax.Hub.Config({SVG: {font: \"STIX-Web\"}});}</script>                <script type=\"text/javascript\">window.PlotlyConfig = {MathJaxConfig: 'local'};</script>\n",
       "        <script src=\"https://cdn.plot.ly/plotly-2.12.1.min.js\"></script>                <div id=\"d9273a40-c82f-4a00-bfc3-83dce0b25fb0\" class=\"plotly-graph-div\" style=\"height:400px; width:100%;\"></div>            <script type=\"text/javascript\">                                    window.PLOTLYENV=window.PLOTLYENV || {};                                    if (document.getElementById(\"d9273a40-c82f-4a00-bfc3-83dce0b25fb0\")) {                    Plotly.newPlot(                        \"d9273a40-c82f-4a00-bfc3-83dce0b25fb0\",                        [{\"alignmentgroup\":\"True\",\"bingroup\":\"x\",\"histfunc\":\"sum\",\"histnorm\":\"percent\",\"hovertemplate\":\"Delayed=0.0<br>HourlyPrecipitation=%{x}<br>percent of sum of Count=%{y}<extra></extra>\",\"legendgroup\":\"0.0\",\"marker\":{\"color\":\"#636efa\",\"opacity\":0.5,\"pattern\":{\"shape\":\"\"},\"line\":{\"color\":\"white\",\"width\":1}},\"name\":\"0.0\",\"offsetgroup\":\"0.0\",\"orientation\":\"v\",\"showlegend\":true,\"x\":[0.0,0.01,0.02,0.03,0.04,0.05,0.06,0.07,0.08,0.09,0.1,0.11,0.12,0.13,0.14,0.15,0.16,0.17,0.18,0.19,0.2,0.21,0.22,0.23,0.24,0.25,0.27,0.28,0.29,0.3,0.31,0.32,0.33,0.34,0.35,0.36,0.37,0.38,0.39,0.41,0.42,0.44,0.45,0.5,0.51,0.52,0.53,0.55,0.59,0.6,0.66,0.71,0.72,0.76,0.77,0.88,1.28],\"xaxis\":\"x\",\"y\":[28416,429,198,126,97,63,56,42,30,22,18,17,14,7,5,9,9,8,5,10,3,7,3,3,1,2,1,4,2,4,2,3,3,1,4,4,1,1,1,1,1,2,1,1,2,1,2,1,1,2,1,1,1,1,1,1,1],\"yaxis\":\"y\",\"type\":\"histogram\"},{\"alignmentgroup\":\"True\",\"hovertemplate\":\"Delayed=0.0<br>HourlyPrecipitation=%{x}<extra></extra>\",\"legendgroup\":\"0.0\",\"marker\":{\"color\":\"#636efa\",\"line\":{\"color\":\"white\",\"width\":1}},\"name\":\"0.0\",\"notched\":true,\"offsetgroup\":\"0.0\",\"showlegend\":false,\"x\":[0.0,0.01,0.02,0.03,0.04,0.05,0.06,0.07,0.08,0.09,0.1,0.11,0.12,0.13,0.14,0.15,0.16,0.17,0.18,0.19,0.2,0.21,0.22,0.23,0.24,0.25,0.27,0.28,0.29,0.3,0.31,0.32,0.33,0.34,0.35,0.36,0.37,0.38,0.39,0.41,0.42,0.44,0.45,0.5,0.51,0.52,0.53,0.55,0.59,0.6,0.66,0.71,0.72,0.76,0.77,0.88,1.28],\"xaxis\":\"x2\",\"yaxis\":\"y2\",\"type\":\"box\"},{\"alignmentgroup\":\"True\",\"bingroup\":\"x\",\"histfunc\":\"sum\",\"histnorm\":\"percent\",\"hovertemplate\":\"Delayed=1.0<br>HourlyPrecipitation=%{x}<br>percent of sum of Count=%{y}<extra></extra>\",\"legendgroup\":\"1.0\",\"marker\":{\"color\":\"#EF553B\",\"opacity\":0.5,\"pattern\":{\"shape\":\"\"},\"line\":{\"color\":\"white\",\"width\":1}},\"name\":\"1.0\",\"offsetgroup\":\"1.0\",\"orientation\":\"v\",\"showlegend\":true,\"x\":[0.0,0.01,0.02,0.03,0.04,0.05,0.06,0.07,0.08,0.09,0.1,0.11,0.12,0.13,0.14,0.15,0.16,0.17,0.18,0.19,0.2,0.21,0.22,0.24,0.26,0.27,0.28,0.29,0.3,0.31,0.32,0.33,0.36,0.38,0.41,0.45,0.48,0.52,0.55,0.62,0.73,0.89,1.07,1.27],\"xaxis\":\"x\",\"y\":[6272,183,68,44,36,26,18,19,9,13,11,7,6,4,5,2,4,2,1,1,2,1,2,2,2,2,3,3,1,1,3,1,1,2,2,1,2,1,1,1,1,1,1,1],\"yaxis\":\"y\",\"type\":\"histogram\"},{\"alignmentgroup\":\"True\",\"hovertemplate\":\"Delayed=1.0<br>HourlyPrecipitation=%{x}<extra></extra>\",\"legendgroup\":\"1.0\",\"marker\":{\"color\":\"#EF553B\",\"line\":{\"color\":\"white\",\"width\":1}},\"name\":\"1.0\",\"notched\":true,\"offsetgroup\":\"1.0\",\"showlegend\":false,\"x\":[0.0,0.01,0.02,0.03,0.04,0.05,0.06,0.07,0.08,0.09,0.1,0.11,0.12,0.13,0.14,0.15,0.16,0.17,0.18,0.19,0.2,0.21,0.22,0.24,0.26,0.27,0.28,0.29,0.3,0.31,0.32,0.33,0.36,0.38,0.41,0.45,0.48,0.52,0.55,0.62,0.73,0.89,1.07,1.27],\"xaxis\":\"x2\",\"yaxis\":\"y2\",\"type\":\"box\"}],                        {\"template\":{\"data\":{\"histogram2dcontour\":[{\"type\":\"histogram2dcontour\",\"colorbar\":{\"outlinewidth\":0,\"ticks\":\"\"},\"colorscale\":[[0.0,\"#0d0887\"],[0.1111111111111111,\"#46039f\"],[0.2222222222222222,\"#7201a8\"],[0.3333333333333333,\"#9c179e\"],[0.4444444444444444,\"#bd3786\"],[0.5555555555555556,\"#d8576b\"],[0.6666666666666666,\"#ed7953\"],[0.7777777777777778,\"#fb9f3a\"],[0.8888888888888888,\"#fdca26\"],[1.0,\"#f0f921\"]]}],\"choropleth\":[{\"type\":\"choropleth\",\"colorbar\":{\"outlinewidth\":0,\"ticks\":\"\"}}],\"histogram2d\":[{\"type\":\"histogram2d\",\"colorbar\":{\"outlinewidth\":0,\"ticks\":\"\"},\"colorscale\":[[0.0,\"#0d0887\"],[0.1111111111111111,\"#46039f\"],[0.2222222222222222,\"#7201a8\"],[0.3333333333333333,\"#9c179e\"],[0.4444444444444444,\"#bd3786\"],[0.5555555555555556,\"#d8576b\"],[0.6666666666666666,\"#ed7953\"],[0.7777777777777778,\"#fb9f3a\"],[0.8888888888888888,\"#fdca26\"],[1.0,\"#f0f921\"]]}],\"heatmap\":[{\"type\":\"heatmap\",\"colorbar\":{\"outlinewidth\":0,\"ticks\":\"\"},\"colorscale\":[[0.0,\"#0d0887\"],[0.1111111111111111,\"#46039f\"],[0.2222222222222222,\"#7201a8\"],[0.3333333333333333,\"#9c179e\"],[0.4444444444444444,\"#bd3786\"],[0.5555555555555556,\"#d8576b\"],[0.6666666666666666,\"#ed7953\"],[0.7777777777777778,\"#fb9f3a\"],[0.8888888888888888,\"#fdca26\"],[1.0,\"#f0f921\"]]}],\"heatmapgl\":[{\"type\":\"heatmapgl\",\"colorbar\":{\"outlinewidth\":0,\"ticks\":\"\"},\"colorscale\":[[0.0,\"#0d0887\"],[0.1111111111111111,\"#46039f\"],[0.2222222222222222,\"#7201a8\"],[0.3333333333333333,\"#9c179e\"],[0.4444444444444444,\"#bd3786\"],[0.5555555555555556,\"#d8576b\"],[0.6666666666666666,\"#ed7953\"],[0.7777777777777778,\"#fb9f3a\"],[0.8888888888888888,\"#fdca26\"],[1.0,\"#f0f921\"]]}],\"contourcarpet\":[{\"type\":\"contourcarpet\",\"colorbar\":{\"outlinewidth\":0,\"ticks\":\"\"}}],\"contour\":[{\"type\":\"contour\",\"colorbar\":{\"outlinewidth\":0,\"ticks\":\"\"},\"colorscale\":[[0.0,\"#0d0887\"],[0.1111111111111111,\"#46039f\"],[0.2222222222222222,\"#7201a8\"],[0.3333333333333333,\"#9c179e\"],[0.4444444444444444,\"#bd3786\"],[0.5555555555555556,\"#d8576b\"],[0.6666666666666666,\"#ed7953\"],[0.7777777777777778,\"#fb9f3a\"],[0.8888888888888888,\"#fdca26\"],[1.0,\"#f0f921\"]]}],\"surface\":[{\"type\":\"surface\",\"colorbar\":{\"outlinewidth\":0,\"ticks\":\"\"},\"colorscale\":[[0.0,\"#0d0887\"],[0.1111111111111111,\"#46039f\"],[0.2222222222222222,\"#7201a8\"],[0.3333333333333333,\"#9c179e\"],[0.4444444444444444,\"#bd3786\"],[0.5555555555555556,\"#d8576b\"],[0.6666666666666666,\"#ed7953\"],[0.7777777777777778,\"#fb9f3a\"],[0.8888888888888888,\"#fdca26\"],[1.0,\"#f0f921\"]]}],\"mesh3d\":[{\"type\":\"mesh3d\",\"colorbar\":{\"outlinewidth\":0,\"ticks\":\"\"}}],\"scatter\":[{\"fillpattern\":{\"fillmode\":\"overlay\",\"size\":10,\"solidity\":0.2},\"type\":\"scatter\"}],\"parcoords\":[{\"type\":\"parcoords\",\"line\":{\"colorbar\":{\"outlinewidth\":0,\"ticks\":\"\"}}}],\"scatterpolargl\":[{\"type\":\"scatterpolargl\",\"marker\":{\"colorbar\":{\"outlinewidth\":0,\"ticks\":\"\"}}}],\"bar\":[{\"error_x\":{\"color\":\"#2a3f5f\"},\"error_y\":{\"color\":\"#2a3f5f\"},\"marker\":{\"line\":{\"color\":\"#E5ECF6\",\"width\":0.5},\"pattern\":{\"fillmode\":\"overlay\",\"size\":10,\"solidity\":0.2}},\"type\":\"bar\"}],\"scattergeo\":[{\"type\":\"scattergeo\",\"marker\":{\"colorbar\":{\"outlinewidth\":0,\"ticks\":\"\"}}}],\"scatterpolar\":[{\"type\":\"scatterpolar\",\"marker\":{\"colorbar\":{\"outlinewidth\":0,\"ticks\":\"\"}}}],\"histogram\":[{\"marker\":{\"pattern\":{\"fillmode\":\"overlay\",\"size\":10,\"solidity\":0.2}},\"type\":\"histogram\"}],\"scattergl\":[{\"type\":\"scattergl\",\"marker\":{\"colorbar\":{\"outlinewidth\":0,\"ticks\":\"\"}}}],\"scatter3d\":[{\"type\":\"scatter3d\",\"line\":{\"colorbar\":{\"outlinewidth\":0,\"ticks\":\"\"}},\"marker\":{\"colorbar\":{\"outlinewidth\":0,\"ticks\":\"\"}}}],\"scattermapbox\":[{\"type\":\"scattermapbox\",\"marker\":{\"colorbar\":{\"outlinewidth\":0,\"ticks\":\"\"}}}],\"scatterternary\":[{\"type\":\"scatterternary\",\"marker\":{\"colorbar\":{\"outlinewidth\":0,\"ticks\":\"\"}}}],\"scattercarpet\":[{\"type\":\"scattercarpet\",\"marker\":{\"colorbar\":{\"outlinewidth\":0,\"ticks\":\"\"}}}],\"carpet\":[{\"aaxis\":{\"endlinecolor\":\"#2a3f5f\",\"gridcolor\":\"white\",\"linecolor\":\"white\",\"minorgridcolor\":\"white\",\"startlinecolor\":\"#2a3f5f\"},\"baxis\":{\"endlinecolor\":\"#2a3f5f\",\"gridcolor\":\"white\",\"linecolor\":\"white\",\"minorgridcolor\":\"white\",\"startlinecolor\":\"#2a3f5f\"},\"type\":\"carpet\"}],\"table\":[{\"cells\":{\"fill\":{\"color\":\"#EBF0F8\"},\"line\":{\"color\":\"white\"}},\"header\":{\"fill\":{\"color\":\"#C8D4E3\"},\"line\":{\"color\":\"white\"}},\"type\":\"table\"}],\"barpolar\":[{\"marker\":{\"line\":{\"color\":\"#E5ECF6\",\"width\":0.5},\"pattern\":{\"fillmode\":\"overlay\",\"size\":10,\"solidity\":0.2}},\"type\":\"barpolar\"}],\"pie\":[{\"automargin\":true,\"type\":\"pie\"}]},\"layout\":{\"autotypenumbers\":\"strict\",\"colorway\":[\"#636efa\",\"#EF553B\",\"#00cc96\",\"#ab63fa\",\"#FFA15A\",\"#19d3f3\",\"#FF6692\",\"#B6E880\",\"#FF97FF\",\"#FECB52\"],\"font\":{\"color\":\"#2a3f5f\"},\"hovermode\":\"closest\",\"hoverlabel\":{\"align\":\"left\"},\"paper_bgcolor\":\"white\",\"plot_bgcolor\":\"#E5ECF6\",\"polar\":{\"bgcolor\":\"#E5ECF6\",\"angularaxis\":{\"gridcolor\":\"white\",\"linecolor\":\"white\",\"ticks\":\"\"},\"radialaxis\":{\"gridcolor\":\"white\",\"linecolor\":\"white\",\"ticks\":\"\"}},\"ternary\":{\"bgcolor\":\"#E5ECF6\",\"aaxis\":{\"gridcolor\":\"white\",\"linecolor\":\"white\",\"ticks\":\"\"},\"baxis\":{\"gridcolor\":\"white\",\"linecolor\":\"white\",\"ticks\":\"\"},\"caxis\":{\"gridcolor\":\"white\",\"linecolor\":\"white\",\"ticks\":\"\"}},\"coloraxis\":{\"colorbar\":{\"outlinewidth\":0,\"ticks\":\"\"}},\"colorscale\":{\"sequential\":[[0.0,\"#0d0887\"],[0.1111111111111111,\"#46039f\"],[0.2222222222222222,\"#7201a8\"],[0.3333333333333333,\"#9c179e\"],[0.4444444444444444,\"#bd3786\"],[0.5555555555555556,\"#d8576b\"],[0.6666666666666666,\"#ed7953\"],[0.7777777777777778,\"#fb9f3a\"],[0.8888888888888888,\"#fdca26\"],[1.0,\"#f0f921\"]],\"sequentialminus\":[[0.0,\"#0d0887\"],[0.1111111111111111,\"#46039f\"],[0.2222222222222222,\"#7201a8\"],[0.3333333333333333,\"#9c179e\"],[0.4444444444444444,\"#bd3786\"],[0.5555555555555556,\"#d8576b\"],[0.6666666666666666,\"#ed7953\"],[0.7777777777777778,\"#fb9f3a\"],[0.8888888888888888,\"#fdca26\"],[1.0,\"#f0f921\"]],\"diverging\":[[0,\"#8e0152\"],[0.1,\"#c51b7d\"],[0.2,\"#de77ae\"],[0.3,\"#f1b6da\"],[0.4,\"#fde0ef\"],[0.5,\"#f7f7f7\"],[0.6,\"#e6f5d0\"],[0.7,\"#b8e186\"],[0.8,\"#7fbc41\"],[0.9,\"#4d9221\"],[1,\"#276419\"]]},\"xaxis\":{\"gridcolor\":\"white\",\"linecolor\":\"white\",\"ticks\":\"\",\"title\":{\"standoff\":15},\"zerolinecolor\":\"white\",\"automargin\":true,\"zerolinewidth\":2},\"yaxis\":{\"gridcolor\":\"white\",\"linecolor\":\"white\",\"ticks\":\"\",\"title\":{\"standoff\":15},\"zerolinecolor\":\"white\",\"automargin\":true,\"zerolinewidth\":2},\"scene\":{\"xaxis\":{\"backgroundcolor\":\"#E5ECF6\",\"gridcolor\":\"white\",\"linecolor\":\"white\",\"showbackground\":true,\"ticks\":\"\",\"zerolinecolor\":\"white\",\"gridwidth\":2},\"yaxis\":{\"backgroundcolor\":\"#E5ECF6\",\"gridcolor\":\"white\",\"linecolor\":\"white\",\"showbackground\":true,\"ticks\":\"\",\"zerolinecolor\":\"white\",\"gridwidth\":2},\"zaxis\":{\"backgroundcolor\":\"#E5ECF6\",\"gridcolor\":\"white\",\"linecolor\":\"white\",\"showbackground\":true,\"ticks\":\"\",\"zerolinecolor\":\"white\",\"gridwidth\":2}},\"shapedefaults\":{\"line\":{\"color\":\"#2a3f5f\"}},\"annotationdefaults\":{\"arrowcolor\":\"#2a3f5f\",\"arrowhead\":0,\"arrowwidth\":1},\"geo\":{\"bgcolor\":\"white\",\"landcolor\":\"#E5ECF6\",\"subunitcolor\":\"white\",\"showland\":true,\"showlakes\":true,\"lakecolor\":\"white\"},\"title\":{\"x\":0.05},\"mapbox\":{\"style\":\"light\"}}},\"xaxis\":{\"anchor\":\"y\",\"domain\":[0.0,1.0],\"title\":{\"text\":\"HourlyPrecipitation\"}},\"yaxis\":{\"anchor\":\"x\",\"domain\":[0.0,0.7326],\"title\":{\"text\":\"percent of sum of Count\"}},\"xaxis2\":{\"anchor\":\"y2\",\"domain\":[0.0,1.0],\"matches\":\"x\",\"showticklabels\":false,\"showgrid\":true},\"yaxis2\":{\"anchor\":\"x2\",\"domain\":[0.7426,1.0],\"matches\":\"y2\",\"showticklabels\":false,\"showline\":false,\"ticks\":\"\",\"showgrid\":false},\"legend\":{\"title\":{\"text\":\"Delayed\"},\"tracegroupgap\":0},\"margin\":{\"t\":60},\"barmode\":\"overlay\",\"title\":{\"text\":\"<b>HourlyPrecipitation</b> Feature: No Delay/Delay\",\"x\":0.5},\"height\":400},                        {\"responsive\": true}                    )                };                            </script>        </div>\n",
       "</body>\n",
       "</html>"
      ]
     },
     "metadata": {},
     "output_type": "display_data"
    },
    {
     "output_type": "display_data",
     "data": {
      "text/html": [
       "<html>\n",
       "<head><meta charset=\"utf-8\" /></head>\n",
       "<body>\n",
       "    <div>            <script src=\"https://cdnjs.cloudflare.com/ajax/libs/mathjax/2.7.5/MathJax.js?config=TeX-AMS-MML_SVG\"></script><script type=\"text/javascript\">if (window.MathJax && window.MathJax.Hub && window.MathJax.Hub.Config) {window.MathJax.Hub.Config({SVG: {font: \"STIX-Web\"}});}</script>                <script type=\"text/javascript\">window.PlotlyConfig = {MathJaxConfig: 'local'};</script>\n",
       "        <script src=\"https://cdn.plot.ly/plotly-2.12.1.min.js\"></script>                <div id=\"9747fd8d-7e5f-4f15-9509-5b255f701132\" class=\"plotly-graph-div\" style=\"height:400px; width:100%;\"></div>            <script type=\"text/javascript\">                                    window.PLOTLYENV=window.PLOTLYENV || {};                                    if (document.getElementById(\"9747fd8d-7e5f-4f15-9509-5b255f701132\")) {                    Plotly.newPlot(                        \"9747fd8d-7e5f-4f15-9509-5b255f701132\",                        [{\"alignmentgroup\":\"True\",\"bingroup\":\"x\",\"histfunc\":\"sum\",\"histnorm\":\"percent\",\"hovertemplate\":\"Delayed=0.0<br>HourlyPressureChange=%{x}<br>percent of sum of Count=%{y}<extra></extra>\",\"legendgroup\":\"0.0\",\"marker\":{\"color\":\"#636efa\",\"opacity\":0.5,\"pattern\":{\"shape\":\"\"},\"line\":{\"color\":\"white\",\"width\":1}},\"name\":\"0.0\",\"offsetgroup\":\"0.0\",\"orientation\":\"v\",\"showlegend\":true,\"x\":[-0.3,-0.22,-0.2,-0.18,-0.17,-0.16,-0.15,-0.14,-0.13,-0.12,-0.11,-0.1,-0.09,-0.08,-0.07,-0.06,-0.05,-0.04,-0.03,-0.02,-0.01,-0.0,0.01,0.02,0.03,0.04,0.05,0.06,0.07,0.08,0.09,0.1,0.11,0.12,0.13,0.14,0.15,0.16,0.18,0.19,0.2],\"xaxis\":\"x\",\"y\":[1,1,1,1,5,5,3,13,6,28,17,34,70,86,134,307,441,903,828,1054,1342,1017,1398,963,787,1003,611,557,244,155,99,50,27,25,10,5,4,3,1,1,1],\"yaxis\":\"y\",\"type\":\"histogram\"},{\"alignmentgroup\":\"True\",\"hovertemplate\":\"Delayed=0.0<br>HourlyPressureChange=%{x}<extra></extra>\",\"legendgroup\":\"0.0\",\"marker\":{\"color\":\"#636efa\",\"line\":{\"color\":\"white\",\"width\":1}},\"name\":\"0.0\",\"notched\":true,\"offsetgroup\":\"0.0\",\"showlegend\":false,\"x\":[-0.3,-0.22,-0.2,-0.18,-0.17,-0.16,-0.15,-0.14,-0.13,-0.12,-0.11,-0.1,-0.09,-0.08,-0.07,-0.06,-0.05,-0.04,-0.03,-0.02,-0.01,-0.0,0.01,0.02,0.03,0.04,0.05,0.06,0.07,0.08,0.09,0.1,0.11,0.12,0.13,0.14,0.15,0.16,0.18,0.19,0.2],\"xaxis\":\"x2\",\"yaxis\":\"y2\",\"type\":\"box\"},{\"alignmentgroup\":\"True\",\"bingroup\":\"x\",\"histfunc\":\"sum\",\"histnorm\":\"percent\",\"hovertemplate\":\"Delayed=1.0<br>HourlyPressureChange=%{x}<br>percent of sum of Count=%{y}<extra></extra>\",\"legendgroup\":\"1.0\",\"marker\":{\"color\":\"#EF553B\",\"opacity\":0.5,\"pattern\":{\"shape\":\"\"},\"line\":{\"color\":\"white\",\"width\":1}},\"name\":\"1.0\",\"offsetgroup\":\"1.0\",\"orientation\":\"v\",\"showlegend\":true,\"x\":[-0.17,-0.16,-0.15,-0.14,-0.13,-0.12,-0.11,-0.1,-0.09,-0.08,-0.07,-0.06,-0.05,-0.04,-0.03,-0.02,-0.01,-0.0,0.01,0.02,0.03,0.04,0.05,0.06,0.07,0.08,0.09,0.1,0.11,0.12,0.13,0.14,0.15,0.16],\"xaxis\":\"x\",\"y\":[2,2,2,6,2,6,11,15,27,27,43,66,94,223,205,222,298,209,281,185,169,221,122,130,63,36,33,9,4,7,2,2,2,1],\"yaxis\":\"y\",\"type\":\"histogram\"},{\"alignmentgroup\":\"True\",\"hovertemplate\":\"Delayed=1.0<br>HourlyPressureChange=%{x}<extra></extra>\",\"legendgroup\":\"1.0\",\"marker\":{\"color\":\"#EF553B\",\"line\":{\"color\":\"white\",\"width\":1}},\"name\":\"1.0\",\"notched\":true,\"offsetgroup\":\"1.0\",\"showlegend\":false,\"x\":[-0.17,-0.16,-0.15,-0.14,-0.13,-0.12,-0.11,-0.1,-0.09,-0.08,-0.07,-0.06,-0.05,-0.04,-0.03,-0.02,-0.01,-0.0,0.01,0.02,0.03,0.04,0.05,0.06,0.07,0.08,0.09,0.1,0.11,0.12,0.13,0.14,0.15,0.16],\"xaxis\":\"x2\",\"yaxis\":\"y2\",\"type\":\"box\"}],                        {\"template\":{\"data\":{\"histogram2dcontour\":[{\"type\":\"histogram2dcontour\",\"colorbar\":{\"outlinewidth\":0,\"ticks\":\"\"},\"colorscale\":[[0.0,\"#0d0887\"],[0.1111111111111111,\"#46039f\"],[0.2222222222222222,\"#7201a8\"],[0.3333333333333333,\"#9c179e\"],[0.4444444444444444,\"#bd3786\"],[0.5555555555555556,\"#d8576b\"],[0.6666666666666666,\"#ed7953\"],[0.7777777777777778,\"#fb9f3a\"],[0.8888888888888888,\"#fdca26\"],[1.0,\"#f0f921\"]]}],\"choropleth\":[{\"type\":\"choropleth\",\"colorbar\":{\"outlinewidth\":0,\"ticks\":\"\"}}],\"histogram2d\":[{\"type\":\"histogram2d\",\"colorbar\":{\"outlinewidth\":0,\"ticks\":\"\"},\"colorscale\":[[0.0,\"#0d0887\"],[0.1111111111111111,\"#46039f\"],[0.2222222222222222,\"#7201a8\"],[0.3333333333333333,\"#9c179e\"],[0.4444444444444444,\"#bd3786\"],[0.5555555555555556,\"#d8576b\"],[0.6666666666666666,\"#ed7953\"],[0.7777777777777778,\"#fb9f3a\"],[0.8888888888888888,\"#fdca26\"],[1.0,\"#f0f921\"]]}],\"heatmap\":[{\"type\":\"heatmap\",\"colorbar\":{\"outlinewidth\":0,\"ticks\":\"\"},\"colorscale\":[[0.0,\"#0d0887\"],[0.1111111111111111,\"#46039f\"],[0.2222222222222222,\"#7201a8\"],[0.3333333333333333,\"#9c179e\"],[0.4444444444444444,\"#bd3786\"],[0.5555555555555556,\"#d8576b\"],[0.6666666666666666,\"#ed7953\"],[0.7777777777777778,\"#fb9f3a\"],[0.8888888888888888,\"#fdca26\"],[1.0,\"#f0f921\"]]}],\"heatmapgl\":[{\"type\":\"heatmapgl\",\"colorbar\":{\"outlinewidth\":0,\"ticks\":\"\"},\"colorscale\":[[0.0,\"#0d0887\"],[0.1111111111111111,\"#46039f\"],[0.2222222222222222,\"#7201a8\"],[0.3333333333333333,\"#9c179e\"],[0.4444444444444444,\"#bd3786\"],[0.5555555555555556,\"#d8576b\"],[0.6666666666666666,\"#ed7953\"],[0.7777777777777778,\"#fb9f3a\"],[0.8888888888888888,\"#fdca26\"],[1.0,\"#f0f921\"]]}],\"contourcarpet\":[{\"type\":\"contourcarpet\",\"colorbar\":{\"outlinewidth\":0,\"ticks\":\"\"}}],\"contour\":[{\"type\":\"contour\",\"colorbar\":{\"outlinewidth\":0,\"ticks\":\"\"},\"colorscale\":[[0.0,\"#0d0887\"],[0.1111111111111111,\"#46039f\"],[0.2222222222222222,\"#7201a8\"],[0.3333333333333333,\"#9c179e\"],[0.4444444444444444,\"#bd3786\"],[0.5555555555555556,\"#d8576b\"],[0.6666666666666666,\"#ed7953\"],[0.7777777777777778,\"#fb9f3a\"],[0.8888888888888888,\"#fdca26\"],[1.0,\"#f0f921\"]]}],\"surface\":[{\"type\":\"surface\",\"colorbar\":{\"outlinewidth\":0,\"ticks\":\"\"},\"colorscale\":[[0.0,\"#0d0887\"],[0.1111111111111111,\"#46039f\"],[0.2222222222222222,\"#7201a8\"],[0.3333333333333333,\"#9c179e\"],[0.4444444444444444,\"#bd3786\"],[0.5555555555555556,\"#d8576b\"],[0.6666666666666666,\"#ed7953\"],[0.7777777777777778,\"#fb9f3a\"],[0.8888888888888888,\"#fdca26\"],[1.0,\"#f0f921\"]]}],\"mesh3d\":[{\"type\":\"mesh3d\",\"colorbar\":{\"outlinewidth\":0,\"ticks\":\"\"}}],\"scatter\":[{\"fillpattern\":{\"fillmode\":\"overlay\",\"size\":10,\"solidity\":0.2},\"type\":\"scatter\"}],\"parcoords\":[{\"type\":\"parcoords\",\"line\":{\"colorbar\":{\"outlinewidth\":0,\"ticks\":\"\"}}}],\"scatterpolargl\":[{\"type\":\"scatterpolargl\",\"marker\":{\"colorbar\":{\"outlinewidth\":0,\"ticks\":\"\"}}}],\"bar\":[{\"error_x\":{\"color\":\"#2a3f5f\"},\"error_y\":{\"color\":\"#2a3f5f\"},\"marker\":{\"line\":{\"color\":\"#E5ECF6\",\"width\":0.5},\"pattern\":{\"fillmode\":\"overlay\",\"size\":10,\"solidity\":0.2}},\"type\":\"bar\"}],\"scattergeo\":[{\"type\":\"scattergeo\",\"marker\":{\"colorbar\":{\"outlinewidth\":0,\"ticks\":\"\"}}}],\"scatterpolar\":[{\"type\":\"scatterpolar\",\"marker\":{\"colorbar\":{\"outlinewidth\":0,\"ticks\":\"\"}}}],\"histogram\":[{\"marker\":{\"pattern\":{\"fillmode\":\"overlay\",\"size\":10,\"solidity\":0.2}},\"type\":\"histogram\"}],\"scattergl\":[{\"type\":\"scattergl\",\"marker\":{\"colorbar\":{\"outlinewidth\":0,\"ticks\":\"\"}}}],\"scatter3d\":[{\"type\":\"scatter3d\",\"line\":{\"colorbar\":{\"outlinewidth\":0,\"ticks\":\"\"}},\"marker\":{\"colorbar\":{\"outlinewidth\":0,\"ticks\":\"\"}}}],\"scattermapbox\":[{\"type\":\"scattermapbox\",\"marker\":{\"colorbar\":{\"outlinewidth\":0,\"ticks\":\"\"}}}],\"scatterternary\":[{\"type\":\"scatterternary\",\"marker\":{\"colorbar\":{\"outlinewidth\":0,\"ticks\":\"\"}}}],\"scattercarpet\":[{\"type\":\"scattercarpet\",\"marker\":{\"colorbar\":{\"outlinewidth\":0,\"ticks\":\"\"}}}],\"carpet\":[{\"aaxis\":{\"endlinecolor\":\"#2a3f5f\",\"gridcolor\":\"white\",\"linecolor\":\"white\",\"minorgridcolor\":\"white\",\"startlinecolor\":\"#2a3f5f\"},\"baxis\":{\"endlinecolor\":\"#2a3f5f\",\"gridcolor\":\"white\",\"linecolor\":\"white\",\"minorgridcolor\":\"white\",\"startlinecolor\":\"#2a3f5f\"},\"type\":\"carpet\"}],\"table\":[{\"cells\":{\"fill\":{\"color\":\"#EBF0F8\"},\"line\":{\"color\":\"white\"}},\"header\":{\"fill\":{\"color\":\"#C8D4E3\"},\"line\":{\"color\":\"white\"}},\"type\":\"table\"}],\"barpolar\":[{\"marker\":{\"line\":{\"color\":\"#E5ECF6\",\"width\":0.5},\"pattern\":{\"fillmode\":\"overlay\",\"size\":10,\"solidity\":0.2}},\"type\":\"barpolar\"}],\"pie\":[{\"automargin\":true,\"type\":\"pie\"}]},\"layout\":{\"autotypenumbers\":\"strict\",\"colorway\":[\"#636efa\",\"#EF553B\",\"#00cc96\",\"#ab63fa\",\"#FFA15A\",\"#19d3f3\",\"#FF6692\",\"#B6E880\",\"#FF97FF\",\"#FECB52\"],\"font\":{\"color\":\"#2a3f5f\"},\"hovermode\":\"closest\",\"hoverlabel\":{\"align\":\"left\"},\"paper_bgcolor\":\"white\",\"plot_bgcolor\":\"#E5ECF6\",\"polar\":{\"bgcolor\":\"#E5ECF6\",\"angularaxis\":{\"gridcolor\":\"white\",\"linecolor\":\"white\",\"ticks\":\"\"},\"radialaxis\":{\"gridcolor\":\"white\",\"linecolor\":\"white\",\"ticks\":\"\"}},\"ternary\":{\"bgcolor\":\"#E5ECF6\",\"aaxis\":{\"gridcolor\":\"white\",\"linecolor\":\"white\",\"ticks\":\"\"},\"baxis\":{\"gridcolor\":\"white\",\"linecolor\":\"white\",\"ticks\":\"\"},\"caxis\":{\"gridcolor\":\"white\",\"linecolor\":\"white\",\"ticks\":\"\"}},\"coloraxis\":{\"colorbar\":{\"outlinewidth\":0,\"ticks\":\"\"}},\"colorscale\":{\"sequential\":[[0.0,\"#0d0887\"],[0.1111111111111111,\"#46039f\"],[0.2222222222222222,\"#7201a8\"],[0.3333333333333333,\"#9c179e\"],[0.4444444444444444,\"#bd3786\"],[0.5555555555555556,\"#d8576b\"],[0.6666666666666666,\"#ed7953\"],[0.7777777777777778,\"#fb9f3a\"],[0.8888888888888888,\"#fdca26\"],[1.0,\"#f0f921\"]],\"sequentialminus\":[[0.0,\"#0d0887\"],[0.1111111111111111,\"#46039f\"],[0.2222222222222222,\"#7201a8\"],[0.3333333333333333,\"#9c179e\"],[0.4444444444444444,\"#bd3786\"],[0.5555555555555556,\"#d8576b\"],[0.6666666666666666,\"#ed7953\"],[0.7777777777777778,\"#fb9f3a\"],[0.8888888888888888,\"#fdca26\"],[1.0,\"#f0f921\"]],\"diverging\":[[0,\"#8e0152\"],[0.1,\"#c51b7d\"],[0.2,\"#de77ae\"],[0.3,\"#f1b6da\"],[0.4,\"#fde0ef\"],[0.5,\"#f7f7f7\"],[0.6,\"#e6f5d0\"],[0.7,\"#b8e186\"],[0.8,\"#7fbc41\"],[0.9,\"#4d9221\"],[1,\"#276419\"]]},\"xaxis\":{\"gridcolor\":\"white\",\"linecolor\":\"white\",\"ticks\":\"\",\"title\":{\"standoff\":15},\"zerolinecolor\":\"white\",\"automargin\":true,\"zerolinewidth\":2},\"yaxis\":{\"gridcolor\":\"white\",\"linecolor\":\"white\",\"ticks\":\"\",\"title\":{\"standoff\":15},\"zerolinecolor\":\"white\",\"automargin\":true,\"zerolinewidth\":2},\"scene\":{\"xaxis\":{\"backgroundcolor\":\"#E5ECF6\",\"gridcolor\":\"white\",\"linecolor\":\"white\",\"showbackground\":true,\"ticks\":\"\",\"zerolinecolor\":\"white\",\"gridwidth\":2},\"yaxis\":{\"backgroundcolor\":\"#E5ECF6\",\"gridcolor\":\"white\",\"linecolor\":\"white\",\"showbackground\":true,\"ticks\":\"\",\"zerolinecolor\":\"white\",\"gridwidth\":2},\"zaxis\":{\"backgroundcolor\":\"#E5ECF6\",\"gridcolor\":\"white\",\"linecolor\":\"white\",\"showbackground\":true,\"ticks\":\"\",\"zerolinecolor\":\"white\",\"gridwidth\":2}},\"shapedefaults\":{\"line\":{\"color\":\"#2a3f5f\"}},\"annotationdefaults\":{\"arrowcolor\":\"#2a3f5f\",\"arrowhead\":0,\"arrowwidth\":1},\"geo\":{\"bgcolor\":\"white\",\"landcolor\":\"#E5ECF6\",\"subunitcolor\":\"white\",\"showland\":true,\"showlakes\":true,\"lakecolor\":\"white\"},\"title\":{\"x\":0.05},\"mapbox\":{\"style\":\"light\"}}},\"xaxis\":{\"anchor\":\"y\",\"domain\":[0.0,1.0],\"title\":{\"text\":\"HourlyPressureChange\"}},\"yaxis\":{\"anchor\":\"x\",\"domain\":[0.0,0.7326],\"title\":{\"text\":\"percent of sum of Count\"}},\"xaxis2\":{\"anchor\":\"y2\",\"domain\":[0.0,1.0],\"matches\":\"x\",\"showticklabels\":false,\"showgrid\":true},\"yaxis2\":{\"anchor\":\"x2\",\"domain\":[0.7426,1.0],\"matches\":\"y2\",\"showticklabels\":false,\"showline\":false,\"ticks\":\"\",\"showgrid\":false},\"legend\":{\"title\":{\"text\":\"Delayed\"},\"tracegroupgap\":0},\"margin\":{\"t\":60},\"barmode\":\"overlay\",\"title\":{\"text\":\"<b>HourlyPressureChange</b> Feature: No Delay/Delay\",\"x\":0.5},\"height\":400},                        {\"responsive\": true}                    )                };                            </script>        </div>\n",
       "</body>\n",
       "</html>"
      ]
     },
     "metadata": {},
     "output_type": "display_data"
    },
    {
     "output_type": "display_data",
     "data": {
      "text/html": [
       "<html>\n",
       "<head><meta charset=\"utf-8\" /></head>\n",
       "<body>\n",
       "    <div>            <script src=\"https://cdnjs.cloudflare.com/ajax/libs/mathjax/2.7.5/MathJax.js?config=TeX-AMS-MML_SVG\"></script><script type=\"text/javascript\">if (window.MathJax && window.MathJax.Hub && window.MathJax.Hub.Config) {window.MathJax.Hub.Config({SVG: {font: \"STIX-Web\"}});}</script>                <script type=\"text/javascript\">window.PlotlyConfig = {MathJaxConfig: 'local'};</script>\n",
       "        <script src=\"https://cdn.plot.ly/plotly-2.12.1.min.js\"></script>                <div id=\"85c2d42a-36ba-464f-98b8-58ff3f8b389f\" class=\"plotly-graph-div\" style=\"height:400px; width:100%;\"></div>            <script type=\"text/javascript\">                                    window.PLOTLYENV=window.PLOTLYENV || {};                                    if (document.getElementById(\"85c2d42a-36ba-464f-98b8-58ff3f8b389f\")) {                    Plotly.newPlot(                        \"85c2d42a-36ba-464f-98b8-58ff3f8b389f\",                        [{\"alignmentgroup\":\"True\",\"bingroup\":\"x\",\"histfunc\":\"sum\",\"histnorm\":\"percent\",\"hovertemplate\":\"Delayed=0.0<br>HourlyRelativeHumidity=%{x}<br>percent of sum of Count=%{y}<extra></extra>\",\"legendgroup\":\"0.0\",\"marker\":{\"color\":\"#636efa\",\"opacity\":0.5,\"pattern\":{\"shape\":\"\"},\"line\":{\"color\":\"white\",\"width\":1}},\"name\":\"0.0\",\"offsetgroup\":\"0.0\",\"orientation\":\"v\",\"showlegend\":true,\"x\":[1.0,2.0,3.0,4.0,5.0,6.0,7.0,8.0,9.0,10.0,11.0,12.0,13.0,14.0,15.0,16.0,17.0,18.0,19.0,20.0,21.0,22.0,23.0,24.0,25.0,26.0,27.0,28.0,29.0,30.0,31.0,32.0,33.0,34.0,35.0,36.0,37.0,38.0,39.0,40.0,41.0,42.0,43.0,44.0,45.0,46.0,47.0,48.0,49.0,50.0,51.0,52.0,53.0,54.0,55.0,56.0,57.0,58.0,59.0,60.0,61.0,62.0,63.0,64.0,65.0,66.0,67.0,68.0,69.0,70.0,71.0,72.0,73.0,74.0,75.0,76.0,77.0,78.0,79.0,80.0,81.0,82.0,83.0,84.0,85.0,86.0,87.0,88.0,89.0,90.0,91.0,92.0,93.0,94.0,95.0,96.0,97.0,98.0,99.0,100.0],\"xaxis\":\"x\",\"y\":[1,6,7,11,27,52,74,75,76,107,117,103,134,137,152,146,158,179,137,189,170,195,179,234,193,202,231,206,254,235,292,330,308,294,313,334,348,397,346,422,475,467,458,496,482,471,485,462,514,555,544,584,523,590,595,556,606,509,721,533,707,583,684,488,653,502,706,489,605,649,532,587,493,663,382,530,494,489,670,211,492,496,367,560,294,245,558,350,322,508,123,67,577,305,1,201,137,1,2,243],\"yaxis\":\"y\",\"type\":\"histogram\"},{\"alignmentgroup\":\"True\",\"hovertemplate\":\"Delayed=0.0<br>HourlyRelativeHumidity=%{x}<extra></extra>\",\"legendgroup\":\"0.0\",\"marker\":{\"color\":\"#636efa\",\"line\":{\"color\":\"white\",\"width\":1}},\"name\":\"0.0\",\"notched\":true,\"offsetgroup\":\"0.0\",\"showlegend\":false,\"x\":[1.0,2.0,3.0,4.0,5.0,6.0,7.0,8.0,9.0,10.0,11.0,12.0,13.0,14.0,15.0,16.0,17.0,18.0,19.0,20.0,21.0,22.0,23.0,24.0,25.0,26.0,27.0,28.0,29.0,30.0,31.0,32.0,33.0,34.0,35.0,36.0,37.0,38.0,39.0,40.0,41.0,42.0,43.0,44.0,45.0,46.0,47.0,48.0,49.0,50.0,51.0,52.0,53.0,54.0,55.0,56.0,57.0,58.0,59.0,60.0,61.0,62.0,63.0,64.0,65.0,66.0,67.0,68.0,69.0,70.0,71.0,72.0,73.0,74.0,75.0,76.0,77.0,78.0,79.0,80.0,81.0,82.0,83.0,84.0,85.0,86.0,87.0,88.0,89.0,90.0,91.0,92.0,93.0,94.0,95.0,96.0,97.0,98.0,99.0,100.0],\"xaxis\":\"x2\",\"yaxis\":\"y2\",\"type\":\"box\"},{\"alignmentgroup\":\"True\",\"bingroup\":\"x\",\"histfunc\":\"sum\",\"histnorm\":\"percent\",\"hovertemplate\":\"Delayed=1.0<br>HourlyRelativeHumidity=%{x}<br>percent of sum of Count=%{y}<extra></extra>\",\"legendgroup\":\"1.0\",\"marker\":{\"color\":\"#EF553B\",\"opacity\":0.5,\"pattern\":{\"shape\":\"\"},\"line\":{\"color\":\"white\",\"width\":1}},\"name\":\"1.0\",\"offsetgroup\":\"1.0\",\"orientation\":\"v\",\"showlegend\":true,\"x\":[2.0,3.0,4.0,5.0,6.0,7.0,8.0,9.0,10.0,11.0,12.0,13.0,14.0,15.0,16.0,17.0,18.0,19.0,20.0,21.0,22.0,23.0,24.0,25.0,26.0,27.0,28.0,29.0,30.0,31.0,32.0,33.0,34.0,35.0,36.0,37.0,38.0,39.0,40.0,41.0,42.0,43.0,44.0,45.0,46.0,47.0,48.0,49.0,50.0,51.0,52.0,53.0,54.0,55.0,56.0,57.0,58.0,59.0,60.0,61.0,62.0,63.0,64.0,65.0,66.0,67.0,68.0,69.0,70.0,71.0,72.0,73.0,74.0,75.0,76.0,77.0,78.0,79.0,80.0,81.0,82.0,83.0,84.0,85.0,86.0,87.0,88.0,89.0,90.0,91.0,92.0,93.0,94.0,96.0,97.0,100.0],\"xaxis\":\"x\",\"y\":[1,1,2,7,9,13,16,19,16,21,25,27,20,28,27,41,26,24,28,29,27,39,36,43,48,41,50,38,44,65,64,61,47,61,57,74,85,62,89,90,89,86,86,95,101,104,87,117,111,119,109,104,119,139,99,133,110,153,111,161,129,142,114,142,113,155,123,145,173,116,161,107,198,109,150,136,135,175,75,145,148,88,149,108,70,159,136,89,182,40,43,207,115,81,63,75],\"yaxis\":\"y\",\"type\":\"histogram\"},{\"alignmentgroup\":\"True\",\"hovertemplate\":\"Delayed=1.0<br>HourlyRelativeHumidity=%{x}<extra></extra>\",\"legendgroup\":\"1.0\",\"marker\":{\"color\":\"#EF553B\",\"line\":{\"color\":\"white\",\"width\":1}},\"name\":\"1.0\",\"notched\":true,\"offsetgroup\":\"1.0\",\"showlegend\":false,\"x\":[2.0,3.0,4.0,5.0,6.0,7.0,8.0,9.0,10.0,11.0,12.0,13.0,14.0,15.0,16.0,17.0,18.0,19.0,20.0,21.0,22.0,23.0,24.0,25.0,26.0,27.0,28.0,29.0,30.0,31.0,32.0,33.0,34.0,35.0,36.0,37.0,38.0,39.0,40.0,41.0,42.0,43.0,44.0,45.0,46.0,47.0,48.0,49.0,50.0,51.0,52.0,53.0,54.0,55.0,56.0,57.0,58.0,59.0,60.0,61.0,62.0,63.0,64.0,65.0,66.0,67.0,68.0,69.0,70.0,71.0,72.0,73.0,74.0,75.0,76.0,77.0,78.0,79.0,80.0,81.0,82.0,83.0,84.0,85.0,86.0,87.0,88.0,89.0,90.0,91.0,92.0,93.0,94.0,96.0,97.0,100.0],\"xaxis\":\"x2\",\"yaxis\":\"y2\",\"type\":\"box\"}],                        {\"template\":{\"data\":{\"histogram2dcontour\":[{\"type\":\"histogram2dcontour\",\"colorbar\":{\"outlinewidth\":0,\"ticks\":\"\"},\"colorscale\":[[0.0,\"#0d0887\"],[0.1111111111111111,\"#46039f\"],[0.2222222222222222,\"#7201a8\"],[0.3333333333333333,\"#9c179e\"],[0.4444444444444444,\"#bd3786\"],[0.5555555555555556,\"#d8576b\"],[0.6666666666666666,\"#ed7953\"],[0.7777777777777778,\"#fb9f3a\"],[0.8888888888888888,\"#fdca26\"],[1.0,\"#f0f921\"]]}],\"choropleth\":[{\"type\":\"choropleth\",\"colorbar\":{\"outlinewidth\":0,\"ticks\":\"\"}}],\"histogram2d\":[{\"type\":\"histogram2d\",\"colorbar\":{\"outlinewidth\":0,\"ticks\":\"\"},\"colorscale\":[[0.0,\"#0d0887\"],[0.1111111111111111,\"#46039f\"],[0.2222222222222222,\"#7201a8\"],[0.3333333333333333,\"#9c179e\"],[0.4444444444444444,\"#bd3786\"],[0.5555555555555556,\"#d8576b\"],[0.6666666666666666,\"#ed7953\"],[0.7777777777777778,\"#fb9f3a\"],[0.8888888888888888,\"#fdca26\"],[1.0,\"#f0f921\"]]}],\"heatmap\":[{\"type\":\"heatmap\",\"colorbar\":{\"outlinewidth\":0,\"ticks\":\"\"},\"colorscale\":[[0.0,\"#0d0887\"],[0.1111111111111111,\"#46039f\"],[0.2222222222222222,\"#7201a8\"],[0.3333333333333333,\"#9c179e\"],[0.4444444444444444,\"#bd3786\"],[0.5555555555555556,\"#d8576b\"],[0.6666666666666666,\"#ed7953\"],[0.7777777777777778,\"#fb9f3a\"],[0.8888888888888888,\"#fdca26\"],[1.0,\"#f0f921\"]]}],\"heatmapgl\":[{\"type\":\"heatmapgl\",\"colorbar\":{\"outlinewidth\":0,\"ticks\":\"\"},\"colorscale\":[[0.0,\"#0d0887\"],[0.1111111111111111,\"#46039f\"],[0.2222222222222222,\"#7201a8\"],[0.3333333333333333,\"#9c179e\"],[0.4444444444444444,\"#bd3786\"],[0.5555555555555556,\"#d8576b\"],[0.6666666666666666,\"#ed7953\"],[0.7777777777777778,\"#fb9f3a\"],[0.8888888888888888,\"#fdca26\"],[1.0,\"#f0f921\"]]}],\"contourcarpet\":[{\"type\":\"contourcarpet\",\"colorbar\":{\"outlinewidth\":0,\"ticks\":\"\"}}],\"contour\":[{\"type\":\"contour\",\"colorbar\":{\"outlinewidth\":0,\"ticks\":\"\"},\"colorscale\":[[0.0,\"#0d0887\"],[0.1111111111111111,\"#46039f\"],[0.2222222222222222,\"#7201a8\"],[0.3333333333333333,\"#9c179e\"],[0.4444444444444444,\"#bd3786\"],[0.5555555555555556,\"#d8576b\"],[0.6666666666666666,\"#ed7953\"],[0.7777777777777778,\"#fb9f3a\"],[0.8888888888888888,\"#fdca26\"],[1.0,\"#f0f921\"]]}],\"surface\":[{\"type\":\"surface\",\"colorbar\":{\"outlinewidth\":0,\"ticks\":\"\"},\"colorscale\":[[0.0,\"#0d0887\"],[0.1111111111111111,\"#46039f\"],[0.2222222222222222,\"#7201a8\"],[0.3333333333333333,\"#9c179e\"],[0.4444444444444444,\"#bd3786\"],[0.5555555555555556,\"#d8576b\"],[0.6666666666666666,\"#ed7953\"],[0.7777777777777778,\"#fb9f3a\"],[0.8888888888888888,\"#fdca26\"],[1.0,\"#f0f921\"]]}],\"mesh3d\":[{\"type\":\"mesh3d\",\"colorbar\":{\"outlinewidth\":0,\"ticks\":\"\"}}],\"scatter\":[{\"fillpattern\":{\"fillmode\":\"overlay\",\"size\":10,\"solidity\":0.2},\"type\":\"scatter\"}],\"parcoords\":[{\"type\":\"parcoords\",\"line\":{\"colorbar\":{\"outlinewidth\":0,\"ticks\":\"\"}}}],\"scatterpolargl\":[{\"type\":\"scatterpolargl\",\"marker\":{\"colorbar\":{\"outlinewidth\":0,\"ticks\":\"\"}}}],\"bar\":[{\"error_x\":{\"color\":\"#2a3f5f\"},\"error_y\":{\"color\":\"#2a3f5f\"},\"marker\":{\"line\":{\"color\":\"#E5ECF6\",\"width\":0.5},\"pattern\":{\"fillmode\":\"overlay\",\"size\":10,\"solidity\":0.2}},\"type\":\"bar\"}],\"scattergeo\":[{\"type\":\"scattergeo\",\"marker\":{\"colorbar\":{\"outlinewidth\":0,\"ticks\":\"\"}}}],\"scatterpolar\":[{\"type\":\"scatterpolar\",\"marker\":{\"colorbar\":{\"outlinewidth\":0,\"ticks\":\"\"}}}],\"histogram\":[{\"marker\":{\"pattern\":{\"fillmode\":\"overlay\",\"size\":10,\"solidity\":0.2}},\"type\":\"histogram\"}],\"scattergl\":[{\"type\":\"scattergl\",\"marker\":{\"colorbar\":{\"outlinewidth\":0,\"ticks\":\"\"}}}],\"scatter3d\":[{\"type\":\"scatter3d\",\"line\":{\"colorbar\":{\"outlinewidth\":0,\"ticks\":\"\"}},\"marker\":{\"colorbar\":{\"outlinewidth\":0,\"ticks\":\"\"}}}],\"scattermapbox\":[{\"type\":\"scattermapbox\",\"marker\":{\"colorbar\":{\"outlinewidth\":0,\"ticks\":\"\"}}}],\"scatterternary\":[{\"type\":\"scatterternary\",\"marker\":{\"colorbar\":{\"outlinewidth\":0,\"ticks\":\"\"}}}],\"scattercarpet\":[{\"type\":\"scattercarpet\",\"marker\":{\"colorbar\":{\"outlinewidth\":0,\"ticks\":\"\"}}}],\"carpet\":[{\"aaxis\":{\"endlinecolor\":\"#2a3f5f\",\"gridcolor\":\"white\",\"linecolor\":\"white\",\"minorgridcolor\":\"white\",\"startlinecolor\":\"#2a3f5f\"},\"baxis\":{\"endlinecolor\":\"#2a3f5f\",\"gridcolor\":\"white\",\"linecolor\":\"white\",\"minorgridcolor\":\"white\",\"startlinecolor\":\"#2a3f5f\"},\"type\":\"carpet\"}],\"table\":[{\"cells\":{\"fill\":{\"color\":\"#EBF0F8\"},\"line\":{\"color\":\"white\"}},\"header\":{\"fill\":{\"color\":\"#C8D4E3\"},\"line\":{\"color\":\"white\"}},\"type\":\"table\"}],\"barpolar\":[{\"marker\":{\"line\":{\"color\":\"#E5ECF6\",\"width\":0.5},\"pattern\":{\"fillmode\":\"overlay\",\"size\":10,\"solidity\":0.2}},\"type\":\"barpolar\"}],\"pie\":[{\"automargin\":true,\"type\":\"pie\"}]},\"layout\":{\"autotypenumbers\":\"strict\",\"colorway\":[\"#636efa\",\"#EF553B\",\"#00cc96\",\"#ab63fa\",\"#FFA15A\",\"#19d3f3\",\"#FF6692\",\"#B6E880\",\"#FF97FF\",\"#FECB52\"],\"font\":{\"color\":\"#2a3f5f\"},\"hovermode\":\"closest\",\"hoverlabel\":{\"align\":\"left\"},\"paper_bgcolor\":\"white\",\"plot_bgcolor\":\"#E5ECF6\",\"polar\":{\"bgcolor\":\"#E5ECF6\",\"angularaxis\":{\"gridcolor\":\"white\",\"linecolor\":\"white\",\"ticks\":\"\"},\"radialaxis\":{\"gridcolor\":\"white\",\"linecolor\":\"white\",\"ticks\":\"\"}},\"ternary\":{\"bgcolor\":\"#E5ECF6\",\"aaxis\":{\"gridcolor\":\"white\",\"linecolor\":\"white\",\"ticks\":\"\"},\"baxis\":{\"gridcolor\":\"white\",\"linecolor\":\"white\",\"ticks\":\"\"},\"caxis\":{\"gridcolor\":\"white\",\"linecolor\":\"white\",\"ticks\":\"\"}},\"coloraxis\":{\"colorbar\":{\"outlinewidth\":0,\"ticks\":\"\"}},\"colorscale\":{\"sequential\":[[0.0,\"#0d0887\"],[0.1111111111111111,\"#46039f\"],[0.2222222222222222,\"#7201a8\"],[0.3333333333333333,\"#9c179e\"],[0.4444444444444444,\"#bd3786\"],[0.5555555555555556,\"#d8576b\"],[0.6666666666666666,\"#ed7953\"],[0.7777777777777778,\"#fb9f3a\"],[0.8888888888888888,\"#fdca26\"],[1.0,\"#f0f921\"]],\"sequentialminus\":[[0.0,\"#0d0887\"],[0.1111111111111111,\"#46039f\"],[0.2222222222222222,\"#7201a8\"],[0.3333333333333333,\"#9c179e\"],[0.4444444444444444,\"#bd3786\"],[0.5555555555555556,\"#d8576b\"],[0.6666666666666666,\"#ed7953\"],[0.7777777777777778,\"#fb9f3a\"],[0.8888888888888888,\"#fdca26\"],[1.0,\"#f0f921\"]],\"diverging\":[[0,\"#8e0152\"],[0.1,\"#c51b7d\"],[0.2,\"#de77ae\"],[0.3,\"#f1b6da\"],[0.4,\"#fde0ef\"],[0.5,\"#f7f7f7\"],[0.6,\"#e6f5d0\"],[0.7,\"#b8e186\"],[0.8,\"#7fbc41\"],[0.9,\"#4d9221\"],[1,\"#276419\"]]},\"xaxis\":{\"gridcolor\":\"white\",\"linecolor\":\"white\",\"ticks\":\"\",\"title\":{\"standoff\":15},\"zerolinecolor\":\"white\",\"automargin\":true,\"zerolinewidth\":2},\"yaxis\":{\"gridcolor\":\"white\",\"linecolor\":\"white\",\"ticks\":\"\",\"title\":{\"standoff\":15},\"zerolinecolor\":\"white\",\"automargin\":true,\"zerolinewidth\":2},\"scene\":{\"xaxis\":{\"backgroundcolor\":\"#E5ECF6\",\"gridcolor\":\"white\",\"linecolor\":\"white\",\"showbackground\":true,\"ticks\":\"\",\"zerolinecolor\":\"white\",\"gridwidth\":2},\"yaxis\":{\"backgroundcolor\":\"#E5ECF6\",\"gridcolor\":\"white\",\"linecolor\":\"white\",\"showbackground\":true,\"ticks\":\"\",\"zerolinecolor\":\"white\",\"gridwidth\":2},\"zaxis\":{\"backgroundcolor\":\"#E5ECF6\",\"gridcolor\":\"white\",\"linecolor\":\"white\",\"showbackground\":true,\"ticks\":\"\",\"zerolinecolor\":\"white\",\"gridwidth\":2}},\"shapedefaults\":{\"line\":{\"color\":\"#2a3f5f\"}},\"annotationdefaults\":{\"arrowcolor\":\"#2a3f5f\",\"arrowhead\":0,\"arrowwidth\":1},\"geo\":{\"bgcolor\":\"white\",\"landcolor\":\"#E5ECF6\",\"subunitcolor\":\"white\",\"showland\":true,\"showlakes\":true,\"lakecolor\":\"white\"},\"title\":{\"x\":0.05},\"mapbox\":{\"style\":\"light\"}}},\"xaxis\":{\"anchor\":\"y\",\"domain\":[0.0,1.0],\"title\":{\"text\":\"HourlyRelativeHumidity\"}},\"yaxis\":{\"anchor\":\"x\",\"domain\":[0.0,0.7326],\"title\":{\"text\":\"percent of sum of Count\"}},\"xaxis2\":{\"anchor\":\"y2\",\"domain\":[0.0,1.0],\"matches\":\"x\",\"showticklabels\":false,\"showgrid\":true},\"yaxis2\":{\"anchor\":\"x2\",\"domain\":[0.7426,1.0],\"matches\":\"y2\",\"showticklabels\":false,\"showline\":false,\"ticks\":\"\",\"showgrid\":false},\"legend\":{\"title\":{\"text\":\"Delayed\"},\"tracegroupgap\":0},\"margin\":{\"t\":60},\"barmode\":\"overlay\",\"title\":{\"text\":\"<b>HourlyRelativeHumidity</b> Feature: No Delay/Delay\",\"x\":0.5},\"height\":400},                        {\"responsive\": true}                    )                };                            </script>        </div>\n",
       "</body>\n",
       "</html>"
      ]
     },
     "metadata": {},
     "output_type": "display_data"
    },
    {
     "output_type": "display_data",
     "data": {
      "text/html": [
       "<html>\n",
       "<head><meta charset=\"utf-8\" /></head>\n",
       "<body>\n",
       "    <div>            <script src=\"https://cdnjs.cloudflare.com/ajax/libs/mathjax/2.7.5/MathJax.js?config=TeX-AMS-MML_SVG\"></script><script type=\"text/javascript\">if (window.MathJax && window.MathJax.Hub && window.MathJax.Hub.Config) {window.MathJax.Hub.Config({SVG: {font: \"STIX-Web\"}});}</script>                <script type=\"text/javascript\">window.PlotlyConfig = {MathJaxConfig: 'local'};</script>\n",
       "        <script src=\"https://cdn.plot.ly/plotly-2.12.1.min.js\"></script>                <div id=\"5c841df6-008b-457b-b3e3-e5b339490537\" class=\"plotly-graph-div\" style=\"height:400px; width:100%;\"></div>            <script type=\"text/javascript\">                                    window.PLOTLYENV=window.PLOTLYENV || {};                                    if (document.getElementById(\"5c841df6-008b-457b-b3e3-e5b339490537\")) {                    Plotly.newPlot(                        \"5c841df6-008b-457b-b3e3-e5b339490537\",                        [{\"alignmentgroup\":\"True\",\"bingroup\":\"x\",\"histfunc\":\"sum\",\"histnorm\":\"percent\",\"hovertemplate\":\"Delayed=0.0<br>HourlySeaLevelPressure=%{x}<br>percent of sum of Count=%{y}<extra></extra>\",\"legendgroup\":\"0.0\",\"marker\":{\"color\":\"#636efa\",\"opacity\":0.5,\"pattern\":{\"shape\":\"\"},\"line\":{\"color\":\"white\",\"width\":1}},\"name\":\"0.0\",\"offsetgroup\":\"0.0\",\"orientation\":\"v\",\"showlegend\":true,\"x\":[28.92,28.97,29.1,29.23,29.24,29.27,29.29,29.31,29.35,29.36,29.37,29.38,29.41,29.42,29.43,29.44,29.45,29.46,29.47,29.48,29.49,29.5,29.51,29.52,29.53,29.54,29.55,29.56,29.57,29.58,29.59,29.6,29.61,29.62,29.63,29.64,29.65,29.66,29.67,29.68,29.69,29.7,29.71,29.72,29.73,29.74,29.75,29.76,29.77,29.78,29.79,29.8,29.81,29.82,29.83,29.84,29.85,29.86,29.87,29.88,29.89,29.9,29.91,29.92,29.93,29.94,29.95,29.96,29.97,29.98,29.99,30.0,30.01,30.02,30.03,30.04,30.05,30.06,30.07,30.08,30.09,30.1,30.11,30.12,30.13,30.14,30.15,30.16,30.17,30.18,30.19,30.2,30.21,30.22,30.23,30.24,30.25,30.26,30.27,30.28,30.29,30.3,30.31,30.32,30.33,30.34,30.35,30.36,30.37,30.38,30.39,30.4,30.41,30.42,30.43,30.44,30.45,30.46,30.47,30.48,30.49,30.5,30.51,30.52,30.53,30.54,30.55,30.56,30.57,30.58,30.59,30.6,30.61,30.62,30.63,30.64,30.65,30.66,30.67,30.68,30.69,30.7,30.71,30.72,30.73,30.74,30.75,30.76,30.77,30.78,30.79,30.8,30.82,30.84,30.85,30.86,30.87,30.88,30.89,30.94,30.96,30.97,30.98,31.02,31.03],\"xaxis\":\"x\",\"y\":[1,1,1,1,1,3,2,2,1,2,3,1,3,1,3,3,1,3,4,2,7,7,11,12,12,22,14,14,26,31,30,22,43,63,57,61,109,98,108,112,129,152,149,187,167,146,298,170,247,327,266,340,299,343,425,390,564,481,461,712,573,563,856,618,893,667,736,933,779,1023,735,710,997,708,908,645,573,793,545,535,666,527,678,457,440,574,376,481,327,325,369,260,242,331,205,306,207,230,265,174,242,171,145,183,119,136,106,97,126,90,67,79,61,85,57,64,69,54,55,28,30,55,31,26,39,19,31,33,10,30,19,26,11,15,14,9,10,11,5,8,4,12,3,3,7,6,6,4,8,2,3,4,4,2,2,1,1,3,2,1,1,1,2,1,1],\"yaxis\":\"y\",\"type\":\"histogram\"},{\"alignmentgroup\":\"True\",\"hovertemplate\":\"Delayed=0.0<br>HourlySeaLevelPressure=%{x}<extra></extra>\",\"legendgroup\":\"0.0\",\"marker\":{\"color\":\"#636efa\",\"line\":{\"color\":\"white\",\"width\":1}},\"name\":\"0.0\",\"notched\":true,\"offsetgroup\":\"0.0\",\"showlegend\":false,\"x\":[28.92,28.97,29.1,29.23,29.24,29.27,29.29,29.31,29.35,29.36,29.37,29.38,29.41,29.42,29.43,29.44,29.45,29.46,29.47,29.48,29.49,29.5,29.51,29.52,29.53,29.54,29.55,29.56,29.57,29.58,29.59,29.6,29.61,29.62,29.63,29.64,29.65,29.66,29.67,29.68,29.69,29.7,29.71,29.72,29.73,29.74,29.75,29.76,29.77,29.78,29.79,29.8,29.81,29.82,29.83,29.84,29.85,29.86,29.87,29.88,29.89,29.9,29.91,29.92,29.93,29.94,29.95,29.96,29.97,29.98,29.99,30.0,30.01,30.02,30.03,30.04,30.05,30.06,30.07,30.08,30.09,30.1,30.11,30.12,30.13,30.14,30.15,30.16,30.17,30.18,30.19,30.2,30.21,30.22,30.23,30.24,30.25,30.26,30.27,30.28,30.29,30.3,30.31,30.32,30.33,30.34,30.35,30.36,30.37,30.38,30.39,30.4,30.41,30.42,30.43,30.44,30.45,30.46,30.47,30.48,30.49,30.5,30.51,30.52,30.53,30.54,30.55,30.56,30.57,30.58,30.59,30.6,30.61,30.62,30.63,30.64,30.65,30.66,30.67,30.68,30.69,30.7,30.71,30.72,30.73,30.74,30.75,30.76,30.77,30.78,30.79,30.8,30.82,30.84,30.85,30.86,30.87,30.88,30.89,30.94,30.96,30.97,30.98,31.02,31.03],\"xaxis\":\"x2\",\"yaxis\":\"y2\",\"type\":\"box\"},{\"alignmentgroup\":\"True\",\"bingroup\":\"x\",\"histfunc\":\"sum\",\"histnorm\":\"percent\",\"hovertemplate\":\"Delayed=1.0<br>HourlySeaLevelPressure=%{x}<br>percent of sum of Count=%{y}<extra></extra>\",\"legendgroup\":\"1.0\",\"marker\":{\"color\":\"#EF553B\",\"opacity\":0.5,\"pattern\":{\"shape\":\"\"},\"line\":{\"color\":\"white\",\"width\":1}},\"name\":\"1.0\",\"offsetgroup\":\"1.0\",\"orientation\":\"v\",\"showlegend\":true,\"x\":[29.24,29.32,29.35,29.44,29.45,29.46,29.47,29.48,29.49,29.51,29.52,29.53,29.54,29.55,29.56,29.57,29.58,29.59,29.6,29.61,29.62,29.63,29.64,29.65,29.66,29.67,29.68,29.69,29.7,29.71,29.72,29.73,29.74,29.75,29.76,29.77,29.78,29.79,29.8,29.81,29.82,29.83,29.84,29.85,29.86,29.87,29.88,29.89,29.9,29.91,29.92,29.93,29.94,29.95,29.96,29.97,29.98,29.99,30.0,30.01,30.02,30.03,30.04,30.05,30.06,30.07,30.08,30.09,30.1,30.11,30.12,30.13,30.14,30.15,30.16,30.17,30.18,30.19,30.2,30.21,30.22,30.23,30.24,30.25,30.26,30.27,30.28,30.29,30.3,30.31,30.32,30.33,30.34,30.35,30.36,30.37,30.38,30.39,30.4,30.41,30.42,30.43,30.44,30.45,30.46,30.47,30.48,30.49,30.5,30.51,30.52,30.53,30.54,30.55,30.56,30.57,30.58,30.59,30.6,30.61,30.62,30.63,30.64,30.65,30.66,30.67,30.68,30.69,30.7,30.71,30.73,30.74,30.75,30.76,30.77,30.78,30.8,30.81,30.82,30.83,30.84,30.85,30.86,30.97],\"xaxis\":\"x\",\"y\":[1,1,1,2,1,1,1,4,2,4,2,3,3,7,4,8,9,8,7,7,20,17,21,25,18,25,30,23,48,29,55,45,39,66,65,64,83,47,94,82,82,119,107,144,127,123,190,142,158,185,172,220,161,197,207,179,253,150,138,191,149,180,124,117,183,122,98,127,102,128,97,76,115,84,98,78,53,71,61,57,69,39,55,40,34,39,35,51,32,38,35,30,28,39,27,27,17,21,29,14,29,11,10,19,10,21,14,11,10,12,8,9,9,9,9,8,5,8,6,1,3,5,5,1,5,2,4,3,1,1,2,2,3,3,1,2,2,3,1,1,1,2,1,1],\"yaxis\":\"y\",\"type\":\"histogram\"},{\"alignmentgroup\":\"True\",\"hovertemplate\":\"Delayed=1.0<br>HourlySeaLevelPressure=%{x}<extra></extra>\",\"legendgroup\":\"1.0\",\"marker\":{\"color\":\"#EF553B\",\"line\":{\"color\":\"white\",\"width\":1}},\"name\":\"1.0\",\"notched\":true,\"offsetgroup\":\"1.0\",\"showlegend\":false,\"x\":[29.24,29.32,29.35,29.44,29.45,29.46,29.47,29.48,29.49,29.51,29.52,29.53,29.54,29.55,29.56,29.57,29.58,29.59,29.6,29.61,29.62,29.63,29.64,29.65,29.66,29.67,29.68,29.69,29.7,29.71,29.72,29.73,29.74,29.75,29.76,29.77,29.78,29.79,29.8,29.81,29.82,29.83,29.84,29.85,29.86,29.87,29.88,29.89,29.9,29.91,29.92,29.93,29.94,29.95,29.96,29.97,29.98,29.99,30.0,30.01,30.02,30.03,30.04,30.05,30.06,30.07,30.08,30.09,30.1,30.11,30.12,30.13,30.14,30.15,30.16,30.17,30.18,30.19,30.2,30.21,30.22,30.23,30.24,30.25,30.26,30.27,30.28,30.29,30.3,30.31,30.32,30.33,30.34,30.35,30.36,30.37,30.38,30.39,30.4,30.41,30.42,30.43,30.44,30.45,30.46,30.47,30.48,30.49,30.5,30.51,30.52,30.53,30.54,30.55,30.56,30.57,30.58,30.59,30.6,30.61,30.62,30.63,30.64,30.65,30.66,30.67,30.68,30.69,30.7,30.71,30.73,30.74,30.75,30.76,30.77,30.78,30.8,30.81,30.82,30.83,30.84,30.85,30.86,30.97],\"xaxis\":\"x2\",\"yaxis\":\"y2\",\"type\":\"box\"}],                        {\"template\":{\"data\":{\"histogram2dcontour\":[{\"type\":\"histogram2dcontour\",\"colorbar\":{\"outlinewidth\":0,\"ticks\":\"\"},\"colorscale\":[[0.0,\"#0d0887\"],[0.1111111111111111,\"#46039f\"],[0.2222222222222222,\"#7201a8\"],[0.3333333333333333,\"#9c179e\"],[0.4444444444444444,\"#bd3786\"],[0.5555555555555556,\"#d8576b\"],[0.6666666666666666,\"#ed7953\"],[0.7777777777777778,\"#fb9f3a\"],[0.8888888888888888,\"#fdca26\"],[1.0,\"#f0f921\"]]}],\"choropleth\":[{\"type\":\"choropleth\",\"colorbar\":{\"outlinewidth\":0,\"ticks\":\"\"}}],\"histogram2d\":[{\"type\":\"histogram2d\",\"colorbar\":{\"outlinewidth\":0,\"ticks\":\"\"},\"colorscale\":[[0.0,\"#0d0887\"],[0.1111111111111111,\"#46039f\"],[0.2222222222222222,\"#7201a8\"],[0.3333333333333333,\"#9c179e\"],[0.4444444444444444,\"#bd3786\"],[0.5555555555555556,\"#d8576b\"],[0.6666666666666666,\"#ed7953\"],[0.7777777777777778,\"#fb9f3a\"],[0.8888888888888888,\"#fdca26\"],[1.0,\"#f0f921\"]]}],\"heatmap\":[{\"type\":\"heatmap\",\"colorbar\":{\"outlinewidth\":0,\"ticks\":\"\"},\"colorscale\":[[0.0,\"#0d0887\"],[0.1111111111111111,\"#46039f\"],[0.2222222222222222,\"#7201a8\"],[0.3333333333333333,\"#9c179e\"],[0.4444444444444444,\"#bd3786\"],[0.5555555555555556,\"#d8576b\"],[0.6666666666666666,\"#ed7953\"],[0.7777777777777778,\"#fb9f3a\"],[0.8888888888888888,\"#fdca26\"],[1.0,\"#f0f921\"]]}],\"heatmapgl\":[{\"type\":\"heatmapgl\",\"colorbar\":{\"outlinewidth\":0,\"ticks\":\"\"},\"colorscale\":[[0.0,\"#0d0887\"],[0.1111111111111111,\"#46039f\"],[0.2222222222222222,\"#7201a8\"],[0.3333333333333333,\"#9c179e\"],[0.4444444444444444,\"#bd3786\"],[0.5555555555555556,\"#d8576b\"],[0.6666666666666666,\"#ed7953\"],[0.7777777777777778,\"#fb9f3a\"],[0.8888888888888888,\"#fdca26\"],[1.0,\"#f0f921\"]]}],\"contourcarpet\":[{\"type\":\"contourcarpet\",\"colorbar\":{\"outlinewidth\":0,\"ticks\":\"\"}}],\"contour\":[{\"type\":\"contour\",\"colorbar\":{\"outlinewidth\":0,\"ticks\":\"\"},\"colorscale\":[[0.0,\"#0d0887\"],[0.1111111111111111,\"#46039f\"],[0.2222222222222222,\"#7201a8\"],[0.3333333333333333,\"#9c179e\"],[0.4444444444444444,\"#bd3786\"],[0.5555555555555556,\"#d8576b\"],[0.6666666666666666,\"#ed7953\"],[0.7777777777777778,\"#fb9f3a\"],[0.8888888888888888,\"#fdca26\"],[1.0,\"#f0f921\"]]}],\"surface\":[{\"type\":\"surface\",\"colorbar\":{\"outlinewidth\":0,\"ticks\":\"\"},\"colorscale\":[[0.0,\"#0d0887\"],[0.1111111111111111,\"#46039f\"],[0.2222222222222222,\"#7201a8\"],[0.3333333333333333,\"#9c179e\"],[0.4444444444444444,\"#bd3786\"],[0.5555555555555556,\"#d8576b\"],[0.6666666666666666,\"#ed7953\"],[0.7777777777777778,\"#fb9f3a\"],[0.8888888888888888,\"#fdca26\"],[1.0,\"#f0f921\"]]}],\"mesh3d\":[{\"type\":\"mesh3d\",\"colorbar\":{\"outlinewidth\":0,\"ticks\":\"\"}}],\"scatter\":[{\"fillpattern\":{\"fillmode\":\"overlay\",\"size\":10,\"solidity\":0.2},\"type\":\"scatter\"}],\"parcoords\":[{\"type\":\"parcoords\",\"line\":{\"colorbar\":{\"outlinewidth\":0,\"ticks\":\"\"}}}],\"scatterpolargl\":[{\"type\":\"scatterpolargl\",\"marker\":{\"colorbar\":{\"outlinewidth\":0,\"ticks\":\"\"}}}],\"bar\":[{\"error_x\":{\"color\":\"#2a3f5f\"},\"error_y\":{\"color\":\"#2a3f5f\"},\"marker\":{\"line\":{\"color\":\"#E5ECF6\",\"width\":0.5},\"pattern\":{\"fillmode\":\"overlay\",\"size\":10,\"solidity\":0.2}},\"type\":\"bar\"}],\"scattergeo\":[{\"type\":\"scattergeo\",\"marker\":{\"colorbar\":{\"outlinewidth\":0,\"ticks\":\"\"}}}],\"scatterpolar\":[{\"type\":\"scatterpolar\",\"marker\":{\"colorbar\":{\"outlinewidth\":0,\"ticks\":\"\"}}}],\"histogram\":[{\"marker\":{\"pattern\":{\"fillmode\":\"overlay\",\"size\":10,\"solidity\":0.2}},\"type\":\"histogram\"}],\"scattergl\":[{\"type\":\"scattergl\",\"marker\":{\"colorbar\":{\"outlinewidth\":0,\"ticks\":\"\"}}}],\"scatter3d\":[{\"type\":\"scatter3d\",\"line\":{\"colorbar\":{\"outlinewidth\":0,\"ticks\":\"\"}},\"marker\":{\"colorbar\":{\"outlinewidth\":0,\"ticks\":\"\"}}}],\"scattermapbox\":[{\"type\":\"scattermapbox\",\"marker\":{\"colorbar\":{\"outlinewidth\":0,\"ticks\":\"\"}}}],\"scatterternary\":[{\"type\":\"scatterternary\",\"marker\":{\"colorbar\":{\"outlinewidth\":0,\"ticks\":\"\"}}}],\"scattercarpet\":[{\"type\":\"scattercarpet\",\"marker\":{\"colorbar\":{\"outlinewidth\":0,\"ticks\":\"\"}}}],\"carpet\":[{\"aaxis\":{\"endlinecolor\":\"#2a3f5f\",\"gridcolor\":\"white\",\"linecolor\":\"white\",\"minorgridcolor\":\"white\",\"startlinecolor\":\"#2a3f5f\"},\"baxis\":{\"endlinecolor\":\"#2a3f5f\",\"gridcolor\":\"white\",\"linecolor\":\"white\",\"minorgridcolor\":\"white\",\"startlinecolor\":\"#2a3f5f\"},\"type\":\"carpet\"}],\"table\":[{\"cells\":{\"fill\":{\"color\":\"#EBF0F8\"},\"line\":{\"color\":\"white\"}},\"header\":{\"fill\":{\"color\":\"#C8D4E3\"},\"line\":{\"color\":\"white\"}},\"type\":\"table\"}],\"barpolar\":[{\"marker\":{\"line\":{\"color\":\"#E5ECF6\",\"width\":0.5},\"pattern\":{\"fillmode\":\"overlay\",\"size\":10,\"solidity\":0.2}},\"type\":\"barpolar\"}],\"pie\":[{\"automargin\":true,\"type\":\"pie\"}]},\"layout\":{\"autotypenumbers\":\"strict\",\"colorway\":[\"#636efa\",\"#EF553B\",\"#00cc96\",\"#ab63fa\",\"#FFA15A\",\"#19d3f3\",\"#FF6692\",\"#B6E880\",\"#FF97FF\",\"#FECB52\"],\"font\":{\"color\":\"#2a3f5f\"},\"hovermode\":\"closest\",\"hoverlabel\":{\"align\":\"left\"},\"paper_bgcolor\":\"white\",\"plot_bgcolor\":\"#E5ECF6\",\"polar\":{\"bgcolor\":\"#E5ECF6\",\"angularaxis\":{\"gridcolor\":\"white\",\"linecolor\":\"white\",\"ticks\":\"\"},\"radialaxis\":{\"gridcolor\":\"white\",\"linecolor\":\"white\",\"ticks\":\"\"}},\"ternary\":{\"bgcolor\":\"#E5ECF6\",\"aaxis\":{\"gridcolor\":\"white\",\"linecolor\":\"white\",\"ticks\":\"\"},\"baxis\":{\"gridcolor\":\"white\",\"linecolor\":\"white\",\"ticks\":\"\"},\"caxis\":{\"gridcolor\":\"white\",\"linecolor\":\"white\",\"ticks\":\"\"}},\"coloraxis\":{\"colorbar\":{\"outlinewidth\":0,\"ticks\":\"\"}},\"colorscale\":{\"sequential\":[[0.0,\"#0d0887\"],[0.1111111111111111,\"#46039f\"],[0.2222222222222222,\"#7201a8\"],[0.3333333333333333,\"#9c179e\"],[0.4444444444444444,\"#bd3786\"],[0.5555555555555556,\"#d8576b\"],[0.6666666666666666,\"#ed7953\"],[0.7777777777777778,\"#fb9f3a\"],[0.8888888888888888,\"#fdca26\"],[1.0,\"#f0f921\"]],\"sequentialminus\":[[0.0,\"#0d0887\"],[0.1111111111111111,\"#46039f\"],[0.2222222222222222,\"#7201a8\"],[0.3333333333333333,\"#9c179e\"],[0.4444444444444444,\"#bd3786\"],[0.5555555555555556,\"#d8576b\"],[0.6666666666666666,\"#ed7953\"],[0.7777777777777778,\"#fb9f3a\"],[0.8888888888888888,\"#fdca26\"],[1.0,\"#f0f921\"]],\"diverging\":[[0,\"#8e0152\"],[0.1,\"#c51b7d\"],[0.2,\"#de77ae\"],[0.3,\"#f1b6da\"],[0.4,\"#fde0ef\"],[0.5,\"#f7f7f7\"],[0.6,\"#e6f5d0\"],[0.7,\"#b8e186\"],[0.8,\"#7fbc41\"],[0.9,\"#4d9221\"],[1,\"#276419\"]]},\"xaxis\":{\"gridcolor\":\"white\",\"linecolor\":\"white\",\"ticks\":\"\",\"title\":{\"standoff\":15},\"zerolinecolor\":\"white\",\"automargin\":true,\"zerolinewidth\":2},\"yaxis\":{\"gridcolor\":\"white\",\"linecolor\":\"white\",\"ticks\":\"\",\"title\":{\"standoff\":15},\"zerolinecolor\":\"white\",\"automargin\":true,\"zerolinewidth\":2},\"scene\":{\"xaxis\":{\"backgroundcolor\":\"#E5ECF6\",\"gridcolor\":\"white\",\"linecolor\":\"white\",\"showbackground\":true,\"ticks\":\"\",\"zerolinecolor\":\"white\",\"gridwidth\":2},\"yaxis\":{\"backgroundcolor\":\"#E5ECF6\",\"gridcolor\":\"white\",\"linecolor\":\"white\",\"showbackground\":true,\"ticks\":\"\",\"zerolinecolor\":\"white\",\"gridwidth\":2},\"zaxis\":{\"backgroundcolor\":\"#E5ECF6\",\"gridcolor\":\"white\",\"linecolor\":\"white\",\"showbackground\":true,\"ticks\":\"\",\"zerolinecolor\":\"white\",\"gridwidth\":2}},\"shapedefaults\":{\"line\":{\"color\":\"#2a3f5f\"}},\"annotationdefaults\":{\"arrowcolor\":\"#2a3f5f\",\"arrowhead\":0,\"arrowwidth\":1},\"geo\":{\"bgcolor\":\"white\",\"landcolor\":\"#E5ECF6\",\"subunitcolor\":\"white\",\"showland\":true,\"showlakes\":true,\"lakecolor\":\"white\"},\"title\":{\"x\":0.05},\"mapbox\":{\"style\":\"light\"}}},\"xaxis\":{\"anchor\":\"y\",\"domain\":[0.0,1.0],\"title\":{\"text\":\"HourlySeaLevelPressure\"}},\"yaxis\":{\"anchor\":\"x\",\"domain\":[0.0,0.7326],\"title\":{\"text\":\"percent of sum of Count\"}},\"xaxis2\":{\"anchor\":\"y2\",\"domain\":[0.0,1.0],\"matches\":\"x\",\"showticklabels\":false,\"showgrid\":true},\"yaxis2\":{\"anchor\":\"x2\",\"domain\":[0.7426,1.0],\"matches\":\"y2\",\"showticklabels\":false,\"showline\":false,\"ticks\":\"\",\"showgrid\":false},\"legend\":{\"title\":{\"text\":\"Delayed\"},\"tracegroupgap\":0},\"margin\":{\"t\":60},\"barmode\":\"overlay\",\"title\":{\"text\":\"<b>HourlySeaLevelPressure</b> Feature: No Delay/Delay\",\"x\":0.5},\"height\":400},                        {\"responsive\": true}                    )                };                            </script>        </div>\n",
       "</body>\n",
       "</html>"
      ]
     },
     "metadata": {},
     "output_type": "display_data"
    },
    {
     "output_type": "display_data",
     "data": {
      "text/html": [
       "<html>\n",
       "<head><meta charset=\"utf-8\" /></head>\n",
       "<body>\n",
       "    <div>            <script src=\"https://cdnjs.cloudflare.com/ajax/libs/mathjax/2.7.5/MathJax.js?config=TeX-AMS-MML_SVG\"></script><script type=\"text/javascript\">if (window.MathJax && window.MathJax.Hub && window.MathJax.Hub.Config) {window.MathJax.Hub.Config({SVG: {font: \"STIX-Web\"}});}</script>                <script type=\"text/javascript\">window.PlotlyConfig = {MathJaxConfig: 'local'};</script>\n",
       "        <script src=\"https://cdn.plot.ly/plotly-2.12.1.min.js\"></script>                <div id=\"6671eb3a-60fd-42cb-9f9d-74aade9825a3\" class=\"plotly-graph-div\" style=\"height:400px; width:100%;\"></div>            <script type=\"text/javascript\">                                    window.PLOTLYENV=window.PLOTLYENV || {};                                    if (document.getElementById(\"6671eb3a-60fd-42cb-9f9d-74aade9825a3\")) {                    Plotly.newPlot(                        \"6671eb3a-60fd-42cb-9f9d-74aade9825a3\",                        [{\"alignmentgroup\":\"True\",\"bingroup\":\"x\",\"histfunc\":\"sum\",\"histnorm\":\"percent\",\"hovertemplate\":\"Delayed=0.0<br>HourlyStationPressure=%{x}<br>percent of sum of Count=%{y}<extra></extra>\",\"legendgroup\":\"0.0\",\"marker\":{\"color\":\"#636efa\",\"opacity\":0.5,\"pattern\":{\"shape\":\"\"},\"line\":{\"color\":\"white\",\"width\":1}},\"name\":\"0.0\",\"offsetgroup\":\"0.0\",\"orientation\":\"v\",\"showlegend\":true,\"x\":[22.38,22.53,22.54,22.57,22.58,22.6,22.64,22.65,22.68,22.7,22.71,22.72,22.74,22.78,22.79,22.8,22.83,22.9,23.06,23.08,23.12,23.19,23.22,23.23,23.24,23.28,23.29,23.31,23.32,23.33,23.38,23.39,23.43,23.44,23.45,23.48,23.49,23.51,23.53,23.54,23.56,23.57,23.59,23.61,23.64,23.65,23.66,23.67,23.68,23.69,23.71,23.72,23.73,23.74,23.75,23.76,23.77,23.78,23.79,23.8,23.81,23.84,23.85,23.86,23.87,23.88,23.89,23.9,23.91,23.92,23.93,23.94,23.96,23.97,23.98,24.01,24.02,24.03,24.04,24.05,24.06,24.07,24.08,24.09,24.11,24.14,24.15,24.16,24.17,24.19,24.21,24.23,24.24,24.26,24.27,24.28,24.29,24.3,24.31,24.32,24.33,24.34,24.35,24.36,24.37,24.38,24.39,24.4,24.41,24.42,24.43,24.44,24.45,24.46,24.47,24.48,24.49,24.5,24.51,24.52,24.53,24.54,24.55,24.56,24.57,24.58,24.59,24.6,24.61,24.62,24.63,24.64,24.65,24.66,24.67,24.68,24.69,24.7,24.71,24.72,24.73,24.74,24.75,24.76,24.77,24.78,24.79,24.8,24.81,24.82,24.83,24.84,24.85,24.86,24.87,24.88,24.89,24.9,24.91,24.92,24.93,24.94,24.95,24.96,24.97,24.98,24.99,25.0,25.01,25.02,25.03,25.04,25.06,25.07,25.08,25.09,25.1,25.11,25.12,25.14,25.15,25.17,25.18,25.2,25.22,25.23,25.26,25.27,25.28,25.29,25.3,25.32,25.33,25.34,25.35,25.36,25.37,25.38,25.39,25.4,25.41,25.42,25.43,25.44,25.45,25.46,25.47,25.48,25.49,25.5,25.51,25.52,25.53,25.54,25.55,25.56,25.57,25.58,25.59,25.6,25.61,25.62,25.63,25.64,25.65,25.66,25.67,25.68,25.69,25.7,25.71,25.72,25.73,25.74,25.75,25.76,25.77,25.78,25.79,25.8,25.81,25.82,25.83,25.84,25.85,25.86,25.87,25.88,25.89,25.9,25.91,25.92,25.93,25.94,25.95,25.96,25.97,25.98,25.99,26.0,26.01,26.02,26.03,26.04,26.05,26.06,26.07,26.08,26.09,26.1,26.11,26.12,26.13,26.14,26.15,26.16,26.17,26.18,26.19,26.2,26.21,26.22,26.23,26.24,26.25,26.26,26.27,26.28,26.29,26.3,26.31,26.32,26.33,26.34,26.35,26.36,26.37,26.39,26.4,26.41,26.42,26.43,26.44,26.46,26.51,26.52,26.53,26.54,26.55,26.57,26.58,26.59,26.61,26.62,26.63,26.64,26.65,26.66,26.67,26.68,26.69,26.7,26.71,26.72,26.73,26.74,26.75,26.76,26.77,26.78,26.79,26.8,26.81,26.82,26.83,26.84,26.85,26.86,26.87,26.88,26.89,26.9,26.91,26.92,26.93,26.94,26.95,26.96,26.97,26.98,26.99,27.0,27.01,27.02,27.03,27.04,27.05,27.06,27.07,27.08,27.09,27.1,27.11,27.12,27.13,27.14,27.15,27.16,27.17,27.18,27.19,27.2,27.21,27.22,27.23,27.24,27.25,27.26,27.27,27.28,27.29,27.3,27.31,27.32,27.33,27.34,27.35,27.36,27.37,27.38,27.39,27.4,27.41,27.42,27.43,27.44,27.45,27.46,27.47,27.48,27.49,27.5,27.51,27.52,27.53,27.54,27.55,27.56,27.57,27.58,27.59,27.6,27.61,27.62,27.63,27.64,27.65,27.66,27.67,27.68,27.69,27.7,27.71,27.72,27.73,27.74,27.75,27.76,27.77,27.78,27.79,27.8,27.81,27.82,27.83,27.84,27.85,27.86,27.87,27.88,27.89,27.9,27.91,27.92,27.93,27.94,27.95,27.96,27.97,27.98,27.99,28.0,28.01,28.02,28.03,28.05,28.07,28.08,28.09,28.1,28.12,28.13,28.14,28.15,28.16,28.17,28.18,28.19,28.2,28.21,28.22,28.23,28.24,28.25,28.26,28.27,28.28,28.29,28.3,28.31,28.32,28.33,28.34,28.35,28.36,28.37,28.38,28.39,28.4,28.41,28.42,28.43,28.44,28.45,28.46,28.47,28.48,28.49,28.5,28.51,28.52,28.53,28.54,28.55,28.56,28.57,28.58,28.59,28.6,28.61,28.62,28.63,28.64,28.65,28.66,28.67,28.68,28.69,28.7,28.71,28.72,28.73,28.74,28.75,28.76,28.77,28.78,28.79,28.8,28.81,28.82,28.83,28.84,28.85,28.86,28.87,28.88,28.89,28.9,28.91,28.92,28.93,28.94,28.95,28.96,28.97,28.98,28.99,29.0,29.01,29.02,29.03,29.04,29.05,29.06,29.07,29.08,29.09,29.1,29.11,29.12,29.13,29.14,29.15,29.16,29.17,29.18,29.19,29.2,29.21,29.22,29.23,29.24,29.25,29.26,29.27,29.28,29.29,29.3,29.31,29.32,29.33,29.34,29.35,29.36,29.37,29.38,29.39,29.4,29.41,29.42,29.43,29.44,29.45,29.46,29.47,29.48,29.49,29.5,29.51,29.52,29.53,29.54,29.55,29.56,29.57,29.58,29.59,29.6,29.61,29.62,29.63,29.64,29.65,29.66,29.67,29.68,29.69,29.7,29.71,29.72,29.73,29.74,29.75,29.76,29.77,29.78,29.79,29.8,29.81,29.82,29.83,29.84,29.85,29.86,29.87,29.88,29.89,29.9,29.91,29.92,29.93,29.94,29.95,29.96,29.97,29.98,29.99,30.0,30.01,30.02,30.03,30.04,30.05,30.06,30.07,30.08,30.09,30.1,30.11,30.12,30.13,30.14,30.15,30.16,30.17,30.18,30.19,30.2,30.21,30.22,30.23,30.24,30.25,30.26,30.27,30.28,30.29,30.3,30.31,30.32,30.33,30.34,30.35,30.36,30.37,30.38,30.39,30.4,30.41,30.42,30.43,30.44,30.45,30.46,30.47,30.48,30.49,30.5,30.51,30.52,30.53,30.54,30.55,30.56,30.57,30.58,30.59,30.6,30.61,30.62,30.63,30.64,30.65,30.66,30.7,30.71,30.73,30.74,30.78,30.8],\"xaxis\":\"x\",\"y\":[2,1,1,1,1,1,1,1,1,2,1,2,2,3,2,1,2,1,1,1,1,1,1,1,1,1,1,1,1,1,1,3,1,1,1,1,1,2,2,1,2,1,3,2,1,3,1,3,5,4,1,4,2,1,1,2,1,5,4,2,1,2,5,2,3,1,1,3,1,1,3,4,1,2,4,2,3,2,3,2,2,2,4,1,1,1,3,2,1,1,3,1,2,6,2,2,1,9,11,6,2,2,5,1,11,4,2,1,7,5,7,7,9,12,14,12,21,36,18,20,22,29,38,36,32,28,24,76,26,36,41,38,79,49,39,34,50,42,52,19,24,39,31,22,26,40,26,15,21,11,15,8,7,3,6,13,5,4,6,4,2,4,2,4,5,2,3,2,4,3,1,1,2,1,2,1,1,1,1,1,2,1,3,1,2,3,1,1,1,1,3,1,4,2,3,3,2,3,3,3,1,8,7,2,5,4,7,10,11,6,16,8,18,7,7,12,16,23,16,13,25,12,21,22,16,26,15,18,33,20,13,19,25,40,31,15,15,18,20,14,9,31,9,9,8,13,10,15,18,12,13,5,8,3,10,8,13,7,7,6,7,15,5,9,5,4,8,3,5,10,2,3,9,6,7,3,3,3,3,4,3,3,2,8,4,1,4,3,4,2,4,3,2,3,1,3,2,3,2,2,3,1,2,2,2,1,1,1,1,2,2,2,1,1,4,4,6,3,3,7,4,1,1,6,1,3,6,2,3,3,1,2,5,5,5,3,4,8,3,4,3,4,5,3,3,5,4,4,4,3,3,4,6,5,5,5,4,7,3,4,3,6,5,4,5,5,3,5,2,2,1,4,4,4,5,7,3,9,9,9,4,7,3,7,8,10,9,15,7,8,12,15,11,8,6,20,28,14,25,27,27,34,21,67,29,36,38,29,34,29,24,21,27,26,23,14,30,15,4,29,15,15,14,17,6,9,13,11,9,10,21,10,11,12,10,9,6,10,7,2,5,9,7,6,3,6,3,10,6,2,7,4,2,5,6,1,2,3,2,2,1,3,1,3,4,2,3,1,2,1,4,3,3,3,2,2,1,2,1,1,3,4,1,5,4,3,9,2,11,6,4,5,10,11,12,5,14,7,8,16,17,35,22,22,24,49,36,43,33,57,52,49,48,55,107,28,44,91,54,56,48,54,68,45,62,60,57,68,62,51,112,42,133,96,45,161,131,124,150,132,152,114,115,144,135,142,118,122,160,141,148,197,172,172,147,146,175,144,207,169,128,195,150,190,174,125,231,171,159,209,188,239,185,192,282,206,279,221,215,267,217,219,232,179,256,197,212,251,125,270,160,139,260,153,144,247,149,223,149,185,208,177,222,184,182,196,157,171,167,155,174,135,143,166,146,190,148,139,171,110,182,152,150,183,161,193,248,215,267,256,231,337,271,369,342,310,362,325,352,405,337,375,345,348,378,325,383,294,308,365,282,306,238,232,278,198,234,257,203,251,169,146,204,126,160,122,101,132,111,72,130,61,109,53,57,79,44,68,48,31,47,31,30,34,20,31,22,10,27,7,11,12,2,15,5,13,12,3,16,7,6,7,4,6,2,5,6,1,7,4,3,4,2,2,2,1,2,1,2,2,1],\"yaxis\":\"y\",\"type\":\"histogram\"},{\"alignmentgroup\":\"True\",\"hovertemplate\":\"Delayed=0.0<br>HourlyStationPressure=%{x}<extra></extra>\",\"legendgroup\":\"0.0\",\"marker\":{\"color\":\"#636efa\",\"line\":{\"color\":\"white\",\"width\":1}},\"name\":\"0.0\",\"notched\":true,\"offsetgroup\":\"0.0\",\"showlegend\":false,\"x\":[22.38,22.53,22.54,22.57,22.58,22.6,22.64,22.65,22.68,22.7,22.71,22.72,22.74,22.78,22.79,22.8,22.83,22.9,23.06,23.08,23.12,23.19,23.22,23.23,23.24,23.28,23.29,23.31,23.32,23.33,23.38,23.39,23.43,23.44,23.45,23.48,23.49,23.51,23.53,23.54,23.56,23.57,23.59,23.61,23.64,23.65,23.66,23.67,23.68,23.69,23.71,23.72,23.73,23.74,23.75,23.76,23.77,23.78,23.79,23.8,23.81,23.84,23.85,23.86,23.87,23.88,23.89,23.9,23.91,23.92,23.93,23.94,23.96,23.97,23.98,24.01,24.02,24.03,24.04,24.05,24.06,24.07,24.08,24.09,24.11,24.14,24.15,24.16,24.17,24.19,24.21,24.23,24.24,24.26,24.27,24.28,24.29,24.3,24.31,24.32,24.33,24.34,24.35,24.36,24.37,24.38,24.39,24.4,24.41,24.42,24.43,24.44,24.45,24.46,24.47,24.48,24.49,24.5,24.51,24.52,24.53,24.54,24.55,24.56,24.57,24.58,24.59,24.6,24.61,24.62,24.63,24.64,24.65,24.66,24.67,24.68,24.69,24.7,24.71,24.72,24.73,24.74,24.75,24.76,24.77,24.78,24.79,24.8,24.81,24.82,24.83,24.84,24.85,24.86,24.87,24.88,24.89,24.9,24.91,24.92,24.93,24.94,24.95,24.96,24.97,24.98,24.99,25.0,25.01,25.02,25.03,25.04,25.06,25.07,25.08,25.09,25.1,25.11,25.12,25.14,25.15,25.17,25.18,25.2,25.22,25.23,25.26,25.27,25.28,25.29,25.3,25.32,25.33,25.34,25.35,25.36,25.37,25.38,25.39,25.4,25.41,25.42,25.43,25.44,25.45,25.46,25.47,25.48,25.49,25.5,25.51,25.52,25.53,25.54,25.55,25.56,25.57,25.58,25.59,25.6,25.61,25.62,25.63,25.64,25.65,25.66,25.67,25.68,25.69,25.7,25.71,25.72,25.73,25.74,25.75,25.76,25.77,25.78,25.79,25.8,25.81,25.82,25.83,25.84,25.85,25.86,25.87,25.88,25.89,25.9,25.91,25.92,25.93,25.94,25.95,25.96,25.97,25.98,25.99,26.0,26.01,26.02,26.03,26.04,26.05,26.06,26.07,26.08,26.09,26.1,26.11,26.12,26.13,26.14,26.15,26.16,26.17,26.18,26.19,26.2,26.21,26.22,26.23,26.24,26.25,26.26,26.27,26.28,26.29,26.3,26.31,26.32,26.33,26.34,26.35,26.36,26.37,26.39,26.4,26.41,26.42,26.43,26.44,26.46,26.51,26.52,26.53,26.54,26.55,26.57,26.58,26.59,26.61,26.62,26.63,26.64,26.65,26.66,26.67,26.68,26.69,26.7,26.71,26.72,26.73,26.74,26.75,26.76,26.77,26.78,26.79,26.8,26.81,26.82,26.83,26.84,26.85,26.86,26.87,26.88,26.89,26.9,26.91,26.92,26.93,26.94,26.95,26.96,26.97,26.98,26.99,27.0,27.01,27.02,27.03,27.04,27.05,27.06,27.07,27.08,27.09,27.1,27.11,27.12,27.13,27.14,27.15,27.16,27.17,27.18,27.19,27.2,27.21,27.22,27.23,27.24,27.25,27.26,27.27,27.28,27.29,27.3,27.31,27.32,27.33,27.34,27.35,27.36,27.37,27.38,27.39,27.4,27.41,27.42,27.43,27.44,27.45,27.46,27.47,27.48,27.49,27.5,27.51,27.52,27.53,27.54,27.55,27.56,27.57,27.58,27.59,27.6,27.61,27.62,27.63,27.64,27.65,27.66,27.67,27.68,27.69,27.7,27.71,27.72,27.73,27.74,27.75,27.76,27.77,27.78,27.79,27.8,27.81,27.82,27.83,27.84,27.85,27.86,27.87,27.88,27.89,27.9,27.91,27.92,27.93,27.94,27.95,27.96,27.97,27.98,27.99,28.0,28.01,28.02,28.03,28.05,28.07,28.08,28.09,28.1,28.12,28.13,28.14,28.15,28.16,28.17,28.18,28.19,28.2,28.21,28.22,28.23,28.24,28.25,28.26,28.27,28.28,28.29,28.3,28.31,28.32,28.33,28.34,28.35,28.36,28.37,28.38,28.39,28.4,28.41,28.42,28.43,28.44,28.45,28.46,28.47,28.48,28.49,28.5,28.51,28.52,28.53,28.54,28.55,28.56,28.57,28.58,28.59,28.6,28.61,28.62,28.63,28.64,28.65,28.66,28.67,28.68,28.69,28.7,28.71,28.72,28.73,28.74,28.75,28.76,28.77,28.78,28.79,28.8,28.81,28.82,28.83,28.84,28.85,28.86,28.87,28.88,28.89,28.9,28.91,28.92,28.93,28.94,28.95,28.96,28.97,28.98,28.99,29.0,29.01,29.02,29.03,29.04,29.05,29.06,29.07,29.08,29.09,29.1,29.11,29.12,29.13,29.14,29.15,29.16,29.17,29.18,29.19,29.2,29.21,29.22,29.23,29.24,29.25,29.26,29.27,29.28,29.29,29.3,29.31,29.32,29.33,29.34,29.35,29.36,29.37,29.38,29.39,29.4,29.41,29.42,29.43,29.44,29.45,29.46,29.47,29.48,29.49,29.5,29.51,29.52,29.53,29.54,29.55,29.56,29.57,29.58,29.59,29.6,29.61,29.62,29.63,29.64,29.65,29.66,29.67,29.68,29.69,29.7,29.71,29.72,29.73,29.74,29.75,29.76,29.77,29.78,29.79,29.8,29.81,29.82,29.83,29.84,29.85,29.86,29.87,29.88,29.89,29.9,29.91,29.92,29.93,29.94,29.95,29.96,29.97,29.98,29.99,30.0,30.01,30.02,30.03,30.04,30.05,30.06,30.07,30.08,30.09,30.1,30.11,30.12,30.13,30.14,30.15,30.16,30.17,30.18,30.19,30.2,30.21,30.22,30.23,30.24,30.25,30.26,30.27,30.28,30.29,30.3,30.31,30.32,30.33,30.34,30.35,30.36,30.37,30.38,30.39,30.4,30.41,30.42,30.43,30.44,30.45,30.46,30.47,30.48,30.49,30.5,30.51,30.52,30.53,30.54,30.55,30.56,30.57,30.58,30.59,30.6,30.61,30.62,30.63,30.64,30.65,30.66,30.7,30.71,30.73,30.74,30.78,30.8],\"xaxis\":\"x2\",\"yaxis\":\"y2\",\"type\":\"box\"},{\"alignmentgroup\":\"True\",\"bingroup\":\"x\",\"histfunc\":\"sum\",\"histnorm\":\"percent\",\"hovertemplate\":\"Delayed=1.0<br>HourlyStationPressure=%{x}<br>percent of sum of Count=%{y}<extra></extra>\",\"legendgroup\":\"1.0\",\"marker\":{\"color\":\"#EF553B\",\"opacity\":0.5,\"pattern\":{\"shape\":\"\"},\"line\":{\"color\":\"white\",\"width\":1}},\"name\":\"1.0\",\"offsetgroup\":\"1.0\",\"orientation\":\"v\",\"showlegend\":true,\"x\":[22.51,22.61,22.62,22.71,22.78,22.79,23.41,23.44,23.46,23.61,23.66,23.71,23.74,23.75,23.8,23.85,23.94,23.95,24.03,24.05,24.09,24.17,24.19,24.26,24.28,24.32,24.33,24.35,24.36,24.37,24.38,24.39,24.4,24.41,24.42,24.43,24.44,24.45,24.46,24.47,24.48,24.49,24.5,24.51,24.52,24.53,24.54,24.55,24.56,24.57,24.58,24.59,24.6,24.61,24.62,24.63,24.64,24.65,24.66,24.67,24.68,24.69,24.7,24.71,24.72,24.73,24.74,24.75,24.76,24.77,24.78,24.79,24.8,24.81,24.83,24.84,24.85,24.87,24.88,24.89,24.9,24.91,24.92,24.94,24.98,24.99,25.0,25.03,25.04,25.05,25.07,25.08,25.1,25.19,25.22,25.3,25.36,25.39,25.4,25.43,25.45,25.46,25.48,25.49,25.53,25.55,25.56,25.57,25.58,25.59,25.6,25.61,25.62,25.64,25.65,25.66,25.67,25.68,25.69,25.7,25.71,25.72,25.73,25.74,25.75,25.76,25.77,25.78,25.8,25.81,25.82,25.83,25.84,25.87,25.89,25.9,25.94,25.95,25.97,25.98,25.99,26.01,26.02,26.03,26.04,26.06,26.07,26.08,26.1,26.18,26.21,26.24,26.31,26.32,26.34,26.35,26.37,26.42,26.44,26.46,26.5,26.56,26.69,26.71,26.76,26.77,26.79,26.81,26.82,26.84,26.85,26.86,26.89,26.9,26.91,26.93,26.94,26.95,26.96,26.97,27.01,27.02,27.03,27.05,27.06,27.07,27.12,27.16,27.2,27.24,27.25,27.27,27.28,27.29,27.31,27.33,27.34,27.36,27.37,27.38,27.39,27.4,27.41,27.42,27.43,27.44,27.45,27.46,27.47,27.48,27.49,27.5,27.51,27.52,27.53,27.54,27.55,27.56,27.57,27.58,27.59,27.6,27.61,27.62,27.63,27.64,27.65,27.66,27.68,27.69,27.7,27.71,27.72,27.73,27.74,27.75,27.76,27.77,27.78,27.79,27.8,27.81,27.82,27.84,27.85,27.86,27.89,27.91,27.93,27.95,27.96,27.97,27.98,27.99,28.01,28.03,28.06,28.08,28.14,28.18,28.19,28.2,28.21,28.24,28.27,28.3,28.31,28.32,28.33,28.35,28.36,28.37,28.38,28.41,28.42,28.43,28.44,28.47,28.48,28.49,28.5,28.51,28.52,28.53,28.54,28.55,28.56,28.57,28.58,28.59,28.6,28.61,28.62,28.63,28.64,28.65,28.66,28.67,28.68,28.69,28.7,28.71,28.72,28.73,28.74,28.75,28.76,28.77,28.78,28.79,28.8,28.81,28.82,28.83,28.84,28.85,28.86,28.87,28.88,28.89,28.9,28.91,28.92,28.93,28.94,28.95,28.96,28.97,28.98,28.99,29.0,29.01,29.02,29.03,29.04,29.05,29.06,29.07,29.08,29.09,29.1,29.11,29.12,29.13,29.14,29.15,29.16,29.17,29.18,29.19,29.2,29.21,29.22,29.23,29.24,29.25,29.26,29.27,29.28,29.29,29.3,29.31,29.32,29.33,29.34,29.35,29.36,29.37,29.38,29.39,29.4,29.41,29.42,29.43,29.44,29.45,29.46,29.47,29.48,29.49,29.5,29.51,29.52,29.53,29.54,29.55,29.56,29.57,29.58,29.59,29.6,29.61,29.62,29.63,29.64,29.65,29.66,29.67,29.68,29.69,29.7,29.71,29.72,29.73,29.74,29.75,29.76,29.77,29.78,29.79,29.8,29.81,29.82,29.83,29.84,29.85,29.86,29.87,29.88,29.89,29.9,29.91,29.92,29.93,29.94,29.95,29.96,29.97,29.98,29.99,30.0,30.01,30.02,30.03,30.04,30.05,30.06,30.07,30.08,30.09,30.1,30.11,30.12,30.13,30.14,30.15,30.16,30.17,30.18,30.19,30.2,30.21,30.22,30.23,30.24,30.25,30.26,30.27,30.28,30.29,30.3,30.31,30.32,30.33,30.34,30.35,30.36,30.37,30.38,30.39,30.4,30.41,30.42,30.43,30.44,30.45,30.46,30.47,30.48,30.49,30.5,30.51,30.52,30.53,30.54,30.55,30.58,30.6,30.61,30.69,30.73],\"xaxis\":\"x\",\"y\":[1,1,1,1,1,1,1,1,1,1,1,1,1,2,1,1,1,1,1,1,1,1,1,2,1,4,1,1,1,3,3,2,2,3,1,3,5,3,3,4,7,6,9,3,2,3,8,9,5,10,13,11,18,11,10,11,12,26,13,7,18,9,5,24,14,7,12,14,6,4,13,11,3,4,6,2,1,3,3,1,1,2,1,1,1,1,1,1,1,1,1,1,3,1,2,1,1,1,1,1,1,1,1,2,2,2,5,2,1,1,2,6,2,4,2,5,5,4,7,2,5,2,4,3,4,6,3,2,4,3,4,1,1,4,3,2,3,2,1,1,2,1,2,1,1,1,1,1,1,1,1,1,1,2,1,1,1,1,1,1,1,1,1,1,1,1,1,2,1,1,1,1,2,3,2,2,2,1,1,1,1,1,4,1,1,1,1,1,2,1,1,1,3,2,2,1,1,1,3,2,1,4,7,4,5,4,7,2,6,8,3,1,4,19,8,7,7,10,8,7,11,7,8,1,5,5,11,7,4,2,3,4,2,2,4,2,4,1,2,2,3,2,2,1,2,2,2,1,1,1,1,3,2,3,2,1,2,1,1,2,2,1,1,1,1,1,2,1,1,3,1,2,1,4,1,1,1,4,2,1,6,3,2,6,5,10,11,9,12,13,11,13,14,12,16,10,23,10,22,15,12,8,12,14,14,16,8,15,13,16,11,14,25,9,28,23,10,39,28,21,31,18,26,31,29,31,38,35,32,37,35,32,37,39,39,39,38,25,41,48,44,37,42,46,37,36,49,32,55,41,32,49,42,75,52,62,58,51,59,52,58,57,49,41,58,36,60,38,45,70,28,51,42,45,48,29,28,57,37,52,36,44,67,44,63,41,40,56,27,34,33,33,43,36,33,45,37,43,39,41,49,28,41,41,37,60,49,39,68,37,81,65,60,95,65,86,90,88,86,88,79,108,76,97,75,86,92,71,101,65,76,64,53,66,56,70,70,35,54,52,47,54,44,44,28,20,32,22,17,32,18,20,35,14,20,7,12,15,10,21,9,10,8,3,7,4,7,9,1,5,9,6,5,4,1,2,3,2,1,4,3,1,3,3,2,3,1,1,1,1,1],\"yaxis\":\"y\",\"type\":\"histogram\"},{\"alignmentgroup\":\"True\",\"hovertemplate\":\"Delayed=1.0<br>HourlyStationPressure=%{x}<extra></extra>\",\"legendgroup\":\"1.0\",\"marker\":{\"color\":\"#EF553B\",\"line\":{\"color\":\"white\",\"width\":1}},\"name\":\"1.0\",\"notched\":true,\"offsetgroup\":\"1.0\",\"showlegend\":false,\"x\":[22.51,22.61,22.62,22.71,22.78,22.79,23.41,23.44,23.46,23.61,23.66,23.71,23.74,23.75,23.8,23.85,23.94,23.95,24.03,24.05,24.09,24.17,24.19,24.26,24.28,24.32,24.33,24.35,24.36,24.37,24.38,24.39,24.4,24.41,24.42,24.43,24.44,24.45,24.46,24.47,24.48,24.49,24.5,24.51,24.52,24.53,24.54,24.55,24.56,24.57,24.58,24.59,24.6,24.61,24.62,24.63,24.64,24.65,24.66,24.67,24.68,24.69,24.7,24.71,24.72,24.73,24.74,24.75,24.76,24.77,24.78,24.79,24.8,24.81,24.83,24.84,24.85,24.87,24.88,24.89,24.9,24.91,24.92,24.94,24.98,24.99,25.0,25.03,25.04,25.05,25.07,25.08,25.1,25.19,25.22,25.3,25.36,25.39,25.4,25.43,25.45,25.46,25.48,25.49,25.53,25.55,25.56,25.57,25.58,25.59,25.6,25.61,25.62,25.64,25.65,25.66,25.67,25.68,25.69,25.7,25.71,25.72,25.73,25.74,25.75,25.76,25.77,25.78,25.8,25.81,25.82,25.83,25.84,25.87,25.89,25.9,25.94,25.95,25.97,25.98,25.99,26.01,26.02,26.03,26.04,26.06,26.07,26.08,26.1,26.18,26.21,26.24,26.31,26.32,26.34,26.35,26.37,26.42,26.44,26.46,26.5,26.56,26.69,26.71,26.76,26.77,26.79,26.81,26.82,26.84,26.85,26.86,26.89,26.9,26.91,26.93,26.94,26.95,26.96,26.97,27.01,27.02,27.03,27.05,27.06,27.07,27.12,27.16,27.2,27.24,27.25,27.27,27.28,27.29,27.31,27.33,27.34,27.36,27.37,27.38,27.39,27.4,27.41,27.42,27.43,27.44,27.45,27.46,27.47,27.48,27.49,27.5,27.51,27.52,27.53,27.54,27.55,27.56,27.57,27.58,27.59,27.6,27.61,27.62,27.63,27.64,27.65,27.66,27.68,27.69,27.7,27.71,27.72,27.73,27.74,27.75,27.76,27.77,27.78,27.79,27.8,27.81,27.82,27.84,27.85,27.86,27.89,27.91,27.93,27.95,27.96,27.97,27.98,27.99,28.01,28.03,28.06,28.08,28.14,28.18,28.19,28.2,28.21,28.24,28.27,28.3,28.31,28.32,28.33,28.35,28.36,28.37,28.38,28.41,28.42,28.43,28.44,28.47,28.48,28.49,28.5,28.51,28.52,28.53,28.54,28.55,28.56,28.57,28.58,28.59,28.6,28.61,28.62,28.63,28.64,28.65,28.66,28.67,28.68,28.69,28.7,28.71,28.72,28.73,28.74,28.75,28.76,28.77,28.78,28.79,28.8,28.81,28.82,28.83,28.84,28.85,28.86,28.87,28.88,28.89,28.9,28.91,28.92,28.93,28.94,28.95,28.96,28.97,28.98,28.99,29.0,29.01,29.02,29.03,29.04,29.05,29.06,29.07,29.08,29.09,29.1,29.11,29.12,29.13,29.14,29.15,29.16,29.17,29.18,29.19,29.2,29.21,29.22,29.23,29.24,29.25,29.26,29.27,29.28,29.29,29.3,29.31,29.32,29.33,29.34,29.35,29.36,29.37,29.38,29.39,29.4,29.41,29.42,29.43,29.44,29.45,29.46,29.47,29.48,29.49,29.5,29.51,29.52,29.53,29.54,29.55,29.56,29.57,29.58,29.59,29.6,29.61,29.62,29.63,29.64,29.65,29.66,29.67,29.68,29.69,29.7,29.71,29.72,29.73,29.74,29.75,29.76,29.77,29.78,29.79,29.8,29.81,29.82,29.83,29.84,29.85,29.86,29.87,29.88,29.89,29.9,29.91,29.92,29.93,29.94,29.95,29.96,29.97,29.98,29.99,30.0,30.01,30.02,30.03,30.04,30.05,30.06,30.07,30.08,30.09,30.1,30.11,30.12,30.13,30.14,30.15,30.16,30.17,30.18,30.19,30.2,30.21,30.22,30.23,30.24,30.25,30.26,30.27,30.28,30.29,30.3,30.31,30.32,30.33,30.34,30.35,30.36,30.37,30.38,30.39,30.4,30.41,30.42,30.43,30.44,30.45,30.46,30.47,30.48,30.49,30.5,30.51,30.52,30.53,30.54,30.55,30.58,30.6,30.61,30.69,30.73],\"xaxis\":\"x2\",\"yaxis\":\"y2\",\"type\":\"box\"}],                        {\"template\":{\"data\":{\"histogram2dcontour\":[{\"type\":\"histogram2dcontour\",\"colorbar\":{\"outlinewidth\":0,\"ticks\":\"\"},\"colorscale\":[[0.0,\"#0d0887\"],[0.1111111111111111,\"#46039f\"],[0.2222222222222222,\"#7201a8\"],[0.3333333333333333,\"#9c179e\"],[0.4444444444444444,\"#bd3786\"],[0.5555555555555556,\"#d8576b\"],[0.6666666666666666,\"#ed7953\"],[0.7777777777777778,\"#fb9f3a\"],[0.8888888888888888,\"#fdca26\"],[1.0,\"#f0f921\"]]}],\"choropleth\":[{\"type\":\"choropleth\",\"colorbar\":{\"outlinewidth\":0,\"ticks\":\"\"}}],\"histogram2d\":[{\"type\":\"histogram2d\",\"colorbar\":{\"outlinewidth\":0,\"ticks\":\"\"},\"colorscale\":[[0.0,\"#0d0887\"],[0.1111111111111111,\"#46039f\"],[0.2222222222222222,\"#7201a8\"],[0.3333333333333333,\"#9c179e\"],[0.4444444444444444,\"#bd3786\"],[0.5555555555555556,\"#d8576b\"],[0.6666666666666666,\"#ed7953\"],[0.7777777777777778,\"#fb9f3a\"],[0.8888888888888888,\"#fdca26\"],[1.0,\"#f0f921\"]]}],\"heatmap\":[{\"type\":\"heatmap\",\"colorbar\":{\"outlinewidth\":0,\"ticks\":\"\"},\"colorscale\":[[0.0,\"#0d0887\"],[0.1111111111111111,\"#46039f\"],[0.2222222222222222,\"#7201a8\"],[0.3333333333333333,\"#9c179e\"],[0.4444444444444444,\"#bd3786\"],[0.5555555555555556,\"#d8576b\"],[0.6666666666666666,\"#ed7953\"],[0.7777777777777778,\"#fb9f3a\"],[0.8888888888888888,\"#fdca26\"],[1.0,\"#f0f921\"]]}],\"heatmapgl\":[{\"type\":\"heatmapgl\",\"colorbar\":{\"outlinewidth\":0,\"ticks\":\"\"},\"colorscale\":[[0.0,\"#0d0887\"],[0.1111111111111111,\"#46039f\"],[0.2222222222222222,\"#7201a8\"],[0.3333333333333333,\"#9c179e\"],[0.4444444444444444,\"#bd3786\"],[0.5555555555555556,\"#d8576b\"],[0.6666666666666666,\"#ed7953\"],[0.7777777777777778,\"#fb9f3a\"],[0.8888888888888888,\"#fdca26\"],[1.0,\"#f0f921\"]]}],\"contourcarpet\":[{\"type\":\"contourcarpet\",\"colorbar\":{\"outlinewidth\":0,\"ticks\":\"\"}}],\"contour\":[{\"type\":\"contour\",\"colorbar\":{\"outlinewidth\":0,\"ticks\":\"\"},\"colorscale\":[[0.0,\"#0d0887\"],[0.1111111111111111,\"#46039f\"],[0.2222222222222222,\"#7201a8\"],[0.3333333333333333,\"#9c179e\"],[0.4444444444444444,\"#bd3786\"],[0.5555555555555556,\"#d8576b\"],[0.6666666666666666,\"#ed7953\"],[0.7777777777777778,\"#fb9f3a\"],[0.8888888888888888,\"#fdca26\"],[1.0,\"#f0f921\"]]}],\"surface\":[{\"type\":\"surface\",\"colorbar\":{\"outlinewidth\":0,\"ticks\":\"\"},\"colorscale\":[[0.0,\"#0d0887\"],[0.1111111111111111,\"#46039f\"],[0.2222222222222222,\"#7201a8\"],[0.3333333333333333,\"#9c179e\"],[0.4444444444444444,\"#bd3786\"],[0.5555555555555556,\"#d8576b\"],[0.6666666666666666,\"#ed7953\"],[0.7777777777777778,\"#fb9f3a\"],[0.8888888888888888,\"#fdca26\"],[1.0,\"#f0f921\"]]}],\"mesh3d\":[{\"type\":\"mesh3d\",\"colorbar\":{\"outlinewidth\":0,\"ticks\":\"\"}}],\"scatter\":[{\"fillpattern\":{\"fillmode\":\"overlay\",\"size\":10,\"solidity\":0.2},\"type\":\"scatter\"}],\"parcoords\":[{\"type\":\"parcoords\",\"line\":{\"colorbar\":{\"outlinewidth\":0,\"ticks\":\"\"}}}],\"scatterpolargl\":[{\"type\":\"scatterpolargl\",\"marker\":{\"colorbar\":{\"outlinewidth\":0,\"ticks\":\"\"}}}],\"bar\":[{\"error_x\":{\"color\":\"#2a3f5f\"},\"error_y\":{\"color\":\"#2a3f5f\"},\"marker\":{\"line\":{\"color\":\"#E5ECF6\",\"width\":0.5},\"pattern\":{\"fillmode\":\"overlay\",\"size\":10,\"solidity\":0.2}},\"type\":\"bar\"}],\"scattergeo\":[{\"type\":\"scattergeo\",\"marker\":{\"colorbar\":{\"outlinewidth\":0,\"ticks\":\"\"}}}],\"scatterpolar\":[{\"type\":\"scatterpolar\",\"marker\":{\"colorbar\":{\"outlinewidth\":0,\"ticks\":\"\"}}}],\"histogram\":[{\"marker\":{\"pattern\":{\"fillmode\":\"overlay\",\"size\":10,\"solidity\":0.2}},\"type\":\"histogram\"}],\"scattergl\":[{\"type\":\"scattergl\",\"marker\":{\"colorbar\":{\"outlinewidth\":0,\"ticks\":\"\"}}}],\"scatter3d\":[{\"type\":\"scatter3d\",\"line\":{\"colorbar\":{\"outlinewidth\":0,\"ticks\":\"\"}},\"marker\":{\"colorbar\":{\"outlinewidth\":0,\"ticks\":\"\"}}}],\"scattermapbox\":[{\"type\":\"scattermapbox\",\"marker\":{\"colorbar\":{\"outlinewidth\":0,\"ticks\":\"\"}}}],\"scatterternary\":[{\"type\":\"scatterternary\",\"marker\":{\"colorbar\":{\"outlinewidth\":0,\"ticks\":\"\"}}}],\"scattercarpet\":[{\"type\":\"scattercarpet\",\"marker\":{\"colorbar\":{\"outlinewidth\":0,\"ticks\":\"\"}}}],\"carpet\":[{\"aaxis\":{\"endlinecolor\":\"#2a3f5f\",\"gridcolor\":\"white\",\"linecolor\":\"white\",\"minorgridcolor\":\"white\",\"startlinecolor\":\"#2a3f5f\"},\"baxis\":{\"endlinecolor\":\"#2a3f5f\",\"gridcolor\":\"white\",\"linecolor\":\"white\",\"minorgridcolor\":\"white\",\"startlinecolor\":\"#2a3f5f\"},\"type\":\"carpet\"}],\"table\":[{\"cells\":{\"fill\":{\"color\":\"#EBF0F8\"},\"line\":{\"color\":\"white\"}},\"header\":{\"fill\":{\"color\":\"#C8D4E3\"},\"line\":{\"color\":\"white\"}},\"type\":\"table\"}],\"barpolar\":[{\"marker\":{\"line\":{\"color\":\"#E5ECF6\",\"width\":0.5},\"pattern\":{\"fillmode\":\"overlay\",\"size\":10,\"solidity\":0.2}},\"type\":\"barpolar\"}],\"pie\":[{\"automargin\":true,\"type\":\"pie\"}]},\"layout\":{\"autotypenumbers\":\"strict\",\"colorway\":[\"#636efa\",\"#EF553B\",\"#00cc96\",\"#ab63fa\",\"#FFA15A\",\"#19d3f3\",\"#FF6692\",\"#B6E880\",\"#FF97FF\",\"#FECB52\"],\"font\":{\"color\":\"#2a3f5f\"},\"hovermode\":\"closest\",\"hoverlabel\":{\"align\":\"left\"},\"paper_bgcolor\":\"white\",\"plot_bgcolor\":\"#E5ECF6\",\"polar\":{\"bgcolor\":\"#E5ECF6\",\"angularaxis\":{\"gridcolor\":\"white\",\"linecolor\":\"white\",\"ticks\":\"\"},\"radialaxis\":{\"gridcolor\":\"white\",\"linecolor\":\"white\",\"ticks\":\"\"}},\"ternary\":{\"bgcolor\":\"#E5ECF6\",\"aaxis\":{\"gridcolor\":\"white\",\"linecolor\":\"white\",\"ticks\":\"\"},\"baxis\":{\"gridcolor\":\"white\",\"linecolor\":\"white\",\"ticks\":\"\"},\"caxis\":{\"gridcolor\":\"white\",\"linecolor\":\"white\",\"ticks\":\"\"}},\"coloraxis\":{\"colorbar\":{\"outlinewidth\":0,\"ticks\":\"\"}},\"colorscale\":{\"sequential\":[[0.0,\"#0d0887\"],[0.1111111111111111,\"#46039f\"],[0.2222222222222222,\"#7201a8\"],[0.3333333333333333,\"#9c179e\"],[0.4444444444444444,\"#bd3786\"],[0.5555555555555556,\"#d8576b\"],[0.6666666666666666,\"#ed7953\"],[0.7777777777777778,\"#fb9f3a\"],[0.8888888888888888,\"#fdca26\"],[1.0,\"#f0f921\"]],\"sequentialminus\":[[0.0,\"#0d0887\"],[0.1111111111111111,\"#46039f\"],[0.2222222222222222,\"#7201a8\"],[0.3333333333333333,\"#9c179e\"],[0.4444444444444444,\"#bd3786\"],[0.5555555555555556,\"#d8576b\"],[0.6666666666666666,\"#ed7953\"],[0.7777777777777778,\"#fb9f3a\"],[0.8888888888888888,\"#fdca26\"],[1.0,\"#f0f921\"]],\"diverging\":[[0,\"#8e0152\"],[0.1,\"#c51b7d\"],[0.2,\"#de77ae\"],[0.3,\"#f1b6da\"],[0.4,\"#fde0ef\"],[0.5,\"#f7f7f7\"],[0.6,\"#e6f5d0\"],[0.7,\"#b8e186\"],[0.8,\"#7fbc41\"],[0.9,\"#4d9221\"],[1,\"#276419\"]]},\"xaxis\":{\"gridcolor\":\"white\",\"linecolor\":\"white\",\"ticks\":\"\",\"title\":{\"standoff\":15},\"zerolinecolor\":\"white\",\"automargin\":true,\"zerolinewidth\":2},\"yaxis\":{\"gridcolor\":\"white\",\"linecolor\":\"white\",\"ticks\":\"\",\"title\":{\"standoff\":15},\"zerolinecolor\":\"white\",\"automargin\":true,\"zerolinewidth\":2},\"scene\":{\"xaxis\":{\"backgroundcolor\":\"#E5ECF6\",\"gridcolor\":\"white\",\"linecolor\":\"white\",\"showbackground\":true,\"ticks\":\"\",\"zerolinecolor\":\"white\",\"gridwidth\":2},\"yaxis\":{\"backgroundcolor\":\"#E5ECF6\",\"gridcolor\":\"white\",\"linecolor\":\"white\",\"showbackground\":true,\"ticks\":\"\",\"zerolinecolor\":\"white\",\"gridwidth\":2},\"zaxis\":{\"backgroundcolor\":\"#E5ECF6\",\"gridcolor\":\"white\",\"linecolor\":\"white\",\"showbackground\":true,\"ticks\":\"\",\"zerolinecolor\":\"white\",\"gridwidth\":2}},\"shapedefaults\":{\"line\":{\"color\":\"#2a3f5f\"}},\"annotationdefaults\":{\"arrowcolor\":\"#2a3f5f\",\"arrowhead\":0,\"arrowwidth\":1},\"geo\":{\"bgcolor\":\"white\",\"landcolor\":\"#E5ECF6\",\"subunitcolor\":\"white\",\"showland\":true,\"showlakes\":true,\"lakecolor\":\"white\"},\"title\":{\"x\":0.05},\"mapbox\":{\"style\":\"light\"}}},\"xaxis\":{\"anchor\":\"y\",\"domain\":[0.0,1.0],\"title\":{\"text\":\"HourlyStationPressure\"}},\"yaxis\":{\"anchor\":\"x\",\"domain\":[0.0,0.7326],\"title\":{\"text\":\"percent of sum of Count\"}},\"xaxis2\":{\"anchor\":\"y2\",\"domain\":[0.0,1.0],\"matches\":\"x\",\"showticklabels\":false,\"showgrid\":true},\"yaxis2\":{\"anchor\":\"x2\",\"domain\":[0.7426,1.0],\"matches\":\"y2\",\"showticklabels\":false,\"showline\":false,\"ticks\":\"\",\"showgrid\":false},\"legend\":{\"title\":{\"text\":\"Delayed\"},\"tracegroupgap\":0},\"margin\":{\"t\":60},\"barmode\":\"overlay\",\"title\":{\"text\":\"<b>HourlyStationPressure</b> Feature: No Delay/Delay\",\"x\":0.5},\"height\":400},                        {\"responsive\": true}                    )                };                            </script>        </div>\n",
       "</body>\n",
       "</html>"
      ]
     },
     "metadata": {},
     "output_type": "display_data"
    },
    {
     "output_type": "display_data",
     "data": {
      "text/html": [
       "<html>\n",
       "<head><meta charset=\"utf-8\" /></head>\n",
       "<body>\n",
       "    <div>            <script src=\"https://cdnjs.cloudflare.com/ajax/libs/mathjax/2.7.5/MathJax.js?config=TeX-AMS-MML_SVG\"></script><script type=\"text/javascript\">if (window.MathJax && window.MathJax.Hub && window.MathJax.Hub.Config) {window.MathJax.Hub.Config({SVG: {font: \"STIX-Web\"}});}</script>                <script type=\"text/javascript\">window.PlotlyConfig = {MathJaxConfig: 'local'};</script>\n",
       "        <script src=\"https://cdn.plot.ly/plotly-2.12.1.min.js\"></script>                <div id=\"0384002d-fca3-49a9-b66f-36916cd173a8\" class=\"plotly-graph-div\" style=\"height:400px; width:100%;\"></div>            <script type=\"text/javascript\">                                    window.PLOTLYENV=window.PLOTLYENV || {};                                    if (document.getElementById(\"0384002d-fca3-49a9-b66f-36916cd173a8\")) {                    Plotly.newPlot(                        \"0384002d-fca3-49a9-b66f-36916cd173a8\",                        [{\"alignmentgroup\":\"True\",\"bingroup\":\"x\",\"histfunc\":\"sum\",\"histnorm\":\"percent\",\"hovertemplate\":\"Delayed=0.0<br>HourlyVisibility=%{x}<br>percent of sum of Count=%{y}<extra></extra>\",\"legendgroup\":\"0.0\",\"marker\":{\"color\":\"#636efa\",\"opacity\":0.5,\"pattern\":{\"shape\":\"\"},\"line\":{\"color\":\"white\",\"width\":1}},\"name\":\"0.0\",\"offsetgroup\":\"0.0\",\"orientation\":\"v\",\"showlegend\":true,\"x\":[0.0,0.12,0.25,0.5,0.75,0.99,1.0,1.24,1.25,1.49,1.5,1.74,1.75,1.99,2.0,2.49,2.5,2.98,3.0,3.73,4.0,4.97,5.0,5.59,6.0,6.84,7.0,7.46,8.0,8.7,9.0,9.94,10.0],\"xaxis\":\"x\",\"y\":[9,19,72,81,50,5,87,4,29,5,112,2,32,10,218,12,142,14,274,9,226,11,318,22,381,22,547,26,587,24,728,1182,29680],\"yaxis\":\"y\",\"type\":\"histogram\"},{\"alignmentgroup\":\"True\",\"hovertemplate\":\"Delayed=0.0<br>HourlyVisibility=%{x}<extra></extra>\",\"legendgroup\":\"0.0\",\"marker\":{\"color\":\"#636efa\",\"line\":{\"color\":\"white\",\"width\":1}},\"name\":\"0.0\",\"notched\":true,\"offsetgroup\":\"0.0\",\"showlegend\":false,\"x\":[0.0,0.12,0.25,0.5,0.75,0.99,1.0,1.24,1.25,1.49,1.5,1.74,1.75,1.99,2.0,2.49,2.5,2.98,3.0,3.73,4.0,4.97,5.0,5.59,6.0,6.84,7.0,7.46,8.0,8.7,9.0,9.94,10.0],\"xaxis\":\"x2\",\"yaxis\":\"y2\",\"type\":\"box\"},{\"alignmentgroup\":\"True\",\"bingroup\":\"x\",\"histfunc\":\"sum\",\"histnorm\":\"percent\",\"hovertemplate\":\"Delayed=1.0<br>HourlyVisibility=%{x}<br>percent of sum of Count=%{y}<extra></extra>\",\"legendgroup\":\"1.0\",\"marker\":{\"color\":\"#EF553B\",\"opacity\":0.5,\"pattern\":{\"shape\":\"\"},\"line\":{\"color\":\"white\",\"width\":1}},\"name\":\"1.0\",\"offsetgroup\":\"1.0\",\"orientation\":\"v\",\"showlegend\":true,\"x\":[0.0,0.12,0.25,0.5,0.75,1.0,1.25,1.49,1.5,1.75,1.99,2.0,2.49,2.5,2.98,3.0,3.73,4.0,4.97,5.0,5.59,6.0,6.84,7.0,7.46,8.0,8.7,9.0,9.94,10.0],\"xaxis\":\"x\",\"y\":[6,3,25,42,22,38,7,2,42,17,1,73,3,49,2,89,3,74,4,102,5,99,4,152,9,164,8,197,257,6727],\"yaxis\":\"y\",\"type\":\"histogram\"},{\"alignmentgroup\":\"True\",\"hovertemplate\":\"Delayed=1.0<br>HourlyVisibility=%{x}<extra></extra>\",\"legendgroup\":\"1.0\",\"marker\":{\"color\":\"#EF553B\",\"line\":{\"color\":\"white\",\"width\":1}},\"name\":\"1.0\",\"notched\":true,\"offsetgroup\":\"1.0\",\"showlegend\":false,\"x\":[0.0,0.12,0.25,0.5,0.75,1.0,1.25,1.49,1.5,1.75,1.99,2.0,2.49,2.5,2.98,3.0,3.73,4.0,4.97,5.0,5.59,6.0,6.84,7.0,7.46,8.0,8.7,9.0,9.94,10.0],\"xaxis\":\"x2\",\"yaxis\":\"y2\",\"type\":\"box\"}],                        {\"template\":{\"data\":{\"histogram2dcontour\":[{\"type\":\"histogram2dcontour\",\"colorbar\":{\"outlinewidth\":0,\"ticks\":\"\"},\"colorscale\":[[0.0,\"#0d0887\"],[0.1111111111111111,\"#46039f\"],[0.2222222222222222,\"#7201a8\"],[0.3333333333333333,\"#9c179e\"],[0.4444444444444444,\"#bd3786\"],[0.5555555555555556,\"#d8576b\"],[0.6666666666666666,\"#ed7953\"],[0.7777777777777778,\"#fb9f3a\"],[0.8888888888888888,\"#fdca26\"],[1.0,\"#f0f921\"]]}],\"choropleth\":[{\"type\":\"choropleth\",\"colorbar\":{\"outlinewidth\":0,\"ticks\":\"\"}}],\"histogram2d\":[{\"type\":\"histogram2d\",\"colorbar\":{\"outlinewidth\":0,\"ticks\":\"\"},\"colorscale\":[[0.0,\"#0d0887\"],[0.1111111111111111,\"#46039f\"],[0.2222222222222222,\"#7201a8\"],[0.3333333333333333,\"#9c179e\"],[0.4444444444444444,\"#bd3786\"],[0.5555555555555556,\"#d8576b\"],[0.6666666666666666,\"#ed7953\"],[0.7777777777777778,\"#fb9f3a\"],[0.8888888888888888,\"#fdca26\"],[1.0,\"#f0f921\"]]}],\"heatmap\":[{\"type\":\"heatmap\",\"colorbar\":{\"outlinewidth\":0,\"ticks\":\"\"},\"colorscale\":[[0.0,\"#0d0887\"],[0.1111111111111111,\"#46039f\"],[0.2222222222222222,\"#7201a8\"],[0.3333333333333333,\"#9c179e\"],[0.4444444444444444,\"#bd3786\"],[0.5555555555555556,\"#d8576b\"],[0.6666666666666666,\"#ed7953\"],[0.7777777777777778,\"#fb9f3a\"],[0.8888888888888888,\"#fdca26\"],[1.0,\"#f0f921\"]]}],\"heatmapgl\":[{\"type\":\"heatmapgl\",\"colorbar\":{\"outlinewidth\":0,\"ticks\":\"\"},\"colorscale\":[[0.0,\"#0d0887\"],[0.1111111111111111,\"#46039f\"],[0.2222222222222222,\"#7201a8\"],[0.3333333333333333,\"#9c179e\"],[0.4444444444444444,\"#bd3786\"],[0.5555555555555556,\"#d8576b\"],[0.6666666666666666,\"#ed7953\"],[0.7777777777777778,\"#fb9f3a\"],[0.8888888888888888,\"#fdca26\"],[1.0,\"#f0f921\"]]}],\"contourcarpet\":[{\"type\":\"contourcarpet\",\"colorbar\":{\"outlinewidth\":0,\"ticks\":\"\"}}],\"contour\":[{\"type\":\"contour\",\"colorbar\":{\"outlinewidth\":0,\"ticks\":\"\"},\"colorscale\":[[0.0,\"#0d0887\"],[0.1111111111111111,\"#46039f\"],[0.2222222222222222,\"#7201a8\"],[0.3333333333333333,\"#9c179e\"],[0.4444444444444444,\"#bd3786\"],[0.5555555555555556,\"#d8576b\"],[0.6666666666666666,\"#ed7953\"],[0.7777777777777778,\"#fb9f3a\"],[0.8888888888888888,\"#fdca26\"],[1.0,\"#f0f921\"]]}],\"surface\":[{\"type\":\"surface\",\"colorbar\":{\"outlinewidth\":0,\"ticks\":\"\"},\"colorscale\":[[0.0,\"#0d0887\"],[0.1111111111111111,\"#46039f\"],[0.2222222222222222,\"#7201a8\"],[0.3333333333333333,\"#9c179e\"],[0.4444444444444444,\"#bd3786\"],[0.5555555555555556,\"#d8576b\"],[0.6666666666666666,\"#ed7953\"],[0.7777777777777778,\"#fb9f3a\"],[0.8888888888888888,\"#fdca26\"],[1.0,\"#f0f921\"]]}],\"mesh3d\":[{\"type\":\"mesh3d\",\"colorbar\":{\"outlinewidth\":0,\"ticks\":\"\"}}],\"scatter\":[{\"fillpattern\":{\"fillmode\":\"overlay\",\"size\":10,\"solidity\":0.2},\"type\":\"scatter\"}],\"parcoords\":[{\"type\":\"parcoords\",\"line\":{\"colorbar\":{\"outlinewidth\":0,\"ticks\":\"\"}}}],\"scatterpolargl\":[{\"type\":\"scatterpolargl\",\"marker\":{\"colorbar\":{\"outlinewidth\":0,\"ticks\":\"\"}}}],\"bar\":[{\"error_x\":{\"color\":\"#2a3f5f\"},\"error_y\":{\"color\":\"#2a3f5f\"},\"marker\":{\"line\":{\"color\":\"#E5ECF6\",\"width\":0.5},\"pattern\":{\"fillmode\":\"overlay\",\"size\":10,\"solidity\":0.2}},\"type\":\"bar\"}],\"scattergeo\":[{\"type\":\"scattergeo\",\"marker\":{\"colorbar\":{\"outlinewidth\":0,\"ticks\":\"\"}}}],\"scatterpolar\":[{\"type\":\"scatterpolar\",\"marker\":{\"colorbar\":{\"outlinewidth\":0,\"ticks\":\"\"}}}],\"histogram\":[{\"marker\":{\"pattern\":{\"fillmode\":\"overlay\",\"size\":10,\"solidity\":0.2}},\"type\":\"histogram\"}],\"scattergl\":[{\"type\":\"scattergl\",\"marker\":{\"colorbar\":{\"outlinewidth\":0,\"ticks\":\"\"}}}],\"scatter3d\":[{\"type\":\"scatter3d\",\"line\":{\"colorbar\":{\"outlinewidth\":0,\"ticks\":\"\"}},\"marker\":{\"colorbar\":{\"outlinewidth\":0,\"ticks\":\"\"}}}],\"scattermapbox\":[{\"type\":\"scattermapbox\",\"marker\":{\"colorbar\":{\"outlinewidth\":0,\"ticks\":\"\"}}}],\"scatterternary\":[{\"type\":\"scatterternary\",\"marker\":{\"colorbar\":{\"outlinewidth\":0,\"ticks\":\"\"}}}],\"scattercarpet\":[{\"type\":\"scattercarpet\",\"marker\":{\"colorbar\":{\"outlinewidth\":0,\"ticks\":\"\"}}}],\"carpet\":[{\"aaxis\":{\"endlinecolor\":\"#2a3f5f\",\"gridcolor\":\"white\",\"linecolor\":\"white\",\"minorgridcolor\":\"white\",\"startlinecolor\":\"#2a3f5f\"},\"baxis\":{\"endlinecolor\":\"#2a3f5f\",\"gridcolor\":\"white\",\"linecolor\":\"white\",\"minorgridcolor\":\"white\",\"startlinecolor\":\"#2a3f5f\"},\"type\":\"carpet\"}],\"table\":[{\"cells\":{\"fill\":{\"color\":\"#EBF0F8\"},\"line\":{\"color\":\"white\"}},\"header\":{\"fill\":{\"color\":\"#C8D4E3\"},\"line\":{\"color\":\"white\"}},\"type\":\"table\"}],\"barpolar\":[{\"marker\":{\"line\":{\"color\":\"#E5ECF6\",\"width\":0.5},\"pattern\":{\"fillmode\":\"overlay\",\"size\":10,\"solidity\":0.2}},\"type\":\"barpolar\"}],\"pie\":[{\"automargin\":true,\"type\":\"pie\"}]},\"layout\":{\"autotypenumbers\":\"strict\",\"colorway\":[\"#636efa\",\"#EF553B\",\"#00cc96\",\"#ab63fa\",\"#FFA15A\",\"#19d3f3\",\"#FF6692\",\"#B6E880\",\"#FF97FF\",\"#FECB52\"],\"font\":{\"color\":\"#2a3f5f\"},\"hovermode\":\"closest\",\"hoverlabel\":{\"align\":\"left\"},\"paper_bgcolor\":\"white\",\"plot_bgcolor\":\"#E5ECF6\",\"polar\":{\"bgcolor\":\"#E5ECF6\",\"angularaxis\":{\"gridcolor\":\"white\",\"linecolor\":\"white\",\"ticks\":\"\"},\"radialaxis\":{\"gridcolor\":\"white\",\"linecolor\":\"white\",\"ticks\":\"\"}},\"ternary\":{\"bgcolor\":\"#E5ECF6\",\"aaxis\":{\"gridcolor\":\"white\",\"linecolor\":\"white\",\"ticks\":\"\"},\"baxis\":{\"gridcolor\":\"white\",\"linecolor\":\"white\",\"ticks\":\"\"},\"caxis\":{\"gridcolor\":\"white\",\"linecolor\":\"white\",\"ticks\":\"\"}},\"coloraxis\":{\"colorbar\":{\"outlinewidth\":0,\"ticks\":\"\"}},\"colorscale\":{\"sequential\":[[0.0,\"#0d0887\"],[0.1111111111111111,\"#46039f\"],[0.2222222222222222,\"#7201a8\"],[0.3333333333333333,\"#9c179e\"],[0.4444444444444444,\"#bd3786\"],[0.5555555555555556,\"#d8576b\"],[0.6666666666666666,\"#ed7953\"],[0.7777777777777778,\"#fb9f3a\"],[0.8888888888888888,\"#fdca26\"],[1.0,\"#f0f921\"]],\"sequentialminus\":[[0.0,\"#0d0887\"],[0.1111111111111111,\"#46039f\"],[0.2222222222222222,\"#7201a8\"],[0.3333333333333333,\"#9c179e\"],[0.4444444444444444,\"#bd3786\"],[0.5555555555555556,\"#d8576b\"],[0.6666666666666666,\"#ed7953\"],[0.7777777777777778,\"#fb9f3a\"],[0.8888888888888888,\"#fdca26\"],[1.0,\"#f0f921\"]],\"diverging\":[[0,\"#8e0152\"],[0.1,\"#c51b7d\"],[0.2,\"#de77ae\"],[0.3,\"#f1b6da\"],[0.4,\"#fde0ef\"],[0.5,\"#f7f7f7\"],[0.6,\"#e6f5d0\"],[0.7,\"#b8e186\"],[0.8,\"#7fbc41\"],[0.9,\"#4d9221\"],[1,\"#276419\"]]},\"xaxis\":{\"gridcolor\":\"white\",\"linecolor\":\"white\",\"ticks\":\"\",\"title\":{\"standoff\":15},\"zerolinecolor\":\"white\",\"automargin\":true,\"zerolinewidth\":2},\"yaxis\":{\"gridcolor\":\"white\",\"linecolor\":\"white\",\"ticks\":\"\",\"title\":{\"standoff\":15},\"zerolinecolor\":\"white\",\"automargin\":true,\"zerolinewidth\":2},\"scene\":{\"xaxis\":{\"backgroundcolor\":\"#E5ECF6\",\"gridcolor\":\"white\",\"linecolor\":\"white\",\"showbackground\":true,\"ticks\":\"\",\"zerolinecolor\":\"white\",\"gridwidth\":2},\"yaxis\":{\"backgroundcolor\":\"#E5ECF6\",\"gridcolor\":\"white\",\"linecolor\":\"white\",\"showbackground\":true,\"ticks\":\"\",\"zerolinecolor\":\"white\",\"gridwidth\":2},\"zaxis\":{\"backgroundcolor\":\"#E5ECF6\",\"gridcolor\":\"white\",\"linecolor\":\"white\",\"showbackground\":true,\"ticks\":\"\",\"zerolinecolor\":\"white\",\"gridwidth\":2}},\"shapedefaults\":{\"line\":{\"color\":\"#2a3f5f\"}},\"annotationdefaults\":{\"arrowcolor\":\"#2a3f5f\",\"arrowhead\":0,\"arrowwidth\":1},\"geo\":{\"bgcolor\":\"white\",\"landcolor\":\"#E5ECF6\",\"subunitcolor\":\"white\",\"showland\":true,\"showlakes\":true,\"lakecolor\":\"white\"},\"title\":{\"x\":0.05},\"mapbox\":{\"style\":\"light\"}}},\"xaxis\":{\"anchor\":\"y\",\"domain\":[0.0,1.0],\"title\":{\"text\":\"HourlyVisibility\"}},\"yaxis\":{\"anchor\":\"x\",\"domain\":[0.0,0.7326],\"title\":{\"text\":\"percent of sum of Count\"}},\"xaxis2\":{\"anchor\":\"y2\",\"domain\":[0.0,1.0],\"matches\":\"x\",\"showticklabels\":false,\"showgrid\":true},\"yaxis2\":{\"anchor\":\"x2\",\"domain\":[0.7426,1.0],\"matches\":\"y2\",\"showticklabels\":false,\"showline\":false,\"ticks\":\"\",\"showgrid\":false},\"legend\":{\"title\":{\"text\":\"Delayed\"},\"tracegroupgap\":0},\"margin\":{\"t\":60},\"barmode\":\"overlay\",\"title\":{\"text\":\"<b>HourlyVisibility</b> Feature: No Delay/Delay\",\"x\":0.5},\"height\":400},                        {\"responsive\": true}                    )                };                            </script>        </div>\n",
       "</body>\n",
       "</html>"
      ]
     },
     "metadata": {},
     "output_type": "display_data"
    },
    {
     "output_type": "display_data",
     "data": {
      "text/html": [
       "<html>\n",
       "<head><meta charset=\"utf-8\" /></head>\n",
       "<body>\n",
       "    <div>            <script src=\"https://cdnjs.cloudflare.com/ajax/libs/mathjax/2.7.5/MathJax.js?config=TeX-AMS-MML_SVG\"></script><script type=\"text/javascript\">if (window.MathJax && window.MathJax.Hub && window.MathJax.Hub.Config) {window.MathJax.Hub.Config({SVG: {font: \"STIX-Web\"}});}</script>                <script type=\"text/javascript\">window.PlotlyConfig = {MathJaxConfig: 'local'};</script>\n",
       "        <script src=\"https://cdn.plot.ly/plotly-2.12.1.min.js\"></script>                <div id=\"7d92c427-2533-44d5-bf05-30858f5b6f98\" class=\"plotly-graph-div\" style=\"height:400px; width:100%;\"></div>            <script type=\"text/javascript\">                                    window.PLOTLYENV=window.PLOTLYENV || {};                                    if (document.getElementById(\"7d92c427-2533-44d5-bf05-30858f5b6f98\")) {                    Plotly.newPlot(                        \"7d92c427-2533-44d5-bf05-30858f5b6f98\",                        [{\"alignmentgroup\":\"True\",\"bingroup\":\"x\",\"histfunc\":\"sum\",\"histnorm\":\"percent\",\"hovertemplate\":\"Delayed=0.0<br>HourlyWetBulbTemperature=%{x}<br>percent of sum of Count=%{y}<extra></extra>\",\"legendgroup\":\"0.0\",\"marker\":{\"color\":\"#636efa\",\"opacity\":0.5,\"pattern\":{\"shape\":\"\"},\"line\":{\"color\":\"white\",\"width\":1}},\"name\":\"0.0\",\"offsetgroup\":\"0.0\",\"orientation\":\"v\",\"showlegend\":true,\"x\":[-16.0,-14.0,-12.0,-10.0,-9.0,-8.0,-7.0,-6.0,-5.0,-4.0,-3.0,-2.0,-1.0,0.0,1.0,2.0,3.0,4.0,5.0,6.0,7.0,8.0,9.0,10.0,11.0,12.0,13.0,14.0,15.0,16.0,17.0,18.0,19.0,20.0,21.0,22.0,23.0,24.0,25.0,26.0,27.0,28.0,29.0,30.0,31.0,32.0,33.0,34.0,35.0,36.0,37.0,38.0,39.0,40.0,41.0,42.0,43.0,44.0,45.0,46.0,47.0,48.0,49.0,50.0,51.0,52.0,53.0,54.0,55.0,56.0,57.0,58.0,59.0,60.0,61.0,62.0,63.0,64.0,65.0,66.0,67.0,68.0,69.0,70.0,71.0,72.0,73.0,74.0,75.0,76.0,77.0,78.0,79.0,80.0,81.0,82.0],\"xaxis\":\"x\",\"y\":[4,1,3,2,2,1,4,3,6,7,10,9,20,13,23,20,25,19,23,32,31,47,42,55,48,61,62,84,81,89,69,100,87,80,85,123,123,134,145,149,167,178,206,200,190,264,247,269,267,288,345,292,285,314,348,365,385,391,418,419,454,510,563,587,604,577,656,794,812,815,893,911,887,903,835,926,937,983,977,1026,1005,950,976,1001,1094,1038,1013,1023,949,774,651,500,292,117,39,8],\"yaxis\":\"y\",\"type\":\"histogram\"},{\"alignmentgroup\":\"True\",\"hovertemplate\":\"Delayed=0.0<br>HourlyWetBulbTemperature=%{x}<extra></extra>\",\"legendgroup\":\"0.0\",\"marker\":{\"color\":\"#636efa\",\"line\":{\"color\":\"white\",\"width\":1}},\"name\":\"0.0\",\"notched\":true,\"offsetgroup\":\"0.0\",\"showlegend\":false,\"x\":[-16.0,-14.0,-12.0,-10.0,-9.0,-8.0,-7.0,-6.0,-5.0,-4.0,-3.0,-2.0,-1.0,0.0,1.0,2.0,3.0,4.0,5.0,6.0,7.0,8.0,9.0,10.0,11.0,12.0,13.0,14.0,15.0,16.0,17.0,18.0,19.0,20.0,21.0,22.0,23.0,24.0,25.0,26.0,27.0,28.0,29.0,30.0,31.0,32.0,33.0,34.0,35.0,36.0,37.0,38.0,39.0,40.0,41.0,42.0,43.0,44.0,45.0,46.0,47.0,48.0,49.0,50.0,51.0,52.0,53.0,54.0,55.0,56.0,57.0,58.0,59.0,60.0,61.0,62.0,63.0,64.0,65.0,66.0,67.0,68.0,69.0,70.0,71.0,72.0,73.0,74.0,75.0,76.0,77.0,78.0,79.0,80.0,81.0,82.0],\"xaxis\":\"x2\",\"yaxis\":\"y2\",\"type\":\"box\"},{\"alignmentgroup\":\"True\",\"bingroup\":\"x\",\"histfunc\":\"sum\",\"histnorm\":\"percent\",\"hovertemplate\":\"Delayed=1.0<br>HourlyWetBulbTemperature=%{x}<br>percent of sum of Count=%{y}<extra></extra>\",\"legendgroup\":\"1.0\",\"marker\":{\"color\":\"#EF553B\",\"opacity\":0.5,\"pattern\":{\"shape\":\"\"},\"line\":{\"color\":\"white\",\"width\":1}},\"name\":\"1.0\",\"offsetgroup\":\"1.0\",\"orientation\":\"v\",\"showlegend\":true,\"x\":[-10.0,-9.0,-8.0,-7.0,-6.0,-5.0,-3.0,-2.0,-1.0,0.0,1.0,2.0,3.0,4.0,5.0,6.0,7.0,8.0,9.0,10.0,11.0,12.0,13.0,14.0,15.0,16.0,17.0,18.0,19.0,20.0,21.0,22.0,23.0,24.0,25.0,26.0,27.0,28.0,29.0,30.0,31.0,32.0,33.0,34.0,35.0,36.0,37.0,38.0,39.0,40.0,41.0,42.0,43.0,44.0,45.0,46.0,47.0,48.0,49.0,50.0,51.0,52.0,53.0,54.0,55.0,56.0,57.0,58.0,59.0,60.0,61.0,62.0,63.0,64.0,65.0,66.0,67.0,68.0,69.0,70.0,71.0,72.0,73.0,74.0,75.0,76.0,77.0,78.0,79.0,80.0,81.0,82.0,83.0],\"xaxis\":\"x\",\"y\":[2,1,3,1,1,2,2,7,9,9,15,8,14,6,9,11,17,14,22,18,26,26,35,26,39,19,35,50,40,46,31,33,32,37,51,46,53,57,57,53,49,57,62,60,53,63,66,52,81,71,59,81,68,74,64,81,96,92,116,97,121,127,153,145,167,165,184,216,181,204,176,210,183,198,232,226,236,228,235,217,276,275,297,297,262,188,173,126,76,12,8,1,1],\"yaxis\":\"y\",\"type\":\"histogram\"},{\"alignmentgroup\":\"True\",\"hovertemplate\":\"Delayed=1.0<br>HourlyWetBulbTemperature=%{x}<extra></extra>\",\"legendgroup\":\"1.0\",\"marker\":{\"color\":\"#EF553B\",\"line\":{\"color\":\"white\",\"width\":1}},\"name\":\"1.0\",\"notched\":true,\"offsetgroup\":\"1.0\",\"showlegend\":false,\"x\":[-10.0,-9.0,-8.0,-7.0,-6.0,-5.0,-3.0,-2.0,-1.0,0.0,1.0,2.0,3.0,4.0,5.0,6.0,7.0,8.0,9.0,10.0,11.0,12.0,13.0,14.0,15.0,16.0,17.0,18.0,19.0,20.0,21.0,22.0,23.0,24.0,25.0,26.0,27.0,28.0,29.0,30.0,31.0,32.0,33.0,34.0,35.0,36.0,37.0,38.0,39.0,40.0,41.0,42.0,43.0,44.0,45.0,46.0,47.0,48.0,49.0,50.0,51.0,52.0,53.0,54.0,55.0,56.0,57.0,58.0,59.0,60.0,61.0,62.0,63.0,64.0,65.0,66.0,67.0,68.0,69.0,70.0,71.0,72.0,73.0,74.0,75.0,76.0,77.0,78.0,79.0,80.0,81.0,82.0,83.0],\"xaxis\":\"x2\",\"yaxis\":\"y2\",\"type\":\"box\"}],                        {\"template\":{\"data\":{\"histogram2dcontour\":[{\"type\":\"histogram2dcontour\",\"colorbar\":{\"outlinewidth\":0,\"ticks\":\"\"},\"colorscale\":[[0.0,\"#0d0887\"],[0.1111111111111111,\"#46039f\"],[0.2222222222222222,\"#7201a8\"],[0.3333333333333333,\"#9c179e\"],[0.4444444444444444,\"#bd3786\"],[0.5555555555555556,\"#d8576b\"],[0.6666666666666666,\"#ed7953\"],[0.7777777777777778,\"#fb9f3a\"],[0.8888888888888888,\"#fdca26\"],[1.0,\"#f0f921\"]]}],\"choropleth\":[{\"type\":\"choropleth\",\"colorbar\":{\"outlinewidth\":0,\"ticks\":\"\"}}],\"histogram2d\":[{\"type\":\"histogram2d\",\"colorbar\":{\"outlinewidth\":0,\"ticks\":\"\"},\"colorscale\":[[0.0,\"#0d0887\"],[0.1111111111111111,\"#46039f\"],[0.2222222222222222,\"#7201a8\"],[0.3333333333333333,\"#9c179e\"],[0.4444444444444444,\"#bd3786\"],[0.5555555555555556,\"#d8576b\"],[0.6666666666666666,\"#ed7953\"],[0.7777777777777778,\"#fb9f3a\"],[0.8888888888888888,\"#fdca26\"],[1.0,\"#f0f921\"]]}],\"heatmap\":[{\"type\":\"heatmap\",\"colorbar\":{\"outlinewidth\":0,\"ticks\":\"\"},\"colorscale\":[[0.0,\"#0d0887\"],[0.1111111111111111,\"#46039f\"],[0.2222222222222222,\"#7201a8\"],[0.3333333333333333,\"#9c179e\"],[0.4444444444444444,\"#bd3786\"],[0.5555555555555556,\"#d8576b\"],[0.6666666666666666,\"#ed7953\"],[0.7777777777777778,\"#fb9f3a\"],[0.8888888888888888,\"#fdca26\"],[1.0,\"#f0f921\"]]}],\"heatmapgl\":[{\"type\":\"heatmapgl\",\"colorbar\":{\"outlinewidth\":0,\"ticks\":\"\"},\"colorscale\":[[0.0,\"#0d0887\"],[0.1111111111111111,\"#46039f\"],[0.2222222222222222,\"#7201a8\"],[0.3333333333333333,\"#9c179e\"],[0.4444444444444444,\"#bd3786\"],[0.5555555555555556,\"#d8576b\"],[0.6666666666666666,\"#ed7953\"],[0.7777777777777778,\"#fb9f3a\"],[0.8888888888888888,\"#fdca26\"],[1.0,\"#f0f921\"]]}],\"contourcarpet\":[{\"type\":\"contourcarpet\",\"colorbar\":{\"outlinewidth\":0,\"ticks\":\"\"}}],\"contour\":[{\"type\":\"contour\",\"colorbar\":{\"outlinewidth\":0,\"ticks\":\"\"},\"colorscale\":[[0.0,\"#0d0887\"],[0.1111111111111111,\"#46039f\"],[0.2222222222222222,\"#7201a8\"],[0.3333333333333333,\"#9c179e\"],[0.4444444444444444,\"#bd3786\"],[0.5555555555555556,\"#d8576b\"],[0.6666666666666666,\"#ed7953\"],[0.7777777777777778,\"#fb9f3a\"],[0.8888888888888888,\"#fdca26\"],[1.0,\"#f0f921\"]]}],\"surface\":[{\"type\":\"surface\",\"colorbar\":{\"outlinewidth\":0,\"ticks\":\"\"},\"colorscale\":[[0.0,\"#0d0887\"],[0.1111111111111111,\"#46039f\"],[0.2222222222222222,\"#7201a8\"],[0.3333333333333333,\"#9c179e\"],[0.4444444444444444,\"#bd3786\"],[0.5555555555555556,\"#d8576b\"],[0.6666666666666666,\"#ed7953\"],[0.7777777777777778,\"#fb9f3a\"],[0.8888888888888888,\"#fdca26\"],[1.0,\"#f0f921\"]]}],\"mesh3d\":[{\"type\":\"mesh3d\",\"colorbar\":{\"outlinewidth\":0,\"ticks\":\"\"}}],\"scatter\":[{\"fillpattern\":{\"fillmode\":\"overlay\",\"size\":10,\"solidity\":0.2},\"type\":\"scatter\"}],\"parcoords\":[{\"type\":\"parcoords\",\"line\":{\"colorbar\":{\"outlinewidth\":0,\"ticks\":\"\"}}}],\"scatterpolargl\":[{\"type\":\"scatterpolargl\",\"marker\":{\"colorbar\":{\"outlinewidth\":0,\"ticks\":\"\"}}}],\"bar\":[{\"error_x\":{\"color\":\"#2a3f5f\"},\"error_y\":{\"color\":\"#2a3f5f\"},\"marker\":{\"line\":{\"color\":\"#E5ECF6\",\"width\":0.5},\"pattern\":{\"fillmode\":\"overlay\",\"size\":10,\"solidity\":0.2}},\"type\":\"bar\"}],\"scattergeo\":[{\"type\":\"scattergeo\",\"marker\":{\"colorbar\":{\"outlinewidth\":0,\"ticks\":\"\"}}}],\"scatterpolar\":[{\"type\":\"scatterpolar\",\"marker\":{\"colorbar\":{\"outlinewidth\":0,\"ticks\":\"\"}}}],\"histogram\":[{\"marker\":{\"pattern\":{\"fillmode\":\"overlay\",\"size\":10,\"solidity\":0.2}},\"type\":\"histogram\"}],\"scattergl\":[{\"type\":\"scattergl\",\"marker\":{\"colorbar\":{\"outlinewidth\":0,\"ticks\":\"\"}}}],\"scatter3d\":[{\"type\":\"scatter3d\",\"line\":{\"colorbar\":{\"outlinewidth\":0,\"ticks\":\"\"}},\"marker\":{\"colorbar\":{\"outlinewidth\":0,\"ticks\":\"\"}}}],\"scattermapbox\":[{\"type\":\"scattermapbox\",\"marker\":{\"colorbar\":{\"outlinewidth\":0,\"ticks\":\"\"}}}],\"scatterternary\":[{\"type\":\"scatterternary\",\"marker\":{\"colorbar\":{\"outlinewidth\":0,\"ticks\":\"\"}}}],\"scattercarpet\":[{\"type\":\"scattercarpet\",\"marker\":{\"colorbar\":{\"outlinewidth\":0,\"ticks\":\"\"}}}],\"carpet\":[{\"aaxis\":{\"endlinecolor\":\"#2a3f5f\",\"gridcolor\":\"white\",\"linecolor\":\"white\",\"minorgridcolor\":\"white\",\"startlinecolor\":\"#2a3f5f\"},\"baxis\":{\"endlinecolor\":\"#2a3f5f\",\"gridcolor\":\"white\",\"linecolor\":\"white\",\"minorgridcolor\":\"white\",\"startlinecolor\":\"#2a3f5f\"},\"type\":\"carpet\"}],\"table\":[{\"cells\":{\"fill\":{\"color\":\"#EBF0F8\"},\"line\":{\"color\":\"white\"}},\"header\":{\"fill\":{\"color\":\"#C8D4E3\"},\"line\":{\"color\":\"white\"}},\"type\":\"table\"}],\"barpolar\":[{\"marker\":{\"line\":{\"color\":\"#E5ECF6\",\"width\":0.5},\"pattern\":{\"fillmode\":\"overlay\",\"size\":10,\"solidity\":0.2}},\"type\":\"barpolar\"}],\"pie\":[{\"automargin\":true,\"type\":\"pie\"}]},\"layout\":{\"autotypenumbers\":\"strict\",\"colorway\":[\"#636efa\",\"#EF553B\",\"#00cc96\",\"#ab63fa\",\"#FFA15A\",\"#19d3f3\",\"#FF6692\",\"#B6E880\",\"#FF97FF\",\"#FECB52\"],\"font\":{\"color\":\"#2a3f5f\"},\"hovermode\":\"closest\",\"hoverlabel\":{\"align\":\"left\"},\"paper_bgcolor\":\"white\",\"plot_bgcolor\":\"#E5ECF6\",\"polar\":{\"bgcolor\":\"#E5ECF6\",\"angularaxis\":{\"gridcolor\":\"white\",\"linecolor\":\"white\",\"ticks\":\"\"},\"radialaxis\":{\"gridcolor\":\"white\",\"linecolor\":\"white\",\"ticks\":\"\"}},\"ternary\":{\"bgcolor\":\"#E5ECF6\",\"aaxis\":{\"gridcolor\":\"white\",\"linecolor\":\"white\",\"ticks\":\"\"},\"baxis\":{\"gridcolor\":\"white\",\"linecolor\":\"white\",\"ticks\":\"\"},\"caxis\":{\"gridcolor\":\"white\",\"linecolor\":\"white\",\"ticks\":\"\"}},\"coloraxis\":{\"colorbar\":{\"outlinewidth\":0,\"ticks\":\"\"}},\"colorscale\":{\"sequential\":[[0.0,\"#0d0887\"],[0.1111111111111111,\"#46039f\"],[0.2222222222222222,\"#7201a8\"],[0.3333333333333333,\"#9c179e\"],[0.4444444444444444,\"#bd3786\"],[0.5555555555555556,\"#d8576b\"],[0.6666666666666666,\"#ed7953\"],[0.7777777777777778,\"#fb9f3a\"],[0.8888888888888888,\"#fdca26\"],[1.0,\"#f0f921\"]],\"sequentialminus\":[[0.0,\"#0d0887\"],[0.1111111111111111,\"#46039f\"],[0.2222222222222222,\"#7201a8\"],[0.3333333333333333,\"#9c179e\"],[0.4444444444444444,\"#bd3786\"],[0.5555555555555556,\"#d8576b\"],[0.6666666666666666,\"#ed7953\"],[0.7777777777777778,\"#fb9f3a\"],[0.8888888888888888,\"#fdca26\"],[1.0,\"#f0f921\"]],\"diverging\":[[0,\"#8e0152\"],[0.1,\"#c51b7d\"],[0.2,\"#de77ae\"],[0.3,\"#f1b6da\"],[0.4,\"#fde0ef\"],[0.5,\"#f7f7f7\"],[0.6,\"#e6f5d0\"],[0.7,\"#b8e186\"],[0.8,\"#7fbc41\"],[0.9,\"#4d9221\"],[1,\"#276419\"]]},\"xaxis\":{\"gridcolor\":\"white\",\"linecolor\":\"white\",\"ticks\":\"\",\"title\":{\"standoff\":15},\"zerolinecolor\":\"white\",\"automargin\":true,\"zerolinewidth\":2},\"yaxis\":{\"gridcolor\":\"white\",\"linecolor\":\"white\",\"ticks\":\"\",\"title\":{\"standoff\":15},\"zerolinecolor\":\"white\",\"automargin\":true,\"zerolinewidth\":2},\"scene\":{\"xaxis\":{\"backgroundcolor\":\"#E5ECF6\",\"gridcolor\":\"white\",\"linecolor\":\"white\",\"showbackground\":true,\"ticks\":\"\",\"zerolinecolor\":\"white\",\"gridwidth\":2},\"yaxis\":{\"backgroundcolor\":\"#E5ECF6\",\"gridcolor\":\"white\",\"linecolor\":\"white\",\"showbackground\":true,\"ticks\":\"\",\"zerolinecolor\":\"white\",\"gridwidth\":2},\"zaxis\":{\"backgroundcolor\":\"#E5ECF6\",\"gridcolor\":\"white\",\"linecolor\":\"white\",\"showbackground\":true,\"ticks\":\"\",\"zerolinecolor\":\"white\",\"gridwidth\":2}},\"shapedefaults\":{\"line\":{\"color\":\"#2a3f5f\"}},\"annotationdefaults\":{\"arrowcolor\":\"#2a3f5f\",\"arrowhead\":0,\"arrowwidth\":1},\"geo\":{\"bgcolor\":\"white\",\"landcolor\":\"#E5ECF6\",\"subunitcolor\":\"white\",\"showland\":true,\"showlakes\":true,\"lakecolor\":\"white\"},\"title\":{\"x\":0.05},\"mapbox\":{\"style\":\"light\"}}},\"xaxis\":{\"anchor\":\"y\",\"domain\":[0.0,1.0],\"title\":{\"text\":\"HourlyWetBulbTemperature\"}},\"yaxis\":{\"anchor\":\"x\",\"domain\":[0.0,0.7326],\"title\":{\"text\":\"percent of sum of Count\"}},\"xaxis2\":{\"anchor\":\"y2\",\"domain\":[0.0,1.0],\"matches\":\"x\",\"showticklabels\":false,\"showgrid\":true},\"yaxis2\":{\"anchor\":\"x2\",\"domain\":[0.7426,1.0],\"matches\":\"y2\",\"showticklabels\":false,\"showline\":false,\"ticks\":\"\",\"showgrid\":false},\"legend\":{\"title\":{\"text\":\"Delayed\"},\"tracegroupgap\":0},\"margin\":{\"t\":60},\"barmode\":\"overlay\",\"title\":{\"text\":\"<b>HourlyWetBulbTemperature</b> Feature: No Delay/Delay\",\"x\":0.5},\"height\":400},                        {\"responsive\": true}                    )                };                            </script>        </div>\n",
       "</body>\n",
       "</html>"
      ]
     },
     "metadata": {},
     "output_type": "display_data"
    },
    {
     "output_type": "display_data",
     "data": {
      "text/html": [
       "<html>\n",
       "<head><meta charset=\"utf-8\" /></head>\n",
       "<body>\n",
       "    <div>            <script src=\"https://cdnjs.cloudflare.com/ajax/libs/mathjax/2.7.5/MathJax.js?config=TeX-AMS-MML_SVG\"></script><script type=\"text/javascript\">if (window.MathJax && window.MathJax.Hub && window.MathJax.Hub.Config) {window.MathJax.Hub.Config({SVG: {font: \"STIX-Web\"}});}</script>                <script type=\"text/javascript\">window.PlotlyConfig = {MathJaxConfig: 'local'};</script>\n",
       "        <script src=\"https://cdn.plot.ly/plotly-2.12.1.min.js\"></script>                <div id=\"32b51244-6a52-4d26-904c-82e8732afc26\" class=\"plotly-graph-div\" style=\"height:400px; width:100%;\"></div>            <script type=\"text/javascript\">                                    window.PLOTLYENV=window.PLOTLYENV || {};                                    if (document.getElementById(\"32b51244-6a52-4d26-904c-82e8732afc26\")) {                    Plotly.newPlot(                        \"32b51244-6a52-4d26-904c-82e8732afc26\",                        [{\"alignmentgroup\":\"True\",\"bingroup\":\"x\",\"histfunc\":\"sum\",\"histnorm\":\"percent\",\"hovertemplate\":\"Delayed=0.0<br>HourlyWindSpeed=%{x}<br>percent of sum of Count=%{y}<extra></extra>\",\"legendgroup\":\"0.0\",\"marker\":{\"color\":\"#636efa\",\"opacity\":0.5,\"pattern\":{\"shape\":\"\"},\"line\":{\"color\":\"white\",\"width\":1}},\"name\":\"0.0\",\"offsetgroup\":\"0.0\",\"orientation\":\"v\",\"showlegend\":true,\"x\":[0.0,2.0,3.0,5.0,6.0,7.0,8.0,9.0,10.0,11.0,13.0,14.0,15.0,16.0,17.0,18.0,20.0,21.0,22.0,23.0,24.0,25.0,26.0,28.0,29.0,30.0,31.0,32.0,33.0,34.0,36.0,37.0,38.0,40.0,41.0],\"xaxis\":\"x\",\"y\":[2908,1,2480,2922,3336,3394,3197,3069,2829,2398,1916,1585,1291,918,756,532,404,282,221,165,119,70,47,34,22,17,12,4,3,3,2,2,3,1,1],\"yaxis\":\"y\",\"type\":\"histogram\"},{\"alignmentgroup\":\"True\",\"hovertemplate\":\"Delayed=0.0<br>HourlyWindSpeed=%{x}<extra></extra>\",\"legendgroup\":\"0.0\",\"marker\":{\"color\":\"#636efa\",\"line\":{\"color\":\"white\",\"width\":1}},\"name\":\"0.0\",\"notched\":true,\"offsetgroup\":\"0.0\",\"showlegend\":false,\"x\":[0.0,2.0,3.0,5.0,6.0,7.0,8.0,9.0,10.0,11.0,13.0,14.0,15.0,16.0,17.0,18.0,20.0,21.0,22.0,23.0,24.0,25.0,26.0,28.0,29.0,30.0,31.0,32.0,33.0,34.0,36.0,37.0,38.0,40.0,41.0],\"xaxis\":\"x2\",\"yaxis\":\"y2\",\"type\":\"box\"},{\"alignmentgroup\":\"True\",\"bingroup\":\"x\",\"histfunc\":\"sum\",\"histnorm\":\"percent\",\"hovertemplate\":\"Delayed=1.0<br>HourlyWindSpeed=%{x}<br>percent of sum of Count=%{y}<extra></extra>\",\"legendgroup\":\"1.0\",\"marker\":{\"color\":\"#EF553B\",\"opacity\":0.5,\"pattern\":{\"shape\":\"\"},\"line\":{\"color\":\"white\",\"width\":1}},\"name\":\"1.0\",\"offsetgroup\":\"1.0\",\"orientation\":\"v\",\"showlegend\":true,\"x\":[0.0,3.0,5.0,6.0,7.0,8.0,9.0,10.0,11.0,13.0,14.0,15.0,16.0,17.0,18.0,20.0,21.0,22.0,23.0,24.0,25.0,26.0,28.0,29.0,30.0,31.0,32.0,33.0,34.0,36.0],\"xaxis\":\"x\",\"y\":[624,532,691,753,838,792,711,617,566,459,374,310,250,185,151,113,68,54,36,20,28,17,22,9,3,2,3,2,1,2],\"yaxis\":\"y\",\"type\":\"histogram\"},{\"alignmentgroup\":\"True\",\"hovertemplate\":\"Delayed=1.0<br>HourlyWindSpeed=%{x}<extra></extra>\",\"legendgroup\":\"1.0\",\"marker\":{\"color\":\"#EF553B\",\"line\":{\"color\":\"white\",\"width\":1}},\"name\":\"1.0\",\"notched\":true,\"offsetgroup\":\"1.0\",\"showlegend\":false,\"x\":[0.0,3.0,5.0,6.0,7.0,8.0,9.0,10.0,11.0,13.0,14.0,15.0,16.0,17.0,18.0,20.0,21.0,22.0,23.0,24.0,25.0,26.0,28.0,29.0,30.0,31.0,32.0,33.0,34.0,36.0],\"xaxis\":\"x2\",\"yaxis\":\"y2\",\"type\":\"box\"}],                        {\"template\":{\"data\":{\"histogram2dcontour\":[{\"type\":\"histogram2dcontour\",\"colorbar\":{\"outlinewidth\":0,\"ticks\":\"\"},\"colorscale\":[[0.0,\"#0d0887\"],[0.1111111111111111,\"#46039f\"],[0.2222222222222222,\"#7201a8\"],[0.3333333333333333,\"#9c179e\"],[0.4444444444444444,\"#bd3786\"],[0.5555555555555556,\"#d8576b\"],[0.6666666666666666,\"#ed7953\"],[0.7777777777777778,\"#fb9f3a\"],[0.8888888888888888,\"#fdca26\"],[1.0,\"#f0f921\"]]}],\"choropleth\":[{\"type\":\"choropleth\",\"colorbar\":{\"outlinewidth\":0,\"ticks\":\"\"}}],\"histogram2d\":[{\"type\":\"histogram2d\",\"colorbar\":{\"outlinewidth\":0,\"ticks\":\"\"},\"colorscale\":[[0.0,\"#0d0887\"],[0.1111111111111111,\"#46039f\"],[0.2222222222222222,\"#7201a8\"],[0.3333333333333333,\"#9c179e\"],[0.4444444444444444,\"#bd3786\"],[0.5555555555555556,\"#d8576b\"],[0.6666666666666666,\"#ed7953\"],[0.7777777777777778,\"#fb9f3a\"],[0.8888888888888888,\"#fdca26\"],[1.0,\"#f0f921\"]]}],\"heatmap\":[{\"type\":\"heatmap\",\"colorbar\":{\"outlinewidth\":0,\"ticks\":\"\"},\"colorscale\":[[0.0,\"#0d0887\"],[0.1111111111111111,\"#46039f\"],[0.2222222222222222,\"#7201a8\"],[0.3333333333333333,\"#9c179e\"],[0.4444444444444444,\"#bd3786\"],[0.5555555555555556,\"#d8576b\"],[0.6666666666666666,\"#ed7953\"],[0.7777777777777778,\"#fb9f3a\"],[0.8888888888888888,\"#fdca26\"],[1.0,\"#f0f921\"]]}],\"heatmapgl\":[{\"type\":\"heatmapgl\",\"colorbar\":{\"outlinewidth\":0,\"ticks\":\"\"},\"colorscale\":[[0.0,\"#0d0887\"],[0.1111111111111111,\"#46039f\"],[0.2222222222222222,\"#7201a8\"],[0.3333333333333333,\"#9c179e\"],[0.4444444444444444,\"#bd3786\"],[0.5555555555555556,\"#d8576b\"],[0.6666666666666666,\"#ed7953\"],[0.7777777777777778,\"#fb9f3a\"],[0.8888888888888888,\"#fdca26\"],[1.0,\"#f0f921\"]]}],\"contourcarpet\":[{\"type\":\"contourcarpet\",\"colorbar\":{\"outlinewidth\":0,\"ticks\":\"\"}}],\"contour\":[{\"type\":\"contour\",\"colorbar\":{\"outlinewidth\":0,\"ticks\":\"\"},\"colorscale\":[[0.0,\"#0d0887\"],[0.1111111111111111,\"#46039f\"],[0.2222222222222222,\"#7201a8\"],[0.3333333333333333,\"#9c179e\"],[0.4444444444444444,\"#bd3786\"],[0.5555555555555556,\"#d8576b\"],[0.6666666666666666,\"#ed7953\"],[0.7777777777777778,\"#fb9f3a\"],[0.8888888888888888,\"#fdca26\"],[1.0,\"#f0f921\"]]}],\"surface\":[{\"type\":\"surface\",\"colorbar\":{\"outlinewidth\":0,\"ticks\":\"\"},\"colorscale\":[[0.0,\"#0d0887\"],[0.1111111111111111,\"#46039f\"],[0.2222222222222222,\"#7201a8\"],[0.3333333333333333,\"#9c179e\"],[0.4444444444444444,\"#bd3786\"],[0.5555555555555556,\"#d8576b\"],[0.6666666666666666,\"#ed7953\"],[0.7777777777777778,\"#fb9f3a\"],[0.8888888888888888,\"#fdca26\"],[1.0,\"#f0f921\"]]}],\"mesh3d\":[{\"type\":\"mesh3d\",\"colorbar\":{\"outlinewidth\":0,\"ticks\":\"\"}}],\"scatter\":[{\"fillpattern\":{\"fillmode\":\"overlay\",\"size\":10,\"solidity\":0.2},\"type\":\"scatter\"}],\"parcoords\":[{\"type\":\"parcoords\",\"line\":{\"colorbar\":{\"outlinewidth\":0,\"ticks\":\"\"}}}],\"scatterpolargl\":[{\"type\":\"scatterpolargl\",\"marker\":{\"colorbar\":{\"outlinewidth\":0,\"ticks\":\"\"}}}],\"bar\":[{\"error_x\":{\"color\":\"#2a3f5f\"},\"error_y\":{\"color\":\"#2a3f5f\"},\"marker\":{\"line\":{\"color\":\"#E5ECF6\",\"width\":0.5},\"pattern\":{\"fillmode\":\"overlay\",\"size\":10,\"solidity\":0.2}},\"type\":\"bar\"}],\"scattergeo\":[{\"type\":\"scattergeo\",\"marker\":{\"colorbar\":{\"outlinewidth\":0,\"ticks\":\"\"}}}],\"scatterpolar\":[{\"type\":\"scatterpolar\",\"marker\":{\"colorbar\":{\"outlinewidth\":0,\"ticks\":\"\"}}}],\"histogram\":[{\"marker\":{\"pattern\":{\"fillmode\":\"overlay\",\"size\":10,\"solidity\":0.2}},\"type\":\"histogram\"}],\"scattergl\":[{\"type\":\"scattergl\",\"marker\":{\"colorbar\":{\"outlinewidth\":0,\"ticks\":\"\"}}}],\"scatter3d\":[{\"type\":\"scatter3d\",\"line\":{\"colorbar\":{\"outlinewidth\":0,\"ticks\":\"\"}},\"marker\":{\"colorbar\":{\"outlinewidth\":0,\"ticks\":\"\"}}}],\"scattermapbox\":[{\"type\":\"scattermapbox\",\"marker\":{\"colorbar\":{\"outlinewidth\":0,\"ticks\":\"\"}}}],\"scatterternary\":[{\"type\":\"scatterternary\",\"marker\":{\"colorbar\":{\"outlinewidth\":0,\"ticks\":\"\"}}}],\"scattercarpet\":[{\"type\":\"scattercarpet\",\"marker\":{\"colorbar\":{\"outlinewidth\":0,\"ticks\":\"\"}}}],\"carpet\":[{\"aaxis\":{\"endlinecolor\":\"#2a3f5f\",\"gridcolor\":\"white\",\"linecolor\":\"white\",\"minorgridcolor\":\"white\",\"startlinecolor\":\"#2a3f5f\"},\"baxis\":{\"endlinecolor\":\"#2a3f5f\",\"gridcolor\":\"white\",\"linecolor\":\"white\",\"minorgridcolor\":\"white\",\"startlinecolor\":\"#2a3f5f\"},\"type\":\"carpet\"}],\"table\":[{\"cells\":{\"fill\":{\"color\":\"#EBF0F8\"},\"line\":{\"color\":\"white\"}},\"header\":{\"fill\":{\"color\":\"#C8D4E3\"},\"line\":{\"color\":\"white\"}},\"type\":\"table\"}],\"barpolar\":[{\"marker\":{\"line\":{\"color\":\"#E5ECF6\",\"width\":0.5},\"pattern\":{\"fillmode\":\"overlay\",\"size\":10,\"solidity\":0.2}},\"type\":\"barpolar\"}],\"pie\":[{\"automargin\":true,\"type\":\"pie\"}]},\"layout\":{\"autotypenumbers\":\"strict\",\"colorway\":[\"#636efa\",\"#EF553B\",\"#00cc96\",\"#ab63fa\",\"#FFA15A\",\"#19d3f3\",\"#FF6692\",\"#B6E880\",\"#FF97FF\",\"#FECB52\"],\"font\":{\"color\":\"#2a3f5f\"},\"hovermode\":\"closest\",\"hoverlabel\":{\"align\":\"left\"},\"paper_bgcolor\":\"white\",\"plot_bgcolor\":\"#E5ECF6\",\"polar\":{\"bgcolor\":\"#E5ECF6\",\"angularaxis\":{\"gridcolor\":\"white\",\"linecolor\":\"white\",\"ticks\":\"\"},\"radialaxis\":{\"gridcolor\":\"white\",\"linecolor\":\"white\",\"ticks\":\"\"}},\"ternary\":{\"bgcolor\":\"#E5ECF6\",\"aaxis\":{\"gridcolor\":\"white\",\"linecolor\":\"white\",\"ticks\":\"\"},\"baxis\":{\"gridcolor\":\"white\",\"linecolor\":\"white\",\"ticks\":\"\"},\"caxis\":{\"gridcolor\":\"white\",\"linecolor\":\"white\",\"ticks\":\"\"}},\"coloraxis\":{\"colorbar\":{\"outlinewidth\":0,\"ticks\":\"\"}},\"colorscale\":{\"sequential\":[[0.0,\"#0d0887\"],[0.1111111111111111,\"#46039f\"],[0.2222222222222222,\"#7201a8\"],[0.3333333333333333,\"#9c179e\"],[0.4444444444444444,\"#bd3786\"],[0.5555555555555556,\"#d8576b\"],[0.6666666666666666,\"#ed7953\"],[0.7777777777777778,\"#fb9f3a\"],[0.8888888888888888,\"#fdca26\"],[1.0,\"#f0f921\"]],\"sequentialminus\":[[0.0,\"#0d0887\"],[0.1111111111111111,\"#46039f\"],[0.2222222222222222,\"#7201a8\"],[0.3333333333333333,\"#9c179e\"],[0.4444444444444444,\"#bd3786\"],[0.5555555555555556,\"#d8576b\"],[0.6666666666666666,\"#ed7953\"],[0.7777777777777778,\"#fb9f3a\"],[0.8888888888888888,\"#fdca26\"],[1.0,\"#f0f921\"]],\"diverging\":[[0,\"#8e0152\"],[0.1,\"#c51b7d\"],[0.2,\"#de77ae\"],[0.3,\"#f1b6da\"],[0.4,\"#fde0ef\"],[0.5,\"#f7f7f7\"],[0.6,\"#e6f5d0\"],[0.7,\"#b8e186\"],[0.8,\"#7fbc41\"],[0.9,\"#4d9221\"],[1,\"#276419\"]]},\"xaxis\":{\"gridcolor\":\"white\",\"linecolor\":\"white\",\"ticks\":\"\",\"title\":{\"standoff\":15},\"zerolinecolor\":\"white\",\"automargin\":true,\"zerolinewidth\":2},\"yaxis\":{\"gridcolor\":\"white\",\"linecolor\":\"white\",\"ticks\":\"\",\"title\":{\"standoff\":15},\"zerolinecolor\":\"white\",\"automargin\":true,\"zerolinewidth\":2},\"scene\":{\"xaxis\":{\"backgroundcolor\":\"#E5ECF6\",\"gridcolor\":\"white\",\"linecolor\":\"white\",\"showbackground\":true,\"ticks\":\"\",\"zerolinecolor\":\"white\",\"gridwidth\":2},\"yaxis\":{\"backgroundcolor\":\"#E5ECF6\",\"gridcolor\":\"white\",\"linecolor\":\"white\",\"showbackground\":true,\"ticks\":\"\",\"zerolinecolor\":\"white\",\"gridwidth\":2},\"zaxis\":{\"backgroundcolor\":\"#E5ECF6\",\"gridcolor\":\"white\",\"linecolor\":\"white\",\"showbackground\":true,\"ticks\":\"\",\"zerolinecolor\":\"white\",\"gridwidth\":2}},\"shapedefaults\":{\"line\":{\"color\":\"#2a3f5f\"}},\"annotationdefaults\":{\"arrowcolor\":\"#2a3f5f\",\"arrowhead\":0,\"arrowwidth\":1},\"geo\":{\"bgcolor\":\"white\",\"landcolor\":\"#E5ECF6\",\"subunitcolor\":\"white\",\"showland\":true,\"showlakes\":true,\"lakecolor\":\"white\"},\"title\":{\"x\":0.05},\"mapbox\":{\"style\":\"light\"}}},\"xaxis\":{\"anchor\":\"y\",\"domain\":[0.0,1.0],\"title\":{\"text\":\"HourlyWindSpeed\"}},\"yaxis\":{\"anchor\":\"x\",\"domain\":[0.0,0.7326],\"title\":{\"text\":\"percent of sum of Count\"}},\"xaxis2\":{\"anchor\":\"y2\",\"domain\":[0.0,1.0],\"matches\":\"x\",\"showticklabels\":false,\"showgrid\":true},\"yaxis2\":{\"anchor\":\"x2\",\"domain\":[0.7426,1.0],\"matches\":\"y2\",\"showticklabels\":false,\"showline\":false,\"ticks\":\"\",\"showgrid\":false},\"legend\":{\"title\":{\"text\":\"Delayed\"},\"tracegroupgap\":0},\"margin\":{\"t\":60},\"barmode\":\"overlay\",\"title\":{\"text\":\"<b>HourlyWindSpeed</b> Feature: No Delay/Delay\",\"x\":0.5},\"height\":400},                        {\"responsive\": true}                    )                };                            </script>        </div>\n",
       "</body>\n",
       "</html>"
      ]
     },
     "metadata": {},
     "output_type": "display_data"
    }
   ],
   "source": [
    "def create_histogram(dataframe, group_by_column):\n",
    "    temp = dataframe.groupby([group_by_column, 'DEP_DEL15']).count().reset_index().iloc[:, :3]\n",
    "    temp = temp.rename(columns={temp.columns[-1]: 'Count'})\n",
    "    temp['DEP_DEL15'] = temp['DEP_DEL15'].astype('category')\n",
    "\n",
    "    fig = px.histogram(temp, x=group_by_column, y='Count', color='DEP_DEL15', marginal=\"box\", barmode = 'overlay' ,  histnorm='percent',\n",
    "                        labels={'DEP_DEL15': 'Delayed'})\n",
    "    fig.update_traces(marker_line_width=1, marker_line_color=\"white\")\n",
    "    fig.update_layout(height=400, title = f'<b>{group_by_column}</b> Feature: No Delay/Delay', title_x = 0.5)\n",
    "    \n",
    "    \n",
    "    fig.show()\n",
    "\n",
    "\n",
    "\n",
    "numeric_cols = [\"CRS_ELAPSED_TIME\", \"DISTANCE\", \"ELEVATION\", \"HourlyAltimeterSetting\",\"HourlyDewPointTemperature\", \"HourlyDryBulbTemperature\",\"HourlyPrecipitation\", \"HourlyPressureChange\", \"HourlyRelativeHumidity\", \"HourlySeaLevelPressure\", \"HourlyStationPressure\", \"HourlyVisibility\", \"HourlyWetBulbTemperature\", \"HourlyWindSpeed\"]\n",
    "\n",
    "for col in numeric_cols:\n",
    "    create_histogram(df,col)\n"
   ]
  },
  {
   "cell_type": "markdown",
   "metadata": {
    "application/vnd.databricks.v1+cell": {
     "cellMetadata": {
      "byteLimit": 2048000,
      "rowLimit": 10000
     },
     "inputWidgets": {},
     "nuid": "08d5abd9-973e-4670-8c8b-2c67a3c0f4f2",
     "showTitle": false,
     "title": ""
    }
   },
   "source": [
    "## Airports and Time Relationships\n",
    "\n",
    "`Goal:`Analyze different categorical features and see their contribution toward delayed flights\\\n",
    "`Approach:` First we analyze the overall flight counts for the 5 busiest stations in 2005, which are the following: \n",
    "\n",
    "- Hartsfield-Jackson Atlanta International Airport (ATL)\n",
    "- Chicago O'Hare International Airport (ORD)\n",
    "- Dallas Fort Worth International Airport (DFW)\n",
    "- Los Angeles International Airport (LAX)\n",
    "- Denver International Airport (DEN)"
   ]
  },
  {
   "cell_type": "markdown",
   "metadata": {
    "application/vnd.databricks.v1+cell": {
     "cellMetadata": {},
     "inputWidgets": {},
     "nuid": "e26708a0-5db3-4d78-bad7-3ba092398f54",
     "showTitle": false,
     "title": ""
    }
   },
   "source": [
    "### Day of the Week\n",
    "\n",
    "From experience, the day of the week of a flight seems to play an important role for overall airport traffic. Our tem noticed **periodic M Shaped patterns** in 7 day intervals illustrate weekly airport traffic. Monday and Fridays contitute the weekly highs in airport traffic. **DAY_OF_WEEK** is a categorical variable we can one hot encode within our model.\n",
    "\n",
    "Interacting with Visualization: Display different airports by toggling the legend traces. Zoom into different regions of the plot by dragging across the region of interest."
   ]
  },
  {
   "cell_type": "code",
   "execution_count": 0,
   "metadata": {
    "application/vnd.databricks.v1+cell": {
     "cellMetadata": {
      "byteLimit": 2048000,
      "rowLimit": 10000
     },
     "inputWidgets": {},
     "nuid": "d182f9bd-6eab-46c4-b5d2-f6bbd7fa71be",
     "showTitle": false,
     "title": ""
    }
   },
   "outputs": [
    {
     "output_type": "display_data",
     "data": {
      "text/html": [
       "<html>\n",
       "<head><meta charset=\"utf-8\" /></head>\n",
       "<body>\n",
       "    <div>            <script src=\"https://cdnjs.cloudflare.com/ajax/libs/mathjax/2.7.5/MathJax.js?config=TeX-AMS-MML_SVG\"></script><script type=\"text/javascript\">if (window.MathJax && window.MathJax.Hub && window.MathJax.Hub.Config) {window.MathJax.Hub.Config({SVG: {font: \"STIX-Web\"}});}</script>                <script type=\"text/javascript\">window.PlotlyConfig = {MathJaxConfig: 'local'};</script>\n",
       "        <script src=\"https://cdn.plot.ly/plotly-2.12.1.min.js\"></script>                <div id=\"006daac6-8f7b-44b9-a20e-3d3d64b78b30\" class=\"plotly-graph-div\" style=\"height:100%; width:100%;\"></div>            <script type=\"text/javascript\">                                    window.PLOTLYENV=window.PLOTLYENV || {};                                    if (document.getElementById(\"006daac6-8f7b-44b9-a20e-3d3d64b78b30\")) {                    Plotly.newPlot(                        \"006daac6-8f7b-44b9-a20e-3d3d64b78b30\",                        [{\"marker\":{\"color\":\"tomato\"},\"name\":\"ATL\",\"visible\":true,\"x\":[\"2015-01-01T00:00:00\",\"2015-01-02T00:00:00\",\"2015-01-03T00:00:00\",\"2015-01-04T00:00:00\",\"2015-01-05T00:00:00\",\"2015-01-06T00:00:00\",\"2015-01-07T00:00:00\",\"2015-01-08T00:00:00\",\"2015-01-09T00:00:00\",\"2015-01-10T00:00:00\",\"2015-01-11T00:00:00\",\"2015-01-12T00:00:00\",\"2015-01-13T00:00:00\",\"2015-01-14T00:00:00\",\"2015-01-15T00:00:00\",\"2015-01-16T00:00:00\",\"2015-01-17T00:00:00\",\"2015-01-18T00:00:00\",\"2015-01-19T00:00:00\",\"2015-01-20T00:00:00\",\"2015-01-21T00:00:00\",\"2015-01-22T00:00:00\",\"2015-01-23T00:00:00\",\"2015-01-24T00:00:00\",\"2015-01-25T00:00:00\",\"2015-01-26T00:00:00\",\"2015-01-27T00:00:00\",\"2015-01-28T00:00:00\",\"2015-01-29T00:00:00\",\"2015-01-30T00:00:00\",\"2015-01-31T00:00:00\",\"2015-02-01T00:00:00\",\"2015-02-02T00:00:00\",\"2015-02-03T00:00:00\",\"2015-02-04T00:00:00\",\"2015-02-05T00:00:00\",\"2015-02-06T00:00:00\",\"2015-02-07T00:00:00\",\"2015-02-08T00:00:00\",\"2015-02-09T00:00:00\",\"2015-02-10T00:00:00\",\"2015-02-11T00:00:00\",\"2015-02-12T00:00:00\",\"2015-02-13T00:00:00\",\"2015-02-14T00:00:00\",\"2015-02-15T00:00:00\",\"2015-02-16T00:00:00\",\"2015-02-17T00:00:00\",\"2015-02-18T00:00:00\",\"2015-02-19T00:00:00\",\"2015-02-20T00:00:00\",\"2015-02-21T00:00:00\",\"2015-02-22T00:00:00\",\"2015-02-23T00:00:00\",\"2015-02-24T00:00:00\",\"2015-02-25T00:00:00\",\"2015-02-26T00:00:00\",\"2015-02-27T00:00:00\",\"2015-02-28T00:00:00\",\"2015-03-01T00:00:00\",\"2015-03-02T00:00:00\",\"2015-03-03T00:00:00\",\"2015-03-04T00:00:00\",\"2015-03-05T00:00:00\",\"2015-03-06T00:00:00\",\"2015-03-07T00:00:00\",\"2015-03-08T00:00:00\",\"2015-03-09T00:00:00\",\"2015-03-10T00:00:00\",\"2015-03-11T00:00:00\",\"2015-03-12T00:00:00\",\"2015-03-13T00:00:00\",\"2015-03-14T00:00:00\",\"2015-03-15T00:00:00\",\"2015-03-16T00:00:00\",\"2015-03-17T00:00:00\",\"2015-03-18T00:00:00\",\"2015-03-19T00:00:00\",\"2015-03-20T00:00:00\",\"2015-03-21T00:00:00\",\"2015-03-22T00:00:00\",\"2015-03-23T00:00:00\",\"2015-03-24T00:00:00\",\"2015-03-25T00:00:00\",\"2015-03-26T00:00:00\",\"2015-03-27T00:00:00\",\"2015-03-28T00:00:00\",\"2015-03-29T00:00:00\",\"2015-03-30T00:00:00\",\"2015-03-31T00:00:00\",\"2015-04-01T00:00:00\",\"2015-04-02T00:00:00\",\"2015-04-03T00:00:00\",\"2015-04-04T00:00:00\",\"2015-04-05T00:00:00\",\"2015-04-06T00:00:00\",\"2015-04-07T00:00:00\",\"2015-04-08T00:00:00\",\"2015-04-09T00:00:00\",\"2015-04-10T00:00:00\",\"2015-04-11T00:00:00\",\"2015-04-12T00:00:00\",\"2015-04-13T00:00:00\",\"2015-04-14T00:00:00\",\"2015-04-15T00:00:00\",\"2015-04-16T00:00:00\",\"2015-04-17T00:00:00\",\"2015-04-18T00:00:00\",\"2015-04-19T00:00:00\",\"2015-04-20T00:00:00\",\"2015-04-21T00:00:00\",\"2015-04-22T00:00:00\",\"2015-04-23T00:00:00\",\"2015-04-24T00:00:00\",\"2015-04-25T00:00:00\",\"2015-04-26T00:00:00\",\"2015-04-27T00:00:00\",\"2015-04-28T00:00:00\",\"2015-04-29T00:00:00\",\"2015-04-30T00:00:00\",\"2015-05-01T00:00:00\",\"2015-05-02T00:00:00\",\"2015-05-03T00:00:00\",\"2015-05-04T00:00:00\",\"2015-05-05T00:00:00\",\"2015-05-06T00:00:00\",\"2015-05-07T00:00:00\",\"2015-05-08T00:00:00\",\"2015-05-09T00:00:00\",\"2015-05-10T00:00:00\",\"2015-05-11T00:00:00\",\"2015-05-12T00:00:00\",\"2015-05-13T00:00:00\",\"2015-05-14T00:00:00\",\"2015-05-15T00:00:00\",\"2015-05-16T00:00:00\",\"2015-05-17T00:00:00\",\"2015-05-18T00:00:00\",\"2015-05-19T00:00:00\",\"2015-05-20T00:00:00\",\"2015-05-21T00:00:00\",\"2015-05-22T00:00:00\",\"2015-05-23T00:00:00\",\"2015-05-24T00:00:00\",\"2015-05-25T00:00:00\",\"2015-05-26T00:00:00\",\"2015-05-27T00:00:00\",\"2015-05-28T00:00:00\",\"2015-05-29T00:00:00\",\"2015-05-30T00:00:00\",\"2015-05-31T00:00:00\",\"2015-06-01T00:00:00\",\"2015-06-02T00:00:00\",\"2015-06-03T00:00:00\",\"2015-06-04T00:00:00\",\"2015-06-05T00:00:00\",\"2015-06-06T00:00:00\",\"2015-06-07T00:00:00\",\"2015-06-08T00:00:00\",\"2015-06-09T00:00:00\",\"2015-06-10T00:00:00\",\"2015-06-11T00:00:00\",\"2015-06-12T00:00:00\",\"2015-06-13T00:00:00\",\"2015-06-14T00:00:00\",\"2015-06-15T00:00:00\",\"2015-06-16T00:00:00\",\"2015-06-17T00:00:00\",\"2015-06-18T00:00:00\",\"2015-06-19T00:00:00\",\"2015-06-20T00:00:00\",\"2015-06-21T00:00:00\",\"2015-06-22T00:00:00\",\"2015-06-23T00:00:00\",\"2015-06-24T00:00:00\",\"2015-06-25T00:00:00\",\"2015-06-26T00:00:00\",\"2015-06-27T00:00:00\",\"2015-06-28T00:00:00\",\"2015-06-29T00:00:00\",\"2015-06-30T00:00:00\",\"2015-07-01T00:00:00\",\"2015-07-02T00:00:00\",\"2015-07-03T00:00:00\",\"2015-07-04T00:00:00\",\"2015-07-05T00:00:00\",\"2015-07-06T00:00:00\",\"2015-07-07T00:00:00\",\"2015-07-08T00:00:00\",\"2015-07-09T00:00:00\",\"2015-07-10T00:00:00\",\"2015-07-11T00:00:00\",\"2015-07-12T00:00:00\",\"2015-07-13T00:00:00\",\"2015-07-14T00:00:00\",\"2015-07-15T00:00:00\",\"2015-07-16T00:00:00\",\"2015-07-17T00:00:00\",\"2015-07-18T00:00:00\",\"2015-07-19T00:00:00\",\"2015-07-20T00:00:00\",\"2015-07-21T00:00:00\",\"2015-07-22T00:00:00\",\"2015-07-23T00:00:00\",\"2015-07-24T00:00:00\",\"2015-07-25T00:00:00\",\"2015-07-26T00:00:00\",\"2015-07-27T00:00:00\",\"2015-07-28T00:00:00\",\"2015-07-29T00:00:00\",\"2015-07-30T00:00:00\",\"2015-07-31T00:00:00\",\"2015-08-01T00:00:00\",\"2015-08-02T00:00:00\",\"2015-08-03T00:00:00\",\"2015-08-04T00:00:00\",\"2015-08-05T00:00:00\",\"2015-08-06T00:00:00\",\"2015-08-07T00:00:00\",\"2015-08-08T00:00:00\",\"2015-08-09T00:00:00\",\"2015-08-10T00:00:00\",\"2015-08-11T00:00:00\",\"2015-08-12T00:00:00\",\"2015-08-13T00:00:00\",\"2015-08-14T00:00:00\",\"2015-08-15T00:00:00\",\"2015-08-16T00:00:00\",\"2015-08-17T00:00:00\",\"2015-08-18T00:00:00\",\"2015-08-19T00:00:00\",\"2015-08-20T00:00:00\",\"2015-08-21T00:00:00\",\"2015-08-22T00:00:00\",\"2015-08-23T00:00:00\",\"2015-08-24T00:00:00\",\"2015-08-25T00:00:00\",\"2015-08-26T00:00:00\",\"2015-08-27T00:00:00\",\"2015-08-28T00:00:00\",\"2015-08-29T00:00:00\",\"2015-08-30T00:00:00\",\"2015-08-31T00:00:00\",\"2015-09-01T00:00:00\",\"2015-09-02T00:00:00\",\"2015-09-03T00:00:00\",\"2015-09-04T00:00:00\",\"2015-09-05T00:00:00\",\"2015-09-06T00:00:00\",\"2015-09-07T00:00:00\",\"2015-09-08T00:00:00\",\"2015-09-09T00:00:00\",\"2015-09-10T00:00:00\",\"2015-09-11T00:00:00\",\"2015-09-12T00:00:00\",\"2015-09-13T00:00:00\",\"2015-09-14T00:00:00\",\"2015-09-15T00:00:00\",\"2015-09-16T00:00:00\",\"2015-09-17T00:00:00\",\"2015-09-18T00:00:00\",\"2015-09-19T00:00:00\",\"2015-09-20T00:00:00\",\"2015-09-21T00:00:00\",\"2015-09-22T00:00:00\",\"2015-09-23T00:00:00\",\"2015-09-24T00:00:00\",\"2015-09-25T00:00:00\",\"2015-09-26T00:00:00\",\"2015-09-27T00:00:00\",\"2015-09-28T00:00:00\",\"2015-09-29T00:00:00\",\"2015-09-30T00:00:00\"],\"y\":[740,1042,948,1021,1006,958,992,1013,1013,744,949,1028,963,1001,1030,1034,705,821,1035,962,1001,1030,1034,747,957,1031,963,1003,1030,1031,680,785,1031,960,999,1029,1032,746,952,1029,962,999,1030,1069,726,866,1062,1051,1050,1061,1063,792,991,1064,1049,1053,1061,1063,791,989,1093,1067,1077,1087,1096,925,1063,1090,1072,1078,1091,1096,923,1064,1091,1068,1074,1088,1092,926,1059,1090,1068,1074,1088,1093,922,1059,1084,1067,1072,1082,1080,799,977,1085,1065,1076,1085,1087,883,1056,1086,1070,1073,1088,1090,887,1059,1087,1070,1073,1085,1091,888,1055,1090,1070,1071,1090,1104,893,1061,1103,1073,1082,1105,1108,844,1016,1107,1079,1089,1109,1108,895,1065,1106,1078,1090,1106,1111,848,844,1024,1080,1089,1108,1109,898,1066,1106,1078,1086,1123,1127,927,1087,1132,1110,1113,1129,1132,938,1089,1135,1111,1115,1134,1138,943,1095,1137,1114,1115,1133,1138,945,1085,1130,1090,1106,1136,863,776,1101,1141,1116,1124,1137,1141,948,1095,1139,1119,1126,1132,1139,948,1094,1139,1115,1126,1134,1140,949,1097,1141,1114,1124,1135,1140,949,1093,1142,1121,1128,1139,1143,945,1098,1142,1120,1127,1142,1143,943,1098,1136,1101,1114,1129,1132,884,1085,1136,1111,1122,1130,1131,838,1057,1128,1105,1112,1120,1119,774,847,1041,1040,968,1032,1045,778,1076,1112,1100,1107,1114,1112,847,1080,1115,1103,1108,1117,1112,848,1076,1116,1101,1108],\"type\":\"scatter\"},{\"marker\":{\"color\":\"dodgerblue\"},\"name\":\"ORD\",\"visible\":\"legendonly\",\"x\":[\"2015-01-01T00:00:00\",\"2015-01-02T00:00:00\",\"2015-01-03T00:00:00\",\"2015-01-04T00:00:00\",\"2015-01-05T00:00:00\",\"2015-01-06T00:00:00\",\"2015-01-07T00:00:00\",\"2015-01-08T00:00:00\",\"2015-01-09T00:00:00\",\"2015-01-10T00:00:00\",\"2015-01-11T00:00:00\",\"2015-01-12T00:00:00\",\"2015-01-13T00:00:00\",\"2015-01-14T00:00:00\",\"2015-01-15T00:00:00\",\"2015-01-16T00:00:00\",\"2015-01-17T00:00:00\",\"2015-01-18T00:00:00\",\"2015-01-19T00:00:00\",\"2015-01-20T00:00:00\",\"2015-01-21T00:00:00\",\"2015-01-22T00:00:00\",\"2015-01-23T00:00:00\",\"2015-01-24T00:00:00\",\"2015-01-25T00:00:00\",\"2015-01-26T00:00:00\",\"2015-01-27T00:00:00\",\"2015-01-28T00:00:00\",\"2015-01-29T00:00:00\",\"2015-01-30T00:00:00\",\"2015-01-31T00:00:00\",\"2015-02-01T00:00:00\",\"2015-02-02T00:00:00\",\"2015-02-03T00:00:00\",\"2015-02-04T00:00:00\",\"2015-02-05T00:00:00\",\"2015-02-06T00:00:00\",\"2015-02-07T00:00:00\",\"2015-02-08T00:00:00\",\"2015-02-09T00:00:00\",\"2015-02-10T00:00:00\",\"2015-02-11T00:00:00\",\"2015-02-12T00:00:00\",\"2015-02-13T00:00:00\",\"2015-02-14T00:00:00\",\"2015-02-15T00:00:00\",\"2015-02-16T00:00:00\",\"2015-02-17T00:00:00\",\"2015-02-18T00:00:00\",\"2015-02-19T00:00:00\",\"2015-02-20T00:00:00\",\"2015-02-21T00:00:00\",\"2015-02-22T00:00:00\",\"2015-02-23T00:00:00\",\"2015-02-24T00:00:00\",\"2015-02-25T00:00:00\",\"2015-02-26T00:00:00\",\"2015-02-27T00:00:00\",\"2015-02-28T00:00:00\",\"2015-03-01T00:00:00\",\"2015-03-02T00:00:00\",\"2015-03-03T00:00:00\",\"2015-03-04T00:00:00\",\"2015-03-05T00:00:00\",\"2015-03-06T00:00:00\",\"2015-03-07T00:00:00\",\"2015-03-08T00:00:00\",\"2015-03-09T00:00:00\",\"2015-03-10T00:00:00\",\"2015-03-11T00:00:00\",\"2015-03-12T00:00:00\",\"2015-03-13T00:00:00\",\"2015-03-14T00:00:00\",\"2015-03-15T00:00:00\",\"2015-03-16T00:00:00\",\"2015-03-17T00:00:00\",\"2015-03-18T00:00:00\",\"2015-03-19T00:00:00\",\"2015-03-20T00:00:00\",\"2015-03-21T00:00:00\",\"2015-03-22T00:00:00\",\"2015-03-23T00:00:00\",\"2015-03-24T00:00:00\",\"2015-03-25T00:00:00\",\"2015-03-26T00:00:00\",\"2015-03-27T00:00:00\",\"2015-03-28T00:00:00\",\"2015-03-29T00:00:00\",\"2015-03-30T00:00:00\",\"2015-03-31T00:00:00\",\"2015-04-01T00:00:00\",\"2015-04-02T00:00:00\",\"2015-04-03T00:00:00\",\"2015-04-04T00:00:00\",\"2015-04-05T00:00:00\",\"2015-04-06T00:00:00\",\"2015-04-07T00:00:00\",\"2015-04-08T00:00:00\",\"2015-04-09T00:00:00\",\"2015-04-10T00:00:00\",\"2015-04-11T00:00:00\",\"2015-04-12T00:00:00\",\"2015-04-13T00:00:00\",\"2015-04-14T00:00:00\",\"2015-04-15T00:00:00\",\"2015-04-16T00:00:00\",\"2015-04-17T00:00:00\",\"2015-04-18T00:00:00\",\"2015-04-19T00:00:00\",\"2015-04-20T00:00:00\",\"2015-04-21T00:00:00\",\"2015-04-22T00:00:00\",\"2015-04-23T00:00:00\",\"2015-04-24T00:00:00\",\"2015-04-25T00:00:00\",\"2015-04-26T00:00:00\",\"2015-04-27T00:00:00\",\"2015-04-28T00:00:00\",\"2015-04-29T00:00:00\",\"2015-04-30T00:00:00\",\"2015-05-01T00:00:00\",\"2015-05-02T00:00:00\",\"2015-05-03T00:00:00\",\"2015-05-04T00:00:00\",\"2015-05-05T00:00:00\",\"2015-05-06T00:00:00\",\"2015-05-07T00:00:00\",\"2015-05-08T00:00:00\",\"2015-05-09T00:00:00\",\"2015-05-10T00:00:00\",\"2015-05-11T00:00:00\",\"2015-05-12T00:00:00\",\"2015-05-13T00:00:00\",\"2015-05-14T00:00:00\",\"2015-05-15T00:00:00\",\"2015-05-16T00:00:00\",\"2015-05-17T00:00:00\",\"2015-05-18T00:00:00\",\"2015-05-19T00:00:00\",\"2015-05-20T00:00:00\",\"2015-05-21T00:00:00\",\"2015-05-22T00:00:00\",\"2015-05-23T00:00:00\",\"2015-05-24T00:00:00\",\"2015-05-25T00:00:00\",\"2015-05-26T00:00:00\",\"2015-05-27T00:00:00\",\"2015-05-28T00:00:00\",\"2015-05-29T00:00:00\",\"2015-05-30T00:00:00\",\"2015-05-31T00:00:00\",\"2015-06-01T00:00:00\",\"2015-06-02T00:00:00\",\"2015-06-03T00:00:00\",\"2015-06-04T00:00:00\",\"2015-06-05T00:00:00\",\"2015-06-06T00:00:00\",\"2015-06-07T00:00:00\",\"2015-06-08T00:00:00\",\"2015-06-09T00:00:00\",\"2015-06-10T00:00:00\",\"2015-06-11T00:00:00\",\"2015-06-12T00:00:00\",\"2015-06-13T00:00:00\",\"2015-06-14T00:00:00\",\"2015-06-15T00:00:00\",\"2015-06-16T00:00:00\",\"2015-06-17T00:00:00\",\"2015-06-18T00:00:00\",\"2015-06-19T00:00:00\",\"2015-06-20T00:00:00\",\"2015-06-21T00:00:00\",\"2015-06-22T00:00:00\",\"2015-06-23T00:00:00\",\"2015-06-24T00:00:00\",\"2015-06-25T00:00:00\",\"2015-06-26T00:00:00\",\"2015-06-27T00:00:00\",\"2015-06-28T00:00:00\",\"2015-06-29T00:00:00\",\"2015-06-30T00:00:00\",\"2015-07-01T00:00:00\",\"2015-07-02T00:00:00\",\"2015-07-03T00:00:00\",\"2015-07-04T00:00:00\",\"2015-07-05T00:00:00\",\"2015-07-06T00:00:00\",\"2015-07-07T00:00:00\",\"2015-07-08T00:00:00\",\"2015-07-09T00:00:00\",\"2015-07-10T00:00:00\",\"2015-07-11T00:00:00\",\"2015-07-12T00:00:00\",\"2015-07-13T00:00:00\",\"2015-07-14T00:00:00\",\"2015-07-15T00:00:00\",\"2015-07-16T00:00:00\",\"2015-07-17T00:00:00\",\"2015-07-18T00:00:00\",\"2015-07-19T00:00:00\",\"2015-07-20T00:00:00\",\"2015-07-21T00:00:00\",\"2015-07-22T00:00:00\",\"2015-07-23T00:00:00\",\"2015-07-24T00:00:00\",\"2015-07-25T00:00:00\",\"2015-07-26T00:00:00\",\"2015-07-27T00:00:00\",\"2015-07-28T00:00:00\",\"2015-07-29T00:00:00\",\"2015-07-30T00:00:00\",\"2015-07-31T00:00:00\",\"2015-08-01T00:00:00\",\"2015-08-02T00:00:00\",\"2015-08-03T00:00:00\",\"2015-08-04T00:00:00\",\"2015-08-05T00:00:00\",\"2015-08-06T00:00:00\",\"2015-08-07T00:00:00\",\"2015-08-08T00:00:00\",\"2015-08-09T00:00:00\",\"2015-08-10T00:00:00\",\"2015-08-11T00:00:00\",\"2015-08-12T00:00:00\",\"2015-08-13T00:00:00\",\"2015-08-14T00:00:00\",\"2015-08-15T00:00:00\",\"2015-08-16T00:00:00\",\"2015-08-17T00:00:00\",\"2015-08-18T00:00:00\",\"2015-08-19T00:00:00\",\"2015-08-20T00:00:00\",\"2015-08-21T00:00:00\",\"2015-08-22T00:00:00\",\"2015-08-23T00:00:00\",\"2015-08-24T00:00:00\",\"2015-08-25T00:00:00\",\"2015-08-26T00:00:00\",\"2015-08-27T00:00:00\",\"2015-08-28T00:00:00\",\"2015-08-29T00:00:00\",\"2015-08-30T00:00:00\",\"2015-08-31T00:00:00\",\"2015-09-01T00:00:00\",\"2015-09-02T00:00:00\",\"2015-09-03T00:00:00\",\"2015-09-04T00:00:00\",\"2015-09-05T00:00:00\",\"2015-09-06T00:00:00\",\"2015-09-07T00:00:00\",\"2015-09-08T00:00:00\",\"2015-09-09T00:00:00\",\"2015-09-10T00:00:00\",\"2015-09-11T00:00:00\",\"2015-09-12T00:00:00\",\"2015-09-13T00:00:00\",\"2015-09-14T00:00:00\",\"2015-09-15T00:00:00\",\"2015-09-16T00:00:00\",\"2015-09-17T00:00:00\",\"2015-09-18T00:00:00\",\"2015-09-19T00:00:00\",\"2015-09-20T00:00:00\",\"2015-09-21T00:00:00\",\"2015-09-22T00:00:00\",\"2015-09-23T00:00:00\",\"2015-09-24T00:00:00\",\"2015-09-25T00:00:00\",\"2015-09-26T00:00:00\",\"2015-09-27T00:00:00\",\"2015-09-28T00:00:00\",\"2015-09-29T00:00:00\",\"2015-09-30T00:00:00\"],\"y\":[692,812,737,791,811,778,794,810,810,590,738,806,776,793,806,805,582,707,791,773,790,804,807,590,734,797,771,788,804,807,590,668,797,766,784,801,803,585,732,793,768,789,840,840,621,763,824,831,834,845,847,642,780,846,833,838,850,847,645,786,843,829,834,876,872,695,812,876,865,875,878,883,700,829,884,873,884,885,883,696,829,883,873,883,886,884,690,842,904,897,905,905,899,680,819,905,882,899,896,898,673,839,889,872,886,901,905,680,845,900,886,904,902,907,681,843,901,886,905,912,913,685,863,910,902,905,928,932,684,870,927,916,924,925,932,690,874,929,917,925,932,931,681,659,846,919,925,931,931,693,872,925,915,919,942,948,791,918,944,938,938,950,951,805,913,946,940,946,954,955,811,924,947,939,942,953,954,808,911,940,924,910,954,757,624,886,944,947,942,954,952,798,918,943,945,947,949,955,797,917,945,945,942,950,953,797,916,940,943,947,952,954,805,927,951,952,951,956,961,806,930,951,954,950,959,961,801,922,943,911,920,937,937,712,873,931,922,929,936,937,717,878,929,922,921,940,937,657,669,911,918,894,900,907,683,871,912,882,913,925,931,674,872,928,888,901,931,935,697,884,929,910,921],\"type\":\"scatter\"},{\"marker\":{\"color\":\"darkseagreen\"},\"name\":\"DFW\",\"visible\":\"legendonly\",\"x\":[\"2015-01-01T00:00:00\",\"2015-01-02T00:00:00\",\"2015-01-03T00:00:00\",\"2015-01-04T00:00:00\",\"2015-01-05T00:00:00\",\"2015-01-06T00:00:00\",\"2015-01-07T00:00:00\",\"2015-01-08T00:00:00\",\"2015-01-09T00:00:00\",\"2015-01-10T00:00:00\",\"2015-01-11T00:00:00\",\"2015-01-12T00:00:00\",\"2015-01-13T00:00:00\",\"2015-01-14T00:00:00\",\"2015-01-15T00:00:00\",\"2015-01-16T00:00:00\",\"2015-01-17T00:00:00\",\"2015-01-18T00:00:00\",\"2015-01-19T00:00:00\",\"2015-01-20T00:00:00\",\"2015-01-21T00:00:00\",\"2015-01-22T00:00:00\",\"2015-01-23T00:00:00\",\"2015-01-24T00:00:00\",\"2015-01-25T00:00:00\",\"2015-01-26T00:00:00\",\"2015-01-27T00:00:00\",\"2015-01-28T00:00:00\",\"2015-01-29T00:00:00\",\"2015-01-30T00:00:00\",\"2015-01-31T00:00:00\",\"2015-02-01T00:00:00\",\"2015-02-02T00:00:00\",\"2015-02-03T00:00:00\",\"2015-02-04T00:00:00\",\"2015-02-05T00:00:00\",\"2015-02-06T00:00:00\",\"2015-02-07T00:00:00\",\"2015-02-08T00:00:00\",\"2015-02-09T00:00:00\",\"2015-02-10T00:00:00\",\"2015-02-11T00:00:00\",\"2015-02-12T00:00:00\",\"2015-02-13T00:00:00\",\"2015-02-14T00:00:00\",\"2015-02-15T00:00:00\",\"2015-02-16T00:00:00\",\"2015-02-17T00:00:00\",\"2015-02-18T00:00:00\",\"2015-02-19T00:00:00\",\"2015-02-20T00:00:00\",\"2015-02-21T00:00:00\",\"2015-02-22T00:00:00\",\"2015-02-23T00:00:00\",\"2015-02-24T00:00:00\",\"2015-02-25T00:00:00\",\"2015-02-26T00:00:00\",\"2015-02-27T00:00:00\",\"2015-02-28T00:00:00\",\"2015-03-01T00:00:00\",\"2015-03-02T00:00:00\",\"2015-03-03T00:00:00\",\"2015-03-04T00:00:00\",\"2015-03-05T00:00:00\",\"2015-03-06T00:00:00\",\"2015-03-07T00:00:00\",\"2015-03-08T00:00:00\",\"2015-03-09T00:00:00\",\"2015-03-10T00:00:00\",\"2015-03-11T00:00:00\",\"2015-03-12T00:00:00\",\"2015-03-13T00:00:00\",\"2015-03-14T00:00:00\",\"2015-03-15T00:00:00\",\"2015-03-16T00:00:00\",\"2015-03-17T00:00:00\",\"2015-03-18T00:00:00\",\"2015-03-19T00:00:00\",\"2015-03-20T00:00:00\",\"2015-03-21T00:00:00\",\"2015-03-22T00:00:00\",\"2015-03-23T00:00:00\",\"2015-03-24T00:00:00\",\"2015-03-25T00:00:00\",\"2015-03-26T00:00:00\",\"2015-03-27T00:00:00\",\"2015-03-28T00:00:00\",\"2015-03-29T00:00:00\",\"2015-03-30T00:00:00\",\"2015-03-31T00:00:00\",\"2015-04-01T00:00:00\",\"2015-04-02T00:00:00\",\"2015-04-03T00:00:00\",\"2015-04-04T00:00:00\",\"2015-04-05T00:00:00\",\"2015-04-06T00:00:00\",\"2015-04-07T00:00:00\",\"2015-04-08T00:00:00\",\"2015-04-09T00:00:00\",\"2015-04-10T00:00:00\",\"2015-04-11T00:00:00\",\"2015-04-12T00:00:00\",\"2015-04-13T00:00:00\",\"2015-04-14T00:00:00\",\"2015-04-15T00:00:00\",\"2015-04-16T00:00:00\",\"2015-04-17T00:00:00\",\"2015-04-18T00:00:00\",\"2015-04-19T00:00:00\",\"2015-04-20T00:00:00\",\"2015-04-21T00:00:00\",\"2015-04-22T00:00:00\",\"2015-04-23T00:00:00\",\"2015-04-24T00:00:00\",\"2015-04-25T00:00:00\",\"2015-04-26T00:00:00\",\"2015-04-27T00:00:00\",\"2015-04-28T00:00:00\",\"2015-04-29T00:00:00\",\"2015-04-30T00:00:00\",\"2015-05-01T00:00:00\",\"2015-05-02T00:00:00\",\"2015-05-03T00:00:00\",\"2015-05-04T00:00:00\",\"2015-05-05T00:00:00\",\"2015-05-06T00:00:00\",\"2015-05-07T00:00:00\",\"2015-05-08T00:00:00\",\"2015-05-09T00:00:00\",\"2015-05-10T00:00:00\",\"2015-05-11T00:00:00\",\"2015-05-12T00:00:00\",\"2015-05-13T00:00:00\",\"2015-05-14T00:00:00\",\"2015-05-15T00:00:00\",\"2015-05-16T00:00:00\",\"2015-05-17T00:00:00\",\"2015-05-18T00:00:00\",\"2015-05-19T00:00:00\",\"2015-05-20T00:00:00\",\"2015-05-21T00:00:00\",\"2015-05-22T00:00:00\",\"2015-05-23T00:00:00\",\"2015-05-24T00:00:00\",\"2015-05-25T00:00:00\",\"2015-05-26T00:00:00\",\"2015-05-27T00:00:00\",\"2015-05-28T00:00:00\",\"2015-05-29T00:00:00\",\"2015-05-30T00:00:00\",\"2015-05-31T00:00:00\",\"2015-06-01T00:00:00\",\"2015-06-02T00:00:00\",\"2015-06-03T00:00:00\",\"2015-06-04T00:00:00\",\"2015-06-05T00:00:00\",\"2015-06-06T00:00:00\",\"2015-06-07T00:00:00\",\"2015-06-08T00:00:00\",\"2015-06-09T00:00:00\",\"2015-06-10T00:00:00\",\"2015-06-11T00:00:00\",\"2015-06-12T00:00:00\",\"2015-06-13T00:00:00\",\"2015-06-14T00:00:00\",\"2015-06-15T00:00:00\",\"2015-06-16T00:00:00\",\"2015-06-17T00:00:00\",\"2015-06-18T00:00:00\",\"2015-06-19T00:00:00\",\"2015-06-20T00:00:00\",\"2015-06-21T00:00:00\",\"2015-06-22T00:00:00\",\"2015-06-23T00:00:00\",\"2015-06-24T00:00:00\",\"2015-06-25T00:00:00\",\"2015-06-26T00:00:00\",\"2015-06-27T00:00:00\",\"2015-06-28T00:00:00\",\"2015-06-29T00:00:00\",\"2015-06-30T00:00:00\",\"2015-07-01T00:00:00\",\"2015-07-02T00:00:00\",\"2015-07-03T00:00:00\",\"2015-07-04T00:00:00\",\"2015-07-05T00:00:00\",\"2015-07-06T00:00:00\",\"2015-07-07T00:00:00\",\"2015-07-08T00:00:00\",\"2015-07-09T00:00:00\",\"2015-07-10T00:00:00\",\"2015-07-11T00:00:00\",\"2015-07-12T00:00:00\",\"2015-07-13T00:00:00\",\"2015-07-14T00:00:00\",\"2015-07-15T00:00:00\",\"2015-07-16T00:00:00\",\"2015-07-17T00:00:00\",\"2015-07-18T00:00:00\",\"2015-07-19T00:00:00\",\"2015-07-20T00:00:00\",\"2015-07-21T00:00:00\",\"2015-07-22T00:00:00\",\"2015-07-23T00:00:00\",\"2015-07-24T00:00:00\",\"2015-07-25T00:00:00\",\"2015-07-26T00:00:00\",\"2015-07-27T00:00:00\",\"2015-07-28T00:00:00\",\"2015-07-29T00:00:00\",\"2015-07-30T00:00:00\",\"2015-07-31T00:00:00\",\"2015-08-01T00:00:00\",\"2015-08-02T00:00:00\",\"2015-08-03T00:00:00\",\"2015-08-04T00:00:00\",\"2015-08-05T00:00:00\",\"2015-08-06T00:00:00\",\"2015-08-07T00:00:00\",\"2015-08-08T00:00:00\",\"2015-08-09T00:00:00\",\"2015-08-10T00:00:00\",\"2015-08-11T00:00:00\",\"2015-08-12T00:00:00\",\"2015-08-13T00:00:00\",\"2015-08-14T00:00:00\",\"2015-08-15T00:00:00\",\"2015-08-16T00:00:00\",\"2015-08-17T00:00:00\",\"2015-08-18T00:00:00\",\"2015-08-19T00:00:00\",\"2015-08-20T00:00:00\",\"2015-08-21T00:00:00\",\"2015-08-22T00:00:00\",\"2015-08-23T00:00:00\",\"2015-08-24T00:00:00\",\"2015-08-25T00:00:00\",\"2015-08-26T00:00:00\",\"2015-08-27T00:00:00\",\"2015-08-28T00:00:00\",\"2015-08-29T00:00:00\",\"2015-08-30T00:00:00\",\"2015-08-31T00:00:00\",\"2015-09-01T00:00:00\",\"2015-09-02T00:00:00\",\"2015-09-03T00:00:00\",\"2015-09-04T00:00:00\",\"2015-09-05T00:00:00\",\"2015-09-06T00:00:00\",\"2015-09-07T00:00:00\",\"2015-09-08T00:00:00\",\"2015-09-09T00:00:00\",\"2015-09-10T00:00:00\",\"2015-09-11T00:00:00\",\"2015-09-12T00:00:00\",\"2015-09-13T00:00:00\",\"2015-09-14T00:00:00\",\"2015-09-15T00:00:00\",\"2015-09-16T00:00:00\",\"2015-09-17T00:00:00\",\"2015-09-18T00:00:00\",\"2015-09-19T00:00:00\",\"2015-09-20T00:00:00\",\"2015-09-21T00:00:00\",\"2015-09-22T00:00:00\",\"2015-09-23T00:00:00\",\"2015-09-24T00:00:00\",\"2015-09-25T00:00:00\",\"2015-09-26T00:00:00\",\"2015-09-27T00:00:00\",\"2015-09-28T00:00:00\",\"2015-09-29T00:00:00\",\"2015-09-30T00:00:00\"],\"y\":[790,809,758,798,794,739,758,768,767,634,751,768,753,757,769,768,628,731,767,741,757,769,768,632,745,769,741,757,769,767,631,719,767,738,757,768,767,631,745,768,740,752,769,773,662,755,765,757,757,767,772,667,756,767,757,758,768,771,666,758,765,750,750,757,761,716,744,758,744,754,758,761,720,745,758,744,754,759,761,719,746,758,744,754,759,761,715,738,761,752,755,756,756,657,738,752,742,746,751,754,652,738,747,727,734,739,742,642,729,742,733,736,739,742,640,728,742,733,736,739,742,640,730,741,734,733,737,739,601,718,738,733,736,737,741,604,720,741,734,737,805,743,599,662,729,736,739,740,742,603,726,742,737,730,763,765,701,749,764,758,761,767,767,699,750,765,759,764,767,767,703,755,771,764,770,773,773,704,754,769,762,769,770,715,615,744,748,744,751,754,756,689,730,749,744,753,752,756,689,734,749,744,752,752,756,690,736,749,744,753,752,756,693,739,752,744,752,754,758,692,739,751,745,752,754,757,690,738,748,719,725,728,728,567,680,725,720,727,727,728,565,676,725,719,725,729,729,540,557,710,711,699,708,712,570,669,706,676,693,710,714,567,667,708,676,692,711,714,568,670,707,680,697],\"type\":\"scatter\"},{\"marker\":{\"color\":\"mediumslateblue\"},\"name\":\"LAX\",\"visible\":\"legendonly\",\"x\":[\"2015-01-01T00:00:00\",\"2015-01-02T00:00:00\",\"2015-01-03T00:00:00\",\"2015-01-04T00:00:00\",\"2015-01-05T00:00:00\",\"2015-01-06T00:00:00\",\"2015-01-07T00:00:00\",\"2015-01-08T00:00:00\",\"2015-01-09T00:00:00\",\"2015-01-10T00:00:00\",\"2015-01-11T00:00:00\",\"2015-01-12T00:00:00\",\"2015-01-13T00:00:00\",\"2015-01-14T00:00:00\",\"2015-01-15T00:00:00\",\"2015-01-16T00:00:00\",\"2015-01-17T00:00:00\",\"2015-01-18T00:00:00\",\"2015-01-19T00:00:00\",\"2015-01-20T00:00:00\",\"2015-01-21T00:00:00\",\"2015-01-22T00:00:00\",\"2015-01-23T00:00:00\",\"2015-01-24T00:00:00\",\"2015-01-25T00:00:00\",\"2015-01-26T00:00:00\",\"2015-01-27T00:00:00\",\"2015-01-28T00:00:00\",\"2015-01-29T00:00:00\",\"2015-01-30T00:00:00\",\"2015-01-31T00:00:00\",\"2015-02-01T00:00:00\",\"2015-02-02T00:00:00\",\"2015-02-03T00:00:00\",\"2015-02-04T00:00:00\",\"2015-02-05T00:00:00\",\"2015-02-06T00:00:00\",\"2015-02-07T00:00:00\",\"2015-02-08T00:00:00\",\"2015-02-09T00:00:00\",\"2015-02-10T00:00:00\",\"2015-02-11T00:00:00\",\"2015-02-12T00:00:00\",\"2015-02-13T00:00:00\",\"2015-02-14T00:00:00\",\"2015-02-15T00:00:00\",\"2015-02-16T00:00:00\",\"2015-02-17T00:00:00\",\"2015-02-18T00:00:00\",\"2015-02-19T00:00:00\",\"2015-02-20T00:00:00\",\"2015-02-21T00:00:00\",\"2015-02-22T00:00:00\",\"2015-02-23T00:00:00\",\"2015-02-24T00:00:00\",\"2015-02-25T00:00:00\",\"2015-02-26T00:00:00\",\"2015-02-27T00:00:00\",\"2015-02-28T00:00:00\",\"2015-03-01T00:00:00\",\"2015-03-02T00:00:00\",\"2015-03-03T00:00:00\",\"2015-03-04T00:00:00\",\"2015-03-05T00:00:00\",\"2015-03-06T00:00:00\",\"2015-03-07T00:00:00\",\"2015-03-08T00:00:00\",\"2015-03-09T00:00:00\",\"2015-03-10T00:00:00\",\"2015-03-11T00:00:00\",\"2015-03-12T00:00:00\",\"2015-03-13T00:00:00\",\"2015-03-14T00:00:00\",\"2015-03-15T00:00:00\",\"2015-03-16T00:00:00\",\"2015-03-17T00:00:00\",\"2015-03-18T00:00:00\",\"2015-03-19T00:00:00\",\"2015-03-20T00:00:00\",\"2015-03-21T00:00:00\",\"2015-03-22T00:00:00\",\"2015-03-23T00:00:00\",\"2015-03-24T00:00:00\",\"2015-03-25T00:00:00\",\"2015-03-26T00:00:00\",\"2015-03-27T00:00:00\",\"2015-03-28T00:00:00\",\"2015-03-29T00:00:00\",\"2015-03-30T00:00:00\",\"2015-03-31T00:00:00\",\"2015-04-01T00:00:00\",\"2015-04-02T00:00:00\",\"2015-04-03T00:00:00\",\"2015-04-04T00:00:00\",\"2015-04-05T00:00:00\",\"2015-04-06T00:00:00\",\"2015-04-07T00:00:00\",\"2015-04-08T00:00:00\",\"2015-04-09T00:00:00\",\"2015-04-10T00:00:00\",\"2015-04-11T00:00:00\",\"2015-04-12T00:00:00\",\"2015-04-13T00:00:00\",\"2015-04-14T00:00:00\",\"2015-04-15T00:00:00\",\"2015-04-16T00:00:00\",\"2015-04-17T00:00:00\",\"2015-04-18T00:00:00\",\"2015-04-19T00:00:00\",\"2015-04-20T00:00:00\",\"2015-04-21T00:00:00\",\"2015-04-22T00:00:00\",\"2015-04-23T00:00:00\",\"2015-04-24T00:00:00\",\"2015-04-25T00:00:00\",\"2015-04-26T00:00:00\",\"2015-04-27T00:00:00\",\"2015-04-28T00:00:00\",\"2015-04-29T00:00:00\",\"2015-04-30T00:00:00\",\"2015-05-01T00:00:00\",\"2015-05-02T00:00:00\",\"2015-05-03T00:00:00\",\"2015-05-04T00:00:00\",\"2015-05-05T00:00:00\",\"2015-05-06T00:00:00\",\"2015-05-07T00:00:00\",\"2015-05-08T00:00:00\",\"2015-05-09T00:00:00\",\"2015-05-10T00:00:00\",\"2015-05-11T00:00:00\",\"2015-05-12T00:00:00\",\"2015-05-13T00:00:00\",\"2015-05-14T00:00:00\",\"2015-05-15T00:00:00\",\"2015-05-16T00:00:00\",\"2015-05-17T00:00:00\",\"2015-05-18T00:00:00\",\"2015-05-19T00:00:00\",\"2015-05-20T00:00:00\",\"2015-05-21T00:00:00\",\"2015-05-22T00:00:00\",\"2015-05-23T00:00:00\",\"2015-05-24T00:00:00\",\"2015-05-25T00:00:00\",\"2015-05-26T00:00:00\",\"2015-05-27T00:00:00\",\"2015-05-28T00:00:00\",\"2015-05-29T00:00:00\",\"2015-05-30T00:00:00\",\"2015-05-31T00:00:00\",\"2015-06-01T00:00:00\",\"2015-06-02T00:00:00\",\"2015-06-03T00:00:00\",\"2015-06-04T00:00:00\",\"2015-06-05T00:00:00\",\"2015-06-06T00:00:00\",\"2015-06-07T00:00:00\",\"2015-06-08T00:00:00\",\"2015-06-09T00:00:00\",\"2015-06-10T00:00:00\",\"2015-06-11T00:00:00\",\"2015-06-12T00:00:00\",\"2015-06-13T00:00:00\",\"2015-06-14T00:00:00\",\"2015-06-15T00:00:00\",\"2015-06-16T00:00:00\",\"2015-06-17T00:00:00\",\"2015-06-18T00:00:00\",\"2015-06-19T00:00:00\",\"2015-06-20T00:00:00\",\"2015-06-21T00:00:00\",\"2015-06-22T00:00:00\",\"2015-06-23T00:00:00\",\"2015-06-24T00:00:00\",\"2015-06-25T00:00:00\",\"2015-06-26T00:00:00\",\"2015-06-27T00:00:00\",\"2015-06-28T00:00:00\",\"2015-06-29T00:00:00\",\"2015-06-30T00:00:00\",\"2015-07-01T00:00:00\",\"2015-07-02T00:00:00\",\"2015-07-03T00:00:00\",\"2015-07-04T00:00:00\",\"2015-07-05T00:00:00\",\"2015-07-06T00:00:00\",\"2015-07-07T00:00:00\",\"2015-07-08T00:00:00\",\"2015-07-09T00:00:00\",\"2015-07-10T00:00:00\",\"2015-07-11T00:00:00\",\"2015-07-12T00:00:00\",\"2015-07-13T00:00:00\",\"2015-07-14T00:00:00\",\"2015-07-15T00:00:00\",\"2015-07-16T00:00:00\",\"2015-07-17T00:00:00\",\"2015-07-18T00:00:00\",\"2015-07-19T00:00:00\",\"2015-07-20T00:00:00\",\"2015-07-21T00:00:00\",\"2015-07-22T00:00:00\",\"2015-07-23T00:00:00\",\"2015-07-24T00:00:00\",\"2015-07-25T00:00:00\",\"2015-07-26T00:00:00\",\"2015-07-27T00:00:00\",\"2015-07-28T00:00:00\",\"2015-07-29T00:00:00\",\"2015-07-30T00:00:00\",\"2015-07-31T00:00:00\",\"2015-08-01T00:00:00\",\"2015-08-02T00:00:00\",\"2015-08-03T00:00:00\",\"2015-08-04T00:00:00\",\"2015-08-05T00:00:00\",\"2015-08-06T00:00:00\",\"2015-08-07T00:00:00\",\"2015-08-08T00:00:00\",\"2015-08-09T00:00:00\",\"2015-08-10T00:00:00\",\"2015-08-11T00:00:00\",\"2015-08-12T00:00:00\",\"2015-08-13T00:00:00\",\"2015-08-14T00:00:00\",\"2015-08-15T00:00:00\",\"2015-08-16T00:00:00\",\"2015-08-17T00:00:00\",\"2015-08-18T00:00:00\",\"2015-08-19T00:00:00\",\"2015-08-20T00:00:00\",\"2015-08-21T00:00:00\",\"2015-08-22T00:00:00\",\"2015-08-23T00:00:00\",\"2015-08-24T00:00:00\",\"2015-08-25T00:00:00\",\"2015-08-26T00:00:00\",\"2015-08-27T00:00:00\",\"2015-08-28T00:00:00\",\"2015-08-29T00:00:00\",\"2015-08-30T00:00:00\",\"2015-08-31T00:00:00\",\"2015-09-01T00:00:00\",\"2015-09-02T00:00:00\",\"2015-09-03T00:00:00\",\"2015-09-04T00:00:00\",\"2015-09-05T00:00:00\",\"2015-09-06T00:00:00\",\"2015-09-07T00:00:00\",\"2015-09-08T00:00:00\",\"2015-09-09T00:00:00\",\"2015-09-10T00:00:00\",\"2015-09-11T00:00:00\",\"2015-09-12T00:00:00\",\"2015-09-13T00:00:00\",\"2015-09-14T00:00:00\",\"2015-09-15T00:00:00\",\"2015-09-16T00:00:00\",\"2015-09-17T00:00:00\",\"2015-09-18T00:00:00\",\"2015-09-19T00:00:00\",\"2015-09-20T00:00:00\",\"2015-09-21T00:00:00\",\"2015-09-22T00:00:00\",\"2015-09-23T00:00:00\",\"2015-09-24T00:00:00\",\"2015-09-25T00:00:00\",\"2015-09-26T00:00:00\",\"2015-09-27T00:00:00\",\"2015-09-28T00:00:00\",\"2015-09-29T00:00:00\",\"2015-09-30T00:00:00\"],\"y\":[556,640,575,615,622,552,560,581,583,475,549,574,549,559,583,586,464,530,574,550,560,584,583,470,547,577,549,561,585,585,462,519,577,547,562,583,583,470,546,576,546,564,596,601,485,536,587,576,581,607,603,492,569,598,574,580,608,605,491,564,591,567,576,601,604,516,575,602,581,586,604,604,515,579,603,583,588,602,606,514,579,603,583,590,603,607,519,577,605,587,587,599,598,504,558,598,582,591,601,598,504,566,595,583,593,605,604,510,571,602,584,595,605,603,511,569,603,586,596,607,608,518,578,613,598,595,604,606,501,571,603,592,594,608,608,507,571,601,592,595,613,612,489,495,589,603,601,613,610,512,577,608,598,594,629,632,548,614,639,631,630,641,638,561,616,640,634,633,644,638,562,616,641,634,633,642,638,562,601,624,612,629,644,524,484,623,644,643,639,649,646,565,621,647,643,641,649,647,565,624,650,644,641,648,647,562,621,649,645,642,649,646,565,624,652,648,645,652,650,567,618,651,646,642,650,648,554,621,646,625,631,642,643,528,604,635,620,630,638,638,520,600,632,611,621,635,636,485,523,591,595,563,579,583,494,592,597,572,599,622,618,492,598,613,570,584,618,614,491,600,612,590,601],\"type\":\"scatter\"},{\"marker\":{\"color\":\"grey\"},\"name\":\"DEN\",\"visible\":\"legendonly\",\"x\":[\"2015-01-01T00:00:00\",\"2015-01-02T00:00:00\",\"2015-01-03T00:00:00\",\"2015-01-04T00:00:00\",\"2015-01-05T00:00:00\",\"2015-01-06T00:00:00\",\"2015-01-07T00:00:00\",\"2015-01-08T00:00:00\",\"2015-01-09T00:00:00\",\"2015-01-10T00:00:00\",\"2015-01-11T00:00:00\",\"2015-01-12T00:00:00\",\"2015-01-13T00:00:00\",\"2015-01-14T00:00:00\",\"2015-01-15T00:00:00\",\"2015-01-16T00:00:00\",\"2015-01-17T00:00:00\",\"2015-01-18T00:00:00\",\"2015-01-19T00:00:00\",\"2015-01-20T00:00:00\",\"2015-01-21T00:00:00\",\"2015-01-22T00:00:00\",\"2015-01-23T00:00:00\",\"2015-01-24T00:00:00\",\"2015-01-25T00:00:00\",\"2015-01-26T00:00:00\",\"2015-01-27T00:00:00\",\"2015-01-28T00:00:00\",\"2015-01-29T00:00:00\",\"2015-01-30T00:00:00\",\"2015-01-31T00:00:00\",\"2015-02-01T00:00:00\",\"2015-02-02T00:00:00\",\"2015-02-03T00:00:00\",\"2015-02-04T00:00:00\",\"2015-02-05T00:00:00\",\"2015-02-06T00:00:00\",\"2015-02-07T00:00:00\",\"2015-02-08T00:00:00\",\"2015-02-09T00:00:00\",\"2015-02-10T00:00:00\",\"2015-02-11T00:00:00\",\"2015-02-12T00:00:00\",\"2015-02-13T00:00:00\",\"2015-02-14T00:00:00\",\"2015-02-15T00:00:00\",\"2015-02-16T00:00:00\",\"2015-02-17T00:00:00\",\"2015-02-18T00:00:00\",\"2015-02-19T00:00:00\",\"2015-02-20T00:00:00\",\"2015-02-21T00:00:00\",\"2015-02-22T00:00:00\",\"2015-02-23T00:00:00\",\"2015-02-24T00:00:00\",\"2015-02-25T00:00:00\",\"2015-02-26T00:00:00\",\"2015-02-27T00:00:00\",\"2015-02-28T00:00:00\",\"2015-03-01T00:00:00\",\"2015-03-02T00:00:00\",\"2015-03-03T00:00:00\",\"2015-03-04T00:00:00\",\"2015-03-05T00:00:00\",\"2015-03-06T00:00:00\",\"2015-03-07T00:00:00\",\"2015-03-08T00:00:00\",\"2015-03-09T00:00:00\",\"2015-03-10T00:00:00\",\"2015-03-11T00:00:00\",\"2015-03-12T00:00:00\",\"2015-03-13T00:00:00\",\"2015-03-14T00:00:00\",\"2015-03-15T00:00:00\",\"2015-03-16T00:00:00\",\"2015-03-17T00:00:00\",\"2015-03-18T00:00:00\",\"2015-03-19T00:00:00\",\"2015-03-20T00:00:00\",\"2015-03-21T00:00:00\",\"2015-03-22T00:00:00\",\"2015-03-23T00:00:00\",\"2015-03-24T00:00:00\",\"2015-03-25T00:00:00\",\"2015-03-26T00:00:00\",\"2015-03-27T00:00:00\",\"2015-03-28T00:00:00\",\"2015-03-29T00:00:00\",\"2015-03-30T00:00:00\",\"2015-03-31T00:00:00\",\"2015-04-01T00:00:00\",\"2015-04-02T00:00:00\",\"2015-04-03T00:00:00\",\"2015-04-04T00:00:00\",\"2015-04-05T00:00:00\",\"2015-04-06T00:00:00\",\"2015-04-07T00:00:00\",\"2015-04-08T00:00:00\",\"2015-04-09T00:00:00\",\"2015-04-10T00:00:00\",\"2015-04-11T00:00:00\",\"2015-04-12T00:00:00\",\"2015-04-13T00:00:00\",\"2015-04-14T00:00:00\",\"2015-04-15T00:00:00\",\"2015-04-16T00:00:00\",\"2015-04-17T00:00:00\",\"2015-04-18T00:00:00\",\"2015-04-19T00:00:00\",\"2015-04-20T00:00:00\",\"2015-04-21T00:00:00\",\"2015-04-22T00:00:00\",\"2015-04-23T00:00:00\",\"2015-04-24T00:00:00\",\"2015-04-25T00:00:00\",\"2015-04-26T00:00:00\",\"2015-04-27T00:00:00\",\"2015-04-28T00:00:00\",\"2015-04-29T00:00:00\",\"2015-04-30T00:00:00\",\"2015-05-01T00:00:00\",\"2015-05-02T00:00:00\",\"2015-05-03T00:00:00\",\"2015-05-04T00:00:00\",\"2015-05-05T00:00:00\",\"2015-05-06T00:00:00\",\"2015-05-07T00:00:00\",\"2015-05-08T00:00:00\",\"2015-05-09T00:00:00\",\"2015-05-10T00:00:00\",\"2015-05-11T00:00:00\",\"2015-05-12T00:00:00\",\"2015-05-13T00:00:00\",\"2015-05-14T00:00:00\",\"2015-05-15T00:00:00\",\"2015-05-16T00:00:00\",\"2015-05-17T00:00:00\",\"2015-05-18T00:00:00\",\"2015-05-19T00:00:00\",\"2015-05-20T00:00:00\",\"2015-05-21T00:00:00\",\"2015-05-22T00:00:00\",\"2015-05-23T00:00:00\",\"2015-05-24T00:00:00\",\"2015-05-25T00:00:00\",\"2015-05-26T00:00:00\",\"2015-05-27T00:00:00\",\"2015-05-28T00:00:00\",\"2015-05-29T00:00:00\",\"2015-05-30T00:00:00\",\"2015-05-31T00:00:00\",\"2015-06-01T00:00:00\",\"2015-06-02T00:00:00\",\"2015-06-03T00:00:00\",\"2015-06-04T00:00:00\",\"2015-06-05T00:00:00\",\"2015-06-06T00:00:00\",\"2015-06-07T00:00:00\",\"2015-06-08T00:00:00\",\"2015-06-09T00:00:00\",\"2015-06-10T00:00:00\",\"2015-06-11T00:00:00\",\"2015-06-12T00:00:00\",\"2015-06-13T00:00:00\",\"2015-06-14T00:00:00\",\"2015-06-15T00:00:00\",\"2015-06-16T00:00:00\",\"2015-06-17T00:00:00\",\"2015-06-18T00:00:00\",\"2015-06-19T00:00:00\",\"2015-06-20T00:00:00\",\"2015-06-21T00:00:00\",\"2015-06-22T00:00:00\",\"2015-06-23T00:00:00\",\"2015-06-24T00:00:00\",\"2015-06-25T00:00:00\",\"2015-06-26T00:00:00\",\"2015-06-27T00:00:00\",\"2015-06-28T00:00:00\",\"2015-06-29T00:00:00\",\"2015-06-30T00:00:00\",\"2015-07-01T00:00:00\",\"2015-07-02T00:00:00\",\"2015-07-03T00:00:00\",\"2015-07-04T00:00:00\",\"2015-07-05T00:00:00\",\"2015-07-06T00:00:00\",\"2015-07-07T00:00:00\",\"2015-07-08T00:00:00\",\"2015-07-09T00:00:00\",\"2015-07-10T00:00:00\",\"2015-07-11T00:00:00\",\"2015-07-12T00:00:00\",\"2015-07-13T00:00:00\",\"2015-07-14T00:00:00\",\"2015-07-15T00:00:00\",\"2015-07-16T00:00:00\",\"2015-07-17T00:00:00\",\"2015-07-18T00:00:00\",\"2015-07-19T00:00:00\",\"2015-07-20T00:00:00\",\"2015-07-21T00:00:00\",\"2015-07-22T00:00:00\",\"2015-07-23T00:00:00\",\"2015-07-24T00:00:00\",\"2015-07-25T00:00:00\",\"2015-07-26T00:00:00\",\"2015-07-27T00:00:00\",\"2015-07-28T00:00:00\",\"2015-07-29T00:00:00\",\"2015-07-30T00:00:00\",\"2015-07-31T00:00:00\",\"2015-08-01T00:00:00\",\"2015-08-02T00:00:00\",\"2015-08-03T00:00:00\",\"2015-08-04T00:00:00\",\"2015-08-05T00:00:00\",\"2015-08-06T00:00:00\",\"2015-08-07T00:00:00\",\"2015-08-08T00:00:00\",\"2015-08-09T00:00:00\",\"2015-08-10T00:00:00\",\"2015-08-11T00:00:00\",\"2015-08-12T00:00:00\",\"2015-08-13T00:00:00\",\"2015-08-14T00:00:00\",\"2015-08-15T00:00:00\",\"2015-08-16T00:00:00\",\"2015-08-17T00:00:00\",\"2015-08-18T00:00:00\",\"2015-08-19T00:00:00\",\"2015-08-20T00:00:00\",\"2015-08-21T00:00:00\",\"2015-08-22T00:00:00\",\"2015-08-23T00:00:00\",\"2015-08-24T00:00:00\",\"2015-08-25T00:00:00\",\"2015-08-26T00:00:00\",\"2015-08-27T00:00:00\",\"2015-08-28T00:00:00\",\"2015-08-29T00:00:00\",\"2015-08-30T00:00:00\",\"2015-08-31T00:00:00\",\"2015-09-01T00:00:00\",\"2015-09-02T00:00:00\",\"2015-09-03T00:00:00\",\"2015-09-04T00:00:00\",\"2015-09-05T00:00:00\",\"2015-09-06T00:00:00\",\"2015-09-07T00:00:00\",\"2015-09-08T00:00:00\",\"2015-09-09T00:00:00\",\"2015-09-10T00:00:00\",\"2015-09-11T00:00:00\",\"2015-09-12T00:00:00\",\"2015-09-13T00:00:00\",\"2015-09-14T00:00:00\",\"2015-09-15T00:00:00\",\"2015-09-16T00:00:00\",\"2015-09-17T00:00:00\",\"2015-09-18T00:00:00\",\"2015-09-19T00:00:00\",\"2015-09-20T00:00:00\",\"2015-09-21T00:00:00\",\"2015-09-22T00:00:00\",\"2015-09-23T00:00:00\",\"2015-09-24T00:00:00\",\"2015-09-25T00:00:00\",\"2015-09-26T00:00:00\",\"2015-09-27T00:00:00\",\"2015-09-28T00:00:00\",\"2015-09-29T00:00:00\",\"2015-09-30T00:00:00\"],\"y\":[607,658,605,645,639,564,555,576,573,430,529,571,543,553,573,575,424,502,572,542,552,571,574,423,526,565,536,546,568,571,422,470,566,536,546,566,567,420,525,565,536,550,610,612,464,534,609,604,611,615,617,464,568,610,573,610,613,615,466,568,617,586,620,619,616,523,590,630,590,626,630,631,531,593,630,590,624,627,625,529,594,627,589,624,626,622,531,592,624,585,623,625,621,495,576,622,571,601,604,604,458,574,601,572,604,610,612,474,584,611,579,610,610,613,473,587,608,578,610,599,600,472,584,601,578,611,617,619,477,591,619,617,617,621,625,484,594,619,618,618,622,623,452,467,598,618,617,621,622,489,595,617,621,617,633,628,532,633,638,641,637,645,641,571,637,639,640,640,641,635,561,626,630,634,635,637,634,571,628,630,595,600,645,528,465,621,635,635,632,638,635,563,620,633,632,632,637,634,562,621,634,629,631,637,635,559,619,632,631,631,636,634,561,626,642,637,636,644,644,563,615,639,633,638,642,642,537,618,638,596,602,626,628,488,612,624,591,594,623,623,479,603,622,582,593,624,622,429,438,593,618,585,588,587,458,611,619,574,597,630,630,462,612,630,579,596,618,620,478,607,623,581,613],\"type\":\"scatter\"}],                        {\"template\":{\"data\":{\"histogram2dcontour\":[{\"type\":\"histogram2dcontour\",\"colorbar\":{\"outlinewidth\":0,\"ticks\":\"\"},\"colorscale\":[[0.0,\"#0d0887\"],[0.1111111111111111,\"#46039f\"],[0.2222222222222222,\"#7201a8\"],[0.3333333333333333,\"#9c179e\"],[0.4444444444444444,\"#bd3786\"],[0.5555555555555556,\"#d8576b\"],[0.6666666666666666,\"#ed7953\"],[0.7777777777777778,\"#fb9f3a\"],[0.8888888888888888,\"#fdca26\"],[1.0,\"#f0f921\"]]}],\"choropleth\":[{\"type\":\"choropleth\",\"colorbar\":{\"outlinewidth\":0,\"ticks\":\"\"}}],\"histogram2d\":[{\"type\":\"histogram2d\",\"colorbar\":{\"outlinewidth\":0,\"ticks\":\"\"},\"colorscale\":[[0.0,\"#0d0887\"],[0.1111111111111111,\"#46039f\"],[0.2222222222222222,\"#7201a8\"],[0.3333333333333333,\"#9c179e\"],[0.4444444444444444,\"#bd3786\"],[0.5555555555555556,\"#d8576b\"],[0.6666666666666666,\"#ed7953\"],[0.7777777777777778,\"#fb9f3a\"],[0.8888888888888888,\"#fdca26\"],[1.0,\"#f0f921\"]]}],\"heatmap\":[{\"type\":\"heatmap\",\"colorbar\":{\"outlinewidth\":0,\"ticks\":\"\"},\"colorscale\":[[0.0,\"#0d0887\"],[0.1111111111111111,\"#46039f\"],[0.2222222222222222,\"#7201a8\"],[0.3333333333333333,\"#9c179e\"],[0.4444444444444444,\"#bd3786\"],[0.5555555555555556,\"#d8576b\"],[0.6666666666666666,\"#ed7953\"],[0.7777777777777778,\"#fb9f3a\"],[0.8888888888888888,\"#fdca26\"],[1.0,\"#f0f921\"]]}],\"heatmapgl\":[{\"type\":\"heatmapgl\",\"colorbar\":{\"outlinewidth\":0,\"ticks\":\"\"},\"colorscale\":[[0.0,\"#0d0887\"],[0.1111111111111111,\"#46039f\"],[0.2222222222222222,\"#7201a8\"],[0.3333333333333333,\"#9c179e\"],[0.4444444444444444,\"#bd3786\"],[0.5555555555555556,\"#d8576b\"],[0.6666666666666666,\"#ed7953\"],[0.7777777777777778,\"#fb9f3a\"],[0.8888888888888888,\"#fdca26\"],[1.0,\"#f0f921\"]]}],\"contourcarpet\":[{\"type\":\"contourcarpet\",\"colorbar\":{\"outlinewidth\":0,\"ticks\":\"\"}}],\"contour\":[{\"type\":\"contour\",\"colorbar\":{\"outlinewidth\":0,\"ticks\":\"\"},\"colorscale\":[[0.0,\"#0d0887\"],[0.1111111111111111,\"#46039f\"],[0.2222222222222222,\"#7201a8\"],[0.3333333333333333,\"#9c179e\"],[0.4444444444444444,\"#bd3786\"],[0.5555555555555556,\"#d8576b\"],[0.6666666666666666,\"#ed7953\"],[0.7777777777777778,\"#fb9f3a\"],[0.8888888888888888,\"#fdca26\"],[1.0,\"#f0f921\"]]}],\"surface\":[{\"type\":\"surface\",\"colorbar\":{\"outlinewidth\":0,\"ticks\":\"\"},\"colorscale\":[[0.0,\"#0d0887\"],[0.1111111111111111,\"#46039f\"],[0.2222222222222222,\"#7201a8\"],[0.3333333333333333,\"#9c179e\"],[0.4444444444444444,\"#bd3786\"],[0.5555555555555556,\"#d8576b\"],[0.6666666666666666,\"#ed7953\"],[0.7777777777777778,\"#fb9f3a\"],[0.8888888888888888,\"#fdca26\"],[1.0,\"#f0f921\"]]}],\"mesh3d\":[{\"type\":\"mesh3d\",\"colorbar\":{\"outlinewidth\":0,\"ticks\":\"\"}}],\"scatter\":[{\"fillpattern\":{\"fillmode\":\"overlay\",\"size\":10,\"solidity\":0.2},\"type\":\"scatter\"}],\"parcoords\":[{\"type\":\"parcoords\",\"line\":{\"colorbar\":{\"outlinewidth\":0,\"ticks\":\"\"}}}],\"scatterpolargl\":[{\"type\":\"scatterpolargl\",\"marker\":{\"colorbar\":{\"outlinewidth\":0,\"ticks\":\"\"}}}],\"bar\":[{\"error_x\":{\"color\":\"#2a3f5f\"},\"error_y\":{\"color\":\"#2a3f5f\"},\"marker\":{\"line\":{\"color\":\"#E5ECF6\",\"width\":0.5},\"pattern\":{\"fillmode\":\"overlay\",\"size\":10,\"solidity\":0.2}},\"type\":\"bar\"}],\"scattergeo\":[{\"type\":\"scattergeo\",\"marker\":{\"colorbar\":{\"outlinewidth\":0,\"ticks\":\"\"}}}],\"scatterpolar\":[{\"type\":\"scatterpolar\",\"marker\":{\"colorbar\":{\"outlinewidth\":0,\"ticks\":\"\"}}}],\"histogram\":[{\"marker\":{\"pattern\":{\"fillmode\":\"overlay\",\"size\":10,\"solidity\":0.2}},\"type\":\"histogram\"}],\"scattergl\":[{\"type\":\"scattergl\",\"marker\":{\"colorbar\":{\"outlinewidth\":0,\"ticks\":\"\"}}}],\"scatter3d\":[{\"type\":\"scatter3d\",\"line\":{\"colorbar\":{\"outlinewidth\":0,\"ticks\":\"\"}},\"marker\":{\"colorbar\":{\"outlinewidth\":0,\"ticks\":\"\"}}}],\"scattermapbox\":[{\"type\":\"scattermapbox\",\"marker\":{\"colorbar\":{\"outlinewidth\":0,\"ticks\":\"\"}}}],\"scatterternary\":[{\"type\":\"scatterternary\",\"marker\":{\"colorbar\":{\"outlinewidth\":0,\"ticks\":\"\"}}}],\"scattercarpet\":[{\"type\":\"scattercarpet\",\"marker\":{\"colorbar\":{\"outlinewidth\":0,\"ticks\":\"\"}}}],\"carpet\":[{\"aaxis\":{\"endlinecolor\":\"#2a3f5f\",\"gridcolor\":\"white\",\"linecolor\":\"white\",\"minorgridcolor\":\"white\",\"startlinecolor\":\"#2a3f5f\"},\"baxis\":{\"endlinecolor\":\"#2a3f5f\",\"gridcolor\":\"white\",\"linecolor\":\"white\",\"minorgridcolor\":\"white\",\"startlinecolor\":\"#2a3f5f\"},\"type\":\"carpet\"}],\"table\":[{\"cells\":{\"fill\":{\"color\":\"#EBF0F8\"},\"line\":{\"color\":\"white\"}},\"header\":{\"fill\":{\"color\":\"#C8D4E3\"},\"line\":{\"color\":\"white\"}},\"type\":\"table\"}],\"barpolar\":[{\"marker\":{\"line\":{\"color\":\"#E5ECF6\",\"width\":0.5},\"pattern\":{\"fillmode\":\"overlay\",\"size\":10,\"solidity\":0.2}},\"type\":\"barpolar\"}],\"pie\":[{\"automargin\":true,\"type\":\"pie\"}]},\"layout\":{\"autotypenumbers\":\"strict\",\"colorway\":[\"#636efa\",\"#EF553B\",\"#00cc96\",\"#ab63fa\",\"#FFA15A\",\"#19d3f3\",\"#FF6692\",\"#B6E880\",\"#FF97FF\",\"#FECB52\"],\"font\":{\"color\":\"#2a3f5f\"},\"hovermode\":\"closest\",\"hoverlabel\":{\"align\":\"left\"},\"paper_bgcolor\":\"white\",\"plot_bgcolor\":\"#E5ECF6\",\"polar\":{\"bgcolor\":\"#E5ECF6\",\"angularaxis\":{\"gridcolor\":\"white\",\"linecolor\":\"white\",\"ticks\":\"\"},\"radialaxis\":{\"gridcolor\":\"white\",\"linecolor\":\"white\",\"ticks\":\"\"}},\"ternary\":{\"bgcolor\":\"#E5ECF6\",\"aaxis\":{\"gridcolor\":\"white\",\"linecolor\":\"white\",\"ticks\":\"\"},\"baxis\":{\"gridcolor\":\"white\",\"linecolor\":\"white\",\"ticks\":\"\"},\"caxis\":{\"gridcolor\":\"white\",\"linecolor\":\"white\",\"ticks\":\"\"}},\"coloraxis\":{\"colorbar\":{\"outlinewidth\":0,\"ticks\":\"\"}},\"colorscale\":{\"sequential\":[[0.0,\"#0d0887\"],[0.1111111111111111,\"#46039f\"],[0.2222222222222222,\"#7201a8\"],[0.3333333333333333,\"#9c179e\"],[0.4444444444444444,\"#bd3786\"],[0.5555555555555556,\"#d8576b\"],[0.6666666666666666,\"#ed7953\"],[0.7777777777777778,\"#fb9f3a\"],[0.8888888888888888,\"#fdca26\"],[1.0,\"#f0f921\"]],\"sequentialminus\":[[0.0,\"#0d0887\"],[0.1111111111111111,\"#46039f\"],[0.2222222222222222,\"#7201a8\"],[0.3333333333333333,\"#9c179e\"],[0.4444444444444444,\"#bd3786\"],[0.5555555555555556,\"#d8576b\"],[0.6666666666666666,\"#ed7953\"],[0.7777777777777778,\"#fb9f3a\"],[0.8888888888888888,\"#fdca26\"],[1.0,\"#f0f921\"]],\"diverging\":[[0,\"#8e0152\"],[0.1,\"#c51b7d\"],[0.2,\"#de77ae\"],[0.3,\"#f1b6da\"],[0.4,\"#fde0ef\"],[0.5,\"#f7f7f7\"],[0.6,\"#e6f5d0\"],[0.7,\"#b8e186\"],[0.8,\"#7fbc41\"],[0.9,\"#4d9221\"],[1,\"#276419\"]]},\"xaxis\":{\"gridcolor\":\"white\",\"linecolor\":\"white\",\"ticks\":\"\",\"title\":{\"standoff\":15},\"zerolinecolor\":\"white\",\"automargin\":true,\"zerolinewidth\":2},\"yaxis\":{\"gridcolor\":\"white\",\"linecolor\":\"white\",\"ticks\":\"\",\"title\":{\"standoff\":15},\"zerolinecolor\":\"white\",\"automargin\":true,\"zerolinewidth\":2},\"scene\":{\"xaxis\":{\"backgroundcolor\":\"#E5ECF6\",\"gridcolor\":\"white\",\"linecolor\":\"white\",\"showbackground\":true,\"ticks\":\"\",\"zerolinecolor\":\"white\",\"gridwidth\":2},\"yaxis\":{\"backgroundcolor\":\"#E5ECF6\",\"gridcolor\":\"white\",\"linecolor\":\"white\",\"showbackground\":true,\"ticks\":\"\",\"zerolinecolor\":\"white\",\"gridwidth\":2},\"zaxis\":{\"backgroundcolor\":\"#E5ECF6\",\"gridcolor\":\"white\",\"linecolor\":\"white\",\"showbackground\":true,\"ticks\":\"\",\"zerolinecolor\":\"white\",\"gridwidth\":2}},\"shapedefaults\":{\"line\":{\"color\":\"#2a3f5f\"}},\"annotationdefaults\":{\"arrowcolor\":\"#2a3f5f\",\"arrowhead\":0,\"arrowwidth\":1},\"geo\":{\"bgcolor\":\"white\",\"landcolor\":\"#E5ECF6\",\"subunitcolor\":\"white\",\"showland\":true,\"showlakes\":true,\"lakecolor\":\"white\"},\"title\":{\"x\":0.05},\"mapbox\":{\"style\":\"light\"}}},\"title\":{\"text\":\"Flight Counts by Date - OTPW Training Set\",\"x\":0.5},\"xaxis\":{\"title\":{\"text\":\"Date\"}},\"yaxis\":{\"title\":{\"text\":\"Flight Count\"}},\"legend\":{\"title\":{\"text\":\"Airport\"}}},                        {\"responsive\": true}                    )                };                            </script>        </div>\n",
       "</body>\n",
       "</html>"
      ]
     },
     "metadata": {},
     "output_type": "display_data"
    }
   ],
   "source": [
    "top5_stations = ['ATL','ORD','DFW','LAX','DEN']\n",
    "\n",
    "\n",
    "colors = ['tomato','dodgerblue','darkseagreen','mediumslateblue','grey']\n",
    "\n",
    "import plotly.graph_objects as go\n",
    "def transform_df(df):\n",
    "    df['counts'] = 1\n",
    "    df['FL_DATE'] = pd.to_datetime(df['FL_DATE'])\n",
    "    return df.set_index('FL_DATE').resample('D').agg({'counts':'sum'})\n",
    "\n",
    "pop_stations = []  \n",
    "for i, station in enumerate(top5_stations):\n",
    "    temp = transform_df(df_otpw_1yr.where(df_otpw_1yr['ORIGIN'] == station).select(\"FL_DATE\").toPandas())\n",
    "    pop_stations.append(\n",
    "        go.Scatter(\n",
    "            x=temp.index,\n",
    "            y=temp['counts'],\n",
    "            name=station,\n",
    "            marker=dict(color=colors[i % len(colors)]),\n",
    "        visible=True if i == 0 else 'legendonly' ))\n",
    "    \n",
    "\n",
    "fig = go.Figure()  \n",
    "for trace in pop_stations:\n",
    "    fig.add_trace(trace)\n",
    "\n",
    "fig.update_layout(\n",
    "    title='Flight Counts by Date - OTPW Training Set',\n",
    "    xaxis_title='Date',\n",
    "    yaxis_title='Flight Count',\n",
    "    legend_title='Airport',\n",
    "    title_x = 0.5,\n",
    ")\n",
    "    "
   ]
  },
  {
   "cell_type": "markdown",
   "metadata": {
    "application/vnd.databricks.v1+cell": {
     "cellMetadata": {},
     "inputWidgets": {},
     "nuid": "542681f4-b554-49f6-813d-b0e4021990ab",
     "showTitle": false,
     "title": ""
    }
   },
   "source": []
  },
  {
   "cell_type": "markdown",
   "metadata": {
    "application/vnd.databricks.v1+cell": {
     "cellMetadata": {},
     "inputWidgets": {},
     "nuid": "b00156fa-cc79-43aa-94e2-96b78af2a3d0",
     "showTitle": false,
     "title": ""
    }
   },
   "source": [
    "### Month\n",
    "\n",
    "Any frequent flyer can attest to seasonal effects on airport traffic. To observe this phenomena we plotted the number of delays over 15 minuts over the course of a year. \n",
    "\n",
    "By clicking on the legend and selecting a specific airport trace, we can observe **month-wise** trends, indicating that seasonality affects the the number of flights that are entering or leaving a specific airport. We shall one hot encode the **MONTH** feature within our dataset"
   ]
  },
  {
   "cell_type": "code",
   "execution_count": 0,
   "metadata": {
    "application/vnd.databricks.v1+cell": {
     "cellMetadata": {
      "byteLimit": 2048000,
      "rowLimit": 10000
     },
     "inputWidgets": {},
     "nuid": "8fe29c7e-495f-4c30-a634-9648e366912b",
     "showTitle": false,
     "title": ""
    }
   },
   "outputs": [
    {
     "output_type": "display_data",
     "data": {
      "text/html": [
       "<html>\n",
       "<head><meta charset=\"utf-8\" /></head>\n",
       "<body>\n",
       "    <div>            <script src=\"https://cdnjs.cloudflare.com/ajax/libs/mathjax/2.7.5/MathJax.js?config=TeX-AMS-MML_SVG\"></script><script type=\"text/javascript\">if (window.MathJax && window.MathJax.Hub && window.MathJax.Hub.Config) {window.MathJax.Hub.Config({SVG: {font: \"STIX-Web\"}});}</script>                <script type=\"text/javascript\">window.PlotlyConfig = {MathJaxConfig: 'local'};</script>\n",
       "        <script src=\"https://cdn.plot.ly/plotly-2.12.1.min.js\"></script>                <div id=\"26f5bd4f-d21e-4fdc-8f62-cb26727c2622\" class=\"plotly-graph-div\" style=\"height:100%; width:100%;\"></div>            <script type=\"text/javascript\">                                    window.PLOTLYENV=window.PLOTLYENV || {};                                    if (document.getElementById(\"26f5bd4f-d21e-4fdc-8f62-cb26727c2622\")) {                    Plotly.newPlot(                        \"26f5bd4f-d21e-4fdc-8f62-cb26727c2622\",                        [{\"marker\":{\"color\":\"tomato\"},\"name\":\"ATL\",\"visible\":true,\"x\":[\"2015-01-01T00:00:00\",\"2015-01-02T00:00:00\",\"2015-01-03T00:00:00\",\"2015-01-04T00:00:00\",\"2015-01-05T00:00:00\",\"2015-01-06T00:00:00\",\"2015-01-07T00:00:00\",\"2015-01-08T00:00:00\",\"2015-01-09T00:00:00\",\"2015-01-10T00:00:00\",\"2015-01-11T00:00:00\",\"2015-01-12T00:00:00\",\"2015-01-13T00:00:00\",\"2015-01-14T00:00:00\",\"2015-01-15T00:00:00\",\"2015-01-16T00:00:00\",\"2015-01-17T00:00:00\",\"2015-01-18T00:00:00\",\"2015-01-19T00:00:00\",\"2015-01-20T00:00:00\",\"2015-01-21T00:00:00\",\"2015-01-22T00:00:00\",\"2015-01-23T00:00:00\",\"2015-01-24T00:00:00\",\"2015-01-25T00:00:00\",\"2015-01-26T00:00:00\",\"2015-01-27T00:00:00\",\"2015-01-28T00:00:00\",\"2015-01-29T00:00:00\",\"2015-01-30T00:00:00\",\"2015-01-31T00:00:00\",\"2015-02-01T00:00:00\",\"2015-02-02T00:00:00\",\"2015-02-03T00:00:00\",\"2015-02-04T00:00:00\",\"2015-02-05T00:00:00\",\"2015-02-06T00:00:00\",\"2015-02-07T00:00:00\",\"2015-02-08T00:00:00\",\"2015-02-09T00:00:00\",\"2015-02-10T00:00:00\",\"2015-02-11T00:00:00\",\"2015-02-12T00:00:00\",\"2015-02-13T00:00:00\",\"2015-02-14T00:00:00\",\"2015-02-15T00:00:00\",\"2015-02-16T00:00:00\",\"2015-02-17T00:00:00\",\"2015-02-18T00:00:00\",\"2015-02-19T00:00:00\",\"2015-02-20T00:00:00\",\"2015-02-21T00:00:00\",\"2015-02-22T00:00:00\",\"2015-02-23T00:00:00\",\"2015-02-24T00:00:00\",\"2015-02-25T00:00:00\",\"2015-02-26T00:00:00\",\"2015-02-27T00:00:00\",\"2015-02-28T00:00:00\",\"2015-03-01T00:00:00\",\"2015-03-02T00:00:00\",\"2015-03-03T00:00:00\",\"2015-03-04T00:00:00\",\"2015-03-05T00:00:00\",\"2015-03-06T00:00:00\",\"2015-03-07T00:00:00\",\"2015-03-08T00:00:00\",\"2015-03-09T00:00:00\",\"2015-03-10T00:00:00\",\"2015-03-11T00:00:00\",\"2015-03-12T00:00:00\",\"2015-03-13T00:00:00\",\"2015-03-14T00:00:00\",\"2015-03-15T00:00:00\",\"2015-03-16T00:00:00\",\"2015-03-17T00:00:00\",\"2015-03-18T00:00:00\",\"2015-03-19T00:00:00\",\"2015-03-20T00:00:00\",\"2015-03-21T00:00:00\",\"2015-03-22T00:00:00\",\"2015-03-23T00:00:00\",\"2015-03-24T00:00:00\",\"2015-03-25T00:00:00\",\"2015-03-26T00:00:00\",\"2015-03-27T00:00:00\",\"2015-03-28T00:00:00\",\"2015-03-29T00:00:00\",\"2015-03-30T00:00:00\",\"2015-03-31T00:00:00\",\"2015-04-01T00:00:00\",\"2015-04-02T00:00:00\",\"2015-04-03T00:00:00\",\"2015-04-04T00:00:00\",\"2015-04-05T00:00:00\",\"2015-04-06T00:00:00\",\"2015-04-07T00:00:00\",\"2015-04-08T00:00:00\",\"2015-04-09T00:00:00\",\"2015-04-10T00:00:00\",\"2015-04-11T00:00:00\",\"2015-04-12T00:00:00\",\"2015-04-13T00:00:00\",\"2015-04-14T00:00:00\",\"2015-04-15T00:00:00\",\"2015-04-16T00:00:00\",\"2015-04-17T00:00:00\",\"2015-04-18T00:00:00\",\"2015-04-19T00:00:00\",\"2015-04-20T00:00:00\",\"2015-04-21T00:00:00\",\"2015-04-22T00:00:00\",\"2015-04-23T00:00:00\",\"2015-04-24T00:00:00\",\"2015-04-25T00:00:00\",\"2015-04-26T00:00:00\",\"2015-04-27T00:00:00\",\"2015-04-28T00:00:00\",\"2015-04-29T00:00:00\",\"2015-04-30T00:00:00\",\"2015-05-01T00:00:00\",\"2015-05-02T00:00:00\",\"2015-05-03T00:00:00\",\"2015-05-04T00:00:00\",\"2015-05-05T00:00:00\",\"2015-05-06T00:00:00\",\"2015-05-07T00:00:00\",\"2015-05-08T00:00:00\",\"2015-05-09T00:00:00\",\"2015-05-10T00:00:00\",\"2015-05-11T00:00:00\",\"2015-05-12T00:00:00\",\"2015-05-13T00:00:00\",\"2015-05-14T00:00:00\",\"2015-05-15T00:00:00\",\"2015-05-16T00:00:00\",\"2015-05-17T00:00:00\",\"2015-05-18T00:00:00\",\"2015-05-19T00:00:00\",\"2015-05-20T00:00:00\",\"2015-05-21T00:00:00\",\"2015-05-22T00:00:00\",\"2015-05-23T00:00:00\",\"2015-05-24T00:00:00\",\"2015-05-25T00:00:00\",\"2015-05-26T00:00:00\",\"2015-05-27T00:00:00\",\"2015-05-28T00:00:00\",\"2015-05-29T00:00:00\",\"2015-05-30T00:00:00\",\"2015-05-31T00:00:00\",\"2015-06-01T00:00:00\",\"2015-06-02T00:00:00\",\"2015-06-03T00:00:00\",\"2015-06-04T00:00:00\",\"2015-06-05T00:00:00\",\"2015-06-06T00:00:00\",\"2015-06-07T00:00:00\",\"2015-06-08T00:00:00\",\"2015-06-09T00:00:00\",\"2015-06-10T00:00:00\",\"2015-06-11T00:00:00\",\"2015-06-12T00:00:00\",\"2015-06-13T00:00:00\",\"2015-06-14T00:00:00\",\"2015-06-15T00:00:00\",\"2015-06-16T00:00:00\",\"2015-06-17T00:00:00\",\"2015-06-18T00:00:00\",\"2015-06-19T00:00:00\",\"2015-06-20T00:00:00\",\"2015-06-21T00:00:00\",\"2015-06-22T00:00:00\",\"2015-06-23T00:00:00\",\"2015-06-24T00:00:00\",\"2015-06-25T00:00:00\",\"2015-06-26T00:00:00\",\"2015-06-27T00:00:00\",\"2015-06-28T00:00:00\",\"2015-06-29T00:00:00\",\"2015-06-30T00:00:00\",\"2015-07-01T00:00:00\",\"2015-07-02T00:00:00\",\"2015-07-03T00:00:00\",\"2015-07-04T00:00:00\",\"2015-07-05T00:00:00\",\"2015-07-06T00:00:00\",\"2015-07-07T00:00:00\",\"2015-07-08T00:00:00\",\"2015-07-09T00:00:00\",\"2015-07-10T00:00:00\",\"2015-07-11T00:00:00\",\"2015-07-12T00:00:00\",\"2015-07-13T00:00:00\",\"2015-07-14T00:00:00\",\"2015-07-15T00:00:00\",\"2015-07-16T00:00:00\",\"2015-07-17T00:00:00\",\"2015-07-18T00:00:00\",\"2015-07-19T00:00:00\",\"2015-07-20T00:00:00\",\"2015-07-21T00:00:00\",\"2015-07-22T00:00:00\",\"2015-07-23T00:00:00\",\"2015-07-24T00:00:00\",\"2015-07-25T00:00:00\",\"2015-07-26T00:00:00\",\"2015-07-27T00:00:00\",\"2015-07-28T00:00:00\",\"2015-07-29T00:00:00\",\"2015-07-30T00:00:00\",\"2015-07-31T00:00:00\",\"2015-08-01T00:00:00\",\"2015-08-02T00:00:00\",\"2015-08-03T00:00:00\",\"2015-08-04T00:00:00\",\"2015-08-05T00:00:00\",\"2015-08-06T00:00:00\",\"2015-08-07T00:00:00\",\"2015-08-08T00:00:00\",\"2015-08-09T00:00:00\",\"2015-08-10T00:00:00\",\"2015-08-11T00:00:00\",\"2015-08-12T00:00:00\",\"2015-08-13T00:00:00\",\"2015-08-14T00:00:00\",\"2015-08-15T00:00:00\",\"2015-08-16T00:00:00\",\"2015-08-17T00:00:00\",\"2015-08-18T00:00:00\",\"2015-08-19T00:00:00\",\"2015-08-20T00:00:00\",\"2015-08-21T00:00:00\",\"2015-08-22T00:00:00\",\"2015-08-23T00:00:00\",\"2015-08-24T00:00:00\",\"2015-08-25T00:00:00\",\"2015-08-26T00:00:00\",\"2015-08-27T00:00:00\",\"2015-08-28T00:00:00\",\"2015-08-29T00:00:00\",\"2015-08-30T00:00:00\",\"2015-08-31T00:00:00\",\"2015-09-01T00:00:00\",\"2015-09-02T00:00:00\",\"2015-09-03T00:00:00\",\"2015-09-04T00:00:00\",\"2015-09-05T00:00:00\",\"2015-09-06T00:00:00\",\"2015-09-07T00:00:00\",\"2015-09-08T00:00:00\",\"2015-09-09T00:00:00\",\"2015-09-10T00:00:00\",\"2015-09-11T00:00:00\",\"2015-09-12T00:00:00\",\"2015-09-13T00:00:00\",\"2015-09-14T00:00:00\",\"2015-09-15T00:00:00\",\"2015-09-16T00:00:00\",\"2015-09-17T00:00:00\",\"2015-09-18T00:00:00\",\"2015-09-19T00:00:00\",\"2015-09-20T00:00:00\",\"2015-09-21T00:00:00\",\"2015-09-22T00:00:00\",\"2015-09-23T00:00:00\",\"2015-09-24T00:00:00\",\"2015-09-25T00:00:00\",\"2015-09-26T00:00:00\",\"2015-09-27T00:00:00\",\"2015-09-28T00:00:00\",\"2015-09-29T00:00:00\",\"2015-09-30T00:00:00\"],\"y\":[83.0,282.0,367.0,467.0,215.0,215.0,153.0,208.0,196.0,90.0,153.0,528.0,158.0,117.0,164.0,109.0,30.0,55.0,82.0,37.0,87.0,105.0,248.0,72.0,70.0,124.0,40.0,62.0,66.0,101.0,35.0,113.0,234.0,125.0,112.0,111.0,87.0,29.0,78.0,261.0,71.0,63.0,135.0,183.0,111.0,76.0,338.0,361.0,264.0,220.0,251.0,125.0,331.0,254.0,510.0,269.0,310.0,166.0,103.0,330.0,260.0,294.0,289.0,440.0,353.0,107.0,156.0,210.0,108.0,239.0,199.0,251.0,170.0,123.0,108.0,97.0,94.0,184.0,311.0,99.0,165.0,143.0,112.0,132.0,238.0,279.0,95.0,87.0,126.0,109.0,83.0,219.0,162.0,74.0,72.0,117.0,176.0,152.0,193.0,659.0,154.0,191.0,188.0,127.0,144.0,305.0,199.0,108.0,263.0,254.0,82.0,97.0,84.0,119.0,219.0,94.0,132.0,82.0,136.0,121.0,57.0,63.0,100.0,113.0,72.0,106.0,128.0,166.0,96.0,158.0,232.0,93.0,112.0,151.0,149.0,77.0,171.0,511.0,249.0,120.0,157.0,131.0,97.0,82.0,268.0,457.0,288.0,462.0,188.0,70.0,437.0,293.0,228.0,251.0,125.0,187.0,79.0,129.0,208.0,457.0,307.0,384.0,219.0,105.0,199.0,224.0,190.0,236.0,459.0,236.0,229.0,212.0,259.0,265.0,462.0,317.0,252.0,467.0,144.0,129.0,262.0,433.0,305.0,388.0,59.0,147.0,201.0,176.0,164.0,130.0,164.0,95.0,147.0,237.0,366.0,309.0,144.0,161.0,323.0,291.0,174.0,280.0,319.0,408.0,191.0,122.0,135.0,166.0,202.0,183.0,236.0,288.0,183.0,164.0,184.0,127.0,158.0,411.0,164.0,110.0,140.0,363.0,254.0,112.0,217.0,145.0,186.0,150.0,375.0,470.0,378.0,385.0,183.0,78.0,647.0,143.0,91.0,103.0,126.0,128.0,59.0,130.0,119.0,56.0,85.0,372.0,230.0,82.0,56.0,76.0,122.0,101.0,382.0,114.0,77.0,88.0,79.0,70.0,84.0,102.0,123.0,67.0,115.0,85.0,81.0,66.0,91.0,206.0,102.0,124.0,166.0,145.0,136.0],\"type\":\"scatter\"},{\"marker\":{\"color\":\"dodgerblue\"},\"name\":\"ORD\",\"visible\":\"legendonly\",\"x\":[\"2015-01-01T00:00:00\",\"2015-01-02T00:00:00\",\"2015-01-03T00:00:00\",\"2015-01-04T00:00:00\",\"2015-01-05T00:00:00\",\"2015-01-06T00:00:00\",\"2015-01-07T00:00:00\",\"2015-01-08T00:00:00\",\"2015-01-09T00:00:00\",\"2015-01-10T00:00:00\",\"2015-01-11T00:00:00\",\"2015-01-12T00:00:00\",\"2015-01-13T00:00:00\",\"2015-01-14T00:00:00\",\"2015-01-15T00:00:00\",\"2015-01-16T00:00:00\",\"2015-01-17T00:00:00\",\"2015-01-18T00:00:00\",\"2015-01-19T00:00:00\",\"2015-01-20T00:00:00\",\"2015-01-21T00:00:00\",\"2015-01-22T00:00:00\",\"2015-01-23T00:00:00\",\"2015-01-24T00:00:00\",\"2015-01-25T00:00:00\",\"2015-01-26T00:00:00\",\"2015-01-27T00:00:00\",\"2015-01-28T00:00:00\",\"2015-01-29T00:00:00\",\"2015-01-30T00:00:00\",\"2015-01-31T00:00:00\",\"2015-02-01T00:00:00\",\"2015-02-02T00:00:00\",\"2015-02-03T00:00:00\",\"2015-02-04T00:00:00\",\"2015-02-05T00:00:00\",\"2015-02-06T00:00:00\",\"2015-02-07T00:00:00\",\"2015-02-08T00:00:00\",\"2015-02-09T00:00:00\",\"2015-02-10T00:00:00\",\"2015-02-11T00:00:00\",\"2015-02-12T00:00:00\",\"2015-02-13T00:00:00\",\"2015-02-14T00:00:00\",\"2015-02-15T00:00:00\",\"2015-02-16T00:00:00\",\"2015-02-17T00:00:00\",\"2015-02-18T00:00:00\",\"2015-02-19T00:00:00\",\"2015-02-20T00:00:00\",\"2015-02-21T00:00:00\",\"2015-02-22T00:00:00\",\"2015-02-23T00:00:00\",\"2015-02-24T00:00:00\",\"2015-02-25T00:00:00\",\"2015-02-26T00:00:00\",\"2015-02-27T00:00:00\",\"2015-02-28T00:00:00\",\"2015-03-01T00:00:00\",\"2015-03-02T00:00:00\",\"2015-03-03T00:00:00\",\"2015-03-04T00:00:00\",\"2015-03-05T00:00:00\",\"2015-03-06T00:00:00\",\"2015-03-07T00:00:00\",\"2015-03-08T00:00:00\",\"2015-03-09T00:00:00\",\"2015-03-10T00:00:00\",\"2015-03-11T00:00:00\",\"2015-03-12T00:00:00\",\"2015-03-13T00:00:00\",\"2015-03-14T00:00:00\",\"2015-03-15T00:00:00\",\"2015-03-16T00:00:00\",\"2015-03-17T00:00:00\",\"2015-03-18T00:00:00\",\"2015-03-19T00:00:00\",\"2015-03-20T00:00:00\",\"2015-03-21T00:00:00\",\"2015-03-22T00:00:00\",\"2015-03-23T00:00:00\",\"2015-03-24T00:00:00\",\"2015-03-25T00:00:00\",\"2015-03-26T00:00:00\",\"2015-03-27T00:00:00\",\"2015-03-28T00:00:00\",\"2015-03-29T00:00:00\",\"2015-03-30T00:00:00\",\"2015-03-31T00:00:00\",\"2015-04-01T00:00:00\",\"2015-04-02T00:00:00\",\"2015-04-03T00:00:00\",\"2015-04-04T00:00:00\",\"2015-04-05T00:00:00\",\"2015-04-06T00:00:00\",\"2015-04-07T00:00:00\",\"2015-04-08T00:00:00\",\"2015-04-09T00:00:00\",\"2015-04-10T00:00:00\",\"2015-04-11T00:00:00\",\"2015-04-12T00:00:00\",\"2015-04-13T00:00:00\",\"2015-04-14T00:00:00\",\"2015-04-15T00:00:00\",\"2015-04-16T00:00:00\",\"2015-04-17T00:00:00\",\"2015-04-18T00:00:00\",\"2015-04-19T00:00:00\",\"2015-04-20T00:00:00\",\"2015-04-21T00:00:00\",\"2015-04-22T00:00:00\",\"2015-04-23T00:00:00\",\"2015-04-24T00:00:00\",\"2015-04-25T00:00:00\",\"2015-04-26T00:00:00\",\"2015-04-27T00:00:00\",\"2015-04-28T00:00:00\",\"2015-04-29T00:00:00\",\"2015-04-30T00:00:00\",\"2015-05-01T00:00:00\",\"2015-05-02T00:00:00\",\"2015-05-03T00:00:00\",\"2015-05-04T00:00:00\",\"2015-05-05T00:00:00\",\"2015-05-06T00:00:00\",\"2015-05-07T00:00:00\",\"2015-05-08T00:00:00\",\"2015-05-09T00:00:00\",\"2015-05-10T00:00:00\",\"2015-05-11T00:00:00\",\"2015-05-12T00:00:00\",\"2015-05-13T00:00:00\",\"2015-05-14T00:00:00\",\"2015-05-15T00:00:00\",\"2015-05-16T00:00:00\",\"2015-05-17T00:00:00\",\"2015-05-18T00:00:00\",\"2015-05-19T00:00:00\",\"2015-05-20T00:00:00\",\"2015-05-21T00:00:00\",\"2015-05-22T00:00:00\",\"2015-05-23T00:00:00\",\"2015-05-24T00:00:00\",\"2015-05-25T00:00:00\",\"2015-05-26T00:00:00\",\"2015-05-27T00:00:00\",\"2015-05-28T00:00:00\",\"2015-05-29T00:00:00\",\"2015-05-30T00:00:00\",\"2015-05-31T00:00:00\",\"2015-06-01T00:00:00\",\"2015-06-02T00:00:00\",\"2015-06-03T00:00:00\",\"2015-06-04T00:00:00\",\"2015-06-05T00:00:00\",\"2015-06-06T00:00:00\",\"2015-06-07T00:00:00\",\"2015-06-08T00:00:00\",\"2015-06-09T00:00:00\",\"2015-06-10T00:00:00\",\"2015-06-11T00:00:00\",\"2015-06-12T00:00:00\",\"2015-06-13T00:00:00\",\"2015-06-14T00:00:00\",\"2015-06-15T00:00:00\",\"2015-06-16T00:00:00\",\"2015-06-17T00:00:00\",\"2015-06-18T00:00:00\",\"2015-06-19T00:00:00\",\"2015-06-20T00:00:00\",\"2015-06-21T00:00:00\",\"2015-06-22T00:00:00\",\"2015-06-23T00:00:00\",\"2015-06-24T00:00:00\",\"2015-06-25T00:00:00\",\"2015-06-26T00:00:00\",\"2015-06-27T00:00:00\",\"2015-06-28T00:00:00\",\"2015-06-29T00:00:00\",\"2015-06-30T00:00:00\",\"2015-07-01T00:00:00\",\"2015-07-02T00:00:00\",\"2015-07-03T00:00:00\",\"2015-07-04T00:00:00\",\"2015-07-05T00:00:00\",\"2015-07-06T00:00:00\",\"2015-07-07T00:00:00\",\"2015-07-08T00:00:00\",\"2015-07-09T00:00:00\",\"2015-07-10T00:00:00\",\"2015-07-11T00:00:00\",\"2015-07-12T00:00:00\",\"2015-07-13T00:00:00\",\"2015-07-14T00:00:00\",\"2015-07-15T00:00:00\",\"2015-07-16T00:00:00\",\"2015-07-17T00:00:00\",\"2015-07-18T00:00:00\",\"2015-07-19T00:00:00\",\"2015-07-20T00:00:00\",\"2015-07-21T00:00:00\",\"2015-07-22T00:00:00\",\"2015-07-23T00:00:00\",\"2015-07-24T00:00:00\",\"2015-07-25T00:00:00\",\"2015-07-26T00:00:00\",\"2015-07-27T00:00:00\",\"2015-07-28T00:00:00\",\"2015-07-29T00:00:00\",\"2015-07-30T00:00:00\",\"2015-07-31T00:00:00\",\"2015-08-01T00:00:00\",\"2015-08-02T00:00:00\",\"2015-08-03T00:00:00\",\"2015-08-04T00:00:00\",\"2015-08-05T00:00:00\",\"2015-08-06T00:00:00\",\"2015-08-07T00:00:00\",\"2015-08-08T00:00:00\",\"2015-08-09T00:00:00\",\"2015-08-10T00:00:00\",\"2015-08-11T00:00:00\",\"2015-08-12T00:00:00\",\"2015-08-13T00:00:00\",\"2015-08-14T00:00:00\",\"2015-08-15T00:00:00\",\"2015-08-16T00:00:00\",\"2015-08-17T00:00:00\",\"2015-08-18T00:00:00\",\"2015-08-19T00:00:00\",\"2015-08-20T00:00:00\",\"2015-08-21T00:00:00\",\"2015-08-22T00:00:00\",\"2015-08-23T00:00:00\",\"2015-08-24T00:00:00\",\"2015-08-25T00:00:00\",\"2015-08-26T00:00:00\",\"2015-08-27T00:00:00\",\"2015-08-28T00:00:00\",\"2015-08-29T00:00:00\",\"2015-08-30T00:00:00\",\"2015-08-31T00:00:00\",\"2015-09-01T00:00:00\",\"2015-09-02T00:00:00\",\"2015-09-03T00:00:00\",\"2015-09-04T00:00:00\",\"2015-09-05T00:00:00\",\"2015-09-06T00:00:00\",\"2015-09-07T00:00:00\",\"2015-09-08T00:00:00\",\"2015-09-09T00:00:00\",\"2015-09-10T00:00:00\",\"2015-09-11T00:00:00\",\"2015-09-12T00:00:00\",\"2015-09-13T00:00:00\",\"2015-09-14T00:00:00\",\"2015-09-15T00:00:00\",\"2015-09-16T00:00:00\",\"2015-09-17T00:00:00\",\"2015-09-18T00:00:00\",\"2015-09-19T00:00:00\",\"2015-09-20T00:00:00\",\"2015-09-21T00:00:00\",\"2015-09-22T00:00:00\",\"2015-09-23T00:00:00\",\"2015-09-24T00:00:00\",\"2015-09-25T00:00:00\",\"2015-09-26T00:00:00\",\"2015-09-27T00:00:00\",\"2015-09-28T00:00:00\",\"2015-09-29T00:00:00\",\"2015-09-30T00:00:00\"],\"y\":[157.0,189.0,393.0,555.0,485.0,507.0,438.0,453.0,460.0,219.0,235.0,373.0,297.0,160.0,115.0,168.0,52.0,94.0,110.0,137.0,225.0,129.0,93.0,56.0,285.0,242.0,104.0,75.0,174.0,132.0,56.0,103.0,297.0,375.0,353.0,221.0,134.0,56.0,228.0,319.0,84.0,96.0,246.0,298.0,204.0,398.0,248.0,338.0,298.0,389.0,405.0,182.0,234.0,283.0,346.0,334.0,628.0,250.0,210.0,357.0,240.0,345.0,235.0,288.0,317.0,147.0,145.0,111.0,157.0,199.0,170.0,147.0,128.0,121.0,115.0,125.0,145.0,126.0,150.0,122.0,213.0,603.0,166.0,164.0,180.0,292.0,89.0,229.0,103.0,113.0,129.0,258.0,190.0,90.0,97.0,138.0,231.0,363.0,454.0,300.0,81.0,108.0,199.0,77.0,111.0,142.0,202.0,109.0,163.0,219.0,92.0,117.0,102.0,180.0,147.0,130.0,142.0,103.0,95.0,131.0,105.0,71.0,188.0,122.0,270.0,135.0,143.0,332.0,150.0,278.0,248.0,125.0,147.0,145.0,179.0,104.0,173.0,246.0,193.0,239.0,178.0,172.0,103.0,94.0,116.0,241.0,273.0,134.0,238.0,119.0,289.0,298.0,217.0,148.0,179.0,254.0,122.0,333.0,380.0,267.0,319.0,318.0,437.0,281.0,334.0,331.0,464.0,379.0,501.0,259.0,257.0,245.0,320.0,264.0,225.0,325.0,415.0,178.0,208.0,284.0,246.0,225.0,252.0,135.0,67.0,135.0,331.0,391.0,376.0,213.0,166.0,107.0,205.0,526.0,256.0,229.0,234.0,307.0,396.0,261.0,196.0,211.0,186.0,211.0,186.0,187.0,223.0,172.0,211.0,213.0,197.0,211.0,181.0,335.0,218.0,213.0,212.0,190.0,200.0,130.0,195.0,410.0,295.0,165.0,156.0,193.0,271.0,219.0,382.0,279.0,177.0,234.0,153.0,106.0,237.0,155.0,108.0,102.0,126.0,132.0,68.0,105.0,292.0,106.0,120.0,167.0,232.0,103.0,57.0,72.0,481.0,142.0,218.0,144.0,77.0,95.0,100.0,90.0,83.0,379.0,333.0,98.0,121.0,115.0,79.0,71.0,93.0,139.0,51.0,105.0,136.0,149.0,136.0],\"type\":\"scatter\"},{\"marker\":{\"color\":\"darkseagreen\"},\"name\":\"DFW\",\"visible\":\"legendonly\",\"x\":[\"2015-01-01T00:00:00\",\"2015-01-02T00:00:00\",\"2015-01-03T00:00:00\",\"2015-01-04T00:00:00\",\"2015-01-05T00:00:00\",\"2015-01-06T00:00:00\",\"2015-01-07T00:00:00\",\"2015-01-08T00:00:00\",\"2015-01-09T00:00:00\",\"2015-01-10T00:00:00\",\"2015-01-11T00:00:00\",\"2015-01-12T00:00:00\",\"2015-01-13T00:00:00\",\"2015-01-14T00:00:00\",\"2015-01-15T00:00:00\",\"2015-01-16T00:00:00\",\"2015-01-17T00:00:00\",\"2015-01-18T00:00:00\",\"2015-01-19T00:00:00\",\"2015-01-20T00:00:00\",\"2015-01-21T00:00:00\",\"2015-01-22T00:00:00\",\"2015-01-23T00:00:00\",\"2015-01-24T00:00:00\",\"2015-01-25T00:00:00\",\"2015-01-26T00:00:00\",\"2015-01-27T00:00:00\",\"2015-01-28T00:00:00\",\"2015-01-29T00:00:00\",\"2015-01-30T00:00:00\",\"2015-01-31T00:00:00\",\"2015-02-01T00:00:00\",\"2015-02-02T00:00:00\",\"2015-02-03T00:00:00\",\"2015-02-04T00:00:00\",\"2015-02-05T00:00:00\",\"2015-02-06T00:00:00\",\"2015-02-07T00:00:00\",\"2015-02-08T00:00:00\",\"2015-02-09T00:00:00\",\"2015-02-10T00:00:00\",\"2015-02-11T00:00:00\",\"2015-02-12T00:00:00\",\"2015-02-13T00:00:00\",\"2015-02-14T00:00:00\",\"2015-02-15T00:00:00\",\"2015-02-16T00:00:00\",\"2015-02-17T00:00:00\",\"2015-02-18T00:00:00\",\"2015-02-19T00:00:00\",\"2015-02-20T00:00:00\",\"2015-02-21T00:00:00\",\"2015-02-22T00:00:00\",\"2015-02-23T00:00:00\",\"2015-02-24T00:00:00\",\"2015-02-25T00:00:00\",\"2015-02-26T00:00:00\",\"2015-02-27T00:00:00\",\"2015-02-28T00:00:00\",\"2015-03-01T00:00:00\",\"2015-03-02T00:00:00\",\"2015-03-03T00:00:00\",\"2015-03-04T00:00:00\",\"2015-03-05T00:00:00\",\"2015-03-06T00:00:00\",\"2015-03-07T00:00:00\",\"2015-03-08T00:00:00\",\"2015-03-09T00:00:00\",\"2015-03-10T00:00:00\",\"2015-03-11T00:00:00\",\"2015-03-12T00:00:00\",\"2015-03-13T00:00:00\",\"2015-03-14T00:00:00\",\"2015-03-15T00:00:00\",\"2015-03-16T00:00:00\",\"2015-03-17T00:00:00\",\"2015-03-18T00:00:00\",\"2015-03-19T00:00:00\",\"2015-03-20T00:00:00\",\"2015-03-21T00:00:00\",\"2015-03-22T00:00:00\",\"2015-03-23T00:00:00\",\"2015-03-24T00:00:00\",\"2015-03-25T00:00:00\",\"2015-03-26T00:00:00\",\"2015-03-27T00:00:00\",\"2015-03-28T00:00:00\",\"2015-03-29T00:00:00\",\"2015-03-30T00:00:00\",\"2015-03-31T00:00:00\",\"2015-04-01T00:00:00\",\"2015-04-02T00:00:00\",\"2015-04-03T00:00:00\",\"2015-04-04T00:00:00\",\"2015-04-05T00:00:00\",\"2015-04-06T00:00:00\",\"2015-04-07T00:00:00\",\"2015-04-08T00:00:00\",\"2015-04-09T00:00:00\",\"2015-04-10T00:00:00\",\"2015-04-11T00:00:00\",\"2015-04-12T00:00:00\",\"2015-04-13T00:00:00\",\"2015-04-14T00:00:00\",\"2015-04-15T00:00:00\",\"2015-04-16T00:00:00\",\"2015-04-17T00:00:00\",\"2015-04-18T00:00:00\",\"2015-04-19T00:00:00\",\"2015-04-20T00:00:00\",\"2015-04-21T00:00:00\",\"2015-04-22T00:00:00\",\"2015-04-23T00:00:00\",\"2015-04-24T00:00:00\",\"2015-04-25T00:00:00\",\"2015-04-26T00:00:00\",\"2015-04-27T00:00:00\",\"2015-04-28T00:00:00\",\"2015-04-29T00:00:00\",\"2015-04-30T00:00:00\",\"2015-05-01T00:00:00\",\"2015-05-02T00:00:00\",\"2015-05-03T00:00:00\",\"2015-05-04T00:00:00\",\"2015-05-05T00:00:00\",\"2015-05-06T00:00:00\",\"2015-05-07T00:00:00\",\"2015-05-08T00:00:00\",\"2015-05-09T00:00:00\",\"2015-05-10T00:00:00\",\"2015-05-11T00:00:00\",\"2015-05-12T00:00:00\",\"2015-05-13T00:00:00\",\"2015-05-14T00:00:00\",\"2015-05-15T00:00:00\",\"2015-05-16T00:00:00\",\"2015-05-17T00:00:00\",\"2015-05-18T00:00:00\",\"2015-05-19T00:00:00\",\"2015-05-20T00:00:00\",\"2015-05-21T00:00:00\",\"2015-05-22T00:00:00\",\"2015-05-23T00:00:00\",\"2015-05-24T00:00:00\",\"2015-05-25T00:00:00\",\"2015-05-26T00:00:00\",\"2015-05-27T00:00:00\",\"2015-05-28T00:00:00\",\"2015-05-29T00:00:00\",\"2015-05-30T00:00:00\",\"2015-05-31T00:00:00\",\"2015-06-01T00:00:00\",\"2015-06-02T00:00:00\",\"2015-06-03T00:00:00\",\"2015-06-04T00:00:00\",\"2015-06-05T00:00:00\",\"2015-06-06T00:00:00\",\"2015-06-07T00:00:00\",\"2015-06-08T00:00:00\",\"2015-06-09T00:00:00\",\"2015-06-10T00:00:00\",\"2015-06-11T00:00:00\",\"2015-06-12T00:00:00\",\"2015-06-13T00:00:00\",\"2015-06-14T00:00:00\",\"2015-06-15T00:00:00\",\"2015-06-16T00:00:00\",\"2015-06-17T00:00:00\",\"2015-06-18T00:00:00\",\"2015-06-19T00:00:00\",\"2015-06-20T00:00:00\",\"2015-06-21T00:00:00\",\"2015-06-22T00:00:00\",\"2015-06-23T00:00:00\",\"2015-06-24T00:00:00\",\"2015-06-25T00:00:00\",\"2015-06-26T00:00:00\",\"2015-06-27T00:00:00\",\"2015-06-28T00:00:00\",\"2015-06-29T00:00:00\",\"2015-06-30T00:00:00\",\"2015-07-01T00:00:00\",\"2015-07-02T00:00:00\",\"2015-07-03T00:00:00\",\"2015-07-04T00:00:00\",\"2015-07-05T00:00:00\",\"2015-07-06T00:00:00\",\"2015-07-07T00:00:00\",\"2015-07-08T00:00:00\",\"2015-07-09T00:00:00\",\"2015-07-10T00:00:00\",\"2015-07-11T00:00:00\",\"2015-07-12T00:00:00\",\"2015-07-13T00:00:00\",\"2015-07-14T00:00:00\",\"2015-07-15T00:00:00\",\"2015-07-16T00:00:00\",\"2015-07-17T00:00:00\",\"2015-07-18T00:00:00\",\"2015-07-19T00:00:00\",\"2015-07-20T00:00:00\",\"2015-07-21T00:00:00\",\"2015-07-22T00:00:00\",\"2015-07-23T00:00:00\",\"2015-07-24T00:00:00\",\"2015-07-25T00:00:00\",\"2015-07-26T00:00:00\",\"2015-07-27T00:00:00\",\"2015-07-28T00:00:00\",\"2015-07-29T00:00:00\",\"2015-07-30T00:00:00\",\"2015-07-31T00:00:00\",\"2015-08-01T00:00:00\",\"2015-08-02T00:00:00\",\"2015-08-03T00:00:00\",\"2015-08-04T00:00:00\",\"2015-08-05T00:00:00\",\"2015-08-06T00:00:00\",\"2015-08-07T00:00:00\",\"2015-08-08T00:00:00\",\"2015-08-09T00:00:00\",\"2015-08-10T00:00:00\",\"2015-08-11T00:00:00\",\"2015-08-12T00:00:00\",\"2015-08-13T00:00:00\",\"2015-08-14T00:00:00\",\"2015-08-15T00:00:00\",\"2015-08-16T00:00:00\",\"2015-08-17T00:00:00\",\"2015-08-18T00:00:00\",\"2015-08-19T00:00:00\",\"2015-08-20T00:00:00\",\"2015-08-21T00:00:00\",\"2015-08-22T00:00:00\",\"2015-08-23T00:00:00\",\"2015-08-24T00:00:00\",\"2015-08-25T00:00:00\",\"2015-08-26T00:00:00\",\"2015-08-27T00:00:00\",\"2015-08-28T00:00:00\",\"2015-08-29T00:00:00\",\"2015-08-30T00:00:00\",\"2015-08-31T00:00:00\",\"2015-09-01T00:00:00\",\"2015-09-02T00:00:00\",\"2015-09-03T00:00:00\",\"2015-09-04T00:00:00\",\"2015-09-05T00:00:00\",\"2015-09-06T00:00:00\",\"2015-09-07T00:00:00\",\"2015-09-08T00:00:00\",\"2015-09-09T00:00:00\",\"2015-09-10T00:00:00\",\"2015-09-11T00:00:00\",\"2015-09-12T00:00:00\",\"2015-09-13T00:00:00\",\"2015-09-14T00:00:00\",\"2015-09-15T00:00:00\",\"2015-09-16T00:00:00\",\"2015-09-17T00:00:00\",\"2015-09-18T00:00:00\",\"2015-09-19T00:00:00\",\"2015-09-20T00:00:00\",\"2015-09-21T00:00:00\",\"2015-09-22T00:00:00\",\"2015-09-23T00:00:00\",\"2015-09-24T00:00:00\",\"2015-09-25T00:00:00\",\"2015-09-26T00:00:00\",\"2015-09-27T00:00:00\",\"2015-09-28T00:00:00\",\"2015-09-29T00:00:00\",\"2015-09-30T00:00:00\"],\"y\":[310.0,431.0,425.0,481.0,444.0,213.0,221.0,210.0,206.0,147.0,269.0,270.0,141.0,109.0,157.0,99.0,80.0,93.0,111.0,87.0,105.0,198.0,107.0,60.0,105.0,113.0,52.0,42.0,65.0,80.0,68.0,145.0,178.0,97.0,108.0,254.0,102.0,54.0,113.0,72.0,61.0,50.0,89.0,100.0,65.0,96.0,263.0,188.0,144.0,118.0,163.0,136.0,319.0,136.0,266.0,177.0,252.0,269.0,136.0,324.0,344.0,346.0,179.0,244.0,362.0,287.0,290.0,294.0,167.0,183.0,153.0,143.0,121.0,128.0,112.0,105.0,162.0,169.0,231.0,148.0,113.0,164.0,100.0,135.0,138.0,85.0,104.0,128.0,124.0,128.0,238.0,103.0,142.0,67.0,163.0,136.0,94.0,166.0,286.0,171.0,112.0,165.0,491.0,123.0,119.0,179.0,193.0,208.0,162.0,151.0,197.0,97.0,127.0,455.0,174.0,166.0,354.0,124.0,92.0,104.0,99.0,72.0,106.0,122.0,115.0,141.0,171.0,205.0,316.0,317.0,294.0,116.0,299.0,131.0,136.0,81.0,262.0,175.0,163.0,123.0,272.0,145.0,122.0,124.0,287.0,259.0,244.0,221.0,244.0,261.0,138.0,110.0,112.0,105.0,124.0,163.0,117.0,175.0,227.0,190.0,198.0,185.0,189.0,193.0,224.0,289.0,343.0,473.0,301.0,183.0,143.0,296.0,218.0,183.0,186.0,173.0,282.0,254.0,188.0,190.0,208.0,191.0,150.0,153.0,84.0,123.0,168.0,182.0,287.0,161.0,115.0,98.0,129.0,184.0,151.0,213.0,157.0,132.0,159.0,135.0,146.0,171.0,141.0,134.0,106.0,103.0,140.0,121.0,127.0,89.0,210.0,166.0,140.0,145.0,178.0,141.0,186.0,145.0,189.0,131.0,129.0,263.0,209.0,124.0,142.0,133.0,128.0,140.0,180.0,126.0,222.0,304.0,114.0,64.0,83.0,104.0,112.0,99.0,70.0,68.0,52.0,94.0,63.0,49.0,65.0,104.0,99.0,64.0,66.0,74.0,124.0,184.0,133.0,104.0,44.0,93.0,68.0,85.0,63.0,348.0,92.0,52.0,99.0,66.0,45.0,62.0,54.0,82.0,41.0,71.0,77.0,40.0,64.0],\"type\":\"scatter\"},{\"marker\":{\"color\":\"mediumslateblue\"},\"name\":\"LAX\",\"visible\":\"legendonly\",\"x\":[\"2015-01-01T00:00:00\",\"2015-01-02T00:00:00\",\"2015-01-03T00:00:00\",\"2015-01-04T00:00:00\",\"2015-01-05T00:00:00\",\"2015-01-06T00:00:00\",\"2015-01-07T00:00:00\",\"2015-01-08T00:00:00\",\"2015-01-09T00:00:00\",\"2015-01-10T00:00:00\",\"2015-01-11T00:00:00\",\"2015-01-12T00:00:00\",\"2015-01-13T00:00:00\",\"2015-01-14T00:00:00\",\"2015-01-15T00:00:00\",\"2015-01-16T00:00:00\",\"2015-01-17T00:00:00\",\"2015-01-18T00:00:00\",\"2015-01-19T00:00:00\",\"2015-01-20T00:00:00\",\"2015-01-21T00:00:00\",\"2015-01-22T00:00:00\",\"2015-01-23T00:00:00\",\"2015-01-24T00:00:00\",\"2015-01-25T00:00:00\",\"2015-01-26T00:00:00\",\"2015-01-27T00:00:00\",\"2015-01-28T00:00:00\",\"2015-01-29T00:00:00\",\"2015-01-30T00:00:00\",\"2015-01-31T00:00:00\",\"2015-02-01T00:00:00\",\"2015-02-02T00:00:00\",\"2015-02-03T00:00:00\",\"2015-02-04T00:00:00\",\"2015-02-05T00:00:00\",\"2015-02-06T00:00:00\",\"2015-02-07T00:00:00\",\"2015-02-08T00:00:00\",\"2015-02-09T00:00:00\",\"2015-02-10T00:00:00\",\"2015-02-11T00:00:00\",\"2015-02-12T00:00:00\",\"2015-02-13T00:00:00\",\"2015-02-14T00:00:00\",\"2015-02-15T00:00:00\",\"2015-02-16T00:00:00\",\"2015-02-17T00:00:00\",\"2015-02-18T00:00:00\",\"2015-02-19T00:00:00\",\"2015-02-20T00:00:00\",\"2015-02-21T00:00:00\",\"2015-02-22T00:00:00\",\"2015-02-23T00:00:00\",\"2015-02-24T00:00:00\",\"2015-02-25T00:00:00\",\"2015-02-26T00:00:00\",\"2015-02-27T00:00:00\",\"2015-02-28T00:00:00\",\"2015-03-01T00:00:00\",\"2015-03-02T00:00:00\",\"2015-03-03T00:00:00\",\"2015-03-04T00:00:00\",\"2015-03-05T00:00:00\",\"2015-03-06T00:00:00\",\"2015-03-07T00:00:00\",\"2015-03-08T00:00:00\",\"2015-03-09T00:00:00\",\"2015-03-10T00:00:00\",\"2015-03-11T00:00:00\",\"2015-03-12T00:00:00\",\"2015-03-13T00:00:00\",\"2015-03-14T00:00:00\",\"2015-03-15T00:00:00\",\"2015-03-16T00:00:00\",\"2015-03-17T00:00:00\",\"2015-03-18T00:00:00\",\"2015-03-19T00:00:00\",\"2015-03-20T00:00:00\",\"2015-03-21T00:00:00\",\"2015-03-22T00:00:00\",\"2015-03-23T00:00:00\",\"2015-03-24T00:00:00\",\"2015-03-25T00:00:00\",\"2015-03-26T00:00:00\",\"2015-03-27T00:00:00\",\"2015-03-28T00:00:00\",\"2015-03-29T00:00:00\",\"2015-03-30T00:00:00\",\"2015-03-31T00:00:00\",\"2015-04-01T00:00:00\",\"2015-04-02T00:00:00\",\"2015-04-03T00:00:00\",\"2015-04-04T00:00:00\",\"2015-04-05T00:00:00\",\"2015-04-06T00:00:00\",\"2015-04-07T00:00:00\",\"2015-04-08T00:00:00\",\"2015-04-09T00:00:00\",\"2015-04-10T00:00:00\",\"2015-04-11T00:00:00\",\"2015-04-12T00:00:00\",\"2015-04-13T00:00:00\",\"2015-04-14T00:00:00\",\"2015-04-15T00:00:00\",\"2015-04-16T00:00:00\",\"2015-04-17T00:00:00\",\"2015-04-18T00:00:00\",\"2015-04-19T00:00:00\",\"2015-04-20T00:00:00\",\"2015-04-21T00:00:00\",\"2015-04-22T00:00:00\",\"2015-04-23T00:00:00\",\"2015-04-24T00:00:00\",\"2015-04-25T00:00:00\",\"2015-04-26T00:00:00\",\"2015-04-27T00:00:00\",\"2015-04-28T00:00:00\",\"2015-04-29T00:00:00\",\"2015-04-30T00:00:00\",\"2015-05-01T00:00:00\",\"2015-05-02T00:00:00\",\"2015-05-03T00:00:00\",\"2015-05-04T00:00:00\",\"2015-05-05T00:00:00\",\"2015-05-06T00:00:00\",\"2015-05-07T00:00:00\",\"2015-05-08T00:00:00\",\"2015-05-09T00:00:00\",\"2015-05-10T00:00:00\",\"2015-05-11T00:00:00\",\"2015-05-12T00:00:00\",\"2015-05-13T00:00:00\",\"2015-05-14T00:00:00\",\"2015-05-15T00:00:00\",\"2015-05-16T00:00:00\",\"2015-05-17T00:00:00\",\"2015-05-18T00:00:00\",\"2015-05-19T00:00:00\",\"2015-05-20T00:00:00\",\"2015-05-21T00:00:00\",\"2015-05-22T00:00:00\",\"2015-05-23T00:00:00\",\"2015-05-24T00:00:00\",\"2015-05-25T00:00:00\",\"2015-05-26T00:00:00\",\"2015-05-27T00:00:00\",\"2015-05-28T00:00:00\",\"2015-05-29T00:00:00\",\"2015-05-30T00:00:00\",\"2015-05-31T00:00:00\",\"2015-06-01T00:00:00\",\"2015-06-02T00:00:00\",\"2015-06-03T00:00:00\",\"2015-06-04T00:00:00\",\"2015-06-05T00:00:00\",\"2015-06-06T00:00:00\",\"2015-06-07T00:00:00\",\"2015-06-08T00:00:00\",\"2015-06-09T00:00:00\",\"2015-06-10T00:00:00\",\"2015-06-11T00:00:00\",\"2015-06-12T00:00:00\",\"2015-06-13T00:00:00\",\"2015-06-14T00:00:00\",\"2015-06-15T00:00:00\",\"2015-06-16T00:00:00\",\"2015-06-17T00:00:00\",\"2015-06-18T00:00:00\",\"2015-06-19T00:00:00\",\"2015-06-20T00:00:00\",\"2015-06-21T00:00:00\",\"2015-06-22T00:00:00\",\"2015-06-23T00:00:00\",\"2015-06-24T00:00:00\",\"2015-06-25T00:00:00\",\"2015-06-26T00:00:00\",\"2015-06-27T00:00:00\",\"2015-06-28T00:00:00\",\"2015-06-29T00:00:00\",\"2015-06-30T00:00:00\",\"2015-07-01T00:00:00\",\"2015-07-02T00:00:00\",\"2015-07-03T00:00:00\",\"2015-07-04T00:00:00\",\"2015-07-05T00:00:00\",\"2015-07-06T00:00:00\",\"2015-07-07T00:00:00\",\"2015-07-08T00:00:00\",\"2015-07-09T00:00:00\",\"2015-07-10T00:00:00\",\"2015-07-11T00:00:00\",\"2015-07-12T00:00:00\",\"2015-07-13T00:00:00\",\"2015-07-14T00:00:00\",\"2015-07-15T00:00:00\",\"2015-07-16T00:00:00\",\"2015-07-17T00:00:00\",\"2015-07-18T00:00:00\",\"2015-07-19T00:00:00\",\"2015-07-20T00:00:00\",\"2015-07-21T00:00:00\",\"2015-07-22T00:00:00\",\"2015-07-23T00:00:00\",\"2015-07-24T00:00:00\",\"2015-07-25T00:00:00\",\"2015-07-26T00:00:00\",\"2015-07-27T00:00:00\",\"2015-07-28T00:00:00\",\"2015-07-29T00:00:00\",\"2015-07-30T00:00:00\",\"2015-07-31T00:00:00\",\"2015-08-01T00:00:00\",\"2015-08-02T00:00:00\",\"2015-08-03T00:00:00\",\"2015-08-04T00:00:00\",\"2015-08-05T00:00:00\",\"2015-08-06T00:00:00\",\"2015-08-07T00:00:00\",\"2015-08-08T00:00:00\",\"2015-08-09T00:00:00\",\"2015-08-10T00:00:00\",\"2015-08-11T00:00:00\",\"2015-08-12T00:00:00\",\"2015-08-13T00:00:00\",\"2015-08-14T00:00:00\",\"2015-08-15T00:00:00\",\"2015-08-16T00:00:00\",\"2015-08-17T00:00:00\",\"2015-08-18T00:00:00\",\"2015-08-19T00:00:00\",\"2015-08-20T00:00:00\",\"2015-08-21T00:00:00\",\"2015-08-22T00:00:00\",\"2015-08-23T00:00:00\",\"2015-08-24T00:00:00\",\"2015-08-25T00:00:00\",\"2015-08-26T00:00:00\",\"2015-08-27T00:00:00\",\"2015-08-28T00:00:00\",\"2015-08-29T00:00:00\",\"2015-08-30T00:00:00\",\"2015-08-31T00:00:00\",\"2015-09-01T00:00:00\",\"2015-09-02T00:00:00\",\"2015-09-03T00:00:00\",\"2015-09-04T00:00:00\",\"2015-09-05T00:00:00\",\"2015-09-06T00:00:00\",\"2015-09-07T00:00:00\",\"2015-09-08T00:00:00\",\"2015-09-09T00:00:00\",\"2015-09-10T00:00:00\",\"2015-09-11T00:00:00\",\"2015-09-12T00:00:00\",\"2015-09-13T00:00:00\",\"2015-09-14T00:00:00\",\"2015-09-15T00:00:00\",\"2015-09-16T00:00:00\",\"2015-09-17T00:00:00\",\"2015-09-18T00:00:00\",\"2015-09-19T00:00:00\",\"2015-09-20T00:00:00\",\"2015-09-21T00:00:00\",\"2015-09-22T00:00:00\",\"2015-09-23T00:00:00\",\"2015-09-24T00:00:00\",\"2015-09-25T00:00:00\",\"2015-09-26T00:00:00\",\"2015-09-27T00:00:00\",\"2015-09-28T00:00:00\",\"2015-09-29T00:00:00\",\"2015-09-30T00:00:00\"],\"y\":[115.0,192.0,220.0,271.0,159.0,114.0,94.0,90.0,95.0,74.0,198.0,135.0,70.0,53.0,85.0,102.0,47.0,73.0,85.0,93.0,51.0,58.0,62.0,32.0,65.0,50.0,28.0,49.0,69.0,105.0,37.0,72.0,112.0,79.0,86.0,245.0,107.0,50.0,125.0,101.0,48.0,33.0,75.0,123.0,83.0,81.0,116.0,78.0,83.0,134.0,150.0,104.0,183.0,202.0,71.0,79.0,145.0,170.0,120.0,223.0,252.0,142.0,107.0,115.0,195.0,69.0,169.0,118.0,97.0,84.0,143.0,167.0,50.0,146.0,96.0,85.0,128.0,97.0,159.0,82.0,195.0,164.0,80.0,104.0,118.0,140.0,80.0,193.0,124.0,86.0,121.0,218.0,159.0,98.0,135.0,137.0,133.0,131.0,163.0,143.0,59.0,64.0,114.0,73.0,85.0,110.0,99.0,56.0,92.0,146.0,69.0,80.0,123.0,151.0,109.0,81.0,81.0,51.0,55.0,74.0,88.0,55.0,110.0,131.0,59.0,90.0,114.0,107.0,96.0,132.0,172.0,112.0,113.0,180.0,146.0,82.0,141.0,184.0,128.0,140.0,160.0,157.0,45.0,55.0,89.0,126.0,156.0,100.0,103.0,62.0,126.0,152.0,109.0,107.0,116.0,149.0,84.0,149.0,159.0,140.0,152.0,192.0,164.0,131.0,136.0,202.0,172.0,145.0,231.0,208.0,135.0,165.0,151.0,171.0,157.0,136.0,153.0,140.0,168.0,108.0,136.0,158.0,194.0,76.0,34.0,118.0,194.0,177.0,251.0,210.0,154.0,88.0,163.0,173.0,239.0,171.0,173.0,142.0,302.0,246.0,173.0,197.0,163.0,197.0,136.0,93.0,171.0,152.0,135.0,209.0,234.0,171.0,130.0,179.0,179.0,215.0,164.0,197.0,173.0,102.0,158.0,202.0,186.0,153.0,180.0,163.0,82.0,159.0,184.0,117.0,135.0,219.0,176.0,67.0,135.0,116.0,98.0,87.0,88.0,75.0,65.0,86.0,87.0,50.0,81.0,60.0,101.0,44.0,49.0,74.0,98.0,72.0,97.0,92.0,44.0,164.0,111.0,115.0,107.0,125.0,104.0,49.0,77.0,195.0,53.0,60.0,64.0,93.0,84.0,128.0,57.0,58.0,80.0],\"type\":\"scatter\"},{\"marker\":{\"color\":\"grey\"},\"name\":\"DEN\",\"visible\":\"legendonly\",\"x\":[\"2015-01-01T00:00:00\",\"2015-01-02T00:00:00\",\"2015-01-03T00:00:00\",\"2015-01-04T00:00:00\",\"2015-01-05T00:00:00\",\"2015-01-06T00:00:00\",\"2015-01-07T00:00:00\",\"2015-01-08T00:00:00\",\"2015-01-09T00:00:00\",\"2015-01-10T00:00:00\",\"2015-01-11T00:00:00\",\"2015-01-12T00:00:00\",\"2015-01-13T00:00:00\",\"2015-01-14T00:00:00\",\"2015-01-15T00:00:00\",\"2015-01-16T00:00:00\",\"2015-01-17T00:00:00\",\"2015-01-18T00:00:00\",\"2015-01-19T00:00:00\",\"2015-01-20T00:00:00\",\"2015-01-21T00:00:00\",\"2015-01-22T00:00:00\",\"2015-01-23T00:00:00\",\"2015-01-24T00:00:00\",\"2015-01-25T00:00:00\",\"2015-01-26T00:00:00\",\"2015-01-27T00:00:00\",\"2015-01-28T00:00:00\",\"2015-01-29T00:00:00\",\"2015-01-30T00:00:00\",\"2015-01-31T00:00:00\",\"2015-02-01T00:00:00\",\"2015-02-02T00:00:00\",\"2015-02-03T00:00:00\",\"2015-02-04T00:00:00\",\"2015-02-05T00:00:00\",\"2015-02-06T00:00:00\",\"2015-02-07T00:00:00\",\"2015-02-08T00:00:00\",\"2015-02-09T00:00:00\",\"2015-02-10T00:00:00\",\"2015-02-11T00:00:00\",\"2015-02-12T00:00:00\",\"2015-02-13T00:00:00\",\"2015-02-14T00:00:00\",\"2015-02-15T00:00:00\",\"2015-02-16T00:00:00\",\"2015-02-17T00:00:00\",\"2015-02-18T00:00:00\",\"2015-02-19T00:00:00\",\"2015-02-20T00:00:00\",\"2015-02-21T00:00:00\",\"2015-02-22T00:00:00\",\"2015-02-23T00:00:00\",\"2015-02-24T00:00:00\",\"2015-02-25T00:00:00\",\"2015-02-26T00:00:00\",\"2015-02-27T00:00:00\",\"2015-02-28T00:00:00\",\"2015-03-01T00:00:00\",\"2015-03-02T00:00:00\",\"2015-03-03T00:00:00\",\"2015-03-04T00:00:00\",\"2015-03-05T00:00:00\",\"2015-03-06T00:00:00\",\"2015-03-07T00:00:00\",\"2015-03-08T00:00:00\",\"2015-03-09T00:00:00\",\"2015-03-10T00:00:00\",\"2015-03-11T00:00:00\",\"2015-03-12T00:00:00\",\"2015-03-13T00:00:00\",\"2015-03-14T00:00:00\",\"2015-03-15T00:00:00\",\"2015-03-16T00:00:00\",\"2015-03-17T00:00:00\",\"2015-03-18T00:00:00\",\"2015-03-19T00:00:00\",\"2015-03-20T00:00:00\",\"2015-03-21T00:00:00\",\"2015-03-22T00:00:00\",\"2015-03-23T00:00:00\",\"2015-03-24T00:00:00\",\"2015-03-25T00:00:00\",\"2015-03-26T00:00:00\",\"2015-03-27T00:00:00\",\"2015-03-28T00:00:00\",\"2015-03-29T00:00:00\",\"2015-03-30T00:00:00\",\"2015-03-31T00:00:00\",\"2015-04-01T00:00:00\",\"2015-04-02T00:00:00\",\"2015-04-03T00:00:00\",\"2015-04-04T00:00:00\",\"2015-04-05T00:00:00\",\"2015-04-06T00:00:00\",\"2015-04-07T00:00:00\",\"2015-04-08T00:00:00\",\"2015-04-09T00:00:00\",\"2015-04-10T00:00:00\",\"2015-04-11T00:00:00\",\"2015-04-12T00:00:00\",\"2015-04-13T00:00:00\",\"2015-04-14T00:00:00\",\"2015-04-15T00:00:00\",\"2015-04-16T00:00:00\",\"2015-04-17T00:00:00\",\"2015-04-18T00:00:00\",\"2015-04-19T00:00:00\",\"2015-04-20T00:00:00\",\"2015-04-21T00:00:00\",\"2015-04-22T00:00:00\",\"2015-04-23T00:00:00\",\"2015-04-24T00:00:00\",\"2015-04-25T00:00:00\",\"2015-04-26T00:00:00\",\"2015-04-27T00:00:00\",\"2015-04-28T00:00:00\",\"2015-04-29T00:00:00\",\"2015-04-30T00:00:00\",\"2015-05-01T00:00:00\",\"2015-05-02T00:00:00\",\"2015-05-03T00:00:00\",\"2015-05-04T00:00:00\",\"2015-05-05T00:00:00\",\"2015-05-06T00:00:00\",\"2015-05-07T00:00:00\",\"2015-05-08T00:00:00\",\"2015-05-09T00:00:00\",\"2015-05-10T00:00:00\",\"2015-05-11T00:00:00\",\"2015-05-12T00:00:00\",\"2015-05-13T00:00:00\",\"2015-05-14T00:00:00\",\"2015-05-15T00:00:00\",\"2015-05-16T00:00:00\",\"2015-05-17T00:00:00\",\"2015-05-18T00:00:00\",\"2015-05-19T00:00:00\",\"2015-05-20T00:00:00\",\"2015-05-21T00:00:00\",\"2015-05-22T00:00:00\",\"2015-05-23T00:00:00\",\"2015-05-24T00:00:00\",\"2015-05-25T00:00:00\",\"2015-05-26T00:00:00\",\"2015-05-27T00:00:00\",\"2015-05-28T00:00:00\",\"2015-05-29T00:00:00\",\"2015-05-30T00:00:00\",\"2015-05-31T00:00:00\",\"2015-06-01T00:00:00\",\"2015-06-02T00:00:00\",\"2015-06-03T00:00:00\",\"2015-06-04T00:00:00\",\"2015-06-05T00:00:00\",\"2015-06-06T00:00:00\",\"2015-06-07T00:00:00\",\"2015-06-08T00:00:00\",\"2015-06-09T00:00:00\",\"2015-06-10T00:00:00\",\"2015-06-11T00:00:00\",\"2015-06-12T00:00:00\",\"2015-06-13T00:00:00\",\"2015-06-14T00:00:00\",\"2015-06-15T00:00:00\",\"2015-06-16T00:00:00\",\"2015-06-17T00:00:00\",\"2015-06-18T00:00:00\",\"2015-06-19T00:00:00\",\"2015-06-20T00:00:00\",\"2015-06-21T00:00:00\",\"2015-06-22T00:00:00\",\"2015-06-23T00:00:00\",\"2015-06-24T00:00:00\",\"2015-06-25T00:00:00\",\"2015-06-26T00:00:00\",\"2015-06-27T00:00:00\",\"2015-06-28T00:00:00\",\"2015-06-29T00:00:00\",\"2015-06-30T00:00:00\",\"2015-07-01T00:00:00\",\"2015-07-02T00:00:00\",\"2015-07-03T00:00:00\",\"2015-07-04T00:00:00\",\"2015-07-05T00:00:00\",\"2015-07-06T00:00:00\",\"2015-07-07T00:00:00\",\"2015-07-08T00:00:00\",\"2015-07-09T00:00:00\",\"2015-07-10T00:00:00\",\"2015-07-11T00:00:00\",\"2015-07-12T00:00:00\",\"2015-07-13T00:00:00\",\"2015-07-14T00:00:00\",\"2015-07-15T00:00:00\",\"2015-07-16T00:00:00\",\"2015-07-17T00:00:00\",\"2015-07-18T00:00:00\",\"2015-07-19T00:00:00\",\"2015-07-20T00:00:00\",\"2015-07-21T00:00:00\",\"2015-07-22T00:00:00\",\"2015-07-23T00:00:00\",\"2015-07-24T00:00:00\",\"2015-07-25T00:00:00\",\"2015-07-26T00:00:00\",\"2015-07-27T00:00:00\",\"2015-07-28T00:00:00\",\"2015-07-29T00:00:00\",\"2015-07-30T00:00:00\",\"2015-07-31T00:00:00\",\"2015-08-01T00:00:00\",\"2015-08-02T00:00:00\",\"2015-08-03T00:00:00\",\"2015-08-04T00:00:00\",\"2015-08-05T00:00:00\",\"2015-08-06T00:00:00\",\"2015-08-07T00:00:00\",\"2015-08-08T00:00:00\",\"2015-08-09T00:00:00\",\"2015-08-10T00:00:00\",\"2015-08-11T00:00:00\",\"2015-08-12T00:00:00\",\"2015-08-13T00:00:00\",\"2015-08-14T00:00:00\",\"2015-08-15T00:00:00\",\"2015-08-16T00:00:00\",\"2015-08-17T00:00:00\",\"2015-08-18T00:00:00\",\"2015-08-19T00:00:00\",\"2015-08-20T00:00:00\",\"2015-08-21T00:00:00\",\"2015-08-22T00:00:00\",\"2015-08-23T00:00:00\",\"2015-08-24T00:00:00\",\"2015-08-25T00:00:00\",\"2015-08-26T00:00:00\",\"2015-08-27T00:00:00\",\"2015-08-28T00:00:00\",\"2015-08-29T00:00:00\",\"2015-08-30T00:00:00\",\"2015-08-31T00:00:00\",\"2015-09-01T00:00:00\",\"2015-09-02T00:00:00\",\"2015-09-03T00:00:00\",\"2015-09-04T00:00:00\",\"2015-09-05T00:00:00\",\"2015-09-06T00:00:00\",\"2015-09-07T00:00:00\",\"2015-09-08T00:00:00\",\"2015-09-09T00:00:00\",\"2015-09-10T00:00:00\",\"2015-09-11T00:00:00\",\"2015-09-12T00:00:00\",\"2015-09-13T00:00:00\",\"2015-09-14T00:00:00\",\"2015-09-15T00:00:00\",\"2015-09-16T00:00:00\",\"2015-09-17T00:00:00\",\"2015-09-18T00:00:00\",\"2015-09-19T00:00:00\",\"2015-09-20T00:00:00\",\"2015-09-21T00:00:00\",\"2015-09-22T00:00:00\",\"2015-09-23T00:00:00\",\"2015-09-24T00:00:00\",\"2015-09-25T00:00:00\",\"2015-09-26T00:00:00\",\"2015-09-27T00:00:00\",\"2015-09-28T00:00:00\",\"2015-09-29T00:00:00\",\"2015-09-30T00:00:00\"],\"y\":[319.0,333.0,375.0,468.0,383.0,235.0,304.0,171.0,247.0,96.0,186.0,209.0,127.0,89.0,96.0,85.0,73.0,59.0,91.0,119.0,277.0,90.0,69.0,41.0,77.0,57.0,34.0,83.0,81.0,117.0,52.0,183.0,118.0,105.0,271.0,124.0,64.0,28.0,67.0,97.0,71.0,67.0,97.0,87.0,90.0,139.0,359.0,181.0,168.0,123.0,153.0,168.0,278.0,267.0,133.0,223.0,301.0,226.0,239.0,305.0,246.0,315.0,227.0,167.0,138.0,90.0,88.0,101.0,71.0,63.0,64.0,71.0,84.0,77.0,53.0,124.0,76.0,88.0,104.0,80.0,87.0,173.0,88.0,235.0,126.0,85.0,66.0,75.0,80.0,56.0,107.0,156.0,142.0,84.0,81.0,78.0,121.0,140.0,168.0,117.0,52.0,70.0,119.0,84.0,118.0,279.0,299.0,79.0,65.0,139.0,67.0,114.0,153.0,177.0,85.0,93.0,102.0,56.0,52.0,68.0,113.0,77.0,87.0,122.0,84.0,101.0,118.0,138.0,211.0,187.0,156.0,68.0,55.0,81.0,129.0,77.0,113.0,170.0,178.0,177.0,129.0,116.0,161.0,53.0,80.0,123.0,148.0,148.0,105.0,53.0,127.0,172.0,128.0,168.0,230.0,302.0,90.0,189.0,149.0,183.0,193.0,241.0,227.0,189.0,119.0,213.0,282.0,237.0,214.0,160.0,113.0,134.0,156.0,165.0,246.0,203.0,154.0,114.0,184.0,97.0,161.0,182.0,233.0,76.0,44.0,124.0,230.0,214.0,333.0,269.0,169.0,88.0,141.0,188.0,269.0,226.0,149.0,140.0,221.0,151.0,97.0,217.0,107.0,141.0,107.0,103.0,105.0,123.0,100.0,107.0,178.0,162.0,148.0,125.0,123.0,153.0,124.0,118.0,155.0,94.0,125.0,155.0,226.0,95.0,136.0,150.0,87.0,140.0,181.0,103.0,130.0,189.0,119.0,69.0,116.0,96.0,113.0,95.0,98.0,59.0,37.0,56.0,147.0,69.0,55.0,90.0,93.0,28.0,30.0,59.0,124.0,75.0,126.0,130.0,34.0,61.0,65.0,52.0,62.0,110.0,93.0,47.0,60.0,82.0,30.0,95.0,40.0,73.0,39.0,77.0,55.0,101.0,74.0],\"type\":\"scatter\"}],                        {\"template\":{\"data\":{\"histogram2dcontour\":[{\"type\":\"histogram2dcontour\",\"colorbar\":{\"outlinewidth\":0,\"ticks\":\"\"},\"colorscale\":[[0.0,\"#0d0887\"],[0.1111111111111111,\"#46039f\"],[0.2222222222222222,\"#7201a8\"],[0.3333333333333333,\"#9c179e\"],[0.4444444444444444,\"#bd3786\"],[0.5555555555555556,\"#d8576b\"],[0.6666666666666666,\"#ed7953\"],[0.7777777777777778,\"#fb9f3a\"],[0.8888888888888888,\"#fdca26\"],[1.0,\"#f0f921\"]]}],\"choropleth\":[{\"type\":\"choropleth\",\"colorbar\":{\"outlinewidth\":0,\"ticks\":\"\"}}],\"histogram2d\":[{\"type\":\"histogram2d\",\"colorbar\":{\"outlinewidth\":0,\"ticks\":\"\"},\"colorscale\":[[0.0,\"#0d0887\"],[0.1111111111111111,\"#46039f\"],[0.2222222222222222,\"#7201a8\"],[0.3333333333333333,\"#9c179e\"],[0.4444444444444444,\"#bd3786\"],[0.5555555555555556,\"#d8576b\"],[0.6666666666666666,\"#ed7953\"],[0.7777777777777778,\"#fb9f3a\"],[0.8888888888888888,\"#fdca26\"],[1.0,\"#f0f921\"]]}],\"heatmap\":[{\"type\":\"heatmap\",\"colorbar\":{\"outlinewidth\":0,\"ticks\":\"\"},\"colorscale\":[[0.0,\"#0d0887\"],[0.1111111111111111,\"#46039f\"],[0.2222222222222222,\"#7201a8\"],[0.3333333333333333,\"#9c179e\"],[0.4444444444444444,\"#bd3786\"],[0.5555555555555556,\"#d8576b\"],[0.6666666666666666,\"#ed7953\"],[0.7777777777777778,\"#fb9f3a\"],[0.8888888888888888,\"#fdca26\"],[1.0,\"#f0f921\"]]}],\"heatmapgl\":[{\"type\":\"heatmapgl\",\"colorbar\":{\"outlinewidth\":0,\"ticks\":\"\"},\"colorscale\":[[0.0,\"#0d0887\"],[0.1111111111111111,\"#46039f\"],[0.2222222222222222,\"#7201a8\"],[0.3333333333333333,\"#9c179e\"],[0.4444444444444444,\"#bd3786\"],[0.5555555555555556,\"#d8576b\"],[0.6666666666666666,\"#ed7953\"],[0.7777777777777778,\"#fb9f3a\"],[0.8888888888888888,\"#fdca26\"],[1.0,\"#f0f921\"]]}],\"contourcarpet\":[{\"type\":\"contourcarpet\",\"colorbar\":{\"outlinewidth\":0,\"ticks\":\"\"}}],\"contour\":[{\"type\":\"contour\",\"colorbar\":{\"outlinewidth\":0,\"ticks\":\"\"},\"colorscale\":[[0.0,\"#0d0887\"],[0.1111111111111111,\"#46039f\"],[0.2222222222222222,\"#7201a8\"],[0.3333333333333333,\"#9c179e\"],[0.4444444444444444,\"#bd3786\"],[0.5555555555555556,\"#d8576b\"],[0.6666666666666666,\"#ed7953\"],[0.7777777777777778,\"#fb9f3a\"],[0.8888888888888888,\"#fdca26\"],[1.0,\"#f0f921\"]]}],\"surface\":[{\"type\":\"surface\",\"colorbar\":{\"outlinewidth\":0,\"ticks\":\"\"},\"colorscale\":[[0.0,\"#0d0887\"],[0.1111111111111111,\"#46039f\"],[0.2222222222222222,\"#7201a8\"],[0.3333333333333333,\"#9c179e\"],[0.4444444444444444,\"#bd3786\"],[0.5555555555555556,\"#d8576b\"],[0.6666666666666666,\"#ed7953\"],[0.7777777777777778,\"#fb9f3a\"],[0.8888888888888888,\"#fdca26\"],[1.0,\"#f0f921\"]]}],\"mesh3d\":[{\"type\":\"mesh3d\",\"colorbar\":{\"outlinewidth\":0,\"ticks\":\"\"}}],\"scatter\":[{\"fillpattern\":{\"fillmode\":\"overlay\",\"size\":10,\"solidity\":0.2},\"type\":\"scatter\"}],\"parcoords\":[{\"type\":\"parcoords\",\"line\":{\"colorbar\":{\"outlinewidth\":0,\"ticks\":\"\"}}}],\"scatterpolargl\":[{\"type\":\"scatterpolargl\",\"marker\":{\"colorbar\":{\"outlinewidth\":0,\"ticks\":\"\"}}}],\"bar\":[{\"error_x\":{\"color\":\"#2a3f5f\"},\"error_y\":{\"color\":\"#2a3f5f\"},\"marker\":{\"line\":{\"color\":\"#E5ECF6\",\"width\":0.5},\"pattern\":{\"fillmode\":\"overlay\",\"size\":10,\"solidity\":0.2}},\"type\":\"bar\"}],\"scattergeo\":[{\"type\":\"scattergeo\",\"marker\":{\"colorbar\":{\"outlinewidth\":0,\"ticks\":\"\"}}}],\"scatterpolar\":[{\"type\":\"scatterpolar\",\"marker\":{\"colorbar\":{\"outlinewidth\":0,\"ticks\":\"\"}}}],\"histogram\":[{\"marker\":{\"pattern\":{\"fillmode\":\"overlay\",\"size\":10,\"solidity\":0.2}},\"type\":\"histogram\"}],\"scattergl\":[{\"type\":\"scattergl\",\"marker\":{\"colorbar\":{\"outlinewidth\":0,\"ticks\":\"\"}}}],\"scatter3d\":[{\"type\":\"scatter3d\",\"line\":{\"colorbar\":{\"outlinewidth\":0,\"ticks\":\"\"}},\"marker\":{\"colorbar\":{\"outlinewidth\":0,\"ticks\":\"\"}}}],\"scattermapbox\":[{\"type\":\"scattermapbox\",\"marker\":{\"colorbar\":{\"outlinewidth\":0,\"ticks\":\"\"}}}],\"scatterternary\":[{\"type\":\"scatterternary\",\"marker\":{\"colorbar\":{\"outlinewidth\":0,\"ticks\":\"\"}}}],\"scattercarpet\":[{\"type\":\"scattercarpet\",\"marker\":{\"colorbar\":{\"outlinewidth\":0,\"ticks\":\"\"}}}],\"carpet\":[{\"aaxis\":{\"endlinecolor\":\"#2a3f5f\",\"gridcolor\":\"white\",\"linecolor\":\"white\",\"minorgridcolor\":\"white\",\"startlinecolor\":\"#2a3f5f\"},\"baxis\":{\"endlinecolor\":\"#2a3f5f\",\"gridcolor\":\"white\",\"linecolor\":\"white\",\"minorgridcolor\":\"white\",\"startlinecolor\":\"#2a3f5f\"},\"type\":\"carpet\"}],\"table\":[{\"cells\":{\"fill\":{\"color\":\"#EBF0F8\"},\"line\":{\"color\":\"white\"}},\"header\":{\"fill\":{\"color\":\"#C8D4E3\"},\"line\":{\"color\":\"white\"}},\"type\":\"table\"}],\"barpolar\":[{\"marker\":{\"line\":{\"color\":\"#E5ECF6\",\"width\":0.5},\"pattern\":{\"fillmode\":\"overlay\",\"size\":10,\"solidity\":0.2}},\"type\":\"barpolar\"}],\"pie\":[{\"automargin\":true,\"type\":\"pie\"}]},\"layout\":{\"autotypenumbers\":\"strict\",\"colorway\":[\"#636efa\",\"#EF553B\",\"#00cc96\",\"#ab63fa\",\"#FFA15A\",\"#19d3f3\",\"#FF6692\",\"#B6E880\",\"#FF97FF\",\"#FECB52\"],\"font\":{\"color\":\"#2a3f5f\"},\"hovermode\":\"closest\",\"hoverlabel\":{\"align\":\"left\"},\"paper_bgcolor\":\"white\",\"plot_bgcolor\":\"#E5ECF6\",\"polar\":{\"bgcolor\":\"#E5ECF6\",\"angularaxis\":{\"gridcolor\":\"white\",\"linecolor\":\"white\",\"ticks\":\"\"},\"radialaxis\":{\"gridcolor\":\"white\",\"linecolor\":\"white\",\"ticks\":\"\"}},\"ternary\":{\"bgcolor\":\"#E5ECF6\",\"aaxis\":{\"gridcolor\":\"white\",\"linecolor\":\"white\",\"ticks\":\"\"},\"baxis\":{\"gridcolor\":\"white\",\"linecolor\":\"white\",\"ticks\":\"\"},\"caxis\":{\"gridcolor\":\"white\",\"linecolor\":\"white\",\"ticks\":\"\"}},\"coloraxis\":{\"colorbar\":{\"outlinewidth\":0,\"ticks\":\"\"}},\"colorscale\":{\"sequential\":[[0.0,\"#0d0887\"],[0.1111111111111111,\"#46039f\"],[0.2222222222222222,\"#7201a8\"],[0.3333333333333333,\"#9c179e\"],[0.4444444444444444,\"#bd3786\"],[0.5555555555555556,\"#d8576b\"],[0.6666666666666666,\"#ed7953\"],[0.7777777777777778,\"#fb9f3a\"],[0.8888888888888888,\"#fdca26\"],[1.0,\"#f0f921\"]],\"sequentialminus\":[[0.0,\"#0d0887\"],[0.1111111111111111,\"#46039f\"],[0.2222222222222222,\"#7201a8\"],[0.3333333333333333,\"#9c179e\"],[0.4444444444444444,\"#bd3786\"],[0.5555555555555556,\"#d8576b\"],[0.6666666666666666,\"#ed7953\"],[0.7777777777777778,\"#fb9f3a\"],[0.8888888888888888,\"#fdca26\"],[1.0,\"#f0f921\"]],\"diverging\":[[0,\"#8e0152\"],[0.1,\"#c51b7d\"],[0.2,\"#de77ae\"],[0.3,\"#f1b6da\"],[0.4,\"#fde0ef\"],[0.5,\"#f7f7f7\"],[0.6,\"#e6f5d0\"],[0.7,\"#b8e186\"],[0.8,\"#7fbc41\"],[0.9,\"#4d9221\"],[1,\"#276419\"]]},\"xaxis\":{\"gridcolor\":\"white\",\"linecolor\":\"white\",\"ticks\":\"\",\"title\":{\"standoff\":15},\"zerolinecolor\":\"white\",\"automargin\":true,\"zerolinewidth\":2},\"yaxis\":{\"gridcolor\":\"white\",\"linecolor\":\"white\",\"ticks\":\"\",\"title\":{\"standoff\":15},\"zerolinecolor\":\"white\",\"automargin\":true,\"zerolinewidth\":2},\"scene\":{\"xaxis\":{\"backgroundcolor\":\"#E5ECF6\",\"gridcolor\":\"white\",\"linecolor\":\"white\",\"showbackground\":true,\"ticks\":\"\",\"zerolinecolor\":\"white\",\"gridwidth\":2},\"yaxis\":{\"backgroundcolor\":\"#E5ECF6\",\"gridcolor\":\"white\",\"linecolor\":\"white\",\"showbackground\":true,\"ticks\":\"\",\"zerolinecolor\":\"white\",\"gridwidth\":2},\"zaxis\":{\"backgroundcolor\":\"#E5ECF6\",\"gridcolor\":\"white\",\"linecolor\":\"white\",\"showbackground\":true,\"ticks\":\"\",\"zerolinecolor\":\"white\",\"gridwidth\":2}},\"shapedefaults\":{\"line\":{\"color\":\"#2a3f5f\"}},\"annotationdefaults\":{\"arrowcolor\":\"#2a3f5f\",\"arrowhead\":0,\"arrowwidth\":1},\"geo\":{\"bgcolor\":\"white\",\"landcolor\":\"#E5ECF6\",\"subunitcolor\":\"white\",\"showland\":true,\"showlakes\":true,\"lakecolor\":\"white\"},\"title\":{\"x\":0.05},\"mapbox\":{\"style\":\"light\"}}},\"title\":{\"text\":\"Daily Flight Delays by Station\",\"x\":0.5},\"xaxis\":{\"title\":{\"text\":\"Date\"}},\"yaxis\":{\"title\":{\"text\":\"Number of Delays over 15 Minutes\"}},\"legend\":{\"title\":{\"text\":\"Airport\"}}},                        {\"responsive\": true}                    )                };                            </script>        </div>\n",
       "</body>\n",
       "</html>"
      ]
     },
     "metadata": {},
     "output_type": "display_data"
    }
   ],
   "source": [
    "top5_stations = ['ATL','ORD','DFW','LAX','DEN']\n",
    "\n",
    "\n",
    "def transform_df(df):\n",
    "    df['DEP_DEL15'] = pd.to_numeric(df['DEP_DEL15'], errors='coerce')\n",
    "    df['DEP_DEL15'] = df['DEP_DEL15'].fillna(0)\n",
    "    df['FL_DATE'] = pd.to_datetime(df['FL_DATE'])\n",
    "    df = df.set_index('FL_DATE')\n",
    "    \n",
    "    return df.resample('D').agg({'DEP_DEL15': 'sum'}).rename(columns={'DEP_DEL15': 'delays'})\n",
    "\n",
    "pop_stations = []\n",
    "\n",
    "\n",
    "for i, station in enumerate(top5_stations):\n",
    "    temp_df = df_otpw_1yr.select(\"FL_DATE\", \"DEP_DEL15\").where(df_otpw_1yr['ORIGIN'] == station).toPandas()\n",
    "    temp = transform_df(temp_df)\n",
    "    \n",
    "    scatter = go.Scatter(\n",
    "        x=temp.index,\n",
    "        y=temp['delays'],\n",
    "        name=station,\n",
    "        marker=dict(color=colors[i % len(colors)]),\n",
    "        visible=True if i == 0 else 'legendonly' )\n",
    "    \n",
    "    pop_stations.append(scatter)\n",
    "\n",
    "fig = go.Figure()    \n",
    "fig = go.Figure(data=pop_stations)\n",
    "\n",
    "\n",
    "fig.update_layout(title='Daily Flight Delays by Station',\n",
    "                  xaxis_title='Date',\n",
    "                  yaxis_title='Number of Delays over 15 Minutes',\n",
    "                  legend_title='Airport',\n",
    "                  title_x = 0.5,\n",
    "                  )\n",
    "\n"
   ]
  },
  {
   "cell_type": "markdown",
   "metadata": {
    "application/vnd.databricks.v1+cell": {
     "cellMetadata": {},
     "inputWidgets": {},
     "nuid": "bc5aca72-bd83-4559-b0ee-e7085ac9e499",
     "showTitle": false,
     "title": ""
    }
   },
   "source": [
    "###Holiday Window\n",
    "\n",
    "Anecdotally, airport traffic seems to increase during major Federal Holidays. Our team investigated delays occuring on those days and found that on the actual holidays, **airport traffic lowers**. However, we did notice a trend that the days surrounding a federal holday have higher than usual traffic. This lead us create a new feature based off of a 2 day window surrounding holidays. Displayed below is an example with ATL airport, as we can see many of the days with high delay count land within 2 day windows."
   ]
  },
  {
   "cell_type": "code",
   "execution_count": 0,
   "metadata": {
    "application/vnd.databricks.v1+cell": {
     "cellMetadata": {
      "byteLimit": 2048000,
      "rowLimit": 10000
     },
     "inputWidgets": {},
     "nuid": "5ca1d87d-eaa4-4160-8e47-18178e730ff3",
     "showTitle": false,
     "title": ""
    }
   },
   "outputs": [
    {
     "output_type": "display_data",
     "data": {
      "text/html": [
       "<html>\n",
       "<head><meta charset=\"utf-8\" /></head>\n",
       "<body>\n",
       "    <div>            <script src=\"https://cdnjs.cloudflare.com/ajax/libs/mathjax/2.7.5/MathJax.js?config=TeX-AMS-MML_SVG\"></script><script type=\"text/javascript\">if (window.MathJax && window.MathJax.Hub && window.MathJax.Hub.Config) {window.MathJax.Hub.Config({SVG: {font: \"STIX-Web\"}});}</script>                <script type=\"text/javascript\">window.PlotlyConfig = {MathJaxConfig: 'local'};</script>\n",
       "        <script src=\"https://cdn.plot.ly/plotly-2.12.1.min.js\"></script>                <div id=\"0c3817fe-6750-4b75-b0b1-19d108c1207d\" class=\"plotly-graph-div\" style=\"height:100%; width:100%;\"></div>            <script type=\"text/javascript\">                                    window.PLOTLYENV=window.PLOTLYENV || {};                                    if (document.getElementById(\"0c3817fe-6750-4b75-b0b1-19d108c1207d\")) {                    Plotly.newPlot(                        \"0c3817fe-6750-4b75-b0b1-19d108c1207d\",                        [{\"line\":{\"color\":\"tomato\"},\"marker\":{\"color\":\"black\",\"opacity\":0.4},\"mode\":\"markers+lines\",\"name\":\"ATL\",\"visible\":true,\"x\":[\"2015-01-01T00:00:00\",\"2015-01-02T00:00:00\",\"2015-01-03T00:00:00\",\"2015-01-04T00:00:00\",\"2015-01-05T00:00:00\",\"2015-01-06T00:00:00\",\"2015-01-07T00:00:00\",\"2015-01-08T00:00:00\",\"2015-01-09T00:00:00\",\"2015-01-10T00:00:00\",\"2015-01-11T00:00:00\",\"2015-01-12T00:00:00\",\"2015-01-13T00:00:00\",\"2015-01-14T00:00:00\",\"2015-01-15T00:00:00\",\"2015-01-16T00:00:00\",\"2015-01-17T00:00:00\",\"2015-01-18T00:00:00\",\"2015-01-19T00:00:00\",\"2015-01-20T00:00:00\",\"2015-01-21T00:00:00\",\"2015-01-22T00:00:00\",\"2015-01-23T00:00:00\",\"2015-01-24T00:00:00\",\"2015-01-25T00:00:00\",\"2015-01-26T00:00:00\",\"2015-01-27T00:00:00\",\"2015-01-28T00:00:00\",\"2015-01-29T00:00:00\",\"2015-01-30T00:00:00\",\"2015-01-31T00:00:00\",\"2015-02-01T00:00:00\",\"2015-02-02T00:00:00\",\"2015-02-03T00:00:00\",\"2015-02-04T00:00:00\",\"2015-02-05T00:00:00\",\"2015-02-06T00:00:00\",\"2015-02-07T00:00:00\",\"2015-02-08T00:00:00\",\"2015-02-09T00:00:00\",\"2015-02-10T00:00:00\",\"2015-02-11T00:00:00\",\"2015-02-12T00:00:00\",\"2015-02-13T00:00:00\",\"2015-02-14T00:00:00\",\"2015-02-15T00:00:00\",\"2015-02-16T00:00:00\",\"2015-02-17T00:00:00\",\"2015-02-18T00:00:00\",\"2015-02-19T00:00:00\",\"2015-02-20T00:00:00\",\"2015-02-21T00:00:00\",\"2015-02-22T00:00:00\",\"2015-02-23T00:00:00\",\"2015-02-24T00:00:00\",\"2015-02-25T00:00:00\",\"2015-02-26T00:00:00\",\"2015-02-27T00:00:00\",\"2015-02-28T00:00:00\",\"2015-03-01T00:00:00\",\"2015-03-02T00:00:00\",\"2015-03-03T00:00:00\",\"2015-03-04T00:00:00\",\"2015-03-05T00:00:00\",\"2015-03-06T00:00:00\",\"2015-03-07T00:00:00\",\"2015-03-08T00:00:00\",\"2015-03-09T00:00:00\",\"2015-03-10T00:00:00\",\"2015-03-11T00:00:00\",\"2015-03-12T00:00:00\",\"2015-03-13T00:00:00\",\"2015-03-14T00:00:00\",\"2015-03-15T00:00:00\",\"2015-03-16T00:00:00\",\"2015-03-17T00:00:00\",\"2015-03-18T00:00:00\",\"2015-03-19T00:00:00\",\"2015-03-20T00:00:00\",\"2015-03-21T00:00:00\",\"2015-03-22T00:00:00\",\"2015-03-23T00:00:00\",\"2015-03-24T00:00:00\",\"2015-03-25T00:00:00\",\"2015-03-26T00:00:00\",\"2015-03-27T00:00:00\",\"2015-03-28T00:00:00\",\"2015-03-29T00:00:00\",\"2015-03-30T00:00:00\",\"2015-03-31T00:00:00\",\"2015-04-01T00:00:00\",\"2015-04-02T00:00:00\",\"2015-04-03T00:00:00\",\"2015-04-04T00:00:00\",\"2015-04-05T00:00:00\",\"2015-04-06T00:00:00\",\"2015-04-07T00:00:00\",\"2015-04-08T00:00:00\",\"2015-04-09T00:00:00\",\"2015-04-10T00:00:00\",\"2015-04-11T00:00:00\",\"2015-04-12T00:00:00\",\"2015-04-13T00:00:00\",\"2015-04-14T00:00:00\",\"2015-04-15T00:00:00\",\"2015-04-16T00:00:00\",\"2015-04-17T00:00:00\",\"2015-04-18T00:00:00\",\"2015-04-19T00:00:00\",\"2015-04-20T00:00:00\",\"2015-04-21T00:00:00\",\"2015-04-22T00:00:00\",\"2015-04-23T00:00:00\",\"2015-04-24T00:00:00\",\"2015-04-25T00:00:00\",\"2015-04-26T00:00:00\",\"2015-04-27T00:00:00\",\"2015-04-28T00:00:00\",\"2015-04-29T00:00:00\",\"2015-04-30T00:00:00\",\"2015-05-01T00:00:00\",\"2015-05-02T00:00:00\",\"2015-05-03T00:00:00\",\"2015-05-04T00:00:00\",\"2015-05-05T00:00:00\",\"2015-05-06T00:00:00\",\"2015-05-07T00:00:00\",\"2015-05-08T00:00:00\",\"2015-05-09T00:00:00\",\"2015-05-10T00:00:00\",\"2015-05-11T00:00:00\",\"2015-05-12T00:00:00\",\"2015-05-13T00:00:00\",\"2015-05-14T00:00:00\",\"2015-05-15T00:00:00\",\"2015-05-16T00:00:00\",\"2015-05-17T00:00:00\",\"2015-05-18T00:00:00\",\"2015-05-19T00:00:00\",\"2015-05-20T00:00:00\",\"2015-05-21T00:00:00\",\"2015-05-22T00:00:00\",\"2015-05-23T00:00:00\",\"2015-05-24T00:00:00\",\"2015-05-25T00:00:00\",\"2015-05-26T00:00:00\",\"2015-05-27T00:00:00\",\"2015-05-28T00:00:00\",\"2015-05-29T00:00:00\",\"2015-05-30T00:00:00\",\"2015-05-31T00:00:00\",\"2015-06-01T00:00:00\",\"2015-06-02T00:00:00\",\"2015-06-03T00:00:00\",\"2015-06-04T00:00:00\",\"2015-06-05T00:00:00\",\"2015-06-06T00:00:00\",\"2015-06-07T00:00:00\",\"2015-06-08T00:00:00\",\"2015-06-09T00:00:00\",\"2015-06-10T00:00:00\",\"2015-06-11T00:00:00\",\"2015-06-12T00:00:00\",\"2015-06-13T00:00:00\",\"2015-06-14T00:00:00\",\"2015-06-15T00:00:00\",\"2015-06-16T00:00:00\",\"2015-06-17T00:00:00\",\"2015-06-18T00:00:00\",\"2015-06-19T00:00:00\",\"2015-06-20T00:00:00\",\"2015-06-21T00:00:00\",\"2015-06-22T00:00:00\",\"2015-06-23T00:00:00\",\"2015-06-24T00:00:00\",\"2015-06-25T00:00:00\",\"2015-06-26T00:00:00\",\"2015-06-27T00:00:00\",\"2015-06-28T00:00:00\",\"2015-06-29T00:00:00\",\"2015-06-30T00:00:00\",\"2015-07-01T00:00:00\",\"2015-07-02T00:00:00\",\"2015-07-03T00:00:00\",\"2015-07-04T00:00:00\",\"2015-07-05T00:00:00\",\"2015-07-06T00:00:00\",\"2015-07-07T00:00:00\",\"2015-07-08T00:00:00\",\"2015-07-09T00:00:00\",\"2015-07-10T00:00:00\",\"2015-07-11T00:00:00\",\"2015-07-12T00:00:00\",\"2015-07-13T00:00:00\",\"2015-07-14T00:00:00\",\"2015-07-15T00:00:00\",\"2015-07-16T00:00:00\",\"2015-07-17T00:00:00\",\"2015-07-18T00:00:00\",\"2015-07-19T00:00:00\",\"2015-07-20T00:00:00\",\"2015-07-21T00:00:00\",\"2015-07-22T00:00:00\",\"2015-07-23T00:00:00\",\"2015-07-24T00:00:00\",\"2015-07-25T00:00:00\",\"2015-07-26T00:00:00\",\"2015-07-27T00:00:00\",\"2015-07-28T00:00:00\",\"2015-07-29T00:00:00\",\"2015-07-30T00:00:00\",\"2015-07-31T00:00:00\",\"2015-08-01T00:00:00\",\"2015-08-02T00:00:00\",\"2015-08-03T00:00:00\",\"2015-08-04T00:00:00\",\"2015-08-05T00:00:00\",\"2015-08-06T00:00:00\",\"2015-08-07T00:00:00\",\"2015-08-08T00:00:00\",\"2015-08-09T00:00:00\",\"2015-08-10T00:00:00\",\"2015-08-11T00:00:00\",\"2015-08-12T00:00:00\",\"2015-08-13T00:00:00\",\"2015-08-14T00:00:00\",\"2015-08-15T00:00:00\",\"2015-08-16T00:00:00\",\"2015-08-17T00:00:00\",\"2015-08-18T00:00:00\",\"2015-08-19T00:00:00\",\"2015-08-20T00:00:00\",\"2015-08-21T00:00:00\",\"2015-08-22T00:00:00\",\"2015-08-23T00:00:00\",\"2015-08-24T00:00:00\",\"2015-08-25T00:00:00\",\"2015-08-26T00:00:00\",\"2015-08-27T00:00:00\",\"2015-08-28T00:00:00\",\"2015-08-29T00:00:00\",\"2015-08-30T00:00:00\",\"2015-08-31T00:00:00\",\"2015-09-01T00:00:00\",\"2015-09-02T00:00:00\",\"2015-09-03T00:00:00\",\"2015-09-04T00:00:00\",\"2015-09-05T00:00:00\",\"2015-09-06T00:00:00\",\"2015-09-07T00:00:00\",\"2015-09-08T00:00:00\",\"2015-09-09T00:00:00\",\"2015-09-10T00:00:00\",\"2015-09-11T00:00:00\",\"2015-09-12T00:00:00\",\"2015-09-13T00:00:00\",\"2015-09-14T00:00:00\",\"2015-09-15T00:00:00\",\"2015-09-16T00:00:00\",\"2015-09-17T00:00:00\",\"2015-09-18T00:00:00\",\"2015-09-19T00:00:00\",\"2015-09-20T00:00:00\",\"2015-09-21T00:00:00\",\"2015-09-22T00:00:00\",\"2015-09-23T00:00:00\",\"2015-09-24T00:00:00\",\"2015-09-25T00:00:00\",\"2015-09-26T00:00:00\",\"2015-09-27T00:00:00\",\"2015-09-28T00:00:00\",\"2015-09-29T00:00:00\",\"2015-09-30T00:00:00\"],\"y\":[83.0,282.0,367.0,467.0,215.0,215.0,153.0,208.0,196.0,90.0,153.0,528.0,158.0,117.0,164.0,109.0,30.0,55.0,82.0,37.0,87.0,105.0,248.0,72.0,70.0,124.0,40.0,62.0,66.0,101.0,35.0,113.0,234.0,125.0,112.0,111.0,87.0,29.0,78.0,261.0,71.0,63.0,135.0,183.0,111.0,76.0,338.0,361.0,264.0,220.0,251.0,125.0,331.0,254.0,510.0,269.0,310.0,166.0,103.0,330.0,260.0,294.0,289.0,440.0,353.0,107.0,156.0,210.0,108.0,239.0,199.0,251.0,170.0,123.0,108.0,97.0,94.0,184.0,311.0,99.0,165.0,143.0,112.0,132.0,238.0,279.0,95.0,87.0,126.0,109.0,83.0,219.0,162.0,74.0,72.0,117.0,176.0,152.0,193.0,659.0,154.0,191.0,188.0,127.0,144.0,305.0,199.0,108.0,263.0,254.0,82.0,97.0,84.0,119.0,219.0,94.0,132.0,82.0,136.0,121.0,57.0,63.0,100.0,113.0,72.0,106.0,128.0,166.0,96.0,158.0,232.0,93.0,112.0,151.0,149.0,77.0,171.0,511.0,249.0,120.0,157.0,131.0,97.0,82.0,268.0,457.0,288.0,462.0,188.0,70.0,437.0,293.0,228.0,251.0,125.0,187.0,79.0,129.0,208.0,457.0,307.0,384.0,219.0,105.0,199.0,224.0,190.0,236.0,459.0,236.0,229.0,212.0,259.0,265.0,462.0,317.0,252.0,467.0,144.0,129.0,262.0,433.0,305.0,388.0,59.0,147.0,201.0,176.0,164.0,130.0,164.0,95.0,147.0,237.0,366.0,309.0,144.0,161.0,323.0,291.0,174.0,280.0,319.0,408.0,191.0,122.0,135.0,166.0,202.0,183.0,236.0,288.0,183.0,164.0,184.0,127.0,158.0,411.0,164.0,110.0,140.0,363.0,254.0,112.0,217.0,145.0,186.0,150.0,375.0,470.0,378.0,385.0,183.0,78.0,647.0,143.0,91.0,103.0,126.0,128.0,59.0,130.0,119.0,56.0,85.0,372.0,230.0,82.0,56.0,76.0,122.0,101.0,382.0,114.0,77.0,88.0,79.0,70.0,84.0,102.0,123.0,67.0,115.0,85.0,81.0,66.0,91.0,206.0,102.0,124.0,166.0,145.0,136.0],\"type\":\"scatter\"},{\"line\":{\"color\":\"dodgerblue\"},\"marker\":{\"color\":\"black\",\"opacity\":0.4},\"mode\":\"markers+lines\",\"name\":\"ORD\",\"visible\":\"legendonly\",\"x\":[\"2015-01-01T00:00:00\",\"2015-01-02T00:00:00\",\"2015-01-03T00:00:00\",\"2015-01-04T00:00:00\",\"2015-01-05T00:00:00\",\"2015-01-06T00:00:00\",\"2015-01-07T00:00:00\",\"2015-01-08T00:00:00\",\"2015-01-09T00:00:00\",\"2015-01-10T00:00:00\",\"2015-01-11T00:00:00\",\"2015-01-12T00:00:00\",\"2015-01-13T00:00:00\",\"2015-01-14T00:00:00\",\"2015-01-15T00:00:00\",\"2015-01-16T00:00:00\",\"2015-01-17T00:00:00\",\"2015-01-18T00:00:00\",\"2015-01-19T00:00:00\",\"2015-01-20T00:00:00\",\"2015-01-21T00:00:00\",\"2015-01-22T00:00:00\",\"2015-01-23T00:00:00\",\"2015-01-24T00:00:00\",\"2015-01-25T00:00:00\",\"2015-01-26T00:00:00\",\"2015-01-27T00:00:00\",\"2015-01-28T00:00:00\",\"2015-01-29T00:00:00\",\"2015-01-30T00:00:00\",\"2015-01-31T00:00:00\",\"2015-02-01T00:00:00\",\"2015-02-02T00:00:00\",\"2015-02-03T00:00:00\",\"2015-02-04T00:00:00\",\"2015-02-05T00:00:00\",\"2015-02-06T00:00:00\",\"2015-02-07T00:00:00\",\"2015-02-08T00:00:00\",\"2015-02-09T00:00:00\",\"2015-02-10T00:00:00\",\"2015-02-11T00:00:00\",\"2015-02-12T00:00:00\",\"2015-02-13T00:00:00\",\"2015-02-14T00:00:00\",\"2015-02-15T00:00:00\",\"2015-02-16T00:00:00\",\"2015-02-17T00:00:00\",\"2015-02-18T00:00:00\",\"2015-02-19T00:00:00\",\"2015-02-20T00:00:00\",\"2015-02-21T00:00:00\",\"2015-02-22T00:00:00\",\"2015-02-23T00:00:00\",\"2015-02-24T00:00:00\",\"2015-02-25T00:00:00\",\"2015-02-26T00:00:00\",\"2015-02-27T00:00:00\",\"2015-02-28T00:00:00\",\"2015-03-01T00:00:00\",\"2015-03-02T00:00:00\",\"2015-03-03T00:00:00\",\"2015-03-04T00:00:00\",\"2015-03-05T00:00:00\",\"2015-03-06T00:00:00\",\"2015-03-07T00:00:00\",\"2015-03-08T00:00:00\",\"2015-03-09T00:00:00\",\"2015-03-10T00:00:00\",\"2015-03-11T00:00:00\",\"2015-03-12T00:00:00\",\"2015-03-13T00:00:00\",\"2015-03-14T00:00:00\",\"2015-03-15T00:00:00\",\"2015-03-16T00:00:00\",\"2015-03-17T00:00:00\",\"2015-03-18T00:00:00\",\"2015-03-19T00:00:00\",\"2015-03-20T00:00:00\",\"2015-03-21T00:00:00\",\"2015-03-22T00:00:00\",\"2015-03-23T00:00:00\",\"2015-03-24T00:00:00\",\"2015-03-25T00:00:00\",\"2015-03-26T00:00:00\",\"2015-03-27T00:00:00\",\"2015-03-28T00:00:00\",\"2015-03-29T00:00:00\",\"2015-03-30T00:00:00\",\"2015-03-31T00:00:00\",\"2015-04-01T00:00:00\",\"2015-04-02T00:00:00\",\"2015-04-03T00:00:00\",\"2015-04-04T00:00:00\",\"2015-04-05T00:00:00\",\"2015-04-06T00:00:00\",\"2015-04-07T00:00:00\",\"2015-04-08T00:00:00\",\"2015-04-09T00:00:00\",\"2015-04-10T00:00:00\",\"2015-04-11T00:00:00\",\"2015-04-12T00:00:00\",\"2015-04-13T00:00:00\",\"2015-04-14T00:00:00\",\"2015-04-15T00:00:00\",\"2015-04-16T00:00:00\",\"2015-04-17T00:00:00\",\"2015-04-18T00:00:00\",\"2015-04-19T00:00:00\",\"2015-04-20T00:00:00\",\"2015-04-21T00:00:00\",\"2015-04-22T00:00:00\",\"2015-04-23T00:00:00\",\"2015-04-24T00:00:00\",\"2015-04-25T00:00:00\",\"2015-04-26T00:00:00\",\"2015-04-27T00:00:00\",\"2015-04-28T00:00:00\",\"2015-04-29T00:00:00\",\"2015-04-30T00:00:00\",\"2015-05-01T00:00:00\",\"2015-05-02T00:00:00\",\"2015-05-03T00:00:00\",\"2015-05-04T00:00:00\",\"2015-05-05T00:00:00\",\"2015-05-06T00:00:00\",\"2015-05-07T00:00:00\",\"2015-05-08T00:00:00\",\"2015-05-09T00:00:00\",\"2015-05-10T00:00:00\",\"2015-05-11T00:00:00\",\"2015-05-12T00:00:00\",\"2015-05-13T00:00:00\",\"2015-05-14T00:00:00\",\"2015-05-15T00:00:00\",\"2015-05-16T00:00:00\",\"2015-05-17T00:00:00\",\"2015-05-18T00:00:00\",\"2015-05-19T00:00:00\",\"2015-05-20T00:00:00\",\"2015-05-21T00:00:00\",\"2015-05-22T00:00:00\",\"2015-05-23T00:00:00\",\"2015-05-24T00:00:00\",\"2015-05-25T00:00:00\",\"2015-05-26T00:00:00\",\"2015-05-27T00:00:00\",\"2015-05-28T00:00:00\",\"2015-05-29T00:00:00\",\"2015-05-30T00:00:00\",\"2015-05-31T00:00:00\",\"2015-06-01T00:00:00\",\"2015-06-02T00:00:00\",\"2015-06-03T00:00:00\",\"2015-06-04T00:00:00\",\"2015-06-05T00:00:00\",\"2015-06-06T00:00:00\",\"2015-06-07T00:00:00\",\"2015-06-08T00:00:00\",\"2015-06-09T00:00:00\",\"2015-06-10T00:00:00\",\"2015-06-11T00:00:00\",\"2015-06-12T00:00:00\",\"2015-06-13T00:00:00\",\"2015-06-14T00:00:00\",\"2015-06-15T00:00:00\",\"2015-06-16T00:00:00\",\"2015-06-17T00:00:00\",\"2015-06-18T00:00:00\",\"2015-06-19T00:00:00\",\"2015-06-20T00:00:00\",\"2015-06-21T00:00:00\",\"2015-06-22T00:00:00\",\"2015-06-23T00:00:00\",\"2015-06-24T00:00:00\",\"2015-06-25T00:00:00\",\"2015-06-26T00:00:00\",\"2015-06-27T00:00:00\",\"2015-06-28T00:00:00\",\"2015-06-29T00:00:00\",\"2015-06-30T00:00:00\",\"2015-07-01T00:00:00\",\"2015-07-02T00:00:00\",\"2015-07-03T00:00:00\",\"2015-07-04T00:00:00\",\"2015-07-05T00:00:00\",\"2015-07-06T00:00:00\",\"2015-07-07T00:00:00\",\"2015-07-08T00:00:00\",\"2015-07-09T00:00:00\",\"2015-07-10T00:00:00\",\"2015-07-11T00:00:00\",\"2015-07-12T00:00:00\",\"2015-07-13T00:00:00\",\"2015-07-14T00:00:00\",\"2015-07-15T00:00:00\",\"2015-07-16T00:00:00\",\"2015-07-17T00:00:00\",\"2015-07-18T00:00:00\",\"2015-07-19T00:00:00\",\"2015-07-20T00:00:00\",\"2015-07-21T00:00:00\",\"2015-07-22T00:00:00\",\"2015-07-23T00:00:00\",\"2015-07-24T00:00:00\",\"2015-07-25T00:00:00\",\"2015-07-26T00:00:00\",\"2015-07-27T00:00:00\",\"2015-07-28T00:00:00\",\"2015-07-29T00:00:00\",\"2015-07-30T00:00:00\",\"2015-07-31T00:00:00\",\"2015-08-01T00:00:00\",\"2015-08-02T00:00:00\",\"2015-08-03T00:00:00\",\"2015-08-04T00:00:00\",\"2015-08-05T00:00:00\",\"2015-08-06T00:00:00\",\"2015-08-07T00:00:00\",\"2015-08-08T00:00:00\",\"2015-08-09T00:00:00\",\"2015-08-10T00:00:00\",\"2015-08-11T00:00:00\",\"2015-08-12T00:00:00\",\"2015-08-13T00:00:00\",\"2015-08-14T00:00:00\",\"2015-08-15T00:00:00\",\"2015-08-16T00:00:00\",\"2015-08-17T00:00:00\",\"2015-08-18T00:00:00\",\"2015-08-19T00:00:00\",\"2015-08-20T00:00:00\",\"2015-08-21T00:00:00\",\"2015-08-22T00:00:00\",\"2015-08-23T00:00:00\",\"2015-08-24T00:00:00\",\"2015-08-25T00:00:00\",\"2015-08-26T00:00:00\",\"2015-08-27T00:00:00\",\"2015-08-28T00:00:00\",\"2015-08-29T00:00:00\",\"2015-08-30T00:00:00\",\"2015-08-31T00:00:00\",\"2015-09-01T00:00:00\",\"2015-09-02T00:00:00\",\"2015-09-03T00:00:00\",\"2015-09-04T00:00:00\",\"2015-09-05T00:00:00\",\"2015-09-06T00:00:00\",\"2015-09-07T00:00:00\",\"2015-09-08T00:00:00\",\"2015-09-09T00:00:00\",\"2015-09-10T00:00:00\",\"2015-09-11T00:00:00\",\"2015-09-12T00:00:00\",\"2015-09-13T00:00:00\",\"2015-09-14T00:00:00\",\"2015-09-15T00:00:00\",\"2015-09-16T00:00:00\",\"2015-09-17T00:00:00\",\"2015-09-18T00:00:00\",\"2015-09-19T00:00:00\",\"2015-09-20T00:00:00\",\"2015-09-21T00:00:00\",\"2015-09-22T00:00:00\",\"2015-09-23T00:00:00\",\"2015-09-24T00:00:00\",\"2015-09-25T00:00:00\",\"2015-09-26T00:00:00\",\"2015-09-27T00:00:00\",\"2015-09-28T00:00:00\",\"2015-09-29T00:00:00\",\"2015-09-30T00:00:00\"],\"y\":[157.0,189.0,393.0,555.0,485.0,507.0,438.0,453.0,460.0,219.0,235.0,373.0,297.0,160.0,115.0,168.0,52.0,94.0,110.0,137.0,225.0,129.0,93.0,56.0,285.0,242.0,104.0,75.0,174.0,132.0,56.0,103.0,297.0,375.0,353.0,221.0,134.0,56.0,228.0,319.0,84.0,96.0,246.0,298.0,204.0,398.0,248.0,338.0,298.0,389.0,405.0,182.0,234.0,283.0,346.0,334.0,628.0,250.0,210.0,357.0,240.0,345.0,235.0,288.0,317.0,147.0,145.0,111.0,157.0,199.0,170.0,147.0,128.0,121.0,115.0,125.0,145.0,126.0,150.0,122.0,213.0,603.0,166.0,164.0,180.0,292.0,89.0,229.0,103.0,113.0,129.0,258.0,190.0,90.0,97.0,138.0,231.0,363.0,454.0,300.0,81.0,108.0,199.0,77.0,111.0,142.0,202.0,109.0,163.0,219.0,92.0,117.0,102.0,180.0,147.0,130.0,142.0,103.0,95.0,131.0,105.0,71.0,188.0,122.0,270.0,135.0,143.0,332.0,150.0,278.0,248.0,125.0,147.0,145.0,179.0,104.0,173.0,246.0,193.0,239.0,178.0,172.0,103.0,94.0,116.0,241.0,273.0,134.0,238.0,119.0,289.0,298.0,217.0,148.0,179.0,254.0,122.0,333.0,380.0,267.0,319.0,318.0,437.0,281.0,334.0,331.0,464.0,379.0,501.0,259.0,257.0,245.0,320.0,264.0,225.0,325.0,415.0,178.0,208.0,284.0,246.0,225.0,252.0,135.0,67.0,135.0,331.0,391.0,376.0,213.0,166.0,107.0,205.0,526.0,256.0,229.0,234.0,307.0,396.0,261.0,196.0,211.0,186.0,211.0,186.0,187.0,223.0,172.0,211.0,213.0,197.0,211.0,181.0,335.0,218.0,213.0,212.0,190.0,200.0,130.0,195.0,410.0,295.0,165.0,156.0,193.0,271.0,219.0,382.0,279.0,177.0,234.0,153.0,106.0,237.0,155.0,108.0,102.0,126.0,132.0,68.0,105.0,292.0,106.0,120.0,167.0,232.0,103.0,57.0,72.0,481.0,142.0,218.0,144.0,77.0,95.0,100.0,90.0,83.0,379.0,333.0,98.0,121.0,115.0,79.0,71.0,93.0,139.0,51.0,105.0,136.0,149.0,136.0],\"type\":\"scatter\"},{\"line\":{\"color\":\"darkseagreen\"},\"marker\":{\"color\":\"black\",\"opacity\":0.4},\"mode\":\"markers+lines\",\"name\":\"DFW\",\"visible\":\"legendonly\",\"x\":[\"2015-01-01T00:00:00\",\"2015-01-02T00:00:00\",\"2015-01-03T00:00:00\",\"2015-01-04T00:00:00\",\"2015-01-05T00:00:00\",\"2015-01-06T00:00:00\",\"2015-01-07T00:00:00\",\"2015-01-08T00:00:00\",\"2015-01-09T00:00:00\",\"2015-01-10T00:00:00\",\"2015-01-11T00:00:00\",\"2015-01-12T00:00:00\",\"2015-01-13T00:00:00\",\"2015-01-14T00:00:00\",\"2015-01-15T00:00:00\",\"2015-01-16T00:00:00\",\"2015-01-17T00:00:00\",\"2015-01-18T00:00:00\",\"2015-01-19T00:00:00\",\"2015-01-20T00:00:00\",\"2015-01-21T00:00:00\",\"2015-01-22T00:00:00\",\"2015-01-23T00:00:00\",\"2015-01-24T00:00:00\",\"2015-01-25T00:00:00\",\"2015-01-26T00:00:00\",\"2015-01-27T00:00:00\",\"2015-01-28T00:00:00\",\"2015-01-29T00:00:00\",\"2015-01-30T00:00:00\",\"2015-01-31T00:00:00\",\"2015-02-01T00:00:00\",\"2015-02-02T00:00:00\",\"2015-02-03T00:00:00\",\"2015-02-04T00:00:00\",\"2015-02-05T00:00:00\",\"2015-02-06T00:00:00\",\"2015-02-07T00:00:00\",\"2015-02-08T00:00:00\",\"2015-02-09T00:00:00\",\"2015-02-10T00:00:00\",\"2015-02-11T00:00:00\",\"2015-02-12T00:00:00\",\"2015-02-13T00:00:00\",\"2015-02-14T00:00:00\",\"2015-02-15T00:00:00\",\"2015-02-16T00:00:00\",\"2015-02-17T00:00:00\",\"2015-02-18T00:00:00\",\"2015-02-19T00:00:00\",\"2015-02-20T00:00:00\",\"2015-02-21T00:00:00\",\"2015-02-22T00:00:00\",\"2015-02-23T00:00:00\",\"2015-02-24T00:00:00\",\"2015-02-25T00:00:00\",\"2015-02-26T00:00:00\",\"2015-02-27T00:00:00\",\"2015-02-28T00:00:00\",\"2015-03-01T00:00:00\",\"2015-03-02T00:00:00\",\"2015-03-03T00:00:00\",\"2015-03-04T00:00:00\",\"2015-03-05T00:00:00\",\"2015-03-06T00:00:00\",\"2015-03-07T00:00:00\",\"2015-03-08T00:00:00\",\"2015-03-09T00:00:00\",\"2015-03-10T00:00:00\",\"2015-03-11T00:00:00\",\"2015-03-12T00:00:00\",\"2015-03-13T00:00:00\",\"2015-03-14T00:00:00\",\"2015-03-15T00:00:00\",\"2015-03-16T00:00:00\",\"2015-03-17T00:00:00\",\"2015-03-18T00:00:00\",\"2015-03-19T00:00:00\",\"2015-03-20T00:00:00\",\"2015-03-21T00:00:00\",\"2015-03-22T00:00:00\",\"2015-03-23T00:00:00\",\"2015-03-24T00:00:00\",\"2015-03-25T00:00:00\",\"2015-03-26T00:00:00\",\"2015-03-27T00:00:00\",\"2015-03-28T00:00:00\",\"2015-03-29T00:00:00\",\"2015-03-30T00:00:00\",\"2015-03-31T00:00:00\",\"2015-04-01T00:00:00\",\"2015-04-02T00:00:00\",\"2015-04-03T00:00:00\",\"2015-04-04T00:00:00\",\"2015-04-05T00:00:00\",\"2015-04-06T00:00:00\",\"2015-04-07T00:00:00\",\"2015-04-08T00:00:00\",\"2015-04-09T00:00:00\",\"2015-04-10T00:00:00\",\"2015-04-11T00:00:00\",\"2015-04-12T00:00:00\",\"2015-04-13T00:00:00\",\"2015-04-14T00:00:00\",\"2015-04-15T00:00:00\",\"2015-04-16T00:00:00\",\"2015-04-17T00:00:00\",\"2015-04-18T00:00:00\",\"2015-04-19T00:00:00\",\"2015-04-20T00:00:00\",\"2015-04-21T00:00:00\",\"2015-04-22T00:00:00\",\"2015-04-23T00:00:00\",\"2015-04-24T00:00:00\",\"2015-04-25T00:00:00\",\"2015-04-26T00:00:00\",\"2015-04-27T00:00:00\",\"2015-04-28T00:00:00\",\"2015-04-29T00:00:00\",\"2015-04-30T00:00:00\",\"2015-05-01T00:00:00\",\"2015-05-02T00:00:00\",\"2015-05-03T00:00:00\",\"2015-05-04T00:00:00\",\"2015-05-05T00:00:00\",\"2015-05-06T00:00:00\",\"2015-05-07T00:00:00\",\"2015-05-08T00:00:00\",\"2015-05-09T00:00:00\",\"2015-05-10T00:00:00\",\"2015-05-11T00:00:00\",\"2015-05-12T00:00:00\",\"2015-05-13T00:00:00\",\"2015-05-14T00:00:00\",\"2015-05-15T00:00:00\",\"2015-05-16T00:00:00\",\"2015-05-17T00:00:00\",\"2015-05-18T00:00:00\",\"2015-05-19T00:00:00\",\"2015-05-20T00:00:00\",\"2015-05-21T00:00:00\",\"2015-05-22T00:00:00\",\"2015-05-23T00:00:00\",\"2015-05-24T00:00:00\",\"2015-05-25T00:00:00\",\"2015-05-26T00:00:00\",\"2015-05-27T00:00:00\",\"2015-05-28T00:00:00\",\"2015-05-29T00:00:00\",\"2015-05-30T00:00:00\",\"2015-05-31T00:00:00\",\"2015-06-01T00:00:00\",\"2015-06-02T00:00:00\",\"2015-06-03T00:00:00\",\"2015-06-04T00:00:00\",\"2015-06-05T00:00:00\",\"2015-06-06T00:00:00\",\"2015-06-07T00:00:00\",\"2015-06-08T00:00:00\",\"2015-06-09T00:00:00\",\"2015-06-10T00:00:00\",\"2015-06-11T00:00:00\",\"2015-06-12T00:00:00\",\"2015-06-13T00:00:00\",\"2015-06-14T00:00:00\",\"2015-06-15T00:00:00\",\"2015-06-16T00:00:00\",\"2015-06-17T00:00:00\",\"2015-06-18T00:00:00\",\"2015-06-19T00:00:00\",\"2015-06-20T00:00:00\",\"2015-06-21T00:00:00\",\"2015-06-22T00:00:00\",\"2015-06-23T00:00:00\",\"2015-06-24T00:00:00\",\"2015-06-25T00:00:00\",\"2015-06-26T00:00:00\",\"2015-06-27T00:00:00\",\"2015-06-28T00:00:00\",\"2015-06-29T00:00:00\",\"2015-06-30T00:00:00\",\"2015-07-01T00:00:00\",\"2015-07-02T00:00:00\",\"2015-07-03T00:00:00\",\"2015-07-04T00:00:00\",\"2015-07-05T00:00:00\",\"2015-07-06T00:00:00\",\"2015-07-07T00:00:00\",\"2015-07-08T00:00:00\",\"2015-07-09T00:00:00\",\"2015-07-10T00:00:00\",\"2015-07-11T00:00:00\",\"2015-07-12T00:00:00\",\"2015-07-13T00:00:00\",\"2015-07-14T00:00:00\",\"2015-07-15T00:00:00\",\"2015-07-16T00:00:00\",\"2015-07-17T00:00:00\",\"2015-07-18T00:00:00\",\"2015-07-19T00:00:00\",\"2015-07-20T00:00:00\",\"2015-07-21T00:00:00\",\"2015-07-22T00:00:00\",\"2015-07-23T00:00:00\",\"2015-07-24T00:00:00\",\"2015-07-25T00:00:00\",\"2015-07-26T00:00:00\",\"2015-07-27T00:00:00\",\"2015-07-28T00:00:00\",\"2015-07-29T00:00:00\",\"2015-07-30T00:00:00\",\"2015-07-31T00:00:00\",\"2015-08-01T00:00:00\",\"2015-08-02T00:00:00\",\"2015-08-03T00:00:00\",\"2015-08-04T00:00:00\",\"2015-08-05T00:00:00\",\"2015-08-06T00:00:00\",\"2015-08-07T00:00:00\",\"2015-08-08T00:00:00\",\"2015-08-09T00:00:00\",\"2015-08-10T00:00:00\",\"2015-08-11T00:00:00\",\"2015-08-12T00:00:00\",\"2015-08-13T00:00:00\",\"2015-08-14T00:00:00\",\"2015-08-15T00:00:00\",\"2015-08-16T00:00:00\",\"2015-08-17T00:00:00\",\"2015-08-18T00:00:00\",\"2015-08-19T00:00:00\",\"2015-08-20T00:00:00\",\"2015-08-21T00:00:00\",\"2015-08-22T00:00:00\",\"2015-08-23T00:00:00\",\"2015-08-24T00:00:00\",\"2015-08-25T00:00:00\",\"2015-08-26T00:00:00\",\"2015-08-27T00:00:00\",\"2015-08-28T00:00:00\",\"2015-08-29T00:00:00\",\"2015-08-30T00:00:00\",\"2015-08-31T00:00:00\",\"2015-09-01T00:00:00\",\"2015-09-02T00:00:00\",\"2015-09-03T00:00:00\",\"2015-09-04T00:00:00\",\"2015-09-05T00:00:00\",\"2015-09-06T00:00:00\",\"2015-09-07T00:00:00\",\"2015-09-08T00:00:00\",\"2015-09-09T00:00:00\",\"2015-09-10T00:00:00\",\"2015-09-11T00:00:00\",\"2015-09-12T00:00:00\",\"2015-09-13T00:00:00\",\"2015-09-14T00:00:00\",\"2015-09-15T00:00:00\",\"2015-09-16T00:00:00\",\"2015-09-17T00:00:00\",\"2015-09-18T00:00:00\",\"2015-09-19T00:00:00\",\"2015-09-20T00:00:00\",\"2015-09-21T00:00:00\",\"2015-09-22T00:00:00\",\"2015-09-23T00:00:00\",\"2015-09-24T00:00:00\",\"2015-09-25T00:00:00\",\"2015-09-26T00:00:00\",\"2015-09-27T00:00:00\",\"2015-09-28T00:00:00\",\"2015-09-29T00:00:00\",\"2015-09-30T00:00:00\"],\"y\":[310.0,431.0,425.0,481.0,444.0,213.0,221.0,210.0,206.0,147.0,269.0,270.0,141.0,109.0,157.0,99.0,80.0,93.0,111.0,87.0,105.0,198.0,107.0,60.0,105.0,113.0,52.0,42.0,65.0,80.0,68.0,145.0,178.0,97.0,108.0,254.0,102.0,54.0,113.0,72.0,61.0,50.0,89.0,100.0,65.0,96.0,263.0,188.0,144.0,118.0,163.0,136.0,319.0,136.0,266.0,177.0,252.0,269.0,136.0,324.0,344.0,346.0,179.0,244.0,362.0,287.0,290.0,294.0,167.0,183.0,153.0,143.0,121.0,128.0,112.0,105.0,162.0,169.0,231.0,148.0,113.0,164.0,100.0,135.0,138.0,85.0,104.0,128.0,124.0,128.0,238.0,103.0,142.0,67.0,163.0,136.0,94.0,166.0,286.0,171.0,112.0,165.0,491.0,123.0,119.0,179.0,193.0,208.0,162.0,151.0,197.0,97.0,127.0,455.0,174.0,166.0,354.0,124.0,92.0,104.0,99.0,72.0,106.0,122.0,115.0,141.0,171.0,205.0,316.0,317.0,294.0,116.0,299.0,131.0,136.0,81.0,262.0,175.0,163.0,123.0,272.0,145.0,122.0,124.0,287.0,259.0,244.0,221.0,244.0,261.0,138.0,110.0,112.0,105.0,124.0,163.0,117.0,175.0,227.0,190.0,198.0,185.0,189.0,193.0,224.0,289.0,343.0,473.0,301.0,183.0,143.0,296.0,218.0,183.0,186.0,173.0,282.0,254.0,188.0,190.0,208.0,191.0,150.0,153.0,84.0,123.0,168.0,182.0,287.0,161.0,115.0,98.0,129.0,184.0,151.0,213.0,157.0,132.0,159.0,135.0,146.0,171.0,141.0,134.0,106.0,103.0,140.0,121.0,127.0,89.0,210.0,166.0,140.0,145.0,178.0,141.0,186.0,145.0,189.0,131.0,129.0,263.0,209.0,124.0,142.0,133.0,128.0,140.0,180.0,126.0,222.0,304.0,114.0,64.0,83.0,104.0,112.0,99.0,70.0,68.0,52.0,94.0,63.0,49.0,65.0,104.0,99.0,64.0,66.0,74.0,124.0,184.0,133.0,104.0,44.0,93.0,68.0,85.0,63.0,348.0,92.0,52.0,99.0,66.0,45.0,62.0,54.0,82.0,41.0,71.0,77.0,40.0,64.0],\"type\":\"scatter\"},{\"line\":{\"color\":\"mediumslateblue\"},\"marker\":{\"color\":\"black\",\"opacity\":0.4},\"mode\":\"markers+lines\",\"name\":\"LAX\",\"visible\":\"legendonly\",\"x\":[\"2015-01-01T00:00:00\",\"2015-01-02T00:00:00\",\"2015-01-03T00:00:00\",\"2015-01-04T00:00:00\",\"2015-01-05T00:00:00\",\"2015-01-06T00:00:00\",\"2015-01-07T00:00:00\",\"2015-01-08T00:00:00\",\"2015-01-09T00:00:00\",\"2015-01-10T00:00:00\",\"2015-01-11T00:00:00\",\"2015-01-12T00:00:00\",\"2015-01-13T00:00:00\",\"2015-01-14T00:00:00\",\"2015-01-15T00:00:00\",\"2015-01-16T00:00:00\",\"2015-01-17T00:00:00\",\"2015-01-18T00:00:00\",\"2015-01-19T00:00:00\",\"2015-01-20T00:00:00\",\"2015-01-21T00:00:00\",\"2015-01-22T00:00:00\",\"2015-01-23T00:00:00\",\"2015-01-24T00:00:00\",\"2015-01-25T00:00:00\",\"2015-01-26T00:00:00\",\"2015-01-27T00:00:00\",\"2015-01-28T00:00:00\",\"2015-01-29T00:00:00\",\"2015-01-30T00:00:00\",\"2015-01-31T00:00:00\",\"2015-02-01T00:00:00\",\"2015-02-02T00:00:00\",\"2015-02-03T00:00:00\",\"2015-02-04T00:00:00\",\"2015-02-05T00:00:00\",\"2015-02-06T00:00:00\",\"2015-02-07T00:00:00\",\"2015-02-08T00:00:00\",\"2015-02-09T00:00:00\",\"2015-02-10T00:00:00\",\"2015-02-11T00:00:00\",\"2015-02-12T00:00:00\",\"2015-02-13T00:00:00\",\"2015-02-14T00:00:00\",\"2015-02-15T00:00:00\",\"2015-02-16T00:00:00\",\"2015-02-17T00:00:00\",\"2015-02-18T00:00:00\",\"2015-02-19T00:00:00\",\"2015-02-20T00:00:00\",\"2015-02-21T00:00:00\",\"2015-02-22T00:00:00\",\"2015-02-23T00:00:00\",\"2015-02-24T00:00:00\",\"2015-02-25T00:00:00\",\"2015-02-26T00:00:00\",\"2015-02-27T00:00:00\",\"2015-02-28T00:00:00\",\"2015-03-01T00:00:00\",\"2015-03-02T00:00:00\",\"2015-03-03T00:00:00\",\"2015-03-04T00:00:00\",\"2015-03-05T00:00:00\",\"2015-03-06T00:00:00\",\"2015-03-07T00:00:00\",\"2015-03-08T00:00:00\",\"2015-03-09T00:00:00\",\"2015-03-10T00:00:00\",\"2015-03-11T00:00:00\",\"2015-03-12T00:00:00\",\"2015-03-13T00:00:00\",\"2015-03-14T00:00:00\",\"2015-03-15T00:00:00\",\"2015-03-16T00:00:00\",\"2015-03-17T00:00:00\",\"2015-03-18T00:00:00\",\"2015-03-19T00:00:00\",\"2015-03-20T00:00:00\",\"2015-03-21T00:00:00\",\"2015-03-22T00:00:00\",\"2015-03-23T00:00:00\",\"2015-03-24T00:00:00\",\"2015-03-25T00:00:00\",\"2015-03-26T00:00:00\",\"2015-03-27T00:00:00\",\"2015-03-28T00:00:00\",\"2015-03-29T00:00:00\",\"2015-03-30T00:00:00\",\"2015-03-31T00:00:00\",\"2015-04-01T00:00:00\",\"2015-04-02T00:00:00\",\"2015-04-03T00:00:00\",\"2015-04-04T00:00:00\",\"2015-04-05T00:00:00\",\"2015-04-06T00:00:00\",\"2015-04-07T00:00:00\",\"2015-04-08T00:00:00\",\"2015-04-09T00:00:00\",\"2015-04-10T00:00:00\",\"2015-04-11T00:00:00\",\"2015-04-12T00:00:00\",\"2015-04-13T00:00:00\",\"2015-04-14T00:00:00\",\"2015-04-15T00:00:00\",\"2015-04-16T00:00:00\",\"2015-04-17T00:00:00\",\"2015-04-18T00:00:00\",\"2015-04-19T00:00:00\",\"2015-04-20T00:00:00\",\"2015-04-21T00:00:00\",\"2015-04-22T00:00:00\",\"2015-04-23T00:00:00\",\"2015-04-24T00:00:00\",\"2015-04-25T00:00:00\",\"2015-04-26T00:00:00\",\"2015-04-27T00:00:00\",\"2015-04-28T00:00:00\",\"2015-04-29T00:00:00\",\"2015-04-30T00:00:00\",\"2015-05-01T00:00:00\",\"2015-05-02T00:00:00\",\"2015-05-03T00:00:00\",\"2015-05-04T00:00:00\",\"2015-05-05T00:00:00\",\"2015-05-06T00:00:00\",\"2015-05-07T00:00:00\",\"2015-05-08T00:00:00\",\"2015-05-09T00:00:00\",\"2015-05-10T00:00:00\",\"2015-05-11T00:00:00\",\"2015-05-12T00:00:00\",\"2015-05-13T00:00:00\",\"2015-05-14T00:00:00\",\"2015-05-15T00:00:00\",\"2015-05-16T00:00:00\",\"2015-05-17T00:00:00\",\"2015-05-18T00:00:00\",\"2015-05-19T00:00:00\",\"2015-05-20T00:00:00\",\"2015-05-21T00:00:00\",\"2015-05-22T00:00:00\",\"2015-05-23T00:00:00\",\"2015-05-24T00:00:00\",\"2015-05-25T00:00:00\",\"2015-05-26T00:00:00\",\"2015-05-27T00:00:00\",\"2015-05-28T00:00:00\",\"2015-05-29T00:00:00\",\"2015-05-30T00:00:00\",\"2015-05-31T00:00:00\",\"2015-06-01T00:00:00\",\"2015-06-02T00:00:00\",\"2015-06-03T00:00:00\",\"2015-06-04T00:00:00\",\"2015-06-05T00:00:00\",\"2015-06-06T00:00:00\",\"2015-06-07T00:00:00\",\"2015-06-08T00:00:00\",\"2015-06-09T00:00:00\",\"2015-06-10T00:00:00\",\"2015-06-11T00:00:00\",\"2015-06-12T00:00:00\",\"2015-06-13T00:00:00\",\"2015-06-14T00:00:00\",\"2015-06-15T00:00:00\",\"2015-06-16T00:00:00\",\"2015-06-17T00:00:00\",\"2015-06-18T00:00:00\",\"2015-06-19T00:00:00\",\"2015-06-20T00:00:00\",\"2015-06-21T00:00:00\",\"2015-06-22T00:00:00\",\"2015-06-23T00:00:00\",\"2015-06-24T00:00:00\",\"2015-06-25T00:00:00\",\"2015-06-26T00:00:00\",\"2015-06-27T00:00:00\",\"2015-06-28T00:00:00\",\"2015-06-29T00:00:00\",\"2015-06-30T00:00:00\",\"2015-07-01T00:00:00\",\"2015-07-02T00:00:00\",\"2015-07-03T00:00:00\",\"2015-07-04T00:00:00\",\"2015-07-05T00:00:00\",\"2015-07-06T00:00:00\",\"2015-07-07T00:00:00\",\"2015-07-08T00:00:00\",\"2015-07-09T00:00:00\",\"2015-07-10T00:00:00\",\"2015-07-11T00:00:00\",\"2015-07-12T00:00:00\",\"2015-07-13T00:00:00\",\"2015-07-14T00:00:00\",\"2015-07-15T00:00:00\",\"2015-07-16T00:00:00\",\"2015-07-17T00:00:00\",\"2015-07-18T00:00:00\",\"2015-07-19T00:00:00\",\"2015-07-20T00:00:00\",\"2015-07-21T00:00:00\",\"2015-07-22T00:00:00\",\"2015-07-23T00:00:00\",\"2015-07-24T00:00:00\",\"2015-07-25T00:00:00\",\"2015-07-26T00:00:00\",\"2015-07-27T00:00:00\",\"2015-07-28T00:00:00\",\"2015-07-29T00:00:00\",\"2015-07-30T00:00:00\",\"2015-07-31T00:00:00\",\"2015-08-01T00:00:00\",\"2015-08-02T00:00:00\",\"2015-08-03T00:00:00\",\"2015-08-04T00:00:00\",\"2015-08-05T00:00:00\",\"2015-08-06T00:00:00\",\"2015-08-07T00:00:00\",\"2015-08-08T00:00:00\",\"2015-08-09T00:00:00\",\"2015-08-10T00:00:00\",\"2015-08-11T00:00:00\",\"2015-08-12T00:00:00\",\"2015-08-13T00:00:00\",\"2015-08-14T00:00:00\",\"2015-08-15T00:00:00\",\"2015-08-16T00:00:00\",\"2015-08-17T00:00:00\",\"2015-08-18T00:00:00\",\"2015-08-19T00:00:00\",\"2015-08-20T00:00:00\",\"2015-08-21T00:00:00\",\"2015-08-22T00:00:00\",\"2015-08-23T00:00:00\",\"2015-08-24T00:00:00\",\"2015-08-25T00:00:00\",\"2015-08-26T00:00:00\",\"2015-08-27T00:00:00\",\"2015-08-28T00:00:00\",\"2015-08-29T00:00:00\",\"2015-08-30T00:00:00\",\"2015-08-31T00:00:00\",\"2015-09-01T00:00:00\",\"2015-09-02T00:00:00\",\"2015-09-03T00:00:00\",\"2015-09-04T00:00:00\",\"2015-09-05T00:00:00\",\"2015-09-06T00:00:00\",\"2015-09-07T00:00:00\",\"2015-09-08T00:00:00\",\"2015-09-09T00:00:00\",\"2015-09-10T00:00:00\",\"2015-09-11T00:00:00\",\"2015-09-12T00:00:00\",\"2015-09-13T00:00:00\",\"2015-09-14T00:00:00\",\"2015-09-15T00:00:00\",\"2015-09-16T00:00:00\",\"2015-09-17T00:00:00\",\"2015-09-18T00:00:00\",\"2015-09-19T00:00:00\",\"2015-09-20T00:00:00\",\"2015-09-21T00:00:00\",\"2015-09-22T00:00:00\",\"2015-09-23T00:00:00\",\"2015-09-24T00:00:00\",\"2015-09-25T00:00:00\",\"2015-09-26T00:00:00\",\"2015-09-27T00:00:00\",\"2015-09-28T00:00:00\",\"2015-09-29T00:00:00\",\"2015-09-30T00:00:00\"],\"y\":[115.0,192.0,220.0,271.0,159.0,114.0,94.0,90.0,95.0,74.0,198.0,135.0,70.0,53.0,85.0,102.0,47.0,73.0,85.0,93.0,51.0,58.0,62.0,32.0,65.0,50.0,28.0,49.0,69.0,105.0,37.0,72.0,112.0,79.0,86.0,245.0,107.0,50.0,125.0,101.0,48.0,33.0,75.0,123.0,83.0,81.0,116.0,78.0,83.0,134.0,150.0,104.0,183.0,202.0,71.0,79.0,145.0,170.0,120.0,223.0,252.0,142.0,107.0,115.0,195.0,69.0,169.0,118.0,97.0,84.0,143.0,167.0,50.0,146.0,96.0,85.0,128.0,97.0,159.0,82.0,195.0,164.0,80.0,104.0,118.0,140.0,80.0,193.0,124.0,86.0,121.0,218.0,159.0,98.0,135.0,137.0,133.0,131.0,163.0,143.0,59.0,64.0,114.0,73.0,85.0,110.0,99.0,56.0,92.0,146.0,69.0,80.0,123.0,151.0,109.0,81.0,81.0,51.0,55.0,74.0,88.0,55.0,110.0,131.0,59.0,90.0,114.0,107.0,96.0,132.0,172.0,112.0,113.0,180.0,146.0,82.0,141.0,184.0,128.0,140.0,160.0,157.0,45.0,55.0,89.0,126.0,156.0,100.0,103.0,62.0,126.0,152.0,109.0,107.0,116.0,149.0,84.0,149.0,159.0,140.0,152.0,192.0,164.0,131.0,136.0,202.0,172.0,145.0,231.0,208.0,135.0,165.0,151.0,171.0,157.0,136.0,153.0,140.0,168.0,108.0,136.0,158.0,194.0,76.0,34.0,118.0,194.0,177.0,251.0,210.0,154.0,88.0,163.0,173.0,239.0,171.0,173.0,142.0,302.0,246.0,173.0,197.0,163.0,197.0,136.0,93.0,171.0,152.0,135.0,209.0,234.0,171.0,130.0,179.0,179.0,215.0,164.0,197.0,173.0,102.0,158.0,202.0,186.0,153.0,180.0,163.0,82.0,159.0,184.0,117.0,135.0,219.0,176.0,67.0,135.0,116.0,98.0,87.0,88.0,75.0,65.0,86.0,87.0,50.0,81.0,60.0,101.0,44.0,49.0,74.0,98.0,72.0,97.0,92.0,44.0,164.0,111.0,115.0,107.0,125.0,104.0,49.0,77.0,195.0,53.0,60.0,64.0,93.0,84.0,128.0,57.0,58.0,80.0],\"type\":\"scatter\"},{\"line\":{\"color\":\"grey\"},\"marker\":{\"color\":\"black\",\"opacity\":0.4},\"mode\":\"markers+lines\",\"name\":\"DEN\",\"visible\":\"legendonly\",\"x\":[\"2015-01-01T00:00:00\",\"2015-01-02T00:00:00\",\"2015-01-03T00:00:00\",\"2015-01-04T00:00:00\",\"2015-01-05T00:00:00\",\"2015-01-06T00:00:00\",\"2015-01-07T00:00:00\",\"2015-01-08T00:00:00\",\"2015-01-09T00:00:00\",\"2015-01-10T00:00:00\",\"2015-01-11T00:00:00\",\"2015-01-12T00:00:00\",\"2015-01-13T00:00:00\",\"2015-01-14T00:00:00\",\"2015-01-15T00:00:00\",\"2015-01-16T00:00:00\",\"2015-01-17T00:00:00\",\"2015-01-18T00:00:00\",\"2015-01-19T00:00:00\",\"2015-01-20T00:00:00\",\"2015-01-21T00:00:00\",\"2015-01-22T00:00:00\",\"2015-01-23T00:00:00\",\"2015-01-24T00:00:00\",\"2015-01-25T00:00:00\",\"2015-01-26T00:00:00\",\"2015-01-27T00:00:00\",\"2015-01-28T00:00:00\",\"2015-01-29T00:00:00\",\"2015-01-30T00:00:00\",\"2015-01-31T00:00:00\",\"2015-02-01T00:00:00\",\"2015-02-02T00:00:00\",\"2015-02-03T00:00:00\",\"2015-02-04T00:00:00\",\"2015-02-05T00:00:00\",\"2015-02-06T00:00:00\",\"2015-02-07T00:00:00\",\"2015-02-08T00:00:00\",\"2015-02-09T00:00:00\",\"2015-02-10T00:00:00\",\"2015-02-11T00:00:00\",\"2015-02-12T00:00:00\",\"2015-02-13T00:00:00\",\"2015-02-14T00:00:00\",\"2015-02-15T00:00:00\",\"2015-02-16T00:00:00\",\"2015-02-17T00:00:00\",\"2015-02-18T00:00:00\",\"2015-02-19T00:00:00\",\"2015-02-20T00:00:00\",\"2015-02-21T00:00:00\",\"2015-02-22T00:00:00\",\"2015-02-23T00:00:00\",\"2015-02-24T00:00:00\",\"2015-02-25T00:00:00\",\"2015-02-26T00:00:00\",\"2015-02-27T00:00:00\",\"2015-02-28T00:00:00\",\"2015-03-01T00:00:00\",\"2015-03-02T00:00:00\",\"2015-03-03T00:00:00\",\"2015-03-04T00:00:00\",\"2015-03-05T00:00:00\",\"2015-03-06T00:00:00\",\"2015-03-07T00:00:00\",\"2015-03-08T00:00:00\",\"2015-03-09T00:00:00\",\"2015-03-10T00:00:00\",\"2015-03-11T00:00:00\",\"2015-03-12T00:00:00\",\"2015-03-13T00:00:00\",\"2015-03-14T00:00:00\",\"2015-03-15T00:00:00\",\"2015-03-16T00:00:00\",\"2015-03-17T00:00:00\",\"2015-03-18T00:00:00\",\"2015-03-19T00:00:00\",\"2015-03-20T00:00:00\",\"2015-03-21T00:00:00\",\"2015-03-22T00:00:00\",\"2015-03-23T00:00:00\",\"2015-03-24T00:00:00\",\"2015-03-25T00:00:00\",\"2015-03-26T00:00:00\",\"2015-03-27T00:00:00\",\"2015-03-28T00:00:00\",\"2015-03-29T00:00:00\",\"2015-03-30T00:00:00\",\"2015-03-31T00:00:00\",\"2015-04-01T00:00:00\",\"2015-04-02T00:00:00\",\"2015-04-03T00:00:00\",\"2015-04-04T00:00:00\",\"2015-04-05T00:00:00\",\"2015-04-06T00:00:00\",\"2015-04-07T00:00:00\",\"2015-04-08T00:00:00\",\"2015-04-09T00:00:00\",\"2015-04-10T00:00:00\",\"2015-04-11T00:00:00\",\"2015-04-12T00:00:00\",\"2015-04-13T00:00:00\",\"2015-04-14T00:00:00\",\"2015-04-15T00:00:00\",\"2015-04-16T00:00:00\",\"2015-04-17T00:00:00\",\"2015-04-18T00:00:00\",\"2015-04-19T00:00:00\",\"2015-04-20T00:00:00\",\"2015-04-21T00:00:00\",\"2015-04-22T00:00:00\",\"2015-04-23T00:00:00\",\"2015-04-24T00:00:00\",\"2015-04-25T00:00:00\",\"2015-04-26T00:00:00\",\"2015-04-27T00:00:00\",\"2015-04-28T00:00:00\",\"2015-04-29T00:00:00\",\"2015-04-30T00:00:00\",\"2015-05-01T00:00:00\",\"2015-05-02T00:00:00\",\"2015-05-03T00:00:00\",\"2015-05-04T00:00:00\",\"2015-05-05T00:00:00\",\"2015-05-06T00:00:00\",\"2015-05-07T00:00:00\",\"2015-05-08T00:00:00\",\"2015-05-09T00:00:00\",\"2015-05-10T00:00:00\",\"2015-05-11T00:00:00\",\"2015-05-12T00:00:00\",\"2015-05-13T00:00:00\",\"2015-05-14T00:00:00\",\"2015-05-15T00:00:00\",\"2015-05-16T00:00:00\",\"2015-05-17T00:00:00\",\"2015-05-18T00:00:00\",\"2015-05-19T00:00:00\",\"2015-05-20T00:00:00\",\"2015-05-21T00:00:00\",\"2015-05-22T00:00:00\",\"2015-05-23T00:00:00\",\"2015-05-24T00:00:00\",\"2015-05-25T00:00:00\",\"2015-05-26T00:00:00\",\"2015-05-27T00:00:00\",\"2015-05-28T00:00:00\",\"2015-05-29T00:00:00\",\"2015-05-30T00:00:00\",\"2015-05-31T00:00:00\",\"2015-06-01T00:00:00\",\"2015-06-02T00:00:00\",\"2015-06-03T00:00:00\",\"2015-06-04T00:00:00\",\"2015-06-05T00:00:00\",\"2015-06-06T00:00:00\",\"2015-06-07T00:00:00\",\"2015-06-08T00:00:00\",\"2015-06-09T00:00:00\",\"2015-06-10T00:00:00\",\"2015-06-11T00:00:00\",\"2015-06-12T00:00:00\",\"2015-06-13T00:00:00\",\"2015-06-14T00:00:00\",\"2015-06-15T00:00:00\",\"2015-06-16T00:00:00\",\"2015-06-17T00:00:00\",\"2015-06-18T00:00:00\",\"2015-06-19T00:00:00\",\"2015-06-20T00:00:00\",\"2015-06-21T00:00:00\",\"2015-06-22T00:00:00\",\"2015-06-23T00:00:00\",\"2015-06-24T00:00:00\",\"2015-06-25T00:00:00\",\"2015-06-26T00:00:00\",\"2015-06-27T00:00:00\",\"2015-06-28T00:00:00\",\"2015-06-29T00:00:00\",\"2015-06-30T00:00:00\",\"2015-07-01T00:00:00\",\"2015-07-02T00:00:00\",\"2015-07-03T00:00:00\",\"2015-07-04T00:00:00\",\"2015-07-05T00:00:00\",\"2015-07-06T00:00:00\",\"2015-07-07T00:00:00\",\"2015-07-08T00:00:00\",\"2015-07-09T00:00:00\",\"2015-07-10T00:00:00\",\"2015-07-11T00:00:00\",\"2015-07-12T00:00:00\",\"2015-07-13T00:00:00\",\"2015-07-14T00:00:00\",\"2015-07-15T00:00:00\",\"2015-07-16T00:00:00\",\"2015-07-17T00:00:00\",\"2015-07-18T00:00:00\",\"2015-07-19T00:00:00\",\"2015-07-20T00:00:00\",\"2015-07-21T00:00:00\",\"2015-07-22T00:00:00\",\"2015-07-23T00:00:00\",\"2015-07-24T00:00:00\",\"2015-07-25T00:00:00\",\"2015-07-26T00:00:00\",\"2015-07-27T00:00:00\",\"2015-07-28T00:00:00\",\"2015-07-29T00:00:00\",\"2015-07-30T00:00:00\",\"2015-07-31T00:00:00\",\"2015-08-01T00:00:00\",\"2015-08-02T00:00:00\",\"2015-08-03T00:00:00\",\"2015-08-04T00:00:00\",\"2015-08-05T00:00:00\",\"2015-08-06T00:00:00\",\"2015-08-07T00:00:00\",\"2015-08-08T00:00:00\",\"2015-08-09T00:00:00\",\"2015-08-10T00:00:00\",\"2015-08-11T00:00:00\",\"2015-08-12T00:00:00\",\"2015-08-13T00:00:00\",\"2015-08-14T00:00:00\",\"2015-08-15T00:00:00\",\"2015-08-16T00:00:00\",\"2015-08-17T00:00:00\",\"2015-08-18T00:00:00\",\"2015-08-19T00:00:00\",\"2015-08-20T00:00:00\",\"2015-08-21T00:00:00\",\"2015-08-22T00:00:00\",\"2015-08-23T00:00:00\",\"2015-08-24T00:00:00\",\"2015-08-25T00:00:00\",\"2015-08-26T00:00:00\",\"2015-08-27T00:00:00\",\"2015-08-28T00:00:00\",\"2015-08-29T00:00:00\",\"2015-08-30T00:00:00\",\"2015-08-31T00:00:00\",\"2015-09-01T00:00:00\",\"2015-09-02T00:00:00\",\"2015-09-03T00:00:00\",\"2015-09-04T00:00:00\",\"2015-09-05T00:00:00\",\"2015-09-06T00:00:00\",\"2015-09-07T00:00:00\",\"2015-09-08T00:00:00\",\"2015-09-09T00:00:00\",\"2015-09-10T00:00:00\",\"2015-09-11T00:00:00\",\"2015-09-12T00:00:00\",\"2015-09-13T00:00:00\",\"2015-09-14T00:00:00\",\"2015-09-15T00:00:00\",\"2015-09-16T00:00:00\",\"2015-09-17T00:00:00\",\"2015-09-18T00:00:00\",\"2015-09-19T00:00:00\",\"2015-09-20T00:00:00\",\"2015-09-21T00:00:00\",\"2015-09-22T00:00:00\",\"2015-09-23T00:00:00\",\"2015-09-24T00:00:00\",\"2015-09-25T00:00:00\",\"2015-09-26T00:00:00\",\"2015-09-27T00:00:00\",\"2015-09-28T00:00:00\",\"2015-09-29T00:00:00\",\"2015-09-30T00:00:00\"],\"y\":[319.0,333.0,375.0,468.0,383.0,235.0,304.0,171.0,247.0,96.0,186.0,209.0,127.0,89.0,96.0,85.0,73.0,59.0,91.0,119.0,277.0,90.0,69.0,41.0,77.0,57.0,34.0,83.0,81.0,117.0,52.0,183.0,118.0,105.0,271.0,124.0,64.0,28.0,67.0,97.0,71.0,67.0,97.0,87.0,90.0,139.0,359.0,181.0,168.0,123.0,153.0,168.0,278.0,267.0,133.0,223.0,301.0,226.0,239.0,305.0,246.0,315.0,227.0,167.0,138.0,90.0,88.0,101.0,71.0,63.0,64.0,71.0,84.0,77.0,53.0,124.0,76.0,88.0,104.0,80.0,87.0,173.0,88.0,235.0,126.0,85.0,66.0,75.0,80.0,56.0,107.0,156.0,142.0,84.0,81.0,78.0,121.0,140.0,168.0,117.0,52.0,70.0,119.0,84.0,118.0,279.0,299.0,79.0,65.0,139.0,67.0,114.0,153.0,177.0,85.0,93.0,102.0,56.0,52.0,68.0,113.0,77.0,87.0,122.0,84.0,101.0,118.0,138.0,211.0,187.0,156.0,68.0,55.0,81.0,129.0,77.0,113.0,170.0,178.0,177.0,129.0,116.0,161.0,53.0,80.0,123.0,148.0,148.0,105.0,53.0,127.0,172.0,128.0,168.0,230.0,302.0,90.0,189.0,149.0,183.0,193.0,241.0,227.0,189.0,119.0,213.0,282.0,237.0,214.0,160.0,113.0,134.0,156.0,165.0,246.0,203.0,154.0,114.0,184.0,97.0,161.0,182.0,233.0,76.0,44.0,124.0,230.0,214.0,333.0,269.0,169.0,88.0,141.0,188.0,269.0,226.0,149.0,140.0,221.0,151.0,97.0,217.0,107.0,141.0,107.0,103.0,105.0,123.0,100.0,107.0,178.0,162.0,148.0,125.0,123.0,153.0,124.0,118.0,155.0,94.0,125.0,155.0,226.0,95.0,136.0,150.0,87.0,140.0,181.0,103.0,130.0,189.0,119.0,69.0,116.0,96.0,113.0,95.0,98.0,59.0,37.0,56.0,147.0,69.0,55.0,90.0,93.0,28.0,30.0,59.0,124.0,75.0,126.0,130.0,34.0,61.0,65.0,52.0,62.0,110.0,93.0,47.0,60.0,82.0,30.0,95.0,40.0,73.0,39.0,77.0,55.0,101.0,74.0],\"type\":\"scatter\"},{\"marker\":{\"color\":\"blue\",\"size\":10},\"mode\":\"markers\",\"name\":\"-2 days\",\"x\":[null],\"y\":[null],\"type\":\"scatter\"},{\"marker\":{\"color\":\"red\",\"size\":10},\"mode\":\"markers\",\"name\":\"+2 days\",\"x\":[null],\"y\":[null],\"type\":\"scatter\"}],                        {\"template\":{\"data\":{\"histogram2dcontour\":[{\"type\":\"histogram2dcontour\",\"colorbar\":{\"outlinewidth\":0,\"ticks\":\"\"},\"colorscale\":[[0.0,\"#0d0887\"],[0.1111111111111111,\"#46039f\"],[0.2222222222222222,\"#7201a8\"],[0.3333333333333333,\"#9c179e\"],[0.4444444444444444,\"#bd3786\"],[0.5555555555555556,\"#d8576b\"],[0.6666666666666666,\"#ed7953\"],[0.7777777777777778,\"#fb9f3a\"],[0.8888888888888888,\"#fdca26\"],[1.0,\"#f0f921\"]]}],\"choropleth\":[{\"type\":\"choropleth\",\"colorbar\":{\"outlinewidth\":0,\"ticks\":\"\"}}],\"histogram2d\":[{\"type\":\"histogram2d\",\"colorbar\":{\"outlinewidth\":0,\"ticks\":\"\"},\"colorscale\":[[0.0,\"#0d0887\"],[0.1111111111111111,\"#46039f\"],[0.2222222222222222,\"#7201a8\"],[0.3333333333333333,\"#9c179e\"],[0.4444444444444444,\"#bd3786\"],[0.5555555555555556,\"#d8576b\"],[0.6666666666666666,\"#ed7953\"],[0.7777777777777778,\"#fb9f3a\"],[0.8888888888888888,\"#fdca26\"],[1.0,\"#f0f921\"]]}],\"heatmap\":[{\"type\":\"heatmap\",\"colorbar\":{\"outlinewidth\":0,\"ticks\":\"\"},\"colorscale\":[[0.0,\"#0d0887\"],[0.1111111111111111,\"#46039f\"],[0.2222222222222222,\"#7201a8\"],[0.3333333333333333,\"#9c179e\"],[0.4444444444444444,\"#bd3786\"],[0.5555555555555556,\"#d8576b\"],[0.6666666666666666,\"#ed7953\"],[0.7777777777777778,\"#fb9f3a\"],[0.8888888888888888,\"#fdca26\"],[1.0,\"#f0f921\"]]}],\"heatmapgl\":[{\"type\":\"heatmapgl\",\"colorbar\":{\"outlinewidth\":0,\"ticks\":\"\"},\"colorscale\":[[0.0,\"#0d0887\"],[0.1111111111111111,\"#46039f\"],[0.2222222222222222,\"#7201a8\"],[0.3333333333333333,\"#9c179e\"],[0.4444444444444444,\"#bd3786\"],[0.5555555555555556,\"#d8576b\"],[0.6666666666666666,\"#ed7953\"],[0.7777777777777778,\"#fb9f3a\"],[0.8888888888888888,\"#fdca26\"],[1.0,\"#f0f921\"]]}],\"contourcarpet\":[{\"type\":\"contourcarpet\",\"colorbar\":{\"outlinewidth\":0,\"ticks\":\"\"}}],\"contour\":[{\"type\":\"contour\",\"colorbar\":{\"outlinewidth\":0,\"ticks\":\"\"},\"colorscale\":[[0.0,\"#0d0887\"],[0.1111111111111111,\"#46039f\"],[0.2222222222222222,\"#7201a8\"],[0.3333333333333333,\"#9c179e\"],[0.4444444444444444,\"#bd3786\"],[0.5555555555555556,\"#d8576b\"],[0.6666666666666666,\"#ed7953\"],[0.7777777777777778,\"#fb9f3a\"],[0.8888888888888888,\"#fdca26\"],[1.0,\"#f0f921\"]]}],\"surface\":[{\"type\":\"surface\",\"colorbar\":{\"outlinewidth\":0,\"ticks\":\"\"},\"colorscale\":[[0.0,\"#0d0887\"],[0.1111111111111111,\"#46039f\"],[0.2222222222222222,\"#7201a8\"],[0.3333333333333333,\"#9c179e\"],[0.4444444444444444,\"#bd3786\"],[0.5555555555555556,\"#d8576b\"],[0.6666666666666666,\"#ed7953\"],[0.7777777777777778,\"#fb9f3a\"],[0.8888888888888888,\"#fdca26\"],[1.0,\"#f0f921\"]]}],\"mesh3d\":[{\"type\":\"mesh3d\",\"colorbar\":{\"outlinewidth\":0,\"ticks\":\"\"}}],\"scatter\":[{\"fillpattern\":{\"fillmode\":\"overlay\",\"size\":10,\"solidity\":0.2},\"type\":\"scatter\"}],\"parcoords\":[{\"type\":\"parcoords\",\"line\":{\"colorbar\":{\"outlinewidth\":0,\"ticks\":\"\"}}}],\"scatterpolargl\":[{\"type\":\"scatterpolargl\",\"marker\":{\"colorbar\":{\"outlinewidth\":0,\"ticks\":\"\"}}}],\"bar\":[{\"error_x\":{\"color\":\"#2a3f5f\"},\"error_y\":{\"color\":\"#2a3f5f\"},\"marker\":{\"line\":{\"color\":\"#E5ECF6\",\"width\":0.5},\"pattern\":{\"fillmode\":\"overlay\",\"size\":10,\"solidity\":0.2}},\"type\":\"bar\"}],\"scattergeo\":[{\"type\":\"scattergeo\",\"marker\":{\"colorbar\":{\"outlinewidth\":0,\"ticks\":\"\"}}}],\"scatterpolar\":[{\"type\":\"scatterpolar\",\"marker\":{\"colorbar\":{\"outlinewidth\":0,\"ticks\":\"\"}}}],\"histogram\":[{\"marker\":{\"pattern\":{\"fillmode\":\"overlay\",\"size\":10,\"solidity\":0.2}},\"type\":\"histogram\"}],\"scattergl\":[{\"type\":\"scattergl\",\"marker\":{\"colorbar\":{\"outlinewidth\":0,\"ticks\":\"\"}}}],\"scatter3d\":[{\"type\":\"scatter3d\",\"line\":{\"colorbar\":{\"outlinewidth\":0,\"ticks\":\"\"}},\"marker\":{\"colorbar\":{\"outlinewidth\":0,\"ticks\":\"\"}}}],\"scattermapbox\":[{\"type\":\"scattermapbox\",\"marker\":{\"colorbar\":{\"outlinewidth\":0,\"ticks\":\"\"}}}],\"scatterternary\":[{\"type\":\"scatterternary\",\"marker\":{\"colorbar\":{\"outlinewidth\":0,\"ticks\":\"\"}}}],\"scattercarpet\":[{\"type\":\"scattercarpet\",\"marker\":{\"colorbar\":{\"outlinewidth\":0,\"ticks\":\"\"}}}],\"carpet\":[{\"aaxis\":{\"endlinecolor\":\"#2a3f5f\",\"gridcolor\":\"white\",\"linecolor\":\"white\",\"minorgridcolor\":\"white\",\"startlinecolor\":\"#2a3f5f\"},\"baxis\":{\"endlinecolor\":\"#2a3f5f\",\"gridcolor\":\"white\",\"linecolor\":\"white\",\"minorgridcolor\":\"white\",\"startlinecolor\":\"#2a3f5f\"},\"type\":\"carpet\"}],\"table\":[{\"cells\":{\"fill\":{\"color\":\"#EBF0F8\"},\"line\":{\"color\":\"white\"}},\"header\":{\"fill\":{\"color\":\"#C8D4E3\"},\"line\":{\"color\":\"white\"}},\"type\":\"table\"}],\"barpolar\":[{\"marker\":{\"line\":{\"color\":\"#E5ECF6\",\"width\":0.5},\"pattern\":{\"fillmode\":\"overlay\",\"size\":10,\"solidity\":0.2}},\"type\":\"barpolar\"}],\"pie\":[{\"automargin\":true,\"type\":\"pie\"}]},\"layout\":{\"autotypenumbers\":\"strict\",\"colorway\":[\"#636efa\",\"#EF553B\",\"#00cc96\",\"#ab63fa\",\"#FFA15A\",\"#19d3f3\",\"#FF6692\",\"#B6E880\",\"#FF97FF\",\"#FECB52\"],\"font\":{\"color\":\"#2a3f5f\"},\"hovermode\":\"closest\",\"hoverlabel\":{\"align\":\"left\"},\"paper_bgcolor\":\"white\",\"plot_bgcolor\":\"#E5ECF6\",\"polar\":{\"bgcolor\":\"#E5ECF6\",\"angularaxis\":{\"gridcolor\":\"white\",\"linecolor\":\"white\",\"ticks\":\"\"},\"radialaxis\":{\"gridcolor\":\"white\",\"linecolor\":\"white\",\"ticks\":\"\"}},\"ternary\":{\"bgcolor\":\"#E5ECF6\",\"aaxis\":{\"gridcolor\":\"white\",\"linecolor\":\"white\",\"ticks\":\"\"},\"baxis\":{\"gridcolor\":\"white\",\"linecolor\":\"white\",\"ticks\":\"\"},\"caxis\":{\"gridcolor\":\"white\",\"linecolor\":\"white\",\"ticks\":\"\"}},\"coloraxis\":{\"colorbar\":{\"outlinewidth\":0,\"ticks\":\"\"}},\"colorscale\":{\"sequential\":[[0.0,\"#0d0887\"],[0.1111111111111111,\"#46039f\"],[0.2222222222222222,\"#7201a8\"],[0.3333333333333333,\"#9c179e\"],[0.4444444444444444,\"#bd3786\"],[0.5555555555555556,\"#d8576b\"],[0.6666666666666666,\"#ed7953\"],[0.7777777777777778,\"#fb9f3a\"],[0.8888888888888888,\"#fdca26\"],[1.0,\"#f0f921\"]],\"sequentialminus\":[[0.0,\"#0d0887\"],[0.1111111111111111,\"#46039f\"],[0.2222222222222222,\"#7201a8\"],[0.3333333333333333,\"#9c179e\"],[0.4444444444444444,\"#bd3786\"],[0.5555555555555556,\"#d8576b\"],[0.6666666666666666,\"#ed7953\"],[0.7777777777777778,\"#fb9f3a\"],[0.8888888888888888,\"#fdca26\"],[1.0,\"#f0f921\"]],\"diverging\":[[0,\"#8e0152\"],[0.1,\"#c51b7d\"],[0.2,\"#de77ae\"],[0.3,\"#f1b6da\"],[0.4,\"#fde0ef\"],[0.5,\"#f7f7f7\"],[0.6,\"#e6f5d0\"],[0.7,\"#b8e186\"],[0.8,\"#7fbc41\"],[0.9,\"#4d9221\"],[1,\"#276419\"]]},\"xaxis\":{\"gridcolor\":\"white\",\"linecolor\":\"white\",\"ticks\":\"\",\"title\":{\"standoff\":15},\"zerolinecolor\":\"white\",\"automargin\":true,\"zerolinewidth\":2},\"yaxis\":{\"gridcolor\":\"white\",\"linecolor\":\"white\",\"ticks\":\"\",\"title\":{\"standoff\":15},\"zerolinecolor\":\"white\",\"automargin\":true,\"zerolinewidth\":2},\"scene\":{\"xaxis\":{\"backgroundcolor\":\"#E5ECF6\",\"gridcolor\":\"white\",\"linecolor\":\"white\",\"showbackground\":true,\"ticks\":\"\",\"zerolinecolor\":\"white\",\"gridwidth\":2},\"yaxis\":{\"backgroundcolor\":\"#E5ECF6\",\"gridcolor\":\"white\",\"linecolor\":\"white\",\"showbackground\":true,\"ticks\":\"\",\"zerolinecolor\":\"white\",\"gridwidth\":2},\"zaxis\":{\"backgroundcolor\":\"#E5ECF6\",\"gridcolor\":\"white\",\"linecolor\":\"white\",\"showbackground\":true,\"ticks\":\"\",\"zerolinecolor\":\"white\",\"gridwidth\":2}},\"shapedefaults\":{\"line\":{\"color\":\"#2a3f5f\"}},\"annotationdefaults\":{\"arrowcolor\":\"#2a3f5f\",\"arrowhead\":0,\"arrowwidth\":1},\"geo\":{\"bgcolor\":\"white\",\"landcolor\":\"#E5ECF6\",\"subunitcolor\":\"white\",\"showland\":true,\"showlakes\":true,\"lakecolor\":\"white\"},\"title\":{\"x\":0.05},\"mapbox\":{\"style\":\"light\"}}},\"shapes\":[{\"fillcolor\":\"blue\",\"line\":{\"width\":0},\"opacity\":0.2,\"type\":\"rect\",\"x0\":\"2015-07-02T00:00:00\",\"x1\":\"2015-07-04T00:00:00\",\"xref\":\"x\",\"y0\":0,\"y1\":1,\"yref\":\"y domain\"},{\"fillcolor\":\"red\",\"line\":{\"width\":0},\"opacity\":0.2,\"type\":\"rect\",\"x0\":\"2015-07-04T00:00:00\",\"x1\":\"2015-07-06T00:00:00\",\"xref\":\"x\",\"y0\":0,\"y1\":1,\"yref\":\"y domain\"},{\"fillcolor\":\"blue\",\"line\":{\"width\":0},\"opacity\":0.2,\"type\":\"rect\",\"x0\":\"2015-04-10T00:00:00\",\"x1\":\"2015-04-12T00:00:00\",\"xref\":\"x\",\"y0\":0,\"y1\":1,\"yref\":\"y domain\"},{\"fillcolor\":\"red\",\"line\":{\"width\":0},\"opacity\":0.2,\"type\":\"rect\",\"x0\":\"2015-04-12T00:00:00\",\"x1\":\"2015-04-14T00:00:00\",\"xref\":\"x\",\"y0\":0,\"y1\":1,\"yref\":\"y domain\"},{\"fillcolor\":\"blue\",\"line\":{\"width\":0},\"opacity\":0.2,\"type\":\"rect\",\"x0\":\"2015-06-17T00:00:00\",\"x1\":\"2015-06-19T00:00:00\",\"xref\":\"x\",\"y0\":0,\"y1\":1,\"yref\":\"y domain\"},{\"fillcolor\":\"red\",\"line\":{\"width\":0},\"opacity\":0.2,\"type\":\"rect\",\"x0\":\"2015-06-19T00:00:00\",\"x1\":\"2015-06-21T00:00:00\",\"xref\":\"x\",\"y0\":0,\"y1\":1,\"yref\":\"y domain\"},{\"fillcolor\":\"blue\",\"line\":{\"width\":0},\"opacity\":0.2,\"type\":\"rect\",\"x0\":\"2015-09-04T00:00:00\",\"x1\":\"2015-09-06T00:00:00\",\"xref\":\"x\",\"y0\":0,\"y1\":1,\"yref\":\"y domain\"},{\"fillcolor\":\"red\",\"line\":{\"width\":0},\"opacity\":0.2,\"type\":\"rect\",\"x0\":\"2015-09-06T00:00:00\",\"x1\":\"2015-09-08T00:00:00\",\"xref\":\"x\",\"y0\":0,\"y1\":1,\"yref\":\"y domain\"},{\"fillcolor\":\"blue\",\"line\":{\"width\":0},\"opacity\":0.2,\"type\":\"rect\",\"x0\":\"2015-01-17T00:00:00\",\"x1\":\"2015-01-19T00:00:00\",\"xref\":\"x\",\"y0\":0,\"y1\":1,\"yref\":\"y domain\"},{\"fillcolor\":\"red\",\"line\":{\"width\":0},\"opacity\":0.2,\"type\":\"rect\",\"x0\":\"2015-01-19T00:00:00\",\"x1\":\"2015-01-21T00:00:00\",\"xref\":\"x\",\"y0\":0,\"y1\":1,\"yref\":\"y domain\"},{\"fillcolor\":\"blue\",\"line\":{\"width\":0},\"opacity\":0.2,\"type\":\"rect\",\"x0\":\"2015-05-23T00:00:00\",\"x1\":\"2015-05-25T00:00:00\",\"xref\":\"x\",\"y0\":0,\"y1\":1,\"yref\":\"y domain\"},{\"fillcolor\":\"red\",\"line\":{\"width\":0},\"opacity\":0.2,\"type\":\"rect\",\"x0\":\"2015-05-25T00:00:00\",\"x1\":\"2015-05-27T00:00:00\",\"xref\":\"x\",\"y0\":0,\"y1\":1,\"yref\":\"y domain\"},{\"fillcolor\":\"blue\",\"line\":{\"width\":0},\"opacity\":0.2,\"type\":\"rect\",\"x0\":\"2014-12-30T00:00:00\",\"x1\":\"2015-01-01T00:00:00\",\"xref\":\"x\",\"y0\":0,\"y1\":1,\"yref\":\"y domain\"},{\"fillcolor\":\"red\",\"line\":{\"width\":0},\"opacity\":0.2,\"type\":\"rect\",\"x0\":\"2015-01-01T00:00:00\",\"x1\":\"2015-01-03T00:00:00\",\"xref\":\"x\",\"y0\":0,\"y1\":1,\"yref\":\"y domain\"},{\"fillcolor\":\"blue\",\"line\":{\"width\":0},\"opacity\":0.2,\"type\":\"rect\",\"x0\":\"2015-02-12T00:00:00\",\"x1\":\"2015-02-14T00:00:00\",\"xref\":\"x\",\"y0\":0,\"y1\":1,\"yref\":\"y domain\"},{\"fillcolor\":\"red\",\"line\":{\"width\":0},\"opacity\":0.2,\"type\":\"rect\",\"x0\":\"2015-02-14T00:00:00\",\"x1\":\"2015-02-16T00:00:00\",\"xref\":\"x\",\"y0\":0,\"y1\":1,\"yref\":\"y domain\"},{\"fillcolor\":\"blue\",\"line\":{\"width\":0},\"opacity\":0.2,\"type\":\"rect\",\"x0\":\"2015-02-14T00:00:00\",\"x1\":\"2015-02-16T00:00:00\",\"xref\":\"x\",\"y0\":0,\"y1\":1,\"yref\":\"y domain\"},{\"fillcolor\":\"red\",\"line\":{\"width\":0},\"opacity\":0.2,\"type\":\"rect\",\"x0\":\"2015-02-16T00:00:00\",\"x1\":\"2015-02-18T00:00:00\",\"xref\":\"x\",\"y0\":0,\"y1\":1,\"yref\":\"y domain\"},{\"fillcolor\":\"blue\",\"line\":{\"width\":0},\"opacity\":0.2,\"type\":\"rect\",\"x0\":\"2015-04-03T00:00:00\",\"x1\":\"2015-04-05T00:00:00\",\"xref\":\"x\",\"y0\":0,\"y1\":1,\"yref\":\"y domain\"},{\"fillcolor\":\"red\",\"line\":{\"width\":0},\"opacity\":0.2,\"type\":\"rect\",\"x0\":\"2015-04-05T00:00:00\",\"x1\":\"2015-04-07T00:00:00\",\"xref\":\"x\",\"y0\":0,\"y1\":1,\"yref\":\"y domain\"}],\"title\":{\"text\":\"Daily Flight Delays by Station - Holiday 2 Day Window\",\"x\":0.5},\"xaxis\":{\"title\":{\"text\":\"Date\"}},\"yaxis\":{\"title\":{\"text\":\"Number of Delays over 15 Minutes\"}},\"legend\":{\"title\":{\"text\":\"Legend\"}}},                        {\"responsive\": true}                    )                };                            </script>        </div>\n",
       "</body>\n",
       "</html>"
      ]
     },
     "metadata": {},
     "output_type": "display_data"
    }
   ],
   "source": [
    "import pandas as pd\n",
    "import plotly.graph_objects as go\n",
    "\n",
    "top5_stations = ['ATL', 'ORD', 'DFW', 'LAX', 'DEN']\n",
    "\n",
    "def transform_df(df):\n",
    "    df['DEP_DEL15'] = pd.to_numeric(df['DEP_DEL15'], errors='coerce')\n",
    "    df['DEP_DEL15'] = df['DEP_DEL15'].fillna(0)\n",
    "    df['FL_DATE'] = pd.to_datetime(df['FL_DATE'])\n",
    "    df = df.set_index('FL_DATE')\n",
    "    return df.resample('D').agg({'DEP_DEL15': 'sum'}).rename(columns={'DEP_DEL15': 'delays'})\n",
    "\n",
    "pop_stations = []\n",
    "\n",
    "\n",
    "for i, station in enumerate(top5_stations):\n",
    "    temp_df = df_otpw_1yr.select(\"FL_DATE\", \"DEP_DEL15\").where(df_otpw_1yr['ORIGIN'] == station).toPandas()\n",
    "    temp = transform_df(temp_df)\n",
    "    \n",
    "    scatter = go.Scatter(\n",
    "        x=temp.index,\n",
    "        y=temp['delays'],\n",
    "        name=station,\n",
    "        mode = 'markers+lines',\n",
    "        marker=dict(color='black', opacity = 0.4),\n",
    "        line = dict(color = colors[i % len(colors)]),\n",
    "        visible=True if i == 0 else 'legendonly' )\n",
    "    \n",
    "    pop_stations.append(scatter)\n",
    "\n",
    "fig = go.Figure(data=pop_stations)\n",
    "\n",
    "# Dummy traces for legend\n",
    "fig.add_trace(go.Scatter(x=[None], y=[None], mode='markers',\n",
    "                         name='-2 days', marker=dict(color='blue', size=10)))\n",
    "fig.add_trace(go.Scatter(x=[None], y=[None], mode='markers',\n",
    "                         name='+2 days', marker=dict(color='red', size=10)))\n",
    "\n",
    "federal_holidays = [\n",
    "    '2015-07-04', '2015-04-12',\n",
    "    '2015-06-19', '2015-09-06', '2015-01-19',\n",
    "    '2015-05-25', '2015-01-01',\n",
    "    '2015-02-14', '2015-02-16', '2015-04-05'\n",
    "]\n",
    "\n",
    "# Shade regions around each federal holiday\n",
    "for date_str in federal_holidays:\n",
    "    date = pd.to_datetime(date_str)\n",
    "    two_days_before = date - pd.Timedelta(days=2)\n",
    "    two_days_after = date + pd.Timedelta(days=2)\n",
    "\n",
    "    # Shade the region before the holiday in blue\n",
    "    fig.add_vrect(\n",
    "        x0=two_days_before, x1=date,\n",
    "        fillcolor=\"blue\", opacity=0.2,\n",
    "        line_width=0)\n",
    "\n",
    "    # Shade the region after the holiday in red\n",
    "    fig.add_vrect(\n",
    "        x0=date, x1=two_days_after,\n",
    "        fillcolor=\"red\", opacity=0.2,\n",
    "        line_width=0)\n",
    "\n",
    "fig.update_layout(title='Daily Flight Delays by Station - Holiday 2 Day Window',\n",
    "                  xaxis_title='Date',\n",
    "                  yaxis_title='Number of Delays over 15 Minutes',\n",
    "                  legend_title='Legend',\n",
    "                  title_x=0.5,\n",
    "                )\n",
    "                  \n"
   ]
  },
  {
   "cell_type": "markdown",
   "metadata": {
    "application/vnd.databricks.v1+cell": {
     "cellMetadata": {},
     "inputWidgets": {},
     "nuid": "cc1c342f-1769-4358-9a77-a551be29126f",
     "showTitle": false,
     "title": ""
    }
   },
   "source": [
    "### Time of Day Analysis \n",
    "Our team wanted to inspect variable related to the time a **flight is scheduled to depart** and the occurances of delays. Below are two different analysis with varying levels of granularity."
   ]
  },
  {
   "cell_type": "markdown",
   "metadata": {
    "application/vnd.databricks.v1+cell": {
     "cellMetadata": {},
     "inputWidgets": {},
     "nuid": "1db6c0a6-7f2d-47c6-bed6-a53dae74dc16",
     "showTitle": false,
     "title": ""
    }
   },
   "source": [
    "####By Time block (Hourly)\n",
    "Our team"
   ]
  },
  {
   "cell_type": "code",
   "execution_count": 0,
   "metadata": {
    "application/vnd.databricks.v1+cell": {
     "cellMetadata": {
      "byteLimit": 2048000,
      "rowLimit": 10000
     },
     "inputWidgets": {},
     "nuid": "cc97d1ba-e156-4c4c-bde3-320329b14df3",
     "showTitle": false,
     "title": ""
    },
    "jupyter": {
     "source_hidden": true
    }
   },
   "outputs": [
    {
     "output_type": "display_data",
     "data": {
      "text/html": [
       "<html>\n",
       "<head><meta charset=\"utf-8\" /></head>\n",
       "<body>\n",
       "    <div>            <script src=\"https://cdnjs.cloudflare.com/ajax/libs/mathjax/2.7.5/MathJax.js?config=TeX-AMS-MML_SVG\"></script><script type=\"text/javascript\">if (window.MathJax && window.MathJax.Hub && window.MathJax.Hub.Config) {window.MathJax.Hub.Config({SVG: {font: \"STIX-Web\"}});}</script>                <script type=\"text/javascript\">window.PlotlyConfig = {MathJaxConfig: 'local'};</script>\n",
       "        <script src=\"https://cdn.plot.ly/plotly-2.12.1.min.js\"></script>                <div id=\"c8a6aed1-e078-4122-a1d7-74cbba142b8f\" class=\"plotly-graph-div\" style=\"height:100%; width:100%;\"></div>            <script type=\"text/javascript\">                                    window.PLOTLYENV=window.PLOTLYENV || {};                                    if (document.getElementById(\"c8a6aed1-e078-4122-a1d7-74cbba142b8f\")) {                    Plotly.newPlot(                        \"c8a6aed1-e078-4122-a1d7-74cbba142b8f\",                        [{\"alignmentgroup\":\"True\",\"hovertemplate\":\"Delayed 15 Min=0.0<br>DEP_TIME_BLK=%{x}<br>Proportion of Flights=%{y}<extra></extra>\",\"legendgroup\":\"0.0\",\"marker\":{\"color\":\"#636efa\",\"pattern\":{\"shape\":\"\"}},\"name\":\"0.0\",\"offsetgroup\":\"0.0\",\"orientation\":\"v\",\"showlegend\":true,\"textposition\":\"auto\",\"x\":[\"0001-0559\",\"0600-0659\",\"0700-0759\",\"0800-0859\",\"0900-0959\",\"1000-1059\",\"1100-1159\",\"1200-1259\",\"1300-1359\",\"1400-1459\",\"1500-1559\",\"1600-1659\",\"1700-1759\",\"1800-1859\",\"1900-1959\",\"2000-2059\",\"2100-2159\",\"2200-2259\",\"2300-2359\"],\"xaxis\":\"x\",\"y\":[0.9030131826741996,0.9168042258171013,0.8932896890343699,0.8621895767750962,0.8708097928436912,0.8525329632199862,0.8162816281628162,0.8069143067304156,0.7946257197696737,0.7589498806682577,0.7514430014430015,0.7447147985640208,0.7146242383209208,0.7160166603559258,0.708130081300813,0.7003138075313807,0.7273376159885796,0.7224043715846995,0.7658862876254181],\"yaxis\":\"y\",\"type\":\"bar\"},{\"alignmentgroup\":\"True\",\"hovertemplate\":\"Delayed 15 Min=1.0<br>DEP_TIME_BLK=%{x}<br>Proportion of Flights=%{y}<extra></extra>\",\"legendgroup\":\"1.0\",\"marker\":{\"color\":\"#EF553B\",\"pattern\":{\"shape\":\"\"}},\"name\":\"1.0\",\"offsetgroup\":\"1.0\",\"orientation\":\"v\",\"showlegend\":true,\"textposition\":\"auto\",\"x\":[\"0001-0559\",\"0600-0659\",\"0700-0759\",\"0800-0859\",\"0900-0959\",\"1000-1059\",\"1100-1159\",\"1200-1259\",\"1300-1359\",\"1400-1459\",\"1500-1559\",\"1600-1659\",\"1700-1759\",\"1800-1859\",\"1900-1959\",\"2000-2059\",\"2100-2159\",\"2200-2259\",\"2300-2359\"],\"xaxis\":\"x\",\"y\":[0.08757062146892655,0.06569825024760648,0.08870703764320785,0.12137110877929345,0.11977401129943503,0.13705759888965996,0.16978364503116977,0.1827877896285399,0.19270633397312859,0.22633253778838505,0.23412698412698413,0.23853211009174313,0.2626946513202437,0.26694433926542976,0.2735772357723577,0.2803347280334728,0.2569593147751606,0.26010928961748636,0.22073578595317725],\"yaxis\":\"y\",\"type\":\"bar\"}],                        {\"template\":{\"data\":{\"histogram2dcontour\":[{\"type\":\"histogram2dcontour\",\"colorbar\":{\"outlinewidth\":0,\"ticks\":\"\"},\"colorscale\":[[0.0,\"#0d0887\"],[0.1111111111111111,\"#46039f\"],[0.2222222222222222,\"#7201a8\"],[0.3333333333333333,\"#9c179e\"],[0.4444444444444444,\"#bd3786\"],[0.5555555555555556,\"#d8576b\"],[0.6666666666666666,\"#ed7953\"],[0.7777777777777778,\"#fb9f3a\"],[0.8888888888888888,\"#fdca26\"],[1.0,\"#f0f921\"]]}],\"choropleth\":[{\"type\":\"choropleth\",\"colorbar\":{\"outlinewidth\":0,\"ticks\":\"\"}}],\"histogram2d\":[{\"type\":\"histogram2d\",\"colorbar\":{\"outlinewidth\":0,\"ticks\":\"\"},\"colorscale\":[[0.0,\"#0d0887\"],[0.1111111111111111,\"#46039f\"],[0.2222222222222222,\"#7201a8\"],[0.3333333333333333,\"#9c179e\"],[0.4444444444444444,\"#bd3786\"],[0.5555555555555556,\"#d8576b\"],[0.6666666666666666,\"#ed7953\"],[0.7777777777777778,\"#fb9f3a\"],[0.8888888888888888,\"#fdca26\"],[1.0,\"#f0f921\"]]}],\"heatmap\":[{\"type\":\"heatmap\",\"colorbar\":{\"outlinewidth\":0,\"ticks\":\"\"},\"colorscale\":[[0.0,\"#0d0887\"],[0.1111111111111111,\"#46039f\"],[0.2222222222222222,\"#7201a8\"],[0.3333333333333333,\"#9c179e\"],[0.4444444444444444,\"#bd3786\"],[0.5555555555555556,\"#d8576b\"],[0.6666666666666666,\"#ed7953\"],[0.7777777777777778,\"#fb9f3a\"],[0.8888888888888888,\"#fdca26\"],[1.0,\"#f0f921\"]]}],\"heatmapgl\":[{\"type\":\"heatmapgl\",\"colorbar\":{\"outlinewidth\":0,\"ticks\":\"\"},\"colorscale\":[[0.0,\"#0d0887\"],[0.1111111111111111,\"#46039f\"],[0.2222222222222222,\"#7201a8\"],[0.3333333333333333,\"#9c179e\"],[0.4444444444444444,\"#bd3786\"],[0.5555555555555556,\"#d8576b\"],[0.6666666666666666,\"#ed7953\"],[0.7777777777777778,\"#fb9f3a\"],[0.8888888888888888,\"#fdca26\"],[1.0,\"#f0f921\"]]}],\"contourcarpet\":[{\"type\":\"contourcarpet\",\"colorbar\":{\"outlinewidth\":0,\"ticks\":\"\"}}],\"contour\":[{\"type\":\"contour\",\"colorbar\":{\"outlinewidth\":0,\"ticks\":\"\"},\"colorscale\":[[0.0,\"#0d0887\"],[0.1111111111111111,\"#46039f\"],[0.2222222222222222,\"#7201a8\"],[0.3333333333333333,\"#9c179e\"],[0.4444444444444444,\"#bd3786\"],[0.5555555555555556,\"#d8576b\"],[0.6666666666666666,\"#ed7953\"],[0.7777777777777778,\"#fb9f3a\"],[0.8888888888888888,\"#fdca26\"],[1.0,\"#f0f921\"]]}],\"surface\":[{\"type\":\"surface\",\"colorbar\":{\"outlinewidth\":0,\"ticks\":\"\"},\"colorscale\":[[0.0,\"#0d0887\"],[0.1111111111111111,\"#46039f\"],[0.2222222222222222,\"#7201a8\"],[0.3333333333333333,\"#9c179e\"],[0.4444444444444444,\"#bd3786\"],[0.5555555555555556,\"#d8576b\"],[0.6666666666666666,\"#ed7953\"],[0.7777777777777778,\"#fb9f3a\"],[0.8888888888888888,\"#fdca26\"],[1.0,\"#f0f921\"]]}],\"mesh3d\":[{\"type\":\"mesh3d\",\"colorbar\":{\"outlinewidth\":0,\"ticks\":\"\"}}],\"scatter\":[{\"fillpattern\":{\"fillmode\":\"overlay\",\"size\":10,\"solidity\":0.2},\"type\":\"scatter\"}],\"parcoords\":[{\"type\":\"parcoords\",\"line\":{\"colorbar\":{\"outlinewidth\":0,\"ticks\":\"\"}}}],\"scatterpolargl\":[{\"type\":\"scatterpolargl\",\"marker\":{\"colorbar\":{\"outlinewidth\":0,\"ticks\":\"\"}}}],\"bar\":[{\"error_x\":{\"color\":\"#2a3f5f\"},\"error_y\":{\"color\":\"#2a3f5f\"},\"marker\":{\"line\":{\"color\":\"#E5ECF6\",\"width\":0.5},\"pattern\":{\"fillmode\":\"overlay\",\"size\":10,\"solidity\":0.2}},\"type\":\"bar\"}],\"scattergeo\":[{\"type\":\"scattergeo\",\"marker\":{\"colorbar\":{\"outlinewidth\":0,\"ticks\":\"\"}}}],\"scatterpolar\":[{\"type\":\"scatterpolar\",\"marker\":{\"colorbar\":{\"outlinewidth\":0,\"ticks\":\"\"}}}],\"histogram\":[{\"marker\":{\"pattern\":{\"fillmode\":\"overlay\",\"size\":10,\"solidity\":0.2}},\"type\":\"histogram\"}],\"scattergl\":[{\"type\":\"scattergl\",\"marker\":{\"colorbar\":{\"outlinewidth\":0,\"ticks\":\"\"}}}],\"scatter3d\":[{\"type\":\"scatter3d\",\"line\":{\"colorbar\":{\"outlinewidth\":0,\"ticks\":\"\"}},\"marker\":{\"colorbar\":{\"outlinewidth\":0,\"ticks\":\"\"}}}],\"scattermapbox\":[{\"type\":\"scattermapbox\",\"marker\":{\"colorbar\":{\"outlinewidth\":0,\"ticks\":\"\"}}}],\"scatterternary\":[{\"type\":\"scatterternary\",\"marker\":{\"colorbar\":{\"outlinewidth\":0,\"ticks\":\"\"}}}],\"scattercarpet\":[{\"type\":\"scattercarpet\",\"marker\":{\"colorbar\":{\"outlinewidth\":0,\"ticks\":\"\"}}}],\"carpet\":[{\"aaxis\":{\"endlinecolor\":\"#2a3f5f\",\"gridcolor\":\"white\",\"linecolor\":\"white\",\"minorgridcolor\":\"white\",\"startlinecolor\":\"#2a3f5f\"},\"baxis\":{\"endlinecolor\":\"#2a3f5f\",\"gridcolor\":\"white\",\"linecolor\":\"white\",\"minorgridcolor\":\"white\",\"startlinecolor\":\"#2a3f5f\"},\"type\":\"carpet\"}],\"table\":[{\"cells\":{\"fill\":{\"color\":\"#EBF0F8\"},\"line\":{\"color\":\"white\"}},\"header\":{\"fill\":{\"color\":\"#C8D4E3\"},\"line\":{\"color\":\"white\"}},\"type\":\"table\"}],\"barpolar\":[{\"marker\":{\"line\":{\"color\":\"#E5ECF6\",\"width\":0.5},\"pattern\":{\"fillmode\":\"overlay\",\"size\":10,\"solidity\":0.2}},\"type\":\"barpolar\"}],\"pie\":[{\"automargin\":true,\"type\":\"pie\"}]},\"layout\":{\"autotypenumbers\":\"strict\",\"colorway\":[\"#636efa\",\"#EF553B\",\"#00cc96\",\"#ab63fa\",\"#FFA15A\",\"#19d3f3\",\"#FF6692\",\"#B6E880\",\"#FF97FF\",\"#FECB52\"],\"font\":{\"color\":\"#2a3f5f\"},\"hovermode\":\"closest\",\"hoverlabel\":{\"align\":\"left\"},\"paper_bgcolor\":\"white\",\"plot_bgcolor\":\"#E5ECF6\",\"polar\":{\"bgcolor\":\"#E5ECF6\",\"angularaxis\":{\"gridcolor\":\"white\",\"linecolor\":\"white\",\"ticks\":\"\"},\"radialaxis\":{\"gridcolor\":\"white\",\"linecolor\":\"white\",\"ticks\":\"\"}},\"ternary\":{\"bgcolor\":\"#E5ECF6\",\"aaxis\":{\"gridcolor\":\"white\",\"linecolor\":\"white\",\"ticks\":\"\"},\"baxis\":{\"gridcolor\":\"white\",\"linecolor\":\"white\",\"ticks\":\"\"},\"caxis\":{\"gridcolor\":\"white\",\"linecolor\":\"white\",\"ticks\":\"\"}},\"coloraxis\":{\"colorbar\":{\"outlinewidth\":0,\"ticks\":\"\"}},\"colorscale\":{\"sequential\":[[0.0,\"#0d0887\"],[0.1111111111111111,\"#46039f\"],[0.2222222222222222,\"#7201a8\"],[0.3333333333333333,\"#9c179e\"],[0.4444444444444444,\"#bd3786\"],[0.5555555555555556,\"#d8576b\"],[0.6666666666666666,\"#ed7953\"],[0.7777777777777778,\"#fb9f3a\"],[0.8888888888888888,\"#fdca26\"],[1.0,\"#f0f921\"]],\"sequentialminus\":[[0.0,\"#0d0887\"],[0.1111111111111111,\"#46039f\"],[0.2222222222222222,\"#7201a8\"],[0.3333333333333333,\"#9c179e\"],[0.4444444444444444,\"#bd3786\"],[0.5555555555555556,\"#d8576b\"],[0.6666666666666666,\"#ed7953\"],[0.7777777777777778,\"#fb9f3a\"],[0.8888888888888888,\"#fdca26\"],[1.0,\"#f0f921\"]],\"diverging\":[[0,\"#8e0152\"],[0.1,\"#c51b7d\"],[0.2,\"#de77ae\"],[0.3,\"#f1b6da\"],[0.4,\"#fde0ef\"],[0.5,\"#f7f7f7\"],[0.6,\"#e6f5d0\"],[0.7,\"#b8e186\"],[0.8,\"#7fbc41\"],[0.9,\"#4d9221\"],[1,\"#276419\"]]},\"xaxis\":{\"gridcolor\":\"white\",\"linecolor\":\"white\",\"ticks\":\"\",\"title\":{\"standoff\":15},\"zerolinecolor\":\"white\",\"automargin\":true,\"zerolinewidth\":2},\"yaxis\":{\"gridcolor\":\"white\",\"linecolor\":\"white\",\"ticks\":\"\",\"title\":{\"standoff\":15},\"zerolinecolor\":\"white\",\"automargin\":true,\"zerolinewidth\":2},\"scene\":{\"xaxis\":{\"backgroundcolor\":\"#E5ECF6\",\"gridcolor\":\"white\",\"linecolor\":\"white\",\"showbackground\":true,\"ticks\":\"\",\"zerolinecolor\":\"white\",\"gridwidth\":2},\"yaxis\":{\"backgroundcolor\":\"#E5ECF6\",\"gridcolor\":\"white\",\"linecolor\":\"white\",\"showbackground\":true,\"ticks\":\"\",\"zerolinecolor\":\"white\",\"gridwidth\":2},\"zaxis\":{\"backgroundcolor\":\"#E5ECF6\",\"gridcolor\":\"white\",\"linecolor\":\"white\",\"showbackground\":true,\"ticks\":\"\",\"zerolinecolor\":\"white\",\"gridwidth\":2}},\"shapedefaults\":{\"line\":{\"color\":\"#2a3f5f\"}},\"annotationdefaults\":{\"arrowcolor\":\"#2a3f5f\",\"arrowhead\":0,\"arrowwidth\":1},\"geo\":{\"bgcolor\":\"white\",\"landcolor\":\"#E5ECF6\",\"subunitcolor\":\"white\",\"showland\":true,\"showlakes\":true,\"lakecolor\":\"white\"},\"title\":{\"x\":0.05},\"mapbox\":{\"style\":\"light\"}}},\"xaxis\":{\"anchor\":\"y\",\"domain\":[0.0,1.0],\"title\":{\"text\":\"Departure Time Block\"},\"tickformat\":\"%H:%M\"},\"yaxis\":{\"anchor\":\"x\",\"domain\":[0.0,1.0],\"title\":{\"text\":\"Proportion of Flights\"}},\"legend\":{\"title\":{\"text\":\"Delayed 15 Min\"},\"tracegroupgap\":0},\"title\":{\"text\":\"Proportion of Flights Delayed by Departure Time Block\",\"x\":0.5},\"barmode\":\"relative\"},                        {\"responsive\": true}                    )                };                            </script>        </div>\n",
       "</body>\n",
       "</html>"
      ]
     },
     "metadata": {},
     "output_type": "display_data"
    }
   ],
   "source": [
    "import pandas as pd\n",
    "import plotly.express as px\n",
    "\n",
    "# Group by the hour and delay status\n",
    "arr_time_blk_delays = df_otpw_1yr_sample.groupby(['DEP_TIME_BLK', 'DEP_DEL15']).size().reset_index(name='Count')\n",
    "\n",
    "# Normalize the counts by the total flights in each hour block\n",
    "total_flights_per_block = df_otpw_1yr_sample.groupby('DEP_TIME_BLK').size().reset_index(name='Total')\n",
    "arr_time_blk_delays = pd.merge(arr_time_blk_delays, total_flights_per_block, on='DEP_TIME_BLK')\n",
    "arr_time_blk_delays['Normalized Count'] = arr_time_blk_delays['Count'] / arr_time_blk_delays['Total']\n",
    "\n",
    "# Plotting the data\n",
    "fig = px.bar(arr_time_blk_delays, x='DEP_TIME_BLK', y='Normalized Count', color='DEP_DEL15',\n",
    "             labels={'Normalized Count': 'Proportion of Flights', 'DEP_DEL15': 'Delayed 15 Min'},\n",
    "             title='Proportion of Flights Delayed by Departure Time Block')\n",
    "fig.update_layout(title_x=0.5)\n",
    "fig.update_xaxes(title='Departure Time Block', tickformat='%H:%M')\n",
    "fig.show()"
   ]
  },
  {
   "cell_type": "markdown",
   "metadata": {
    "application/vnd.databricks.v1+cell": {
     "cellMetadata": {},
     "inputWidgets": {},
     "nuid": "a9d49073-b59c-4d45-9099-64f98b03ea84",
     "showTitle": false,
     "title": ""
    }
   },
   "source": [
    "####Morning, Afternoon, Evening"
   ]
  },
  {
   "cell_type": "code",
   "execution_count": 0,
   "metadata": {
    "application/vnd.databricks.v1+cell": {
     "cellMetadata": {
      "byteLimit": 2048000,
      "rowLimit": 10000
     },
     "inputWidgets": {},
     "nuid": "390e5f92-c4e2-4965-b280-1bf9418fa461",
     "showTitle": false,
     "title": ""
    },
    "jupyter": {
     "source_hidden": true
    }
   },
   "outputs": [
    {
     "output_type": "display_data",
     "data": {
      "text/html": [
       "<html>\n",
       "<head><meta charset=\"utf-8\" /></head>\n",
       "<body>\n",
       "    <div>            <script src=\"https://cdnjs.cloudflare.com/ajax/libs/mathjax/2.7.5/MathJax.js?config=TeX-AMS-MML_SVG\"></script><script type=\"text/javascript\">if (window.MathJax && window.MathJax.Hub && window.MathJax.Hub.Config) {window.MathJax.Hub.Config({SVG: {font: \"STIX-Web\"}});}</script>                <script type=\"text/javascript\">window.PlotlyConfig = {MathJaxConfig: 'local'};</script>\n",
       "        <script src=\"https://cdn.plot.ly/plotly-2.12.1.min.js\"></script>                <div id=\"d6bad4f7-c759-4876-91a7-706df6f5a9bd\" class=\"plotly-graph-div\" style=\"height:100%; width:100%;\"></div>            <script type=\"text/javascript\">                                    window.PLOTLYENV=window.PLOTLYENV || {};                                    if (document.getElementById(\"d6bad4f7-c759-4876-91a7-706df6f5a9bd\")) {                    Plotly.newPlot(                        \"d6bad4f7-c759-4876-91a7-706df6f5a9bd\",                        [{\"alignmentgroup\":\"True\",\"hovertemplate\":\"Delayed 15 Min=0.0<br>Time_of_Day=%{x}<br>Proportion of Flights=%{y}<extra></extra>\",\"legendgroup\":\"0.0\",\"marker\":{\"color\":\"#636efa\",\"pattern\":{\"shape\":\"\"}},\"name\":\"0.0\",\"offsetgroup\":\"0.0\",\"orientation\":\"v\",\"showlegend\":true,\"textposition\":\"auto\",\"texttemplate\":\"%{y}\",\"x\":[\"Afternoon\",\"Evening\",\"Morning\"],\"xaxis\":\"x\",\"y\":[0.7780395852968898,0.7146717532983627,0.8716952214133231],\"yaxis\":\"y\",\"type\":\"bar\"},{\"alignmentgroup\":\"True\",\"hovertemplate\":\"Delayed 15 Min=1.0<br>Time_of_Day=%{x}<br>Proportion of Flights=%{y}<extra></extra>\",\"legendgroup\":\"1.0\",\"marker\":{\"color\":\"#EF553B\",\"pattern\":{\"shape\":\"\"}},\"name\":\"1.0\",\"offsetgroup\":\"1.0\",\"orientation\":\"v\",\"showlegend\":true,\"textposition\":\"auto\",\"texttemplate\":\"%{y}\",\"x\":[\"Afternoon\",\"Evening\",\"Morning\"],\"xaxis\":\"x\",\"y\":[0.20895381715362865,0.26657129232236526,0.11418249493677815],\"yaxis\":\"y\",\"type\":\"bar\"}],                        {\"template\":{\"data\":{\"histogram2dcontour\":[{\"type\":\"histogram2dcontour\",\"colorbar\":{\"outlinewidth\":0,\"ticks\":\"\"},\"colorscale\":[[0.0,\"#0d0887\"],[0.1111111111111111,\"#46039f\"],[0.2222222222222222,\"#7201a8\"],[0.3333333333333333,\"#9c179e\"],[0.4444444444444444,\"#bd3786\"],[0.5555555555555556,\"#d8576b\"],[0.6666666666666666,\"#ed7953\"],[0.7777777777777778,\"#fb9f3a\"],[0.8888888888888888,\"#fdca26\"],[1.0,\"#f0f921\"]]}],\"choropleth\":[{\"type\":\"choropleth\",\"colorbar\":{\"outlinewidth\":0,\"ticks\":\"\"}}],\"histogram2d\":[{\"type\":\"histogram2d\",\"colorbar\":{\"outlinewidth\":0,\"ticks\":\"\"},\"colorscale\":[[0.0,\"#0d0887\"],[0.1111111111111111,\"#46039f\"],[0.2222222222222222,\"#7201a8\"],[0.3333333333333333,\"#9c179e\"],[0.4444444444444444,\"#bd3786\"],[0.5555555555555556,\"#d8576b\"],[0.6666666666666666,\"#ed7953\"],[0.7777777777777778,\"#fb9f3a\"],[0.8888888888888888,\"#fdca26\"],[1.0,\"#f0f921\"]]}],\"heatmap\":[{\"type\":\"heatmap\",\"colorbar\":{\"outlinewidth\":0,\"ticks\":\"\"},\"colorscale\":[[0.0,\"#0d0887\"],[0.1111111111111111,\"#46039f\"],[0.2222222222222222,\"#7201a8\"],[0.3333333333333333,\"#9c179e\"],[0.4444444444444444,\"#bd3786\"],[0.5555555555555556,\"#d8576b\"],[0.6666666666666666,\"#ed7953\"],[0.7777777777777778,\"#fb9f3a\"],[0.8888888888888888,\"#fdca26\"],[1.0,\"#f0f921\"]]}],\"heatmapgl\":[{\"type\":\"heatmapgl\",\"colorbar\":{\"outlinewidth\":0,\"ticks\":\"\"},\"colorscale\":[[0.0,\"#0d0887\"],[0.1111111111111111,\"#46039f\"],[0.2222222222222222,\"#7201a8\"],[0.3333333333333333,\"#9c179e\"],[0.4444444444444444,\"#bd3786\"],[0.5555555555555556,\"#d8576b\"],[0.6666666666666666,\"#ed7953\"],[0.7777777777777778,\"#fb9f3a\"],[0.8888888888888888,\"#fdca26\"],[1.0,\"#f0f921\"]]}],\"contourcarpet\":[{\"type\":\"contourcarpet\",\"colorbar\":{\"outlinewidth\":0,\"ticks\":\"\"}}],\"contour\":[{\"type\":\"contour\",\"colorbar\":{\"outlinewidth\":0,\"ticks\":\"\"},\"colorscale\":[[0.0,\"#0d0887\"],[0.1111111111111111,\"#46039f\"],[0.2222222222222222,\"#7201a8\"],[0.3333333333333333,\"#9c179e\"],[0.4444444444444444,\"#bd3786\"],[0.5555555555555556,\"#d8576b\"],[0.6666666666666666,\"#ed7953\"],[0.7777777777777778,\"#fb9f3a\"],[0.8888888888888888,\"#fdca26\"],[1.0,\"#f0f921\"]]}],\"surface\":[{\"type\":\"surface\",\"colorbar\":{\"outlinewidth\":0,\"ticks\":\"\"},\"colorscale\":[[0.0,\"#0d0887\"],[0.1111111111111111,\"#46039f\"],[0.2222222222222222,\"#7201a8\"],[0.3333333333333333,\"#9c179e\"],[0.4444444444444444,\"#bd3786\"],[0.5555555555555556,\"#d8576b\"],[0.6666666666666666,\"#ed7953\"],[0.7777777777777778,\"#fb9f3a\"],[0.8888888888888888,\"#fdca26\"],[1.0,\"#f0f921\"]]}],\"mesh3d\":[{\"type\":\"mesh3d\",\"colorbar\":{\"outlinewidth\":0,\"ticks\":\"\"}}],\"scatter\":[{\"fillpattern\":{\"fillmode\":\"overlay\",\"size\":10,\"solidity\":0.2},\"type\":\"scatter\"}],\"parcoords\":[{\"type\":\"parcoords\",\"line\":{\"colorbar\":{\"outlinewidth\":0,\"ticks\":\"\"}}}],\"scatterpolargl\":[{\"type\":\"scatterpolargl\",\"marker\":{\"colorbar\":{\"outlinewidth\":0,\"ticks\":\"\"}}}],\"bar\":[{\"error_x\":{\"color\":\"#2a3f5f\"},\"error_y\":{\"color\":\"#2a3f5f\"},\"marker\":{\"line\":{\"color\":\"#E5ECF6\",\"width\":0.5},\"pattern\":{\"fillmode\":\"overlay\",\"size\":10,\"solidity\":0.2}},\"type\":\"bar\"}],\"scattergeo\":[{\"type\":\"scattergeo\",\"marker\":{\"colorbar\":{\"outlinewidth\":0,\"ticks\":\"\"}}}],\"scatterpolar\":[{\"type\":\"scatterpolar\",\"marker\":{\"colorbar\":{\"outlinewidth\":0,\"ticks\":\"\"}}}],\"histogram\":[{\"marker\":{\"pattern\":{\"fillmode\":\"overlay\",\"size\":10,\"solidity\":0.2}},\"type\":\"histogram\"}],\"scattergl\":[{\"type\":\"scattergl\",\"marker\":{\"colorbar\":{\"outlinewidth\":0,\"ticks\":\"\"}}}],\"scatter3d\":[{\"type\":\"scatter3d\",\"line\":{\"colorbar\":{\"outlinewidth\":0,\"ticks\":\"\"}},\"marker\":{\"colorbar\":{\"outlinewidth\":0,\"ticks\":\"\"}}}],\"scattermapbox\":[{\"type\":\"scattermapbox\",\"marker\":{\"colorbar\":{\"outlinewidth\":0,\"ticks\":\"\"}}}],\"scatterternary\":[{\"type\":\"scatterternary\",\"marker\":{\"colorbar\":{\"outlinewidth\":0,\"ticks\":\"\"}}}],\"scattercarpet\":[{\"type\":\"scattercarpet\",\"marker\":{\"colorbar\":{\"outlinewidth\":0,\"ticks\":\"\"}}}],\"carpet\":[{\"aaxis\":{\"endlinecolor\":\"#2a3f5f\",\"gridcolor\":\"white\",\"linecolor\":\"white\",\"minorgridcolor\":\"white\",\"startlinecolor\":\"#2a3f5f\"},\"baxis\":{\"endlinecolor\":\"#2a3f5f\",\"gridcolor\":\"white\",\"linecolor\":\"white\",\"minorgridcolor\":\"white\",\"startlinecolor\":\"#2a3f5f\"},\"type\":\"carpet\"}],\"table\":[{\"cells\":{\"fill\":{\"color\":\"#EBF0F8\"},\"line\":{\"color\":\"white\"}},\"header\":{\"fill\":{\"color\":\"#C8D4E3\"},\"line\":{\"color\":\"white\"}},\"type\":\"table\"}],\"barpolar\":[{\"marker\":{\"line\":{\"color\":\"#E5ECF6\",\"width\":0.5},\"pattern\":{\"fillmode\":\"overlay\",\"size\":10,\"solidity\":0.2}},\"type\":\"barpolar\"}],\"pie\":[{\"automargin\":true,\"type\":\"pie\"}]},\"layout\":{\"autotypenumbers\":\"strict\",\"colorway\":[\"#636efa\",\"#EF553B\",\"#00cc96\",\"#ab63fa\",\"#FFA15A\",\"#19d3f3\",\"#FF6692\",\"#B6E880\",\"#FF97FF\",\"#FECB52\"],\"font\":{\"color\":\"#2a3f5f\"},\"hovermode\":\"closest\",\"hoverlabel\":{\"align\":\"left\"},\"paper_bgcolor\":\"white\",\"plot_bgcolor\":\"#E5ECF6\",\"polar\":{\"bgcolor\":\"#E5ECF6\",\"angularaxis\":{\"gridcolor\":\"white\",\"linecolor\":\"white\",\"ticks\":\"\"},\"radialaxis\":{\"gridcolor\":\"white\",\"linecolor\":\"white\",\"ticks\":\"\"}},\"ternary\":{\"bgcolor\":\"#E5ECF6\",\"aaxis\":{\"gridcolor\":\"white\",\"linecolor\":\"white\",\"ticks\":\"\"},\"baxis\":{\"gridcolor\":\"white\",\"linecolor\":\"white\",\"ticks\":\"\"},\"caxis\":{\"gridcolor\":\"white\",\"linecolor\":\"white\",\"ticks\":\"\"}},\"coloraxis\":{\"colorbar\":{\"outlinewidth\":0,\"ticks\":\"\"}},\"colorscale\":{\"sequential\":[[0.0,\"#0d0887\"],[0.1111111111111111,\"#46039f\"],[0.2222222222222222,\"#7201a8\"],[0.3333333333333333,\"#9c179e\"],[0.4444444444444444,\"#bd3786\"],[0.5555555555555556,\"#d8576b\"],[0.6666666666666666,\"#ed7953\"],[0.7777777777777778,\"#fb9f3a\"],[0.8888888888888888,\"#fdca26\"],[1.0,\"#f0f921\"]],\"sequentialminus\":[[0.0,\"#0d0887\"],[0.1111111111111111,\"#46039f\"],[0.2222222222222222,\"#7201a8\"],[0.3333333333333333,\"#9c179e\"],[0.4444444444444444,\"#bd3786\"],[0.5555555555555556,\"#d8576b\"],[0.6666666666666666,\"#ed7953\"],[0.7777777777777778,\"#fb9f3a\"],[0.8888888888888888,\"#fdca26\"],[1.0,\"#f0f921\"]],\"diverging\":[[0,\"#8e0152\"],[0.1,\"#c51b7d\"],[0.2,\"#de77ae\"],[0.3,\"#f1b6da\"],[0.4,\"#fde0ef\"],[0.5,\"#f7f7f7\"],[0.6,\"#e6f5d0\"],[0.7,\"#b8e186\"],[0.8,\"#7fbc41\"],[0.9,\"#4d9221\"],[1,\"#276419\"]]},\"xaxis\":{\"gridcolor\":\"white\",\"linecolor\":\"white\",\"ticks\":\"\",\"title\":{\"standoff\":15},\"zerolinecolor\":\"white\",\"automargin\":true,\"zerolinewidth\":2},\"yaxis\":{\"gridcolor\":\"white\",\"linecolor\":\"white\",\"ticks\":\"\",\"title\":{\"standoff\":15},\"zerolinecolor\":\"white\",\"automargin\":true,\"zerolinewidth\":2},\"scene\":{\"xaxis\":{\"backgroundcolor\":\"#E5ECF6\",\"gridcolor\":\"white\",\"linecolor\":\"white\",\"showbackground\":true,\"ticks\":\"\",\"zerolinecolor\":\"white\",\"gridwidth\":2},\"yaxis\":{\"backgroundcolor\":\"#E5ECF6\",\"gridcolor\":\"white\",\"linecolor\":\"white\",\"showbackground\":true,\"ticks\":\"\",\"zerolinecolor\":\"white\",\"gridwidth\":2},\"zaxis\":{\"backgroundcolor\":\"#E5ECF6\",\"gridcolor\":\"white\",\"linecolor\":\"white\",\"showbackground\":true,\"ticks\":\"\",\"zerolinecolor\":\"white\",\"gridwidth\":2}},\"shapedefaults\":{\"line\":{\"color\":\"#2a3f5f\"}},\"annotationdefaults\":{\"arrowcolor\":\"#2a3f5f\",\"arrowhead\":0,\"arrowwidth\":1},\"geo\":{\"bgcolor\":\"white\",\"landcolor\":\"#E5ECF6\",\"subunitcolor\":\"white\",\"showland\":true,\"showlakes\":true,\"lakecolor\":\"white\"},\"title\":{\"x\":0.05},\"mapbox\":{\"style\":\"light\"}}},\"xaxis\":{\"anchor\":\"y\",\"domain\":[0.0,1.0],\"title\":{\"text\":\"Departure Time Block\"},\"tickformat\":\"%H:%M\"},\"yaxis\":{\"anchor\":\"x\",\"domain\":[0.0,1.0],\"title\":{\"text\":\"Proportion of Flights\"}},\"legend\":{\"title\":{\"text\":\"Delayed 15 Min\"},\"tracegroupgap\":0},\"title\":{\"text\":\"Proportion of Flights Delayed by Departure Day Time Period\",\"x\":0.5},\"barmode\":\"relative\"},                        {\"responsive\": true}                    )                };                            </script>        </div>\n",
       "</body>\n",
       "</html>"
      ]
     },
     "metadata": {},
     "output_type": "display_data"
    }
   ],
   "source": [
    "time_bins = { '0001-0559':'Morning',\n",
    "             '0600-0659':'Morning',\n",
    "             '0700-0759':'Morning',\n",
    "             '0800-0859':'Morning',\n",
    "             '0900-0959':'Morning',\n",
    "             '1000-1059':'Morning',\n",
    "             '1100-1159':'Morning',\n",
    "             '1200-1259':'Afternoon',\n",
    "             '1300-1359':'Afternoon',\n",
    "             '1400-1459':'Afternoon',\n",
    "             '1500-1559':'Afternoon',\n",
    "             '1700-1759':'Evening',\n",
    "             '1800-1859':'Evening',\n",
    "             '1900-1959':'Evening',\n",
    "             '2000-2059':'Evening',\n",
    "             '2100-2159':'Evening',\n",
    "             '2200-2259':'Evening',\n",
    "             '2300-2359':'Evening',\n",
    "             }\n",
    "             \n",
    "df_otpw_1yr_sample['Time_of_Day'] = df_otpw_1yr_sample['DEP_TIME_BLK'].map(time_bins)\n",
    "\n",
    "\n",
    "# Group by the hour and delay status\n",
    "arr_time_blk_delays = df_otpw_1yr_sample.groupby(['Time_of_Day', 'DEP_DEL15']).size().reset_index(name='Count')\n",
    "\n",
    "# Normalize the counts by the total flights in each hour block\n",
    "total_flights_per_block = df_otpw_1yr_sample.groupby('Time_of_Day').size().reset_index(name='Total')\n",
    "arr_time_blk_delays = pd.merge(arr_time_blk_delays, total_flights_per_block, on='Time_of_Day')\n",
    "arr_time_blk_delays['Normalized Count'] = arr_time_blk_delays['Count'] / arr_time_blk_delays['Total']\n",
    "\n",
    "# Plotting the data\n",
    "fig = px.bar(arr_time_blk_delays, x='Time_of_Day', y='Normalized Count', color='DEP_DEL15',\n",
    "             labels={'Normalized Count': 'Proportion of Flights', 'DEP_DEL15': 'Delayed 15 Min'},\n",
    "             title='Proportion of Flights Delayed by Departure Day Time Period', text_auto=True)\n",
    "fig.update_layout(title_x=0.5)\n",
    "fig.update_xaxes(title='Departure Time Block', tickformat='%H:%M')\n",
    "#fig.update_traces(hoverinfo='label+percent+name', selector=dict(type='bar'))\n",
    "fig.show()\n",
    "\n"
   ]
  },
  {
   "cell_type": "markdown",
   "metadata": {
    "application/vnd.databricks.v1+cell": {
     "cellMetadata": {
      "byteLimit": 2048000,
      "rowLimit": 10000
     },
     "inputWidgets": {},
     "nuid": "77c4753b-05b5-4c90-aa9c-cb61105ea972",
     "showTitle": false,
     "title": ""
    }
   },
   "source": [
    "#Pipeline"
   ]
  },
  {
   "cell_type": "markdown",
   "metadata": {
    "application/vnd.databricks.v1+cell": {
     "cellMetadata": {
      "byteLimit": 2048000,
      "rowLimit": 10000
     },
     "inputWidgets": {},
     "nuid": "6c0ef9a5-8722-487b-8f52-bb6698ac0f5e",
     "showTitle": false,
     "title": ""
    }
   },
   "source": [
    "To ensure the best possible iteration during model creation, the ATP and GSOD datasets were joined into one (the OTPW set) and then split into subsets spanning three months, one year, three years, and five years. The training and testing datasets were split at the beginning of the pipeline to prevent data leakage, and training sets always occurred before test sets in the split without time overlap. For example, the 1-year dataset contains the first three quarters of 2015 as training data and the last quarter of the year serves as test data. The data split was followed by an exploratory data analysis (EDA) and cleaning stage, which ensured any missing or duplicate values were dropped and that text columns were parsed into categorical features. Any new features were also created during this phase.\n",
    "\n",
    "The next step, feature selection, was performed iteratively on the train and test data, and various possible features were kept or dropped based on the EDA, Lasso, and Ridge Regression results. With both datasets consisting of relevant features, we then balanced via naive undersampling, and z-scaled the training data (as Logistic Regression assumes linear data). Z-scaling was also performed on the numeric test data, though applied so that the scaling parameters were derived from the training data. All categorical variables for all datasets were then one-hot encoded, vectorized, and saved for later use.\n",
    "\n",
    "Finally, a five-fold cross-validation grid search was used during the hyperparameter tuning phase to find and optimize the best model. The grid itself used Spark's Binary Classification Evaluator to assess model efficacy based on the model's ROC curves. The model with the best hyperparameter values was then selected and used to evaluate the withheld and cleaned test data. Final results were reported using two metrics: ROC curves and F-beta scores. The thresholding of the ROC curves provided a more holistic view of a model's performance than most other metrics, which made it optimal for assessing model performance, and the F-beta score weighted precision more highly than recall, thus enabling finer control of false-positives. This particular implementation was chosen because a false-positive in detecting a flight delay could cause passengers to miss their flight altogether, and would likely result in more customer dissatisfaction than a regular delay would have normally caused."
   ]
  },
  {
   "cell_type": "markdown",
   "metadata": {
    "application/vnd.databricks.v1+cell": {
     "cellMetadata": {
      "byteLimit": 2048000,
      "rowLimit": 10000
     },
     "inputWidgets": {},
     "nuid": "ab5b4a36-18a3-49f7-aa98-bbf5c281563d",
     "showTitle": false,
     "title": ""
    }
   },
   "source": [
    "###Load Data for Pipeline"
   ]
  },
  {
   "cell_type": "markdown",
   "metadata": {
    "application/vnd.databricks.v1+cell": {
     "cellMetadata": {
      "byteLimit": 2048000,
      "rowLimit": 10000
     },
     "inputWidgets": {},
     "nuid": "d5fb1bf6-e89e-4060-a07b-7a1aa956097f",
     "showTitle": false,
     "title": ""
    }
   },
   "source": [
    "####3 Month Data"
   ]
  },
  {
   "cell_type": "code",
   "execution_count": 0,
   "metadata": {
    "application/vnd.databricks.v1+cell": {
     "cellMetadata": {
      "byteLimit": 2048000,
      "rowLimit": 10000
     },
     "inputWidgets": {},
     "nuid": "056dff5e-dbe2-4f02-9cb0-092cc6fdc96f",
     "showTitle": false,
     "title": ""
    }
   },
   "outputs": [],
   "source": [
    "df_otpw_quarter = spark.read.parquet(f\"{team_blob_url}/2015_3m_train\")\n",
    "df_otpw_quarter_test = spark.read.parquet(f\"{team_blob_url}/2015_3m_test\")"
   ]
  },
  {
   "cell_type": "markdown",
   "metadata": {
    "application/vnd.databricks.v1+cell": {
     "cellMetadata": {
      "byteLimit": 2048000,
      "rowLimit": 10000
     },
     "inputWidgets": {},
     "nuid": "0610c7dd-d7fb-4ee2-88f5-bd6d8f294af8",
     "showTitle": false,
     "title": ""
    }
   },
   "source": [
    "####1 Year Data"
   ]
  },
  {
   "cell_type": "code",
   "execution_count": 0,
   "metadata": {
    "application/vnd.databricks.v1+cell": {
     "cellMetadata": {
      "byteLimit": 2048000,
      "rowLimit": 10000
     },
     "inputWidgets": {},
     "nuid": "f817528b-0ce6-4d54-acc6-3e9b8c107406",
     "showTitle": false,
     "title": ""
    }
   },
   "outputs": [],
   "source": [
    "df_otpw_1yr = spark.read.parquet(f\"{team_blob_url}/2015_1yr_train\")\n",
    "df_otpw_1yr_test = spark.read.parquet(f\"{team_blob_url}/2015_1yr_test\")"
   ]
  },
  {
   "cell_type": "markdown",
   "metadata": {
    "application/vnd.databricks.v1+cell": {
     "cellMetadata": {},
     "inputWidgets": {},
     "nuid": "ff2f2af6-d57b-4501-9896-84ba68f73b58",
     "showTitle": false,
     "title": ""
    }
   },
   "source": [
    "####3 Years Data"
   ]
  },
  {
   "cell_type": "code",
   "execution_count": 0,
   "metadata": {
    "application/vnd.databricks.v1+cell": {
     "cellMetadata": {
      "byteLimit": 2048000,
      "rowLimit": 10000
     },
     "inputWidgets": {},
     "nuid": "f97bc53c-6a27-432a-91a4-de10f666c97c",
     "showTitle": false,
     "title": ""
    }
   },
   "outputs": [],
   "source": [
    "df_otpw_3yr = spark.read.parquet(f\"{team_blob_url}/OTPW_3yr_train\")\n",
    "df_otpw_3yr_test = spark.read.parquet(f\"{team_blob_url}/OTPW_3yr_test\")"
   ]
  },
  {
   "cell_type": "markdown",
   "metadata": {
    "application/vnd.databricks.v1+cell": {
     "cellMetadata": {},
     "inputWidgets": {},
     "nuid": "57de1a13-cc01-425f-b3d9-6ce0d577cc25",
     "showTitle": false,
     "title": ""
    }
   },
   "source": [
    "####5 Years Data"
   ]
  },
  {
   "cell_type": "code",
   "execution_count": 0,
   "metadata": {
    "application/vnd.databricks.v1+cell": {
     "cellMetadata": {
      "byteLimit": 2048000,
      "rowLimit": 10000
     },
     "inputWidgets": {},
     "nuid": "588357bd-6c3f-4cba-8dca-525d17ee840d",
     "showTitle": false,
     "title": ""
    }
   },
   "outputs": [],
   "source": [
    "df_otpw_5yr = spark.read.parquet(f\"{team_blob_url}/OTPW_5yr_train\")\n",
    "df_otpw_5yr_test = spark.read.parquet(f\"{team_blob_url}/OTPW_5yr_test\")"
   ]
  },
  {
   "cell_type": "markdown",
   "metadata": {
    "application/vnd.databricks.v1+cell": {
     "cellMetadata": {
      "byteLimit": 2048000,
      "rowLimit": 10000
     },
     "inputWidgets": {},
     "nuid": "9792b7c7-3d19-45bc-9684-06299614acfc",
     "showTitle": false,
     "title": ""
    }
   },
   "source": [
    "#### Data Handling Summary Visualization"
   ]
  },
  {
   "cell_type": "code",
   "execution_count": 0,
   "metadata": {
    "application/vnd.databricks.v1+cell": {
     "cellMetadata": {
      "byteLimit": 2048000,
      "rowLimit": 10000
     },
     "inputWidgets": {},
     "nuid": "4747064e-e7ab-4f1f-816b-eb172d479d1e",
     "showTitle": false,
     "title": ""
    },
    "jupyter": {
     "source_hidden": true
    }
   },
   "outputs": [
    {
     "output_type": "display_data",
     "data": {
      "text/html": [
       "<html>\n",
       "<head><meta charset=\"utf-8\" /></head>\n",
       "<body>\n",
       "    <div>            <script src=\"https://cdnjs.cloudflare.com/ajax/libs/mathjax/2.7.5/MathJax.js?config=TeX-AMS-MML_SVG\"></script><script type=\"text/javascript\">if (window.MathJax && window.MathJax.Hub && window.MathJax.Hub.Config) {window.MathJax.Hub.Config({SVG: {font: \"STIX-Web\"}});}</script>                <script type=\"text/javascript\">window.PlotlyConfig = {MathJaxConfig: 'local'};</script>\n",
       "        <script src=\"https://cdn.plot.ly/plotly-2.12.1.min.js\"></script>                <div id=\"03894363-e725-4b47-bf6d-2e6360ac9cdd\" class=\"plotly-graph-div\" style=\"height:500px; width:1200px;\"></div>            <script type=\"text/javascript\">                                    window.PLOTLYENV=window.PLOTLYENV || {};                                    if (document.getElementById(\"03894363-e725-4b47-bf6d-2e6360ac9cdd\")) {                    Plotly.newPlot(                        \"03894363-e725-4b47-bf6d-2e6360ac9cdd\",                        [{\"hovertemplate\":\"Dataset=Original<br>stage=%{x}<br>number=%{y}<extra></extra>\",\"legendgroup\":\"Original\",\"marker\":{\"color\":\"darkseagreen\"},\"name\":\"Original\",\"orientation\":\"v\",\"showlegend\":true,\"x\":[\"Total\",\"Train Test Split\",\"Null Records Dropped\",\"Duplicates Dropped\",\"Balanced Data\"],\"xaxis\":\"x\",\"y\":[5811854,0,0,0,0],\"yaxis\":\"y\",\"type\":\"funnel\"},{\"hovertemplate\":\"Dataset=Train<br>stage=%{x}<br>number=%{y}<extra></extra>\",\"legendgroup\":\"Train\",\"marker\":{\"color\":\"dodgerblue\"},\"name\":\"Train\",\"orientation\":\"v\",\"showlegend\":true,\"x\":[\"Total\",\"Train Test Split\",\"Null Records Dropped\",\"Duplicates Dropped\",\"Balanced Data\"],\"xaxis\":\"x\",\"y\":[0,4380612,1273852,1273852,492710],\"yaxis\":\"y\",\"type\":\"funnel\"},{\"hovertemplate\":\"Dataset=Test<br>stage=%{x}<br>number=%{y}<extra></extra>\",\"legendgroup\":\"Test\",\"marker\":{\"color\":\"tomato\"},\"name\":\"Test\",\"orientation\":\"v\",\"showlegend\":true,\"x\":[\"Total\",\"Train Test Split\",\"Null Records Dropped\",\"Duplicates Dropped\",\"Balanced Data\"],\"xaxis\":\"x\",\"y\":[0,1431242,398545,398545,398545],\"yaxis\":\"y\",\"type\":\"funnel\"},{\"hovertemplate\":\"Dataset=Dropped Records<br>stage=%{x}<br>number=%{y}<extra></extra>\",\"legendgroup\":\"Dropped Records\",\"marker\":{\"color\":\"grey\"},\"name\":\"Dropped Records\",\"orientation\":\"v\",\"showlegend\":true,\"x\":[\"Total\",\"Train Test Split\",\"Null Records Dropped\",\"Duplicates Dropped\",\"Balanced Data\"],\"xaxis\":\"x\",\"y\":[0,0,4139457,4139457,4920599],\"yaxis\":\"y\",\"type\":\"funnel\"}],                        {\"template\":{\"data\":{\"histogram2dcontour\":[{\"type\":\"histogram2dcontour\",\"colorbar\":{\"outlinewidth\":0,\"ticks\":\"\"},\"colorscale\":[[0.0,\"#0d0887\"],[0.1111111111111111,\"#46039f\"],[0.2222222222222222,\"#7201a8\"],[0.3333333333333333,\"#9c179e\"],[0.4444444444444444,\"#bd3786\"],[0.5555555555555556,\"#d8576b\"],[0.6666666666666666,\"#ed7953\"],[0.7777777777777778,\"#fb9f3a\"],[0.8888888888888888,\"#fdca26\"],[1.0,\"#f0f921\"]]}],\"choropleth\":[{\"type\":\"choropleth\",\"colorbar\":{\"outlinewidth\":0,\"ticks\":\"\"}}],\"histogram2d\":[{\"type\":\"histogram2d\",\"colorbar\":{\"outlinewidth\":0,\"ticks\":\"\"},\"colorscale\":[[0.0,\"#0d0887\"],[0.1111111111111111,\"#46039f\"],[0.2222222222222222,\"#7201a8\"],[0.3333333333333333,\"#9c179e\"],[0.4444444444444444,\"#bd3786\"],[0.5555555555555556,\"#d8576b\"],[0.6666666666666666,\"#ed7953\"],[0.7777777777777778,\"#fb9f3a\"],[0.8888888888888888,\"#fdca26\"],[1.0,\"#f0f921\"]]}],\"heatmap\":[{\"type\":\"heatmap\",\"colorbar\":{\"outlinewidth\":0,\"ticks\":\"\"},\"colorscale\":[[0.0,\"#0d0887\"],[0.1111111111111111,\"#46039f\"],[0.2222222222222222,\"#7201a8\"],[0.3333333333333333,\"#9c179e\"],[0.4444444444444444,\"#bd3786\"],[0.5555555555555556,\"#d8576b\"],[0.6666666666666666,\"#ed7953\"],[0.7777777777777778,\"#fb9f3a\"],[0.8888888888888888,\"#fdca26\"],[1.0,\"#f0f921\"]]}],\"heatmapgl\":[{\"type\":\"heatmapgl\",\"colorbar\":{\"outlinewidth\":0,\"ticks\":\"\"},\"colorscale\":[[0.0,\"#0d0887\"],[0.1111111111111111,\"#46039f\"],[0.2222222222222222,\"#7201a8\"],[0.3333333333333333,\"#9c179e\"],[0.4444444444444444,\"#bd3786\"],[0.5555555555555556,\"#d8576b\"],[0.6666666666666666,\"#ed7953\"],[0.7777777777777778,\"#fb9f3a\"],[0.8888888888888888,\"#fdca26\"],[1.0,\"#f0f921\"]]}],\"contourcarpet\":[{\"type\":\"contourcarpet\",\"colorbar\":{\"outlinewidth\":0,\"ticks\":\"\"}}],\"contour\":[{\"type\":\"contour\",\"colorbar\":{\"outlinewidth\":0,\"ticks\":\"\"},\"colorscale\":[[0.0,\"#0d0887\"],[0.1111111111111111,\"#46039f\"],[0.2222222222222222,\"#7201a8\"],[0.3333333333333333,\"#9c179e\"],[0.4444444444444444,\"#bd3786\"],[0.5555555555555556,\"#d8576b\"],[0.6666666666666666,\"#ed7953\"],[0.7777777777777778,\"#fb9f3a\"],[0.8888888888888888,\"#fdca26\"],[1.0,\"#f0f921\"]]}],\"surface\":[{\"type\":\"surface\",\"colorbar\":{\"outlinewidth\":0,\"ticks\":\"\"},\"colorscale\":[[0.0,\"#0d0887\"],[0.1111111111111111,\"#46039f\"],[0.2222222222222222,\"#7201a8\"],[0.3333333333333333,\"#9c179e\"],[0.4444444444444444,\"#bd3786\"],[0.5555555555555556,\"#d8576b\"],[0.6666666666666666,\"#ed7953\"],[0.7777777777777778,\"#fb9f3a\"],[0.8888888888888888,\"#fdca26\"],[1.0,\"#f0f921\"]]}],\"mesh3d\":[{\"type\":\"mesh3d\",\"colorbar\":{\"outlinewidth\":0,\"ticks\":\"\"}}],\"scatter\":[{\"fillpattern\":{\"fillmode\":\"overlay\",\"size\":10,\"solidity\":0.2},\"type\":\"scatter\"}],\"parcoords\":[{\"type\":\"parcoords\",\"line\":{\"colorbar\":{\"outlinewidth\":0,\"ticks\":\"\"}}}],\"scatterpolargl\":[{\"type\":\"scatterpolargl\",\"marker\":{\"colorbar\":{\"outlinewidth\":0,\"ticks\":\"\"}}}],\"bar\":[{\"error_x\":{\"color\":\"#2a3f5f\"},\"error_y\":{\"color\":\"#2a3f5f\"},\"marker\":{\"line\":{\"color\":\"#E5ECF6\",\"width\":0.5},\"pattern\":{\"fillmode\":\"overlay\",\"size\":10,\"solidity\":0.2}},\"type\":\"bar\"}],\"scattergeo\":[{\"type\":\"scattergeo\",\"marker\":{\"colorbar\":{\"outlinewidth\":0,\"ticks\":\"\"}}}],\"scatterpolar\":[{\"type\":\"scatterpolar\",\"marker\":{\"colorbar\":{\"outlinewidth\":0,\"ticks\":\"\"}}}],\"histogram\":[{\"marker\":{\"pattern\":{\"fillmode\":\"overlay\",\"size\":10,\"solidity\":0.2}},\"type\":\"histogram\"}],\"scattergl\":[{\"type\":\"scattergl\",\"marker\":{\"colorbar\":{\"outlinewidth\":0,\"ticks\":\"\"}}}],\"scatter3d\":[{\"type\":\"scatter3d\",\"line\":{\"colorbar\":{\"outlinewidth\":0,\"ticks\":\"\"}},\"marker\":{\"colorbar\":{\"outlinewidth\":0,\"ticks\":\"\"}}}],\"scattermapbox\":[{\"type\":\"scattermapbox\",\"marker\":{\"colorbar\":{\"outlinewidth\":0,\"ticks\":\"\"}}}],\"scatterternary\":[{\"type\":\"scatterternary\",\"marker\":{\"colorbar\":{\"outlinewidth\":0,\"ticks\":\"\"}}}],\"scattercarpet\":[{\"type\":\"scattercarpet\",\"marker\":{\"colorbar\":{\"outlinewidth\":0,\"ticks\":\"\"}}}],\"carpet\":[{\"aaxis\":{\"endlinecolor\":\"#2a3f5f\",\"gridcolor\":\"white\",\"linecolor\":\"white\",\"minorgridcolor\":\"white\",\"startlinecolor\":\"#2a3f5f\"},\"baxis\":{\"endlinecolor\":\"#2a3f5f\",\"gridcolor\":\"white\",\"linecolor\":\"white\",\"minorgridcolor\":\"white\",\"startlinecolor\":\"#2a3f5f\"},\"type\":\"carpet\"}],\"table\":[{\"cells\":{\"fill\":{\"color\":\"#EBF0F8\"},\"line\":{\"color\":\"white\"}},\"header\":{\"fill\":{\"color\":\"#C8D4E3\"},\"line\":{\"color\":\"white\"}},\"type\":\"table\"}],\"barpolar\":[{\"marker\":{\"line\":{\"color\":\"#E5ECF6\",\"width\":0.5},\"pattern\":{\"fillmode\":\"overlay\",\"size\":10,\"solidity\":0.2}},\"type\":\"barpolar\"}],\"pie\":[{\"automargin\":true,\"type\":\"pie\"}]},\"layout\":{\"autotypenumbers\":\"strict\",\"colorway\":[\"#636efa\",\"#EF553B\",\"#00cc96\",\"#ab63fa\",\"#FFA15A\",\"#19d3f3\",\"#FF6692\",\"#B6E880\",\"#FF97FF\",\"#FECB52\"],\"font\":{\"color\":\"#2a3f5f\"},\"hovermode\":\"closest\",\"hoverlabel\":{\"align\":\"left\"},\"paper_bgcolor\":\"white\",\"plot_bgcolor\":\"#E5ECF6\",\"polar\":{\"bgcolor\":\"#E5ECF6\",\"angularaxis\":{\"gridcolor\":\"white\",\"linecolor\":\"white\",\"ticks\":\"\"},\"radialaxis\":{\"gridcolor\":\"white\",\"linecolor\":\"white\",\"ticks\":\"\"}},\"ternary\":{\"bgcolor\":\"#E5ECF6\",\"aaxis\":{\"gridcolor\":\"white\",\"linecolor\":\"white\",\"ticks\":\"\"},\"baxis\":{\"gridcolor\":\"white\",\"linecolor\":\"white\",\"ticks\":\"\"},\"caxis\":{\"gridcolor\":\"white\",\"linecolor\":\"white\",\"ticks\":\"\"}},\"coloraxis\":{\"colorbar\":{\"outlinewidth\":0,\"ticks\":\"\"}},\"colorscale\":{\"sequential\":[[0.0,\"#0d0887\"],[0.1111111111111111,\"#46039f\"],[0.2222222222222222,\"#7201a8\"],[0.3333333333333333,\"#9c179e\"],[0.4444444444444444,\"#bd3786\"],[0.5555555555555556,\"#d8576b\"],[0.6666666666666666,\"#ed7953\"],[0.7777777777777778,\"#fb9f3a\"],[0.8888888888888888,\"#fdca26\"],[1.0,\"#f0f921\"]],\"sequentialminus\":[[0.0,\"#0d0887\"],[0.1111111111111111,\"#46039f\"],[0.2222222222222222,\"#7201a8\"],[0.3333333333333333,\"#9c179e\"],[0.4444444444444444,\"#bd3786\"],[0.5555555555555556,\"#d8576b\"],[0.6666666666666666,\"#ed7953\"],[0.7777777777777778,\"#fb9f3a\"],[0.8888888888888888,\"#fdca26\"],[1.0,\"#f0f921\"]],\"diverging\":[[0,\"#8e0152\"],[0.1,\"#c51b7d\"],[0.2,\"#de77ae\"],[0.3,\"#f1b6da\"],[0.4,\"#fde0ef\"],[0.5,\"#f7f7f7\"],[0.6,\"#e6f5d0\"],[0.7,\"#b8e186\"],[0.8,\"#7fbc41\"],[0.9,\"#4d9221\"],[1,\"#276419\"]]},\"xaxis\":{\"gridcolor\":\"white\",\"linecolor\":\"white\",\"ticks\":\"\",\"title\":{\"standoff\":15},\"zerolinecolor\":\"white\",\"automargin\":true,\"zerolinewidth\":2},\"yaxis\":{\"gridcolor\":\"white\",\"linecolor\":\"white\",\"ticks\":\"\",\"title\":{\"standoff\":15},\"zerolinecolor\":\"white\",\"automargin\":true,\"zerolinewidth\":2},\"scene\":{\"xaxis\":{\"backgroundcolor\":\"#E5ECF6\",\"gridcolor\":\"white\",\"linecolor\":\"white\",\"showbackground\":true,\"ticks\":\"\",\"zerolinecolor\":\"white\",\"gridwidth\":2},\"yaxis\":{\"backgroundcolor\":\"#E5ECF6\",\"gridcolor\":\"white\",\"linecolor\":\"white\",\"showbackground\":true,\"ticks\":\"\",\"zerolinecolor\":\"white\",\"gridwidth\":2},\"zaxis\":{\"backgroundcolor\":\"#E5ECF6\",\"gridcolor\":\"white\",\"linecolor\":\"white\",\"showbackground\":true,\"ticks\":\"\",\"zerolinecolor\":\"white\",\"gridwidth\":2}},\"shapedefaults\":{\"line\":{\"color\":\"#2a3f5f\"}},\"annotationdefaults\":{\"arrowcolor\":\"#2a3f5f\",\"arrowhead\":0,\"arrowwidth\":1},\"geo\":{\"bgcolor\":\"white\",\"landcolor\":\"#E5ECF6\",\"subunitcolor\":\"white\",\"showland\":true,\"showlakes\":true,\"lakecolor\":\"white\"},\"title\":{\"x\":0.05},\"mapbox\":{\"style\":\"light\"}}},\"xaxis\":{\"anchor\":\"y\",\"domain\":[0.0,1.0],\"title\":{\"text\":\"\"}},\"yaxis\":{\"anchor\":\"x\",\"domain\":[0.0,1.0],\"title\":{\"text\":\"\"}},\"legend\":{\"title\":{\"text\":\"\"},\"tracegroupgap\":0,\"orientation\":\"h\",\"yanchor\":\"bottom\",\"y\":1.02,\"xanchor\":\"right\",\"x\":0.7},\"margin\":{\"t\":60},\"autosize\":false,\"width\":1200,\"height\":500,\"title\":{\"text\":\"\"}},                        {\"responsive\": true}                    )                };                            </script>        </div>\n",
       "</body>\n",
       "</html>"
      ]
     },
     "metadata": {},
     "output_type": "display_data"
    }
   ],
   "source": [
    "import plotly.express as px\n",
    "import pandas as pd\n",
    "\n",
    "stages = ['Total', 'Train Test Split', 'Null Records Dropped', 'Duplicates Dropped', 'Balanced Data']\n",
    "\n",
    "df_t = pd.DataFrame(dict(number=[5811854, 0, 0, 0, 0], stage=stages))\n",
    "\n",
    "df_t['Dataset'] = 'Original'\n",
    "\n",
    "df_mtl = pd.DataFrame(dict(number=[0, 4380612, 1273852, 1273852, 492710], stage=stages))\n",
    "\n",
    "df_mtl['Dataset'] = 'Train'\n",
    "\n",
    "df_toronto = pd.DataFrame(dict(number=[0, 1431242, 398545, 398545, 398545], stage=stages))\n",
    "\n",
    "df_toronto['Dataset'] = 'Test'\n",
    "\n",
    "df_d = pd.DataFrame(dict(number=[0, 0, 4139457, 4139457, 4920599], stage=stages))\n",
    "\n",
    "df_d['Dataset'] = 'Dropped Records'\n",
    "\n",
    "df = pd.concat([df_t, df_mtl, df_toronto, df_d], axis=0)\n",
    "\n",
    "\n",
    "fig = px.funnel(df, y='number', x='stage', color='Dataset', color_discrete_map = {'Original': 'darkseagreen', \n",
    "                                                                                  'Train': 'dodgerblue', \n",
    "                                                                                  'Test':'tomato', \n",
    "                                                                                  'Dropped Records':'grey'},\n",
    "               orientation = 'v')\n",
    "\n",
    "fig.update_layout(\n",
    "    autosize=False,\n",
    "    width=1200,\n",
    "    height=500,\n",
    "    title = '')\n",
    "\n",
    "\n",
    "\n",
    "fig.update_layout(legend=dict(\n",
    "    orientation=\"h\",\n",
    "    yanchor=\"bottom\",\n",
    "    y=1.02,\n",
    "    xanchor=\"right\",\n",
    "    x=0.7,\n",
    "    title = ''\n",
    "))\n",
    "\n",
    "fig.update_yaxes(title = '')\n",
    "fig.update_xaxes(title = '')\n",
    "\n",
    "fig"
   ]
  },
  {
   "cell_type": "markdown",
   "metadata": {
    "application/vnd.databricks.v1+cell": {
     "cellMetadata": {
      "byteLimit": 2048000,
      "rowLimit": 10000
     },
     "inputWidgets": {},
     "nuid": "92e40fcd-feb9-4cad-9ab9-90bfb36dd4d2",
     "showTitle": false,
     "title": ""
    }
   },
   "source": [
    "###Pre-process Data"
   ]
  },
  {
   "cell_type": "code",
   "execution_count": 0,
   "metadata": {
    "application/vnd.databricks.v1+cell": {
     "cellMetadata": {
      "byteLimit": 2048000,
      "rowLimit": 10000
     },
     "inputWidgets": {},
     "nuid": "7346ef57-9967-4867-bdf6-b795fdafb021",
     "showTitle": false,
     "title": ""
    }
   },
   "outputs": [],
   "source": [
    "import networkx as nx\n",
    "\n",
    "def getPageRankDict(df, alpha_val = 0.85):\n",
    "    df_station = spark.read.parquet(f\"dbfs:/mnt/mids-w261/datasets_final_project_2022/stations_data/stations_with_neighbors.parquet/\")\n",
    "    station_list = df_station.select('neighbor_id').distinct().toPandas()['neighbor_id'].tolist()\n",
    "    traffic_df = df.groupBy(\"origin_station_id\", \"dest_station_id\").count().toPandas()\n",
    "    traffic_dict = dict(zip(tuple(zip(traffic_df.origin_station_id, traffic_df.dest_station_id)), traffic_df['count']))\n",
    "    for i in station_list:\n",
    "        for j in station_list:\n",
    "            if i == j:\n",
    "                continue\n",
    "            if traffic_dict.get((i, j), None) is None:\n",
    "                traffic_dict[(i, j)] = 0\n",
    "\n",
    "    station_graph = nx.DiGraph()\n",
    "\n",
    "    for key, value in traffic_dict.items():\n",
    "        station_graph.add_edge(key[0], key[1], weight = value)\n",
    "\n",
    "    pagerank_dict = nx.pagerank(station_graph, alpha = alpha_val, personalization=None, weight='weight')\n",
    "\n",
    "    return pagerank_dict"
   ]
  },
  {
   "cell_type": "code",
   "execution_count": 0,
   "metadata": {
    "application/vnd.databricks.v1+cell": {
     "cellMetadata": {
      "byteLimit": 2048000,
      "rowLimit": 10000
     },
     "inputWidgets": {},
     "nuid": "470103cc-c8e1-487d-8445-dea9bc4fada5",
     "showTitle": false,
     "title": ""
    }
   },
   "outputs": [],
   "source": [
    "def Pre_Process_DF(df, train_set_flag, pagerank_dict):    \n",
    "    # Create clean pipeline\n",
    "    print('initial size: ' + str(df.count()))\n",
    "    '''\n",
    "    # Quantify missing Values\n",
    "    otpw_null_dataframe =  df.select([F.count(F.when(F.col(c).isNull(),c)).alias(c) for c in df.columns])\n",
    "    row_count_otpw = df.count()\n",
    "    otpw_null_count_pandas = otpw_null_dataframe.toPandas().transpose().reset_index().rename(columns = {0:'nullCount'})\n",
    "    otpw_null_count_pandas['percentNull'] = np.round(otpw_null_count_pandas['nullCount'] * 100 / row_count_otpw , 2)\n",
    "    nonnull_cols_otpw = otpw_null_count_pandas[otpw_null_count_pandas['percentNull'] < 4]['index'].to_list()\n",
    "\n",
    "    otpw_null_count_pandas.rename(columns={'index': 'Column Name', 'nullCount': 'Number of Null Values', 'percentNull': 'Percentages'}, inplace=True)\n",
    "\n",
    "    # Drop Columns with Null Percentage >=90%\n",
    "    drop_df = otpw_null_count_pandas[otpw_null_count_pandas['Percentages'] >= 90]\n",
    "    df = df.drop(*drop_df['Column Name'].tolist())\n",
    "    '''\n",
    "    drop_list = [i for i in df.columns if 'Backup' in i]\n",
    "    drop_list.append('WindEquipmentChangeDate')\n",
    "    drop_list.append('_row_desc')\n",
    "    df = df.drop(*drop_list)\n",
    "\n",
    "    # Parse and clean values\n",
    "    df = df.withColumn(\"FL_DATE\", F.to_timestamp(df.FL_DATE))\n",
    "    #df = df.withColumn(\"sched_depart_date_time\", F.to_timestamp(df.sched_depart_date_time))\n",
    "    df = df.withColumn(\"sched_depart_date_time_UTC\", F.to_timestamp(df.sched_depart_date_time_UTC))\n",
    "    df = df.withColumn(\"four_hours_prior_depart_UTC\", F.to_timestamp(df.four_hours_prior_depart_UTC))\n",
    "    df = df.withColumn(\"two_hours_prior_depart_UTC\", F.to_timestamp(df.two_hours_prior_depart_UTC))\n",
    "    df = df.withColumn(\"DATE\", F.to_timestamp(df.DATE))\n",
    "\n",
    "    # Parsing Steps\n",
    "\n",
    "    # Hourly Sky Conditions Parsing\n",
    "    # Helper function to parse the hourlyskyconditions\n",
    "    def parse_hourlyskyconditions(s):\n",
    "        # First, check if the string contains the pattern (letters followed by a colon and numbers)\n",
    "        if re.search(r'\\b[A-Z]+:\\d+', str(s)):\n",
    "            # If the pattern is found, extract numbers that are preceded by letters and a colon\n",
    "            return re.findall(r'\\b[A-Z]+:(\\d+)', str(s))\n",
    "        else:\n",
    "            # If the pattern is not found, the string might be a standalone number\n",
    "            # Extract the standalone number\n",
    "            standalone_number = re.findall(r'\\b\\d+\\b', str(s))\n",
    "            return standalone_number if standalone_number else []\n",
    "\n",
    "    parse_hourlyskyconditions_udf = udf(parse_hourlyskyconditions, ArrayType(StringType()))\n",
    "\n",
    "    df = df.withColumn(\"HourlySkyConditions_Parsed\", parse_hourlyskyconditions_udf(df.HourlySkyConditions))\n",
    "\n",
    "    # Hourly Present Weater Type Parsing\n",
    "    def parse_hourlyPresentWeatherType(s):\n",
    "        # This pattern matches sequences of letters that may be followed by a colon and numbers\n",
    "        pattern = re.compile(r'(?:[+-])?([A-Z]+)')\n",
    "        if s is None:\n",
    "            return []\n",
    "        # Find all matches in the string, and filter out empty strings if any\n",
    "        return [match for match in pattern.findall(str(s)) if match]\n",
    "\n",
    "    parse_hourlyPresentWeatherType_udf = udf(parse_hourlyPresentWeatherType, ArrayType(StringType()))\n",
    "\n",
    "    df = df.withColumn(\"HourlyPresentWeatherType_Parsed\", parse_hourlyPresentWeatherType_udf(df.HourlyPresentWeatherType))\n",
    "\n",
    "    # Hourly Pressure Tendency Parsing\n",
    "    def parse_PressureTendency(value):\n",
    "        if value is None or value == \"\":\n",
    "            return None\n",
    "        # Remove any non-numeric characters except the decimal point\n",
    "        numeric_value = ''.join(char for char in str(value) if char.isdigit() or char == '.' or char == '-')\n",
    "        if numeric_value == '9':\n",
    "            return None\n",
    "        return numeric_value\n",
    "\n",
    "    parse_PressureTendency_udf = udf(parse_PressureTendency, StringType())\n",
    "\n",
    "    df = df.withColumn(\"HourlyPressureTendency\", parse_PressureTendency_udf(df.HourlyPressureTendency))\n",
    "\n",
    "    # Hourly Wind Direction Parsing\n",
    "    def parse_doubleToString(value):\n",
    "        if value is None or value == \"\":\n",
    "            return NotImplementedError\n",
    "        if str(value) == \"VRB\":\n",
    "            return \"VRB\"\n",
    "        # Remove any non-numeric characters except the decimal point\n",
    "        numeric_value = ''.join(char for char in str(value) if char.isdigit() or char == '.' or char == '-')\n",
    "        return numeric_value\n",
    "\n",
    "    parse_doubleToString_udf = udf(parse_doubleToString, StringType())\n",
    "\n",
    "    df = df.withColumn(\"HourlyWindDirection\", parse_doubleToString_udf(df.HourlyWindDirection))\n",
    "\n",
    "    # Parse all other numeric weather columns to double\n",
    "    def parse_doubleToDouble(value):\n",
    "        if value is None or value == \"\":\n",
    "            return None\n",
    "        # Remove any non-numeric characters except the decimal point\n",
    "        numeric_value = ''.join(char for char in str(value) if char.isdigit() or char == '.' or char == '-')\n",
    "        if len(numeric_value) == 0:\n",
    "            return None\n",
    "        # Convert the cleaned string to a float\n",
    "        try:\n",
    "            float(numeric_value)\n",
    "            return float(numeric_value)\n",
    "        except ValueError:\n",
    "            return None\n",
    "            \n",
    "\n",
    "    parse_doubleToDouble_udf = udf(parse_doubleToDouble, DoubleType())\n",
    "\n",
    "\n",
    "################################################################################################\n",
    "    #creating holiday window features (+/- 1 or 2 days after a federal holdiay)\n",
    "    federal_holidays_str = ['2015-07-04', '2016-07-04', '2017-07-04', '2018-07-04', '2019-07-04', '2020-07-04', '2015-12-25', '2016-12-25', '2017-12-25', '2018-12-25', '2019-12-25', '2020-12-25', '2015-12-24', '2016-12-24', '2017-12-24', '2018-12-24', '2019-12-24', '2020-12-24', '2018-10-08', '2017-10-09', '2016-10-10', '2015-10-12', '2020-10-12', '2019-10-14', '2018-04-08', '2015-04-12', '2017-04-16', '2020-04-19', '2019-04-28', '2016-05-01', '2020-06-19', '2015-06-19', '2016-06-19', '2017-06-19', '2018-06-19', '2019-06-19', '2019-09-02', '2018-09-03', '2017-09-04', '2016-09-05', '2015-09-07', '2020-09-07', '2019-08-31', '2019-09-01', '2018-09-01', '2018-09-02', '2017-09-02', '2017-09-03', '2016-09-03', '2016-09-04', '2015-09-05', '2020-09-05', '2015-09-06', '2020-09-06', '2018-01-15', '2017-01-16', '2016-01-18', '2015-01-19', '2020-01-20', '2019-01-21', '2015-05-25', '2020-05-25', '2019-05-27', '2018-05-28', '2017-05-29', '2016-05-30', '2016-01-01', '2017-01-01', '2018-01-01', '2019-01-01', '2020-01-01', '2021-01-01', '2015-12-31', '2016-12-31', '2017-12-31', '2018-12-31', '2019-12-31', '2020-12-31', '2018-11-22', '2017-11-23', '2016-11-24', '2015-11-26', '2020-11-26', '2019-11-28', '2018-11-21', '2017-11-22', '2016-11-23', '2015-11-25', '2020-11-25', '2019-11-27', '2015-02-14', '2016-02-14', '2017-02-14', '2018-02-14', '2019-02-14', '2020-02-14', '2015-11-11', '2016-11-11', '2017-11-11', '2018-11-11', '2019-11-11', '2020-11-11', '2016-02-15', '2015-02-16', '2020-02-17', '2019-02-18', '2018-02-19', '2017-02-20', '2016-03-27', '2018-04-01', '2015-04-05', '2020-04-12', '2017-04-16', '2019-04-21']\n",
    "\n",
    "    #finding days +/- 1 or 2 days after federal holiday\n",
    "    federal_holidays = []\n",
    "    for date_str in federal_holidays_str:\n",
    "        date = pd.to_datetime(date_str)\n",
    "        for i in range(2):\n",
    "            before = (date - pd.Timedelta(days=i)).date()\n",
    "            after = (date + pd.Timedelta(days=i)).date()\n",
    "            federal_holidays.append(str(before))\n",
    "            federal_holidays.append(str(after))\n",
    "    \n",
    "    #make sure its unique days\n",
    "    federal_holidays = list(set(federal_holidays))\n",
    "    def in_holiday_window(date):\n",
    "        return 1 if date in federal_holidays else 0\n",
    "    \n",
    "    in_holiday_window_udf = udf(in_holiday_window, IntegerType())\n",
    "\n",
    "    df = df.withColumn('in_holiday_window', in_holiday_window_udf(df.FL_DATE))\n",
    "\n",
    "    ############################################################################################\n",
    "\n",
    "\n",
    "    ### binning scheduled depature time into morning: 1, afternoon:2 and evening:3\n",
    "    def time_mapper(scheduled_departing_time):\n",
    "        time_bins = { '0001-0559': 0,\n",
    "             '0600-0659':0,\n",
    "             '0700-0759':0,\n",
    "             '0800-0859':0,\n",
    "             '0900-0959':0,\n",
    "             '1000-1059':0,\n",
    "             '1100-1159':0,\n",
    "             '1200-1259':1,\n",
    "             '1300-1359':1,\n",
    "             '1400-1459':1,\n",
    "             '1500-1559':1,\n",
    "             '1600-1659':1,\n",
    "             '1700-1759':1,\n",
    "             '1800-1859':2,\n",
    "             '1900-1959':2,\n",
    "             '2000-2059':2,\n",
    "             '2100-2159':2,\n",
    "             '2200-2259':2,\n",
    "             '2300-2359':2,\n",
    "             }\n",
    "        \n",
    "        return time_bins[str(scheduled_departing_time)]\n",
    "\n",
    "    time_mapper_udf = udf(time_mapper, IntegerType())\n",
    "\n",
    "    df = df.withColumn('time_of_day_category', time_mapper_udf(df.DEP_TIME_BLK))\n",
    "\n",
    "    ############################################################################################\n",
    "    #doublecasting with udf function\n",
    "    df = df.withColumn(\"LATITUDE\", parse_doubleToDouble_udf(df.LATITUDE))\n",
    "    df = df.withColumn(\"LONGITUDE\", parse_doubleToDouble_udf(df.LONGITUDE))\n",
    "    df = df.withColumn(\"ELEVATION\", parse_doubleToDouble_udf(df.ELEVATION))\n",
    "    df = df.withColumn(\"HourlyAltimeterSetting\", parse_doubleToDouble_udf(df.HourlyAltimeterSetting))\n",
    "    df = df.withColumn(\"HourlyDewPointTemperature\", parse_doubleToDouble_udf(df.HourlyDewPointTemperature))\n",
    "    df = df.withColumn(\"HourlyDryBulbTemperature\", parse_doubleToDouble_udf(df.HourlyDryBulbTemperature))\n",
    "    df = df.withColumn(\"HourlyPrecipitation\", parse_doubleToDouble_udf(df.HourlyPrecipitation))\n",
    "    df = df.withColumn(\"HourlyPressureChange\", parse_doubleToDouble_udf(df.HourlyPressureChange))\n",
    "    df = df.withColumn(\"HourlyRelativeHumidity\", parse_doubleToDouble_udf(df.HourlyRelativeHumidity))\n",
    "    df = df.withColumn(\"HourlySeaLevelPressure\", parse_doubleToDouble_udf(df.HourlySeaLevelPressure))\n",
    "    df = df.withColumn(\"HourlyStationPressure\", parse_doubleToDouble_udf(df.HourlyStationPressure))\n",
    "    df = df.withColumn(\"HourlyVisibility\", parse_doubleToDouble_udf(df.HourlyVisibility))\n",
    "    df = df.withColumn(\"HourlyWetBulbTemperature\", parse_doubleToDouble_udf(df.HourlyWetBulbTemperature))\n",
    "    df = df.withColumn(\"HourlyWindGustSpeed\", parse_doubleToDouble_udf(df.HourlyWindGustSpeed))\n",
    "    df = df.withColumn(\"HourlyWindSpeed\", parse_doubleToDouble_udf(df.HourlyWindSpeed))\n",
    "\n",
    "    ###############################################################################################\n",
    "\n",
    "    # DEP_DEL15 Parsing\n",
    "    # Helper function to parse binary columns\n",
    "    def parse_binary_double(value):\n",
    "        if value is None:\n",
    "            return float(1)\n",
    "        else:\n",
    "            return float(value)\n",
    "\n",
    "    parse_binary_double_udf = udf(parse_binary_double, DoubleType())\n",
    "\n",
    "    def parse_dep_del15(value):\n",
    "        if value is None:\n",
    "            return int(1)\n",
    "        else:\n",
    "            if value == '0.0':\n",
    "                return int(0)\n",
    "            else:\n",
    "                return int(1)\n",
    "\n",
    "    parse_dep_del15_udf = udf(parse_dep_del15, IntegerType())\n",
    "\n",
    "    df = df.withColumn(\"DEP_DEL15\", parse_dep_del15_udf(df.DEP_DEL15))\n",
    "\n",
    "    # Flight Data Numeric feature Parsing\n",
    "    df = df.withColumn(\"DEP_DELAY\", parse_doubleToDouble_udf(df.DEP_DELAY))\n",
    "    df = df.withColumn(\"DEP_DELAY_NEW\", parse_doubleToDouble_udf(df.DEP_DELAY_NEW))\n",
    "    df = df.withColumn(\"TAXI_OUT\", parse_doubleToDouble_udf(df.TAXI_OUT))\n",
    "    df = df.withColumn(\"TAXI_IN\", parse_doubleToDouble_udf(df.TAXI_IN))\n",
    "    df = df.withColumn(\"ARR_DELAY\", parse_doubleToDouble_udf(df.ARR_DELAY))\n",
    "    df = df.withColumn(\"ARR_DELAY_NEW\", parse_doubleToDouble_udf(df.ARR_DELAY_NEW))\n",
    "    df = df.withColumn(\"CRS_ELAPSED_TIME\", parse_doubleToDouble_udf(df.CRS_ELAPSED_TIME))\n",
    "    df = df.withColumn(\"ACTUAL_ELAPSED_TIME\", parse_doubleToDouble_udf(df.ACTUAL_ELAPSED_TIME))\n",
    "    df = df.withColumn(\"AIR_TIME\", parse_doubleToDouble_udf(df.AIR_TIME))\n",
    "    df = df.withColumn(\"FLIGHTS\", parse_doubleToDouble_udf(df.FLIGHTS))\n",
    "    df = df.withColumn(\"DISTANCE\", parse_doubleToDouble_udf(df.DISTANCE))\n",
    "    df = df.withColumn(\"CARRIER_DELAY\", parse_doubleToDouble_udf(df.CARRIER_DELAY))\n",
    "    df = df.withColumn(\"WEATHER_DELAY\", parse_doubleToDouble_udf(df.WEATHER_DELAY))\n",
    "    df = df.withColumn(\"NAS_DELAY\", parse_doubleToDouble_udf(df.NAS_DELAY))\n",
    "    df = df.withColumn(\"SECURITY_DELAY\", parse_doubleToDouble_udf(df.SECURITY_DELAY))\n",
    "    df = df.withColumn(\"LATE_AIRCRAFT_DELAY\", parse_doubleToDouble_udf(df.LATE_AIRCRAFT_DELAY))\n",
    "\n",
    "    ## Feature Selection\n",
    "\n",
    "    # Weather Feature Selection\n",
    "    columns_to_zscale = [\"CRS_ELAPSED_TIME\", \"DISTANCE\", \"ELEVATION\", \"HourlyAltimeterSetting\",\"HourlyDewPointTemperature\", \"HourlyDryBulbTemperature\",\"HourlyPrecipitation\", \"HourlyPressureChange\", \"HourlyRelativeHumidity\", \"HourlySeaLevelPressure\", \"HourlyStationPressure\", \"HourlyVisibility\", \"HourlyWetBulbTemperature\", \"HourlyWindSpeed\"]\n",
    "\n",
    "    df_feature_select = df.dropna(subset = columns_to_zscale)\n",
    "    print(\"size after dropping null records: \" + str(df_feature_select.count()))\n",
    "\n",
    "    # Check for duplicates\n",
    "    dupes_dropped = df_feature_select.dropDuplicates()\n",
    "\n",
    "    if (df_feature_select.count(), len(df_feature_select.columns)) == (dupes_dropped.count(), len(dupes_dropped.columns)):\n",
    "        print('No Duplicates found')\n",
    "    else:\n",
    "        print(f'{df_feature_select.count() - dupes_dropped.count()} duplicates dropped')\n",
    "        df_feature_select = dupes_dropped\n",
    "\n",
    "    print(\"size after dropping duplicates: \" + str(df_feature_select.count()))\n",
    "\n",
    "    if train_set_flag == 1:\n",
    "        # Balance the data\n",
    "        major_df = df_feature_select.filter(F.col('DEP_DEL15') == 0)\n",
    "        minor_df = df_feature_select.filter(F.col('DEP_DEL15') > 0)\n",
    "        ratio = float(major_df.count() / minor_df.count())\n",
    "        #print(\"Unbalanced ratio of No Delays to Delays: {}\".format(ratio))\n",
    "        \n",
    "\n",
    "        sampled_majority_df = major_df.sample(False, 1/ratio)\n",
    "        df_feature_select = sampled_majority_df.unionAll(minor_df)\n",
    "        print(\"size after balancing: \" + str(df_feature_select.count()))\n",
    "    \n",
    "    def parse_pagerank(value):\n",
    "        if value is None or value == \"\":\n",
    "            return None\n",
    "        if pagerank_dict.get(value, None) is None:\n",
    "            return None\n",
    "        else:\n",
    "            return pagerank_dict[value]\n",
    "        \n",
    "    parse_pagerank_udf = udf(parse_pagerank, DoubleType())\n",
    "\n",
    "    df_feature_select = df_feature_select.withColumn(\"pagerank\", parse_pagerank_udf(df_feature_select.origin_station_id))\n",
    "\n",
    "    hourlySkyConditions_list = ['00', '01', '02', '03', '04', '05', '06', '07', '08', '09', '10', '11', '12', '13', '14', '15', '16', '17', '18', '19']\n",
    "    hourlyWeatherType_list = ['FG', 'TS', 'PL', 'GR', 'GL', 'DU', 'HZ', 'BLSN', 'FC', 'WIND', 'BLPY', 'BR', 'DZ', 'FZDZ', 'RA', 'FZRA', 'SN', 'UP', \"MIFG\", 'FZFG']\n",
    "\n",
    "    for category in hourlySkyConditions_list:\n",
    "        df_feature_select = df_feature_select.withColumn(f\"skyConditions_{category}\", array_contains(F.col(\"HourlySkyConditions_Parsed\"), category).cast(\"int\"))\n",
    "\n",
    "    for category in hourlyWeatherType_list:\n",
    "        df_feature_select = df_feature_select.withColumn(f\"weatherType_{category}\", array_contains(F.col(\"HourlyPresentWeatherType_Parsed\"), category).cast(\"int\"))\n",
    "\n",
    "    df_feature_select = df_feature_select.drop(*['HourlySkyConditions_Parsed', 'HourlyPresentWeatherType_Parsed'])\n",
    "\n",
    "    return df_feature_select"
   ]
  },
  {
   "cell_type": "markdown",
   "metadata": {
    "application/vnd.databricks.v1+cell": {
     "cellMetadata": {
      "byteLimit": 2048000,
      "rowLimit": 10000
     },
     "inputWidgets": {},
     "nuid": "26cfb8b7-7235-49ac-953e-e6333dddb7af",
     "showTitle": false,
     "title": ""
    }
   },
   "source": [
    "####3 Month Data"
   ]
  },
  {
   "cell_type": "code",
   "execution_count": 0,
   "metadata": {
    "application/vnd.databricks.v1+cell": {
     "cellMetadata": {
      "byteLimit": 2048000,
      "rowLimit": 10000
     },
     "inputWidgets": {},
     "nuid": "6a0fbfe1-9668-4e12-ba44-cd414c88979f",
     "showTitle": false,
     "title": ""
    }
   },
   "outputs": [
    {
     "output_type": "stream",
     "name": "stdout",
     "output_type": "stream",
     "text": [
      "3 Months Train Data:\ninitial size: 897997\nsize after dropping null records: 243657\nNo Duplicates found\nsize after dropping duplicates: 243657\nsize after balancing: 109277\n----------------------------------\n3 Months Test Data:\ninitial size: 503366\nsize after dropping null records: 144051\nNo Duplicates found\nsize after dropping duplicates: 144051\n"
     ]
    }
   ],
   "source": [
    "print(\"3 Months Train Data:\")\n",
    "pagerank_dict_quarter = getPageRankDict(df_otpw_quarter, 0.85)\n",
    "train_quarter = Pre_Process_DF(df_otpw_quarter, 1, pagerank_dict_quarter)\n",
    "print(\"----------------------------------\")\n",
    "print(\"3 Months Test Data:\")\n",
    "test_quarter = Pre_Process_DF(df_otpw_quarter_test, 0, pagerank_dict_quarter)"
   ]
  },
  {
   "cell_type": "markdown",
   "metadata": {
    "application/vnd.databricks.v1+cell": {
     "cellMetadata": {},
     "inputWidgets": {},
     "nuid": "86263eda-4901-40ad-89e7-f142511b68b4",
     "showTitle": false,
     "title": ""
    }
   },
   "source": [
    "####5 Years Data"
   ]
  },
  {
   "cell_type": "code",
   "execution_count": 0,
   "metadata": {
    "application/vnd.databricks.v1+cell": {
     "cellMetadata": {
      "byteLimit": 2048000,
      "rowLimit": 10000
     },
     "inputWidgets": {},
     "nuid": "04a3c8d3-b609-48d0-bd00-d72a797ad4a6",
     "showTitle": false,
     "title": ""
    }
   },
   "outputs": [
    {
     "output_type": "stream",
     "name": "stdout",
     "output_type": "stream",
     "text": [
      "5 Years Train Data:\ninitial size: 24279321\nsize after dropping null records: 6961697\nNo Duplicates found\nsize after dropping duplicates: 6961697\nsize after balancing: 2535509\n----------------------------------\n5 Years Test Data:\ninitial size: 7393798\nsize after dropping null records: 2096849\nNo Duplicates found\nsize after dropping duplicates: 2096849\n"
     ]
    }
   ],
   "source": [
    "print(\"5 Years Train Data:\")\n",
    "pagerank_dict_5yr = getPageRankDict(df_otpw_5yr, 0.85)\n",
    "train_5yr = Pre_Process_DF(df_otpw_5yr, 1, pagerank_dict_5yr)\n",
    "print(\"----------------------------------\")\n",
    "print(\"5 Years Test Data:\")\n",
    "test_5yr = Pre_Process_DF(df_otpw_5yr_test, 0, pagerank_dict_5yr)  "
   ]
  },
  {
   "cell_type": "markdown",
   "metadata": {
    "application/vnd.databricks.v1+cell": {
     "cellMetadata": {
      "byteLimit": 2048000,
      "rowLimit": 10000
     },
     "inputWidgets": {},
     "nuid": "d156c095-7a32-44dc-b450-4e4b5d55bfdc",
     "showTitle": false,
     "title": ""
    }
   },
   "source": [
    "###Create Pipeline"
   ]
  },
  {
   "cell_type": "code",
   "execution_count": 0,
   "metadata": {
    "application/vnd.databricks.v1+cell": {
     "cellMetadata": {
      "byteLimit": 2048000,
      "rowLimit": 10000
     },
     "inputWidgets": {},
     "nuid": "691ca579-a049-4368-8e52-aa0d028bfe10",
     "showTitle": false,
     "title": ""
    }
   },
   "outputs": [],
   "source": [
    "def create_pipeline(train_df):\n",
    "    categorical_features_names = ['STATION', 'HourlyPressureTendency', 'HourlyWindDirection', 'DAY_OF_WEEK','MONTH', 'origin_icao','ORIGIN_STATE_ABR','dest_icao','DEST_STATE_ABR', 'time_of_day_category']\n",
    "\n",
    "    string_indexers = [StringIndexer(inputCol = column, outputCol = f\"{column}_Index\", handleInvalid = 'keep') for column in categorical_features_names]\n",
    "    one_hot_encoders = [OneHotEncoder(inputCol = indexer.getOutputCol(), outputCol = f\"{column}_Vec\") for indexer, column in zip(string_indexers,categorical_features_names)]\n",
    "\n",
    "    columns_to_zscale = [\"CRS_ELAPSED_TIME\", \"DISTANCE\", \"ELEVATION\", \"HourlyAltimeterSetting\",\"HourlyDewPointTemperature\", \"HourlyDryBulbTemperature\",\"HourlyPrecipitation\", \"HourlyPressureChange\", \"HourlyRelativeHumidity\", \"HourlySeaLevelPressure\", \"HourlyStationPressure\", \"HourlyVisibility\", \"HourlyWetBulbTemperature\", \"HourlyWindSpeed\"]\n",
    "\n",
    "    scaler_assembler = VectorAssembler(inputCols = columns_to_zscale, outputCol = \"features_to_zscale\", handleInvalid = \"keep\")\n",
    "    scaler = StandardScaler(withMean=True, inputCol = scaler_assembler.getOutputCol(), outputCol = \"scaled_numeric_features\")\n",
    "\n",
    "    hourlySkyConditions_list = ['00', '01', '02', '03', '04', '05', '06', '07', '08', '09', '10', '11', '12', '13', '14', '15', '16', '17', '18', '19']\n",
    "    hourlyWeatherType_list = ['FG', 'TS', 'PL', 'GR', 'GL', 'DU', 'HZ', 'BLSN', 'FC', 'WIND', 'BLPY', 'BR', 'DZ', 'FZDZ', 'RA', 'FZRA', 'SN', 'UP', \"MIFG\", 'FZFG']\n",
    "\n",
    "    final_features_list = [f\"{name}_Vec\" for name in categorical_features_names]\n",
    "    final_features_list.append(\"scaled_numeric_features\")\n",
    "    final_features_list.append('in_holiday_window')\n",
    "    final_features_list.append('pagerank')\n",
    "\n",
    "    for i in hourlySkyConditions_list:\n",
    "        final_features_list.append(f\"skyConditions_{i}\")\n",
    "    for i in hourlyWeatherType_list:\n",
    "        final_features_list.append(f\"weatherType_{i}\")\n",
    "\n",
    "    final_assembler = VectorAssembler(inputCols = final_features_list, outputCol=\"final_features\")\n",
    "\n",
    "    stages = string_indexers + one_hot_encoders\n",
    "    stages.append(scaler_assembler)\n",
    "    stages.append(scaler)\n",
    "    stages.append(final_assembler)\n",
    "\n",
    "    regression_pipeline = Pipeline(stages = stages)\n",
    "\n",
    "    pipeline_model = regression_pipeline.fit(train_df)\n",
    "    # transform the data\n",
    "    transformed_train= pipeline_model.transform(train_df)\n",
    "    \n",
    "    return transformed_train, pipeline_model"
   ]
  },
  {
   "cell_type": "code",
   "execution_count": 0,
   "metadata": {
    "application/vnd.databricks.v1+cell": {
     "cellMetadata": {
      "byteLimit": 2048000,
      "rowLimit": 10000
     },
     "inputWidgets": {},
     "nuid": "14991093-cb8a-4e5e-a8ed-ae2473d15bb7",
     "showTitle": false,
     "title": ""
    }
   },
   "outputs": [],
   "source": [
    "def create_pipeline_w_feature_select(train_df):\n",
    "    categorical_features_names = ['HourlyPressureTendency', 'HourlyWindDirection', 'DAY_OF_WEEK','MONTH', 'origin_icao','ORIGIN_STATE_ABR','dest_icao','DEST_STATE_ABR', 'time_of_day_category']\n",
    "\n",
    "    string_indexers = [StringIndexer(inputCol = column, outputCol = f\"{column}_Index\", handleInvalid = 'keep') for column in categorical_features_names]\n",
    "    one_hot_encoders = [OneHotEncoder(inputCol = indexer.getOutputCol(), outputCol = f\"{column}_Vec\") for indexer, column in zip(string_indexers,categorical_features_names)]\n",
    "\n",
    "    columns_to_zscale = ['HourlyRelativeHumidity', 'HourlyDryBulbTemperature', 'HourlyWindSpeed', 'HourlyWetBulbTemperature', 'HourlyAltimeterSetting']\n",
    "\n",
    "    scaler_assembler = VectorAssembler(inputCols = columns_to_zscale, outputCol = \"features_to_zscale\", handleInvalid = \"keep\")\n",
    "    scaler = StandardScaler(withMean=True, inputCol = scaler_assembler.getOutputCol(), outputCol = \"scaled_numeric_features\")\n",
    "\n",
    "    hourlySkyConditions_list = ['00', '01', '02', '03', '04', '05', '06', '07', '08', '09', '10', '11', '12', '13', '14', '15', '16', '17', '18', '19']\n",
    "    hourlyWeatherType_list = ['FG', 'TS', 'PL', 'GR', 'GL', 'DU', 'HZ', 'BLSN', 'FC', 'WIND', 'BLPY', 'BR', 'DZ', 'FZDZ', 'RA', 'FZRA', 'SN', 'UP', \"MIFG\", 'FZFG']\n",
    "\n",
    "    final_features_list = [f\"{name}_Vec\" for name in categorical_features_names]\n",
    "    final_features_list.append(\"scaled_numeric_features\")\n",
    "    final_features_list.append('in_holiday_window')\n",
    "    final_features_list.append('pagerank')\n",
    "\n",
    "    \n",
    "    for i in hourlySkyConditions_list:\n",
    "        final_features_list.append(f\"skyConditions_{i}\")\n",
    "    for i in hourlyWeatherType_list:\n",
    "        final_features_list.append(f\"weatherType_{i}\")\n",
    "    \n",
    "    final_assembler = VectorAssembler(inputCols = final_features_list, outputCol=\"final_features\")\n",
    "\n",
    "    stages = string_indexers + one_hot_encoders\n",
    "    stages.append(scaler_assembler)\n",
    "    stages.append(scaler)\n",
    "    stages.append(final_assembler)\n",
    "\n",
    "    regression_pipeline = Pipeline(stages = stages)\n",
    "\n",
    "    pipeline_model = regression_pipeline.fit(train_df)\n",
    "    # transform the data\n",
    "    transformed_train= pipeline_model.transform(train_df)\n",
    "    \n",
    "    return transformed_train, pipeline_model"
   ]
  },
  {
   "cell_type": "markdown",
   "metadata": {
    "application/vnd.databricks.v1+cell": {
     "cellMetadata": {
      "byteLimit": 2048000,
      "rowLimit": 10000
     },
     "inputWidgets": {},
     "nuid": "b60e6d93-9d40-4309-958d-2426c4238fef",
     "showTitle": false,
     "title": ""
    }
   },
   "source": [
    "####3 Month Data"
   ]
  },
  {
   "cell_type": "code",
   "execution_count": 0,
   "metadata": {
    "application/vnd.databricks.v1+cell": {
     "cellMetadata": {
      "byteLimit": 2048000,
      "rowLimit": 10000
     },
     "inputWidgets": {},
     "nuid": "35d75db1-f71b-4487-a26b-d618a595bec3",
     "showTitle": false,
     "title": ""
    }
   },
   "outputs": [
    {
     "output_type": "stream",
     "name": "stdout",
     "output_type": "stream",
     "text": [
      "3 Month Data\n"
     ]
    },
    {
     "output_type": "display_data",
     "data": {
      "application/vnd.jupyter.widget-view+json": {
       "model_id": "ce5704c51c0f4460a40257e1dbbdcd32",
       "version_major": 2,
       "version_minor": 0
      },
      "text/plain": [
       "Downloading artifacts:   0%|          | 0/153 [00:00<?, ?it/s]"
      ]
     },
     "metadata": {},
     "output_type": "display_data"
    },
    {
     "output_type": "display_data",
     "data": {
      "application/vnd.jupyter.widget-view+json": {
       "model_id": "a77e31b1997741b89bb3d72c457e897e",
       "version_major": 2,
       "version_minor": 0
      },
      "text/plain": [
       "Uploading artifacts:   0%|          | 0/4 [00:00<?, ?it/s]"
      ]
     },
     "metadata": {},
     "output_type": "display_data"
    }
   ],
   "source": [
    "print(\"3 Month Data\")\n",
    "transformed_train_quarter, transformed_pipeline = create_pipeline(train_quarter)\n",
    "transformed_test_quarter = transformed_pipeline.transform(test_quarter)"
   ]
  },
  {
   "cell_type": "markdown",
   "metadata": {
    "application/vnd.databricks.v1+cell": {
     "cellMetadata": {},
     "inputWidgets": {},
     "nuid": "031d0967-af5e-4b5c-9cf3-6bbadc4b3d10",
     "showTitle": false,
     "title": ""
    }
   },
   "source": [
    "####5 Years Data with Feature Selection"
   ]
  },
  {
   "cell_type": "code",
   "execution_count": 0,
   "metadata": {
    "application/vnd.databricks.v1+cell": {
     "cellMetadata": {
      "byteLimit": 2048000,
      "rowLimit": 10000
     },
     "inputWidgets": {},
     "nuid": "0ed2178f-6815-4ad6-b8db-a0506251c8cd",
     "showTitle": false,
     "title": ""
    }
   },
   "outputs": [
    {
     "output_type": "stream",
     "name": "stdout",
     "output_type": "stream",
     "text": [
      "5 Years Data with Feature Selection\n"
     ]
    },
    {
     "output_type": "display_data",
     "data": {
      "application/vnd.jupyter.widget-view+json": {
       "model_id": "5e3ec045c6a8430a8dfb1f64f9e978dc",
       "version_major": 2,
       "version_minor": 0
      },
      "text/plain": [
       "Downloading artifacts:   0%|          | 0/139 [00:00<?, ?it/s]"
      ]
     },
     "metadata": {},
     "output_type": "display_data"
    },
    {
     "output_type": "display_data",
     "data": {
      "application/vnd.jupyter.widget-view+json": {
       "model_id": "d6b5552ebb384c61bdd4e67c385c160f",
       "version_major": 2,
       "version_minor": 0
      },
      "text/plain": [
       "Uploading artifacts:   0%|          | 0/4 [00:00<?, ?it/s]"
      ]
     },
     "metadata": {},
     "output_type": "display_data"
    }
   ],
   "source": [
    "print(\"5 Years Data with Feature Selection\")\n",
    "transformed_train_5yr_selected, transformed_pipeline_5yr_selected = create_pipeline_w_feature_select(train_5yr)\n",
    "transformed_test_5yr_selected = transformed_pipeline_5yr_selected.transform(test_5yr)"
   ]
  },
  {
   "cell_type": "markdown",
   "metadata": {
    "application/vnd.databricks.v1+cell": {
     "cellMetadata": {},
     "inputWidgets": {},
     "nuid": "edb01dbc-920e-4f5f-b382-0ecb098c9c7b",
     "showTitle": false,
     "title": ""
    }
   },
   "source": [
    "#Modeling And Results"
   ]
  },
  {
   "cell_type": "markdown",
   "metadata": {
    "application/vnd.databricks.v1+cell": {
     "cellMetadata": {},
     "inputWidgets": {},
     "nuid": "3db9b1cc-66e1-47ea-a2a3-39399170e171",
     "showTitle": false,
     "title": ""
    }
   },
   "source": [
    "###Create Logistic Regression Model"
   ]
  },
  {
   "cell_type": "code",
   "execution_count": 0,
   "metadata": {
    "application/vnd.databricks.v1+cell": {
     "cellMetadata": {
      "byteLimit": 2048000,
      "rowLimit": 10000
     },
     "inputWidgets": {},
     "nuid": "2e40bf43-8cc0-4d29-8a96-87e9fc090bfa",
     "showTitle": false,
     "title": ""
    }
   },
   "outputs": [],
   "source": [
    "def createLRModel(df, iterations= 10):\n",
    "    '''\n",
    "    takes the traindf and produces a logistic regression model\n",
    "    '''\n",
    "    lr = LogisticRegression(featuresCol = 'final_features' , labelCol = 'DEP_DEL15', maxIter=iterations)\n",
    "    lrModel = lr.fit(df)\n",
    "\n",
    "    # Print the coefficients and intercept for logistic regression\n",
    "    print(\"Coefficients: \" + str(lrModel.coefficients))\n",
    "    print(\"Intercept: \" + str(lrModel.intercept))\n",
    "\n",
    "    return lrModel"
   ]
  },
  {
   "cell_type": "markdown",
   "metadata": {
    "application/vnd.databricks.v1+cell": {
     "cellMetadata": {},
     "inputWidgets": {},
     "nuid": "5b7edaf2-9dcb-4ad4-a1ca-4fd6623706e7",
     "showTitle": false,
     "title": ""
    }
   },
   "source": [
    "####3 Month Data"
   ]
  },
  {
   "cell_type": "code",
   "execution_count": 0,
   "metadata": {
    "application/vnd.databricks.v1+cell": {
     "cellMetadata": {
      "byteLimit": 2048000,
      "rowLimit": 10000
     },
     "inputWidgets": {},
     "nuid": "be6b9be0-8b2b-4df2-8961-50962c3e1903",
     "showTitle": false,
     "title": ""
    }
   },
   "outputs": [
    {
     "output_type": "stream",
     "name": "stdout",
     "output_type": "stream",
     "text": [
      "3 Month Data\n"
     ]
    },
    {
     "output_type": "display_data",
     "data": {
      "application/vnd.jupyter.widget-view+json": {
       "model_id": "f1545ab80d9d418b82c30846b02323e0",
       "version_major": 2,
       "version_minor": 0
      },
      "text/plain": [
       "Downloading artifacts:   0%|          | 0/9 [00:00<?, ?it/s]"
      ]
     },
     "metadata": {},
     "output_type": "display_data"
    },
    {
     "output_type": "display_data",
     "data": {
      "application/vnd.jupyter.widget-view+json": {
       "model_id": "1eebe4a8c5ab41319c6e85e3e56ac00c",
       "version_major": 2,
       "version_minor": 0
      },
      "text/plain": [
       "Uploading artifacts:   0%|          | 0/4 [00:00<?, ?it/s]"
      ]
     },
     "metadata": {},
     "output_type": "display_data"
    },
    {
     "output_type": "stream",
     "name": "stdout",
     "output_type": "stream",
     "text": [
      "Coefficients: [-0.0616311798265122,-0.10308837851659149,0.10335708937646568,0.05559858905430236,0.11677824495581114,0.23267083300127359,0.10216267181401632,0.2962959288848246,0.18084839513397172,0.10971408456903554,0.041769512037168735,-0.09286616994108299,-0.0622856545544734,-0.026870713262601237,-0.14591718830585534,-0.06148044093945529,-0.3095254206050996,0.29130576314962153,-0.16322985813987217,-0.18146268205800145,0.08385506120498218,-0.05636205341352939,0.264381998209632,-0.4082785156445402,0.060745805317556446,0.4972062343163322,-0.0763328261188359,-0.130311511657655,0.15545489079322172,-0.10901393578231709,-0.13456366710250203,-0.101993605086944,0.16159989475467657,0.007839267189934704,0.09259343489004662,0.0023958959955063053,-0.2604559778068632,0.5132618563974654,-0.09710998915660915,0.021935171531669427,0.2114303049524007,-0.06363656248417045,-0.24948577447525963,0.2782123598946224,-0.15654525194777752,-0.3897628743071228,0.04459759130303905,-0.16690447774082678,-0.14224311200961287,-0.17030394977908028,0.1573391054348113,0.18772869470793196,0.06329764218078106,-0.32671210550920465,-0.1167967476238396,-0.37019857313566895,-0.211928438079776,0.008757665472638974,0.48559090580597,0.2507445042795502,-0.400320863587525,-0.14599834351536708,0.17150495024789889,-0.17836120676666606,0.09447822909632363,-0.16682516368488778,0.02993131824966724,-0.10379028427375889,0.033244207144838944,-0.08774033437070936,-0.040283788631795284,-0.0028021798746500795,-0.06875727039342144,-0.306342654537001,-0.022661754512954106,0.19788330658681588,-0.3446196182408208,-0.18954062274747308,0.13180899799688012,-0.10486584852788036,-0.5817165763580764,-0.4179586995664554,-0.052036090234281004,-0.0695033408666763,0.35310499604320555,-0.19860725865457063,-0.26993795288603595,-0.4377427886217523,0.18146822548707456,0.10844607014910974,-0.020669002207698996,0.12968649198632595,0.14709115373021686,-0.2041447614707337,0.22220765700139897,0.09467837256116962,-0.06831252662578088,-0.42533619959480395,-0.47482330615594126,-0.15647705882180646,0.03079957464310395,0.17903798495031942,-0.3213810180098006,-0.13287010227410498,-0.46272365684809474,0.40665455110800053,0.1004395978887159,0.11577645469347124,-0.09091301475987622,0.0738364166910105,-0.059561314547652795,0.05591136320729645,-0.15713394681982346,-0.2533617684445296,-0.20659688096154194,-0.1532991932699953,0.15852095086741982,-0.26630262081497924,-0.25446409988609403,0.10239733606814458,-0.3079811947801417,-0.54055019431796,-0.14313962440201533,-0.20201148409030606,0.2974945694716253,-0.5676599642325959,-0.17141825976646877,-0.1997256192637707,-0.40872563082894003,-0.05323467735235425,0.42922514840405274,0.02775908138696233,-0.2417856715251713,0.5792328297814489,-0.35372443098789436,0.2256787781241753,-0.5949757565457933,0.02453778783610803,0.014123087588239165,0.07299594866371613,0.019893187782464725,-0.38861000700028964,-0.34337722099691786,-0.18132975819620717,0.035592451744328873,-0.3417281807744568,0.032448566839771195,-0.06351021730377038,0.10803866219741295,-0.14014211365186088,0.19176536848163436,-0.060939115085499006,-0.42570220211633214,0.23514198456210209,-0.18955519766932802,-0.04338808527620247,-0.12731870380809318,0.2950066347105096,-0.22537007476207963,0.007751259134015816,-0.35174303863962525,-0.6753637019023154,0.09605734293758765,-0.28853892015364,0.020438674915201686,-0.38122301550320853,0.28732270335814497,-0.09982461676018105,-0.448908743900454,0.17616375342352616,-0.18297394651899213,0.03865569376952424,-0.06829106353924287,-0.14761351858932084,-0.12328327758470606,-0.17753379533865699,-0.12259121493542376,-0.1266339462147271,-0.1357094640679966,-0.7697402595203703,-0.22733440125074084,0.1121629881919409,-0.15049670067955093,-0.10144939427887002,0.0679514148114735,0.018523810080562777,0.1947652641927298,-0.16678020724672415,-0.8294794187317805,-1.2813653132165153,-0.09334670564589086,0.6135063736026818,0.1346535931400662,-0.1160831714440431,0.38265891761870235,-0.9726619986458784,0.4023188701556046,-0.09042315768239552,0.06683966419243759,-0.1429236916547134,0.09359167479859078,-0.4914917028266556,0.5528945338489885,-0.2000635262956705,-0.4494463334080627,-0.6500008600273115,-0.3090442709608889,-0.5613986395746405,-0.4600782956734638,-0.15062011099007624,-0.8120910859089903,-0.3164859721174306,-0.2598523980462591,-0.5752792304807267,0.30420212007137415,-0.03220614977330144,-0.49910666592803954,0.3663719265984916,-0.10303839169637401,-0.05727378837308067,-0.1862325637755287,0.13838360004121117,-0.30947667675935503,-0.4942392745675144,-0.08991269578055937,-0.15722215008930931,-0.5425506185266545,-0.7771987138012935,-0.5085154655941492,0.19345663860476037,-0.5269735991590914,-0.9957458283080334,-2.580095180000088,-1.0003830425675513,-0.4442360427031907,0.23676320162692754,-0.22188267621567653,-0.5956189452942363,-1.4673703068833286,-0.17870943560468683,-0.7971301665790211,-0.9172076449740804,-2.407783170624582,-1.1604200795141046,-0.015677635981901583,-2.351809700489931,-0.24024779149822248,-2.4391259141291974,-2.3545240830933314,-0.335548671608472,-2.823191821429601,-0.3869007204112095,-0.6698331644986848,-2.263907154134297,-0.6419148492360004,0.3909888823912384,-0.12392070699528256,2.958271716230478,2.5295869650452985,2.4074130055593463,3.219403667035856,-2.377007931029107,-3.0151284736870423,-2.3239131725655766,-0.11636040881521201,0.054557326284823585,-0.04645963802809554,0.08896575436103604,0.18190073554028474,-0.090330574138223,-0.02059371913401088,0.030114826312071196,0.3088675104584035,0.05098050587043077,0.14571683206488226,0.14540455400101018,0.0023374946018975187,0.15515730588372917,0.07620945430971417,0.1599448466684607,0.005499005057838265,-0.050593319263257636,0.15558139087230846,-0.1794059659515813,0.08694417332673879,0.04020039505461119,-0.03529050061760181,-0.0022538418685943994,-0.0025784179687118464,-0.1953324426363851,0.08749888767763948,-0.1393614157085176,-0.0842601847670154,-0.05467299953295503,0.06674604711103209,-0.10088532315398818,-0.08989926024879488,-0.06182986020850154,-0.03621170111435333,-0.0545367775554403,-0.07290130615500902,-0.2369041930260565,-0.01951086480797335,-0.05178600858594838,-0.09726396716606732,-0.07120283326032158,-0.015808959487800967,-0.19557084455834906,-0.02458731419008692,-0.20824150453298013,-0.042962835679904526,-0.09773345288363292,-0.086632461453021,0.2540368988520897,0.00630756700693207,-0.24946521370238905,0.2565436155924478,-0.07714755113252696,-0.09290040516637646,0.09290040516636333,-0.0616311798265122,-0.10308837851659149,0.10335708937646568,0.05559858905430236,0.11677824495581114,0.23267083300127359,0.10216267181401632,0.2962959288848246,0.18084839513397172,0.10971408456903554,0.041769512037168735,-0.09286616994108299,-0.0622856545544734,-0.026870713262601237,-0.14591718830585534,-0.06148044093945529,-0.3095254206050996,0.29130576314962153,-0.16322985813987217,-0.18146268205800145,0.08385506120498218,-0.05636205341352939,0.264381998209632,-0.4082785156445402,0.060745805317556446,0.4972062343163322,-0.0763328261188359,-0.130311511657655,0.15545489079322172,-0.10901393578231709,-0.13456366710250203,-0.101993605086944,0.16159989475467657,0.007839267189934704,0.09259343489004662,0.0023958959955063053,-0.2604559778068632,0.5132618563974654,-0.09710998915660915,0.021935171531669427,0.2114303049524007,-0.06363656248417045,-0.24948577447525963,0.2782123598946224,-0.15654525194777752,-0.3897628743071228,0.04459759130303905,-0.16690447774082678,-0.14224311200961287,-0.17030394977908028,0.1573391054348113,0.18772869470793196,0.06329764218078106,-0.32671210550920465,-0.1167967476238396,-0.37019857313566895,-0.211928438079776,0.008757665472638974,0.48559090580597,0.2507445042795502,-0.400320863587525,-0.14599834351536708,0.17150495024789889,-0.17836120676666606,0.09447822909632363,-0.16682516368488778,0.02993131824966724,-0.10379028427375889,0.033244207144838944,-0.08774033437070936,-0.040283788631795284,-0.0028021798746500795,-0.06875727039342144,-0.306342654537001,-0.022661754512954106,0.19788330658681588,-0.3446196182408208,-0.18954062274747308,0.13180899799688012,-0.10486584852788036,-0.5817165763580764,-0.4179586995664554,-0.052036090234281004,-0.0695033408666763,0.35310499604320555,-0.19860725865457063,-0.26993795288603595,-0.4377427886217523,0.18146822548707456,0.12968649198632595,-0.020669002207698996,0.10844607014910974,0.14709115373021686,-0.2041447614707337,0.22220765700139897,-0.06831252662578088,0.09467837256116962,-0.42533619959480395,-0.47482330615594126,-0.15647705882180646,0.03079957464310395,0.17903798495031942,-0.3213810180098006,-0.13287010227410498,-0.46272365684809474,0.40665455110800053,0.1004395978887159,0.11577645469347124,-0.09091301475987622,0.0738364166910105,-0.059561314547652795,0.05591136320729645,-0.2533617684445296,-0.15713394681982346,-0.20659688096154194,-0.1532991932699953,0.15852095086741982,-0.25446409988609403,-0.26630262081497924,0.10239733606814458,-0.3079811947801417,-0.54055019431796,-0.14313962440201533,-0.20201148409030606,0.2974945694716253,-0.5676599642325959,-0.1997256192637707,-0.17141825976646877,-0.40872563082894003,-0.05323467735235425,0.42922514840405274,0.02775908138696233,-0.2417856715251713,0.5792328297814489,-0.35372443098789436,0.02453778783610803,-0.5949757565457933,0.2256787781241753,0.014123087588239165,0.07299594866371613,-0.38861000700028964,0.019893187782464725,-0.34337722099691786,0.035592451744328873,-0.3417281807744568,-0.18132975819620717,0.032448566839771195,-0.06351021730377038,0.10803866219741295,-0.14014211365186088,0.19176536848163436,-0.42570220211633214,-0.18955519766932802,-0.060939115085499006,0.23514198456210209,-0.04338808527620247,-0.12731870380809318,0.2950066347105096,-0.22537007476207963,0.007751259134015816,-0.35174303863962525,-0.6753637019023154,0.09605734293758765,-0.28853892015364,-0.38122301550320853,0.020438674915201686,-0.448908743900454,-0.09982461676018105,0.28732270335814497,-0.18297394651899213,0.03865569376952424,0.17616375342352616,-0.14761351858932084,-0.12328327758470606,-0.06829106353924287,-0.17753379533865699,-0.12259121493542376,-0.1266339462147271,-0.7697402595203703,-0.1357094640679966,-0.22733440125074084,0.1121629881919409,-0.15049670067955093,-0.10144939427887002,0.018523810080562777,-0.16678020724672415,0.0679514148114735,0.1947652641927298,-0.8294794187317805,-1.2813653132165153,0.6135063736026818,0.1346535931400662,-0.09334670564589086,-0.1160831714440431,0.38265891761870235,-0.9726619986458784,0.4023188701556046,-0.09042315768239552,0.06683966419243759,0.09359167479859078,-0.1429236916547134,-0.4914917028266556,0.5528945338489885,-0.6500008600273115,-0.4494463334080627,-0.2000635262956705,-0.15062011099007624,-0.5613986395746405,-0.8120910859089903,-0.4600782956734638,-0.3090442709608889,-0.3164859721174306,-0.2598523980462591,0.30420212007137415,-0.5752792304807267,0.3663719265984916,-0.05727378837308067,-0.03220614977330144,-0.49910666592803954,-0.10303839169637401,-0.30947667675935503,0.13838360004121117,-0.1862325637755287,-0.5425506185266545,-0.7771987138012935,-0.08991269578055937,-0.5085154655941492,-0.15722215008930931,-0.4942392745675144,0.19345663860476037,-0.5269735991590914,-0.22188267621567653,0.23676320162692754,-1.4673703068833286,-0.4442360427031907,-0.5956189452942363,-0.9957458283080334,-1.0003830425675513,-2.580095180000088,-0.17870943560468683,-2.407783170624582,-0.9172076449740804,-0.7971301665790211,-0.015677635981901583,-1.1604200795141046,-2.351809700489931,-0.24024779149822248,-2.4391259141291974,-0.335548671608472,-2.3545240830933314,-0.3869007204112095,-2.823191821429601,-0.6419148492360004,0.3909888823912384,-2.263907154134297,-0.12392070699528256,-0.6698331644986848,2.5295869650452985,2.958271716230478,2.4074130055593463,-2.377007931029107,-3.0151284736870423,3.219403667035856,-2.3239131725655766,0.15368028226295422,0.073970465551474,0.27331442559801467,-0.0976191291223099,-0.0867800204741173,-0.02643908981822991,0.05257533901842883,0.20922415899840827,-0.10212152396818278,0.24852039419710445,-0.03727542768660671,-0.06771025395922431,-0.30141126516826555,-0.1463184421298736,-0.1933086490888979,-0.06148044093945529,-0.12387938373296688,-0.11896653889274851,0.10111717225819564,-0.0952869841099104,-0.4089439870936545,-0.13668184253294824,0.029569855268227786,-0.26700530617490875,-0.3419503127403277,-0.15925877307520714,-0.13602930802539204,-0.1280929209635608,-0.07374247665696909,-0.2114297111871048,-0.09997637792354137,-0.23099455346212644,-0.40315312188724867,0.06878665129910841,-0.015925277553491903,-0.49772474172027464,-0.1167967476238396,-0.09943606815686891,-0.14746170932444128,-0.3212321637959596,-0.42225492679262483,-0.24493412471230816,-0.21650795420246047,-0.052036090234281004,0.5310219988690206,-0.3428700903412265,-0.27675546247383354,-0.3417281807744568,-0.18297394651899213,0.19345663860476037,0.17843005828605443,-0.26174248355385926,0.0970069076049948,-0.13011686170479161,0.01628536567825267,0.46117056788538446,-0.24053089811934253,0.021554242737132037,0.38898515890413166,-0.02820422384764117,0.27655003117046906,-0.3546990405369513,-0.08466774584828114,-0.14660198422150728,0.16013003674031648,-0.1755368457938288,0.17050851954115523,-0.05514732636692701,-0.09467855785778306,-0.08819064329154094,-0.19498610024298355,0.15101483471308166,-0.09100290360763637,0.025302187945373103,-0.15421061854248228,0.04491670453665335,0.08164874930379866,-0.15763133798393755,-0.013716584564265565,-0.20549200641131038,-0.08631440106905792,0.07398989746018851,-0.10899896093096391,0.10567696899998841,-0.15983906504159764,0.15710440408798118,0.26585105738822484,0.07357398718496244,0.017732388487355248,0.0449973433656947,-0.04383215737971138,0.04739176575601202,0.11632646596242831,-0.11442183101198417,0.09231678760469296,-0.19302954774920372,-0.09610910132891247,0.163077211366507,0.23817715681085952,-0.014473022747858373,-0.06373801559143621,-0.287081387466694,-0.16668943802883518,0.1500285490958664,-0.06708654780714306,-0.06721986676788101,0.03178714962783002,0.3494947855812198,0.10452601237178152,0.49167040072080304,-0.12596101242899144,-0.030303973827868598,0.0758063321850644,-0.0984529539116227,-0.2592371302032652,-0.11082234920191134,0.030779049678103618,-0.14836815667939518,0.12617485346576932,0.22057660408681132,-0.26107069462289956,-0.018072527842525995,0.22438786320491533,0.2406303630361644,0.06385679282997271,-0.5850259423450214,0.33023852548451416,-0.15880754509785636,-0.06676961455187574,0.14273818693761461,-0.030919465825652546,-0.2996236362133764,0.09036153357439314,0.050824085773586096,0.0327116347717343,0.08033782673785077,-0.2240046014574228,0.055698989699812705,-0.23644950754352007,-0.3990303601852237,-0.0925515251121179,0.27376167372849786,-0.2605673951055362,-0.14727164982272892,-0.04727784961673351,-0.20751339924262116,0.23720648305271627,-0.1169873599017423,-0.9648847302905175,-0.34225076067112997,-0.17425240678047335,0.21723200394124834,0.43943604762120386,-0.039714542712067806,0.25829826346143864,-0.14646781878017706,0.08576350906275831,-0.6651616399138035,-0.28087280812282867,0.08757116232673164,0.1173421560019265,0.22181862313619596,0.27244229110471613,0.08648245114073004,0.2587849089001248,-0.28970248900998086,0.15978451984162395,0.030124571086301975,0.3027147290531843,0.8254360244634603,-0.0733818598947613,0.0581597300993592,0.1602329663666415,0.45198477209068144,0.10078484450890172,0.1989505626809431,-0.04842734393393745,0.2678486919187053,0.02240795677131821,0.05387523639413409,0.07624190857673711,-0.3969773915262373,-0.33719779102628267,0.38380545040268615,-0.31347238590395404,0.18820239507203632,-0.26314027474000096,0.15691853706245307,0.11888370472915535,0.6069184669152913,0.05748405370472067,-0.2056153448630804,0.4602959157052704,0.05462310434465211,-0.12482963551988899,-0.5317970040072995,0.17087225940632905,0.14524500354245254,0.32964553622461373,-1.2706012645383578,-0.7969354459298746,-0.08938114065366998,0.2532031609823943,-0.9378829713174665,-0.14463987504516057,-0.23340174466186855,0.5005056313150211,-0.5711826917058697,0.029932601964883003,0.20731766867211243,0.7632213397121465,0.6414855601287425,0.006224461835859938,-1.2273851166023326,0.5535798179903955,-0.05619882751458593,0.004177855401597161,-0.334848043366961,0.1096998244678393,-0.03648835651931023,-0.7567906041444427,-0.3603923899987379,0.18691472710062357,-0.0001751615174735903,0.019992771348938208,0.11124107174503944,0.3991453734355577,-0.36756420055536343,-0.47666240009319316,-0.3137627700329467,0.14492835035999704,0.5845783490633447,0.3032868536918704,-0.02647601288641896,0.054355080903781564,-0.3012775685829241,-0.5570981385333016,-0.11572412223344059,0.18254114270722754,-0.39810258629841955,0.14962471909202593,-1.5941943430178354,-0.18313495255241682,0.13245870213634683,0.44509158911891666,-0.1210644600201007,0.062088959088231414,-0.3803777049857745,0.03772174573756902,0.47062513695258973,0.6152508528715935,0.3668010056005812,0.9026648679513899,0.20494984870266117,-0.2170173206371986,-0.7743072161152755,0.2565985652578212,0.3373443998188782,0.09781640087623407,-0.0683385753443822,1.2204437320056283,-0.29360699885583835,0.3452962830498686,-0.7956946475919073,0.6430107938247026,-0.6133278679098482,0.17077862440604502,-1.0279571425282081,-0.4271202072405792,0.12799154482003455,-0.24524118209991044,0.07624274863681421,-0.6643608223090791,0.5978830533049693,-2.146219958559528,0.2668433565574764,0.5337428323036446,-0.162468803018936,-0.5248040514204299,-0.5083603739302672,0.31278652183718425,0.3799456849949057,-0.28011078041448767,-0.17901610153696385,0.39117850969182716,0.5963113289507753,-1.4196491689050226,0.952066257151405,-0.1321697963989315,-0.07501670842811363,-1.0804732139569835,-1.8761862881828388,-0.23456776172342425,-0.7509918523020984,0.6943945157346278,-0.11704537304548601,0.5334205200307119,-0.08991269578055937,-0.24539718879992684,-2.3598175937384975,0.5248221435624649,-0.20415837815727353,-0.6962890085423028,-0.04133787336864486,-0.6945550654484868,0.2898561935259974,0.23388377069141641,-0.053761070636231,-0.10744093620224739,-0.9172076449740804,0.5438440989179649,0.46916493723805824,-0.6344865151105434,-0.44342434218135096,0.36873138595753985,0.34529752215569215,0.022658990484551916,-0.166106340053044,0.38538229433853377,0.7368447920238814,-0.7518180215977852,-0.2601524633847456,-2.173219477362398,-4.427093917266344,0.08149957739962446,-0.719254590207456,-0.29448914278495303,-0.35143389222595794,-1.0659997416718694,2.718389231136814,-0.12660581027712522,4.44445761059518,-3.6189761052468534,0.02026685475583868,3.702936799942622,3.3979904690860248,-2.3239131725655766,4.782064909619756,5.371700750733635,4.8168610488018455,-3.1997068423464428,4.196604996850105,-4.172862155574192,-0.027515854813227447,0.04959424158491292,-0.05502789697639566,0.12132714186277696,-0.24963207433323492,0.2677904085814196,0.003304000088172813,-0.17299413673902608,-0.026460204187807448,-0.0202486385288657,-0.08477700733205513,-0.03658387229511742,0.2728623472152106,0.06743205754128997,0.18738653640013822,-0.17238553475474086,-0.06887927485508179,-0.038140826245681984,-0.05514732636692701,-0.13175047201902937,0.033905073931622086,-0.021214171103221217,-0.22608397348567844,-0.1663227086398869,-0.006192345710141239,-0.0032867319682605067,0.12167171651450112,-0.007348893395861857,-0.05338806196252754,0.01962691827997213,0.0502304905473758,0.13073284893062456,0.23817715681085952,0.06817220631120723,-0.046225972536517494,0.0659199265306744,-0.022332067439144385,0.010584788285783698,-0.05411302330208737,-0.0034058457153954063,0.10243600433417821,0.2406303630361644,-0.0584757155659774,-0.07198049295181197,-0.08668782301465836,0.04640899060589169,0.27376167372849786,0.16353108135057884,0.2532031609823943,-0.0001751615174735903,0.019992771348938208,-2.173219477362398,-0.038170700384959975,0.012044593906933299,-0.011757086112238248,-0.08150677989198124,-0.13718573538610446,-0.2967510952141431,0.024689818646331258,-0.005185042944347254,0.25305262562146247,0.015593314778788477,-0.0009927973984638248,0.001854998086799841,-0.23573690301356548,0.08269758277095775,0.0,-0.034979686603265475,0.0,0.003907947733792908,0.0,0.02919407307184697,0.0,0.0,0.024621688357194593,0.08112767717738135,0.2725101206563815,0.9547188236595642,0.0,0.0,0.0,0.0,0.0,0.0,0.0,0.0,0.0,-0.002104136143306746,2.486377207150287,0.95895144797814,0.0,0.0,0.6683069403046543,-0.07993979094180674,0.0,0.0,0.0,0.0,-0.03959333061454021,0.5586587105106978,1.0960963370466892,0.22635685088545213,0.9111840033628793,0.7250449096195858,0.3833521986707246,0.0,0.0]\nIntercept: -0.036605940080081556\n"
     ]
    }
   ],
   "source": [
    "print(\"3 Month Data\")\n",
    "train_quarter_balance_lrmodel = createLRModel(transformed_train_quarter)\n",
    "trainingSummary_balance = train_quarter_balance_lrmodel.summary"
   ]
  },
  {
   "cell_type": "markdown",
   "metadata": {
    "application/vnd.databricks.v1+cell": {
     "cellMetadata": {},
     "inputWidgets": {},
     "nuid": "443f8476-9b62-4987-bb01-497fa0e334ab",
     "showTitle": false,
     "title": ""
    }
   },
   "source": [
    "####3 Month Data with Feature Selection"
   ]
  },
  {
   "cell_type": "code",
   "execution_count": 0,
   "metadata": {
    "application/vnd.databricks.v1+cell": {
     "cellMetadata": {
      "byteLimit": 2048000,
      "rowLimit": 10000
     },
     "inputWidgets": {},
     "nuid": "0ae2627a-909c-4bae-9ce0-ad16a7467bd9",
     "showTitle": false,
     "title": ""
    }
   },
   "outputs": [
    {
     "output_type": "stream",
     "name": "stdout",
     "output_type": "stream",
     "text": [
      "3 Month Data with Feature Selection\n"
     ]
    },
    {
     "output_type": "display_data",
     "data": {
      "application/vnd.jupyter.widget-view+json": {
       "model_id": "e8d0eae17c8a49b8baf4770ba91f3aab",
       "version_major": 2,
       "version_minor": 0
      },
      "text/plain": [
       "Downloading artifacts:   0%|          | 0/9 [00:00<?, ?it/s]"
      ]
     },
     "metadata": {},
     "output_type": "display_data"
    },
    {
     "output_type": "display_data",
     "data": {
      "application/vnd.jupyter.widget-view+json": {
       "model_id": "eb27f72c76974b2dbfb36879ee80370c",
       "version_major": 2,
       "version_minor": 0
      },
      "text/plain": [
       "Uploading artifacts:   0%|          | 0/4 [00:00<?, ?it/s]"
      ]
     },
     "metadata": {},
     "output_type": "display_data"
    },
    {
     "output_type": "stream",
     "name": "stdout",
     "output_type": "stream",
     "text": [
      "Coefficients: [-0.11288649738518008,0.04677432865071366,-0.052883295601613325,0.11010968391500896,0.18294170118855316,-0.10871306374270233,0.002236376073739537,0.03738768274517956,-0.04655141281035854,0.04428133455836615,0.16984050088453617,0.11691375162321568,0.007952419670665319,0.17591360308395276,0.11832025965675876,0.09451044505930165,0.014975781151300167,-0.04241043598051555,0.179140381349855,-0.16201677502506368,0.11284529429937591,0.03805010145390786,-0.08405671262465639,-0.03748958615253454,-0.0177517544042697,0.05947442676924928,-0.18326514132479965,-0.13541558841518805,-0.11168412595872097,0.04575875005308182,-0.03443674490076374,-0.11311399542848946,-0.10819322709292488,-0.06844027641859758,0.0036664457653203812,-0.03341924844412984,-0.13019540621035305,0.008390977946548696,-0.19330325185182923,-0.0773427326425514,-0.0830661475497612,-0.08461559322209788,-0.11267188171048266,-0.11600524603621158,0.06717969087124073,-0.04984491437059559,-0.15795883063706778,-0.1042908828377816,-0.10230080544137599,0.2690554035175774,0.02664359977578694,-0.23659743946328923,0.23251259916745295,-0.07761266541320087,-0.10732773648690908,0.10732773648690629,-0.02652950814464175,-0.19214495969455356,0.14608432586610612,0.07336562645177203,0.15062281345729217,0.3582684815399233,0.11279677334082219,0.4482365486016095,0.2588969891702128,0.21188114126057506,0.02378999234607642,-0.1777871830593489,-0.07774286604368036,-0.005151330790325287,-0.1954396379989951,-0.5010710947699536,-0.08767733814921125,0.34367444052088736,-0.389365060839037,-0.3033257679859711,-0.10455984360998086,0.38121797377747635,0.08532147769889206,-0.5588691698824542,0.015119789061317617,0.8437411004452287,-0.06303333924837316,-0.1983170155061794,0.29046213869466886,-0.14203376018908742,-0.16276300853068973,-0.0715367808908581,0.1483183617993152,0.028172600194099118,0.31693574615302644,-0.4128647203928678,0.8229167920144954,-0.03198106405309567,-0.0324656375600796,0.33163134102663266,-0.17958990031073035,-0.03282649076200332,-0.2758287276153754,-0.7059470095141938,-0.3108766036760534,0.40785094093432817,0.048041469842442744,-0.24111419417395624,0.2925825969943405,-0.024154086171910068,-0.15435734220649927,0.31511542038533097,0.036985984853446285,-0.22745667603911782,-0.44585185669418664,-0.3487363610830571,0.41295501063214257,0.9102089257532779,-0.5033151659973919,-0.3725430809094449,0.35630020763474624,-0.6558907360815428,0.02722350648513947,-0.21646461787199497,0.08409225464734399,0.10612543089280464,-0.15592517520492782,-0.15892323406059297,-0.14567239625988232,0.20088888469173707,-0.2172251036562743,0.033929187501582275,0.01712808355305713,0.4161666324295584,-0.3976790282664235,-0.04820385779463073,-0.5915950034297272,0.2174547649870292,-0.2104614937329966,-0.48720757747285104,-0.22523676662563025,-1.0190119151014403,-0.006680562145621059,0.5881303852356222,0.19357457654242374,-0.6349869227690018,-0.5468285996871823,0.11862508709750591,0.10085245767443125,-0.1196171720709021,-0.8143583028727671,0.35533553662137185,0.28005518442276944,0.3959359535506427,-0.2715135680376134,-0.22830113282533915,0.22633145440454425,0.11587682989058444,-0.865037512936281,0.330503761475294,-0.588626160082267,-0.30477358537352556,0.5078245023353203,0.15674946576327511,0.03317789184996607,-0.6659345295997136,-0.15394813014998068,-0.7758277913089003,-1.309240499996879,-0.6449201533184598,0.3655529163936432,-0.15065552839101654,0.25392292825897933,-0.3381926429773688,-0.620043361470798,-0.19732357224034544,0.16585122105245104,0.47096725179802595,-0.3183112629735449,-0.29434354298208826,-0.534832267943208,-0.5621608463573609,0.6273467937730213,0.10615942310281981,-0.0133355490770678,0.27792201693615726,0.2583485323753305,-0.24013489437280905,0.6800277732628455,-0.8098997332257317,1.0545684184120876,-0.6142867525036844,-0.0767845242117207,-0.049983913261534285,-0.7448765008968257,0.055603690804105994,-0.22460592102907123,-0.6783934697590059,0.22736929149565185,-0.3840216034953455,-0.03061314957985098,-0.590438016813753,0.09014455545143449,0.21745089986261076,-0.7517116977028448,-0.47224270828763965,-0.3841360499538365,-0.6311633329610159,0.3626832311498858,-0.08026864627482265,0.3144243421117841,0.2838109194026248,0.3143593960606924,-0.35906998595467793,-0.3172646373467559,0.038457757125555485,0.5447200308182074,-0.4002771335986865,-0.5342772107416578,-0.80276400263541,-0.7818212588668507,-0.21244782434752243,-1.1296633434805625,-0.5916288444935852,0.04749186414596212,0.049274471993398204,0.4348254809778793,-0.29646730769145263,-0.5753815391075067,-0.36234301745675795,-0.5670281595293597,-0.2177683570907706,0.07393670964545501,0.018725645835478578,0.3197053722382305,0.745653994841958,-0.1028890903863101,-0.6132332316486954,0.4529193045259456,-0.22504760913653551,-0.5060308352375795,-0.021911074893890232,0.0020905105056612627,-0.5057231553449069,0.767597359253442,0.26290048848255204,-0.35841952500738883,-0.17849915108201508,-1.0058118246498793,0.6068841178977306,-0.04307257506817007,-0.8203422547682714,-0.24056488171411847,-0.9784662148714649,-1.312688121412548,-2.1051522981615483,0.5415480031334818,0.195231422214888,-0.3399110434509181,-1.08975435512159,0.6568369262482057,1.069041099323313,0.9887828645339382,-1.6214239456349397,-1.656857873512653,-0.0399114462216255,-0.1616175019002621,0.5558718033867431,-0.2517448763626307,-0.8937323521256203,-0.7334016816440245,-0.19626144169381793,-0.9879521242072383,0.276449062545146,-0.19418897445406422,-0.1260379863288072,0.10025128779342773,0.4569054390955819,0.20042130765753258,-0.5237716008364015,-0.657861482220303,-0.8306572173337141,-1.0141129835740224,0.03686926002392097,-3.476367204520156,-0.7967302630293046,-0.9944897917630984,-1.3351386585070206,-0.7833864179401887,-0.6209331319976027,0.20764243343478844,-0.9449233066267619,-0.024545711646350877,-0.07153446741177896,-1.7769468296133668,-0.8996823610700296,-0.18385292131315428,-1.1921478046998708,-3.8704878121347037,-1.2280279108751788,-1.4584418846138962,-2.529194791592633,-1.1646001153205334,-3.6299042921778626,-3.8085906367418776,-0.1095622768989868,-3.8657415675454483,-0.9600353144585977,-4.726681393042515,0.35701270555126785,0.2510077608859159,-4.520828039775746,-0.8091896485467849,-1.7391160064776663,1.26307261429077,2.6597553697967475,0.5050728531106139,4.301747614357399,4.011408419300462,-3.9040352793745607,-3.525081043873475,5.562026151886693,-2.842783228094867,-4.906413745511405,-3.6487851847493937,0.2203065615620468,0.08810733503678429,0.3729075419589622,-0.13588535379893307,-0.16017897822073862,-0.025520738100408592,0.06878766433864686,0.3270645319759659,-0.14002945421660465,0.3707716601200882,-0.025476518839187313,-0.08069963588496303,-0.4616803189460895,-0.19424249619084533,-0.286374212766676,-0.08767733814921125,-0.150485020268468,-0.22768056711741794,0.1743898016036512,-0.12573734340652473,-0.5606771944907077,-0.21528305109025647,0.05178689930812814,-0.410673864298928,-0.416593584295482,-0.21590599980115963,-0.14434563261929548,-0.19256032867175263,-0.09195006116833619,-0.28478276573092753,-0.06287929273160801,0.043559427719542416,-0.3060068087728626,-0.5782830942313082,-0.5770848696297693,-0.028175356715639237,-0.22745667603911782,-0.20120074502980595,-0.27151481691993345,-0.6720376960697645,-0.432918771657479,-0.2228676383113749,-0.2563860954298921,-0.006680562145621059,0.6745848068917424,-0.5118657296024444,-0.590438016813753,-0.2675478974998654,-0.2177683570907706,-0.1616175019002621,0.16237800612572523,-0.24573257998160317,0.0716564300782969,0.012316399418382995,-0.11613376446130601,0.4193660773800443,-0.24729692299237943,0.0015050727255616963,0.3833051589880054,-0.03901691262767696,0.31712524140155285,-0.31707138297367415,-0.1339681744693811,-0.16067155115794704,0.15995867103973707,-0.18234609907049026,0.11403335313015026,-0.1629902017253932,-0.04962322726764293,-0.013204549428569204,0.12109462440663754,-0.1320548798694528,-0.0965089294186851,0.039943139337570946,0.06404142108643458,-0.12242691467966399,0.07270599908855195,-0.1934318745391938,0.0034641174369084028,-0.11344757261709815,-0.13982136653892624,0.04865726159888663,0.07960362556022182,-0.019816749173060023,-0.03544140964742209,-0.16924977120374404,0.18143801755449157,0.05539348082163361,0.13045398548222661,0.09050060539305183,0.0676121582766453,0.07076014842357256,0.05306370532346912,-0.12200854133173895,0.0483160274049939,-0.16529720804345596,-0.15384347912510554,-0.12972055838491223,0.23837980512135212,-0.07691907297764283,0.19624022055443932,-0.2797812822234111,-0.186061994391598,-0.114076958772564,0.27014945015194547,-0.055318570724669974,-0.169941624717774,0.27996817160417836,0.056490268915107805,0.08225445850417709,0.45770499121625813,-0.0022423745867878584,-0.30100395962980064,0.17572994368302128,-0.0725994741844172,0.05492075994780244,0.04256225419352749,0.10577370227013841,-0.1186912365270091,0.23705113949304357,0.009628213095038609,0.1221243945825346,-0.09488003785943831,0.321916183210741,0.20152819672198044,-0.21358229799049008,-0.20499055897379825,-0.501317827690302,0.407404832119827,-0.042353136446308906,0.30321724743490275,-0.11284422842481442,0.06498464350426418,-0.1937613519747078,0.26130447288310815,-0.010855400246689764,-0.1315426239124239,-0.41787853925681057,-0.10686266966821822,-0.3739307141754273,0.2561127762889384,0.2829501040066194,-0.04632121069358289,-0.12488232210046568,0.1542531594675824,-0.13057440707914766,-0.010345503187028182,-0.010062203732355314,-0.3515617068873091,-0.09052616490112862,-0.026626777355065186,0.1631523954792466,-0.014853130088750763,0.19422037712978737,-0.0013156542195637483,0.44031488504959326,-0.0841915378600174,-0.3490802009449905,0.08528140936072119,-0.6410037358224285,0.15947830455202547,0.10049623777714241,0.18985729408302443,-0.6199251151255515,0.06964077431137398,-0.17416223269582867,0.2841985522180234,0.3227323322257667,-0.0768894123498012,0.35818510927648495,0.25154209898117474,-0.13811839960423178,0.2131472179135956,0.10354869287824472,0.20987748716660634,-0.011554829738432729,0.04244462959908701,1.2800847024070932,0.11593380082534267,-0.4726653008133051,0.29801439068076047,-0.3710536987895171,0.5016147850002612,-0.2817476365465026,0.12584511836667653,0.0273441599048626,-0.18990597432715467,0.6001456270091958,-0.48391006307124174,0.020990978824376484,0.22415683388029412,-0.15275709570175355,-0.03406800907317394,-0.9568439168874456,-0.20739820359301545,-0.09814403669694341,0.49632916280864114,0.13336173143735142,-0.20940496015844165,0.30880525150196114,0.2265211330588594,0.15101948743756685,-0.2041809973754731,-0.11483887145608014,-0.37926311031855486,0.5171129564065644,-1.201171137807752,-0.35695130357745297,-0.8421325239100547,0.002352349035117092,-0.16255563043102203,1.12787423453157,-0.2118220605319121,-0.27110059675466186,0.9300786760671343,-0.4386108186156587,-0.09345087012597222,0.06532383971882026,0.15697923410168627,1.3020709424800367,0.28107030612465206,-0.6464002958463966,0.9593902176401375,-0.18948581539879075,0.10223087785469145,0.11107190153328855,-0.3511056240181489,-0.7891950541379033,0.38555669904740325,-0.7220723111828529,-0.2982603956686246,-0.31972289092133455,-0.1779513234816753,0.22633930580021314,-0.2035984070893343,0.07923839688656727,-0.5284312480772847,-0.4943978284841758,-0.17949148440842877,-0.29481440881065574,-0.16061520689773595,-0.17897130005471454,0.07963623806656815,-0.4327172180013855,-0.5348468683051995,0.45124801117241087,0.34495458031974086,0.7113685065805704,0.039095558203138085,0.5919685571179097,0.4430367669146969,0.10586587015867413,0.030763427762290824,0.041006199047386616,-0.6350006773445932,0.43698949776868823,0.7598786021627065,0.3777401449295635,0.3930010691213791,0.9310321310279407,0.28541740955801975,-0.7334599241801342,0.2626831464160508,-1.2171517196217256,-1.2740066076594492,-0.06924440057416355,0.17895732230714645,-0.023739210877874697,-0.2517448763626307,-0.28036132745264547,-0.7789275016310555,0.41729684326456384,-0.17603245777675813,-0.27384218438741087,0.47609639833989076,0.27836394583941876,-1.3796915190570382,-1.221993678650444,-0.41597915142061553,0.450910469787604,0.013278575251617453,-0.20233086016178076,-0.07341804461579682,-0.5211435073712057,0.3268241145428144,0.46402014787927454,0.060547223943784576,-1.8932871132538942,0.42108219879806796,-0.7403629934644168,-0.5138562404811343,0.3485386737945705,-0.28494726597444314,0.3078672209028796,-2.369176345457369,1.1084899942975663,-0.5080299243241501,-1.0494810466947833,0.00015192963272424087,0.7421731631807191,-1.199199245325675,0.09315321397466202,0.40418215128429114,-0.23934553881658083,-0.47011356149707395,0.28632476449507066,-0.8107092357065042,0.44421621463324357,0.49148099385537886,-0.6868598043654246,0.9911358600363158,-1.2280279108751788,0.08705280904949081,-1.3741510123923169,0.5756122476926611,0.5124875467505631,0.2963911806519024,-0.29685217989543716,0.5759498852169549,1.3033366232209733,-0.7977689979561025,-4.56913145426536,-0.4817551866052087,-0.2923684137301206,-2.275324052765716,-0.05670959335235171,-0.23792063793608328,1.5310378780926017,-0.14099722708602383,4.593740630206645,0.04779672110748344,0.06663500949466387,1.149087139378634,3.8007052066716986,2.9944679052130945,0.022609283518722555,3.601151612308593,-2.842783228094867,5.473654571591198,4.7912550975019155,-3.9320135737468083,-0.02838200546393161,0.03931059732251672,-0.052397143084732985,0.11884567776265333,-0.23732463574335355,0.2391038322602571,-0.0010687547880113366,-0.15494223387929495,-0.01654112542417765,0.010396887368383189,-0.07702438090701733,-0.05330201027738505,0.31272747142618246,0.05360772149839794,0.19528168635485185,-0.11005305181593941,-0.16736097642421227,-0.026738850883043216,-0.15151408426698457,-0.013204549428569204,0.0255768792430912,-0.03361749001991003,-0.24010081990438034,-0.1481580159299782,-0.00517432274693243,0.00024748709737472716,0.05623751578979054,-0.05571531091331493,0.01764726943151881,0.04603057733639789,0.05895994460234791,0.18275046691740693,0.23837980512135212,-0.06894060072475086,-0.08785791897301772,0.045865044571093916,0.11410296710306107,-0.05763168782625989,0.05855290513631214,0.033361181126622536,0.08050071241609577,0.321916183210741,-0.10409419336356711,0.021058914068502275,-0.09707020217689394,-0.03688132357938366,0.2561127762889384,0.20639438051543238,0.13336173143735142,-0.09345087012597222,0.11107190153328855,-2.275324052765716,0.2543295831641239,-0.2771412311167225,-0.22062471268324355,0.09265341870727138,-0.13016083498345032,0.0,0.009213298954561078,0.0,0.04600459135103325,0.0,0.027341301736561432,0.0,0.0,0.055029316495065886,0.12836933650839621,0.27461011568803634,0.46161692664544834,0.0,0.0,0.0,0.0,0.0,0.0,0.0,0.0,0.0,0.08639775706727117,1.48867401703201,0.6996207565869478,0.0,0.0,0.7273016953155759,-0.09919675672082869,0.0,0.0,0.0,0.0,-0.017949790721607583,0.623183802670555,0.5071242463400977,0.2914608933319452,0.7530228341952472,0.7396992808380054,1.2700071434817142,0.0,0.0]\nIntercept: -0.09549400442866637\n"
     ]
    }
   ],
   "source": [
    "print(\"3 Month Data with Feature Selection\")\n",
    "train_quarter_selected_lrmodel = createLRModel(transformed_train_quarter_selected)\n",
    "trainingSummary_selected = train_quarter_selected_lrmodel.summary"
   ]
  },
  {
   "cell_type": "markdown",
   "metadata": {
    "application/vnd.databricks.v1+cell": {
     "cellMetadata": {},
     "inputWidgets": {},
     "nuid": "2e180977-414d-4388-9603-aceb8720bea5",
     "showTitle": false,
     "title": ""
    }
   },
   "source": [
    "####5 Years Data with Feature Selection"
   ]
  },
  {
   "cell_type": "code",
   "execution_count": 0,
   "metadata": {
    "application/vnd.databricks.v1+cell": {
     "cellMetadata": {
      "byteLimit": 2048000,
      "rowLimit": 10000
     },
     "inputWidgets": {},
     "nuid": "1a4181ae-175a-4ee1-8aed-f72b380392a9",
     "showTitle": false,
     "title": ""
    }
   },
   "outputs": [
    {
     "output_type": "stream",
     "name": "stdout",
     "output_type": "stream",
     "text": [
      "5 Years Train Data with Feature Selection:\n"
     ]
    },
    {
     "output_type": "display_data",
     "data": {
      "application/vnd.jupyter.widget-view+json": {
       "model_id": "241bec4e2999428ba33096989fdef4fc",
       "version_major": 2,
       "version_minor": 0
      },
      "text/plain": [
       "Downloading artifacts:   0%|          | 0/9 [00:00<?, ?it/s]"
      ]
     },
     "metadata": {},
     "output_type": "display_data"
    },
    {
     "output_type": "display_data",
     "data": {
      "application/vnd.jupyter.widget-view+json": {
       "model_id": "84151cbcf5db4891a028d2c2e2a2b43e",
       "version_major": 2,
       "version_minor": 0
      },
      "text/plain": [
       "Uploading artifacts:   0%|          | 0/4 [00:00<?, ?it/s]"
      ]
     },
     "metadata": {},
     "output_type": "display_data"
    },
    {
     "output_type": "stream",
     "name": "stdout",
     "output_type": "stream",
     "text": [
      "Coefficients: [0.043190879599749626,-0.017654382468304555,-0.060174578146844196,0.015956702949858004,-0.03378947639685919,0.06927397871010063,-0.09464169806773823,0.01921710231976219,-0.09817158821253667,0.03750122610983623,0.02995509912201618,-0.11099316396779355,-0.07518311976149719,0.07447013394830435,-0.04478207451335791,0.06900030458901556,-0.041893194162030876,0.08284390545172775,0.07005660524532535,-0.0916901556183549,0.032798180642458825,-0.04200152043738857,0.06678708118248597,-0.023187488129683027,0.09862747594571947,0.08651282960781301,0.0011249146400483655,-0.01746286308322509,-0.07477166572072122,0.07851462215326432,-0.039453242789548,-0.038441260615210956,0.06877870257695311,0.07398472798614666,-0.014526804798093191,-0.05790452636898517,0.06926358600122881,-0.07429724023883004,-0.08495864599189193,-0.07514074877841416,-0.05038813234130112,0.031538107558999315,0.006055234311740168,-0.03521375055264964,-0.08849658055155378,-0.024458761256095703,-0.07342689442014065,-1.2327106877521108,4.312455943098228,0.0,0.0,0.0,0.0,0.0,0.0,0.0,0.0,0.0,0.0,0.0,0.0,0.0,0.0,0.0,0.0,0.0,0.0,0.0,0.0,0.0,0.0,0.0,0.0,0.0,0.0,0.0,0.0,0.0,0.0,0.0,0.0,0.0,0.0,0.0,0.0,0.0,0.0,0.0,0.0,0.0,0.0,0.0,0.0,0.0,0.0,0.0,0.0,0.0,0.0,0.0,0.0,0.0,0.0,0.0,0.0,0.0,0.0,0.0,0.0,0.0,0.0,0.0,0.0,0.0,0.0,0.0,0.0,0.0,0.0,0.0,0.0,0.0,0.0,0.0,0.0,0.0,0.0,0.0,0.0,0.0,0.0,0.0,0.0,0.0,0.0,0.0,0.0,0.0,0.0,0.0,0.0,0.0,0.0,0.0,0.0,0.0,0.0,0.0,0.0,0.0,0.0,0.0,0.0,0.0,0.0,0.0,0.0,0.0,0.0,0.0,0.0,0.0,0.0,0.0,0.1164482365201626,0.0752153760864679,0.06981435574103614,-0.08486763688234406,-0.06502232227490268,-0.035518277810764734,-0.11105117779304091,0.35166526481349153,0.2768912383899014,0.2991251568845679,-0.029209909053721943,-0.06918346679251597,-0.14580649005742946,-0.3387008379724043,0.008318812917328389,0.0021797230491514647,-0.2392641787476997,-0.29140555447404537,-0.05694212456101019,-0.10145447960913914,0.010944934025713301,0.07204346696543909,0.11086581741636724,0.0938032085380796,0.16659227520269335,0.03944957604896808,0.23253352352385967,-0.12291268391431169,0.12253118283087344,0.05957904171779067,-0.07213619327204461,0.16865116903233207,-0.14033800576611852,-0.12658508400399687,-0.03141837454890679,-0.2053001913888951,-0.20605967347359197,-0.04587534320052065,0.13935713911095968,0.047259694846828945,0.11263879984821228,0.09950415536322448,-0.06297423954749806,0.038250251646853126,-0.09814565694131779,0.31179934072557075,-0.033204519301872765,0.0521615455140676,0.10130191383491573,0.2861551430501401,-0.21624978839906786,0.06378765285927639,-0.12242500049837057,-0.07984442510153121,0.04519965270785446,0.02561031031155828,-0.015554543907736817,-0.18410839348403346,-0.25440969482962467,-0.1254011405439104,-0.37706262081711855,-0.12498288343199088,0.006709144433184513,-0.11047665640727752,-0.17584187419999794,-0.11207209410129837,0.054032757367080964,0.2126959611576151,-0.2910756752711065,-0.08071931078666837,0.13359604965236538,0.06837495895674486,-0.16347909116450157,0.15336770983402537,-0.13462029107280835,-0.3777436729601187,0.12001668633730382,-0.32530907461999065,0.1973327061458231,-0.10081822747204076,-0.17459875703757818,-0.05624315740624599,-0.1083598126783892,-0.0029748314126955737,0.14369294574129726,0.019884051759462694,0.08470425664135549,-0.048927700889761866,-0.15313890393168691,0.015676873191479555,-0.10411261175995606,-0.5140673899322359,0.323342738643819,-0.11851176488207496,-0.4353918049175834,0.09723169314223945,-0.31784173347361444,0.18877775629486263,0.10128102035299894,-0.006288341098261682,0.285608148252161,0.07125906488484068,-0.1509991619656354,-0.27433343564464624,-0.015433256312316485,-0.07396711330187805,-0.18907333759459682,-0.6731537213981235,-0.16412907410605934,0.06933657935134271,-0.012700472806615145,-0.006449516031228885,-0.009621414881291836,0.13872581280932303,-0.18135827702860316,0.011502682618008901,-0.06897810857671972,0.059450352028950895,-0.09026764292428698,-0.18461249360514329,0.02958390270159216,-0.10205752486896216,0.053632655324677134,-0.12785120356156643,0.1575869795820309,0.4209306327444876,0.021792044402204447,0.12659488031073335,-0.07272184527972515,0.5379407247144049,0.007461798850777929,0.056357822539425007,0.053587582317117764,-0.06978648427547711,-0.11736050231120145,-0.02148465273118169,-0.02817848079867054,0.3422345897136319,-0.05617499583606316,0.13572321893801204,-0.10679421265399128,-0.21001824008440015,0.0389204944438083,-0.13027331009261256,-0.35070023757671426,-0.1442278591945101,0.021280293340465082,-0.0588106067221798,-0.08988506560408303,0.11267417076165584,-0.06484331057505938,-0.6243496326175193,-0.1173873949010589,-0.16511623892251076,0.154925194570777,-0.22857160934152806,-0.1457928861979724,-0.2790579336779254,0.24909736174596223,0.2841275617090244,0.18106061652357866,-0.11592360028924939,0.03320513722708553,-0.114241916501567,-0.04512136532547926,0.022296084734849727,-0.06656503898661241,-0.35083216229978476,-0.2416564225169348,0.004838459346114322,-0.33142139826598843,-0.20629150170857286,0.11924746519131565,0.284104928526742,0.1905781613220088,-0.2429403827895161,-0.2857803583651539,-0.24976411987267388,0.15125294850833118,-0.1511451731138435,-0.10007451318322863,0.3701213809694613,-0.05409517514717572,0.09241154855331585,0.3278614042095937,0.1581044460257197,-0.006889979119145232,-0.04109118092372332,-0.3402944505807607,-0.08860094818335798,-0.32376136173457226,-0.5381966234504871,-0.15558609443056176,0.3371572503822236,-0.3461551189672758,-0.3273802428248689,-0.2772588937773494,0.017501733465001102,-0.28871367973069384,-0.22059695777984373,-0.18461733154030313,-0.4961164156363864,-0.1732080373037426,0.03349440639661185,0.1918135383864144,-0.16762744063091775,-0.785191411045603,-0.22255897149458304,-0.036975355628385324,0.07714978007647956,-0.011243577918693135,-0.05206085527583318,-0.014289840513768505,0.4095688579451261,-0.30441003136236644,-0.16239896311356203,-0.27388795355005513,-0.27085352609303237,0.18901391626865585,-0.051448984701087316,-0.37477377009785057,0.15072514252653538,-0.5685690414521641,-0.47322046790845934,-0.042785536113467026,0.11007054457841135,0.18084046546556498,0.14629491939231257,-0.07784279298691008,0.21326714769863822,0.16657002588641914,-0.022666069959034467,0.01756328615147986,0.28045393823737397,0.025873468060722393,0.21542538078850673,0.08507599897713823,-0.0016397151869783626,-0.4489843905225197,0.32982379965069075,0.06346808117643239,-0.17193270793231408,-0.1618806535423789,-0.13968719410367228,-0.5264237223418651,0.03507633234119054,0.15565332069155785,0.4150814380952174,-0.2779798529931447,-0.31880410585427355,-0.22921750698253632,0.05548325598042117,0.27986034081248773,0.40395538064295666,-0.3895919887976747,-0.8022594619422898,-0.24583928023287052,-0.8898387517151031,0.06664007433011826,-0.13172558272367796,-0.5208486280351904,-0.5590037945228093,0.042344373920035705,0.3897110802556181,0.21314484589544114,0.32648559228380064,0.24278980398166092,0.32672060934874453,-0.5811287156110868,0.3015222649580411,0.18268618154394625,-0.24590012006026862,-0.7159616927519019,-0.817334775604217,-0.174508307425784,-0.25982257925226754,-0.4234580148037233,0.04585633659473437,0.07890938513882567,-0.1227754985930527,0.05749613546549802,-0.30055490059025436,-0.2447976942878395,-0.5139158362834138,-0.6599809757177569,0.0929434064254844,-0.8335432061660982,-0.6238166020779266,-0.332562255771945,1.2003781582095239,-0.02137518499147458,-0.021875010776187653,1.0752723743293462,-0.3324363410450577,0.03212433859533956,-0.22687987229538756,-0.3749331400424525,1.0441322817103416,-0.16582943156697622,0.45464525477960643,0.14331245058779363,-0.22868186153181164,-0.21414204305671772,-0.6532383295883176,0.9735723411275122,0.16387582387255428,0.7913624687016619,-0.6701366294961892,-0.17646657149035133,0.32798179417497936,0.31069392736815266,-0.6741692855746373,0.20781929443914207,0.15219150775509618,0.8291645573659024,-1.5680301188092145,-0.2530848180782215,0.1397799244796875,0.7675056746755906,0.16971030644824128,-0.35266723370836733,-0.38962316792976703,0.3519193298032807,-0.2139572237414222,0.09194595543305897,-0.40929114133984934,-0.6126688630371382,-1.9511699250929242,1.7186189269595358,0.48265185891907614,0.2506758383641439,0.6878559034576808,0.9490541354621895,-0.2337274902829658,1.3283487292378786,-0.23267121126197662,0.4501843009000288,1.372551201670928,1.287530095810308,-0.6650657724097535,0.1753449523125461,0.28097141478780685,-1.0676341978547501,3.611385609998742,2.6692854405990287,4.9550564107682495,-6.928274412036956,3.694502377689678,2.156449897885151,0.027178981978221477,0.07841881312831644,0.06250281035816915,0.043014669770115095,-0.08644964672503815,0.0183189515933547,0.08091282967129036,0.1569559766109752,0.19495033982679538,-0.0005619421036572731,-0.05504484100183402,0.1148271501343334,-0.19704184123876226,-0.07026921693096386,-0.13325535636356275,-0.1402626298013642,-0.0441520980449183,-0.20379355244229067,-0.011977732396505498,0.04784443858966755,0.05187040730546835,-0.10554664935163255,-0.4304802427052759,-0.19068598446617877,0.03978749205074211,-0.06648747990605523,-0.12949748172300046,-0.11784720752996598,-0.07246270125938493,0.010523242295574291,0.07230200491900121,-0.41087506267316976,0.16554643387956458,-0.12413883506422416,-0.004530953124357167,-0.12580239637839294,-0.055135026369255546,-0.032846350853446546,-0.2196742141565944,-0.15313890393168691,-0.19856187213128115,0.012997809368209138,-0.08826654648404621,-0.07213849881562184,-0.18351596000047596,-0.10576967197437367,-0.07272184527972515,-0.08058989471829452,-0.2613617217830073,0.12709094624074527,0.1753449523125461,-0.14184061712436713,0.04913637617742885,0.008419040362736777,0.05612392368438425,-0.004667408204501545,0.4348265728352972,-0.007086946609949894,-0.021850017643564167,0.2626375181368582,-0.15152613820060062,0.0947746296718761,0.2954919391338651,-0.09573924049604593,0.07349105327145626,-0.09526851924604875,-0.1206539439098892,-0.1242401262950854,0.10904174789946708,0.020559458513720097,0.0038778530834009646,-0.03277936240903547,0.0968917193039507,0.08928972635672537,-0.1816624283503129,-0.13641697333053104,0.08514074732549376,-0.03623448954129002,-0.01691947928411738,0.005326736856323315,-0.025290791069648145,-0.120189932496408,0.08877972471697375,-0.00895607340853619,0.1251797319818548,0.0076225523854140794,-0.08948953222906669,-0.017325680461213654,-0.031075440990391633,0.09421703399439449,-0.06227096829840578,-0.26076527539824335,0.011586070195713593,0.05778259527628327,-0.002536297375669998,-0.00639306256806659,0.010099939100751437,-0.07328716956831412,-0.04788022064674243,0.13319721558563624,0.0046198818354728916,-0.1483490902781251,0.09703810264071205,-0.017410986556812082,-0.03224967430055756,0.01025881135383272,0.027011023661658657,-0.005041274370270204,-0.10793805750973194,-0.017229750756816476,-0.12707874807466477,-0.1314096630425362,0.013037056356044276,-0.06542636272707103,-0.004898303983121932,-0.04178240038206842,0.04470709813184717,0.00034567233371210254,-0.1303662442274443,-0.10194769550180562,-0.0559277432012223,-0.009705975380123109,0.0814385750486465,-0.09176602669736113,-0.01912371782585047,-0.0016340206469553377,0.031247369187993947,-0.08090672334151547,-0.039969947088057185,-0.049350020102270124,-0.13402671143781938,-0.15398203773506772,-0.3609672918493881,-0.07156999149442449,0.0891379678360956,-0.022521846486465883,0.21490947367225408,-0.256948891249242,-0.1029405217602828,-0.13997189406587346,-0.058478594847704006,-0.1646233570138809,0.09859699598157613,0.04648261051669374,0.012721874037614631,-0.12070958934165754,-0.12042849074226288,0.00924832662286111,0.03145232510192959,-0.2847143958457552,0.04143231622458394,-0.06902475191715846,-0.016047876217054502,0.02157529306051909,-0.10001924702396649,-0.04709812689154706,-0.061459558363038694,-0.04157106537654629,-0.1285373809266501,-0.15139150138789254,0.22573919858809088,-0.1906806531899929,-0.009381478602400762,-0.11784264363872722,-0.056971517627418616,0.057379894711583994,0.10991558525270302,-0.1671953172055704,-0.079772689042234,-0.12104490208523967,-0.13011835132744845,-0.24253483433719672,-0.0496606565679273,0.060233787588154133,-0.1029767873645699,-0.19747736930817944,0.26160575819634313,-0.04096132503622116,-0.0005041605217492367,-0.23324548216023377,-0.14445399525776975,-0.03347666867149028,-0.13586716541887642,-0.12589581046442982,0.022670388155885842,-0.11922411620345073,-0.08674717611623538,-0.1713777905964869,-0.12392221825341614,-0.05557699700105491,0.10972277667789138,0.307513637651978,-0.0978360126021061,0.03488107512614283,-0.1276294412149583,-0.0337830651205431,0.08055204174574873,-0.2676534650481705,-0.1776894827642103,-0.07809782050839383,-0.1823153971204032,-0.056836909503762384,0.1837576061977459,0.016035558784536146,-0.268737491302804,0.293451366059897,-0.2788238221967666,-0.01874115283664087,-0.239092288430652,-0.008623232622346502,-0.3483284976649561,-0.25402994708167514,-0.2630395821270948,-0.3065601279801144,-0.1650615959564708,-0.20553247601343194,-0.3667186247778251,-0.9017703215374234,0.12607184048222536,-0.410612844894163,0.15667663083175898,-0.18349627946260827,0.6257297236773771,-0.5426394063466236,-0.14030676098388442,0.09339863812017435,-0.026509968587880402,-0.07656852131032213,0.09217551212572124,0.029007211883964077,-0.34334916287360934,-0.20306094299639466,0.24021532582687008,0.07515439593174433,-0.5278206514231991,-0.25593254754222705,0.3041622184175708,-0.24625661281038266,-0.24068170612748427,-0.7340296882644174,0.12926450636864298,-0.1709341373432035,0.2496447180391061,-0.2858014308199982,-0.3463161939150383,-0.13328776164506706,-0.38096855419420655,-0.01116226844287361,-0.4368459691403196,-0.41497712502857903,0.16136991418861363,-0.10313644810385636,-0.25371541084579136,-0.4492638666663132,0.11487452779835233,-0.6586002443308422,-0.3488512102793984,-0.4073597008053133,-0.32498141706025535,0.11212080421784307,-0.38713933550070007,-0.4221643066584798,0.0343555107668125,-0.10795464401236285,-0.22871066442091875,0.05905732241125911,-0.21441858167615802,0.09657994653568841,-0.5453703221378562,-0.034955724437486936,-0.17022718074662893,0.18815472427385602,-0.22451740167072745,0.22975176272450276,-0.9382628821926355,0.4540718976777611,-0.6573994590992933,-0.3236176658057429,0.2254061138283672,0.2545855374733401,-0.23414126334563173,-0.6247041347799679,-0.3338180372425853,-0.5095528209224864,-0.5738677740778722,-0.2170248363595199,0.17543881609812853,0.23517718695856352,-0.38403226377200445,-0.9209857382896276,-0.029919979553912887,-0.31040646228260116,0.0038002423418160318,0.14529306635026906,0.26041657040249844,-0.38918090124842103,0.10549375077860139,-0.3879163830680421,-0.24144748816514278,-0.03944380405336574,-0.1832017162237872,0.19542626728330711,-0.26048133517446476,-0.5956404166197441,0.12160137049243504,-0.043176976292749955,0.2741550189951806,0.10518502986658493,-0.3601738909822677,-0.49001243950087015,-0.4352852660460495,-0.9717346993009863,0.11311014618140701,-0.940488201890445,0.15698384566391693,-0.17236584578561068,0.015893110388427764,0.9297237696563933,0.27049744328843894,-1.3552333903253466,0.3090622346416389,0.6196687355094204,-0.5705509329517592,-0.43838747579505927,-0.4741118712230276,0.15898539653033225,-0.5171761546150605,-0.545918964051609,0.340602742441542,-0.157203408887325,-0.24754320268883265,-0.37198559798037645,-0.256353057075096,-0.17743167195135565,-1.1898977812494649,-0.46612654027274986,-0.5326121835960813,0.4162730075696286,0.91166341470855,-0.40725708175829023,-0.14519774742211733,0.01435659167548919,0.6304629730786814,-0.6731634054711939,-1.1031130671905633,-0.10251639475204033,-0.5264812446346044,-0.01529184379401006,-1.2451052188610656,0.40555524569096324,-0.20913721612026953,-0.43358633589608164,0.24051269057778185,-0.7262926598224744,0.01929812352744078,0.288086538156063,-0.14337783981836277,-0.7010062111336312,-0.0015420010135445326,-0.27740604513577855,0.05541188002009887,-0.3103656629998808,-0.22832459651962678,-0.1108624051160353,-0.860383259220269,-0.06578044965179264,-0.3922742685862731,0.7618877673354737,-0.2304304585807385,0.04546357255058593,-0.449890296716681,-0.6685224456536186,-0.3285590845282076,-0.4947364058785545,-0.6463830849319079,0.0057752865839873005,-0.2680270388565239,-0.9654002062484823,0.007153224262186721,-0.04114383781846677,0.481613696505737,1.0858576642873246,-0.19184115579718572,-0.5262316780486196,0.17960701141462893,-0.16637708212986135,-0.8901233226176409,0.005248024682578302,-0.08794065812826996,-1.8570447300949147,-1.4729468636861103,0.9079916261907713,-0.23303978654827848,-0.5451308937634833,-0.30278395660045704,0.596921282310323,-0.5937149450993456,-1.187048298060663,0.7377262761673339,0.5054692531411153,0.859103275006905,0.5220995555222846,-1.201940930304327,0.0655683974644738,2.410667155270269,-0.3651830898703487,-0.4232440668142972,3.694790302898329,0.07087157518946909,-0.00867354630937058,0.032149139944292,0.030580356554980932,-0.1299920756875273,0.1592126324928613,-0.01331212825893774,-0.04532310850224019,-0.03337215042052561,-0.011796276717870292,-0.027326929838571986,0.2508496656265928,-0.10496365373225788,-0.08712511213354321,0.09422180208925031,0.02608064212804814,-0.10105236824054964,-0.03135131740817965,0.02086435060353735,-0.014672824685654581,-0.19831110860416462,-0.032305386024942116,-0.06517622755987447,-0.03702657115035045,-0.10564959428750559,-0.07099037703205408,-0.02155063970628093,-0.031076016831023633,-0.03473752269445397,-0.0391498005607256,0.1442179584042163,-0.03966851807375011,-0.1091373756419155,-0.0819909697105445,-0.027295032096846566,-0.14197201499320922,0.013880288994956407,-0.040202922220083315,-0.06543000572840735,-0.16302225042701363,-0.0016340206469553377,-0.1572031558438106,-0.08467441530187585,-0.10697859876058091,-0.11506158249695227,0.011570809660563394,-0.10817214164782281,0.03706227687186709,0.15090796741546955,0.02023928755497096,-0.03347666867149028,-0.0015420010135445326,2.410667155270269,0.17628001740438815,-0.5739163396961924,0.45395928969631977,0.12777856637955107,-0.08361486522434554,0.07908999008554607,-0.05517599349241557,-0.06029022541863179,0.0,0.7820855421468085,0.06464274635289019,0.0,0.09214632828162828,0.0,0.08809012259356333,0.0,0.0,0.0871143241618491,0.08911029834395401,0.4060847131487515,-0.12585529207743926,0.0,0.0,0.0,0.0,0.0,0.0,0.0,0.0,0.0,0.07933993995162197,0.48012772211013843,1.430496974664867,0.0,0.0,-0.05821924212258577,0.08913351421688868,-1.7601272586596302,0.0,0.0,0.0,0.0428507927994309,0.3144696683625105,0.8875140849314345,0.283957715997707,1.0365942749511425,0.9876369776320705,0.7722497522681696,0.0,0.0]\nIntercept: -0.15193187529760205\n"
     ]
    }
   ],
   "source": [
    "print(\"5 Years Train Data with Feature Selection:\")\n",
    "train_5yr_balance_lrmodel_selected = createLRModel(transformed_train_5yr_selected)\n",
    "trainingSummary_balance_5yr_selected = train_5yr_balance_lrmodel_selected.summary"
   ]
  },
  {
   "cell_type": "markdown",
   "metadata": {
    "application/vnd.databricks.v1+cell": {
     "cellMetadata": {},
     "inputWidgets": {},
     "nuid": "531a2d68-40b4-4d28-b547-d4eaa986ab3a",
     "showTitle": false,
     "title": ""
    }
   },
   "source": [
    "###Logistic Regression Train Results"
   ]
  },
  {
   "cell_type": "code",
   "execution_count": 0,
   "metadata": {
    "application/vnd.databricks.v1+cell": {
     "cellMetadata": {
      "byteLimit": 2048000,
      "rowLimit": 10000
     },
     "inputWidgets": {},
     "nuid": "b01d1e0b-40c7-4a36-b212-c3480075b428",
     "showTitle": false,
     "title": ""
    }
   },
   "outputs": [],
   "source": [
    "def evaluate_model(model_prediction, beta=1.0):\n",
    "    # Convert DataFrame to RDD\n",
    "    prediction_and_label = model_prediction.select([\"prediction\", \"DEP_DEL15\"]).withColumn('DEP_DEL15', col('DEP_DEL15').cast(FloatType())).orderBy('DEP_DEL15')\n",
    "\n",
    "    # Create MulticlassMetrics object\n",
    "    metrics = MulticlassMetrics(prediction_and_label.rdd.map(tuple))\n",
    "\n",
    "    return metrics.accuracy, metrics.precision(1.0), metrics.recall(1.0), metrics.fMeasure(1.0), metrics.fMeasure(1.0, beta=beta)"
   ]
  },
  {
   "cell_type": "markdown",
   "metadata": {
    "application/vnd.databricks.v1+cell": {
     "cellMetadata": {},
     "inputWidgets": {},
     "nuid": "8855de19-a6cd-4dd3-ba79-f4efc1198cdd",
     "showTitle": false,
     "title": ""
    }
   },
   "source": [
    "####3 Month Data"
   ]
  },
  {
   "cell_type": "code",
   "execution_count": 0,
   "metadata": {
    "application/vnd.databricks.v1+cell": {
     "cellMetadata": {
      "byteLimit": 2048000,
      "rowLimit": 10000
     },
     "inputWidgets": {},
     "nuid": "fd88e7e5-ec62-4733-83b8-fe1a06e3c08b",
     "showTitle": false,
     "title": ""
    }
   },
   "outputs": [
    {
     "output_type": "stream",
     "name": "stderr",
     "output_type": "stream",
     "text": [
      "/databricks/spark/python/pyspark/sql/context.py:165: FutureWarning: Deprecated in 3.0.0. Use SparkSession.builder.getOrCreate() instead.\n  warnings.warn(\n"
     ]
    },
    {
     "output_type": "stream",
     "name": "stdout",
     "output_type": "stream",
     "text": [
      "3 Month Data Train Results\nPrecision: 0.6277\nRecall: 0.6159\nF-1: 0.6218\nF-1 Beta: 0.6218\n"
     ]
    }
   ],
   "source": [
    "lr_train_predictions_balance = train_quarter_balance_lrmodel.transform(transformed_train_quarter)\n",
    "\n",
    "balance_acc, balance_pre, balance_recall, balance_f1, balance_f1_b = evaluate_model(lr_train_predictions_balance, 1.0)\n",
    "\n",
    "print(\"3 Month Data Train Results\")\n",
    "#print(f\"Accuracy: {balance_acc:.4f}\")\n",
    "print(f\"Precision: {balance_pre:.4f}\")\n",
    "print(f\"Recall: {balance_recall:.4f}\")\n",
    "print(f\"F-1: {balance_f1:.4f}\")\n",
    "print(f\"F-1 Beta: {balance_f1_b:.4f}\")"
   ]
  },
  {
   "cell_type": "markdown",
   "metadata": {
    "application/vnd.databricks.v1+cell": {
     "cellMetadata": {},
     "inputWidgets": {},
     "nuid": "f6dc1d0a-2ddc-43b9-94b4-616becf17361",
     "showTitle": false,
     "title": ""
    }
   },
   "source": [
    "####3 Month Data with Feature Selection"
   ]
  },
  {
   "cell_type": "code",
   "execution_count": 0,
   "metadata": {
    "application/vnd.databricks.v1+cell": {
     "cellMetadata": {
      "byteLimit": 2048000,
      "rowLimit": 10000
     },
     "inputWidgets": {},
     "nuid": "47a2fb72-afef-4e88-8013-9d6526dc3e6f",
     "showTitle": false,
     "title": ""
    }
   },
   "outputs": [
    {
     "output_type": "stream",
     "name": "stderr",
     "output_type": "stream",
     "text": [
      "/databricks/spark/python/pyspark/sql/context.py:165: FutureWarning:\n\nDeprecated in 3.0.0. Use SparkSession.builder.getOrCreate() instead.\n\n"
     ]
    },
    {
     "output_type": "stream",
     "name": "stdout",
     "output_type": "stream",
     "text": [
      "3 Month Data with Feature Selection Train Results\nPrecision: 0.6271\nRecall: 0.6083\nF-1: 0.6176\nF-1 Beta: 0.6176\n"
     ]
    }
   ],
   "source": [
    "lr_train_predictions_selected = train_quarter_selected_lrmodel.transform(transformed_train_quarter_selected)\n",
    "\n",
    "balance_acc, balance_pre, balance_recall, balance_f1, balance_f1_b = evaluate_model(lr_train_predictions_selected, 1.0)\n",
    "\n",
    "print(\"3 Month Data with Feature Selection Train Results\")\n",
    "#print(f\"Accuracy: {balance_acc:.4f}\")\n",
    "print(f\"Precision: {balance_pre:.4f}\")\n",
    "print(f\"Recall: {balance_recall:.4f}\")\n",
    "print(f\"F-1: {balance_f1:.4f}\")\n",
    "print(f\"F-1 Beta: {balance_f1_b:.4f}\")"
   ]
  },
  {
   "cell_type": "markdown",
   "metadata": {
    "application/vnd.databricks.v1+cell": {
     "cellMetadata": {},
     "inputWidgets": {},
     "nuid": "711b0f74-aa08-4023-a268-78448071e19d",
     "showTitle": false,
     "title": ""
    }
   },
   "source": [
    "####5 Years Data with Feature Selection"
   ]
  },
  {
   "cell_type": "code",
   "execution_count": 0,
   "metadata": {
    "application/vnd.databricks.v1+cell": {
     "cellMetadata": {
      "byteLimit": 2048000,
      "rowLimit": 10000
     },
     "inputWidgets": {},
     "nuid": "c04c93c7-80fd-4392-80f3-af6b3819e553",
     "showTitle": false,
     "title": ""
    }
   },
   "outputs": [
    {
     "output_type": "stream",
     "name": "stderr",
     "output_type": "stream",
     "text": [
      "/databricks/spark/python/pyspark/sql/context.py:165: FutureWarning: Deprecated in 3.0.0. Use SparkSession.builder.getOrCreate() instead.\n  warnings.warn(\n"
     ]
    },
    {
     "output_type": "stream",
     "name": "stdout",
     "output_type": "stream",
     "text": [
      "5 Years Data with Feature Selection Train Results\nPrecision: 0.6188\nRecall: 0.6398\nF-1: 0.6291\nF-1 Beta: 0.6229\n"
     ]
    }
   ],
   "source": [
    "lr_train_predictions_balance_5yr_selected = train_5yr_balance_lrmodel_selected.transform(transformed_train_5yr_selected)\n",
    "\n",
    "balance_acc, balance_pre, balance_recall, balance_f1, balance_f1_b = evaluate_model(lr_train_predictions_balance_5yr_selected, 0.5)\n",
    "\n",
    "print(\"5 Years Data with Feature Selection Train Results\")\n",
    "#print(f\"Accuracy: {balance_acc:.4f}\")\n",
    "print(f\"Precision: {balance_pre:.4f}\")\n",
    "print(f\"Recall: {balance_recall:.4f}\")\n",
    "print(f\"F-1: {balance_f1:.4f}\")\n",
    "print(f\"F-1 Beta: {balance_f1_b:.4f}\")"
   ]
  },
  {
   "cell_type": "markdown",
   "metadata": {
    "application/vnd.databricks.v1+cell": {
     "cellMetadata": {},
     "inputWidgets": {},
     "nuid": "e42bc798-093b-4a36-a3d2-d2ef01cb30f4",
     "showTitle": false,
     "title": ""
    }
   },
   "source": [
    "###Logistic Regression Test Results"
   ]
  },
  {
   "cell_type": "markdown",
   "metadata": {
    "application/vnd.databricks.v1+cell": {
     "cellMetadata": {},
     "inputWidgets": {},
     "nuid": "1b68cca4-c5b2-4256-a73f-42d6fb05a65e",
     "showTitle": false,
     "title": ""
    }
   },
   "source": [
    "####3 Month Data"
   ]
  },
  {
   "cell_type": "code",
   "execution_count": 0,
   "metadata": {
    "application/vnd.databricks.v1+cell": {
     "cellMetadata": {
      "byteLimit": 2048000,
      "rowLimit": 10000
     },
     "inputWidgets": {},
     "nuid": "31ec2cae-8897-4671-95a2-0691c4aeac22",
     "showTitle": false,
     "title": ""
    }
   },
   "outputs": [
    {
     "output_type": "stream",
     "name": "stdout",
     "output_type": "stream",
     "text": [
      "3 Month Data Test Results\nPrecision: 0.2966\nRecall: 0.3603\nF-1: 0.3253\nF-1 Beta: 0.3253\n"
     ]
    }
   ],
   "source": [
    "lr_predictions_balance = train_quarter_balance_lrmodel.transform(transformed_test_quarter)\n",
    "\n",
    "balance_acc, balance_pre, balance_recall, balance_f1, balance_f1_b = evaluate_model(lr_predictions_balance, 1.0)\n",
    "\n",
    "print(\"3 Month Data Test Results\")\n",
    "#print(f\"Accuracy: {balance_acc:.4f}\")\n",
    "print(f\"Precision: {balance_pre:.4f}\")\n",
    "print(f\"Recall: {balance_recall:.4f}\")\n",
    "print(f\"F-1: {balance_f1:.4f}\")\n",
    "print(f\"F-1 Beta: {balance_f1_b:.4f}\")"
   ]
  },
  {
   "cell_type": "markdown",
   "metadata": {
    "application/vnd.databricks.v1+cell": {
     "cellMetadata": {},
     "inputWidgets": {},
     "nuid": "fbddc17c-1d87-45d7-8ca2-af7c7c08d9db",
     "showTitle": false,
     "title": ""
    }
   },
   "source": [
    "####3 Month Data with Feature Selection"
   ]
  },
  {
   "cell_type": "code",
   "execution_count": 0,
   "metadata": {
    "application/vnd.databricks.v1+cell": {
     "cellMetadata": {
      "byteLimit": 2048000,
      "rowLimit": 10000
     },
     "inputWidgets": {},
     "nuid": "fbf6feaf-fb94-4110-8b1e-76fdeab8b3d0",
     "showTitle": false,
     "title": ""
    }
   },
   "outputs": [
    {
     "output_type": "stream",
     "name": "stdout",
     "output_type": "stream",
     "text": [
      "3 Month Data with Feature Selection Test Results\nPrecision: 0.2957\nRecall: 0.3602\nF-1: 0.3248\nF-1 Beta: 0.3248\n"
     ]
    }
   ],
   "source": [
    "lr_test_predictions_selected = train_quarter_selected_lrmodel.transform(transformed_test_quarter_selected)\n",
    "\n",
    "balance_acc, balance_pre, balance_recall, balance_f1, balance_f1_b = evaluate_model(lr_test_predictions_selected, 1.0)\n",
    "\n",
    "print(\"3 Month Data with Feature Selection Test Results\")\n",
    "#print(f\"Accuracy: {balance_acc:.4f}\")\n",
    "print(f\"Precision: {balance_pre:.4f}\")\n",
    "print(f\"Recall: {balance_recall:.4f}\")\n",
    "print(f\"F-1: {balance_f1:.4f}\")\n",
    "print(f\"F-1 Beta: {balance_f1_b:.4f}\")"
   ]
  },
  {
   "cell_type": "markdown",
   "metadata": {
    "application/vnd.databricks.v1+cell": {
     "cellMetadata": {},
     "inputWidgets": {},
     "nuid": "87222a82-8b48-47d7-8a8d-23422c66377b",
     "showTitle": false,
     "title": ""
    }
   },
   "source": [
    "####5 Years Data with Feature Selection"
   ]
  },
  {
   "cell_type": "code",
   "execution_count": 0,
   "metadata": {
    "application/vnd.databricks.v1+cell": {
     "cellMetadata": {
      "byteLimit": 2048000,
      "rowLimit": 10000
     },
     "inputWidgets": {},
     "nuid": "82559a98-c19c-4cee-870e-97b98fd06a45",
     "showTitle": false,
     "title": ""
    }
   },
   "outputs": [
    {
     "output_type": "stream",
     "name": "stderr",
     "output_type": "stream",
     "text": [
      "/databricks/spark/python/pyspark/sql/context.py:165: FutureWarning: Deprecated in 3.0.0. Use SparkSession.builder.getOrCreate() instead.\n  warnings.warn(\n"
     ]
    },
    {
     "output_type": "stream",
     "name": "stdout",
     "output_type": "stream",
     "text": [
      "5 Years Data with Feature Selection Test Results\nPrecision: 0.2715\nRecall: 0.6308\nF-1: 0.3796\nF-1 Beta: 0.3064\n"
     ]
    }
   ],
   "source": [
    "lr_predictions_balance_5yr_selected = train_5yr_balance_lrmodel_selected.transform(transformed_test_5yr_selected)\n",
    "\n",
    "balance_acc, balance_pre, balance_recall, balance_f1, balance_f1_b = evaluate_model(lr_predictions_balance_5yr_selected, 0.5)\n",
    "\n",
    "print(\"5 Years Data with Feature Selection Test Results\")\n",
    "#print(f\"Accuracy: {balance_acc:.4f}\")\n",
    "print(f\"Precision: {balance_pre:.4f}\")\n",
    "print(f\"Recall: {balance_recall:.4f}\")\n",
    "print(f\"F-1: {balance_f1:.4f}\")\n",
    "print(f\"F-1 Beta: {balance_f1_b:.4f}\")"
   ]
  },
  {
   "cell_type": "markdown",
   "metadata": {
    "application/vnd.databricks.v1+cell": {
     "cellMetadata": {},
     "inputWidgets": {},
     "nuid": "ed7d93f2-62bc-459e-b852-6e0037d1d6e5",
     "showTitle": false,
     "title": ""
    }
   },
   "source": [
    "###Cross-Validation"
   ]
  },
  {
   "cell_type": "markdown",
   "metadata": {
    "application/vnd.databricks.v1+cell": {
     "cellMetadata": {},
     "inputWidgets": {},
     "nuid": "5bd9f63b-e183-4eac-bb03-8e60e5992e60",
     "showTitle": false,
     "title": ""
    }
   },
   "source": [
    "####Fit Cross Validation Models"
   ]
  },
  {
   "cell_type": "code",
   "execution_count": 0,
   "metadata": {
    "application/vnd.databricks.v1+cell": {
     "cellMetadata": {
      "byteLimit": 2048000,
      "rowLimit": 10000
     },
     "inputWidgets": {},
     "nuid": "db46073c-d576-4fa2-b5fd-029ee4d0ff78",
     "showTitle": false,
     "title": ""
    }
   },
   "outputs": [
    {
     "output_type": "display_data",
     "data": {
      "application/vnd.jupyter.widget-view+json": {
       "model_id": "43028b3b83e0499c95cae9e3e39177fc",
       "version_major": 2,
       "version_minor": 0
      },
      "text/plain": [
       "Downloading artifacts:   0%|          | 0/15 [00:00<?, ?it/s]"
      ]
     },
     "metadata": {},
     "output_type": "display_data"
    },
    {
     "output_type": "display_data",
     "data": {
      "application/vnd.jupyter.widget-view+json": {
       "model_id": "74bf2a01d39c48f8a089c331c7c34dc9",
       "version_major": 2,
       "version_minor": 0
      },
      "text/plain": [
       "Uploading artifacts:   0%|          | 0/4 [00:00<?, ?it/s]"
      ]
     },
     "metadata": {},
     "output_type": "display_data"
    },
    {
     "output_type": "display_data",
     "data": {
      "application/vnd.jupyter.widget-view+json": {
       "model_id": "de1c208d779145909935b9f1af89f761",
       "version_major": 2,
       "version_minor": 0
      },
      "text/plain": [
       "Downloading artifacts:   0%|          | 0/9 [00:00<?, ?it/s]"
      ]
     },
     "metadata": {},
     "output_type": "display_data"
    },
    {
     "output_type": "display_data",
     "data": {
      "application/vnd.jupyter.widget-view+json": {
       "model_id": "999cb734d6264ee0935b103a58fb5026",
       "version_major": 2,
       "version_minor": 0
      },
      "text/plain": [
       "Uploading artifacts:   0%|          | 0/4 [00:00<?, ?it/s]"
      ]
     },
     "metadata": {},
     "output_type": "display_data"
    }
   ],
   "source": [
    "lr = LogisticRegression(featuresCol = 'final_features' , labelCol = 'DEP_DEL15', maxIter=10)\n",
    "\n",
    "paramGrid = (ParamGridBuilder()\n",
    "             .addGrid(lr.regParam, [0.01, 0.1, 0.5, 1.0, 2.0])\n",
    "             .addGrid(lr.elasticNetParam, [0.0, 0.25, 0.5, 0.75, 1.0])\n",
    "             .addGrid(lr.maxIter, [5, 10, 20, 50])\n",
    "             .build())\n",
    "\n",
    "crossval = CrossValidator(estimator = lr,\n",
    "                          estimatorParamMaps = paramGrid,\n",
    "                          evaluator = BinaryClassificationEvaluator(rawPredictionCol=\"rawPrediction\", labelCol=\"DEP_DEL15\"),\n",
    "                          numFolds = 5)\n",
    "\n",
    "# Run cross-validation, and choose the best set of parameters.\n",
    "cv_balanced = crossval.fit(transformed_train_1yr)"
   ]
  },
  {
   "cell_type": "code",
   "execution_count": 0,
   "metadata": {
    "application/vnd.databricks.v1+cell": {
     "cellMetadata": {
      "byteLimit": 2048000,
      "rowLimit": 10000
     },
     "inputWidgets": {},
     "nuid": "db7eb8c5-b3a6-41a2-b8bf-47125b17e206",
     "showTitle": false,
     "title": ""
    },
    "jupyter": {
     "outputs_hidden": true,
     "source_hidden": true
    }
   },
   "outputs": [
    {
     "output_type": "display_data",
     "data": {
      "application/vnd.jupyter.widget-view+json": {
       "model_id": "fa8fbe89c90143f0aed7165c8d25822a",
       "version_major": 2,
       "version_minor": 0
      },
      "text/plain": [
       "Downloading artifacts:   0%|          | 0/15 [00:00<?, ?it/s]"
      ]
     },
     "metadata": {},
     "output_type": "display_data"
    },
    {
     "output_type": "display_data",
     "data": {
      "application/vnd.jupyter.widget-view+json": {
       "model_id": "8d00bc75cbf046ecab7a5ad1f2fb528d",
       "version_major": 2,
       "version_minor": 0
      },
      "text/plain": [
       "Uploading artifacts:   0%|          | 0/4 [00:00<?, ?it/s]"
      ]
     },
     "metadata": {},
     "output_type": "display_data"
    },
    {
     "output_type": "display_data",
     "data": {
      "application/vnd.jupyter.widget-view+json": {
       "model_id": "9a96b7a84b5c4b05b369e286c524309e",
       "version_major": 2,
       "version_minor": 0
      },
      "text/plain": [
       "Downloading artifacts:   0%|          | 0/9 [00:00<?, ?it/s]"
      ]
     },
     "metadata": {},
     "output_type": "display_data"
    },
    {
     "output_type": "display_data",
     "data": {
      "application/vnd.jupyter.widget-view+json": {
       "model_id": "85fdbd498e664e6ba80c3fe71b50dbb2",
       "version_major": 2,
       "version_minor": 0
      },
      "text/plain": [
       "Uploading artifacts:   0%|          | 0/4 [00:00<?, ?it/s]"
      ]
     },
     "metadata": {},
     "output_type": "display_data"
    }
   ],
   "source": [
    "lr = LogisticRegression(featuresCol = 'final_features' , labelCol = 'DEP_DEL15', maxIter=10)\n",
    "\n",
    "paramGrid = (ParamGridBuilder()\n",
    "             .addGrid(lr.regParam, [0.01, 0.1, 0.5, 1.0, 2.0])\n",
    "             .addGrid(lr.elasticNetParam, [0.0, 0.25, 0.5, 0.75, 1.0])\n",
    "             .addGrid(lr.maxIter, [5, 10, 20, 50])\n",
    "             .build())\n",
    "\n",
    "crossval = CrossValidator(estimator = lr,\n",
    "                          estimatorParamMaps = paramGrid,\n",
    "                          evaluator = BinaryClassificationEvaluator(rawPredictionCol=\"rawPrediction\", labelCol=\"DEP_DEL15\"),\n",
    "                          numFolds = 5)\n",
    "\n",
    "# Run cross-validation, and choose the best set of parameters.\n",
    "cv_balanced_selected = crossval.fit(transformed_train_1yr_selected)"
   ]
  },
  {
   "cell_type": "code",
   "execution_count": 0,
   "metadata": {
    "application/vnd.databricks.v1+cell": {
     "cellMetadata": {
      "byteLimit": 2048000,
      "rowLimit": 10000
     },
     "inputWidgets": {},
     "nuid": "94faa408-b390-4470-9ef7-c8c7f8719dcd",
     "showTitle": false,
     "title": ""
    },
    "jupyter": {
     "source_hidden": true
    }
   },
   "outputs": [
    {
     "output_type": "display_data",
     "data": {
      "application/vnd.jupyter.widget-view+json": {
       "model_id": "77bda21d8deb42c696c12b9c0998d01d",
       "version_major": 2,
       "version_minor": 0
      },
      "text/plain": [
       "Downloading artifacts:   0%|          | 0/15 [00:00<?, ?it/s]"
      ]
     },
     "metadata": {},
     "output_type": "display_data"
    },
    {
     "output_type": "display_data",
     "data": {
      "application/vnd.jupyter.widget-view+json": {
       "model_id": "f7726963aaf444a6bebfc13bc386ce41",
       "version_major": 2,
       "version_minor": 0
      },
      "text/plain": [
       "Uploading artifacts:   0%|          | 0/4 [00:00<?, ?it/s]"
      ]
     },
     "metadata": {},
     "output_type": "display_data"
    },
    {
     "output_type": "display_data",
     "data": {
      "application/vnd.jupyter.widget-view+json": {
       "model_id": "e41fc71fd6a74a5bb697ec260d83e980",
       "version_major": 2,
       "version_minor": 0
      },
      "text/plain": [
       "Downloading artifacts:   0%|          | 0/9 [00:00<?, ?it/s]"
      ]
     },
     "metadata": {},
     "output_type": "display_data"
    },
    {
     "output_type": "display_data",
     "data": {
      "application/vnd.jupyter.widget-view+json": {
       "model_id": "a7a700c0bc1f42f0b4f4770043ac4a73",
       "version_major": 2,
       "version_minor": 0
      },
      "text/plain": [
       "Uploading artifacts:   0%|          | 0/4 [00:00<?, ?it/s]"
      ]
     },
     "metadata": {},
     "output_type": "display_data"
    }
   ],
   "source": [
    "lr = LogisticRegression(featuresCol = 'final_features' , labelCol = 'DEP_DEL15', maxIter=10)\n",
    "\n",
    "paramGrid = (ParamGridBuilder()\n",
    "             .addGrid(lr.regParam, [0.01, 0.1, 0.5, 1.0, 2.0])\n",
    "             .addGrid(lr.elasticNetParam, [0.0, 0.25, 0.5, 0.75, 1.0])\n",
    "             .addGrid(lr.maxIter, [5, 10, 20, 50])\n",
    "             .build())\n",
    "\n",
    "crossval = CrossValidator(estimator = lr,\n",
    "                          estimatorParamMaps = paramGrid,\n",
    "                          evaluator = BinaryClassificationEvaluator(rawPredictionCol=\"rawPrediction\", labelCol=\"DEP_DEL15\"),\n",
    "                          numFolds = 5)\n",
    "\n",
    "# Run cross-validation, and choose the best set of parameters.\n",
    "cv_unbalanced = crossval.fit(transformed_train_1yr_unbalanced)"
   ]
  },
  {
   "cell_type": "code",
   "execution_count": 0,
   "metadata": {
    "application/vnd.databricks.v1+cell": {
     "cellMetadata": {
      "byteLimit": 2048000,
      "rowLimit": 10000
     },
     "inputWidgets": {},
     "nuid": "a6552179-aa91-40b5-9796-44aaabab1385",
     "showTitle": false,
     "title": ""
    },
    "jupyter": {
     "source_hidden": true
    }
   },
   "outputs": [
    {
     "output_type": "display_data",
     "data": {
      "application/vnd.jupyter.widget-view+json": {
       "model_id": "5672000c30524d22af017db4f142c4b1",
       "version_major": 2,
       "version_minor": 0
      },
      "text/plain": [
       "Downloading artifacts:   0%|          | 0/15 [00:00<?, ?it/s]"
      ]
     },
     "metadata": {},
     "output_type": "display_data"
    },
    {
     "output_type": "display_data",
     "data": {
      "application/vnd.jupyter.widget-view+json": {
       "model_id": "a26ba8e1483c4e3693a563cc51720f27",
       "version_major": 2,
       "version_minor": 0
      },
      "text/plain": [
       "Uploading artifacts:   0%|          | 0/4 [00:00<?, ?it/s]"
      ]
     },
     "metadata": {},
     "output_type": "display_data"
    },
    {
     "output_type": "display_data",
     "data": {
      "application/vnd.jupyter.widget-view+json": {
       "model_id": "23e8a2bcb7ad451cb8ac7d77e29290c1",
       "version_major": 2,
       "version_minor": 0
      },
      "text/plain": [
       "Downloading artifacts:   0%|          | 0/9 [00:00<?, ?it/s]"
      ]
     },
     "metadata": {},
     "output_type": "display_data"
    },
    {
     "output_type": "display_data",
     "data": {
      "application/vnd.jupyter.widget-view+json": {
       "model_id": "7992e413e54e48fc93a05749569a61a7",
       "version_major": 2,
       "version_minor": 0
      },
      "text/plain": [
       "Uploading artifacts:   0%|          | 0/4 [00:00<?, ?it/s]"
      ]
     },
     "metadata": {},
     "output_type": "display_data"
    }
   ],
   "source": [
    "lr = LogisticRegression(featuresCol = 'final_features' , labelCol = 'DEP_DEL15', maxIter=10)\n",
    "\n",
    "paramGrid = (ParamGridBuilder()\n",
    "             .addGrid(lr.regParam, [0.01, 0.1, 0.5, 1.0, 2.0])\n",
    "             .addGrid(lr.elasticNetParam, [0.0, 0.25, 0.5, 0.75, 1.0])\n",
    "             .addGrid(lr.maxIter, [5, 10, 20, 50])\n",
    "             .build())\n",
    "\n",
    "crossval = CrossValidator(estimator = lr,\n",
    "                          estimatorParamMaps = paramGrid,\n",
    "                          evaluator = BinaryClassificationEvaluator(rawPredictionCol=\"rawPrediction\", labelCol=\"DEP_DEL15\"),\n",
    "                          numFolds = 5)\n",
    "\n",
    "# Run cross-validation, and choose the best set of parameters.\n",
    "cv_unbalanced_selected = crossval.fit(transformed_train_1yr_unbalanced_selected)"
   ]
  },
  {
   "cell_type": "markdown",
   "metadata": {
    "application/vnd.databricks.v1+cell": {
     "cellMetadata": {},
     "inputWidgets": {},
     "nuid": "79836ef2-0305-4422-9143-1e9d20b18ea3",
     "showTitle": false,
     "title": ""
    }
   },
   "source": [
    "####Cross-Validation Train Results"
   ]
  },
  {
   "cell_type": "code",
   "execution_count": 0,
   "metadata": {
    "application/vnd.databricks.v1+cell": {
     "cellMetadata": {
      "byteLimit": 2048000,
      "rowLimit": 10000
     },
     "inputWidgets": {},
     "nuid": "8d094abd-b1a2-4ffe-986b-9c661eb773da",
     "showTitle": false,
     "title": ""
    }
   },
   "outputs": [
    {
     "output_type": "stream",
     "name": "stderr",
     "output_type": "stream",
     "text": [
      "/databricks/spark/python/pyspark/sql/context.py:165: FutureWarning:\n\nDeprecated in 3.0.0. Use SparkSession.builder.getOrCreate() instead.\n\n"
     ]
    },
    {
     "output_type": "stream",
     "name": "stdout",
     "output_type": "stream",
     "text": [
      "1 Year Data Cross Validation Train Results\nPrecision: 0.5969\nRecall: 0.6070\nF-1: 0.6019\nF-1 Beta: 0.6019\n"
     ]
    }
   ],
   "source": [
    "cross_valid_train_prediction = cv_balanced.transform(transformed_train_1yr)\n",
    "\n",
    "cross_acc, cross_pre, cross_recall, cross_f1, cross_f1_b = evaluate_model(cross_valid_train_prediction, 1.0)\n",
    "\n",
    "print(\"1 Year Data Cross Validation Train Results\")\n",
    "#print(f\"Accuracy: {cross_acc:.4f}\")\n",
    "print(f\"Precision: {cross_pre:.4f}\")\n",
    "print(f\"Recall: {cross_recall:.4f}\")\n",
    "print(f\"F-1: {cross_f1:.4f}\")\n",
    "print(f\"F-1 Beta: {cross_f1_b:.4f}\")"
   ]
  },
  {
   "cell_type": "code",
   "execution_count": 0,
   "metadata": {
    "application/vnd.databricks.v1+cell": {
     "cellMetadata": {
      "byteLimit": 2048000,
      "rowLimit": 10000
     },
     "inputWidgets": {},
     "nuid": "921251d2-1f4f-4f2b-ae7c-0f0d57aceb08",
     "showTitle": false,
     "title": ""
    }
   },
   "outputs": [
    {
     "output_type": "stream",
     "name": "stderr",
     "output_type": "stream",
     "text": [
      "/databricks/spark/python/pyspark/sql/context.py:165: FutureWarning:\n\nDeprecated in 3.0.0. Use SparkSession.builder.getOrCreate() instead.\n\n"
     ]
    },
    {
     "output_type": "stream",
     "name": "stdout",
     "output_type": "stream",
     "text": [
      "1 Year Data with Feature Selection Cross Validation Train Results\nPrecision: 0.5512\nRecall: 0.4665\nF-1: 0.5053\nF-1 Beta: 0.5053\n"
     ]
    }
   ],
   "source": [
    "cross_valid_train_prediction_selected = cv_balanced_selected.transform(transformed_train_1yr_selected)\n",
    "\n",
    "cross_acc, cross_pre, cross_recall, cross_f1, cross_f1_b = evaluate_model(cross_valid_train_prediction_selected, 1.0)\n",
    "\n",
    "print(\"1 Year Data with Feature Selection Cross Validation Train Results\")\n",
    "#print(f\"Accuracy: {cross_acc:.4f}\")\n",
    "print(f\"Precision: {cross_pre:.4f}\")\n",
    "print(f\"Recall: {cross_recall:.4f}\")\n",
    "print(f\"F-1: {cross_f1:.4f}\")\n",
    "print(f\"F-1 Beta: {cross_f1_b:.4f}\")"
   ]
  },
  {
   "cell_type": "markdown",
   "metadata": {
    "application/vnd.databricks.v1+cell": {
     "cellMetadata": {},
     "inputWidgets": {},
     "nuid": "d2d360f6-fe90-49a4-aff5-556998d5730e",
     "showTitle": false,
     "title": ""
    }
   },
   "source": [
    "####Cross-Validation Test Results"
   ]
  },
  {
   "cell_type": "code",
   "execution_count": 0,
   "metadata": {
    "application/vnd.databricks.v1+cell": {
     "cellMetadata": {
      "byteLimit": 2048000,
      "rowLimit": 10000
     },
     "inputWidgets": {},
     "nuid": "91d65c5f-0f2c-4a02-afa8-af1ae68454ba",
     "showTitle": false,
     "title": ""
    },
    "jupyter": {
     "source_hidden": true
    }
   },
   "outputs": [
    {
     "output_type": "stream",
     "name": "stdout",
     "output_type": "stream",
     "text": [
      "1 Year Data Cross Validation Test Results\nPrecision: 0.1944\nRecall: 0.6806\nF-1: 0.3024\nF-1 Beta: 0.3024\n"
     ]
    }
   ],
   "source": [
    "cross_valid_test_prediction = cv_balanced.transform(transformed_test_1yr)\n",
    "\n",
    "cross_acc, cross_pre, cross_recall, cross_f1, cross_f1_b = evaluate_model(cross_valid_test_prediction, 1.0)\n",
    "\n",
    "print(\"1 Year Data Cross Validation Test Results\")\n",
    "#print(f\"Accuracy: {cross_acc:.4f}\")\n",
    "print(f\"Precision: {cross_pre:.4f}\")\n",
    "print(f\"Recall: {cross_recall:.4f}\")\n",
    "print(f\"F-1: {cross_f1:.4f}\")\n",
    "print(f\"F-1 Beta: {cross_f1_b:.4f}\")"
   ]
  },
  {
   "cell_type": "code",
   "execution_count": 0,
   "metadata": {
    "application/vnd.databricks.v1+cell": {
     "cellMetadata": {
      "byteLimit": 2048000,
      "rowLimit": 10000
     },
     "inputWidgets": {},
     "nuid": "a4c2b10b-c839-4405-b722-f9bfb32b1f1f",
     "showTitle": false,
     "title": ""
    },
    "jupyter": {
     "source_hidden": true
    }
   },
   "outputs": [
    {
     "output_type": "stream",
     "name": "stdout",
     "output_type": "stream",
     "text": [
      "1 Year Data with Feature Selection Cross Validation Test Results\nPrecision: 0.1862\nRecall: 0.5706\nF-1: 0.2808\nF-1 Beta: 0.2808\n"
     ]
    }
   ],
   "source": [
    "cross_valid_test_prediction_selected = cv_balanced_selected.transform(transformed_test_1yr_selected)\n",
    "\n",
    "cross_acc, cross_pre, cross_recall, cross_f1, cross_f1_b = evaluate_model(cross_valid_test_prediction_selected, 1.0)\n",
    "\n",
    "print(\"1 Year Data with Feature Selection Cross Validation Test Results\")\n",
    "#print(f\"Accuracy: {cross_acc:.4f}\")\n",
    "print(f\"Precision: {cross_pre:.4f}\")\n",
    "print(f\"Recall: {cross_recall:.4f}\")\n",
    "print(f\"F-1: {cross_f1:.4f}\")\n",
    "print(f\"F-1 Beta: {cross_f1_b:.4f}\")"
   ]
  },
  {
   "cell_type": "markdown",
   "metadata": {
    "application/vnd.databricks.v1+cell": {
     "cellMetadata": {},
     "inputWidgets": {},
     "nuid": "beed649e-80cc-4ee5-87c3-82067cce250c",
     "showTitle": false,
     "title": ""
    }
   },
   "source": [
    "##Baseline Model Summary Table"
   ]
  },
  {
   "cell_type": "markdown",
   "metadata": {
    "application/vnd.databricks.v1+cell": {
     "cellMetadata": {},
     "inputWidgets": {},
     "nuid": "5628574f-b506-4b75-97a6-7f7f83a1842f",
     "showTitle": false,
     "title": ""
    }
   },
   "source": [
    "### Training Set Results \n",
    "\n",
    "<table>\n",
    "<tr><th>Unbalanced Dataset </th><th>Balanced Dataset</th></tr>\n",
    "<tr><td>\n",
    "    \n",
    "    \n",
    "|Without Feature Selection| Result|\n",
    "|--|--|\n",
    "|Precision| 0.6049|\n",
    "|Recall| 0.0099|\n",
    "|F-1| 0.0194|\n",
    "|F-Beta| 0.0194|\n",
    "    \n",
    "\n",
    "|With Feature Selection| Result|\n",
    "|--|--|\n",
    "|Precision| 0.6078|\n",
    "|Recall| 0.0099|\n",
    "|F-1| 0.0194|\n",
    "|F-Beta| 0.0194|\n",
    "\n",
    "</td><td>\n",
    "\n",
    "\n",
    "|Without Feature Selection| Result|\n",
    "|--|--|\n",
    "|Precision| 0.5972|\n",
    "|Recall| 0.6059|\n",
    "|F-1| 0.6015|\n",
    "|F-Beta| 0.6015|\n",
    "    \n",
    "\n",
    "|With Feature Selection| Result|\n",
    "|--|--|\n",
    "|Precision| 0.5961|\n",
    "|Recall| 0.6085|\n",
    "|F-1| 0.6022|\n",
    "|F-Beta| 0.6022|\n",
    "\n",
    "</td></tr> </table>\n"
   ]
  },
  {
   "cell_type": "markdown",
   "metadata": {
    "application/vnd.databricks.v1+cell": {
     "cellMetadata": {},
     "inputWidgets": {},
     "nuid": "06ccb2d9-7754-411c-bc9c-7080687ca3be",
     "showTitle": false,
     "title": ""
    }
   },
   "source": [
    "### Test Set Results \n",
    "\n",
    "<table>\n",
    "<tr><th>Unbalanced Dataset </th><th>Balanced Dataset</th></tr>\n",
    "<tr><td>\n",
    "    \n",
    "    \n",
    "|Without Feature Selection| Result|\n",
    "|--|--|\n",
    "|Precision| 0.5645|\n",
    "|Recall| 0.0104|\n",
    "|F-1| 0.0204|\n",
    "|F-Beta| 0.0204|\n",
    "    \n",
    "\n",
    "|With Feature Selection| Result|\n",
    "|--|--|\n",
    "|Precision| 0.5803|\n",
    "|Recall| 0.0105|\n",
    "|F-1| 0.0207|\n",
    "|F-Beta| 0.0207|\n",
    "\n",
    "</td><td>\n",
    "\n",
    "\n",
    "|Without Feature Selection| Result|\n",
    "|--|--|\n",
    "|Precision| 0.1938|\n",
    "|Recall| 0.6878|\n",
    "|F-1| 0.3024|\n",
    "|F-Beta| 0.3024|\n",
    "    \n",
    "\n",
    "|With Feature Selection| Result|\n",
    "|--|--|\n",
    "|Precision| 0.5654|\n",
    "|Recall| 0.0104|\n",
    "|F-1| 0.0204|\n",
    "|F-Beta| 0.0204|\n",
    "\n",
    "</td></tr> </table>"
   ]
  },
  {
   "cell_type": "markdown",
   "metadata": {
    "application/vnd.databricks.v1+cell": {
     "cellMetadata": {},
     "inputWidgets": {},
     "nuid": "c7faff45-4536-4cae-b300-2fd62ed9bc53",
     "showTitle": false,
     "title": ""
    }
   },
   "source": [
    "#Conclusions and Future Directions\n",
    "\n",
    "Final analysis of the regularized datasets indicated that the Logistic Regression (LR) model worked best with a balanced dataset and with feature selection- the unbalanced dataset's results initially indicated higher precision, but resulted in the model just guessing which samples were delayed or not in line with the 3:1 ratio of undelayed/delayed present in the dataset itself. The LR model with balancing performed well overall, but the model with feature selection performed well enough that our target metric (F-beta, weighted towards precision) scored ~52-56% on average, with the model's ROC curves confirming this finding.   \n",
    "\n",
    "\n",
    "Future directions for the model development include investigating graph network and support vector machine usage, as it's hypothesized that the data is multidimensional; implementing BlockSplit cross-validation since the initial dataset is composed of timeseries data; and adjusting the F-beta calculations to weight more for precision, since false positives are considered the worst-case scenario for this project's particular implementations."
   ]
  },
  {
   "cell_type": "markdown",
   "metadata": {
    "application/vnd.databricks.v1+cell": {
     "cellMetadata": {},
     "inputWidgets": {},
     "nuid": "3e75fa26-b5e3-4211-bcbf-7f885c8468a9",
     "showTitle": false,
     "title": ""
    }
   },
   "source": [
    "#More Advanced Model Testing (Support Vector Machine)"
   ]
  },
  {
   "cell_type": "code",
   "execution_count": 0,
   "metadata": {
    "application/vnd.databricks.v1+cell": {
     "cellMetadata": {
      "byteLimit": 2048000,
      "rowLimit": 10000
     },
     "inputWidgets": {},
     "nuid": "e2b5d9eb-8259-467c-b2c7-4449fbc34584",
     "showTitle": false,
     "title": ""
    },
    "jupyter": {
     "outputs_hidden": true
    }
   },
   "outputs": [
    {
     "output_type": "display_data",
     "data": {
      "text/plain": [
       "com.databricks.backend.common.rpc.CommandCancelledException\n",
       "\tat com.databricks.spark.chauffeur.ExecContextState.cancel(ExecContextState.scala:429)\n",
       "\tat com.databricks.spark.chauffeur.ChauffeurState.cancelExecution(ChauffeurState.scala:1225)\n",
       "\tat com.databricks.spark.chauffeur.ChauffeurState.$anonfun$process$1(ChauffeurState.scala:958)\n",
       "\tat com.databricks.logging.UsageLogging.$anonfun$recordOperation$1(UsageLogging.scala:573)\n",
       "\tat com.databricks.logging.UsageLogging.executeThunkAndCaptureResultTags$1(UsageLogging.scala:669)\n",
       "\tat com.databricks.logging.UsageLogging.$anonfun$recordOperationWithResultTags$4(UsageLogging.scala:687)\n",
       "\tat com.databricks.logging.UsageLogging.$anonfun$withAttributionContext$1(UsageLogging.scala:426)\n",
       "\tat scala.util.DynamicVariable.withValue(DynamicVariable.scala:62)\n",
       "\tat com.databricks.logging.AttributionContext$.withValue(AttributionContext.scala:216)\n",
       "\tat com.databricks.logging.UsageLogging.withAttributionContext(UsageLogging.scala:424)\n",
       "\tat com.databricks.logging.UsageLogging.withAttributionContext$(UsageLogging.scala:418)\n",
       "\tat com.databricks.spark.chauffeur.ChauffeurState.withAttributionContext(ChauffeurState.scala:67)\n",
       "\tat com.databricks.logging.UsageLogging.withAttributionTags(UsageLogging.scala:472)\n",
       "\tat com.databricks.logging.UsageLogging.withAttributionTags$(UsageLogging.scala:455)\n",
       "\tat com.databricks.spark.chauffeur.ChauffeurState.withAttributionTags(ChauffeurState.scala:67)\n",
       "\tat com.databricks.logging.UsageLogging.recordOperationWithResultTags(UsageLogging.scala:664)\n",
       "\tat com.databricks.logging.UsageLogging.recordOperationWithResultTags$(UsageLogging.scala:582)\n",
       "\tat com.databricks.spark.chauffeur.ChauffeurState.recordOperationWithResultTags(ChauffeurState.scala:67)\n",
       "\tat com.databricks.logging.UsageLogging.recordOperation(UsageLogging.scala:573)\n",
       "\tat com.databricks.logging.UsageLogging.recordOperation$(UsageLogging.scala:542)\n",
       "\tat com.databricks.spark.chauffeur.ChauffeurState.recordOperation(ChauffeurState.scala:67)\n",
       "\tat com.databricks.spark.chauffeur.ChauffeurState.process(ChauffeurState.scala:915)\n",
       "\tat com.databricks.spark.chauffeur.Chauffeur$$anon$1$$anonfun$receive$1.handleDriverRequest$1(Chauffeur.scala:672)\n",
       "\tat com.databricks.spark.chauffeur.Chauffeur$$anon$1$$anonfun$receive$1.$anonfun$applyOrElse$4(Chauffeur.scala:696)\n",
       "\tat com.databricks.logging.UsageLogging.executeThunkAndCaptureResultTags$1(UsageLogging.scala:669)\n",
       "\tat com.databricks.logging.UsageLogging.$anonfun$recordOperationWithResultTags$4(UsageLogging.scala:687)\n",
       "\tat com.databricks.logging.UsageLogging.$anonfun$withAttributionContext$1(UsageLogging.scala:426)\n",
       "\tat scala.util.DynamicVariable.withValue(DynamicVariable.scala:62)\n",
       "\tat com.databricks.logging.AttributionContext$.withValue(AttributionContext.scala:216)\n",
       "\tat com.databricks.logging.UsageLogging.withAttributionContext(UsageLogging.scala:424)\n",
       "\tat com.databricks.logging.UsageLogging.withAttributionContext$(UsageLogging.scala:418)\n",
       "\tat com.databricks.rpc.ServerBackend.withAttributionContext(ServerBackend.scala:22)\n",
       "\tat com.databricks.logging.UsageLogging.withAttributionTags(UsageLogging.scala:472)\n",
       "\tat com.databricks.logging.UsageLogging.withAttributionTags$(UsageLogging.scala:455)\n",
       "\tat com.databricks.rpc.ServerBackend.withAttributionTags(ServerBackend.scala:22)\n",
       "\tat com.databricks.logging.UsageLogging.recordOperationWithResultTags(UsageLogging.scala:664)\n",
       "\tat com.databricks.logging.UsageLogging.recordOperationWithResultTags$(UsageLogging.scala:582)\n",
       "\tat com.databricks.rpc.ServerBackend.recordOperationWithResultTags(ServerBackend.scala:22)\n",
       "\tat com.databricks.spark.chauffeur.Chauffeur$$anon$1$$anonfun$receive$1.handleDriverRequestWithUsageLogging$1(Chauffeur.scala:696)\n",
       "\tat com.databricks.spark.chauffeur.Chauffeur$$anon$1$$anonfun$receive$1.applyOrElse(Chauffeur.scala:749)\n",
       "\tat com.databricks.spark.chauffeur.Chauffeur$$anon$1$$anonfun$receive$1.applyOrElse(Chauffeur.scala:554)\n",
       "\tat com.databricks.rpc.ServerBackend.$anonfun$internalReceive0$2(ServerBackend.scala:174)\n",
       "\tat com.databricks.rpc.ServerBackend$$anonfun$commonReceive$1.applyOrElse(ServerBackend.scala:200)\n",
       "\tat com.databricks.rpc.ServerBackend$$anonfun$commonReceive$1.applyOrElse(ServerBackend.scala:200)\n",
       "\tat com.databricks.rpc.ServerBackend.internalReceive0(ServerBackend.scala:171)\n",
       "\tat com.databricks.rpc.ServerBackend.$anonfun$internalReceive$1(ServerBackend.scala:147)\n",
       "\tat com.databricks.logging.UsageLogging.$anonfun$recordOperation$1(UsageLogging.scala:573)\n",
       "\tat com.databricks.logging.UsageLogging.executeThunkAndCaptureResultTags$1(UsageLogging.scala:669)\n",
       "\tat com.databricks.logging.UsageLogging.$anonfun$recordOperationWithResultTags$4(UsageLogging.scala:687)\n",
       "\tat com.databricks.logging.UsageLogging.$anonfun$withAttributionContext$1(UsageLogging.scala:426)\n",
       "\tat scala.util.DynamicVariable.withValue(DynamicVariable.scala:62)\n",
       "\tat com.databricks.logging.AttributionContext$.withValue(AttributionContext.scala:216)\n",
       "\tat com.databricks.logging.UsageLogging.withAttributionContext(UsageLogging.scala:424)\n",
       "\tat com.databricks.logging.UsageLogging.withAttributionContext$(UsageLogging.scala:418)\n",
       "\tat com.databricks.rpc.ServerBackend.withAttributionContext(ServerBackend.scala:22)\n",
       "\tat com.databricks.logging.UsageLogging.withAttributionTags(UsageLogging.scala:472)\n",
       "\tat com.databricks.logging.UsageLogging.withAttributionTags$(UsageLogging.scala:455)\n",
       "\tat com.databricks.rpc.ServerBackend.withAttributionTags(ServerBackend.scala:22)\n",
       "\tat com.databricks.logging.UsageLogging.recordOperationWithResultTags(UsageLogging.scala:664)\n",
       "\tat com.databricks.logging.UsageLogging.recordOperationWithResultTags$(UsageLogging.scala:582)\n",
       "\tat com.databricks.rpc.ServerBackend.recordOperationWithResultTags(ServerBackend.scala:22)\n",
       "\tat com.databricks.logging.UsageLogging.recordOperation(UsageLogging.scala:573)\n",
       "\tat com.databricks.logging.UsageLogging.recordOperation$(UsageLogging.scala:542)\n",
       "\tat com.databricks.rpc.ServerBackend.recordOperation(ServerBackend.scala:22)\n",
       "\tat com.databricks.rpc.ServerBackend.internalReceive(ServerBackend.scala:147)\n",
       "\tat com.databricks.rpc.JettyServer$RequestManager.handleRPC(JettyServer.scala:1020)\n",
       "\tat com.databricks.rpc.JettyServer$RequestManager.handleRequestAndRespond(JettyServer.scala:941)\n",
       "\tat com.databricks.rpc.JettyServer$RequestManager.$anonfun$handleHttp$6(JettyServer.scala:545)\n",
       "\tat com.databricks.rpc.JettyServer$RequestManager.$anonfun$handleHttp$6$adapted(JettyServer.scala:514)\n",
       "\tat com.databricks.logging.activity.ActivityContextFactory$.$anonfun$withActivityInternal$4(ActivityContextFactory.scala:405)\n",
       "\tat com.databricks.logging.UsageLogging.$anonfun$withAttributionContext$1(UsageLogging.scala:426)\n",
       "\tat scala.util.DynamicVariable.withValue(DynamicVariable.scala:62)\n",
       "\tat com.databricks.logging.AttributionContext$.withValue(AttributionContext.scala:216)\n",
       "\tat com.databricks.logging.UsageLogging.withAttributionContext(UsageLogging.scala:424)\n",
       "\tat com.databricks.logging.UsageLogging.withAttributionContext$(UsageLogging.scala:418)\n",
       "\tat com.databricks.logging.activity.ActivityContextFactory$.withAttributionContext(ActivityContextFactory.scala:58)\n",
       "\tat com.databricks.logging.activity.ActivityContextFactory$.$anonfun$withActivityInternal$1(ActivityContextFactory.scala:405)\n",
       "\tat com.databricks.context.integrity.IntegrityCheckContext$ThreadLocalStorage$.withValue(IntegrityCheckContext.scala:44)\n",
       "\tat com.databricks.logging.activity.ActivityContextFactory$.withActivityInternal(ActivityContextFactory.scala:380)\n",
       "\tat com.databricks.logging.activity.ActivityContextFactory$.withServiceRequestActivity(ActivityContextFactory.scala:159)\n",
       "\tat com.databricks.rpc.JettyServer$RequestManager.handleHttp(JettyServer.scala:514)\n",
       "\tat com.databricks.rpc.JettyServer$RequestManager.doPost(JettyServer.scala:404)\n",
       "\tat javax.servlet.http.HttpServlet.service(HttpServlet.java:665)\n",
       "\tat com.databricks.rpc.HttpServletWithPatch.service(HttpServletWithPatch.scala:33)\n",
       "\tat javax.servlet.http.HttpServlet.service(HttpServlet.java:750)\n",
       "\tat org.eclipse.jetty.servlet.ServletHolder.handle(ServletHolder.java:799)\n",
       "\tat org.eclipse.jetty.servlet.ServletHandler.doHandle(ServletHandler.java:554)\n",
       "\tat org.eclipse.jetty.server.handler.ScopedHandler.nextScope(ScopedHandler.java:190)\n",
       "\tat org.eclipse.jetty.servlet.ServletHandler.doScope(ServletHandler.java:505)\n",
       "\tat org.eclipse.jetty.server.handler.ScopedHandler.handle(ScopedHandler.java:141)\n",
       "\tat org.eclipse.jetty.server.handler.HandlerWrapper.handle(HandlerWrapper.java:127)\n",
       "\tat org.eclipse.jetty.server.Server.handle(Server.java:516)\n",
       "\tat org.eclipse.jetty.server.HttpChannel.lambda$handle$1(HttpChannel.java:487)\n",
       "\tat org.eclipse.jetty.server.HttpChannel.dispatch(HttpChannel.java:732)\n",
       "\tat org.eclipse.jetty.server.HttpChannel.handle(HttpChannel.java:479)\n",
       "\tat org.eclipse.jetty.server.HttpConnection.onFillable(HttpConnection.java:277)\n",
       "\tat org.eclipse.jetty.io.AbstractConnection$ReadCallback.succeeded(AbstractConnection.java:311)\n",
       "\tat org.eclipse.jetty.io.FillInterest.fillable(FillInterest.java:105)\n",
       "\tat org.eclipse.jetty.io.ssl.SslConnection$DecryptedEndPoint.onFillable(SslConnection.java:555)\n",
       "\tat org.eclipse.jetty.io.ssl.SslConnection.onFillable(SslConnection.java:410)\n",
       "\tat org.eclipse.jetty.io.ssl.SslConnection$2.succeeded(SslConnection.java:164)\n",
       "\tat org.eclipse.jetty.io.FillInterest.fillable(FillInterest.java:105)\n",
       "\tat org.eclipse.jetty.io.ChannelEndPoint$1.run(ChannelEndPoint.java:104)\n",
       "\tat org.eclipse.jetty.util.thread.strategy.EatWhatYouKill.runTask(EatWhatYouKill.java:338)\n",
       "\tat org.eclipse.jetty.util.thread.strategy.EatWhatYouKill.doProduce(EatWhatYouKill.java:315)\n",
       "\tat org.eclipse.jetty.util.thread.strategy.EatWhatYouKill.tryProduce(EatWhatYouKill.java:173)\n",
       "\tat org.eclipse.jetty.util.thread.strategy.EatWhatYouKill.run(EatWhatYouKill.java:131)\n",
       "\tat org.eclipse.jetty.util.thread.ReservedThreadExecutor$ReservedThread.run(ReservedThreadExecutor.java:409)\n",
       "\tat com.databricks.rpc.InstrumentedQueuedThreadPool$$anon$1.$anonfun$run$4(InstrumentedQueuedThreadPool.scala:104)\n",
       "\tat scala.runtime.java8.JFunction0$mcV$sp.apply(JFunction0$mcV$sp.java:23)\n",
       "\tat com.databricks.logging.UsageLogging.withAttributionContext(UsageLogging.scala:420)\n",
       "\tat com.databricks.logging.UsageLogging.withAttributionContext$(UsageLogging.scala:418)\n",
       "\tat com.databricks.rpc.InstrumentedQueuedThreadPool.withAttributionContext(InstrumentedQueuedThreadPool.scala:47)\n",
       "\tat com.databricks.rpc.InstrumentedQueuedThreadPool$$anon$1.$anonfun$run$1(InstrumentedQueuedThreadPool.scala:104)\n",
       "\tat scala.runtime.java8.JFunction0$mcV$sp.apply(JFunction0$mcV$sp.java:23)\n",
       "\tat com.databricks.instrumentation.QueuedThreadPoolInstrumenter.trackActiveThreads(QueuedThreadPoolInstrumenter.scala:66)\n",
       "\tat com.databricks.instrumentation.QueuedThreadPoolInstrumenter.trackActiveThreads$(QueuedThreadPoolInstrumenter.scala:63)\n",
       "\tat com.databricks.rpc.InstrumentedQueuedThreadPool.trackActiveThreads(InstrumentedQueuedThreadPool.scala:47)\n",
       "\tat com.databricks.rpc.InstrumentedQueuedThreadPool$$anon$1.run(InstrumentedQueuedThreadPool.scala:86)\n",
       "\tat org.eclipse.jetty.util.thread.QueuedThreadPool.runJob(QueuedThreadPool.java:883)\n",
       "\tat org.eclipse.jetty.util.thread.QueuedThreadPool$Runner.run(QueuedThreadPool.java:1034)\n",
       "\tat java.lang.Thread.run(Thread.java:750)"
      ]
     },
     "metadata": {
      "application/vnd.databricks.v1+output": {
       "addedWidgets": {},
       "arguments": {},
       "datasetInfos": [],
       "jupyterProps": null,
       "metadata": {
        "errorSummary": "Cancelled"
       },
       "removedWidgets": [],
       "sqlProps": null,
       "stackFrames": [
        "com.databricks.backend.common.rpc.CommandCancelledException",
        "\tat com.databricks.spark.chauffeur.ExecContextState.cancel(ExecContextState.scala:429)",
        "\tat com.databricks.spark.chauffeur.ChauffeurState.cancelExecution(ChauffeurState.scala:1225)",
        "\tat com.databricks.spark.chauffeur.ChauffeurState.$anonfun$process$1(ChauffeurState.scala:958)",
        "\tat com.databricks.logging.UsageLogging.$anonfun$recordOperation$1(UsageLogging.scala:573)",
        "\tat com.databricks.logging.UsageLogging.executeThunkAndCaptureResultTags$1(UsageLogging.scala:669)",
        "\tat com.databricks.logging.UsageLogging.$anonfun$recordOperationWithResultTags$4(UsageLogging.scala:687)",
        "\tat com.databricks.logging.UsageLogging.$anonfun$withAttributionContext$1(UsageLogging.scala:426)",
        "\tat scala.util.DynamicVariable.withValue(DynamicVariable.scala:62)",
        "\tat com.databricks.logging.AttributionContext$.withValue(AttributionContext.scala:216)",
        "\tat com.databricks.logging.UsageLogging.withAttributionContext(UsageLogging.scala:424)",
        "\tat com.databricks.logging.UsageLogging.withAttributionContext$(UsageLogging.scala:418)",
        "\tat com.databricks.spark.chauffeur.ChauffeurState.withAttributionContext(ChauffeurState.scala:67)",
        "\tat com.databricks.logging.UsageLogging.withAttributionTags(UsageLogging.scala:472)",
        "\tat com.databricks.logging.UsageLogging.withAttributionTags$(UsageLogging.scala:455)",
        "\tat com.databricks.spark.chauffeur.ChauffeurState.withAttributionTags(ChauffeurState.scala:67)",
        "\tat com.databricks.logging.UsageLogging.recordOperationWithResultTags(UsageLogging.scala:664)",
        "\tat com.databricks.logging.UsageLogging.recordOperationWithResultTags$(UsageLogging.scala:582)",
        "\tat com.databricks.spark.chauffeur.ChauffeurState.recordOperationWithResultTags(ChauffeurState.scala:67)",
        "\tat com.databricks.logging.UsageLogging.recordOperation(UsageLogging.scala:573)",
        "\tat com.databricks.logging.UsageLogging.recordOperation$(UsageLogging.scala:542)",
        "\tat com.databricks.spark.chauffeur.ChauffeurState.recordOperation(ChauffeurState.scala:67)",
        "\tat com.databricks.spark.chauffeur.ChauffeurState.process(ChauffeurState.scala:915)",
        "\tat com.databricks.spark.chauffeur.Chauffeur$$anon$1$$anonfun$receive$1.handleDriverRequest$1(Chauffeur.scala:672)",
        "\tat com.databricks.spark.chauffeur.Chauffeur$$anon$1$$anonfun$receive$1.$anonfun$applyOrElse$4(Chauffeur.scala:696)",
        "\tat com.databricks.logging.UsageLogging.executeThunkAndCaptureResultTags$1(UsageLogging.scala:669)",
        "\tat com.databricks.logging.UsageLogging.$anonfun$recordOperationWithResultTags$4(UsageLogging.scala:687)",
        "\tat com.databricks.logging.UsageLogging.$anonfun$withAttributionContext$1(UsageLogging.scala:426)",
        "\tat scala.util.DynamicVariable.withValue(DynamicVariable.scala:62)",
        "\tat com.databricks.logging.AttributionContext$.withValue(AttributionContext.scala:216)",
        "\tat com.databricks.logging.UsageLogging.withAttributionContext(UsageLogging.scala:424)",
        "\tat com.databricks.logging.UsageLogging.withAttributionContext$(UsageLogging.scala:418)",
        "\tat com.databricks.rpc.ServerBackend.withAttributionContext(ServerBackend.scala:22)",
        "\tat com.databricks.logging.UsageLogging.withAttributionTags(UsageLogging.scala:472)",
        "\tat com.databricks.logging.UsageLogging.withAttributionTags$(UsageLogging.scala:455)",
        "\tat com.databricks.rpc.ServerBackend.withAttributionTags(ServerBackend.scala:22)",
        "\tat com.databricks.logging.UsageLogging.recordOperationWithResultTags(UsageLogging.scala:664)",
        "\tat com.databricks.logging.UsageLogging.recordOperationWithResultTags$(UsageLogging.scala:582)",
        "\tat com.databricks.rpc.ServerBackend.recordOperationWithResultTags(ServerBackend.scala:22)",
        "\tat com.databricks.spark.chauffeur.Chauffeur$$anon$1$$anonfun$receive$1.handleDriverRequestWithUsageLogging$1(Chauffeur.scala:696)",
        "\tat com.databricks.spark.chauffeur.Chauffeur$$anon$1$$anonfun$receive$1.applyOrElse(Chauffeur.scala:749)",
        "\tat com.databricks.spark.chauffeur.Chauffeur$$anon$1$$anonfun$receive$1.applyOrElse(Chauffeur.scala:554)",
        "\tat com.databricks.rpc.ServerBackend.$anonfun$internalReceive0$2(ServerBackend.scala:174)",
        "\tat com.databricks.rpc.ServerBackend$$anonfun$commonReceive$1.applyOrElse(ServerBackend.scala:200)",
        "\tat com.databricks.rpc.ServerBackend$$anonfun$commonReceive$1.applyOrElse(ServerBackend.scala:200)",
        "\tat com.databricks.rpc.ServerBackend.internalReceive0(ServerBackend.scala:171)",
        "\tat com.databricks.rpc.ServerBackend.$anonfun$internalReceive$1(ServerBackend.scala:147)",
        "\tat com.databricks.logging.UsageLogging.$anonfun$recordOperation$1(UsageLogging.scala:573)",
        "\tat com.databricks.logging.UsageLogging.executeThunkAndCaptureResultTags$1(UsageLogging.scala:669)",
        "\tat com.databricks.logging.UsageLogging.$anonfun$recordOperationWithResultTags$4(UsageLogging.scala:687)",
        "\tat com.databricks.logging.UsageLogging.$anonfun$withAttributionContext$1(UsageLogging.scala:426)",
        "\tat scala.util.DynamicVariable.withValue(DynamicVariable.scala:62)",
        "\tat com.databricks.logging.AttributionContext$.withValue(AttributionContext.scala:216)",
        "\tat com.databricks.logging.UsageLogging.withAttributionContext(UsageLogging.scala:424)",
        "\tat com.databricks.logging.UsageLogging.withAttributionContext$(UsageLogging.scala:418)",
        "\tat com.databricks.rpc.ServerBackend.withAttributionContext(ServerBackend.scala:22)",
        "\tat com.databricks.logging.UsageLogging.withAttributionTags(UsageLogging.scala:472)",
        "\tat com.databricks.logging.UsageLogging.withAttributionTags$(UsageLogging.scala:455)",
        "\tat com.databricks.rpc.ServerBackend.withAttributionTags(ServerBackend.scala:22)",
        "\tat com.databricks.logging.UsageLogging.recordOperationWithResultTags(UsageLogging.scala:664)",
        "\tat com.databricks.logging.UsageLogging.recordOperationWithResultTags$(UsageLogging.scala:582)",
        "\tat com.databricks.rpc.ServerBackend.recordOperationWithResultTags(ServerBackend.scala:22)",
        "\tat com.databricks.logging.UsageLogging.recordOperation(UsageLogging.scala:573)",
        "\tat com.databricks.logging.UsageLogging.recordOperation$(UsageLogging.scala:542)",
        "\tat com.databricks.rpc.ServerBackend.recordOperation(ServerBackend.scala:22)",
        "\tat com.databricks.rpc.ServerBackend.internalReceive(ServerBackend.scala:147)",
        "\tat com.databricks.rpc.JettyServer$RequestManager.handleRPC(JettyServer.scala:1020)",
        "\tat com.databricks.rpc.JettyServer$RequestManager.handleRequestAndRespond(JettyServer.scala:941)",
        "\tat com.databricks.rpc.JettyServer$RequestManager.$anonfun$handleHttp$6(JettyServer.scala:545)",
        "\tat com.databricks.rpc.JettyServer$RequestManager.$anonfun$handleHttp$6$adapted(JettyServer.scala:514)",
        "\tat com.databricks.logging.activity.ActivityContextFactory$.$anonfun$withActivityInternal$4(ActivityContextFactory.scala:405)",
        "\tat com.databricks.logging.UsageLogging.$anonfun$withAttributionContext$1(UsageLogging.scala:426)",
        "\tat scala.util.DynamicVariable.withValue(DynamicVariable.scala:62)",
        "\tat com.databricks.logging.AttributionContext$.withValue(AttributionContext.scala:216)",
        "\tat com.databricks.logging.UsageLogging.withAttributionContext(UsageLogging.scala:424)",
        "\tat com.databricks.logging.UsageLogging.withAttributionContext$(UsageLogging.scala:418)",
        "\tat com.databricks.logging.activity.ActivityContextFactory$.withAttributionContext(ActivityContextFactory.scala:58)",
        "\tat com.databricks.logging.activity.ActivityContextFactory$.$anonfun$withActivityInternal$1(ActivityContextFactory.scala:405)",
        "\tat com.databricks.context.integrity.IntegrityCheckContext$ThreadLocalStorage$.withValue(IntegrityCheckContext.scala:44)",
        "\tat com.databricks.logging.activity.ActivityContextFactory$.withActivityInternal(ActivityContextFactory.scala:380)",
        "\tat com.databricks.logging.activity.ActivityContextFactory$.withServiceRequestActivity(ActivityContextFactory.scala:159)",
        "\tat com.databricks.rpc.JettyServer$RequestManager.handleHttp(JettyServer.scala:514)",
        "\tat com.databricks.rpc.JettyServer$RequestManager.doPost(JettyServer.scala:404)",
        "\tat javax.servlet.http.HttpServlet.service(HttpServlet.java:665)",
        "\tat com.databricks.rpc.HttpServletWithPatch.service(HttpServletWithPatch.scala:33)",
        "\tat javax.servlet.http.HttpServlet.service(HttpServlet.java:750)",
        "\tat org.eclipse.jetty.servlet.ServletHolder.handle(ServletHolder.java:799)",
        "\tat org.eclipse.jetty.servlet.ServletHandler.doHandle(ServletHandler.java:554)",
        "\tat org.eclipse.jetty.server.handler.ScopedHandler.nextScope(ScopedHandler.java:190)",
        "\tat org.eclipse.jetty.servlet.ServletHandler.doScope(ServletHandler.java:505)",
        "\tat org.eclipse.jetty.server.handler.ScopedHandler.handle(ScopedHandler.java:141)",
        "\tat org.eclipse.jetty.server.handler.HandlerWrapper.handle(HandlerWrapper.java:127)",
        "\tat org.eclipse.jetty.server.Server.handle(Server.java:516)",
        "\tat org.eclipse.jetty.server.HttpChannel.lambda$handle$1(HttpChannel.java:487)",
        "\tat org.eclipse.jetty.server.HttpChannel.dispatch(HttpChannel.java:732)",
        "\tat org.eclipse.jetty.server.HttpChannel.handle(HttpChannel.java:479)",
        "\tat org.eclipse.jetty.server.HttpConnection.onFillable(HttpConnection.java:277)",
        "\tat org.eclipse.jetty.io.AbstractConnection$ReadCallback.succeeded(AbstractConnection.java:311)",
        "\tat org.eclipse.jetty.io.FillInterest.fillable(FillInterest.java:105)",
        "\tat org.eclipse.jetty.io.ssl.SslConnection$DecryptedEndPoint.onFillable(SslConnection.java:555)",
        "\tat org.eclipse.jetty.io.ssl.SslConnection.onFillable(SslConnection.java:410)",
        "\tat org.eclipse.jetty.io.ssl.SslConnection$2.succeeded(SslConnection.java:164)",
        "\tat org.eclipse.jetty.io.FillInterest.fillable(FillInterest.java:105)",
        "\tat org.eclipse.jetty.io.ChannelEndPoint$1.run(ChannelEndPoint.java:104)",
        "\tat org.eclipse.jetty.util.thread.strategy.EatWhatYouKill.runTask(EatWhatYouKill.java:338)",
        "\tat org.eclipse.jetty.util.thread.strategy.EatWhatYouKill.doProduce(EatWhatYouKill.java:315)",
        "\tat org.eclipse.jetty.util.thread.strategy.EatWhatYouKill.tryProduce(EatWhatYouKill.java:173)",
        "\tat org.eclipse.jetty.util.thread.strategy.EatWhatYouKill.run(EatWhatYouKill.java:131)",
        "\tat org.eclipse.jetty.util.thread.ReservedThreadExecutor$ReservedThread.run(ReservedThreadExecutor.java:409)",
        "\tat com.databricks.rpc.InstrumentedQueuedThreadPool$$anon$1.$anonfun$run$4(InstrumentedQueuedThreadPool.scala:104)",
        "\tat scala.runtime.java8.JFunction0$mcV$sp.apply(JFunction0$mcV$sp.java:23)",
        "\tat com.databricks.logging.UsageLogging.withAttributionContext(UsageLogging.scala:420)",
        "\tat com.databricks.logging.UsageLogging.withAttributionContext$(UsageLogging.scala:418)",
        "\tat com.databricks.rpc.InstrumentedQueuedThreadPool.withAttributionContext(InstrumentedQueuedThreadPool.scala:47)",
        "\tat com.databricks.rpc.InstrumentedQueuedThreadPool$$anon$1.$anonfun$run$1(InstrumentedQueuedThreadPool.scala:104)",
        "\tat scala.runtime.java8.JFunction0$mcV$sp.apply(JFunction0$mcV$sp.java:23)",
        "\tat com.databricks.instrumentation.QueuedThreadPoolInstrumenter.trackActiveThreads(QueuedThreadPoolInstrumenter.scala:66)",
        "\tat com.databricks.instrumentation.QueuedThreadPoolInstrumenter.trackActiveThreads$(QueuedThreadPoolInstrumenter.scala:63)",
        "\tat com.databricks.rpc.InstrumentedQueuedThreadPool.trackActiveThreads(InstrumentedQueuedThreadPool.scala:47)",
        "\tat com.databricks.rpc.InstrumentedQueuedThreadPool$$anon$1.run(InstrumentedQueuedThreadPool.scala:86)",
        "\tat org.eclipse.jetty.util.thread.QueuedThreadPool.runJob(QueuedThreadPool.java:883)",
        "\tat org.eclipse.jetty.util.thread.QueuedThreadPool$Runner.run(QueuedThreadPool.java:1034)",
        "\tat java.lang.Thread.run(Thread.java:750)"
       ],
       "type": "baseError"
      }
     },
     "output_type": "display_data"
    }
   ],
   "source": [
    "from pyspark.ml.classification import LinearSVC\n",
    "\n",
    "# Load training data\n",
    "\n",
    "transformed_train_quarter_selected, transformed_pipeline_quarter_selected = create_pipeline_w_feature_select(train_quarter)\n",
    "transformed_test_quarter_selected = transformed_pipeline_quarter_selected.transform(test_quarter)\n",
    "\n",
    "def createSVModel(df, iterations= 10):\n",
    "    '''\n",
    "    takes the traindf and produces a logistic regression model\n",
    "    '''\n",
    "    lr = LinearSVC(featuresCol = 'final_features' , labelCol = 'DEP_DEL15', maxIter=iterations)\n",
    "    lrModel = lr.fit(df)\n",
    "\n",
    "    # Print the coefficients and intercept for logistic regression\n",
    "    print(\"Coefficients: \" + str(lrModel.coefficients))\n",
    "    print(\"Intercept: \" + str(lrModel.intercept))\n",
    "\n",
    "    return lrModel\n",
    "\n",
    "print(\"3 Month Data\")\n",
    "train_quarter_balance_svmodel = createSVModel(transformed_train_quarter)"
   ]
  },
  {
   "cell_type": "code",
   "execution_count": 0,
   "metadata": {
    "application/vnd.databricks.v1+cell": {
     "cellMetadata": {
      "byteLimit": 2048000,
      "rowLimit": 10000
     },
     "inputWidgets": {},
     "nuid": "8386176e-c5bc-42e4-ae10-047bbc1f9ac5",
     "showTitle": false,
     "title": ""
    }
   },
   "outputs": [
    {
     "output_type": "display_data",
     "data": {
      "text/plain": [
       "<bound method LinearSVCModel.summary of LinearSVCModel: uid=LinearSVC_63ee85efe9a5, numClasses=2, numFeatures=1039>"
      ]
     },
     "metadata": {},
     "output_type": "display_data"
    }
   ],
   "source": [
    "svmtrainingSummary_balance = train_quarter_balance_svmodel.summary\n",
    "display(svmtrainingSummary_balance)"
   ]
  },
  {
   "cell_type": "code",
   "execution_count": 0,
   "metadata": {
    "application/vnd.databricks.v1+cell": {
     "cellMetadata": {
      "byteLimit": 2048000,
      "rowLimit": 10000
     },
     "inputWidgets": {},
     "nuid": "972544bd-3104-43e2-af2c-2be282b3a00d",
     "showTitle": false,
     "title": ""
    }
   },
   "outputs": [
    {
     "output_type": "stream",
     "name": "stderr",
     "output_type": "stream",
     "text": [
      "/databricks/spark/python/pyspark/sql/context.py:165: FutureWarning:\n\nDeprecated in 3.0.0. Use SparkSession.builder.getOrCreate() instead.\n\n"
     ]
    },
    {
     "output_type": "stream",
     "name": "stdout",
     "output_type": "stream",
     "text": [
      "3 Month Data with Feature Selection Cross Validation Train Results\nAccuracy: 0.6348\nPrecision: 0.6371\nRecall: 0.6249\nF-1: 0.6310\nF-1 Beta: 0.6310\n"
     ]
    }
   ],
   "source": [
    "#SVM training and results\n",
    "\n",
    "svm_train_predictions_balance = train_quarter_balance_svmodel.transform(transformed_train_quarter)\n",
    "\n",
    "svm_acc, svm_pre, svm_recall, svm_f1, svm_f1_b = evaluate_model(svm_train_predictions_balance, 1.0)\n",
    "\n",
    "print(\"3 Month Data with Feature Selection Cross Validation Train Results\")\n",
    "print(f\"Accuracy: {svm_acc:.4f}\")\n",
    "print(f\"Precision: {svm_pre:.4f}\")\n",
    "print(f\"Recall: {svm_recall:.4f}\")\n",
    "print(f\"F-1: {svm_f1:.4f}\")\n",
    "print(f\"F-1 Beta: {svm_f1_b:.4f}\")"
   ]
  },
  {
   "cell_type": "code",
   "execution_count": 0,
   "metadata": {
    "application/vnd.databricks.v1+cell": {
     "cellMetadata": {
      "byteLimit": 2048000,
      "rowLimit": 10000
     },
     "inputWidgets": {},
     "nuid": "1c5a4249-bd1d-4feb-b037-9550d7a21b30",
     "showTitle": false,
     "title": ""
    }
   },
   "outputs": [
    {
     "output_type": "stream",
     "name": "stdout",
     "output_type": "stream",
     "text": [
      "3 Month Data with Feature Selection SVM Test Results\nPrecision: 0.2989\nRecall: 0.4544\nF-1: 0.3606\nF-1 Beta: 0.3606\n"
     ]
    }
   ],
   "source": [
    "#SVM testing and results\n",
    "\n",
    "svm_train_predictions_balance = train_quarter_balance_svmodel.transform(transformed_test_quarter)\n",
    "\n",
    "svm_acc, svm_pre, svm_recall, svm_f1, svm_f1_b = evaluate_model(svm_train_predictions_balance, 1.0)\n",
    "\n",
    "print(\"3 Month Data with Feature Selection SVM Test Results\")\n",
    "#print(f\"Accuracy: {svm_acc:.4f}\")\n",
    "print(f\"Precision: {svm_pre:.4f}\")\n",
    "print(f\"Recall: {svm_recall:.4f}\")\n",
    "print(f\"F-1: {svm_f1:.4f}\")\n",
    "print(f\"F-1 Beta: {svm_f1_b:.4f}\")"
   ]
  },
  {
   "cell_type": "markdown",
   "metadata": {
    "application/vnd.databricks.v1+cell": {
     "cellMetadata": {},
     "inputWidgets": {},
     "nuid": "a0cc5812-20de-4faa-a554-476e3c6ae495",
     "showTitle": false,
     "title": ""
    }
   },
   "source": []
  },
  {
   "cell_type": "markdown",
   "metadata": {
    "application/vnd.databricks.v1+cell": {
     "cellMetadata": {},
     "inputWidgets": {},
     "nuid": "0ecb2012-1c32-4fce-ac62-288d78f2659d",
     "showTitle": false,
     "title": ""
    }
   },
   "source": [
    "#More Advanced Model Testing (Multilayer Perceptron)"
   ]
  },
  {
   "cell_type": "code",
   "execution_count": 0,
   "metadata": {
    "application/vnd.databricks.v1+cell": {
     "cellMetadata": {
      "byteLimit": 2048000,
      "rowLimit": 10000
     },
     "inputWidgets": {},
     "nuid": "e9faafe6-cb3d-4a99-b1fe-0a99a7b8a71c",
     "showTitle": false,
     "title": ""
    }
   },
   "outputs": [],
   "source": [
    "#variables reference for model runs\n",
    "#transformed_test_quarter_selected is BALANCED, 3 MOS, WITH FEATURE SELECTION\n",
    "\n",
    "from pyspark.ml.classification import MultilayerPerceptronClassifier\n",
    "from pyspark.ml.evaluation import BinaryClassificationEvaluator\n",
    "from pyspark.sql.types import IntegerType \n",
    "\n",
    "def trainMLPModel(df, iterations= 10):\n",
    "    '''\n",
    "    takes the traindf and produces a multilayered perceptron model\n",
    "    '''\n",
    "    feature_len = len(df.select('final_features').limit(1).collect()[0][0])\n",
    "    print(\"feature length: \" + str(feature_len))\n",
    "\n",
    "    layers = [feature_len, 14, 20, 14, 2]\n",
    "    mlp = MultilayerPerceptronClassifier(featuresCol = 'final_features' , labelCol = 'DEP_DEL15', maxIter=100, layers=layers, seed=1234)\n",
    "    mlpModel = mlp.fit(df)\n",
    "\n",
    "    return mlpModel"
   ]
  },
  {
   "cell_type": "markdown",
   "metadata": {
    "application/vnd.databricks.v1+cell": {
     "cellMetadata": {},
     "inputWidgets": {},
     "nuid": "a6aae550-2791-476b-86c1-10ae4f5e59e6",
     "showTitle": false,
     "title": ""
    }
   },
   "source": [
    "###3 Month"
   ]
  },
  {
   "cell_type": "code",
   "execution_count": 0,
   "metadata": {
    "application/vnd.databricks.v1+cell": {
     "cellMetadata": {
      "byteLimit": 2048000,
      "rowLimit": 10000
     },
     "inputWidgets": {},
     "nuid": "e9ae1b27-26bb-4a6a-af49-c0df11cccd65",
     "showTitle": false,
     "title": ""
    }
   },
   "outputs": [
    {
     "output_type": "stream",
     "name": "stderr",
     "output_type": "stream",
     "text": [
      "/databricks/spark/python/pyspark/sql/context.py:165: FutureWarning: Deprecated in 3.0.0. Use SparkSession.builder.getOrCreate() instead.\n  warnings.warn(\n"
     ]
    },
    {
     "output_type": "stream",
     "name": "stdout",
     "output_type": "stream",
     "text": [
      "3 Month Data Train Results\nPrecision: 0.6553\nRecall: 0.6206\nF-1: 0.6375\nF-1 Beta: 0.6375\n"
     ]
    }
   ],
   "source": [
    "print(\"MLP 3 Month Data\")\n",
    "train_quarter_balance_mlpmodel = trainMLPModel(transformed_train_quarter_selected)\n",
    "\n",
    "train_result = train_quarter_balance_mlpmodel.transform(transformed_train_quarter_selected)\n",
    "\n",
    "balance_acc, balance_pre, balance_recall, balance_f1, balance_f1_b = evaluate_model(train_result, 1.0)\n",
    "\n",
    "print(\"3 Month Data Train Results\")\n",
    "#print(f\"Accuracy: {balance_acc:.4f}\")\n",
    "print(f\"Precision: {balance_pre:.4f}\")\n",
    "print(f\"Recall: {balance_recall:.4f}\")\n",
    "print(f\"F-1: {balance_f1:.4f}\")\n",
    "print(f\"F-1 Beta: {balance_f1_b:.4f}\")"
   ]
  },
  {
   "cell_type": "code",
   "execution_count": 0,
   "metadata": {
    "application/vnd.databricks.v1+cell": {
     "cellMetadata": {
      "byteLimit": 2048000,
      "rowLimit": 10000
     },
     "inputWidgets": {},
     "nuid": "89288aee-4b16-4d89-97e3-73ddcf974197",
     "showTitle": false,
     "title": ""
    }
   },
   "outputs": [
    {
     "output_type": "stream",
     "name": "stdout",
     "output_type": "stream",
     "text": [
      "3 Month Data Test Results\nPrecision: 0.2884\nRecall: 0.5419\nF-1: 0.3765\nF-1 Beta: 0.3765\n"
     ]
    }
   ],
   "source": [
    "test_result = train_quarter_balance_mlpmodel.transform(transformed_test_quarter_selected)\n",
    "\n",
    "balance_acc, balance_pre, balance_recall, balance_f1, balance_f1_b = evaluate_model(test_result, 1.0)\n",
    "\n",
    "print(\"3 Month Data Test Results\")\n",
    "#print(f\"Accuracy: {balance_acc:.4f}\")\n",
    "print(f\"Precision: {balance_pre:.4f}\")\n",
    "print(f\"Recall: {balance_recall:.4f}\")\n",
    "print(f\"F-1: {balance_f1:.4f}\")\n",
    "print(f\"F-1 Beta: {balance_f1_b:.4f}\")"
   ]
  },
  {
   "cell_type": "code",
   "execution_count": 0,
   "metadata": {
    "application/vnd.databricks.v1+cell": {
     "cellMetadata": {
      "byteLimit": 2048000,
      "rowLimit": 10000
     },
     "inputWidgets": {},
     "nuid": "87ffff63-c9e7-42be-9088-54e4da93a0ff",
     "showTitle": false,
     "title": ""
    }
   },
   "outputs": [
    {
     "output_type": "stream",
     "name": "stdout",
     "output_type": "stream",
     "text": [
      "Train f1 = 0.6456604313862144\nTest f1 = 0.6741053176051017\nTrain weightedPrecision = 0.646046588823221\nTest weightedPrecision = 0.740978667797093\nTrain weightedRecall = 0.6458007303077725\nTest weightedRecall = 0.6410993328751623\nTrain accuracy = 0.6458007303077725\nTest accuracy = 0.6410993328751623\n"
     ]
    }
   ],
   "source": [
    "from pyspark.ml.evaluation import MulticlassClassificationEvaluator\n",
    "\n",
    "metrics = ['f1', 'weightedPrecision', 'weightedRecall', 'accuracy']\n",
    "\n",
    "for metric in metrics:\n",
    "        evaluator = MulticlassClassificationEvaluator(labelCol = 'DEP_DEL15', predictionCol = 'prediction', metricName = metric, beta = 1.0)\n",
    "        print('Train ' + metric + ' = ' + str(evaluator.evaluate(train_result)))\n",
    "        print('Test ' + metric + ' = ' + str(evaluator.evaluate(test_result)))"
   ]
  },
  {
   "cell_type": "markdown",
   "metadata": {
    "application/vnd.databricks.v1+cell": {
     "cellMetadata": {},
     "inputWidgets": {},
     "nuid": "b34489cf-69be-4c4f-be10-3b3f8997ff84",
     "showTitle": false,
     "title": ""
    }
   },
   "source": [
    "###1 Year"
   ]
  },
  {
   "cell_type": "code",
   "execution_count": 0,
   "metadata": {
    "application/vnd.databricks.v1+cell": {
     "cellMetadata": {
      "byteLimit": 2048000,
      "rowLimit": 10000
     },
     "inputWidgets": {},
     "nuid": "f4920c10-88ca-4ef3-980e-6fd02eb5a9f4",
     "showTitle": false,
     "title": ""
    }
   },
   "outputs": [
    {
     "output_type": "display_data",
     "data": {
      "application/vnd.jupyter.widget-view+json": {
       "model_id": "953313bbf59942dd81b60631d549bd12",
       "version_major": 2,
       "version_minor": 0
      },
      "text/plain": [
       "Downloading artifacts:   0%|          | 0/139 [00:00<?, ?it/s]"
      ]
     },
     "metadata": {},
     "output_type": "display_data"
    },
    {
     "output_type": "display_data",
     "data": {
      "application/vnd.jupyter.widget-view+json": {
       "model_id": "9128f288ce60454e896d2c939f185dda",
       "version_major": 2,
       "version_minor": 0
      },
      "text/plain": [
       "Uploading artifacts:   0%|          | 0/4 [00:00<?, ?it/s]"
      ]
     },
     "metadata": {},
     "output_type": "display_data"
    }
   ],
   "source": [
    "transformed_train_1yr_selected, transformed_pipeline_1yr_selected = create_pipeline_w_feature_select(train_1yr)\n",
    "transformed_test_1yr_selected = transformed_pipeline_1yr_selected.transform(test_1yr)\n",
    "\n",
    "transformed_train_1yr_selected = transformed_train_1yr_selected.select(*keep_list)\n",
    "transformed_test_1yr_selected = transformed_test_1yr_selected.select(*keep_list)"
   ]
  },
  {
   "cell_type": "code",
   "execution_count": 0,
   "metadata": {
    "application/vnd.databricks.v1+cell": {
     "cellMetadata": {
      "byteLimit": 2048000,
      "rowLimit": 10000
     },
     "inputWidgets": {},
     "nuid": "7f53ab20-4291-42e5-b103-ba439482e2d6",
     "showTitle": false,
     "title": ""
    }
   },
   "outputs": [
    {
     "output_type": "stream",
     "name": "stderr",
     "output_type": "stream",
     "text": [
      "/databricks/spark/python/pyspark/sql/context.py:165: FutureWarning: Deprecated in 3.0.0. Use SparkSession.builder.getOrCreate() instead.\n  warnings.warn(\n"
     ]
    },
    {
     "output_type": "stream",
     "name": "stdout",
     "output_type": "stream",
     "text": [
      "1 Year Data Train Results\nPrecision: 0.6337\nRecall: 0.6217\nF-1: 0.6276\nF-1 Beta: 0.6276\n"
     ]
    }
   ],
   "source": [
    "print(\"MLP 1 Year Data\")\n",
    "train_1yr_balance_mlpmodel = trainMLPModel(transformed_train_1yr_selected)\n",
    "\n",
    "train_1yr_result = train_1yr_balance_mlpmodel.transform(transformed_train_1yr_selected)\n",
    "\n",
    "balance_acc, balance_pre, balance_recall, balance_f1, balance_f1_b = evaluate_model(train_1yr_result, 1.0)\n",
    "\n",
    "print(\"1 Year Data Train Results\")\n",
    "#print(f\"Accuracy: {balance_acc:.4f}\")\n",
    "print(f\"Precision: {balance_pre:.4f}\")\n",
    "print(f\"Recall: {balance_recall:.4f}\")\n",
    "print(f\"F-1: {balance_f1:.4f}\")\n",
    "print(f\"F-1 Beta: {balance_f1_b:.4f}\")"
   ]
  },
  {
   "cell_type": "code",
   "execution_count": 0,
   "metadata": {
    "application/vnd.databricks.v1+cell": {
     "cellMetadata": {
      "byteLimit": 2048000,
      "rowLimit": 10000
     },
     "inputWidgets": {},
     "nuid": "d27918ac-31ae-4261-a6d1-0b3487ea2d9c",
     "showTitle": false,
     "title": ""
    }
   },
   "outputs": [
    {
     "output_type": "stream",
     "name": "stdout",
     "output_type": "stream",
     "text": [
      "1 Year Data Test Results\nPrecision: 0.2243\nRecall: 0.5865\nF-1: 0.3245\nF-1 Beta: 0.3245\n"
     ]
    }
   ],
   "source": [
    "test_1yr_result = train_1yr_balance_mlpmodel.transform(transformed_test_1yr_selected)\n",
    "\n",
    "balance_acc, balance_pre, balance_recall, balance_f1, balance_f1_b = evaluate_model(test_1yr_result, 1.0)\n",
    "\n",
    "print(\"1 Year Data Test Results\")\n",
    "#print(f\"Accuracy: {balance_acc:.4f}\")\n",
    "print(f\"Precision: {balance_pre:.4f}\")\n",
    "print(f\"Recall: {balance_recall:.4f}\")\n",
    "print(f\"F-1: {balance_f1:.4f}\")\n",
    "print(f\"F-1 Beta: {balance_f1_b:.4f}\")"
   ]
  },
  {
   "cell_type": "code",
   "execution_count": 0,
   "metadata": {
    "application/vnd.databricks.v1+cell": {
     "cellMetadata": {
      "byteLimit": 2048000,
      "rowLimit": 10000
     },
     "inputWidgets": {},
     "nuid": "b64a78af-dbfb-4afd-bd6d-ed499f992acd",
     "showTitle": false,
     "title": ""
    }
   },
   "outputs": [
    {
     "output_type": "stream",
     "name": "stdout",
     "output_type": "stream",
     "text": [
      "1 Year Data Results\nTrain f1 = 0.6306081878998775\nTest f1 = 0.6652447096436592\nTrain weightedPrecision = 0.6306931654036256\nTest weightedPrecision = 0.7832152911173159\nTrain weightedRecall = 0.6306366801100354\nTest weightedRecall = 0.6135191760027099\nTrain accuracy = 0.6306366801100355\nTest accuracy = 0.6135191760027099\n"
     ]
    }
   ],
   "source": [
    "print(\"1 Year Data Results\")\n",
    "for metric in metrics:\n",
    "    evaluator = MulticlassClassificationEvaluator(labelCol = 'DEP_DEL15', predictionCol = 'prediction', metricName = metric, beta = 1.0)\n",
    "    print('Train ' + metric + ' = ' + str(evaluator.evaluate(train_1yr_result)))\n",
    "    print('Test ' + metric + ' = ' + str(evaluator.evaluate(test_1yr_result)))"
   ]
  },
  {
   "cell_type": "markdown",
   "metadata": {
    "application/vnd.databricks.v1+cell": {
     "cellMetadata": {},
     "inputWidgets": {},
     "nuid": "bd1f5763-ae9e-4e96-89c3-11267b38b2ba",
     "showTitle": false,
     "title": ""
    }
   },
   "source": [
    "###3 Years"
   ]
  },
  {
   "cell_type": "code",
   "execution_count": 0,
   "metadata": {
    "application/vnd.databricks.v1+cell": {
     "cellMetadata": {
      "byteLimit": 2048000,
      "rowLimit": 10000
     },
     "inputWidgets": {},
     "nuid": "0f63f7ac-0a9d-4cf0-b2bc-fef35e2b53c2",
     "showTitle": false,
     "title": ""
    }
   },
   "outputs": [
    {
     "output_type": "stream",
     "name": "stderr",
     "output_type": "stream",
     "text": [
      "WARNING:urllib3.connectionpool:Retrying (JitteredRetry(total=4, connect=5, read=4, redirect=5, status=5)) after connection broken by 'ProtocolError('Connection aborted.', RemoteDisconnected('Remote end closed connection without response'))': /api/2.0/mlflow/runs/get?run_uuid=762dde38002f4f51a33a972c17518c9b&run_id=762dde38002f4f51a33a972c17518c9b\n"
     ]
    },
    {
     "output_type": "display_data",
     "data": {
      "application/vnd.jupyter.widget-view+json": {
       "model_id": "42775092861c4eddbb05618ad3776c1d",
       "version_major": 2,
       "version_minor": 0
      },
      "text/plain": [
       "Downloading artifacts:   0%|          | 0/139 [00:00<?, ?it/s]"
      ]
     },
     "metadata": {},
     "output_type": "display_data"
    },
    {
     "output_type": "display_data",
     "data": {
      "application/vnd.jupyter.widget-view+json": {
       "model_id": "5052798c212a4f0587f212dc3dace07a",
       "version_major": 2,
       "version_minor": 0
      },
      "text/plain": [
       "Uploading artifacts:   0%|          | 0/4 [00:00<?, ?it/s]"
      ]
     },
     "metadata": {},
     "output_type": "display_data"
    }
   ],
   "source": [
    "transformed_train_3yr_selected, transformed_pipeline_3yr_selected = create_pipeline_w_feature_select(train_3yr)\n",
    "transformed_test_3yr_selected = transformed_pipeline_3yr_selected.transform(test_3yr)\n",
    "\n",
    "transformed_train_3yr_selected = transformed_train_3yr_selected.select(*keep_list)\n",
    "transformed_test_3yr_selected = transformed_test_3yr_selected.select(*keep_list)"
   ]
  },
  {
   "cell_type": "code",
   "execution_count": 0,
   "metadata": {
    "application/vnd.databricks.v1+cell": {
     "cellMetadata": {
      "byteLimit": 2048000,
      "rowLimit": 10000
     },
     "inputWidgets": {},
     "nuid": "85fcd632-66c2-4aa1-adff-3e7832592b25",
     "showTitle": false,
     "title": ""
    }
   },
   "outputs": [
    {
     "output_type": "stream",
     "name": "stderr",
     "output_type": "stream",
     "text": [
      "/databricks/spark/python/pyspark/sql/context.py:165: FutureWarning: Deprecated in 3.0.0. Use SparkSession.builder.getOrCreate() instead.\n  warnings.warn(\n"
     ]
    },
    {
     "output_type": "stream",
     "name": "stdout",
     "output_type": "stream",
     "text": [
      "3 Years Data Train Results\nPrecision: 0.6350\nRecall: 0.6047\nF-1: 0.6195\nF-1 Beta: 0.6195\n"
     ]
    }
   ],
   "source": [
    "#TRAIN\n",
    "print(\"MLP 3 Years Data\")\n",
    "train_3yr_balance_mlpmodel = trainMLPModel(transformed_train_3yr_selected)\n",
    "\n",
    "train_3yr_result = train_3yr_balance_mlpmodel.transform(transformed_train_3yr_selected)\n",
    "\n",
    "balance_acc, balance_pre, balance_recall, balance_f1, balance_f1_b = evaluate_model(train_3yr_result, 1.0)\n",
    "\n",
    "print(\"3 Years Data Train Results\")\n",
    "#print(f\"Accuracy: {balance_acc:.4f}\")\n",
    "print(f\"Precision: {balance_pre:.4f}\")\n",
    "print(f\"Recall: {balance_recall:.4f}\")\n",
    "print(f\"F-1: {balance_f1:.4f}\")\n",
    "print(f\"F-1 Beta: {balance_f1_b:.4f}\")"
   ]
  },
  {
   "cell_type": "code",
   "execution_count": 0,
   "metadata": {
    "application/vnd.databricks.v1+cell": {
     "cellMetadata": {
      "byteLimit": 2048000,
      "rowLimit": 10000
     },
     "inputWidgets": {},
     "nuid": "50bd9911-4406-45e9-9db0-5d5f7fff7950",
     "showTitle": false,
     "title": ""
    }
   },
   "outputs": [
    {
     "output_type": "stream",
     "name": "stdout",
     "output_type": "stream",
     "text": [
      "3 Years Data Test Results\nPrecision: 0.2739\nRecall: 0.5896\nF-1: 0.3740\nF-1 Beta: 0.3740\n"
     ]
    }
   ],
   "source": [
    "#TEST\n",
    "test_3yr_result = train_3yr_balance_mlpmodel.transform(transformed_test_3yr_selected)\n",
    "\n",
    "balance_acc, balance_pre, balance_recall, balance_f1, balance_f1_b = evaluate_model(test_3yr_result, 1.0)\n",
    "\n",
    "print(\"3 Years Data Test Results\")\n",
    "#print(f\"Accuracy: {balance_acc:.4f}\")\n",
    "print(f\"Precision: {balance_pre:.4f}\")\n",
    "print(f\"Recall: {balance_recall:.4f}\")\n",
    "print(f\"F-1: {balance_f1:.4f}\")\n",
    "print(f\"F-1 Beta: {balance_f1_b:.4f}\")"
   ]
  },
  {
   "cell_type": "code",
   "execution_count": 0,
   "metadata": {
    "application/vnd.databricks.v1+cell": {
     "cellMetadata": {
      "byteLimit": 2048000,
      "rowLimit": 10000
     },
     "inputWidgets": {},
     "nuid": "b7d54fa5-97ee-4f24-909a-a3840e1e41cf",
     "showTitle": false,
     "title": ""
    }
   },
   "outputs": [
    {
     "output_type": "stream",
     "name": "stdout",
     "output_type": "stream",
     "text": [
      "3 Years Data Results\nTrain f1 = 0.6285544762620634\nTest f1 = 0.6793489792656717\nTrain weightedPrecision = 0.6290566646168612\nTest weightedPrecision = 0.7668621243124075\nTrain weightedRecall = 0.6287715776694722\nTest weightedRecall = 0.6400912189284763\nTrain accuracy = 0.6287715776694723\nTest accuracy = 0.6400912189284763\n"
     ]
    }
   ],
   "source": [
    "print(\"3 Years Data Results\")\n",
    "for metric in metrics:\n",
    "    evaluator = MulticlassClassificationEvaluator(labelCol = 'DEP_DEL15', predictionCol = 'prediction', metricName = metric, beta = 1.0)\n",
    "    print('Train ' + metric + ' = ' + str(evaluator.evaluate(train_3yr_result)))\n",
    "    print('Test ' + metric + ' = ' + str(evaluator.evaluate(test_3yr_result)))"
   ]
  },
  {
   "cell_type": "markdown",
   "metadata": {
    "application/vnd.databricks.v1+cell": {
     "cellMetadata": {},
     "inputWidgets": {},
     "nuid": "57d38dba-13ba-4dd9-8bfd-ed83e136e59d",
     "showTitle": false,
     "title": ""
    }
   },
   "source": [
    "###5 Years"
   ]
  },
  {
   "cell_type": "code",
   "execution_count": 0,
   "metadata": {
    "application/vnd.databricks.v1+cell": {
     "cellMetadata": {
      "byteLimit": 2048000,
      "rowLimit": 10000
     },
     "inputWidgets": {},
     "nuid": "1b6dd45b-65f3-4520-83db-58ef7be6572f",
     "showTitle": false,
     "title": ""
    }
   },
   "outputs": [
    {
     "output_type": "stream",
     "name": "stdout",
     "output_type": "stream",
     "text": [
      "MLP 5 Years Data\nfeature length: 1026\n"
     ]
    }
   ],
   "source": [
    "print(\"MLP 5 Years Data\")\n",
    "keep_list = ['final_features', 'DEP_DEL15']\n",
    "train_5yr_balance_mlpmodel = trainMLPModel(transformed_train_5yr_selected)\n",
    "\n",
    "train_5yr_result = train_5yr_balance_mlpmodel.transform(transformed_train_5yr_selected)"
   ]
  },
  {
   "cell_type": "code",
   "execution_count": 0,
   "metadata": {
    "application/vnd.databricks.v1+cell": {
     "cellMetadata": {
      "byteLimit": 2048000,
      "rowLimit": 10000
     },
     "inputWidgets": {},
     "nuid": "f0211f62-9da6-42a6-a72b-291a8f98878f",
     "showTitle": false,
     "title": ""
    }
   },
   "outputs": [
    {
     "output_type": "stream",
     "name": "stderr",
     "output_type": "stream",
     "text": [
      "/databricks/spark/python/pyspark/sql/context.py:165: FutureWarning: Deprecated in 3.0.0. Use SparkSession.builder.getOrCreate() instead.\n  warnings.warn(\n"
     ]
    },
    {
     "output_type": "stream",
     "name": "stdout",
     "output_type": "stream",
     "text": [
      "5 Years Data Train Results\nPrecision: 0.6315\nRecall: 0.6034\nF-1: 0.6171\nF-1 Beta: 0.6257\n"
     ]
    }
   ],
   "source": [
    "balance_acc, balance_pre, balance_recall, balance_f1, balance_f1_b = evaluate_model(train_5yr_result, 0.5)\n",
    "\n",
    "print(\"5 Years Data Train Results\")\n",
    "#print(f\"Accuracy: {balance_acc:.4f}\")\n",
    "print(f\"Precision: {balance_pre:.4f}\")\n",
    "print(f\"Recall: {balance_recall:.4f}\")\n",
    "print(f\"F-1: {balance_f1:.4f}\")\n",
    "print(f\"F-1 Beta: {balance_f1_b:.4f}\")"
   ]
  },
  {
   "cell_type": "code",
   "execution_count": 0,
   "metadata": {
    "application/vnd.databricks.v1+cell": {
     "cellMetadata": {
      "byteLimit": 2048000,
      "rowLimit": 10000
     },
     "inputWidgets": {},
     "nuid": "c8094838-c6b8-436a-8f74-1a094f5dd646",
     "showTitle": false,
     "title": ""
    }
   },
   "outputs": [
    {
     "output_type": "execute_result",
     "data": {
      "text/plain": [
       "DataFrame[summary: string, QUARTER: string, DAY_OF_MONTH: string, DAY_OF_WEEK: string, OP_UNIQUE_CARRIER: string, OP_CARRIER_AIRLINE_ID: string, OP_CARRIER: string, TAIL_NUM: string, OP_CARRIER_FL_NUM: string, ORIGIN_AIRPORT_ID: string, ORIGIN_AIRPORT_SEQ_ID: string, ORIGIN_CITY_MARKET_ID: string, ORIGIN: string, ORIGIN_CITY_NAME: string, ORIGIN_STATE_ABR: string, ORIGIN_STATE_FIPS: string, ORIGIN_STATE_NM: string, ORIGIN_WAC: string, DEST_AIRPORT_ID: string, DEST_AIRPORT_SEQ_ID: string, DEST_CITY_MARKET_ID: string, DEST: string, DEST_CITY_NAME: string, DEST_STATE_ABR: string, DEST_STATE_FIPS: string, DEST_STATE_NM: string, DEST_WAC: string, CRS_DEP_TIME: string, DEP_TIME: string, DEP_DELAY: string, DEP_DELAY_NEW: string, DEP_DEL15: string, DEP_DELAY_GROUP: string, DEP_TIME_BLK: string, TAXI_OUT: string, WHEELS_OFF: string, WHEELS_ON: string, TAXI_IN: string, CRS_ARR_TIME: string, ARR_TIME: string, ARR_DELAY: string, ARR_DELAY_NEW: string, ARR_DEL15: string, ARR_DELAY_GROUP: string, ARR_TIME_BLK: string, CANCELLED: string, CANCELLATION_CODE: string, DIVERTED: string, CRS_ELAPSED_TIME: string, ACTUAL_ELAPSED_TIME: string, AIR_TIME: string, FLIGHTS: string, DISTANCE: string, DISTANCE_GROUP: string, CARRIER_DELAY: string, WEATHER_DELAY: string, NAS_DELAY: string, SECURITY_DELAY: string, LATE_AIRCRAFT_DELAY: string, FIRST_DEP_TIME: string, TOTAL_ADD_GTIME: string, LONGEST_ADD_GTIME: string, YEAR: string, MONTH: string, origin_airport_name: string, origin_station_name: string, origin_station_id: string, origin_iata_code: string, origin_icao: string, origin_type: string, origin_region: string, origin_station_lat: string, origin_station_lon: string, origin_airport_lat: string, origin_airport_lon: string, origin_station_dis: string, dest_airport_name: string, dest_station_name: string, dest_station_id: string, dest_iata_code: string, dest_icao: string, dest_type: string, dest_region: string, dest_station_lat: string, dest_station_lon: string, dest_airport_lat: string, dest_airport_lon: string, dest_station_dis: string, STATION: string, LATITUDE: string, LONGITUDE: string, ELEVATION: string, NAME: string, REPORT_TYPE: string, SOURCE: string, HourlyAltimeterSetting: string, HourlyDewPointTemperature: string, HourlyDryBulbTemperature: string, HourlyPrecipitation: string, HourlyPresentWeatherType: string, HourlyPressureChange: string, HourlyPressureTendency: string, HourlyRelativeHumidity: string, HourlySkyConditions: string, HourlySeaLevelPressure: string, HourlyStationPressure: string, HourlyVisibility: string, HourlyWetBulbTemperature: string, HourlyWindDirection: string, HourlyWindGustSpeed: string, HourlyWindSpeed: string, Sunrise: string, Sunset: string, DailyAverageDewPointTemperature: string, DailyAverageDryBulbTemperature: string, DailyAverageRelativeHumidity: string, DailyAverageSeaLevelPressure: string, DailyAverageStationPressure: string, DailyAverageWetBulbTemperature: string, DailyAverageWindSpeed: string, DailyCoolingDegreeDays: string, DailyDepartureFromNormalAverageTemperature: string, DailyHeatingDegreeDays: string, DailyMaximumDryBulbTemperature: string, DailyMinimumDryBulbTemperature: string, DailyPeakWindDirection: string, DailyPeakWindSpeed: string, DailyPrecipitation: string, DailySnowDepth: string, DailySnowfall: string, DailySustainedWindDirection: string, DailySustainedWindSpeed: string, DailyWeather: string, MonthlyAverageRH: string, MonthlyDaysWithGT001Precip: string, MonthlyDaysWithGT010Precip: string, MonthlyDaysWithGT32Temp: string, MonthlyDaysWithGT90Temp: string, MonthlyDaysWithLT0Temp: string, MonthlyDaysWithLT32Temp: string, MonthlyDepartureFromNormalAverageTemperature: string, MonthlyDepartureFromNormalCoolingDegreeDays: string, MonthlyDepartureFromNormalHeatingDegreeDays: string, MonthlyDepartureFromNormalMaximumTemperature: string, MonthlyDepartureFromNormalMinimumTemperature: string, MonthlyDepartureFromNormalPrecipitation: string, MonthlyDewpointTemperature: string, MonthlyGreatestPrecip: string, MonthlyGreatestPrecipDate: string, MonthlyGreatestSnowDepth: string, MonthlyGreatestSnowDepthDate: string, MonthlyGreatestSnowfall: string, MonthlyGreatestSnowfallDate: string, MonthlyMaxSeaLevelPressureValue: string, MonthlyMaxSeaLevelPressureValueDate: string, MonthlyMaxSeaLevelPressureValueTime: string, MonthlyMaximumTemperature: string, MonthlyMeanTemperature: string, MonthlyMinSeaLevelPressureValue: string, MonthlyMinSeaLevelPressureValueDate: string, MonthlyMinSeaLevelPressureValueTime: string, MonthlyMinimumTemperature: string, MonthlySeaLevelPressure: string, MonthlyStationPressure: string, MonthlyTotalLiquidPrecipitation: string, MonthlyTotalSnowfall: string, MonthlyWetBulb: string, AWND: string, CDSD: string, CLDD: string, DSNW: string, HDSD: string, HTDD: string, NormalsCoolingDegreeDay: string, NormalsHeatingDegreeDay: string, ShortDurationEndDate005: string, ShortDurationEndDate010: string, ShortDurationEndDate015: string, ShortDurationEndDate020: string, ShortDurationEndDate030: string, ShortDurationEndDate045: string, ShortDurationEndDate060: string, ShortDurationEndDate080: string, ShortDurationEndDate100: string, ShortDurationEndDate120: string, ShortDurationEndDate150: string, ShortDurationEndDate180: string, ShortDurationPrecipitationValue005: string, ShortDurationPrecipitationValue010: string, ShortDurationPrecipitationValue015: string, ShortDurationPrecipitationValue020: string, ShortDurationPrecipitationValue030: string, ShortDurationPrecipitationValue045: string, ShortDurationPrecipitationValue060: string, ShortDurationPrecipitationValue080: string, ShortDurationPrecipitationValue100: string, ShortDurationPrecipitationValue120: string, ShortDurationPrecipitationValue150: string, ShortDurationPrecipitationValue180: string, REM: string, in_holiday_window: string, time_of_day_category: string, pagerank: string, skyConditions_00: string, skyConditions_01: string, skyConditions_02: string, skyConditions_03: string, skyConditions_04: string, skyConditions_05: string, skyConditions_06: string, skyConditions_07: string, skyConditions_08: string, skyConditions_09: string, skyConditions_10: string, skyConditions_11: string, skyConditions_12: string, skyConditions_13: string, skyConditions_14: string, skyConditions_15: string, skyConditions_16: string, skyConditions_17: string, skyConditions_18: string, skyConditions_19: string, weatherType_FG: string, weatherType_TS: string, weatherType_PL: string, weatherType_GR: string, weatherType_GL: string, weatherType_DU: string, weatherType_HZ: string, weatherType_BLSN: string, weatherType_FC: string, weatherType_WIND: string, weatherType_BLPY: string, weatherType_BR: string, weatherType_DZ: string, weatherType_FZDZ: string, weatherType_RA: string, weatherType_FZRA: string, weatherType_SN: string, weatherType_UP: string, weatherType_MIFG: string, weatherType_FZFG: string, HourlyPressureTendency_Index: string, HourlyWindDirection_Index: string, DAY_OF_WEEK_Index: string, MONTH_Index: string, origin_icao_Index: string, ORIGIN_STATE_ABR_Index: string, dest_icao_Index: string, DEST_STATE_ABR_Index: string, time_of_day_category_Index: string, prediction: string]"
      ]
     },
     "execution_count": 35,
     "metadata": {},
     "output_type": "execute_result"
    }
   ],
   "source": [
    "train_5yr_result.summary()"
   ]
  },
  {
   "cell_type": "code",
   "execution_count": 0,
   "metadata": {
    "application/vnd.databricks.v1+cell": {
     "cellMetadata": {
      "byteLimit": 2048000,
      "rowLimit": 10000
     },
     "inputWidgets": {},
     "nuid": "a42b639e-f865-447c-a59d-98db21c2ba14",
     "showTitle": false,
     "title": ""
    }
   },
   "outputs": [
    {
     "output_type": "stream",
     "name": "stdout",
     "output_type": "stream",
     "text": [
      "5 Years Data Test Results\nPrecision: 0.2818\nRecall: 0.5918\nF-1: 0.3818\nF-1 Beta: 0.3148\n"
     ]
    }
   ],
   "source": [
    "test_5yr_result = train_5yr_balance_mlpmodel.transform(transformed_test_5yr_selected)\n",
    "\n",
    "balance_acc, balance_pre, balance_recall, balance_f1, balance_f1_b = evaluate_model(test_5yr_result, 0.5)\n",
    "\n",
    "print(\"5 Years Data Test Results\")\n",
    "#print(f\"Accuracy: {balance_acc:.4f}\")\n",
    "print(f\"Precision: {balance_pre:.4f}\")\n",
    "print(f\"Recall: {balance_recall:.4f}\")\n",
    "print(f\"F-1: {balance_f1:.4f}\")\n",
    "print(f\"F-1 Beta: {balance_f1_b:.4f}\")"
   ]
  },
  {
   "cell_type": "code",
   "execution_count": 0,
   "metadata": {
    "application/vnd.databricks.v1+cell": {
     "cellMetadata": {
      "byteLimit": 2048000,
      "rowLimit": 10000
     },
     "inputWidgets": {},
     "nuid": "7ad51e16-7689-4c12-bb6b-0b69f514460a",
     "showTitle": false,
     "title": ""
    }
   },
   "outputs": [
    {
     "output_type": "stream",
     "name": "stdout",
     "output_type": "stream",
     "text": [
      "5 Years Data Results\nTrain f1 = 0.6254824905236205\nTest f1 = 0.6731938906167972\nTrain weightedPrecision = 0.6259163647769693\nTest weightedPrecision = 0.7587891763188005\nTrain weightedRecall = 0.6256688499232304\nTest weightedRecall = 0.6355498178457295\nTrain accuracy = 0.6256688499232304\nTest accuracy = 0.6355498178457295\n"
     ]
    }
   ],
   "source": [
    "print(\"5 Years Data Results\")\n",
    "metrics = ['f1', 'weightedPrecision', 'weightedRecall', 'accuracy']\n",
    "\n",
    "for metric in metrics:\n",
    "    evaluator = MulticlassClassificationEvaluator(labelCol = 'DEP_DEL15', predictionCol = 'prediction', metricName = metric, beta = 0.5)\n",
    "    print('Train ' + metric + ' = ' + str(evaluator.evaluate(train_5yr_result)))\n",
    "    print('Test ' + metric + ' = ' + str(evaluator.evaluate(test_5yr_result)))"
   ]
  },
  {
   "cell_type": "markdown",
   "metadata": {
    "application/vnd.databricks.v1+cell": {
     "cellMetadata": {},
     "inputWidgets": {},
     "nuid": "6cf820e0-c49e-48b2-9b59-d9a7829a08b4",
     "showTitle": false,
     "title": ""
    }
   },
   "source": [
    "#MLP ARCH 2 TESTING [NUM, NUM*2, NUM, 2]"
   ]
  },
  {
   "cell_type": "code",
   "execution_count": 0,
   "metadata": {
    "application/vnd.databricks.v1+cell": {
     "cellMetadata": {
      "byteLimit": 2048000,
      "rowLimit": 10000
     },
     "inputWidgets": {},
     "nuid": "ba18a1b6-b4df-474e-8ad2-a80dfe32ca90",
     "showTitle": false,
     "title": ""
    }
   },
   "outputs": [],
   "source": [
    "from pyspark.ml.classification import MultilayerPerceptronClassifier\n",
    "from pyspark.ml.evaluation import BinaryClassificationEvaluator\n",
    "from pyspark.sql.types import IntegerType \n",
    "\n",
    "def trainMLPModel2(df, iterations= 10):\n",
    "    '''\n",
    "    takes the traindf and produces a multilayered perceptron model\n",
    "    '''\n",
    "    feature_len = len(df.select('final_features').limit(1).collect()[0][0])\n",
    "    print(\"feature length: \" + str(feature_len))\n",
    "\n",
    "    layers = [feature_len, feature_len*2, feature_len, 2]\n",
    "    mlp = MultilayerPerceptronClassifier(featuresCol = 'final_features' , labelCol = 'DEP_DEL15', maxIter=100, layers=layers, seed=1234)\n",
    "    mlpModel = mlp.fit(df)\n",
    "\n",
    "    return mlpModel"
   ]
  },
  {
   "cell_type": "markdown",
   "metadata": {
    "application/vnd.databricks.v1+cell": {
     "cellMetadata": {},
     "inputWidgets": {},
     "nuid": "bbb234f2-a06a-4388-bd9c-4e9a21857c0c",
     "showTitle": false,
     "title": ""
    }
   },
   "source": [
    "###3 MONTH"
   ]
  },
  {
   "cell_type": "code",
   "execution_count": 0,
   "metadata": {
    "application/vnd.databricks.v1+cell": {
     "cellMetadata": {},
     "inputWidgets": {},
     "nuid": "59ef3f71-9e10-4f8a-a067-902683f46a88",
     "showTitle": false,
     "title": ""
    }
   },
   "outputs": [],
   "source": [
    "keep_list = ['final_features', 'DEP_DEL15']\n",
    "transformed_train_quarter_selected, transformed_pipeline_quarter_selected = create_pipeline_w_feature_select(train_quarter)\n",
    "transformed_test_quarter_selected = transformed_pipeline_quarter_selected.transform(test_quarter)\n",
    "\n",
    "transformed_train_quarter_selected = transformed_train_quarter_selected.select(*keep_list)\n",
    "transformed_test_quarter_selected = transformed_test_quarter_selected.select(*keep_list)"
   ]
  },
  {
   "cell_type": "code",
   "execution_count": 0,
   "metadata": {
    "application/vnd.databricks.v1+cell": {
     "cellMetadata": {},
     "inputWidgets": {},
     "nuid": "7707a82d-0fa4-4150-814c-d559caf3f0cb",
     "showTitle": false,
     "title": ""
    }
   },
   "outputs": [],
   "source": [
    "#TRAIN\n",
    "print(\"MLP 3 Month Data\")\n",
    "train_quarter_balance_mlpmodel = trainMLPModel(transformed_train_quarter_selected)\n",
    "\n",
    "train_result = train_quarter_balance_mlpmodel.transform(transformed_train_quarter_selected)\n",
    "\n",
    "balance_acc, balance_pre, balance_recall, balance_f1, balance_f1_b = evaluate_model(train_result, 1.0)\n",
    "\n",
    "print(\"3 Month Data Train Results\")\n",
    "#print(f\"Accuracy: {balance_acc:.4f}\")\n",
    "print(f\"Precision: {balance_pre:.4f}\")\n",
    "print(f\"Recall: {balance_recall:.4f}\")\n",
    "print(f\"F-1: {balance_f1:.4f}\")\n",
    "print(f\"F-1 Beta: {balance_f1_b:.4f}\")"
   ]
  },
  {
   "cell_type": "code",
   "execution_count": 0,
   "metadata": {
    "application/vnd.databricks.v1+cell": {
     "cellMetadata": {},
     "inputWidgets": {},
     "nuid": "5864b94a-c072-44f0-abee-3b81b5e22db0",
     "showTitle": false,
     "title": ""
    }
   },
   "outputs": [],
   "source": [
    "#TEST\n",
    "test_result = train_quarter_balance_mlpmodel.transform(transformed_test_quarter_selected)\n",
    "\n",
    "balance_acc, balance_pre, balance_recall, balance_f1, balance_f1_b = evaluate_model(test_result, 1.0)\n",
    "\n",
    "print(\"3 Month Data Test Results\")\n",
    "#print(f\"Accuracy: {balance_acc:.4f}\")\n",
    "print(f\"Precision: {balance_pre:.4f}\")\n",
    "print(f\"Recall: {balance_recall:.4f}\")\n",
    "print(f\"F-1: {balance_f1:.4f}\")\n",
    "print(f\"F-1 Beta: {balance_f1_b:.4f}\")"
   ]
  },
  {
   "cell_type": "code",
   "execution_count": 0,
   "metadata": {
    "application/vnd.databricks.v1+cell": {
     "cellMetadata": {},
     "inputWidgets": {},
     "nuid": "071d21d7-a4fc-49ab-a039-967434fdca3c",
     "showTitle": false,
     "title": ""
    }
   },
   "outputs": [],
   "source": [
    "from pyspark.ml.evaluation import MulticlassClassificationEvaluator\n",
    "\n",
    "metrics = ['f1', 'weightedPrecision', 'weightedRecall', 'accuracy']\n",
    "\n",
    "for metric in metrics:\n",
    "        evaluator = MulticlassClassificationEvaluator(labelCol = 'DEP_DEL15', predictionCol = 'prediction', metricName = metric, beta = 1.0)\n",
    "        print('Train ' + metric + ' = ' + str(evaluator.evaluate(train_result)))\n",
    "        print('Test ' + metric + ' = ' + str(evaluator.evaluate(test_result)))"
   ]
  },
  {
   "cell_type": "markdown",
   "metadata": {
    "application/vnd.databricks.v1+cell": {
     "cellMetadata": {},
     "inputWidgets": {},
     "nuid": "77845f19-0cba-41fe-b3cb-94199607f8a4",
     "showTitle": false,
     "title": ""
    }
   },
   "source": [
    "### 1 YR"
   ]
  },
  {
   "cell_type": "code",
   "execution_count": 0,
   "metadata": {
    "application/vnd.databricks.v1+cell": {
     "cellMetadata": {},
     "inputWidgets": {},
     "nuid": "8bd1ff9d-7432-4f1b-9420-23dd25ba7bc1",
     "showTitle": false,
     "title": ""
    }
   },
   "outputs": [],
   "source": [
    "transformed_train_1yr_selected, transformed_pipeline_1yr_selected = create_pipeline_w_feature_select(train_1yr)\n",
    "transformed_test_1yr_selected = transformed_pipeline_1yr_selected.transform(test_1yr)\n",
    "\n",
    "transformed_train_1yr_selected = transformed_train_1yr_selected.select(*keep_list)\n",
    "transformed_test_1yr_selected = transformed_test_1yr_selected.select(*keep_list)"
   ]
  },
  {
   "cell_type": "code",
   "execution_count": 0,
   "metadata": {
    "application/vnd.databricks.v1+cell": {
     "cellMetadata": {},
     "inputWidgets": {},
     "nuid": "af662486-06e9-4183-8a09-066730765938",
     "showTitle": false,
     "title": ""
    }
   },
   "outputs": [],
   "source": [
    "#TRAIN\n",
    "print(\"MLP 1 Year Data\")\n",
    "train_1yr_balance_mlpmodel = trainMLPModel(transformed_train_1yr_selected)\n",
    "\n",
    "train_1yr_result = train_1yr_balance_mlpmodel.transform(transformed_train_1yr_selected)\n",
    "\n",
    "balance_acc, balance_pre, balance_recall, balance_f1, balance_f1_b = evaluate_model(train_1yr_result, 1.0)\n",
    "\n",
    "print(\"1 Year Data Train Results\")\n",
    "#print(f\"Accuracy: {balance_acc:.4f}\")\n",
    "print(f\"Precision: {balance_pre:.4f}\")\n",
    "print(f\"Recall: {balance_recall:.4f}\")\n",
    "print(f\"F-1: {balance_f1:.4f}\")\n",
    "print(f\"F-1 Beta: {balance_f1_b:.4f}\")"
   ]
  },
  {
   "cell_type": "code",
   "execution_count": 0,
   "metadata": {
    "application/vnd.databricks.v1+cell": {
     "cellMetadata": {},
     "inputWidgets": {},
     "nuid": "553ca7df-9648-4cc0-846a-c4203d5fbb49",
     "showTitle": false,
     "title": ""
    }
   },
   "outputs": [],
   "source": [
    "#TEST\n",
    "test_1yr_result = train_1yr_balance_mlpmodel.transform(transformed_test_1yr_selected)\n",
    "\n",
    "balance_acc, balance_pre, balance_recall, balance_f1, balance_f1_b = evaluate_model(test_1yr_result, 1.0)\n",
    "\n",
    "print(\"1 Year Data Test Results\")\n",
    "#print(f\"Accuracy: {balance_acc:.4f}\")\n",
    "print(f\"Precision: {balance_pre:.4f}\")\n",
    "print(f\"Recall: {balance_recall:.4f}\")\n",
    "print(f\"F-1: {balance_f1:.4f}\")\n",
    "print(f\"F-1 Beta: {balance_f1_b:.4f}\")"
   ]
  },
  {
   "cell_type": "code",
   "execution_count": 0,
   "metadata": {
    "application/vnd.databricks.v1+cell": {
     "cellMetadata": {},
     "inputWidgets": {},
     "nuid": "b841e55b-bcb5-4075-8da7-7be42834f2d2",
     "showTitle": false,
     "title": ""
    }
   },
   "outputs": [],
   "source": [
    "print(\"1 Year Data Results\")\n",
    "for metric in metrics:\n",
    "    evaluator = MulticlassClassificationEvaluator(labelCol = 'DEP_DEL15', predictionCol = 'prediction', metricName = metric, beta = 1.0)\n",
    "    print('Train ' + metric + ' = ' + str(evaluator.evaluate(train_1yr_result)))\n",
    "    print('Test ' + metric + ' = ' + str(evaluator.evaluate(test_1yr_result)))"
   ]
  },
  {
   "cell_type": "markdown",
   "metadata": {
    "application/vnd.databricks.v1+cell": {
     "cellMetadata": {},
     "inputWidgets": {},
     "nuid": "dd76534c-e953-4bc2-92aa-a45ceaeb4ab7",
     "showTitle": false,
     "title": ""
    }
   },
   "source": [
    "### 3 YEARS"
   ]
  },
  {
   "cell_type": "code",
   "execution_count": 0,
   "metadata": {
    "application/vnd.databricks.v1+cell": {
     "cellMetadata": {},
     "inputWidgets": {},
     "nuid": "b4f4055c-e4ef-4bba-bbc6-4f193500f16c",
     "showTitle": false,
     "title": ""
    }
   },
   "outputs": [],
   "source": [
    "transformed_train_3yr_selected, transformed_pipeline_3yr_selected = create_pipeline_w_feature_select(train_3yr)\n",
    "transformed_test_3yr_selected = transformed_pipeline_3yr_selected.transform(test_3yr)\n",
    "\n",
    "transformed_train_3yr_selected = transformed_train_3yr_selected.select(*keep_list)\n",
    "transformed_test_3yr_selected = transformed_test_3yr_selected.select(*keep_list)"
   ]
  },
  {
   "cell_type": "code",
   "execution_count": 0,
   "metadata": {
    "application/vnd.databricks.v1+cell": {
     "cellMetadata": {},
     "inputWidgets": {},
     "nuid": "fdcb18f9-1957-4cae-bfa0-c9ef2fa7167c",
     "showTitle": false,
     "title": ""
    }
   },
   "outputs": [],
   "source": [
    "#TRAIN\n",
    "print(\"MLP 3 Years Data\")\n",
    "train_3yr_balance_mlpmodel = trainMLPModel(transformed_train_3yr_selected)\n",
    "\n",
    "train_3yr_result = train_3yr_balance_mlpmodel.transform(transformed_train_3yr_selected)\n",
    "\n",
    "balance_acc, balance_pre, balance_recall, balance_f1, balance_f1_b = evaluate_model(train_3yr_result, 1.0)\n",
    "\n",
    "print(\"3 Years Data Train Results\")\n",
    "#print(f\"Accuracy: {balance_acc:.4f}\")\n",
    "print(f\"Precision: {balance_pre:.4f}\")\n",
    "print(f\"Recall: {balance_recall:.4f}\")\n",
    "print(f\"F-1: {balance_f1:.4f}\")\n",
    "print(f\"F-1 Beta: {balance_f1_b:.4f}\")"
   ]
  },
  {
   "cell_type": "code",
   "execution_count": 0,
   "metadata": {
    "application/vnd.databricks.v1+cell": {
     "cellMetadata": {},
     "inputWidgets": {},
     "nuid": "ea2ea9aa-30e9-4323-8590-4ea9aa464d49",
     "showTitle": false,
     "title": ""
    }
   },
   "outputs": [],
   "source": [
    "#TEST\n",
    "test_3yr_result = train_3yr_balance_mlpmodel.transform(transformed_test_3yr_selected)\n",
    "\n",
    "balance_acc, balance_pre, balance_recall, balance_f1, balance_f1_b = evaluate_model(test_3yr_result, 1.0)\n",
    "\n",
    "print(\"3 Years Data Test Results\")\n",
    "#print(f\"Accuracy: {balance_acc:.4f}\")\n",
    "print(f\"Precision: {balance_pre:.4f}\")\n",
    "print(f\"Recall: {balance_recall:.4f}\")\n",
    "print(f\"F-1: {balance_f1:.4f}\")\n",
    "print(f\"F-1 Beta: {balance_f1_b:.4f}\")"
   ]
  },
  {
   "cell_type": "code",
   "execution_count": 0,
   "metadata": {
    "application/vnd.databricks.v1+cell": {
     "cellMetadata": {},
     "inputWidgets": {},
     "nuid": "30c8435f-2fe4-42c3-b431-4757cfba5862",
     "showTitle": false,
     "title": ""
    }
   },
   "outputs": [],
   "source": [
    "#TOTAL RESULTS\n",
    "print(\"3 Years Data Results\")\n",
    "for metric in metrics:\n",
    "    evaluator = MulticlassClassificationEvaluator(labelCol = 'DEP_DEL15', predictionCol = 'prediction', metricName = metric, beta = 1.0)\n",
    "    print('Train ' + metric + ' = ' + str(evaluator.evaluate(train_3yr_result)))\n",
    "    print('Test ' + metric + ' = ' + str(evaluator.evaluate(test_3yr_result)))"
   ]
  },
  {
   "cell_type": "markdown",
   "metadata": {
    "application/vnd.databricks.v1+cell": {
     "cellMetadata": {},
     "inputWidgets": {},
     "nuid": "4fd65cd2-d5fc-436a-ae0c-b5e6509637eb",
     "showTitle": false,
     "title": ""
    }
   },
   "source": [
    "### 5 YEARS"
   ]
  },
  {
   "cell_type": "code",
   "execution_count": 0,
   "metadata": {
    "application/vnd.databricks.v1+cell": {
     "cellMetadata": {},
     "inputWidgets": {},
     "nuid": "a34fc1bb-de5d-42fd-9287-75df2f7dac8a",
     "showTitle": false,
     "title": ""
    }
   },
   "outputs": [],
   "source": [
    "transformed_train_5yr_selected, transformed_pipeline_5yr_selected = create_pipeline_w_feature_select(train_5yr)\n",
    "transformed_test_5yr_selected = transformed_pipeline_5yr_selected.transform(test_5yr)\n",
    "\n",
    "transformed_train_5yr_selected = transformed_train_5yr_selected.select(*keep_list)\n",
    "transformed_test_5yr_selected = transformed_test_5yr_selected.select(*keep_list)"
   ]
  },
  {
   "cell_type": "code",
   "execution_count": 0,
   "metadata": {
    "application/vnd.databricks.v1+cell": {
     "cellMetadata": {
      "byteLimit": 2048000,
      "rowLimit": 10000
     },
     "inputWidgets": {},
     "nuid": "c90d1a31-5953-4058-bbe8-d8b1a8f09f23",
     "showTitle": false,
     "title": ""
    }
   },
   "outputs": [
    {
     "output_type": "stream",
     "name": "stdout",
     "output_type": "stream",
     "text": [
      "MLP 5 Years Data\nfeature length: 1024\n"
     ]
    },
    {
     "output_type": "stream",
     "name": "stderr",
     "output_type": "stream",
     "text": [
      "/databricks/spark/python/pyspark/sql/context.py:165: FutureWarning: Deprecated in 3.0.0. Use SparkSession.builder.getOrCreate() instead.\n  warnings.warn(\n"
     ]
    },
    {
     "output_type": "stream",
     "name": "stdout",
     "output_type": "stream",
     "text": [
      "5 Years Data Train Results\nPrecision: 0.6302\nRecall: 0.6193\nF-1: 0.6247\nF-1 Beta: 0.6280\n"
     ]
    }
   ],
   "source": [
    "#TRAIN\n",
    "print(\"MLP 5 Years Data\")\n",
    "train_5yr_balance_mlpmodel = trainMLPModel(transformed_train_5yr_selected)\n",
    "\n",
    "train_5yr_result = train_5yr_balance_mlpmodel.transform(transformed_train_5yr_selected)\n",
    "\n",
    "balance_acc, balance_pre, balance_recall, balance_f1, balance_f1_b = evaluate_model(train_5yr_result, 0.5)\n",
    "\n",
    "print(\"5 Years Data Train Results\")\n",
    "#print(f\"Accuracy: {balance_acc:.4f}\")\n",
    "print(f\"Precision: {balance_pre:.4f}\")\n",
    "print(f\"Recall: {balance_recall:.4f}\")\n",
    "print(f\"F-1: {balance_f1:.4f}\")\n",
    "print(f\"F-1 Beta: {balance_f1_b:.4f}\")"
   ]
  },
  {
   "cell_type": "code",
   "execution_count": 0,
   "metadata": {
    "application/vnd.databricks.v1+cell": {
     "cellMetadata": {
      "byteLimit": 2048000,
      "rowLimit": 10000
     },
     "inputWidgets": {},
     "nuid": "d5245d99-99e5-4487-b2ce-c8c80485ccf9",
     "showTitle": false,
     "title": ""
    }
   },
   "outputs": [
    {
     "output_type": "stream",
     "name": "stdout",
     "output_type": "stream",
     "text": [
      "5 Years Data Test Results\nPrecision: 0.2808\nRecall: 0.6033\nF-1: 0.3832\nF-1 Beta: 0.3144\n"
     ]
    }
   ],
   "source": [
    "#TEST\n",
    "test_5yr_result = train_5yr_balance_mlpmodel.transform(transformed_test_5yr_selected)\n",
    "\n",
    "balance_acc, balance_pre, balance_recall, balance_f1, balance_f1_b = evaluate_model(test_5yr_result, 0.5)\n",
    "\n",
    "print(\"5 Years Data Test Results\")\n",
    "#print(f\"Accuracy: {balance_acc:.4f}\")\n",
    "print(f\"Precision: {balance_pre:.4f}\")\n",
    "print(f\"Recall: {balance_recall:.4f}\")\n",
    "print(f\"F-1: {balance_f1:.4f}\")\n",
    "print(f\"F-1 Beta: {balance_f1_b:.4f}\")"
   ]
  }
 ],
 "metadata": {
  "application/vnd.databricks.v1+notebook": {
   "dashboards": [],
   "environmentMetadata": null,
   "language": "python",
   "notebookMetadata": {
    "pythonIndentUnit": 4
   },
   "notebookName": "Team 4_1 Phase 3",
   "widgets": {}
  }
 },
 "nbformat": 4,
 "nbformat_minor": 0
}
